{
 "cells": [
  {
   "cell_type": "markdown",
   "id": "70eda0d3-e136-4802-bf80-486cdb2249f0",
   "metadata": {},
   "source": [
    "# ASE Calculator\n",
    "\n",
    "In the previous section, we learned the basics about ASE Atoms and how to generate structures.\n",
    "\n",
    "In this section, we will learn how to handle `Calculator`, which is necessary for physical simulations.\n",
    "\n",
    " - https://wiki.fysik.dtu.dk/ase/ase/calculators/calculators.html\n",
    "\n",
    "## Energy\n",
    "\n",
    "The total energy $E$ of the system is expressed in terms of the kinetic energy $K$ and the potential energy $V$.\n",
    "\n",
    "$$ E = K + V $$\n",
    "\n",
    "Of these, the kinetic energy $K$ of atoms can be calculated as follows, from classical mechanics.\n",
    "\n",
    "$$ K = \\sum_{i=1}^{N} \\frac{1}{2} m_i {\\mathbf{v}}_i^2 = \\sum_{i=1}^{N} \\frac{{\\mathbf{p}}_i^2}{2 m_i}  $$\n",
    "\n",
    "where $m_i, \\mathbf{v}_i, \\mathbf{p}_i$ are the mass, velocity and momentum ($\\mathbf{p}=m\\mathbf{v}$) of each atom, respectively.\n",
    "\n",
    "Those in bold represent vectors, where the velocity $\\mathbf{v}$ and momentum $\\mathbf{p}$ have three components in xyz coordinates.\n",
    "\n",
    "On the other hand, the potential energy $V$ is not easy to obtain exactly because it requires solving equations derived from quantum mechanics (e.g., Schrödinger equation, see column). <br/>\n",
    "There are various methods for determining potential energy, ranging from classical force fields, which is fast but limited in its applicability, to quantum chemical calculations such as the density functional theory (DFT), which takes longer but is more accurate (The differences between these methods are discussed below).\n",
    "\n",
    "So why do we want to know about energy in the first place? \n",
    "In another word, what can we learn from energy? \n",
    "\n",
    "First, we can know the **stable structure** of a substance, which is not self-evident in nature (as explained in chapter 2).\n",
    "By looking at the low and high energies, we can analyze whether the structure is realized in nature or not.\n",
    "\n",
    "Second, we can learn **how each atom moves**. This will be explained in the next section."
   ]
  },
  {
   "cell_type": "markdown",
   "id": "485b426a-880d-4390-9356-6a921fa690c2",
   "metadata": {},
   "source": [
    "## Force\n",
    "\n",
    "In classical mechanics, Newton's equations of motion are expressed as follows\n",
    "\n",
    "$$\\mathbf{F} = m\\mathbf{a}$$\n",
    "\n",
    "This equation represents that given a force $\\mathbf{F}$, we know the acceleration $\\mathbf{a}$ applied to the system. <br/>\n",
    "\n",
    "The position $\\mathbf{r}$, velocity $\\mathbf{v}$, and acceleration $\\mathbf{a}$ of each atom are related as follows.\n",
    "\n",
    "$$\\mathbf{v} = \\frac{d\\mathbf{r}}{dt}$$\n",
    "$$\\mathbf{a} = \\frac{d\\mathbf{v}}{dt} = \\frac{d^2\\mathbf{r}}{dt^2}$$\n",
    "\n",
    "Therefore, when we know the force, we know the acceleration (= how the velocity changes), and as a result, we know how the position evolves over time. <br/>\n",
    "MD (Molecular Dynamics), which actually deals with time evolution in this way, is covered in chapter 6.\n",
    "\n",
    "The forces can be expressed as the derivative of the potential energy with resprect to positions.\n",
    "\n",
    "$$\\mathbf{F} = -\\frac{\\partial V}{\\partial \\mathbf{r}} $$\n",
    "\n",
    "\n",
    "In summary, <b>the force $\\mathbf{F}$, required to know the time evolution $\\mathbf{r}(t)$ of the system, can be calculated if the potential energy $V\\mathbf(r)$ is known</b>.\n",
    "\n",
    "[Note] For the sake of simplicity, this tutorial has been explained using only knowledge of [classical mechanics](https://en.wikipedia.org/wiki/Classical_mechanics). <br/>\n",
    "For those who have studied [analytical mechanics](https://en.wikipedia.org/wiki/Analytical_mechanics#Hamiltonian_mechanics), the governing equations are defined by the Hamiltonian.\n",
    "Knowing the Hamiltonian (the function related to the energy mentioned above) allows us to describe the time evolution of the system."
   ]
  },
  {
   "cell_type": "markdown",
   "id": "18cf5c81-1df3-48f7-9153-0633201255bc",
   "metadata": {},
   "source": [
    "## Calculator class\n",
    "\n",
    "We have explained that once the potential energy $V(\\mathbf{r})$ is determined, we know the governing equations of system, that is, how the atoms move in this world.\n",
    "\n",
    "In ASE, **the Calculator class is in charge of calculating the potential energy, and the calculation method can be switched by switching Calculator. **"
   ]
  },
  {
   "cell_type": "markdown",
   "id": "fb85550d-86ce-4597-9b4c-96d4abe8c83d",
   "metadata": {},
   "source": [
    "Let's look at one example. <br/>\n",
    "The following is a calculation of each energy of H2 using the PFP calcultor provided by Matlantis.\n",
    "\n",
    "The detailed usage is described later, but you can calculate each energy by setting Calculator for `atoms.calc`.\n",
    "In this example, we use below methods to calculate each energy.\n",
    "\n",
    "- Total energy $E$: `atoms.get_total_energy()`\n",
    "- Potential energy $V$: `atoms.get_potential_energy()`\n",
    "- Kinetic energy $K$: `atoms.get_kinetic_energy()`"
   ]
  },
  {
   "cell_type": "code",
   "execution_count": 1,
   "id": "dd227b73-0818-422a-b2a3-9baf457efb7e",
   "metadata": {},
   "outputs": [],
   "source": [
    "from ase import Atoms\n",
    "\n",
    "import pfp_api_client\n",
    "from pfp_api_client.pfp.calculators.ase_calculator import ASECalculator\n",
    "from pfp_api_client.pfp.estimator import Estimator, EstimatorCalcMode\n",
    "\n",
    "\n",
    "# print(f\"pfp_api_client: {pfp_api_client.__version__}\")\n",
    "\n",
    "estimator = Estimator()\n",
    "calculator = ASECalculator(estimator)"
   ]
  },
  {
   "cell_type": "code",
   "execution_count": 2,
   "id": "57763d9c-c386-4f68-bc08-8f6650d33c26",
   "metadata": {},
   "outputs": [
    {
     "name": "stdout",
     "output_type": "stream",
     "text": [
      "Total Energy     : -3.808640 eV\n",
      "Kinetic Energy   : 0.009921 eV\n",
      "Potential Energy : -3.818561 eV\n"
     ]
    }
   ],
   "source": [
    "atoms = Atoms(\"H2\", [[0, 0, 0], [1.0, 0, 0]])\n",
    "atoms.set_momenta([[0.1, 0, 0], [-0.1, 0, 0]])\n",
    "atoms.calc = calculator\n",
    "\n",
    "E_tot = atoms.get_total_energy()\n",
    "E_pot = atoms.get_potential_energy()\n",
    "E_kin = atoms.get_kinetic_energy()\n",
    "\n",
    "print(f\"Total Energy     : {E_tot:f} eV\")\n",
    "print(f\"Kinetic Energy   : {E_kin:f} eV\")\n",
    "print(f\"Potential Energy : {E_pot:f} eV\")"
   ]
  },
  {
   "cell_type": "markdown",
   "id": "3a1ce74f-494d-46a8-abc6-763c68476666",
   "metadata": {},
   "source": [
    "Atoms initially have an initial velocity of 0 and kinetic energy of 0, so an appropriate initial velocity is set using the `set_momenta` function.\n",
    "\n",
    "You can see that $ E = K + V $.\n",
    "\n",
    "The Calculator is necessary to calculate the total energy $E$ and potential energy $V$, and without the `atoms.calc = calculator` setting, the calculation cannot be performed and an error will be raised."
   ]
  },
  {
   "cell_type": "markdown",
   "id": "d13238ae-d930-4616-99e1-f393443c2aeb",
   "metadata": {},
   "source": [
    "## Calculator type\n",
    "\n",
    "ASE supports a variety of calculators, from classical force fields to calculators using quantum chamical calculations. Some examples are listed below. <br/>\n",
    "Many other calculators are supported in addition to those listed here. Please check [Supported calculators](https://wiki.fysik.dtu.dk/ase/ase/calculators/calculators.html#supported-calculators) for details.\n",
    "\n",
    "<table>\n",
    "  <tr>\n",
    "    <th>Category</th>\n",
    "    <th>Calculator</th>\n",
    "    <th>ASE embedded</th>\n",
    "    <th>Description</th>\n",
    "  </tr>\n",
    "  <tr>\n",
    "    <td rowspan=\"4\">Classical force field</td>\n",
    "    <td>lj</td>\n",
    "    <td>✓</td>\n",
    "    <td>Lennard-Jones potential</td>\n",
    "  </tr>\n",
    "  <tr>\n",
    "    <td>morse</td>\n",
    "    <td>✓</td>\n",
    "    <td>Morse potential</td>\n",
    "  </tr>\n",
    "  <tr>\n",
    "    <td>emt</td>\n",
    "    <td>✓</td>\n",
    "    <td>Effective Medium Theory calculator</td>\n",
    "  </tr>\n",
    "  <tr>\n",
    "    <td>lammps</td>\n",
    "    <td></td>\n",
    "    <td>Classical molecular dynamics code</td>\n",
    "  </tr>\n",
    "  <tr>\n",
    "    <td rowspan=\"3\">Quantum chemical calculations</td>\n",
    "    <td>gaussian</td>\n",
    "    <td></td>\n",
    "    <td>Gaussian based electronic structure code</td>\n",
    "  </tr>\n",
    "  <tr>\n",
    "    <td>vasp</td>\n",
    "    <td></td>\n",
    "    <td>Plane-wave PAW code</td>\n",
    "  </tr>\n",
    "  <tr>\n",
    "    <td>espresso</td>\n",
    "    <td></td>\n",
    "    <td>Plane-wave pseudopotential code</td>\n",
    "  </tr>\n",
    "  <tr>\n",
    "    <td rowspan=\"１\">NNP (Neural Network Potential)</td>\n",
    "      <td><b>PFP</b></td>\n",
    "    <td></td>\n",
    "      <td>Potential provided by <a href=\"https://matlantis.com/\">Matlantis</a></td>\n",
    "  </tr>\n",
    "</table>\n",
    "\n",
    "Calculators with ✓ in the \"ASE embedded\" column above can be used simply by installing ASE, other calculators require to install external program.\n",
    "\n",
    "Calculators that perform **quantum chemical calculations** theoretically calculate potentials by solving the Schrödinger equation derived from quantum mechanics under a certain approximation (see also the column below).\n",
    "Special software is required and some calculations are time-consuming. It is used when you want to perform more accurate calculations. <br/>\n",
    "\n",
    "https://en.wikipedia.org/wiki/Lennard-Jones_potential\n",
    "\n",
    "The calculators belonging to **classical force fields** are methods that calculate potentials using manually created (empirical) function formulas, e.g., [Lennard-Jones potential](https://en.wikipedia.org/wiki/Lennard-Jones_potential), [Morse potential](https://en.wikipedia.org/wiki/Morse_potential).\n",
    "The calculation speed is fast, but each method can handle different structures and physical phenomena. You need validation to check if the potential works for your interest. <br/>\n",
    "\n",
    "The **NNP** type is intended to perform highly accurate potential prediction in a fast computation time by preparing many data computed in advance using quantum chemical calculations, and by supervised learning of the relationship between input structures and their potential energies.\n",
    "For more information on NNP, please refer to the following slides as well.\n",
    "\n",
    " - [PFP：材料探索のための汎用Neural Network Potential - 2021/10/4 QCMSR + DLAP共催](https://www.slideshare.net/pfi/pfpneural-network-potential-2021104-qcmsr-dlap) (currently Japanese only)\n"
   ]
  },
  {
   "cell_type": "markdown",
   "id": "95631d90-2728-4d2b-88d8-6ec72f58c710",
   "metadata": {},
   "source": [
    "### ASE embedded calculator\n",
    "\n",
    "Here we use [EMT](https://wiki.fysik.dtu.dk/ase/ase/calculators/emt.html#module-ase.calculators.emt) calculator as an example."
   ]
  },
  {
   "cell_type": "code",
   "execution_count": 3,
   "id": "4ff1ee2f-a97d-4e91-bb75-63c19da57c97",
   "metadata": {},
   "outputs": [
    {
     "name": "stdout",
     "output_type": "stream",
     "text": [
      "Potential energy -0.00568 eV\n"
     ]
    }
   ],
   "source": [
    "from ase.build import bulk\n",
    "from ase.calculators.emt import EMT\n",
    "\n",
    "\n",
    "calculator_emt = EMT()\n",
    "\n",
    "atoms = bulk(\"Cu\")\n",
    "atoms.calc = calculator_emt\n",
    "\n",
    "E_pot_emt = atoms.get_potential_energy()\n",
    "print(f\"Potential energy {E_pot_emt:.5f} eV\")"
   ]
  },
  {
   "cell_type": "markdown",
   "id": "96db754c-77d0-4b99-8f8d-8f3f7a1d182a",
   "metadata": {},
   "source": [
    "The calculator can be switched to perform atomistic simulations in this way.\n",
    "\n",
    "If the exact potential energy $V(\\mathbf{r})$ could be calculated quickly, there would be no need to switch calculators and the simulation could always be run using that, but in reality the exact potential energy cannot be calculated, and there is a tradeoff between accuracy and speed. <br/>\n",
    "Therefore, the choice must be made by the user of the atomistic simulation to suit the application."
   ]
  },
  {
   "cell_type": "markdown",
   "id": "269ba76a-2d23-44e9-b183-801f9b474908",
   "metadata": {
    "toc-hr-collapsed": true
   },
   "source": [
    "### PFP\n",
    "\n",
    "The PFP provided by Matlantis is characterized by **universality and high speed**. \n",
    "It can be used to perform fast calculations for systems with a variety of structures in combinations of 55 elements. <br/>\n",
    "\n",
    "PFP calculator is usually used in this tutorial throughout."
   ]
  },
  {
   "cell_type": "code",
   "execution_count": 4,
   "id": "8931b683-0c51-4a8a-a064-6093ef4ecd44",
   "metadata": {},
   "outputs": [
    {
     "name": "stdout",
     "output_type": "stream",
     "text": [
      "Potential energy -3.07547 eV\n"
     ]
    }
   ],
   "source": [
    "import pfp_api_client\n",
    "from pfp_api_client.pfp.calculators.ase_calculator import ASECalculator\n",
    "from pfp_api_client.pfp.estimator import Estimator, EstimatorCalcMode\n",
    "\n",
    "estimator = Estimator(model_version=\"v2.0.0\")\n",
    "calculator = ASECalculator(estimator)\n",
    "\n",
    "atoms.calc = calculator\n",
    "\n",
    "E_pot_emt = atoms.get_potential_energy()\n",
    "print(f\"Potential energy {E_pot_emt:.5f} eV\")"
   ]
  },
  {
   "cell_type": "markdown",
   "id": "463652da-8420-4a7b-ab6b-fd199ffc7437",
   "metadata": {},
   "source": [
    "The absolute values of the energies are very different between EMT and PFP above, but their absolute values are arbitrary to shift when defining the energy of the system.\n",
    "\n",
    "Note that the difference between the energies of two different systems consisting of the same number of atoms is meaningful, but the absolute values of each are not so meaningful."
   ]
  },
  {
   "cell_type": "markdown",
   "id": "40f67cd5-81be-4f99-8198-0fcb77f3550b",
   "metadata": {},
   "source": [
    "## Relation between Atoms and Calculator\n",
    "\n",
    "In the ASE library, the atomic structure is represented by the Atoms class, and each basic physical property value (energy, force, stress, charge, etc.) for the Atoms can be calculated by setting Calculator to it. <br/>\n",
    "Calculator is set directly to `atoms.calc`.\n",
    "\n",
    "**Relation between Atoms and Calculator**\n",
    "\n",
    "<img src=\"../assets/ch1/atoms-calculator.en.png\" width=\"350\"/>\n",
    "\n",
    "The basic physical properties that can be calculated via Calculator and their calculation methods are as follows.\n",
    "\n",
    " - Potential energy: `get_potential_energy`\n",
    " - Force: `get_forces`\n",
    " - Stress: `get_stress`\n",
    " - Charge: `get_charges`\n",
    " - Magnetic moment: `get_magnetic_moment`\n",
    " - Dipole moment: `get_dipole_moment`"
   ]
  },
  {
   "cell_type": "code",
   "execution_count": 5,
   "id": "f3b1494b-a3fb-4e70-90e7-f8f3d1b2a0c0",
   "metadata": {},
   "outputs": [
    {
     "name": "stdout",
     "output_type": "stream",
     "text": [
      "E_pot -2.2e+01 eV\n",
      "charges [ 1.56390826e-07  4.79747513e-08  1.49468789e-07 -3.53834395e-07] C\n",
      "forces [[ 1.21045008e-06 -1.28531060e-07  1.16374716e-06]\n",
      " [-8.99028036e-07  9.10295516e-07 -7.65895014e-07]\n",
      " [ 8.04090586e-07 -1.76741016e-06  1.52298933e-06]\n",
      " [-1.11551263e-06  9.85645703e-07 -1.92084147e-06]] eV/A\n",
      "stress [-5.98167504e-02 -5.98167416e-02 -5.98167977e-02  9.46340221e-09\n",
      " -2.35475377e-08 -5.36077254e-09] eV/A^2\n"
     ]
    }
   ],
   "source": [
    "calculator = ASECalculator(Estimator())\n",
    "\n",
    "atoms = bulk(\"Pt\") * (2, 2, 1)\n",
    "atoms.calc = calculator\n",
    "\n",
    "E_pot = atoms.get_potential_energy()\n",
    "charges = atoms.get_charges()\n",
    "forces = atoms.get_forces()\n",
    "stress = atoms.get_stress()\n",
    "\n",
    "print(f\"E_pot {E_pot:.2} eV\")\n",
    "print(f\"charges {charges} C\")\n",
    "print(f\"forces {forces} eV/A\")\n",
    "print(f\"stress {stress} eV/A^2\")"
   ]
  },
  {
   "cell_type": "markdown",
   "id": "720416a2-c7e1-4cd8-8f3f-fdb697175c38",
   "metadata": {},
   "source": [
    "PFP does not support the calculation of magnetic moments or dipole moments. <br/>\n",
    "(The magnetic moment is for electronic states and is not used in atomistic simulation, which is the scope of this tutorial.)"
   ]
  },
  {
   "cell_type": "code",
   "execution_count": 6,
   "id": "f8d03558-7c1d-4bb4-a14c-57b7c8347a12",
   "metadata": {},
   "outputs": [],
   "source": [
    "# Some Calculator supports this, but PFP calculator raises error.\n",
    "\n",
    "# magmom = atoms.get_magnetic_moment()\n",
    "# dipole = atoms.get_dipole_moment()"
   ]
  },
  {
   "cell_type": "markdown",
   "id": "07fbb416-cd18-4bd4-898e-5eca8ba79901",
   "metadata": {},
   "source": [
    "The following [columns] contain advanced content, and can be skipped as you read through the tutorial."
   ]
  },
  {
   "cell_type": "markdown",
   "id": "d6c67fea-0e35-4d07-9bf8-3eeb4277d2e8",
   "metadata": {},
   "source": [
    "## [Column] Calcultor's cache mechanism\n",
    "\n",
    "Calculator stores the input atomic structure of the previous calculation in `calculator.atoms` and the result of the previous calculation in `calculator.results`. <br/>\n",
    "If you call the `get_XXX` method for the same atomic structure as before, it will **skip** the re-calculation."
   ]
  },
  {
   "cell_type": "code",
   "execution_count": 7,
   "id": "c4191076-8900-4c36-8000-bc62f08aed50",
   "metadata": {},
   "outputs": [],
   "source": [
    "atoms.calc = calculator\n",
    "calculator.reset()"
   ]
  },
  {
   "cell_type": "code",
   "execution_count": 8,
   "id": "6f774f3b-b5d5-45a0-9e78-6cfb2163720b",
   "metadata": {},
   "outputs": [
    {
     "name": "stdout",
     "output_type": "stream",
     "text": [
      "CPU times: user 3.06 ms, sys: 0 ns, total: 3.06 ms\n",
      "Wall time: 94 ms\n",
      "CPU times: user 375 µs, sys: 61 µs, total: 436 µs\n",
      "Wall time: 383 µs\n"
     ]
    }
   ],
   "source": [
    "%time Epot = atoms.get_potential_energy()\n",
    "%time Epot = atoms.get_potential_energy()"
   ]
  },
  {
   "cell_type": "markdown",
   "id": "efafe161-f0d1-49de-a5af-54b074bb6abf",
   "metadata": {},
   "source": [
    "Comparing the wall time in the above example, we can see that the first run takes time on the order of milliseconds and calculations are performed, but the second run skips the calculations, so the energy is obtained in less than a millisecond. "
   ]
  },
  {
   "cell_type": "markdown",
   "id": "a9d650af-2389-467e-8295-d6077a07038f",
   "metadata": {},
   "source": [
    "`calculator.reset()` can be used to explicitly clear the cache of calculation results and recalculate them. \n",
    "In the following example, you can see that the second calculation still takes milliseconds of calculation time."
   ]
  },
  {
   "cell_type": "code",
   "execution_count": 9,
   "id": "4ed8fb95-805b-4d7d-a8fb-33b91202f1f0",
   "metadata": {},
   "outputs": [
    {
     "name": "stdout",
     "output_type": "stream",
     "text": [
      "----- 1st calc -----\n",
      "CPU times: user 3.16 ms, sys: 285 µs, total: 3.44 ms\n",
      "Wall time: 90.3 ms\n",
      "After 1st calc   : {'energy': -21.712707825955075, 'forces': array([[-1.78798193e-07,  8.57089841e-08, -9.71775560e-07],\n",
      "       [-3.81674838e-07,  2.40788247e-07,  4.98792271e-07],\n",
      "       [ 9.00971539e-07, -2.72842101e-07,  1.12511234e-06],\n",
      "       [-3.40498508e-07, -5.36551305e-08, -6.52129048e-07]]), 'charges': array([-2.17493621e-07, -2.45786026e-07, -9.83995818e-09,  4.73119684e-07]), 'calc_stats': {'elapsed_usec_infer': 36693, 'elapsed_usec': 83022, 'elapsed_usec_preprocess': 3930, 'n_neighbors': 400}, 'free_energy': -21.712707825955075, 'stress': array([-5.98166255e-02, -5.98166500e-02, -5.98166300e-02,  4.26570321e-08,\n",
      "       -4.45518682e-08,  3.79886465e-08])}\n",
      "After reset      : {}\n",
      "----- 2nd calc -----\n",
      "CPU times: user 1.66 ms, sys: 0 ns, total: 1.66 ms\n",
      "Wall time: 57.7 ms\n",
      "After 2nd calc   : {'energy': -21.712705946017945, 'forces': array([[ 9.52835494e-08,  9.18911048e-07, -3.93850900e-07],\n",
      "       [-7.98279949e-07, -4.07897529e-07,  1.47059723e-06],\n",
      "       [-3.51072639e-07, -3.76604209e-07,  3.40857921e-07],\n",
      "       [ 1.05406904e-06, -1.34409311e-07, -1.41760425e-06]]), 'charges': array([-2.72528879e-08, -3.71969477e-08, -1.25965400e-07,  1.90415335e-07]), 'calc_stats': {'n_neighbors': 400, 'elapsed_usec_infer': 46355, 'elapsed_usec': 51052, 'elapsed_usec_preprocess': 3135}, 'free_energy': -21.712705946017945, 'stress': array([-5.98171226e-02, -5.98171468e-02, -5.98171011e-02,  1.97083025e-08,\n",
      "       -1.43127693e-08,  1.31512884e-08])}\n"
     ]
    }
   ],
   "source": [
    "calculator.reset()\n",
    "\n",
    "print(\"----- 1st calc -----\")\n",
    "%time Epot = atoms.get_potential_energy()\n",
    "\n",
    "print(f\"After 1st calc   : {calculator.results}\")\n",
    "calculator.reset()\n",
    "print(f\"After reset      : {calculator.results}\")\n",
    "\n",
    "print(\"----- 2nd calc -----\")\n",
    "%time Epot = atoms.get_potential_energy()\n",
    "print(f\"After 2nd calc   : {calculator.results}\")"
   ]
  },
  {
   "cell_type": "markdown",
   "id": "b26fd354-65da-4d8b-8965-2fdb17bb8164",
   "metadata": {},
   "source": [
    "Note that if the atomic structure changes even slightly, the result of `calculator.result` is discarded and a new calculation is performed.\n",
    "\n",
    "In the following example, `atoms.get_potential_energy` is called again after changing the interatomic distance of the hydrogen molecule, and in this case, Calculator detects the change in the input atomic structure and performs a new calculation. You can see that both calculations actually take a wall time on the order of milliseconds."
   ]
  },
  {
   "cell_type": "code",
   "execution_count": 10,
   "id": "0c2b8005-572a-4baf-9d6c-aa718837740a",
   "metadata": {},
   "outputs": [
    {
     "name": "stdout",
     "output_type": "stream",
     "text": [
      "CPU times: user 3.2 ms, sys: 0 ns, total: 3.2 ms\n",
      "Wall time: 54 ms\n",
      "CPU times: user 2.52 ms, sys: 0 ns, total: 2.52 ms\n",
      "Wall time: 54.1 ms\n",
      "E_pot1 -4.48 eV\n",
      "E_pot2 -0.31 eV\n"
     ]
    }
   ],
   "source": [
    "atoms = Atoms([\"H\", \"H\"], positions=[[0, 0, 0], [0, 0, 0.8]])\n",
    "\n",
    "atoms.calc = calculator\n",
    "%time E_pot1 = atoms.get_potential_energy()\n",
    "# --- calculator.atoms stores the previously calculated atoms\n",
    "# print(calculator.atoms.positions)\n",
    "\n",
    "# Change atomic distance to 2A\n",
    "atoms.positions[1, 2] = 2.0\n",
    "# --- The preveously calculated `calculator.atoms` and current calculate target `atoms` are\n",
    "# different, so calculation is executed.\n",
    "%time E_pot2 = atoms.get_potential_energy()\n",
    "# print(calculator.atoms.positions)\n",
    "\n",
    "print(f\"E_pot1 {E_pot1:.2f} eV\")\n",
    "print(f\"E_pot2 {E_pot2:.2f} eV\")"
   ]
  },
  {
   "cell_type": "markdown",
   "id": "f2b27ad4-1722-4d45-8f1f-715705dcd692",
   "metadata": {},
   "source": [
    "## [Column] PFP Calculator behavior\n",
    "\n",
    "※This section is a description of Matlantis-specific behavior.\n",
    "\n",
    "It describes the behavior of the `ASECalculator` provided by the `pfp-api-client` library."
   ]
  },
  {
   "cell_type": "markdown",
   "id": "2b455266-6ab8-4a4d-8b6f-df081f0d98e5",
   "metadata": {},
   "source": [
    "In PFP, `potential_energy` and `charge` are calculated by NNP's forward, and `forces` and `stress` are calculated by NNP's backward.\n",
    "\n",
    "<img src=\"../assets/nnp-calc.en.png\" width=\"800px\"/>"
   ]
  },
  {
   "cell_type": "markdown",
   "id": "adb7642f-003e-40e8-9118-d46769509f58",
   "metadata": {},
   "source": [
    "## [Column] Potential energy obtained by quantum chemical calculations\n",
    "\n",
    "In the explanation of total energy at the top of this tutorial, the formula for kinetic energy was given, but there was no formula for potential energy, only explained that it is calculated by Calculator. <br/>\n",
    "How is this potential energy expressed theoretically?\n",
    "\n",
    "If you want to simulate phenomena occurring at the microscopic atomic scale, you will need the theory of quantum mechanics in order to determine the energies, etc., taking into account the electronic states of the system.\n",
    "In the case of the steady state, the Schrödinger equation given below gives the wave function $\\Phi$ and total energy $E$ for the entire system.\n",
    "\n",
    "$$ \\mathcal{H} | \\Phi \\rangle = E | \\Phi \\rangle $$\n",
    "\n",
    "\n",
    "Based on non-relativistic theory, the Hamiltonian $\\mathcal{H}$ for a system consisting of M nuclei and N electrons can be written as follows by [atomic unit system](https://en.wikipedia.org/wiki/Hartree_atomic_units).\n",
    "\n",
    "$$ \\mathcal{H} = - \\sum_{i=1}^N \\frac{1}{2} \\nabla^2_i - \\sum_{A=1}^M \\frac{1}{2 M_A} \\nabla^2_A - \\sum_{i=1}^N \\sum_{A=1}^M \\frac{Z_A}{r_{iA}} + \\sum_{i=1}^N \\sum_{j>i}^N \\frac{1}{r_{ij}} + \\sum_{A=1}^M \\sum_{B>A}^M \\frac{Z_A Z_B}{R_{AB}} $$\n",
    "\n",
    " - $M_A$: Mass of nucleus $A$.\n",
    " - $R_{AB}$: Distance between nucleus $A$ and nucleus $B$.\n",
    " - $r_{Ai}$: Distance between nucleus $A$ and electron $i$.\n",
    " - $r_{ij}$: Distance between electron $i$ and electron $j$.\n",
    " - $Z_A$: Atomic number of nucleus $A$ = number of protons.\n",
    "\n",
    "and all electrons have charge -1.\n",
    "\n",
    "The first item corresponds to the kinetic energy of electrons, the second to the kinetic energy of nuclei, the third to the electrostatic interaction energy between electrons and nuclei, the fourth to the electrostatic interaction energy between electrons, and the fifth to the electrostatic interaction energy between nuclei.\n",
    "\n",
    "Since it is difficult to solve this as is, and a **Born-Oppenheimer approximation** is often used. <br/>\n",
    "Electrons move faster than nuclei because they are much lighter than nuclei.\n",
    "Therefore, the idea is to find the steady state of the electron at that time, assuming that the atom is perfectly stationary.\n",
    "\n",
    "Then the Schrödinger equation for N electrons is\n",
    "\n",
    "$$ \\mathcal{H}_{\\rm{elec}} = - \\sum_{i=1}^N \\frac{1}{2} \\nabla^2_i - \\sum_{i=1}^N \\sum_{A=1}^M \\frac{Z_A}{r_{iA}} + \\sum_{i=1}^N \\sum_{j>i}^N \\frac{1}{r_{ij}} $$\n",
    "\n",
    "and\n",
    "\n",
    "$$ \\mathcal{H}_{\\rm{elec}} | \\Phi_{\\rm{elec}} \\rangle = E_{\\rm{elec}} | \\Phi_{\\rm{elec}} \\rangle \\tag{1} $$\n",
    "\n",
    "The total energy of the nucleus at stationary is written by\n",
    "\n",
    "$$ V = E_{\\rm{elec}} + \\sum_{A=1}^M \\sum_{B>A}^M \\frac{Z_A Z_B}{R_{AB}} $$\n",
    "\n",
    "This corresponds to the potential energy.\n",
    "\n",
    "If we can solve this, we should be able to obtain the potential energy from the fundamental laws of quantum mechanics alone, without introducing any parameters as in the classical force field.\n",
    "A calculation method based on quantum mechanics that does not depend on experimental values other than the fundamental physical constants is called [first-principles calculation](https://en.wikipedia.org/wiki/Ab_initio_quantum_chemistry_methods) (ab initio calculation).\n",
    "\n",
    "In reality, it is known that the Schrödinger equation (1) for this electron system cannot be solved analytically, \n",
    "and various approximations and assumptions are made by different methods.\n",
    "The Hartree-Fock method and DFT (density functional theory) are typical examples.\n",
    "\n",
    "So, the potential energy $V$ handled by ASE is a value that includes the electrostatic potential of electrons and nuclei plus the kinetic energy of electrons, and the kinetic energy $K$ can be taken as the kinetic energy of nuclei only.\n",
    "\n",
    "[Reference]\n",
    "\n",
    " - \"MODERN QUANTUM CHEMISTRY Introduction to Advanced Electronic Structure Theory\", Attila Szabo and Neil S. Ostlund "
   ]
  }
 ],
 "metadata": {
  "kernelspec": {
   "display_name": "Python 3.9",
   "language": "python",
   "name": "python39"
  },
  "language_info": {
   "codemirror_mode": {
    "name": "ipython",
    "version": 3
   },
   "file_extension": ".py",
   "mimetype": "text/x-python",
   "name": "python",
   "nbconvert_exporter": "python",
   "pygments_lexer": "ipython3",
   "version": "3.9.16"
  },
  "widgets": {
   "application/vnd.jupyter.widget-state+json": {
    "state": {},
    "version_major": 2,
    "version_minor": 0
   }
  }
 },
 "nbformat": 4,
 "nbformat_minor": 5
}

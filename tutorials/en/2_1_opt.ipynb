{
 "cells": [
  {
   "cell_type": "markdown",
   "id": "bedc795f-d674-4f25-bf6e-294342bb262e",
   "metadata": {},
   "source": [
    "# Opt\n",
    "\n",
    "In this chapter, we will learn about **structural optimization** (also called structural relaxation, structure optimization or structure relaxation), which calculates the local stability coordinates of a system and its energy.\n",
    "\n",
    "There are two types of optimization algorithms: global optimization and local optimization. We focus our attention on local optimization methods for structural optimization in this chapter.\n",
    "\n",
    "<figure>\n",
    "    <img src=\"../assets/local-global-minimum.en.png\" width=\"720px\">\n",
    "    <figcaption>The horizontal axis represents the various conformations of the system, and the vertical axis represents the energy.</figcaption>\n",
    "</figure>\n",
    "\n",
    "The coordinates of a system consisting of N atoms have $3*N$ dimensions of freedom, for example, a system consisting of 100 atoms is an optimization problem in a high-dimensional space of 300 dimensions. <br/>\n",
    "Finding a globally optimal solution is generally a difficult problem.\n",
    "\n",
    "Structural optimization finds the system's stable structure by determining the system's initial coordinates and finding local stable points from there. <br/>\n",
    "Even when the composition of a substance (combination of elements and their proportions, e.g., NaCl) is known, it is not apparent what its structure is.\n",
    "Determining the stable structure is essential because many properties of a substance are determined from its state near its stable structure.\n",
    "\n",
    "The following analytical and measuring instruments may be used to determine the structure experimentally.\n",
    "\n",
    "However, even in that case\n",
    "\n",
    " - Only partial information on the material can be obtained from the spectral information, and information on the 3D structure cannot be directly observed (1~6)\n",
    " - It is necessary to prepare structures such as single crystals or thin films, and it is sometimes difficult to prepare such samples in reality (3, 8)\n",
    " - Lack of resolution for atomic scale observation (7)\n",
    " - Although the shape of the surface can be observed, it is not possible to distinguish the type of atoms and molecules (9)\n",
    "\n",
    "It is not easy to determine how each atom is arranged in the material we are dealing with and to identify the three-dimensional structure of the material.\n",
    "\n",
    "Examples of analytical instruments:\n",
    "\n",
    "| Name | Description |\n",
    "|:---|:---|\n",
    "|1. Infrared spectroscopy |Obtain information on molecular structure by measuring infrared absorption due to molecular vibrations. |\n",
    "|2. Raman spectroscopy |Raman scattering light is used to evaluate materials. |\n",
    "|3. XRD: X-ray Diffraction |Identification and quantification of substances by analyzing diffraction obtained by a beam of incident X-rays to crystal structures. |\n",
    "|4. XPS: X-ray Photoelectron Spectroscopy |X-rays are irradiated to a material, and the photoelectrons e- emitted as a result of ionization of the material are measured for energy analysis. |\n",
    "|5. MS: Mass Spectroscopy |Accurately measures the mass of individual compounds that make up a substance. |\n",
    "|6. NMR: Nuclear Magnetic Resonance | Analyze organic compounds using the phenomenon of nuclear resonance. |\n",
    "|7. SEM: Scanning Electron Microscope | Observation of surfaces with a resolution of 0.4~4nm using electron beams with short wavelengths. |\n",
    "|8. TEM: Transmission Electron Microscope | Observation of microscopic substances by the intensity of the electron beam transmitted through the object. |\n",
    "|9. AFM: Atomic Force Microscope | Microscope to detect the atomic forces acting between the tip and the sample. |\n",
    "\n",
    "Therefore, it is vital to estimate which structure is likely to be in the simulation and verify it in the experiment (or vice versa)."
   ]
  },
  {
   "cell_type": "markdown",
   "id": "d83bf261-234d-43f8-ae28-99908a6269da",
   "metadata": {},
   "source": [
    "## Opt molecules\n",
    "\n",
    "First, let us try to optimize the structure of a single organic molecule without periodic boundary conditions as a simple example.\n",
    "\n",
    "\n",
    "### 1. Hydrogen molecule\n",
    "\n",
    "First, we will use structural optimization to find the bond length for the most stable structure of the hydrogen molecule, \n",
    "which we did in the previous chapter.\n",
    "\n",
    "The flow will be as follows\n",
    "\n",
    " - Step 1: Prepare a calculator to calculate potential energy.\n",
    " - Step 2: Prepare molecules for structural optimization.\n",
    " - Step 3: Select a method for the structural optimization algorithm and run it."
   ]
  },
  {
   "cell_type": "code",
   "execution_count": 1,
   "id": "5e2d3f45-5626-41a0-88a1-baaaea6c8b61",
   "metadata": {},
   "outputs": [
    {
     "name": "stdout",
     "output_type": "stream",
     "text": [
      "pfp_api_client: 1.5.0\n"
     ]
    }
   ],
   "source": [
    "import pfp_api_client\n",
    "from pfp_api_client.pfp.calculators.ase_calculator import ASECalculator\n",
    "from pfp_api_client.pfp.estimator import Estimator, EstimatorCalcMode\n",
    "\n",
    "\n",
    "print(f\"pfp_api_client: {pfp_api_client.__version__}\")\n",
    "\n",
    "estimator = Estimator(calc_mode=EstimatorCalcMode.MOLECULE, model_version=\"v3.0.0\")\n",
    "#estimator = Estimator(calc_mode=EstimatorCalcMode.CRYSTAL, model_version=\"v3.0.0\")\n",
    "calculator = ASECalculator(estimator)"
   ]
  },
  {
   "cell_type": "markdown",
   "id": "85a0766a-72b4-4d20-b407-067bd742c272",
   "metadata": {},
   "source": [
    "The `calc_mode` of PFP `Estimator` is used as follows.\n",
    "\n",
    " - General system: `EstimatorCalcMode.CRYSTAL_U0`, mode without U parameter.\n",
    " - Oxides, etc.: `EstimatorCalcMode.CRYSTAL`, mode with U parameter.\n",
    " - Single organic molecules: `EstimatorCalcMode.MOLECULE`, molecular mode.\n"
   ]
  },
  {
   "cell_type": "markdown",
   "id": "4b60f9f4-b1f9-4e67-94c3-cf14a5aecc94",
   "metadata": {},
   "source": [
    "Step 2: Prepare molecules for structural optimization\n",
    "\n",
    "Here we create a hydrogen molecule. We will manually set the initial coordinates at a distance of 1.0A."
   ]
  },
  {
   "cell_type": "code",
   "execution_count": 2,
   "id": "7b4afeca-4f4c-422e-bb7a-56c084c772ad",
   "metadata": {},
   "outputs": [],
   "source": [
    "from ase import Atoms\n",
    "\n",
    "\n",
    "atoms = Atoms(\"H2\", [[0, 0, 0], [0, 0, 1.0]])\n",
    "atoms.calc = calculator"
   ]
  },
  {
   "cell_type": "markdown",
   "id": "16b0f509-e44f-48fd-a75b-863bd8737795",
   "metadata": {},
   "source": [
    "Step 3: Select and run the structural optimization algorithm method\n",
    "\n",
    "As local optimization algorithms, ASE offers the `FIRE` and `MDMin` methods which perform optimization with gradient descent-like behavior, and the `BFGS`, `LBFGS`, `BFGSLineSearch`=`QuasiNewton`, `LBFGSLineSearch` methods which perform optimization by considering second derivertive are provided. \n",
    "The differences and properties of these algorithms are explained in the later section.\n",
    "\n",
    " - https://wiki.fysik.dtu.dk/ase/ase/optimize.html\n",
    "\n",
    "This time, we will use `LBFGS` to perform structural optimization. <br/>\n",
    "We will set `atoms` to the local optimization algorithm and call the `run` method to perform structural optimization. <br/>\n",
    "If you specify the `trajectory` argument, you can save the structural optimization process."
   ]
  },
  {
   "cell_type": "code",
   "execution_count": 3,
   "id": "e186514f-2167-4c77-b21b-02bb698b1a5b",
   "metadata": {},
   "outputs": [
    {
     "name": "stdout",
     "output_type": "stream",
     "text": [
      "       Step     Time          Energy         fmax\n",
      "*Force-consistent energies used in optimization.\n",
      "LBFGS:    0 02:19:43       -3.890512*       4.4993\n",
      "LBFGS:    1 02:19:43       -4.402221*       3.2330\n",
      "LBFGS:    2 02:19:43       -3.401438*      16.5629\n",
      "LBFGS:    3 02:19:43       -4.551079*       2.2355\n",
      "LBFGS:    4 02:19:43       -4.610468*       1.3879\n",
      "LBFGS:    5 02:19:43       -4.641043*       0.3552\n",
      "LBFGS:    6 02:19:43       -4.642630*       0.0576\n",
      "LBFGS:    7 02:19:43       -4.642674*       0.0023\n"
     ]
    },
    {
     "data": {
      "text/plain": [
       "True"
      ]
     },
     "execution_count": 3,
     "metadata": {},
     "output_type": "execute_result"
    }
   ],
   "source": [
    "import os\n",
    "from ase.optimize import LBFGS, BFGS, FIRE\n",
    "\n",
    "os.makedirs(\"output\", exist_ok=True)\n",
    "\n",
    "opt = LBFGS(atoms, trajectory=\"output/bfgs_h2.traj\")\n",
    "opt.run(fmax=0.01)"
   ]
  },
  {
   "cell_type": "markdown",
   "id": "8e69d8d2-635d-42d6-9d07-fbe9eeb91e3d",
   "metadata": {},
   "source": [
    "In this simple example, the structural optimization was completed in 7 steps, and it took about 2 seconds in Matlantis.\n",
    "\n",
    "Let's visualize the process of structural optimization."
   ]
  },
  {
   "cell_type": "code",
   "execution_count": 4,
   "id": "c2618e31-d49b-401c-bfa5-3db1ae6beb4d",
   "metadata": {},
   "outputs": [
    {
     "data": {
      "application/vnd.jupyter.widget-view+json": {
       "model_id": "51fcd5cbd46841bbb8ba54ba0e9fa9cf",
       "version_major": 2,
       "version_minor": 0
      },
      "text/plain": []
     },
     "metadata": {},
     "output_type": "display_data"
    },
    {
     "data": {
      "application/vnd.jupyter.widget-view+json": {
       "model_id": "e1aca3926d8b455cb95cf4a8f68cf32f",
       "version_major": 2,
       "version_minor": 0
      },
      "text/plain": [
       "HBox(children=(NGLWidget(max_frame=7), VBox(children=(Dropdown(description='Show', options=('All', 'H'), value…"
      ]
     },
     "metadata": {},
     "output_type": "display_data"
    }
   ],
   "source": [
    "from ase.visualize import view\n",
    "from ase.io import Trajectory\n",
    "from pfcc_extras.visualize.view import view_ngl\n",
    "\n",
    "traj = Trajectory(\"output/bfgs_h2.traj\")\n",
    "view_ngl(traj, representations=[\"ball+stick\"], w=400, h=300)"
   ]
  },
  {
   "cell_type": "markdown",
   "id": "02d8b40b-0041-41a5-93b6-82be4b91adc8",
   "metadata": {},
   "source": [
    "Plot how the atomic distances have changed during structural optimization."
   ]
  },
  {
   "cell_type": "code",
   "execution_count": 5,
   "id": "20d5625f-b8a7-4467-aac4-03b15746e18c",
   "metadata": {},
   "outputs": [
    {
     "name": "stdout",
     "output_type": "stream",
     "text": [
      "Distance trajectory [1.0, 0.8714471953255789, 0.5432643813289825, 0.8178499966054394, 0.7851965174194478, 0.7317306649684048, 0.7426249533569255, 0.7411042704555475]\n"
     ]
    }
   ],
   "source": [
    "import numpy as np\n",
    "\n",
    "# np.linalg.norm?\n",
    "distance_list = []\n",
    "E_pot_list = []\n",
    "for atoms in traj:\n",
    "    p1, p2 = atoms.get_positions()\n",
    "    distance = np.linalg.norm(p1 - p2)\n",
    "    distance_list.append(distance)\n",
    "    E_pot_list.append(atoms.get_potential_energy())\n",
    "\n",
    "print(\"Distance trajectory\", distance_list)"
   ]
  },
  {
   "cell_type": "code",
   "execution_count": 6,
   "id": "6c8d9bff-43c5-4fb1-903a-cdec07ec4b00",
   "metadata": {},
   "outputs": [
    {
     "data": {
      "image/png": "[encoded data removed]",
      "text/plain": [
       "<Figure size 640x480 with 1 Axes>"
      ]
     },
     "metadata": {},
     "output_type": "display_data"
    }
   ],
   "source": [
    "import matplotlib.pyplot as plt\n",
    "plt.plot(distance_list)\n",
    "plt.xlabel(\"step\")\n",
    "plt.ylabel(\"Distance [A]\")\n",
    "plt.title(\"H2 opt trajectory\")\n",
    "plt.show()"
   ]
  },
  {
   "cell_type": "markdown",
   "id": "6962fbc7-1be3-40f4-a98d-1dfac297b787",
   "metadata": {},
   "source": [
    "Finally, it settled around `0.74` A.\n",
    "\n",
    "In the previous chapter, we calculated the energies for all bond distances and found the lowest energy value, but we can efficiently find a stable structure by using structural optimization."
   ]
  },
  {
   "cell_type": "markdown",
   "id": "7f082112-21d4-4a9c-a507-7938523891e0",
   "metadata": {},
   "source": [
    "### 2. Cyclohexane\n",
    "\n",
    "As a next example, consider the stable structure of cyclohexane.\n",
    "\n",
    "Cyclohexane has the structure C6H12, but is known to take several conformations. <br/>\n",
    "Typical conformational isomers include chair (A), twist-boat (B), boat (C), and half-chair (D), as shown in the figure below.\n",
    "\n",
    "The chair conformation is the most stable (lowest energy); at 25°C, 99.99% of all molecules in cyclohexane solution are in this conformation. <br/>\n",
    "In this section, we will prepare the initial structures of the chair shape (A) and the boat shape (C), perform structural optimization, and compare their shapes and potential energies.\n",
    "\n",
    "<figure style=\"width:600px\">\n",
    "  <img src=\"https://upload.wikimedia.org/wikipedia/commons/7/7a/Cyclohexane_ring_flip_and_relative_conformation_energies.svg\"/>\n",
    "</figure>\n",
    "\n",
    "<cite>Cite from <a href=\"https://en.wikipedia.org/wiki/Cyclohexane_conformation\">\n",
    "cyclohexane conformation</a>.</cite>"
   ]
  },
  {
   "cell_type": "markdown",
   "id": "5e968268-a975-492d-a479-65893cb1cea6",
   "metadata": {},
   "source": [
    "**Prepare initial coordinate structure**\n",
    "\n",
    "The chair shape is prepared from the structure published in PubChem.\n",
    "\n",
    "3D structure image of CID 8078 Cyclohexane (Compound)\n",
    "\n",
    "PubChem Identifier: CID 8078<br/>\n",
    "URL: https://pubchem.ncbi.nlm.nih.gov/compound/8078#section=3D-Conformer\n"
   ]
  },
  {
   "cell_type": "code",
   "execution_count": 7,
   "id": "78ade7c1-9d27-44bf-b1c9-bad3ff9eeb26",
   "metadata": {},
   "outputs": [
    {
     "data": {
      "application/vnd.jupyter.widget-view+json": {
       "model_id": "d668c8e8b03746ed84f1db829cca3817",
       "version_major": 2,
       "version_minor": 0
      },
      "text/plain": [
       "HBox(children=(NGLWidget(), VBox(children=(Dropdown(description='Show', options=('All', 'C', 'H'), value='All'…"
      ]
     },
     "metadata": {},
     "output_type": "display_data"
    }
   ],
   "source": [
    "from ase.io import read\n",
    "\n",
    "chair_atoms = read(\"../input/Conformer3D_CID_8078.sdf\")\n",
    "view_ngl(chair_atoms, representations=[\"ball+stick\"], w=400, h=300)"
   ]
  },
  {
   "cell_type": "markdown",
   "id": "30a1e22c-de05-4364-a3cc-64c65610bd4e",
   "metadata": {},
   "source": [
    "In this tutorial, let's generate the boat shape by manually changing the coordinate values from the chair shape.\n",
    "\n",
    "You can skip understanding the code even if you don't know what it does. (We create atoms rotated 180 degrees, and only atoms 2, 10, and 11 are overwritten with the rotated coordinates.)"
   ]
  },
  {
   "cell_type": "code",
   "execution_count": 8,
   "id": "adad24da-bc58-411a-85cc-97c61d0b6623",
   "metadata": {},
   "outputs": [],
   "source": [
    "boat_atoms = chair_atoms.copy()\n",
    "axis = boat_atoms.positions[[1, 5]].mean(axis=0) - boat_atoms.positions[[0, 4]].mean(axis=0)\n",
    "boat_atoms.rotate(180, axis)\n",
    "# inds = [1, 3, 5, 8, 9, 12, 13, 16, 17]\n",
    "inds = [2, 10, 11]\n",
    "boat_atoms.positions[inds] = chair_atoms.positions[inds]"
   ]
  },
  {
   "cell_type": "code",
   "execution_count": 9,
   "id": "47d5b4eb-5147-4f6c-a2a1-70281d036e08",
   "metadata": {},
   "outputs": [
    {
     "data": {
      "application/vnd.jupyter.widget-view+json": {
       "model_id": "ce9c89887a4345449670543deec62c80",
       "version_major": 2,
       "version_minor": 0
      },
      "text/plain": [
       "HBox(children=(NGLWidget(), VBox(children=(Dropdown(description='Show', options=('All', 'C', 'H'), value='All'…"
      ]
     },
     "metadata": {},
     "output_type": "display_data"
    }
   ],
   "source": [
    "view_ngl(boat_atoms, representations=[\"ball+stick\"], w=400, h=300)"
   ]
  },
  {
   "cell_type": "code",
   "execution_count": 10,
   "id": "b2c0e2e4-c3d9-4e96-8640-91168a98e474",
   "metadata": {},
   "outputs": [
    {
     "name": "stdout",
     "output_type": "stream",
     "text": [
      "       Step     Time          Energy         fmax\n",
      "*Force-consistent energies used in optimization.\n",
      "LBFGS:    0 02:20:03      -76.855956*       0.1778\n",
      "LBFGS:    1 02:20:03      -76.858225*       0.1151\n",
      "LBFGS:    2 02:20:03      -76.860049*       0.0998\n",
      "LBFGS:    3 02:20:03      -76.862485*       0.0499\n"
     ]
    },
    {
     "data": {
      "text/plain": [
       "True"
      ]
     },
     "execution_count": 10,
     "metadata": {},
     "output_type": "execute_result"
    }
   ],
   "source": [
    "chair_atoms.calc = calculator\n",
    "opt = LBFGS(chair_atoms, trajectory=\"output/lbfgs_cyclohexane_chair.traj\")\n",
    "opt.run()"
   ]
  },
  {
   "cell_type": "code",
   "execution_count": 11,
   "id": "2c11d629-e02e-416c-aefb-68965b6b2fdd",
   "metadata": {},
   "outputs": [
    {
     "name": "stdout",
     "output_type": "stream",
     "text": [
      "       Step     Time          Energy         fmax\n",
      "*Force-consistent energies used in optimization.\n",
      "LBFGS:    0 02:20:14      -71.025783*       5.3644\n",
      "LBFGS:    1 02:20:14      -72.330446*       4.4228\n",
      "LBFGS:    2 02:20:14      -74.196692*       3.2822\n",
      "LBFGS:    3 02:20:14      -75.112910*       4.2950\n",
      "LBFGS:    4 02:20:14      -75.580790*       2.7280\n",
      "LBFGS:    5 02:20:14      -75.743022*       2.4649\n",
      "LBFGS:    6 02:20:15      -75.854447*       1.8966\n",
      "LBFGS:    7 02:20:15      -76.089088*       0.7839\n",
      "LBFGS:    8 02:20:15      -76.161671*       0.6727\n",
      "LBFGS:    9 02:20:15      -76.249390*       0.8271\n",
      "LBFGS:   10 02:20:15      -76.300558*       0.7451\n",
      "LBFGS:   11 02:20:15      -76.366199*       0.6365\n",
      "LBFGS:   12 02:20:15      -76.410962*       0.5463\n",
      "LBFGS:   13 02:20:15      -76.432972*       0.2407\n",
      "LBFGS:   14 02:20:15      -76.442167*       0.2395\n",
      "LBFGS:   15 02:20:15      -76.450881*       0.2134\n",
      "LBFGS:   16 02:20:15      -76.458265*       0.1773\n",
      "LBFGS:   17 02:20:15      -76.462880*       0.1930\n",
      "LBFGS:   18 02:20:15      -76.466240*       0.1989\n",
      "LBFGS:   19 02:20:15      -76.470400*       0.2080\n",
      "LBFGS:   20 02:20:15      -76.476647*       0.2489\n",
      "LBFGS:   21 02:20:15      -76.483845*       0.2404\n",
      "LBFGS:   22 02:20:15      -76.489993*       0.1807\n",
      "LBFGS:   23 02:20:15      -76.494768*       0.2158\n",
      "LBFGS:   24 02:20:15      -76.499497*       0.2090\n",
      "LBFGS:   25 02:20:16      -76.504614*       0.1982\n",
      "LBFGS:   26 02:20:16      -76.509015*       0.2078\n",
      "LBFGS:   27 02:20:16      -76.512713*       0.2074\n",
      "LBFGS:   28 02:20:16      -76.517285*       0.1909\n",
      "LBFGS:   29 02:20:16      -76.523674*       0.2553\n",
      "LBFGS:   30 02:20:16      -76.530986*       0.2316\n",
      "LBFGS:   31 02:20:16      -76.537306*       0.2286\n",
      "LBFGS:   32 02:20:16      -76.542625*       0.2381\n",
      "LBFGS:   33 02:20:16      -76.548161*       0.2532\n",
      "LBFGS:   34 02:20:16      -76.554129*       0.2480\n",
      "LBFGS:   35 02:20:16      -76.558687*       0.1736\n",
      "LBFGS:   36 02:20:16      -76.560842*       0.0990\n",
      "LBFGS:   37 02:20:16      -76.561720*       0.0792\n",
      "LBFGS:   38 02:20:16      -76.562696*       0.0877\n",
      "LBFGS:   39 02:20:16      -76.563681*       0.0767\n",
      "LBFGS:   40 02:20:16      -76.564258*       0.0412\n"
     ]
    },
    {
     "data": {
      "text/plain": [
       "True"
      ]
     },
     "execution_count": 11,
     "metadata": {},
     "output_type": "execute_result"
    }
   ],
   "source": [
    "boat_atoms.calc = calculator\n",
    "opt = LBFGS(boat_atoms, trajectory=\"output/lbfgs_cyclohexane_boat.traj\")\n",
    "opt.run()"
   ]
  },
  {
   "cell_type": "markdown",
   "id": "486e6f2d-cb8a-4fad-8ded-618d134977e3",
   "metadata": {},
   "source": [
    "Visualize and check the structure after structural optimization."
   ]
  },
  {
   "cell_type": "code",
   "execution_count": 12,
   "id": "ecb059eb-474b-47b8-943d-e68016a95173",
   "metadata": {},
   "outputs": [
    {
     "data": {
      "application/vnd.jupyter.widget-view+json": {
       "model_id": "91abbf159ee34bcd89d6a5f63c3349fc",
       "version_major": 2,
       "version_minor": 0
      },
      "text/plain": [
       "HBox(children=(NGLWidget(max_frame=1), VBox(children=(Dropdown(description='Show', options=('All', 'C', 'H'), …"
      ]
     },
     "metadata": {},
     "output_type": "display_data"
    }
   ],
   "source": [
    "view_ngl([chair_atoms, boat_atoms], representations=[\"ball+stick\"], w=400, h=300, replace_structure=True)"
   ]
  },
  {
   "cell_type": "markdown",
   "id": "b44b6550-affe-48e6-b990-3bb15ba3251f",
   "metadata": {},
   "source": [
    "Also, compare the energy difference between them.\n",
    "\n",
    "The unit of energy is eV, but you can use the `units` module to convert units.\n",
    "\n",
    " - https://wiki.fysik.dtu.dk/ase/ase/units.html"
   ]
  },
  {
   "cell_type": "code",
   "execution_count": 13,
   "id": "25aafa11-bef1-4795-8257-49b8ee0ec02f",
   "metadata": {},
   "outputs": [
    {
     "name": "stdout",
     "output_type": "stream",
     "text": [
      "E_chair -76.86 eV\n",
      "E_boat  -76.56 eV\n",
      "E_diff  0.30 eV = 28.77 kJ/mol\n"
     ]
    }
   ],
   "source": [
    "from ase.units import Bohr,Rydberg,kJ,kB,fs,Hartree,mol,kcal\n",
    "\n",
    "E_chair = chair_atoms.get_potential_energy()\n",
    "E_boat = boat_atoms.get_potential_energy()\n",
    "\n",
    "E_diff = E_boat - E_chair\n",
    "\n",
    "print(f\"E_chair {E_chair:.2f} eV\")\n",
    "print(f\"E_boat  {E_boat:.2f} eV\")\n",
    "print(f\"E_diff  {E_diff:.2f} eV = {E_diff / (kJ/mol):.2f} kJ/mol\")"
   ]
  },
  {
   "cell_type": "markdown",
   "id": "f1b06cae-f7bb-40ec-86b9-95f612aea346",
   "metadata": {},
   "source": [
    "The chair shape was found to be lower energy and more stable than the boat shape. <br/>\n",
    "The energy difference was also close to the 25 kJ/mol value shown in the figure above.\n",
    "\n",
    "Thus, in structural optimization, the initial structure is important to find the local stability point. <br/>\n",
    "Even for the same cyclohexane, the results after structural optimization will differ depending on how the initial structure is prepared."
   ]
  },
  {
   "cell_type": "markdown",
   "id": "b82fa35b-1806-4456-8931-0f73504c372a",
   "metadata": {},
   "source": [
    "## Opt Crystals\n",
    "\n",
    "Next, let us try to perform structural optimization for systems with periodic structures. <br/>\n",
    "In the above example of an organic molecule without periodic structure, only the coordinates of each atom were subject to be optimized, but in a periodic system, the **cell size** is also subject to be optimized.\n",
    "\n",
    "In addition, for a crystal system with periodic structure (bulk), the energy depends on the crystal structure (e.g., BCC, FCC).\n",
    "\n",
    "### 1. Si crystal\n",
    "\n",
    "Let us investigate what kind of structure is most stable as the crystal structure of Si. <br/>\n",
    "As candidates for crystal structures, we try the following structures.\n",
    "\n",
    " - sc: Simple Cubic\n",
    " - bcc: Body Centered Cubic\n",
    " - fcc: Face Centered Cubic\n",
    " - hcp: Hexagonal Close Packed\n",
    " - diamond: Diamond structure\n",
    "\n",
    "We calculate the energy per atom."
   ]
  },
  {
   "cell_type": "markdown",
   "id": "bfc14cd5-c354-4429-9426-0fe81db5b6b6",
   "metadata": {},
   "source": [
    "First, the following code calculates the potential energy and density for various values of the lattice constant `a` for the Si BCC structure.\n",
    "\n",
    "Here, the `np.linspace` method is used to generate five lattice constants `a` between 2.5A and 7.0A, and the energy at each lattice constant is calculated."
   ]
  },
  {
   "cell_type": "code",
   "execution_count": 14,
   "id": "17975de5-70c2-4721-946c-f1e0fa74e700",
   "metadata": {},
   "outputs": [],
   "source": [
    "estimator = Estimator(calc_mode=EstimatorCalcMode.CRYSTAL_U0, model_version=\"v3.0.0\")\n",
    "calculator = ASECalculator(estimator)"
   ]
  },
  {
   "cell_type": "code",
   "execution_count": 15,
   "id": "8ed5e817-946d-434d-b287-f09638980a79",
   "metadata": {},
   "outputs": [
    {
     "name": "stdout",
     "output_type": "stream",
     "text": [
      "lattice a:  [2.5, 3.625, 4.75, 5.875, 7.0]\n",
      "Density  :  [7.8125, 23.817382812499996, 53.58593750000001, 101.38964843749996, 171.50000000000006]\n",
      "Energy   :  [-1.1319000978713731, -3.3385418260066886, -1.325669089403413, -0.1946264644375943, -0.007487893090558714]\n"
     ]
    }
   ],
   "source": [
    "from ase.build import bulk\n",
    "\n",
    "\n",
    "a_array = np.linspace(2.5, 7.0, 5)\n",
    "\n",
    "bcc_energy_list = []\n",
    "bcc_density_list = []\n",
    "for a in a_array:\n",
    "    atoms = bulk(\"Si\", \"bcc\", a=a)\n",
    "    atoms.calc = calculator\n",
    "    # calculate potential energy for 1 atom (eV/atom)\n",
    "    E_pot = atoms.get_potential_energy() / len(atoms)\n",
    "    density = len(atoms) / atoms.get_volume()\n",
    "    bcc_energy_list.append(E_pot)\n",
    "    bcc_density_list.append(atoms.get_volume())\n",
    "    \n",
    "print(\"lattice a: \", list(a_array))\n",
    "print(\"Density  : \", bcc_density_list)\n",
    "print(\"Energy   : \", bcc_energy_list)"
   ]
  },
  {
   "cell_type": "markdown",
   "id": "dd0f9b3b-162d-4b66-b427-55515aee3c3c",
   "metadata": {},
   "source": [
    "We make a method to wrap above procedure so that we can perform this calculations on a variety of structures."
   ]
  },
  {
   "cell_type": "code",
   "execution_count": 16,
   "id": "84495962-2669-40db-9108-3f3056d43780",
   "metadata": {},
   "outputs": [],
   "source": [
    "from ase.build import bulk\n",
    "\n",
    "def calc_density_energy(calculator, symbol: str = \"Fe\", crystalstructure: str = \"bcc\"):\n",
    "    a_array = np.linspace(2.0, 8.0, 30)\n",
    "\n",
    "    energy_list = []\n",
    "    density_list = []\n",
    "    for a in a_array:\n",
    "        atoms = bulk(symbol, crystalstructure, a=a)\n",
    "        atoms.calc = calculator\n",
    "        E_pot = atoms.get_potential_energy() / len(atoms)\n",
    "        density = len(atoms) / atoms.get_volume()\n",
    "        energy_list.append(E_pot)\n",
    "        density_list.append(density)\n",
    "    return np.array(energy_list), np.array(density_list)"
   ]
  },
  {
   "cell_type": "markdown",
   "id": "4face111-6eb9-476d-9eb6-4b02990f2048",
   "metadata": {},
   "source": [
    "This `calc_density_energy` method can be used to obtain a list of energies and densities for various structures."
   ]
  },
  {
   "cell_type": "code",
   "execution_count": 17,
   "id": "fa9aca91-b654-4350-9f16-f37b3287c940",
   "metadata": {},
   "outputs": [],
   "source": [
    "bcc_energy, bcc_density = calc_density_energy(calculator, \"Si\", \"bcc\")\n",
    "fcc_energy, fcc_density = calc_density_energy(calculator, \"Si\", \"fcc\")\n",
    "sc_energy, sc_density = calc_density_energy(calculator, \"Si\", \"sc\")\n",
    "hcp_energy, hcp_density = calc_density_energy(calculator, \"Si\", \"hcp\")\n",
    "diamond_energy, diamond_density = calc_density_energy(calculator, \"Si\", \"diamond\")"
   ]
  },
  {
   "cell_type": "markdown",
   "id": "20eb5a5a-71e6-4891-8da8-555e7eb4c98f",
   "metadata": {},
   "source": [
    "Looking at the calculated energy values, we can see that the energy values are unstable when the value of `a` is too small (when the density is made unrealistically large)."
   ]
  },
  {
   "cell_type": "code",
   "execution_count": 18,
   "id": "1b3a7862-8b03-4882-995d-d477e3ba33a8",
   "metadata": {},
   "outputs": [
    {
     "data": {
      "text/plain": [
       "array([-1.51431809e+03,  1.90312736e+02,  1.00883824e+00, -2.69269530e+00,\n",
       "       -3.69642360e+00, -4.01363424e+00, -3.93359487e+00, -3.67273086e+00,\n",
       "       -3.28083585e+00, -2.88532212e+00, -2.49506160e+00, -2.09706308e+00,\n",
       "       -1.72758801e+00, -1.41201213e+00, -1.11850814e+00, -8.32015884e-01,\n",
       "       -5.81543805e-01, -3.93798904e-01, -2.63483682e-01, -1.65962615e-01,\n",
       "       -9.01755903e-02, -5.25514094e-02, -4.20469155e-02, -3.06421093e-02,\n",
       "       -7.48789309e-03, -7.48789309e-03, -7.48789309e-03, -7.48789309e-03,\n",
       "       -7.48789309e-03, -7.48789309e-03])"
      ]
     },
     "execution_count": 18,
     "metadata": {},
     "output_type": "execute_result"
    }
   ],
   "source": [
    "bcc_energy"
   ]
  },
  {
   "cell_type": "markdown",
   "id": "52413276-ddcb-4a9a-92b9-e778e1567528",
   "metadata": {},
   "source": [
    "The following plots avoid such values.\n",
    "\n",
    "Using the `np.where` method, indices with absolute values of 5 or less are taken as `inds`, and plotted by `a_array[inds]` excluding the outlier values."
   ]
  },
  {
   "cell_type": "code",
   "execution_count": 19,
   "id": "bc988f76-41e6-425e-81ac-e4b3e7759749",
   "metadata": {},
   "outputs": [
    {
     "data": {
      "image/png": "[encoded data removed]",
      "text/plain": [
       "<Figure size 640x480 with 1 Axes>"
      ]
     },
     "metadata": {},
     "output_type": "display_data"
    }
   ],
   "source": [
    "a_array = np.linspace(2.0, 8.0, 30)\n",
    "inds = np.where(np.abs(sc_energy) < 5.0)[0]\n",
    "plt.plot(a_array[inds], sc_energy[inds], label=\"sc\")\n",
    "inds = np.where(np.abs(bcc_energy) < 5.0)[0]\n",
    "plt.plot(a_array[inds], bcc_energy[inds], label=\"bcc\")\n",
    "inds = np.where(np.abs(fcc_energy) < 5.0)[0]\n",
    "plt.plot(a_array[inds], fcc_energy[inds], label=\"fcc\")\n",
    "inds = np.where(np.abs(hcp_energy) < 5.0)[0]\n",
    "plt.plot(a_array[inds], hcp_energy[inds], label=\"hcp\")\n",
    "inds = np.where(np.abs(diamond_energy) < 5.0)[0]\n",
    "plt.plot(a_array[inds], diamond_energy[inds], label=\"diamond\")\n",
    "\n",
    "plt.xlabel(\"a [A]\")\n",
    "plt.ylabel(\"Energy per atom [eV]\")\n",
    "plt.legend()\n",
    "plt.title(\"Si bulk energy for various structure\")\n",
    "\n",
    "plt.ylim(-6.0, 0)\n",
    "#plt.yscale(\"log\")\n",
    "plt.show()"
   ]
  },
  {
   "cell_type": "markdown",
   "id": "8d1d06aa-3021-42d2-a400-e90430529c90",
   "metadata": {},
   "source": [
    "The above figure shows the lattice constant `a` as the horizonal axis. But it is difficult to compare because the position at which the energy becomes small differs from structure to structure.\n",
    "\n",
    "In the figure below, we plot the energy with density on the horizontal axis."
   ]
  },
  {
   "cell_type": "code",
   "execution_count": 20,
   "id": "5ae0f343-1a91-40bd-a58c-51541aed7491",
   "metadata": {},
   "outputs": [
    {
     "data": {
      "image/png": "[encoded data removed]",
      "text/plain": [
       "<Figure size 640x480 with 1 Axes>"
      ]
     },
     "metadata": {},
     "output_type": "display_data"
    }
   ],
   "source": [
    "inds = np.where(np.abs(sc_energy) < 5.0)[0]\n",
    "plt.plot(sc_density[inds], sc_energy[inds], label=\"sc\")\n",
    "inds = np.where(np.abs(bcc_energy) < 5.0)[0]\n",
    "plt.plot(bcc_density[inds], bcc_energy[inds], label=\"bcc\")\n",
    "inds = np.where(np.abs(fcc_energy) < 5.0)[0]\n",
    "plt.plot(fcc_density[inds], fcc_energy[inds], label=\"fcc\")\n",
    "inds = np.where(np.abs(hcp_energy) < 5.0)[0]\n",
    "plt.plot(hcp_density[inds], hcp_energy[inds], label=\"hcp\")\n",
    "inds = np.where(np.abs(diamond_energy) < 5.0)[0]\n",
    "plt.plot(diamond_density[inds], diamond_energy[inds], label=\"diamond\")\n",
    "\n",
    "plt.xlabel(\"Density [1/A^3]\")\n",
    "plt.ylabel(\"Energy per atom [eV]\")\n",
    "plt.legend()\n",
    "plt.title(\"Si bulk energy for various structure\")\n",
    "\n",
    "plt.ylim(-6.0, 0)\n",
    "#plt.yscale(\"log\")\n",
    "plt.show()"
   ]
  },
  {
   "cell_type": "markdown",
   "id": "a67f582a-33ce-41a6-b911-89623010679c",
   "metadata": {},
   "source": [
    "Now the figure is easier to read by taking density on the horizontal axis.\n",
    "\n",
    "Thus, we can obtain the lattice constants likely to minimize the energy for each of the SC, BCC, FCC, HCP, and Diamond structures by performing calculations with different lattice constants. <br/>\n",
    "By comparing the minimum energies for each structure in this calculation, we can analyze that **the diamond structure is stable for Si**."
   ]
  },
  {
   "cell_type": "markdown",
   "id": "b531230b-1fea-4a91-921f-8ba55dea7102",
   "metadata": {},
   "source": [
    "### 2. Lattice constant optimization of Fe crystal\n",
    "\n",
    "Next, let's find this lattice constant efficiently by using a structural optimization algorithm.\n",
    "When optimizing a bulk with a periodic structure, the method differs depending on whether we are optimizing only the atomic coordinates or **including the cell size**. <br/>\n",
    "If you want to optimize the cell as well, you need to apply the following Filter class to the ASE atoms.\n",
    "\n",
    "**Table: Optimization target and Filter to be used**\n",
    "\n",
    "|  Position  | Cell | Filter |\n",
    "| ---- | ---- | ---- |\n",
    "|  ✓  |    | No filter (Default behavior) |\n",
    "|    |  ✓  | `StrainFilter` |\n",
    "|  ✓  |  ✓  | `ExpCellFilter` or `UnitCellFilter` |\n",
    "\n",
    "1. Fix atomic coordinates, opt only cell --> `StrainFilter`\n",
    "2. Fix cell, opt only atomic coordinates --> No Filter\n",
    "3. Opt both atomic coordinates and cell  --> `ExpCellFilter`\n"
   ]
  },
  {
   "cell_type": "markdown",
   "id": "b9aa7b25-b675-4768-926c-34e51e46fec3",
   "metadata": {},
   "source": [
    "Here is an example of using `StrainFilter`.\n",
    "\n",
    "We will optimize the lattice constants of the BCC and FCC structures of Fe atoms. <br/>\n",
    "Since the BCC and FCC structures contain only one atom in the primitive cell, optimizing the atomic coordinates is not necessary, and it is sufficient to optimize only the lattice constants. \n",
    "So `StrainFilter` is appropriate."
   ]
  },
  {
   "cell_type": "code",
   "execution_count": 21,
   "id": "5092254f-f680-441f-8a55-356a51c71951",
   "metadata": {},
   "outputs": [
    {
     "name": "stdout",
     "output_type": "stream",
     "text": [
      "Before opt: Cell([[-1.5, 1.5, 1.5], [1.5, -1.5, 1.5], [1.5, 1.5, -1.5]])\n",
      "       Step     Time          Energy         fmax\n",
      "*Force-consistent energies used in optimization.\n",
      "LBFGS:    0 02:20:35       -4.865733*       2.2558\n",
      "LBFGS:    1 02:20:35       -4.933622*       2.0702\n",
      "LBFGS:    2 02:20:35       -4.434309*       8.0541\n",
      "LBFGS:    3 02:20:35       -4.992679*       0.5748\n",
      "LBFGS:    4 02:20:35       -4.996655*       0.1459\n",
      "LBFGS:    5 02:20:35       -4.996941*       0.0051\n"
     ]
    },
    {
     "data": {
      "text/plain": [
       "True"
      ]
     },
     "execution_count": 21,
     "metadata": {},
     "output_type": "execute_result"
    }
   ],
   "source": [
    "from ase.constraints import ExpCellFilter, StrainFilter\n",
    "\n",
    "fe_bcc_atoms = bulk(\"Fe\", \"bcc\", a=3.0)\n",
    "print(\"Before opt:\", fe_bcc_atoms.cell)\n",
    "fe_bcc_atoms.calc = calculator\n",
    "\n",
    "fe_bcc_atoms = StrainFilter(fe_bcc_atoms)\n",
    "opt = LBFGS(fe_bcc_atoms, trajectory=\"output/lbfgs_fe_bcc.traj\")\n",
    "opt.run()"
   ]
  },
  {
   "cell_type": "code",
   "execution_count": 22,
   "id": "6b17892b-221c-4160-b885-1fb9147f555b",
   "metadata": {},
   "outputs": [
    {
     "name": "stdout",
     "output_type": "stream",
     "text": [
      "Before opt: Cell([[0.0, 1.5, 1.5], [1.5, 0.0, 1.5], [1.5, 1.5, 0.0]])\n",
      "       Step     Time          Energy         fmax\n",
      "*Force-consistent energies used in optimization.\n",
      "LBFGS:    0 02:20:36       -2.789322*      16.4962\n",
      "LBFGS:    1 02:20:36       -4.806755*       3.0130\n",
      "LBFGS:    2 02:20:36       -4.878337*       0.6926\n",
      "LBFGS:    3 02:20:36       -4.882889*       0.1071\n",
      "LBFGS:    4 02:20:36       -4.883017*       0.0137\n"
     ]
    },
    {
     "data": {
      "text/plain": [
       "True"
      ]
     },
     "execution_count": 22,
     "metadata": {},
     "output_type": "execute_result"
    }
   ],
   "source": [
    "from ase.constraints import ExpCellFilter, StrainFilter\n",
    "\n",
    "fe_fcc_atoms = bulk(\"Fe\", \"fcc\", a=3.0)\n",
    "print(\"Before opt:\", fe_fcc_atoms.cell)\n",
    "fe_fcc_atoms.calc = calculator\n",
    "\n",
    "fe_fcc_atoms = StrainFilter(fe_fcc_atoms)\n",
    "opt = LBFGS(fe_fcc_atoms, trajectory=\"output/lbfgs_si_fcc.traj\")\n",
    "opt.run()"
   ]
  },
  {
   "cell_type": "code",
   "execution_count": 23,
   "id": "9ba49ef6-0edf-4c18-a951-8199ea5fbd06",
   "metadata": {},
   "outputs": [
    {
     "data": {
      "text/plain": [
       "Cell([[-1.4243732594602483, 1.4243732644003524, 1.4243732505018425], [1.4243732675507748, -1.4243732687974981, 1.4243732629895147], [1.42437325401479, 1.4243732633520398, -1.4243732548989883]])"
      ]
     },
     "execution_count": 23,
     "metadata": {},
     "output_type": "execute_result"
    }
   ],
   "source": [
    "fe_bcc_atoms.atoms.cell"
   ]
  },
  {
   "cell_type": "code",
   "execution_count": 24,
   "id": "fa16c6a9-6067-4d80-8cd4-cb2d20573ac6",
   "metadata": {},
   "outputs": [
    {
     "data": {
      "text/plain": [
       "Cell([[-2.272649880573051e-09, 1.7255768493652164, 1.7255767924285237], [1.7255767836800167, 1.862583482829644e-09, 1.7255767882932904], [1.7255767714053183, 1.7255768329552847, 1.4137281709826914e-08]])"
      ]
     },
     "execution_count": 24,
     "metadata": {},
     "output_type": "execute_result"
    }
   ],
   "source": [
    "fe_fcc_atoms.atoms.cell"
   ]
  },
  {
   "cell_type": "markdown",
   "id": "072ffbea-09e7-4455-9b19-adc8ba13c372",
   "metadata": {},
   "source": [
    "When optimizing the lattice constants using `StrainFilter`, the values of the a, b, and c axes are slightly different because of the lack of consideration for the symmetry of the crystal. <br/>\n",
    "(In fact, it is possible to optimize while preserving the symmetry by using `ExpCellFilter` or `FixSymmetry` as described below.)\n",
    "\n",
    "Here we will take the average value to calculate the final lattice constant. <br/>\n",
    "For the argument `a` to the `bulk` method of ASE, the cells of the BCC structure are\n",
    "\n",
    "```\n",
    "[[-a/2, a/2, a/2],\n",
    " [a/2, -a/2, a/2],\n",
    " [a/2, a/2, -a/2]]\n",
    "```\n",
    "\n",
    "The cells of the FCC structure are\n",
    "\n",
    "```\n",
    "[[0, a/2, a/2],\n",
    " [a/2, 0, a/2],\n",
    " [a/2, a/2, 0]]\n",
    "```\n",
    "\n",
    "The following calculation is performed using this fact."
   ]
  },
  {
   "cell_type": "code",
   "execution_count": 25,
   "id": "0cdc653b-5b0a-4908-ab59-571344d82afd",
   "metadata": {},
   "outputs": [
    {
     "name": "stdout",
     "output_type": "stream",
     "text": [
      "BCC opt: a = 2.85 A, E = -5.00 eV\n",
      "FCC opt: a = 3.45 A, E = -4.88 eV\n"
     ]
    }
   ],
   "source": [
    "a = np.abs(fe_bcc_atoms.atoms.cell).mean() * 2\n",
    "E_pot = fe_bcc_atoms.get_potential_energy()\n",
    "print(f\"BCC opt: a = {a:.2f} A, E = {E_pot:.2f} eV\")\n",
    "\n",
    "a = fe_fcc_atoms.atoms.cell.sum() / 3\n",
    "E_pot = fe_fcc_atoms.get_potential_energy()\n",
    "print(f\"FCC opt: a = {a:.2f} A, E = {E_pot:.2f} eV\")"
   ]
  },
  {
   "cell_type": "markdown",
   "id": "2c6e9cf3-207f-4a97-9af3-c2bebdce7dbe",
   "metadata": {},
   "source": [
    "As a result of structural optimization, we found that the BCC structure has the minimum energy at `a=2.85` A.\n",
    "\n",
    "We also found that **Fe is more stable in the BCC structure than in the FCC structure**, which is consistent with experimental results."
   ]
  },
  {
   "cell_type": "markdown",
   "id": "a0c69f74-ec5c-40ae-a260-bc44906373d3",
   "metadata": {},
   "source": [
    "Visualization of the progress of structural optimization shows that only the lattice constants are optimized, while the atomic coordinates remain the same."
   ]
  },
  {
   "cell_type": "code",
   "execution_count": 26,
   "id": "7ddefbf8-db76-43dd-b018-43551dca092c",
   "metadata": {},
   "outputs": [
    {
     "data": {
      "application/vnd.jupyter.widget-view+json": {
       "model_id": "66c7a196884e4a758ae7f1c102a24cfe",
       "version_major": 2,
       "version_minor": 0
      },
      "text/plain": [
       "HBox(children=(NGLWidget(max_frame=5), VBox(children=(Dropdown(description='Show', options=('All', 'Fe'), valu…"
      ]
     },
     "metadata": {},
     "output_type": "display_data"
    }
   ],
   "source": [
    "view_ngl(Trajectory(\"output/lbfgs_fe_bcc.traj\"), w=400, h=300, replace_structure=True)"
   ]
  },
  {
   "cell_type": "markdown",
   "id": "f1041e2f-e1b3-44a5-8cc4-2bc0d20e3fec",
   "metadata": {},
   "source": [
    "One caveat to using `StrainFilter` is that the a, b, and c axes of a cell are optimized independently, so even if you want to keep that ratio, it may not be preserved."
   ]
  },
  {
   "cell_type": "markdown",
   "id": "dfcfd1c1-cd08-4df4-be33-0ed630119142",
   "metadata": {
    "tags": []
   },
   "source": [
    "### 3. Lattice constant optimization of Si crystal diamond structure\n",
    "\n",
    "Next, let us perform optimization for the Si crystal diamond structure. <br/>\n",
    "Here, we use `ExpCellFilter` to optimize both atomic coordinates and cell size.\n",
    "\n",
    "In `ExpCellFilter`, you can perform optimization while preserving the ratio of a, b, and c axis lengths of cells by setting `hydrostatic_strain=True`."
   ]
  },
  {
   "cell_type": "code",
   "execution_count": 27,
   "id": "a2efc864-d6a0-40a6-8590-47def5d31f1e",
   "metadata": {},
   "outputs": [
    {
     "name": "stdout",
     "output_type": "stream",
     "text": [
      "cell size before:  Cell([[0.0, 2.715, 2.715], [2.715, 0.0, 2.715], [2.715, 2.715, 0.0]])\n",
      "       Step     Time          Energy         fmax\n",
      "*Force-consistent energies used in optimization.\n",
      "LBFGS:    0 02:20:49       -9.108032*       0.4967\n",
      "LBFGS:    1 02:20:49       -9.113262*       0.0002\n",
      "cell size after :  Cell([[0.0, 2.734332539572064, 2.734332539572064], [2.734332539572064, 0.0, 2.734332539572064], [2.734332539572064, 2.734332539572064, 0.0]])\n"
     ]
    }
   ],
   "source": [
    "from ase.constraints import ExpCellFilter, StrainFilter\n",
    "\n",
    "si_diamond_atoms = bulk(\"Si\", \"diamond\")\n",
    "si_diamond_atoms.calc = calculator\n",
    "\n",
    "print(\"cell size before: \", si_diamond_atoms.cell)\n",
    "si_diamond_atoms = ExpCellFilter(si_diamond_atoms, hydrostatic_strain=True)\n",
    "opt = LBFGS(si_diamond_atoms, trajectory=\"output/lbfgs_si_diamond.traj\")\n",
    "opt.run()\n",
    "\n",
    "print(\"cell size after : \", si_diamond_atoms.atoms.cell)"
   ]
  },
  {
   "cell_type": "markdown",
   "id": "f9867c55-91c6-441f-a1a9-e35dfa1fe252",
   "metadata": {},
   "source": [
    "Comparing the before and after of cell size, we can see that the cell size ratio was maintained during the structural relaxation."
   ]
  },
  {
   "cell_type": "code",
   "execution_count": 28,
   "id": "022a5e04-f63e-4782-8b17-2218e70294f5",
   "metadata": {},
   "outputs": [
    {
     "data": {
      "application/vnd.jupyter.widget-view+json": {
       "model_id": "5346f9e196d54a86a5d3944988d2111b",
       "version_major": 2,
       "version_minor": 0
      },
      "text/plain": [
       "HBox(children=(NGLWidget(max_frame=1), VBox(children=(Dropdown(description='Show', options=('All', 'Si'), valu…"
      ]
     },
     "metadata": {},
     "output_type": "display_data"
    }
   ],
   "source": [
    "view_ngl(Trajectory(\"output/lbfgs_si_diamond.traj\"), w=400, h=300, replace_structure=True)"
   ]
  },
  {
   "cell_type": "markdown",
   "id": "fb445352-7390-4f58-aa40-c83b60460e27",
   "metadata": {},
   "source": [
    "### 4. SiO$_2$ crystal\n",
    "\n",
    "So far, we have dealt with crystals containing only one element. Finally, we will optimize for SiO$_2$ crystals as a more practical example.\n",
    "\n",
    "SiO2 is also known to take various structures such as [Quartz](https://en.wikipedia.org/wiki/Quartz), [Cristobalite](https://en.wikipedia.org/wiki/Cristobalite), and [Tridymite](https://en.wikipedia.org/wiki/Tridymite) in reality.\n",
    "The existence of many crystal systems with the same composition is called [polymorphism](https://en.wikipedia.org/wiki/Polymorphism_(materials_science)).\n",
    "\n",
    "In this case, the Quartz structure is prepared from the Materials project, and structural optimization is performed.\n",
    "An `ExpCellFilter` is used to optimize both coordinates and cell size at the same time."
   ]
  },
  {
   "cell_type": "markdown",
   "id": "412f6d1e-da2c-436b-b53f-45a3630391ff",
   "metadata": {},
   "source": [
    "Input cif file is from  \n",
    "A. Jain*, S.P. Ong*, G. Hautier, W. Chen, W.D. Richards, S. Dacek, S. Cholia, D. Gunter, D. Skinner, G. Ceder, K.A. Persson (*=equal contributions)  \n",
    "The Materials Project: A materials genome approach to accelerating materials innovation\n",
    "APL Materials, 2013, 1(1), 011002.  \n",
    "[doi:10.1063/1.4812323](http://dx.doi.org/10.1063/1.4812323)  \n",
    "[[bibtex]](https://materialsproject.org/static/docs/jain_ong2013.349ca3156250.bib)  \n",
    "Licensed under [CC BY 4.0](https://creativecommons.org/licenses/by/4.0/)  "
   ]
  },
  {
   "cell_type": "code",
   "execution_count": 29,
   "id": "96e7a527-e7bc-49b5-8b07-5cba79045cf7",
   "metadata": {},
   "outputs": [
    {
     "data": {
      "application/vnd.jupyter.widget-view+json": {
       "model_id": "30432d93fb4a482fa1e08aec265f6998",
       "version_major": 2,
       "version_minor": 0
      },
      "text/plain": [
       "HBox(children=(NGLWidget(), VBox(children=(Dropdown(description='Show', options=('All', 'O', 'Si'), value='All…"
      ]
     },
     "metadata": {},
     "output_type": "display_data"
    }
   ],
   "source": [
    "atoms = read(\"../input/SiO2_mp-6930_conventional_standard.cif\")\n",
    "atoms.calc = calculator\n",
    "\n",
    "view_ngl(atoms, representations=[\"ball+stick\"])"
   ]
  },
  {
   "cell_type": "code",
   "execution_count": 30,
   "id": "8b110541-588d-4415-9dbd-a42cc1188558",
   "metadata": {},
   "outputs": [
    {
     "name": "stdout",
     "output_type": "stream",
     "text": [
      "       Step     Time          Energy         fmax\n",
      "*Force-consistent energies used in optimization.\n",
      "LBFGS:    0 02:20:57      -57.136945*       0.0379\n"
     ]
    },
    {
     "data": {
      "text/plain": [
       "True"
      ]
     },
     "execution_count": 30,
     "metadata": {},
     "output_type": "execute_result"
    }
   ],
   "source": [
    "opt = LBFGS(ExpCellFilter(atoms), trajectory=\"output/lbfgs_sio2.traj\")\n",
    "opt.run()"
   ]
  },
  {
   "cell_type": "code",
   "execution_count": 31,
   "id": "f6c050e9-3af0-46b1-b752-3e65ba731ec7",
   "metadata": {},
   "outputs": [
    {
     "data": {
      "application/vnd.jupyter.widget-view+json": {
       "model_id": "acb34ae9e410490d88910bbeb0aa9681",
       "version_major": 2,
       "version_minor": 0
      },
      "text/plain": [
       "HBox(children=(NGLWidget(), VBox(children=(Dropdown(description='Show', options=('All', 'O', 'Si'), value='All…"
      ]
     },
     "metadata": {},
     "output_type": "display_data"
    }
   ],
   "source": [
    "view_ngl(Trajectory(\"output/lbfgs_sio2.traj\"), representations=[\"ball+stick\"])"
   ]
  },
  {
   "cell_type": "markdown",
   "id": "764f09e6-d3c4-4b16-8f2d-9108b3a24957",
   "metadata": {},
   "source": [
    "**[Note] Structural optimization is required every time Calculator (potential energy) changes**\n",
    "\n",
    "You might think that the structure of the Materials project is already a perfectly stable structure, since it is also a structure that has undergone structural optimization.\n",
    "However, the exact local point (the structure that takes the lowest energy) is different when the potential energy changes."
   ]
  },
  {
   "cell_type": "markdown",
   "id": "6d0c3bf7-030a-45f7-b17d-d4c7b86770d6",
   "metadata": {},
   "source": [
    "## [Column] Structural optimization and the real world\n",
    "\n",
    "The structural optimization calculations presented in this chapter are the foundation for almost all the atomistic simulations introduced later. However, the computational methods used inside the structural optimization are somewhat technical, and those new to atomistic simulations through this tutorial may not intuitively understand the necessity of such calculations. Therefore, in this column, we will review structural optimization calculations from the viewpoint of their correspondence with the real world.\n",
    "\n",
    "### Need for structural optimization\n",
    "\n",
    "Considering how the atomic arrangement of material in the real world is determined, each atom is free to move around without any particular constraints, so excess energy is dissipated and transformed into a stable structure with low energy. \n",
    "Once we consider the case where the temperature is sufficiently low, ignoring the effect of temperature, in that case, the kinetic energy of the atoms will be zero, and the potential energy will be minimal. \n",
    "In this sense, structural optimization calculations correspond to absolute zero temperature conditions in the real world.\n",
    "\n",
    "What about the case of finite temperature? \n",
    "From the theory of statistical mechanics, it is known that temperature and kinetic energy have a constant relationship in a system in equilibrium. A rough calculation shows that a 1 K rise corresponds roughly to a 1/10000 eV/atom increase in kinetic energy. \n",
    "Conversely, an increase in energy of 1 eV/atom corresponds to a structure of about 10000 K in terms of temperature. \n",
    "Thus, even at finite temperatures, an energy-optimized structure is often a good enough approximation, so it is common practice to start the simulation with a structural optimization calculation (and then increase the temperature for finite temperatures).\n",
    "\n",
    "Simulations without structural optimization may lead to unrealistic results due to differences in assumptions. \n",
    "For example, if the cell size of the iron crystal structure is reduced by 1%, you may not notice any particular change if you only visualize the atomic structure. \n",
    "However, as can be seen by considering the operation of shrinking iron by 1% in the real world, this corresponds to iron under high compressive force (specifically, pressure in excess of 1 GPa), which can change the results of the simulation.\n",
    "\n",
    "### Structural optimization methods and real world structural relaxation\n",
    "\n",
    "Let us consider why there are several structural optimization methods by their correspondence to the real world. What happens when the material at an appropriately high temperature, like molten iron, is cooled slightly by removing heat? The iron atoms constantly vibrate due to the heat, taking on various atomic configurations and gradually transitioning to a structure with lower potential energy. Eventually, they transition to a crystal structure with low energy, a well-ordered atomic arrangement. In this sense, structural optimization in the real world is considered [simulated annealing](https://en.wikipedia.org/wiki/Simulated_annealing)). \n",
    "(Historically, this corresponds to the original idea of annealing.)\n",
    "\n",
    "In simulated annealing, atoms are in motion for a long time at an elevated temperature. It means that, in principle, an atomistic simulation can yield the same stable structure as in the real world if a sufficiently long molecular dynamics calculation can be performed.\n",
    "\n",
    "The problem here, however, is the gap between the time scale of the MD simulation and reality. \n",
    "While atomic motion is typically a femtosecond ($10^{-15}$ s) order phenomenon, much longer time scales typically come into play when considering real-world materials. \n",
    "Therefore, real-world structures can be viewed as the result of extremely long-time structural optimization calculations on the scale of $10^{15}$ or even longer atomic scale simulations.\n",
    "It is also known that the annealing method is a highly robust optimization technique and can arrive at a more globally optimal solution by taking a sufficiently long time. \n",
    "Therefore, it is possible to consider that a material that exists, in reality, has obtained an atomic structure for which the global optimization problem has been virtually solved.\n",
    "\n",
    "Thus, methods that allow atomistic simulations to find more globally optimal solutions in a shorter time have been developed. This is generally a tradeoff against computational time and is used in different cases. Suppose the structure of interest is already known, such as a crystalline structure, and a sufficiently close structure can be taken as the initial structure. In that case, the BFGS-like method shown in the example above is the preferred method for finding the local optimum. Conversely, when the target structure is unknown, such as an amorphous structure, more attention is paid to finding a more globally optimal solution. (For more realistic results, melt-quench methods are used, for example, in which the temperature is slowly lowered.) This is why libraries of atomic simulations, including ASE, include a variety of optimal solution methods.\n",
    "As a side note, there are cases in the real world where the solution is not globally optimal. For example, diamond, a high-pressure phase of carbon, is not stable on earth, and graphite is the most stable allotrope. Because of the high energy required for structural change, the rate of structural change is extremely slow and is treated as a practically stable structure ([metastable state](https://en.wikipedia.org/wiki/Metastability)) on the human time scale. \n",
    "\n",
    "A famous example of active use in manufacturing is the quenching of iron. The technique of hardening heated iron by immersing it in water is well known in the forging of Japanese swords. The time required for structural relaxation is limited by rapidly quenching the temperature, and the transition to a stable structure is prevented. This treatment yields a metastable state with a more desirable strength.\n",
    "\n",
    "Thus, phenomena involving phase transformations and chemical changes often occur slowly, even on an everyday scale. This is true for atomistic simulations as well, and if one wants to look at phase transformations or chemical reactions, a more efficient computational approach may be used than simply performing long kinetic calculations. One specific example is the NEB method described in chapter 5."
   ]
  }
 ],
 "metadata": {
  "kernelspec": {
   "display_name": "Python 3.7",
   "language": "python",
   "name": "python37"
  },
  "language_info": {
   "codemirror_mode": {
    "name": "ipython",
    "version": 3
   },
   "file_extension": ".py",
   "mimetype": "text/x-python",
   "name": "python",
   "nbconvert_exporter": "python",
   "pygments_lexer": "ipython3",
   "version": "3.7.13"
  },
  "widgets": {
   "application/vnd.jupyter.widget-state+json": {
    "state": {
     "0127bc9cc57948eb8b5caec100a6cd1e": {
      "model_module": "@jupyter-widgets/controls",
      "model_module_version": "1.5.0",
      "model_name": "ButtonStyleModel",
      "state": {}
     },
     "019e3c6ea9a64e35ba4ab3d9c038525e": {
      "model_module": "@jupyter-widgets/base",
      "model_module_version": "1.2.0",
      "model_name": "LayoutModel",
      "state": {}
     },
     "01be487248e24f1681dfbdfe2c09cb13": {
      "model_module": "@jupyter-widgets/controls",
      "model_module_version": "1.5.0",
      "model_name": "FloatSliderModel",
      "state": {
       "description": "Charge scale",
       "layout": "IPY_MODEL_78a6d5daf7884e1eb270e0e5f07f2395",
       "step": 0.1,
       "style": "IPY_MODEL_1f7ac8651ed4406898c7bf8298b4bfa3",
       "value": 1
      }
     },
     "01df1d9b66c647f3b7cd53c7d86df59b": {
      "model_module": "@jupyter-widgets/base",
      "model_module_version": "1.2.0",
      "model_name": "LayoutModel",
      "state": {}
     },
     "02c17c20d1c240a8889562cb5720e328": {
      "model_module": "@jupyter-widgets/base",
      "model_module_version": "1.2.0",
      "model_name": "LayoutModel",
      "state": {}
     },
     "031ce47ef7384c7eb8c838617afa3f3b": {
      "model_module": "@jupyter-widgets/controls",
      "model_module_version": "1.5.0",
      "model_name": "LinkModel",
      "state": {
       "source": [
        "IPY_MODEL_d8e6f62c422e4189a63259d58d122208",
        "max"
       ],
       "target": [
        "IPY_MODEL_e97d718fa7be4dc29921a84b41f7047c",
        "max_frame"
       ]
      }
     },
     "036c8c87efd5433a8e09ba0ec693c42c": {
      "model_module": "@jupyter-widgets/base",
      "model_module_version": "1.2.0",
      "model_name": "LayoutModel",
      "state": {}
     },
     "037ec0993f9f4bc99c58be8d7e49939a": {
      "model_module": "@jupyter-widgets/base",
      "model_module_version": "1.2.0",
      "model_name": "LayoutModel",
      "state": {}
     },
     "04ab4ad483ba4c179b223a926c590725": {
      "model_module": "@jupyter-widgets/base",
      "model_module_version": "1.2.0",
      "model_name": "LayoutModel",
      "state": {}
     },
     "04f1844ed7ef452ba137c7750f4de73b": {
      "model_module": "@jupyter-widgets/base",
      "model_module_version": "1.2.0",
      "model_name": "LayoutModel",
      "state": {}
     },
     "0503f7dee6494389a924daeabf3c4537": {
      "model_module": "nglview-js-widgets",
      "model_module_version": "3.0.1",
      "model_name": "NGLModel",
      "state": {
       "_camera_orientation": [
        7.79344961190339,
        0,
        0,
        0,
        0,
        7.79344961190339,
        0,
        0,
        0,
        0,
        7.79344961190339,
        0,
        -0.9599999785423279,
        -0.5540000200271606,
        -0.3919999897480011,
        1
       ],
       "_camera_str": "orthographic",
       "_gui_theme": null,
       "_ibtn_fullscreen": "IPY_MODEL_0ac88004f58441999613345bf0920018",
       "_igui": null,
       "_iplayer": "IPY_MODEL_914bbeeabf0649bbb0423bcfe6843f84",
       "_ngl_color_dict": {},
       "_ngl_coordinate_resource": {},
       "_ngl_full_stage_parameters": {
        "ambientColor": 14540253,
        "ambientIntensity": 0.2,
        "backgroundColor": "white",
        "cameraEyeSep": 0.3,
        "cameraFov": 40,
        "cameraType": "orthographic",
        "clipDist": 0,
        "clipFar": 100,
        "clipNear": 0,
        "fogFar": 100,
        "fogNear": 50,
        "hoverTimeout": 0,
        "impostor": true,
        "lightColor": 14540253,
        "lightIntensity": 1,
        "mousePreset": "default",
        "panSpeed": 1,
        "quality": "medium",
        "rotateSpeed": 2,
        "sampleLevel": 0,
        "tooltip": true,
        "workerDefault": true,
        "zoomSpeed": 1.2
       },
       "_ngl_msg_archive": [
        {
         "args": [
          {
           "binary": false,
           "data": "CRYST1    3.840    3.840    3.840  60.00  60.00  60.00 P 1\nMODEL     1\nATOM      1   Si MOL     1       0.000   0.000   0.000  1.00  0.00          SI  \nATOM      2   Si MOL     1       1.920   1.108   0.784  1.00  0.00          SI  \nENDMDL\n",
           "type": "blob"
          }
         ],
         "kwargs": {
          "defaultRepresentation": false,
          "ext": "pdb"
         },
         "methodName": "loadFile",
         "reconstruc_color_scheme": false,
         "target": "Stage",
         "type": "call_method"
        },
        {
         "args": [
          "400px",
          "300px"
         ],
         "kwargs": {},
         "methodName": "setSize",
         "reconstruc_color_scheme": false,
         "target": "Widget",
         "type": "call_method"
        },
        {
         "args": [
          "unitcell"
         ],
         "component_index": 0,
         "kwargs": {
          "sele": "all"
         },
         "methodName": "addRepresentation",
         "reconstruc_color_scheme": false,
         "target": "compList",
         "type": "call_method"
        },
        {
         "args": [
          "spacefill"
         ],
         "component_index": 0,
         "kwargs": {
          "sele": "all"
         },
         "methodName": "addRepresentation",
         "reconstruc_color_scheme": false,
         "target": "compList",
         "type": "call_method"
        },
        {
         "args": [],
         "kwargs": {
          "cameraType": "orthographic"
         },
         "methodName": "setParameters",
         "reconstruc_color_scheme": false,
         "target": "Stage",
         "type": "call_method"
        },
        {
         "args": [
          {
           "clipDist": 0
          }
         ],
         "kwargs": {},
         "methodName": "setParameters",
         "reconstruc_color_scheme": false,
         "target": "Widget",
         "type": "call_method"
        },
        {
         "args": [
          "spacefill",
          0
         ],
         "kwargs": {
          "colorScale": "rainbow",
          "colorScheme": "element",
          "radiusScale": 0.5,
          "radiusType": "covalent"
         },
         "methodName": "updateRepresentationsByName",
         "reconstruc_color_scheme": false,
         "target": "Widget",
         "type": "call_method"
        },
        {
         "args": [
          "this._Q = [[-0.0, 0.7071067811865476, 0.7071067811865476], [0.816496580927726, -0.40824829046386285, 0.40824829046386296], [0.5773502691896257, 0.5773502691896258, -0.5773502691896257]]\n    var tooltip = document.createElement('div');\n    Object.assign(tooltip.style, {\n      display: 'none',\n      position: 'fixed',\n      zIndex: 10,\n      pointerEvents: 'none',\n      backgroundColor: 'rgba( 0, 0, 0, 0.6 )',\n      color: 'lightgrey',\n      padding: '8px',\n      fontFamily: 'sans-serif'\n    });\n    document.body.appendChild(tooltip);\n\n    var that = this;\n    this.stage.mouseControls.remove('hoverPick');\n    this.stage.signals.hovered.add(function (pickingProxy) {\n      if (pickingProxy && (pickingProxy.atom || pickingProxy.bond)) {\n        var atom = pickingProxy.atom || pickingProxy.closestBondAtom\n        var mp = pickingProxy.mouse.position\n        //tooltip.innerText = atom.element + ' i=' + atom.index + ' (' + atom.x.toFixed(2) +  ', ' + atom.y.toFixed(2) +  ', ' + atom.z.toFixed(2) + ')'\n        //var pos = that._atoms_pos[atom.index]\n        var Q = that._Q\n        var pos_x = Q[0][0] * atom.x + Q[0][1] * atom.y + Q[0][2] * atom.z \n        var pos_y = Q[1][0] * atom.x + Q[1][1] * atom.y + Q[1][2] * atom.z\n        var pos_z = Q[2][0] * atom.x + Q[2][1] * atom.y + Q[2][2] * atom.z\n        tooltip.innerText = 'i=' + atom.index + ' ' + atom.element + ' (' + pos_x.toFixed(2) +  ', ' + pos_y.toFixed(2) +  ', ' + pos_z.toFixed(2) + ')'\n        tooltip.style.bottom = window.innerHeight - mp.y + 3 + 'px'\n        tooltip.style.left = mp.x + 3 + 'px'\n        tooltip.style.display = 'block'\n      } else {\n        tooltip.style.display = 'none'\n      }\n    });\n    this.stage.tooltip = tooltip;\n    "
         ],
         "kwargs": {},
         "methodName": "executeCode",
         "reconstruc_color_scheme": false,
         "target": "Widget",
         "type": "call_method"
        }
       ],
       "_ngl_original_stage_parameters": {
        "ambientColor": 14540253,
        "ambientIntensity": 0.2,
        "backgroundColor": "white",
        "cameraEyeSep": 0.3,
        "cameraFov": 40,
        "cameraType": "perspective",
        "clipDist": 10,
        "clipFar": 100,
        "clipNear": 0,
        "fogFar": 100,
        "fogNear": 50,
        "hoverTimeout": 0,
        "impostor": true,
        "lightColor": 14540253,
        "lightIntensity": 1,
        "mousePreset": "default",
        "panSpeed": 1,
        "quality": "medium",
        "rotateSpeed": 2,
        "sampleLevel": 0,
        "tooltip": true,
        "workerDefault": true,
        "zoomSpeed": 1.2
       },
       "_ngl_repr_dict": {
        "0": {
         "0": {
          "params": {
           "clipCenter": {
            "x": 0,
            "y": 0,
            "z": 0
           },
           "clipNear": 0,
           "clipRadius": 0,
           "colorMode": "hcl",
           "colorReverse": false,
           "colorScale": "",
           "colorScheme": "element",
           "colorValue": "orange",
           "defaultAssembly": "",
           "depthWrite": true,
           "diffuse": 16777215,
           "diffuseInterior": false,
           "disableImpostor": false,
           "disablePicking": false,
           "flatShaded": false,
           "interiorColor": 2236962,
           "interiorDarkening": 0,
           "lazy": false,
           "matrix": {
            "elements": [
             1,
             0,
             0,
             0,
             0,
             1,
             0,
             0,
             0,
             0,
             1,
             0,
             0,
             0,
             0,
             1
            ]
           },
           "metalness": 0,
           "opacity": 1,
           "quality": "medium",
           "radialSegments": 10,
           "radiusData": {},
           "radiusScale": 1,
           "radiusSize": 0.01710379193803476,
           "radiusType": "vdw",
           "roughness": 0.4,
           "sele": "all",
           "side": "double",
           "sphereDetail": 1,
           "useInteriorColor": true,
           "visible": true,
           "wireframe": false
          },
          "type": "unitcell"
         },
         "1": {
          "params": {
           "assembly": "default",
           "clipCenter": {
            "x": 0,
            "y": 0,
            "z": 0
           },
           "clipNear": 0,
           "clipRadius": 0,
           "colorMode": "hcl",
           "colorReverse": false,
           "colorScale": "rainbow",
           "colorScheme": "element",
           "colorValue": 9474192,
           "defaultAssembly": "",
           "depthWrite": true,
           "diffuse": 16777215,
           "diffuseInterior": false,
           "disableImpostor": false,
           "disablePicking": false,
           "flatShaded": false,
           "interiorColor": 2236962,
           "interiorDarkening": 0,
           "lazy": false,
           "matrix": {
            "elements": [
             1,
             0,
             0,
             0,
             0,
             1,
             0,
             0,
             0,
             0,
             1,
             0,
             0,
             0,
             0,
             1
            ]
           },
           "metalness": 0,
           "opacity": 1,
           "quality": "medium",
           "radiusData": {},
           "radiusScale": 0.5,
           "radiusSize": 1,
           "radiusType": "covalent",
           "roughness": 0.4,
           "sele": "all",
           "side": "double",
           "sphereDetail": 1,
           "useInteriorColor": true,
           "visible": true,
           "wireframe": false
          },
          "type": "spacefill"
         }
        }
       },
       "_ngl_serialize": false,
       "_ngl_version": "2.0.0-dev.36",
       "_ngl_view_id": [
        "6EB6FAAE-D0D9-4C84-8626-BE58B43681CD"
       ],
       "_player_dict": {},
       "_scene_position": {},
       "_scene_rotation": {},
       "_synced_model_ids": [],
       "_synced_repr_model_ids": [],
       "_view_height": "",
       "_view_width": "",
       "background": "white",
       "frame": 0,
       "gui_style": null,
       "layout": "IPY_MODEL_8c2d12a2bc224e34ae53aefdcca9eda1",
       "max_frame": 1,
       "n_components": 1,
       "picked": {}
      }
     },
     "06c77da7ab9c4b2bbb9dcd425340efa5": {
      "model_module": "@jupyter-widgets/controls",
      "model_module_version": "1.5.0",
      "model_name": "LinkModel",
      "state": {
       "source": [
        "IPY_MODEL_3cfee9498e374164a5f00ad2167320a4",
        "max"
       ],
       "target": [
        "IPY_MODEL_4ad145ac419a4f17ba5e45ed5f3432c2",
        "max_frame"
       ]
      }
     },
     "0729377cfd564355bcf0417b6c6137e6": {
      "model_module": "@jupyter-widgets/controls",
      "model_module_version": "1.5.0",
      "model_name": "FloatSliderModel",
      "state": {
       "description": "Ball size",
       "layout": "IPY_MODEL_c8e4e3d7d9bf403fb7b80b2c81771b93",
       "max": 1.5,
       "step": 0.01,
       "style": "IPY_MODEL_673087df5e6540be83d2083bba98d4c3",
       "value": 0.5
      }
     },
     "0807f77d932741b196640ce1b20b2eb6": {
      "model_module": "@jupyter-widgets/controls",
      "model_module_version": "1.5.0",
      "model_name": "ImageModel",
      "state": {
       "layout": "IPY_MODEL_6cbf41c03a75402e8412bd1088cc367d",
       "width": "900.0"
      }
     },
     "0927b7c6bc004fec8ed5fd40051203cd": {
      "model_module": "@jupyter-widgets/controls",
      "model_module_version": "1.5.0",
      "model_name": "LinkModel",
      "state": {
       "source": [
        "IPY_MODEL_3cfee9498e374164a5f00ad2167320a4",
        "value"
       ],
       "target": [
        "IPY_MODEL_4ad145ac419a4f17ba5e45ed5f3432c2",
        "frame"
       ]
      }
     },
     "09aac2e30e4d4b859c81e9858cd21933": {
      "model_module": "@jupyter-widgets/controls",
      "model_module_version": "1.5.0",
      "model_name": "SliderStyleModel",
      "state": {
       "description_width": ""
      }
     },
     "0a092a74dc1a47a18ff43ecaf6aaf501": {
      "model_module": "@jupyter-widgets/controls",
      "model_module_version": "1.5.0",
      "model_name": "IntSliderModel",
      "state": {
       "layout": "IPY_MODEL_f4c12561bb8d4e488c0559917884af6d",
       "max": 5,
       "style": "IPY_MODEL_0f583c6cef6c434d977d485594a7da50"
      }
     },
     "0a0a0d12bb5242c2bd635a9e836f7dab": {
      "model_module": "@jupyter-widgets/controls",
      "model_module_version": "1.5.0",
      "model_name": "ImageModel",
      "state": {
       "layout": "IPY_MODEL_21e98babbea64a7c869dc71077d7becf",
       "width": "900.0"
      }
     },
     "0a29cd0108c44f7ab6e450fe2e65a854": {
      "model_module": "@jupyter-widgets/controls",
      "model_module_version": "1.5.0",
      "model_name": "FloatSliderModel",
      "state": {
       "description": "Force scale",
       "layout": "IPY_MODEL_c9f670aaa12a436f98b7a1b2476b1a89",
       "step": 0.1,
       "style": "IPY_MODEL_11e2bd3fb9da4b658e8827ad5a95ed3e",
       "value": 0.5
      }
     },
     "0a60364d12eb46bc94318c4bf5e9e498": {
      "model_module": "@jupyter-widgets/controls",
      "model_module_version": "1.5.0",
      "model_name": "ButtonModel",
      "state": {
       "description": "Save image",
       "layout": "IPY_MODEL_e86aa5a088174136a0c2268c0e261679",
       "style": "IPY_MODEL_a21dc9229c4f4d54abe8e4fdded54adc",
       "tooltip": "Save current frame to file.\nCurrently .png and .html are supported.\nIt takes a bit time, please be patient."
      }
     },
     "0ac281996d60456a9481a87cdc648f34": {
      "model_module": "@jupyter-widgets/base",
      "model_module_version": "1.2.0",
      "model_name": "LayoutModel",
      "state": {}
     },
     "0ac88004f58441999613345bf0920018": {
      "model_module": "@jupyter-widgets/controls",
      "model_module_version": "1.5.0",
      "model_name": "ButtonModel",
      "state": {
       "icon": "compress",
       "layout": "IPY_MODEL_bf6c666afb6b433abc895ce3d2c993fd",
       "style": "IPY_MODEL_a8588fdfed0f41afb47cfe5408b71c0c"
      }
     },
     "0c0563ddd97d465987ac478425ce0439": {
      "model_module": "@jupyter-widgets/controls",
      "model_module_version": "1.5.0",
      "model_name": "CheckboxModel",
      "state": {
       "description": "Show force",
       "disabled": false,
       "layout": "IPY_MODEL_7aa3a18116604a3fbfb8c23b23425833",
       "style": "IPY_MODEL_900ed7a691d14c858c8f804ca96c2ae9",
       "value": false
      }
     },
     "0c39f7d3fbe9470b9a365bf9f999761a": {
      "model_module": "@jupyter-widgets/controls",
      "model_module_version": "1.5.0",
      "model_name": "DescriptionStyleModel",
      "state": {
       "description_width": ""
      }
     },
     "0c6d34eca0c8469e9e4d33085198baf6": {
      "model_module": "@jupyter-widgets/controls",
      "model_module_version": "1.5.0",
      "model_name": "DescriptionStyleModel",
      "state": {
       "description_width": ""
      }
     },
     "0dc4e948a34e4ef090a449a7d9d75341": {
      "model_module": "@jupyter-widgets/controls",
      "model_module_version": "1.5.0",
      "model_name": "LinkModel",
      "state": {
       "source": [
        "IPY_MODEL_405a3af33bb144a0ac26ad0e3b9525fb",
        "max"
       ],
       "target": [
        "IPY_MODEL_d7c47c19e64f4ac9af477f6764e31131",
        "max_frame"
       ]
      }
     },
     "0e56a630974244e880bfa4f27972015e": {
      "model_module": "@jupyter-widgets/controls",
      "model_module_version": "1.5.0",
      "model_name": "ButtonModel",
      "state": {
       "description": "Save image",
       "layout": "IPY_MODEL_6f21a395fa0d4c32a96c67826020fc76",
       "style": "IPY_MODEL_c4ae1712a62444ce9f78104dc315bcd6",
       "tooltip": "Save current frame to file.\nCurrently .png and .html are supported.\nIt takes a bit time, please be patient."
      }
     },
     "0eee1c28fa6a491ab9545fba5a407471": {
      "model_module": "@jupyter-widgets/controls",
      "model_module_version": "1.5.0",
      "model_name": "DropdownModel",
      "state": {
       "_options_labels": [
        " ",
        "picking",
        "random",
        "uniform",
        "atomindex",
        "residueindex",
        "chainindex",
        "modelindex",
        "sstruc",
        "element",
        "resname",
        "bfactor",
        "hydrophobicity",
        "value",
        "volume",
        "occupancy"
       ],
       "description": "Color scheme",
       "index": 9,
       "layout": "IPY_MODEL_f176bd83570d477481536a8f285b0e35",
       "style": "IPY_MODEL_c88349b0a6a14e269aedc011ccf36490"
      }
     },
     "0f45c9f13a0841f89cbd30e3668f8890": {
      "model_module": "@jupyter-widgets/controls",
      "model_module_version": "1.5.0",
      "model_name": "FloatSliderModel",
      "state": {
       "description": "Ball size",
       "layout": "IPY_MODEL_04f1844ed7ef452ba137c7750f4de73b",
       "max": 1.5,
       "step": 0.01,
       "style": "IPY_MODEL_642255d47bf74e8ba74bb809dcc851f5",
       "value": 0.5
      }
     },
     "0f583c6cef6c434d977d485594a7da50": {
      "model_module": "@jupyter-widgets/controls",
      "model_module_version": "1.5.0",
      "model_name": "SliderStyleModel",
      "state": {
       "description_width": ""
      }
     },
     "0f65d4ccec174ac59952bf09719bcbc5": {
      "model_module": "@jupyter-widgets/base",
      "model_module_version": "1.2.0",
      "model_name": "LayoutModel",
      "state": {}
     },
     "119b25dffe144cb183dbbaea9ebb5c27": {
      "model_module": "@jupyter-widgets/base",
      "model_module_version": "1.2.0",
      "model_name": "LayoutModel",
      "state": {}
     },
     "11a02cbee884450e8912f3a66c2881d9": {
      "model_module": "@jupyter-widgets/controls",
      "model_module_version": "1.5.0",
      "model_name": "SliderStyleModel",
      "state": {
       "description_width": ""
      }
     },
     "11bf3e4a6f1c42a8ba8f6499770142c1": {
      "model_module": "@jupyter-widgets/base",
      "model_module_version": "1.2.0",
      "model_name": "LayoutModel",
      "state": {}
     },
     "11c5ae5f8b6640e1815f2010d1501707": {
      "model_module": "@jupyter-widgets/controls",
      "model_module_version": "1.5.0",
      "model_name": "CheckboxModel",
      "state": {
       "description": "Show force",
       "disabled": false,
       "layout": "IPY_MODEL_59d5d2f2a9224ee48e4e4411108e45bd",
       "style": "IPY_MODEL_50a578e2493148f18de04632af2bc477",
       "value": false
      }
     },
     "11e2bd3fb9da4b658e8827ad5a95ed3e": {
      "model_module": "@jupyter-widgets/controls",
      "model_module_version": "1.5.0",
      "model_name": "SliderStyleModel",
      "state": {
       "description_width": ""
      }
     },
     "1394b15155de4a5cb356aacdc92abb45": {
      "model_module": "@jupyter-widgets/base",
      "model_module_version": "1.2.0",
      "model_name": "LayoutModel",
      "state": {}
     },
     "13be4b3af2644530acb6f196a32955de": {
      "model_module": "@jupyter-widgets/controls",
      "model_module_version": "1.5.0",
      "model_name": "DescriptionStyleModel",
      "state": {
       "description_width": ""
      }
     },
     "13c0f580286548d4942b2fbee8d48d57": {
      "model_module": "@jupyter-widgets/base",
      "model_module_version": "1.2.0",
      "model_name": "LayoutModel",
      "state": {
       "border": "0px solid black"
      }
     },
     "148cbe5231224d6bac2651ad654e4e3a": {
      "model_module": "@jupyter-widgets/base",
      "model_module_version": "1.2.0",
      "model_name": "LayoutModel",
      "state": {}
     },
     "1495e38741364f7eb728805a65562268": {
      "model_module": "@jupyter-widgets/base",
      "model_module_version": "1.2.0",
      "model_name": "LayoutModel",
      "state": {}
     },
     "152007656b1e44efa22194a0c8945dfa": {
      "model_module": "@jupyter-widgets/controls",
      "model_module_version": "1.5.0",
      "model_name": "FloatSliderModel",
      "state": {
       "description": "Ball size",
       "layout": "IPY_MODEL_5ec6bc213bd84d8291dd419b02b9e580",
       "max": 1.5,
       "step": 0.01,
       "style": "IPY_MODEL_938567095e9444688c38138c471b3918",
       "value": 0.5
      }
     },
     "159103a800354a419b58b21febfc784e": {
      "model_module": "@jupyter-widgets/controls",
      "model_module_version": "1.5.0",
      "model_name": "FloatSliderModel",
      "state": {
       "description": "Ball size",
       "layout": "IPY_MODEL_52543e7769a5440082b188be41230bcb",
       "max": 1.5,
       "step": 0.01,
       "style": "IPY_MODEL_193c95482dcf4ae395aa29de8e5f34da",
       "value": 0.5
      }
     },
     "159c756d9601496d9ff4fe09a6c7d14e": {
      "model_module": "@jupyter-widgets/controls",
      "model_module_version": "1.5.0",
      "model_name": "CheckboxModel",
      "state": {
       "description": "Show charge",
       "disabled": false,
       "layout": "IPY_MODEL_57ca69d879344d58872e2dba395d4b3a",
       "style": "IPY_MODEL_13be4b3af2644530acb6f196a32955de",
       "value": false
      }
     },
     "15b98c82b9704d69a1342ca61e874b81": {
      "model_module": "@jupyter-widgets/base",
      "model_module_version": "1.2.0",
      "model_name": "LayoutModel",
      "state": {}
     },
     "170cb430ba3144ddafa2bfbe82a2771e": {
      "model_module": "@jupyter-widgets/controls",
      "model_module_version": "1.5.0",
      "model_name": "SliderStyleModel",
      "state": {
       "description_width": ""
      }
     },
     "178af476764b4282afa0f79b22b45dbc": {
      "model_module": "@jupyter-widgets/controls",
      "model_module_version": "1.5.0",
      "model_name": "VBoxModel",
      "state": {
       "children": [
        "IPY_MODEL_3230ecb20879419391dcb0198177c460",
        "IPY_MODEL_6e0ba7a740dd4b46bdc87a32f9d818f6",
        "IPY_MODEL_152007656b1e44efa22194a0c8945dfa",
        "IPY_MODEL_63f1a262c48643eeaf1be88fe1e0ae4a",
        "IPY_MODEL_d18bb3ae72c1480e8adc687d258e076d",
        "IPY_MODEL_3db6154daa814aef9a802bdd5634f692",
        "IPY_MODEL_bf9933c6cf2e4fbab18c612d97ddc94a",
        "IPY_MODEL_324d80b7e0514be59988495d75a33373",
        "IPY_MODEL_4fad8bd5fa7f4d2fae1549abbedc0f1e",
        "IPY_MODEL_bc6c4b7cc43d4cb0b2aa3003eecb8448",
        "IPY_MODEL_70092d1671f4492cbc600f2f4b26bf30"
       ],
       "layout": "IPY_MODEL_2ac98ba9ebbc4801b0940925f749fff0"
      }
     },
     "180619660d3b4e60ab1342c4553fa0d0": {
      "model_module": "@jupyter-widgets/base",
      "model_module_version": "1.2.0",
      "model_name": "LayoutModel",
      "state": {}
     },
     "182b9efd5d0840dd8f3b28a22d85eae0": {
      "model_module": "@jupyter-widgets/base",
      "model_module_version": "1.2.0",
      "model_name": "LayoutModel",
      "state": {}
     },
     "1831778741654e93b2cb06f15ef9b327": {
      "model_module": "@jupyter-widgets/base",
      "model_module_version": "1.2.0",
      "model_name": "LayoutModel",
      "state": {}
     },
     "193c95482dcf4ae395aa29de8e5f34da": {
      "model_module": "@jupyter-widgets/controls",
      "model_module_version": "1.5.0",
      "model_name": "SliderStyleModel",
      "state": {
       "description_width": ""
      }
     },
     "196f8e8a3e3d4041a9ee2a6dbb8daf99": {
      "model_module": "@jupyter-widgets/controls",
      "model_module_version": "1.5.0",
      "model_name": "TextModel",
      "state": {
       "description": "Filename: ",
       "layout": "IPY_MODEL_decb559a7f2c440495519100e50f8fb2",
       "style": "IPY_MODEL_5e5cd2650bfd408a9df8e00d3a8a7149",
       "value": "screenshot.png"
      }
     },
     "19bbee2268e3458b9aaf1654c0175f37": {
      "model_module": "@jupyter-widgets/controls",
      "model_module_version": "1.5.0",
      "model_name": "HBoxModel",
      "state": {
       "children": [
        "IPY_MODEL_3cfee9498e374164a5f00ad2167320a4",
        "IPY_MODEL_1c7d111aaf7c4d9fb736dab8538a9abe"
       ],
       "layout": "IPY_MODEL_69ff8babb6ef4b8c968e3de4fc4b8ee1"
      }
     },
     "1a1f38778b6b4b629b82cd868c6d2af6": {
      "model_module": "@jupyter-widgets/controls",
      "model_module_version": "1.5.0",
      "model_name": "ButtonModel",
      "state": {
       "description": "Download image",
       "layout": "IPY_MODEL_691e3a79f0d744d2b48b6a1b385d7322",
       "style": "IPY_MODEL_358b97d90be94812b58db6f4bcafe131",
       "tooltip": "Download current frame to your local PC"
      }
     },
     "1b1aa2471094473392c02d414d4e7bdf": {
      "model_module": "@jupyter-widgets/controls",
      "model_module_version": "1.5.0",
      "model_name": "FloatSliderModel",
      "state": {
       "description": "Charge scale",
       "layout": "IPY_MODEL_34cac6a7d2d54376a1bed32134d905cb",
       "step": 0.1,
       "style": "IPY_MODEL_953212cc6b134c8cab009981c82b8c54",
       "value": 1
      }
     },
     "1b5898afa9744c0c9a43b77bd8590385": {
      "model_module": "@jupyter-widgets/base",
      "model_module_version": "1.2.0",
      "model_name": "LayoutModel",
      "state": {}
     },
     "1c45aaeb82be46bea5597f2c6d1cc427": {
      "model_module": "@jupyter-widgets/controls",
      "model_module_version": "1.5.0",
      "model_name": "CheckboxModel",
      "state": {
       "description": "Show force",
       "disabled": false,
       "layout": "IPY_MODEL_1831778741654e93b2cb06f15ef9b327",
       "style": "IPY_MODEL_62e9f6b4ab5b48b297109f9470e147b1",
       "value": false
      }
     },
     "1c655798621546b9ad0723181014f999": {
      "model_module": "@jupyter-widgets/controls",
      "model_module_version": "1.5.0",
      "model_name": "DescriptionStyleModel",
      "state": {
       "description_width": ""
      }
     },
     "1c7d111aaf7c4d9fb736dab8538a9abe": {
      "model_module": "@jupyter-widgets/controls",
      "model_module_version": "1.5.0",
      "model_name": "IntSliderModel",
      "state": {
       "layout": "IPY_MODEL_72dc445ac2e44e1c89fc288b0fb6d403",
       "max": 7,
       "style": "IPY_MODEL_3e045ec0339c440084ce2134d22facdb"
      }
     },
     "1c94c7fd96844cf680e7e29d490770ba": {
      "model_module": "@jupyter-widgets/controls",
      "model_module_version": "1.5.0",
      "model_name": "ButtonStyleModel",
      "state": {}
     },
     "1d65b08b5dc6473ba4707f814377a32c": {
      "model_module": "@jupyter-widgets/base",
      "model_module_version": "1.2.0",
      "model_name": "LayoutModel",
      "state": {}
     },
     "1d71f934dca248a98d40b081863d48c3": {
      "model_module": "@jupyter-widgets/controls",
      "model_module_version": "1.5.0",
      "model_name": "SliderStyleModel",
      "state": {
       "description_width": ""
      }
     },
     "1d9c1f141b2d4f2ab7ed87613df564f4": {
      "model_module": "@jupyter-widgets/controls",
      "model_module_version": "1.5.0",
      "model_name": "HBoxModel",
      "state": {
       "children": [
        "IPY_MODEL_5393187436394ac596ca5bb7be589fb2",
        "IPY_MODEL_520eeae9c9ab4b55ba6d162e694b3b13"
       ],
       "layout": "IPY_MODEL_c3c6bddae3a746dcab53836fc5a23a46"
      }
     },
     "1de0e80c03ac4dc08fb320eafa344f51": {
      "model_module": "@jupyter-widgets/base",
      "model_module_version": "1.2.0",
      "model_name": "LayoutModel",
      "state": {}
     },
     "1f00a220e0724448bb4f2043d2b2779f": {
      "model_module": "@jupyter-widgets/base",
      "model_module_version": "1.2.0",
      "model_name": "LayoutModel",
      "state": {}
     },
     "1f3dd95c610d4b2a879174e5f900e7e5": {
      "model_module": "@jupyter-widgets/base",
      "model_module_version": "1.2.0",
      "model_name": "LayoutModel",
      "state": {}
     },
     "1f408448e51d4dafb78598454035c109": {
      "model_module": "@jupyter-widgets/base",
      "model_module_version": "1.2.0",
      "model_name": "LayoutModel",
      "state": {}
     },
     "1f6dd77a7c2f48358ab24747b74497e8": {
      "model_module": "@jupyter-widgets/controls",
      "model_module_version": "1.5.0",
      "model_name": "TextModel",
      "state": {
       "description": "Filename: ",
       "layout": "IPY_MODEL_990e591409444bc28c8913e582b18f98",
       "style": "IPY_MODEL_ed086e5c941e4a9ca687e92deffce119",
       "value": "screenshot.png"
      }
     },
     "1f7ac8651ed4406898c7bf8298b4bfa3": {
      "model_module": "@jupyter-widgets/controls",
      "model_module_version": "1.5.0",
      "model_name": "SliderStyleModel",
      "state": {
       "description_width": ""
      }
     },
     "1fe2667f90e0470d81576146097cd69f": {
      "model_module": "@jupyter-widgets/controls",
      "model_module_version": "1.5.0",
      "model_name": "ButtonModel",
      "state": {
       "icon": "compress",
       "layout": "IPY_MODEL_d24c5ca33cc14b558478ad9a0eb21422",
       "style": "IPY_MODEL_8d8763efad664c099b8b71bc11bb4a99"
      }
     },
     "200d8a3a28f448e1a0965a398292328e": {
      "model_module": "@jupyter-widgets/base",
      "model_module_version": "1.2.0",
      "model_name": "LayoutModel",
      "state": {}
     },
     "209338e2bb094cf684ca54cad86a869a": {
      "model_module": "@jupyter-widgets/controls",
      "model_module_version": "1.5.0",
      "model_name": "TextModel",
      "state": {
       "description": "Filename: ",
       "layout": "IPY_MODEL_8c66934301e448018d1f5fa43f7b5ba2",
       "style": "IPY_MODEL_daa39a994b1e4ae88c452f18fddf718d",
       "value": "screenshot.png"
      }
     },
     "20d93d7217354149a64f4cc68a7840ba": {
      "model_module": "@jupyter-widgets/controls",
      "model_module_version": "1.5.0",
      "model_name": "TextModel",
      "state": {
       "description": "Filename: ",
       "layout": "IPY_MODEL_1f408448e51d4dafb78598454035c109",
       "style": "IPY_MODEL_317af24f647c4bac964c51366ac203b7",
       "value": "screenshot.png"
      }
     },
     "2122141c35b149659d085e78b086ada6": {
      "model_module": "@jupyter-widgets/controls",
      "model_module_version": "1.5.0",
      "model_name": "DescriptionStyleModel",
      "state": {
       "description_width": ""
      }
     },
     "2156c5e0807e47338f087cddc907fa8f": {
      "model_module": "@jupyter-widgets/controls",
      "model_module_version": "1.5.0",
      "model_name": "DropdownModel",
      "state": {
       "_options_labels": [
        " ",
        "picking",
        "random",
        "uniform",
        "atomindex",
        "residueindex",
        "chainindex",
        "modelindex",
        "sstruc",
        "element",
        "resname",
        "bfactor",
        "hydrophobicity",
        "value",
        "volume",
        "occupancy"
       ],
       "description": "Color scheme",
       "index": 9,
       "layout": "IPY_MODEL_15b98c82b9704d69a1342ca61e874b81",
       "style": "IPY_MODEL_628e4d210a0948dcb18241d236934a0e"
      }
     },
     "21e98babbea64a7c869dc71077d7becf": {
      "model_module": "@jupyter-widgets/base",
      "model_module_version": "1.2.0",
      "model_name": "LayoutModel",
      "state": {}
     },
     "22bd3acff01147b9919adcce6730b9c0": {
      "model_module": "@jupyter-widgets/base",
      "model_module_version": "1.2.0",
      "model_name": "LayoutModel",
      "state": {}
     },
     "23440946154348d099541d8e9e62c698": {
      "model_module": "@jupyter-widgets/controls",
      "model_module_version": "1.5.0",
      "model_name": "ButtonStyleModel",
      "state": {}
     },
     "234aadce9fec42789596ba4f0b4357ea": {
      "model_module": "@jupyter-widgets/controls",
      "model_module_version": "1.5.0",
      "model_name": "DropdownModel",
      "state": {
       "_options_labels": [
        " ",
        "picking",
        "random",
        "uniform",
        "atomindex",
        "residueindex",
        "chainindex",
        "modelindex",
        "sstruc",
        "element",
        "resname",
        "bfactor",
        "hydrophobicity",
        "value",
        "volume",
        "occupancy"
       ],
       "description": "Color scheme",
       "index": 9,
       "layout": "IPY_MODEL_8fb990ef433d413e91f656b4808b363f",
       "style": "IPY_MODEL_444b385be31143fea0079b208b6bec8e"
      }
     },
     "24e1908a6dbf41b7b2f07099fb3ded9a": {
      "model_module": "@jupyter-widgets/controls",
      "model_module_version": "1.5.0",
      "model_name": "FloatSliderModel",
      "state": {
       "description": "Ball size",
       "layout": "IPY_MODEL_339e33417357418ca94fdc6304618a1b",
       "max": 1.5,
       "step": 0.01,
       "style": "IPY_MODEL_53df57a3397e42f68e6c3bca2844433e",
       "value": 0.5
      }
     },
     "2600d04231054a9694ac6da0b7a692c9": {
      "model_module": "@jupyter-widgets/base",
      "model_module_version": "1.2.0",
      "model_name": "LayoutModel",
      "state": {}
     },
     "2668b54322d248e59347f68c91ab7d00": {
      "model_module": "@jupyter-widgets/controls",
      "model_module_version": "1.5.0",
      "model_name": "ButtonModel",
      "state": {
       "description": "Save image",
       "layout": "IPY_MODEL_526fe13262a64fe684fc09eb95fb778f",
       "style": "IPY_MODEL_6df425ad7c674c7fab403f3fc716b2d9",
       "tooltip": "Save current frame to file.\nCurrently .png and .html are supported.\nIt takes a bit time, please be patient."
      }
     },
     "2772f3442c3a440ab63c50a1bb2c80d4": {
      "model_module": "@jupyter-widgets/base",
      "model_module_version": "1.2.0",
      "model_name": "LayoutModel",
      "state": {}
     },
     "27c3d650fee44ad7a94a18fc7a3639ad": {
      "model_module": "@jupyter-widgets/controls",
      "model_module_version": "1.5.0",
      "model_name": "CheckboxModel",
      "state": {
       "description": "Show charge",
       "disabled": false,
       "layout": "IPY_MODEL_7e5f9be5810849ffbb7f8172048088f0",
       "style": "IPY_MODEL_c728a3133f7d4629b2f149405b1c1459",
       "value": false
      }
     },
     "293690eac1c84487a317e3fcef14af04": {
      "model_module": "@jupyter-widgets/controls",
      "model_module_version": "1.5.0",
      "model_name": "ButtonModel",
      "state": {
       "description": "Download image",
       "layout": "IPY_MODEL_477dfa08571c4d88be22dac578c12785",
       "style": "IPY_MODEL_23440946154348d099541d8e9e62c698",
       "tooltip": "Download current frame to your local PC"
      }
     },
     "2ac98ba9ebbc4801b0940925f749fff0": {
      "model_module": "@jupyter-widgets/base",
      "model_module_version": "1.2.0",
      "model_name": "LayoutModel",
      "state": {}
     },
     "2aedfc9d24d44374a4c26021bdde7d32": {
      "model_module": "@jupyter-widgets/controls",
      "model_module_version": "1.5.0",
      "model_name": "LinkModel",
      "state": {
       "source": [
        "IPY_MODEL_49c59b8eeb1c40ddae1309456e80493e",
        "max"
       ],
       "target": [
        "IPY_MODEL_d3d56aaf22424c6180a24c7db7276a81",
        "max_frame"
       ]
      }
     },
     "2bc5eeb72d674dbfa105157f4ba0db9d": {
      "model_module": "@jupyter-widgets/controls",
      "model_module_version": "1.5.0",
      "model_name": "TextModel",
      "state": {
       "description": "Filename: ",
       "layout": "IPY_MODEL_91b00100f41a44e1860be8d4292a099c",
       "style": "IPY_MODEL_9fb650132cbd45cd91e23d3986cdfe31",
       "value": "screenshot.png"
      }
     },
     "2d281742b56a47348256b370ea4211d7": {
      "model_module": "@jupyter-widgets/controls",
      "model_module_version": "1.5.0",
      "model_name": "SliderStyleModel",
      "state": {
       "description_width": ""
      }
     },
     "2dac38ef336841de8d0ebf4fb7abcacc": {
      "model_module": "@jupyter-widgets/controls",
      "model_module_version": "1.5.0",
      "model_name": "IntSliderModel",
      "state": {
       "layout": "IPY_MODEL_c080ce1dc2ff45018a0f041cec03dbba",
       "max": 0,
       "style": "IPY_MODEL_11a02cbee884450e8912f3a66c2881d9"
      }
     },
     "2e90db80d8944ad08b18078000c121f5": {
      "model_module": "@jupyter-widgets/base",
      "model_module_version": "1.2.0",
      "model_name": "LayoutModel",
      "state": {}
     },
     "2e9deaa803284a2d86a462988a9820cb": {
      "model_module": "@jupyter-widgets/controls",
      "model_module_version": "1.5.0",
      "model_name": "SliderStyleModel",
      "state": {
       "description_width": ""
      }
     },
     "3024cdd32cf1494d80672cb9f501b237": {
      "model_module": "@jupyter-widgets/controls",
      "model_module_version": "1.5.0",
      "model_name": "SliderStyleModel",
      "state": {
       "description_width": ""
      }
     },
     "30432d93fb4a482fa1e08aec265f6998": {
      "model_module": "@jupyter-widgets/controls",
      "model_module_version": "1.5.0",
      "model_name": "HBoxModel",
      "state": {
       "children": [
        "IPY_MODEL_7d32446279e0496bb343cff842f36d81",
        "IPY_MODEL_f50c83fbcc9f42daa170286083c86c7e"
       ],
       "layout": "IPY_MODEL_1d65b08b5dc6473ba4707f814377a32c"
      }
     },
     "307993fce10e4d7bbd8fea7a3f5032fb": {
      "model_module": "@jupyter-widgets/controls",
      "model_module_version": "1.5.0",
      "model_name": "DropdownModel",
      "state": {
       "_options_labels": [
        " ",
        "picking",
        "random",
        "uniform",
        "atomindex",
        "residueindex",
        "chainindex",
        "modelindex",
        "sstruc",
        "element",
        "resname",
        "bfactor",
        "hydrophobicity",
        "value",
        "volume",
        "occupancy"
       ],
       "description": "Color scheme",
       "index": 9,
       "layout": "IPY_MODEL_5665d9fb4b794c34b765a57de04d6fb2",
       "style": "IPY_MODEL_37feeede893d4edc8b74cf8eb12e9ab7"
      }
     },
     "3087034ecd6a475b97a421bb84ed42fd": {
      "model_module": "@jupyter-widgets/controls",
      "model_module_version": "1.5.0",
      "model_name": "HBoxModel",
      "state": {
       "children": [
        "IPY_MODEL_293690eac1c84487a317e3fcef14af04",
        "IPY_MODEL_f4c19965eae44239ae2562200c9b8aa5"
       ],
       "layout": "IPY_MODEL_8cae1b6c79844c52ba69467e2de2760e"
      }
     },
     "30a2e528b9874f7091ee65ea7e8fe835": {
      "model_module": "@jupyter-widgets/controls",
      "model_module_version": "1.5.0",
      "model_name": "ButtonModel",
      "state": {
       "description": "Save image",
       "layout": "IPY_MODEL_200d8a3a28f448e1a0965a398292328e",
       "style": "IPY_MODEL_7f037a83091746779eb8311e6d0e3965",
       "tooltip": "Save current frame to file.\nCurrently .png and .html are supported.\nIt takes a bit time, please be patient."
      }
     },
     "317af24f647c4bac964c51366ac203b7": {
      "model_module": "@jupyter-widgets/controls",
      "model_module_version": "1.5.0",
      "model_name": "DescriptionStyleModel",
      "state": {
       "description_width": ""
      }
     },
     "3230ecb20879419391dcb0198177c460": {
      "model_module": "@jupyter-widgets/controls",
      "model_module_version": "1.5.0",
      "model_name": "DropdownModel",
      "state": {
       "_options_labels": [
        "All",
        "H"
       ],
       "description": "Show",
       "index": 0,
       "layout": "IPY_MODEL_2e90db80d8944ad08b18078000c121f5",
       "style": "IPY_MODEL_de8f2498aaa34cb4bd878e52d12a1c08"
      }
     },
     "324d80b7e0514be59988495d75a33373": {
      "model_module": "@jupyter-widgets/controls",
      "model_module_version": "1.5.0",
      "model_name": "FloatSliderModel",
      "state": {
       "description": "Force scale",
       "layout": "IPY_MODEL_1f3dd95c610d4b2a879174e5f900e7e5",
       "step": 0.1,
       "style": "IPY_MODEL_acfb210f37854f51971b42df07cd73d4",
       "value": 0.5
      }
     },
     "339e33417357418ca94fdc6304618a1b": {
      "model_module": "@jupyter-widgets/base",
      "model_module_version": "1.2.0",
      "model_name": "LayoutModel",
      "state": {}
     },
     "34cac6a7d2d54376a1bed32134d905cb": {
      "model_module": "@jupyter-widgets/base",
      "model_module_version": "1.2.0",
      "model_name": "LayoutModel",
      "state": {}
     },
     "351fc89b42974d6eafc8f98c17655e6c": {
      "model_module": "@jupyter-widgets/controls",
      "model_module_version": "1.5.0",
      "model_name": "FloatSliderModel",
      "state": {
       "description": "Force scale",
       "layout": "IPY_MODEL_036c8c87efd5433a8e09ba0ec693c42c",
       "step": 0.1,
       "style": "IPY_MODEL_67d2b38941ff42c6bd9a9987817d68df",
       "value": 0.5
      }
     },
     "352d91d0f70a4172a33c7cc9438b7ab0": {
      "model_module": "@jupyter-widgets/base",
      "model_module_version": "1.2.0",
      "model_name": "LayoutModel",
      "state": {}
     },
     "3559b8a78a8c4cbab93ac9ab1231e263": {
      "model_module": "@jupyter-widgets/controls",
      "model_module_version": "1.5.0",
      "model_name": "FloatSliderModel",
      "state": {
       "description": "Charge scale",
       "layout": "IPY_MODEL_1394b15155de4a5cb356aacdc92abb45",
       "step": 0.1,
       "style": "IPY_MODEL_e894950918d54c079ff160012220ebb7",
       "value": 1
      }
     },
     "35883c1797d2475a9c07d7f5b696dd9c": {
      "model_module": "@jupyter-widgets/base",
      "model_module_version": "1.2.0",
      "model_name": "LayoutModel",
      "state": {}
     },
     "358b97d90be94812b58db6f4bcafe131": {
      "model_module": "@jupyter-widgets/controls",
      "model_module_version": "1.5.0",
      "model_name": "ButtonStyleModel",
      "state": {}
     },
     "3628caec6f3c49c0aeddd31d672c2e4c": {
      "model_module": "@jupyter-widgets/controls",
      "model_module_version": "1.5.0",
      "model_name": "FloatSliderModel",
      "state": {
       "description": "Charge scale",
       "layout": "IPY_MODEL_72ca2a7a01eb4a27aafcc918cfab6634",
       "step": 0.1,
       "style": "IPY_MODEL_09aac2e30e4d4b859c81e9858cd21933",
       "value": 1
      }
     },
     "364915d2206e4a9b844b00a502609d56": {
      "model_module": "@jupyter-widgets/controls",
      "model_module_version": "1.5.0",
      "model_name": "ButtonModel",
      "state": {
       "icon": "compress",
       "layout": "IPY_MODEL_393079ed9f47494a81929c495b068390",
       "style": "IPY_MODEL_0127bc9cc57948eb8b5caec100a6cd1e"
      }
     },
     "36f61bfd0c7242b5a53e997cb3b21d86": {
      "model_module": "@jupyter-widgets/controls",
      "model_module_version": "1.5.0",
      "model_name": "DropdownModel",
      "state": {
       "_options_labels": [
        "All",
        "Si"
       ],
       "description": "Show",
       "index": 0,
       "layout": "IPY_MODEL_99dc3a5f38764e88ab7334a4384cf27d",
       "style": "IPY_MODEL_eb9524feebda4b338f2bdf08c81433b3"
      }
     },
     "37115319fce347a5935cc6ede637f945": {
      "model_module": "@jupyter-widgets/controls",
      "model_module_version": "1.5.0",
      "model_name": "SliderStyleModel",
      "state": {
       "description_width": ""
      }
     },
     "37feeede893d4edc8b74cf8eb12e9ab7": {
      "model_module": "@jupyter-widgets/controls",
      "model_module_version": "1.5.0",
      "model_name": "DescriptionStyleModel",
      "state": {
       "description_width": ""
      }
     },
     "384763e98f9e42eb93095b37ec4d6409": {
      "model_module": "@jupyter-widgets/base",
      "model_module_version": "1.2.0",
      "model_name": "LayoutModel",
      "state": {}
     },
     "38545544cbc244cab932ccf06926b250": {
      "model_module": "@jupyter-widgets/controls",
      "model_module_version": "1.5.0",
      "model_name": "DescriptionStyleModel",
      "state": {
       "description_width": ""
      }
     },
     "38d018b1087e4b6b96ca529f36d2821e": {
      "model_module": "@jupyter-widgets/base",
      "model_module_version": "1.2.0",
      "model_name": "LayoutModel",
      "state": {}
     },
     "393079ed9f47494a81929c495b068390": {
      "model_module": "@jupyter-widgets/base",
      "model_module_version": "1.2.0",
      "model_name": "LayoutModel",
      "state": {
       "width": "34px"
      }
     },
     "39f406d347ee4caaae9c93b8584b718f": {
      "model_module": "@jupyter-widgets/base",
      "model_module_version": "1.2.0",
      "model_name": "LayoutModel",
      "state": {
       "border": "0px solid black"
      }
     },
     "3a14be01b2994d2782a5268f0f736a85": {
      "model_module": "@jupyter-widgets/controls",
      "model_module_version": "1.5.0",
      "model_name": "DescriptionStyleModel",
      "state": {
       "description_width": ""
      }
     },
     "3a78cf455ab24c03b02ceb4f6bc37eb5": {
      "model_module": "@jupyter-widgets/output",
      "model_module_version": "1.0.0",
      "model_name": "OutputModel",
      "state": {
       "layout": "IPY_MODEL_6092328403194de2b92a0ef002cdc1cb"
      }
     },
     "3a8c13050ed24492956271e28f83048e": {
      "model_module": "@jupyter-widgets/base",
      "model_module_version": "1.2.0",
      "model_name": "LayoutModel",
      "state": {}
     },
     "3b12464f9b124fa59bced4bfd19041a6": {
      "model_module": "@jupyter-widgets/controls",
      "model_module_version": "1.5.0",
      "model_name": "DescriptionStyleModel",
      "state": {
       "description_width": ""
      }
     },
     "3b55f9c5e11940d7bf0ad4460bb7674b": {
      "model_module": "@jupyter-widgets/controls",
      "model_module_version": "1.5.0",
      "model_name": "DescriptionStyleModel",
      "state": {
       "description_width": ""
      }
     },
     "3c62b359ecc64a9c932d6d05c56a1388": {
      "model_module": "@jupyter-widgets/controls",
      "model_module_version": "1.5.0",
      "model_name": "FloatSliderModel",
      "state": {
       "description": "Force scale",
       "layout": "IPY_MODEL_0ac281996d60456a9481a87cdc648f34",
       "step": 0.1,
       "style": "IPY_MODEL_8c03081cf45f49be9e63f841329d17ea",
       "value": 0.5
      }
     },
     "3c9cba8187da4adc819614ca59bb013a": {
      "model_module": "@jupyter-widgets/base",
      "model_module_version": "1.2.0",
      "model_name": "LayoutModel",
      "state": {}
     },
     "3cfee9498e374164a5f00ad2167320a4": {
      "model_module": "@jupyter-widgets/controls",
      "model_module_version": "1.5.0",
      "model_name": "PlayModel",
      "state": {
       "layout": "IPY_MODEL_9abf7e5e75fc4dc59e3ca1c02abc927f",
       "max": 7,
       "style": "IPY_MODEL_2122141c35b149659d085e78b086ada6"
      }
     },
     "3db6154daa814aef9a802bdd5634f692": {
      "model_module": "@jupyter-widgets/controls",
      "model_module_version": "1.5.0",
      "model_name": "HBoxModel",
      "state": {
       "children": [
        "IPY_MODEL_fd4bc391343a4d3c99d1be30ca2f6ace",
        "IPY_MODEL_2668b54322d248e59347f68c91ab7d00"
       ],
       "layout": "IPY_MODEL_c8a26ec66d504255b4d41ef3f6ea0bc0"
      }
     },
     "3e045ec0339c440084ce2134d22facdb": {
      "model_module": "@jupyter-widgets/controls",
      "model_module_version": "1.5.0",
      "model_name": "SliderStyleModel",
      "state": {
       "description_width": ""
      }
     },
     "3fe35b452e3747edb3a2b1daf9ce256a": {
      "model_module": "@jupyter-widgets/controls",
      "model_module_version": "1.5.0",
      "model_name": "SliderStyleModel",
      "state": {
       "description_width": ""
      }
     },
     "405a3af33bb144a0ac26ad0e3b9525fb": {
      "model_module": "@jupyter-widgets/controls",
      "model_module_version": "1.5.0",
      "model_name": "IntSliderModel",
      "state": {
       "layout": "IPY_MODEL_7db6ab7fd1b448fd997d2efb133acdd6",
       "max": 0,
       "style": "IPY_MODEL_652ff424b22942e399f5c55fbaa47f86"
      }
     },
     "409ed324ad9f4dc09b272874f6d23848": {
      "model_module": "@jupyter-widgets/base",
      "model_module_version": "1.2.0",
      "model_name": "LayoutModel",
      "state": {}
     },
     "4127d38390d045eb9d5b427fb35ad776": {
      "model_module": "@jupyter-widgets/controls",
      "model_module_version": "1.5.0",
      "model_name": "DescriptionStyleModel",
      "state": {
       "description_width": ""
      }
     },
     "413634bc79de4bf3bc2e3d969b5d2ac8": {
      "model_module": "@jupyter-widgets/controls",
      "model_module_version": "1.5.0",
      "model_name": "LinkModel",
      "state": {
       "source": [
        "IPY_MODEL_8fa63860c3e14eb3b358ae1334dbe52b",
        "value"
       ],
       "target": [
        "IPY_MODEL_7d32446279e0496bb343cff842f36d81",
        "frame"
       ]
      }
     },
     "425060ed20e544f081ecafb58a0af935": {
      "model_module": "@jupyter-widgets/base",
      "model_module_version": "1.2.0",
      "model_name": "LayoutModel",
      "state": {}
     },
     "429822ec20f548b9beaa86d05e8a6c59": {
      "model_module": "@jupyter-widgets/base",
      "model_module_version": "1.2.0",
      "model_name": "LayoutModel",
      "state": {}
     },
     "43015b21987e488e8221b95f139242de": {
      "model_module": "@jupyter-widgets/controls",
      "model_module_version": "1.5.0",
      "model_name": "FloatSliderModel",
      "state": {
       "description": "Force scale",
       "layout": "IPY_MODEL_3a8c13050ed24492956271e28f83048e",
       "step": 0.1,
       "style": "IPY_MODEL_ac35027c749841359ed560847265d453",
       "value": 0.5
      }
     },
     "432fc9e264ce45c5847f721394470127": {
      "model_module": "@jupyter-widgets/base",
      "model_module_version": "1.2.0",
      "model_name": "LayoutModel",
      "state": {
       "border": "0px solid black"
      }
     },
     "4359810746ca40ae8b8ce799278bf125": {
      "model_module": "@jupyter-widgets/base",
      "model_module_version": "1.2.0",
      "model_name": "LayoutModel",
      "state": {}
     },
     "444b385be31143fea0079b208b6bec8e": {
      "model_module": "@jupyter-widgets/controls",
      "model_module_version": "1.5.0",
      "model_name": "DescriptionStyleModel",
      "state": {
       "description_width": ""
      }
     },
     "445470f776a04a85b30df6bfeee24797": {
      "model_module": "@jupyter-widgets/controls",
      "model_module_version": "1.5.0",
      "model_name": "HBoxModel",
      "state": {
       "children": [
        "IPY_MODEL_8fa63860c3e14eb3b358ae1334dbe52b",
        "IPY_MODEL_cdffd5554e734bd9985884b5d26f70b9"
       ],
       "layout": "IPY_MODEL_f8b4311fee324792b193a117f35ce99e"
      }
     },
     "4454f27e79d24adbbe0d0dff34f951ef": {
      "model_module": "@jupyter-widgets/base",
      "model_module_version": "1.2.0",
      "model_name": "LayoutModel",
      "state": {}
     },
     "45f0ce14796e4c5e8c2353cf85fea801": {
      "model_module": "@jupyter-widgets/base",
      "model_module_version": "1.2.0",
      "model_name": "LayoutModel",
      "state": {}
     },
     "477dfa08571c4d88be22dac578c12785": {
      "model_module": "@jupyter-widgets/base",
      "model_module_version": "1.2.0",
      "model_name": "LayoutModel",
      "state": {}
     },
     "4792db98a6344b7f8b1096a767854a18": {
      "model_module": "@jupyter-widgets/base",
      "model_module_version": "1.2.0",
      "model_name": "LayoutModel",
      "state": {}
     },
     "47bc3edcb3124facb64ed186d16bc88a": {
      "model_module": "@jupyter-widgets/controls",
      "model_module_version": "1.5.0",
      "model_name": "LinkModel",
      "state": {
       "source": [
        "IPY_MODEL_9e27f48bf96147088c7288dc50610420",
        "max"
       ],
       "target": [
        "IPY_MODEL_0503f7dee6494389a924daeabf3c4537",
        "max_frame"
       ]
      }
     },
     "49c59b8eeb1c40ddae1309456e80493e": {
      "model_module": "@jupyter-widgets/controls",
      "model_module_version": "1.5.0",
      "model_name": "PlayModel",
      "state": {
       "layout": "IPY_MODEL_4454f27e79d24adbbe0d0dff34f951ef",
       "max": 0,
       "style": "IPY_MODEL_3b55f9c5e11940d7bf0ad4460bb7674b"
      }
     },
     "4a43b7a2410d42769291c7651d59c7cb": {
      "model_module": "@jupyter-widgets/controls",
      "model_module_version": "1.5.0",
      "model_name": "DropdownModel",
      "state": {
       "_options_labels": [
        " ",
        "picking",
        "random",
        "uniform",
        "atomindex",
        "residueindex",
        "chainindex",
        "modelindex",
        "sstruc",
        "element",
        "resname",
        "bfactor",
        "hydrophobicity",
        "value",
        "volume",
        "occupancy"
       ],
       "description": "Color scheme",
       "index": 9,
       "layout": "IPY_MODEL_a98003c0d9114e0e8d1bff98832d1949",
       "style": "IPY_MODEL_4cee19b92f114d8387283add7c2bd1ba"
      }
     },
     "4ad145ac419a4f17ba5e45ed5f3432c2": {
      "model_module": "nglview-js-widgets",
      "model_module_version": "3.0.1",
      "model_name": "NGLModel",
      "state": {
       "_camera_orientation": [
        -0.36594213414380433,
        -0.6996312851191288,
        1.2306640488030307,
        0,
        -0.24645676949187872,
        1.2831917543575113,
        0.6562084760165302,
        0,
        -1.3940147046948024,
        -0.04320379736631986,
        -0.43907632213913034,
        0,
        0,
        0,
        -0.5,
        1
       ],
       "_camera_str": "orthographic",
       "_gui_theme": null,
       "_ibtn_fullscreen": "IPY_MODEL_908e732c549543098db37bd9d40c9a39",
       "_igui": null,
       "_iplayer": "IPY_MODEL_19bbee2268e3458b9aaf1654c0175f37",
       "_ngl_color_dict": {},
       "_ngl_coordinate_resource": {},
       "_ngl_full_stage_parameters": {
        "ambientColor": 14540253,
        "ambientIntensity": 0.2,
        "backgroundColor": "white",
        "cameraEyeSep": 0.3,
        "cameraFov": 40,
        "cameraType": "orthographic",
        "clipDist": 0,
        "clipFar": 100,
        "clipNear": 0,
        "fogFar": 100,
        "fogNear": 50,
        "hoverTimeout": 0,
        "impostor": true,
        "lightColor": 14540253,
        "lightIntensity": 1,
        "mousePreset": "default",
        "panSpeed": 1,
        "quality": "medium",
        "rotateSpeed": 2,
        "sampleLevel": 0,
        "tooltip": true,
        "workerDefault": true,
        "zoomSpeed": 1.2
       },
       "_ngl_msg_archive": [
        {
         "args": [
          {
           "binary": false,
           "data": "MODEL     1\nATOM      1    H MOL     1       0.000   0.000   0.000  1.00  0.00           H  \nATOM      2    H MOL     1       0.000   0.000   1.000  1.00  0.00           H  \nENDMDL\n",
           "type": "blob"
          }
         ],
         "kwargs": {
          "defaultRepresentation": false,
          "ext": "pdb"
         },
         "methodName": "loadFile",
         "reconstruc_color_scheme": false,
         "target": "Stage",
         "type": "call_method"
        },
        {
         "args": [
          "400px",
          "300px"
         ],
         "kwargs": {},
         "methodName": "setSize",
         "reconstruc_color_scheme": false,
         "target": "Widget",
         "type": "call_method"
        },
        {
         "args": [
          "unitcell"
         ],
         "component_index": 0,
         "kwargs": {
          "sele": "all"
         },
         "methodName": "addRepresentation",
         "reconstruc_color_scheme": false,
         "target": "compList",
         "type": "call_method"
        },
        {
         "args": [
          "spacefill"
         ],
         "component_index": 0,
         "kwargs": {
          "sele": "all"
         },
         "methodName": "addRepresentation",
         "reconstruc_color_scheme": false,
         "target": "compList",
         "type": "call_method"
        },
        {
         "args": [],
         "kwargs": {
          "cameraType": "orthographic"
         },
         "methodName": "setParameters",
         "reconstruc_color_scheme": false,
         "target": "Stage",
         "type": "call_method"
        },
        {
         "args": [
          {
           "clipDist": 0
          }
         ],
         "kwargs": {},
         "methodName": "setParameters",
         "reconstruc_color_scheme": false,
         "target": "Widget",
         "type": "call_method"
        },
        {
         "args": [
          "spacefill",
          0
         ],
         "kwargs": {
          "colorScale": "rainbow",
          "colorScheme": "element",
          "radiusScale": 0.5,
          "radiusType": "covalent"
         },
         "methodName": "updateRepresentationsByName",
         "reconstruc_color_scheme": false,
         "target": "Widget",
         "type": "call_method"
        },
        {
         "args": [
          "this._Q = [[1.0, 0.0, 0.0], [0.0, 1.0, 0.0], [0.0, 0.0, 1.0]]\n    var tooltip = document.createElement('div');\n    Object.assign(tooltip.style, {\n      display: 'none',\n      position: 'fixed',\n      zIndex: 10,\n      pointerEvents: 'none',\n      backgroundColor: 'rgba( 0, 0, 0, 0.6 )',\n      color: 'lightgrey',\n      padding: '8px',\n      fontFamily: 'sans-serif'\n    });\n    document.body.appendChild(tooltip);\n\n    var that = this;\n    this.stage.mouseControls.remove('hoverPick');\n    this.stage.signals.hovered.add(function (pickingProxy) {\n      if (pickingProxy && (pickingProxy.atom || pickingProxy.bond)) {\n        var atom = pickingProxy.atom || pickingProxy.closestBondAtom\n        var mp = pickingProxy.mouse.position\n        //tooltip.innerText = atom.element + ' i=' + atom.index + ' (' + atom.x.toFixed(2) +  ', ' + atom.y.toFixed(2) +  ', ' + atom.z.toFixed(2) + ')'\n        //var pos = that._atoms_pos[atom.index]\n        var Q = that._Q\n        var pos_x = Q[0][0] * atom.x + Q[0][1] * atom.y + Q[0][2] * atom.z \n        var pos_y = Q[1][0] * atom.x + Q[1][1] * atom.y + Q[1][2] * atom.z\n        var pos_z = Q[2][0] * atom.x + Q[2][1] * atom.y + Q[2][2] * atom.z\n        tooltip.innerText = 'i=' + atom.index + ' ' + atom.element + ' (' + pos_x.toFixed(2) +  ', ' + pos_y.toFixed(2) +  ', ' + pos_z.toFixed(2) + ')'\n        tooltip.style.bottom = window.innerHeight - mp.y + 3 + 'px'\n        tooltip.style.left = mp.x + 3 + 'px'\n        tooltip.style.display = 'block'\n      } else {\n        tooltip.style.display = 'none'\n      }\n    });\n    this.stage.tooltip = tooltip;\n    "
         ],
         "kwargs": {},
         "methodName": "executeCode",
         "reconstruc_color_scheme": false,
         "target": "Widget",
         "type": "call_method"
        },
        {
         "args": [
          "ball+stick"
         ],
         "component_index": 0,
         "kwargs": {
          "sele": "all"
         },
         "methodName": "addRepresentation",
         "reconstruc_color_scheme": false,
         "target": "compList",
         "type": "call_method"
        }
       ],
       "_ngl_original_stage_parameters": {
        "ambientColor": 14540253,
        "ambientIntensity": 0.2,
        "backgroundColor": "white",
        "cameraEyeSep": 0.3,
        "cameraFov": 40,
        "cameraType": "perspective",
        "clipDist": 10,
        "clipFar": 100,
        "clipNear": 0,
        "fogFar": 100,
        "fogNear": 50,
        "hoverTimeout": 0,
        "impostor": true,
        "lightColor": 14540253,
        "lightIntensity": 1,
        "mousePreset": "default",
        "panSpeed": 1,
        "quality": "medium",
        "rotateSpeed": 2,
        "sampleLevel": 0,
        "tooltip": true,
        "workerDefault": true,
        "zoomSpeed": 1.2
       },
       "_ngl_repr_dict": {
        "0": {
         "0": {
          "params": {
           "clipCenter": {
            "x": 0,
            "y": 0,
            "z": 0
           },
           "clipNear": 0,
           "clipRadius": 0,
           "colorMode": "hcl",
           "colorReverse": false,
           "colorScale": "",
           "colorScheme": "element",
           "colorValue": "orange",
           "defaultAssembly": "",
           "depthWrite": true,
           "diffuse": 16777215,
           "diffuseInterior": false,
           "disableImpostor": false,
           "disablePicking": false,
           "flatShaded": false,
           "interiorColor": 2236962,
           "interiorDarkening": 0,
           "lazy": false,
           "matrix": {
            "elements": [
             1,
             0,
             0,
             0,
             0,
             1,
             0,
             0,
             0,
             0,
             1,
             0,
             0,
             0,
             0,
             1
            ]
           },
           "metalness": 0,
           "opacity": 1,
           "quality": "medium",
           "radialSegments": 10,
           "radiusData": {},
           "radiusScale": 1,
           "radiusSize": 0.5,
           "radiusType": "vdw",
           "roughness": 0.4,
           "sele": "all",
           "side": "double",
           "sphereDetail": 1,
           "useInteriorColor": true,
           "visible": true,
           "wireframe": false
          },
          "type": "unitcell"
         },
         "1": {
          "params": {
           "assembly": "default",
           "clipCenter": {
            "x": 0,
            "y": 0,
            "z": 0
           },
           "clipNear": 0,
           "clipRadius": 0,
           "colorMode": "hcl",
           "colorReverse": false,
           "colorScale": "rainbow",
           "colorScheme": "element",
           "colorValue": 9474192,
           "defaultAssembly": "",
           "depthWrite": true,
           "diffuse": 16777215,
           "diffuseInterior": false,
           "disableImpostor": false,
           "disablePicking": false,
           "flatShaded": false,
           "interiorColor": 2236962,
           "interiorDarkening": 0,
           "lazy": false,
           "matrix": {
            "elements": [
             1,
             0,
             0,
             0,
             0,
             1,
             0,
             0,
             0,
             0,
             1,
             0,
             0,
             0,
             0,
             1
            ]
           },
           "metalness": 0,
           "opacity": 1,
           "quality": "medium",
           "radiusData": {},
           "radiusScale": 0.5,
           "radiusSize": 1,
           "radiusType": "covalent",
           "roughness": 0.4,
           "sele": "all",
           "side": "double",
           "sphereDetail": 1,
           "useInteriorColor": true,
           "visible": true,
           "wireframe": false
          },
          "type": "spacefill"
         },
         "2": {
          "params": {
           "aspectRatio": 2,
           "assembly": "default",
           "bondScale": 0.4,
           "bondSpacing": 1,
           "clipCenter": {
            "x": 0,
            "y": 0,
            "z": 0
           },
           "clipNear": 0,
           "clipRadius": 0,
           "colorMode": "hcl",
           "colorReverse": false,
           "colorScale": "",
           "colorScheme": "element",
           "colorValue": 9474192,
           "cylinderOnly": false,
           "defaultAssembly": "",
           "depthWrite": true,
           "diffuse": 16777215,
           "diffuseInterior": false,
           "disableImpostor": false,
           "disablePicking": false,
           "flatShaded": false,
           "interiorColor": 2236962,
           "interiorDarkening": 0,
           "lazy": false,
           "lineOnly": false,
           "linewidth": 2,
           "matrix": {
            "elements": [
             1,
             0,
             0,
             0,
             0,
             1,
             0,
             0,
             0,
             0,
             1,
             0,
             0,
             0,
             0,
             1
            ]
           },
           "metalness": 0,
           "multipleBond": "off",
           "opacity": 1,
           "openEnded": true,
           "quality": "medium",
           "radialSegments": 10,
           "radiusData": {},
           "radiusScale": 1,
           "radiusSize": 0.15,
           "radiusType": "size",
           "roughness": 0.4,
           "sele": "all",
           "side": "double",
           "sphereDetail": 1,
           "useInteriorColor": true,
           "visible": true,
           "wireframe": false
          },
          "type": "ball+stick"
         }
        }
       },
       "_ngl_serialize": false,
       "_ngl_version": "2.0.0-dev.36",
       "_ngl_view_id": [
        "D44460BB-7238-43BE-8401-D2C945FCA4B2"
       ],
       "_player_dict": {},
       "_scene_position": {},
       "_scene_rotation": {},
       "_synced_model_ids": [],
       "_synced_repr_model_ids": [],
       "_view_height": "",
       "_view_width": "",
       "background": "white",
       "frame": 0,
       "gui_style": null,
       "layout": "IPY_MODEL_11bf3e4a6f1c42a8ba8f6499770142c1",
       "max_frame": 7,
       "n_components": 1,
       "picked": {}
      }
     },
     "4ad327d76d074f84b822f28ec80f7a6f": {
      "model_module": "@jupyter-widgets/controls",
      "model_module_version": "1.5.0",
      "model_name": "CheckboxModel",
      "state": {
       "description": "Show charge",
       "disabled": false,
       "layout": "IPY_MODEL_8071ed112a3541afb8bc176036b75fb2",
       "style": "IPY_MODEL_53e2f7c1f454405db3694c070d8ca3c1",
       "value": false
      }
     },
     "4ae41a126db94ae7815e93afed5056c8": {
      "model_module": "@jupyter-widgets/controls",
      "model_module_version": "1.5.0",
      "model_name": "ButtonModel",
      "state": {
       "icon": "compress",
       "layout": "IPY_MODEL_7a6d9ce1aff54288bffd27c72021deb2",
       "style": "IPY_MODEL_76a72a1df8a741bbb484fa632b198642"
      }
     },
     "4ae7db5f96c94356b6d492506e8ee973": {
      "model_module": "@jupyter-widgets/output",
      "model_module_version": "1.0.0",
      "model_name": "OutputModel",
      "state": {
       "layout": "IPY_MODEL_13c0f580286548d4942b2fbee8d48d57"
      }
     },
     "4bbac13804c544c591d9f4ace6e6f173": {
      "model_module": "@jupyter-widgets/base",
      "model_module_version": "1.2.0",
      "model_name": "LayoutModel",
      "state": {}
     },
     "4c0d27bf760f426d84da3b6e3ab618df": {
      "model_module": "@jupyter-widgets/controls",
      "model_module_version": "1.5.0",
      "model_name": "SliderStyleModel",
      "state": {
       "description_width": ""
      }
     },
     "4c106384aca44ea3ad58671d32e7ba68": {
      "model_module": "@jupyter-widgets/output",
      "model_module_version": "1.0.0",
      "model_name": "OutputModel",
      "state": {
       "layout": "IPY_MODEL_6632111975ae4777883e3482eea20e85"
      }
     },
     "4cc0bef369b44138bb86555edd0de17c": {
      "model_module": "@jupyter-widgets/controls",
      "model_module_version": "1.5.0",
      "model_name": "ButtonModel",
      "state": {
       "description": "Save image",
       "layout": "IPY_MODEL_daa4a182db7f4d47bbe211a9b7766c76",
       "style": "IPY_MODEL_df0c74df2f874a1fb7d97e587d2c6a87",
       "tooltip": "Save current frame to file.\nCurrently .png and .html are supported.\nIt takes a bit time, please be patient."
      }
     },
     "4cee19b92f114d8387283add7c2bd1ba": {
      "model_module": "@jupyter-widgets/controls",
      "model_module_version": "1.5.0",
      "model_name": "DescriptionStyleModel",
      "state": {
       "description_width": ""
      }
     },
     "4d0305c22db141078c65eba33063408c": {
      "model_module": "@jupyter-widgets/base",
      "model_module_version": "1.2.0",
      "model_name": "LayoutModel",
      "state": {}
     },
     "4d7f1b0077c842f3b2697323d950f725": {
      "model_module": "@jupyter-widgets/controls",
      "model_module_version": "1.5.0",
      "model_name": "ButtonModel",
      "state": {
       "description": "Save image",
       "layout": "IPY_MODEL_c06335fd15ce461981b610d440eb34cb",
       "style": "IPY_MODEL_50fb8f5e887c4c868b6ddb1ae25a04fa",
       "tooltip": "Save current frame to file.\nCurrently .png and .html are supported.\nIt takes a bit time, please be patient."
      }
     },
     "4f7f89adb08a4f4db648784ae2c780b1": {
      "model_module": "@jupyter-widgets/controls",
      "model_module_version": "1.5.0",
      "model_name": "IntSliderModel",
      "state": {
       "layout": "IPY_MODEL_dff873f4303246a198f9b7aeab26c81c",
       "max": 1,
       "style": "IPY_MODEL_3024cdd32cf1494d80672cb9f501b237"
      }
     },
     "4fad8bd5fa7f4d2fae1549abbedc0f1e": {
      "model_module": "@jupyter-widgets/controls",
      "model_module_version": "1.5.0",
      "model_name": "CheckboxModel",
      "state": {
       "description": "Show charge",
       "disabled": false,
       "layout": "IPY_MODEL_a86785e5867a408a99d2be95c21ca5f6",
       "style": "IPY_MODEL_b78225b8950d45738588b101348a0ea8",
       "value": false
      }
     },
     "5069fc27d1e34598a4ae1ffd57ca4e9c": {
      "model_module": "@jupyter-widgets/controls",
      "model_module_version": "1.5.0",
      "model_name": "SliderStyleModel",
      "state": {
       "description_width": ""
      }
     },
     "50a578e2493148f18de04632af2bc477": {
      "model_module": "@jupyter-widgets/controls",
      "model_module_version": "1.5.0",
      "model_name": "DescriptionStyleModel",
      "state": {
       "description_width": ""
      }
     },
     "50fb8f5e887c4c868b6ddb1ae25a04fa": {
      "model_module": "@jupyter-widgets/controls",
      "model_module_version": "1.5.0",
      "model_name": "ButtonStyleModel",
      "state": {}
     },
     "516d65f436044a8e972c378b614cd390": {
      "model_module": "@jupyter-widgets/base",
      "model_module_version": "1.2.0",
      "model_name": "LayoutModel",
      "state": {}
     },
     "51fcd5cbd46841bbb8ba54ba0e9fa9cf": {
      "model_module": "nglview-js-widgets",
      "model_module_version": "3.0.1",
      "model_name": "ColormakerRegistryModel",
      "state": {
       "_msg_ar": [],
       "_msg_q": [],
       "_ready": true,
       "layout": "IPY_MODEL_9303b9cf218f4020b7cf90a1535916b1"
      }
     },
     "520eeae9c9ab4b55ba6d162e694b3b13": {
      "model_module": "@jupyter-widgets/controls",
      "model_module_version": "1.5.0",
      "model_name": "ButtonModel",
      "state": {
       "description": "Save image",
       "layout": "IPY_MODEL_ef5e31ed2ec14b9f838b1d7dc1c918c1",
       "style": "IPY_MODEL_5fe9cc9caf6a43a7a6bbf918c59b8376",
       "tooltip": "Save current frame to file.\nCurrently .png and .html are supported.\nIt takes a bit time, please be patient."
      }
     },
     "52543e7769a5440082b188be41230bcb": {
      "model_module": "@jupyter-widgets/base",
      "model_module_version": "1.2.0",
      "model_name": "LayoutModel",
      "state": {}
     },
     "526fe13262a64fe684fc09eb95fb778f": {
      "model_module": "@jupyter-widgets/base",
      "model_module_version": "1.2.0",
      "model_name": "LayoutModel",
      "state": {}
     },
     "528ea489f3be465d8d7ad580efe6b1ee": {
      "model_module": "@jupyter-widgets/controls",
      "model_module_version": "1.5.0",
      "model_name": "HBoxModel",
      "state": {
       "children": [
        "IPY_MODEL_f337dea8926848848dc3de3fbae7bbe2",
        "IPY_MODEL_830bd688a4e94180b5e7f6fe4aeac2f1"
       ],
       "layout": "IPY_MODEL_1b5898afa9744c0c9a43b77bd8590385"
      }
     },
     "5335fae886dd475d9bc5c98981e5d478": {
      "model_module": "@jupyter-widgets/controls",
      "model_module_version": "1.5.0",
      "model_name": "DropdownModel",
      "state": {
       "_options_labels": [
        "All",
        "Fe"
       ],
       "description": "Show",
       "index": 0,
       "layout": "IPY_MODEL_f4e9c7cf6d144574ab50013d5819acca",
       "style": "IPY_MODEL_a2c6848820b04a8c812e476ede9508c9"
      }
     },
     "5346f9e196d54a86a5d3944988d2111b": {
      "model_module": "@jupyter-widgets/controls",
      "model_module_version": "1.5.0",
      "model_name": "HBoxModel",
      "state": {
       "children": [
        "IPY_MODEL_0503f7dee6494389a924daeabf3c4537",
        "IPY_MODEL_e4d80ea4b5c04bd48e859e17cb2350fe"
       ],
       "layout": "IPY_MODEL_1de0e80c03ac4dc08fb320eafa344f51"
      }
     },
     "5393187436394ac596ca5bb7be589fb2": {
      "model_module": "@jupyter-widgets/controls",
      "model_module_version": "1.5.0",
      "model_name": "ButtonModel",
      "state": {
       "description": "Download image",
       "layout": "IPY_MODEL_9392d4c8b9954d1e921b2cfa5486c2e6",
       "style": "IPY_MODEL_74d3531e48674214bd6b6af458805d8b",
       "tooltip": "Download current frame to your local PC"
      }
     },
     "53df57a3397e42f68e6c3bca2844433e": {
      "model_module": "@jupyter-widgets/controls",
      "model_module_version": "1.5.0",
      "model_name": "SliderStyleModel",
      "state": {
       "description_width": ""
      }
     },
     "53e2f7c1f454405db3694c070d8ca3c1": {
      "model_module": "@jupyter-widgets/controls",
      "model_module_version": "1.5.0",
      "model_name": "DescriptionStyleModel",
      "state": {
       "description_width": ""
      }
     },
     "547b30dbe4394176a618d9e0df230a2b": {
      "model_module": "@jupyter-widgets/controls",
      "model_module_version": "1.5.0",
      "model_name": "FloatSliderModel",
      "state": {
       "description": "Ball size",
       "layout": "IPY_MODEL_6f1f5a46d4464535a3f8dd255a229db4",
       "max": 1.5,
       "step": 0.01,
       "style": "IPY_MODEL_567a7c16602d4c1091987aeb3d681065",
       "value": 0.5
      }
     },
     "55bd442187634584837bedf89f07d7f1": {
      "model_module": "@jupyter-widgets/base",
      "model_module_version": "1.2.0",
      "model_name": "LayoutModel",
      "state": {}
     },
     "5665d9fb4b794c34b765a57de04d6fb2": {
      "model_module": "@jupyter-widgets/base",
      "model_module_version": "1.2.0",
      "model_name": "LayoutModel",
      "state": {}
     },
     "567a7c16602d4c1091987aeb3d681065": {
      "model_module": "@jupyter-widgets/controls",
      "model_module_version": "1.5.0",
      "model_name": "SliderStyleModel",
      "state": {
       "description_width": ""
      }
     },
     "5771907836674636bb5f260011e26b07": {
      "model_module": "@jupyter-widgets/base",
      "model_module_version": "1.2.0",
      "model_name": "LayoutModel",
      "state": {}
     },
     "57ca69d879344d58872e2dba395d4b3a": {
      "model_module": "@jupyter-widgets/base",
      "model_module_version": "1.2.0",
      "model_name": "LayoutModel",
      "state": {}
     },
     "58c7261092804517a3f975a71180a973": {
      "model_module": "@jupyter-widgets/controls",
      "model_module_version": "1.5.0",
      "model_name": "LinkModel",
      "state": {
       "source": [
        "IPY_MODEL_8fa63860c3e14eb3b358ae1334dbe52b",
        "value"
       ],
       "target": [
        "IPY_MODEL_cdffd5554e734bd9985884b5d26f70b9",
        "value"
       ]
      }
     },
     "58e1be3921694d6798229609cbcc4f3b": {
      "model_module": "@jupyter-widgets/base",
      "model_module_version": "1.2.0",
      "model_name": "LayoutModel",
      "state": {}
     },
     "5977749c9165404c97fc61baa13d476e": {
      "model_module": "@jupyter-widgets/controls",
      "model_module_version": "1.5.0",
      "model_name": "ImageModel",
      "state": {
       "layout": "IPY_MODEL_45f0ce14796e4c5e8c2353cf85fea801",
       "width": "900.0"
      }
     },
     "59d5d2f2a9224ee48e4e4411108e45bd": {
      "model_module": "@jupyter-widgets/base",
      "model_module_version": "1.2.0",
      "model_name": "LayoutModel",
      "state": {}
     },
     "5d4b23e1396c45ef801317406ef93c19": {
      "model_module": "@jupyter-widgets/controls",
      "model_module_version": "1.5.0",
      "model_name": "DescriptionStyleModel",
      "state": {
       "description_width": ""
      }
     },
     "5d6c62891d0d4ca69f6e88bb8838076a": {
      "model_module": "@jupyter-widgets/base",
      "model_module_version": "1.2.0",
      "model_name": "LayoutModel",
      "state": {}
     },
     "5d812b4d9442454f9be59a00530341d8": {
      "model_module": "@jupyter-widgets/base",
      "model_module_version": "1.2.0",
      "model_name": "LayoutModel",
      "state": {}
     },
     "5e5cd2650bfd408a9df8e00d3a8a7149": {
      "model_module": "@jupyter-widgets/controls",
      "model_module_version": "1.5.0",
      "model_name": "DescriptionStyleModel",
      "state": {
       "description_width": ""
      }
     },
     "5ec6bc213bd84d8291dd419b02b9e580": {
      "model_module": "@jupyter-widgets/base",
      "model_module_version": "1.2.0",
      "model_name": "LayoutModel",
      "state": {}
     },
     "5ec7b5e9e967465d9ccc108167e17aee": {
      "model_module": "@jupyter-widgets/controls",
      "model_module_version": "1.5.0",
      "model_name": "DescriptionStyleModel",
      "state": {
       "description_width": ""
      }
     },
     "5fe9cc9caf6a43a7a6bbf918c59b8376": {
      "model_module": "@jupyter-widgets/controls",
      "model_module_version": "1.5.0",
      "model_name": "ButtonStyleModel",
      "state": {}
     },
     "6092328403194de2b92a0ef002cdc1cb": {
      "model_module": "@jupyter-widgets/base",
      "model_module_version": "1.2.0",
      "model_name": "LayoutModel",
      "state": {
       "border": "0px solid black"
      }
     },
     "621739cf9441412685f52e7431e12d45": {
      "model_module": "@jupyter-widgets/controls",
      "model_module_version": "1.5.0",
      "model_name": "LinkModel",
      "state": {
       "source": [
        "IPY_MODEL_d8e6f62c422e4189a63259d58d122208",
        "value"
       ],
       "target": [
        "IPY_MODEL_0a092a74dc1a47a18ff43ecaf6aaf501",
        "value"
       ]
      }
     },
     "628e4d210a0948dcb18241d236934a0e": {
      "model_module": "@jupyter-widgets/controls",
      "model_module_version": "1.5.0",
      "model_name": "DescriptionStyleModel",
      "state": {
       "description_width": ""
      }
     },
     "628fd954103b4bdc91a437b18f8e1113": {
      "model_module": "@jupyter-widgets/controls",
      "model_module_version": "1.5.0",
      "model_name": "CheckboxModel",
      "state": {
       "description": "Show force",
       "disabled": false,
       "layout": "IPY_MODEL_01df1d9b66c647f3b7cd53c7d86df59b",
       "style": "IPY_MODEL_ebf82950d75a40548f2c05589a28b35a",
       "value": false
      }
     },
     "62e9f6b4ab5b48b297109f9470e147b1": {
      "model_module": "@jupyter-widgets/controls",
      "model_module_version": "1.5.0",
      "model_name": "DescriptionStyleModel",
      "state": {
       "description_width": ""
      }
     },
     "63f1a262c48643eeaf1be88fe1e0ae4a": {
      "model_module": "@jupyter-widgets/controls",
      "model_module_version": "1.5.0",
      "model_name": "IntSliderModel",
      "state": {
       "layout": "IPY_MODEL_148cbe5231224d6bac2651ad654e4e3a",
       "max": 7,
       "style": "IPY_MODEL_b61d4c37fecf406dac938b9f4d85d93a"
      }
     },
     "642255d47bf74e8ba74bb809dcc851f5": {
      "model_module": "@jupyter-widgets/controls",
      "model_module_version": "1.5.0",
      "model_name": "SliderStyleModel",
      "state": {
       "description_width": ""
      }
     },
     "652ff424b22942e399f5c55fbaa47f86": {
      "model_module": "@jupyter-widgets/controls",
      "model_module_version": "1.5.0",
      "model_name": "SliderStyleModel",
      "state": {
       "description_width": ""
      }
     },
     "66011abd460a411d92c0f3318f22dddb": {
      "model_module": "@jupyter-widgets/controls",
      "model_module_version": "1.5.0",
      "model_name": "ButtonStyleModel",
      "state": {}
     },
     "6632111975ae4777883e3482eea20e85": {
      "model_module": "@jupyter-widgets/base",
      "model_module_version": "1.2.0",
      "model_name": "LayoutModel",
      "state": {
       "border": "0px solid black"
      }
     },
     "6654ad46aa504fbb8a2da22d7ff18950": {
      "model_module": "@jupyter-widgets/output",
      "model_module_version": "1.0.0",
      "model_name": "OutputModel",
      "state": {
       "layout": "IPY_MODEL_7f8862b94b204b638d228cf91cd83e01"
      }
     },
     "666cf29cc9df4170ac82432407204740": {
      "model_module": "@jupyter-widgets/controls",
      "model_module_version": "1.5.0",
      "model_name": "ImageModel",
      "state": {
       "layout": "IPY_MODEL_85122fee532945949ab8c383a9d1bced",
       "width": "900.0"
      }
     },
     "66c7a196884e4a758ae7f1c102a24cfe": {
      "model_module": "@jupyter-widgets/controls",
      "model_module_version": "1.5.0",
      "model_name": "HBoxModel",
      "state": {
       "children": [
        "IPY_MODEL_e97d718fa7be4dc29921a84b41f7047c",
        "IPY_MODEL_f80905027bee415ebfa3542553a3ac6d"
       ],
       "layout": "IPY_MODEL_f144f08305f6470ebfa1b2ed43ddd032"
      }
     },
     "6700848ab73c4e4ab79efe01175ca66e": {
      "model_module": "@jupyter-widgets/controls",
      "model_module_version": "1.5.0",
      "model_name": "DescriptionStyleModel",
      "state": {
       "description_width": ""
      }
     },
     "673087df5e6540be83d2083bba98d4c3": {
      "model_module": "@jupyter-widgets/controls",
      "model_module_version": "1.5.0",
      "model_name": "SliderStyleModel",
      "state": {
       "description_width": ""
      }
     },
     "67d2b38941ff42c6bd9a9987817d68df": {
      "model_module": "@jupyter-widgets/controls",
      "model_module_version": "1.5.0",
      "model_name": "SliderStyleModel",
      "state": {
       "description_width": ""
      }
     },
     "68843b7b5d054feab9556433b5d0eaba": {
      "model_module": "@jupyter-widgets/base",
      "model_module_version": "1.2.0",
      "model_name": "LayoutModel",
      "state": {}
     },
     "691e3a79f0d744d2b48b6a1b385d7322": {
      "model_module": "@jupyter-widgets/base",
      "model_module_version": "1.2.0",
      "model_name": "LayoutModel",
      "state": {}
     },
     "69ff8babb6ef4b8c968e3de4fc4b8ee1": {
      "model_module": "@jupyter-widgets/base",
      "model_module_version": "1.2.0",
      "model_name": "LayoutModel",
      "state": {}
     },
     "6cbf41c03a75402e8412bd1088cc367d": {
      "model_module": "@jupyter-widgets/base",
      "model_module_version": "1.2.0",
      "model_name": "LayoutModel",
      "state": {}
     },
     "6df425ad7c674c7fab403f3fc716b2d9": {
      "model_module": "@jupyter-widgets/controls",
      "model_module_version": "1.5.0",
      "model_name": "ButtonStyleModel",
      "state": {}
     },
     "6e0ba7a740dd4b46bdc87a32f9d818f6": {
      "model_module": "@jupyter-widgets/controls",
      "model_module_version": "1.5.0",
      "model_name": "DropdownModel",
      "state": {
       "_options_labels": [
        " ",
        "picking",
        "random",
        "uniform",
        "atomindex",
        "residueindex",
        "chainindex",
        "modelindex",
        "sstruc",
        "element",
        "resname",
        "bfactor",
        "hydrophobicity",
        "value",
        "volume",
        "occupancy"
       ],
       "description": "Color scheme",
       "index": 9,
       "layout": "IPY_MODEL_6f568fd5653a4be4b208343d0c7fba75",
       "style": "IPY_MODEL_c0c2ed85e4114d0c9ae802ed974d724d"
      }
     },
     "6f1f5a46d4464535a3f8dd255a229db4": {
      "model_module": "@jupyter-widgets/base",
      "model_module_version": "1.2.0",
      "model_name": "LayoutModel",
      "state": {}
     },
     "6f21a395fa0d4c32a96c67826020fc76": {
      "model_module": "@jupyter-widgets/base",
      "model_module_version": "1.2.0",
      "model_name": "LayoutModel",
      "state": {}
     },
     "6f568fd5653a4be4b208343d0c7fba75": {
      "model_module": "@jupyter-widgets/base",
      "model_module_version": "1.2.0",
      "model_name": "LayoutModel",
      "state": {}
     },
     "6fe08dbacb874ad6abaaeb160454526b": {
      "model_module": "@jupyter-widgets/controls",
      "model_module_version": "1.5.0",
      "model_name": "LinkModel",
      "state": {
       "source": [
        "IPY_MODEL_9e27f48bf96147088c7288dc50610420",
        "value"
       ],
       "target": [
        "IPY_MODEL_0503f7dee6494389a924daeabf3c4537",
        "frame"
       ]
      }
     },
     "70092d1671f4492cbc600f2f4b26bf30": {
      "model_module": "@jupyter-widgets/output",
      "model_module_version": "1.0.0",
      "model_name": "OutputModel",
      "state": {
       "layout": "IPY_MODEL_39f406d347ee4caaae9c93b8584b718f"
      }
     },
     "708dbc62d43340118c0b6260f64fd7a4": {
      "model_module": "@jupyter-widgets/base",
      "model_module_version": "1.2.0",
      "model_name": "LayoutModel",
      "state": {
       "border": "0px solid black"
      }
     },
     "724e9e7373e041aebe36b39715e8bc91": {
      "model_module": "@jupyter-widgets/controls",
      "model_module_version": "1.5.0",
      "model_name": "TextModel",
      "state": {
       "description": "Filename: ",
       "layout": "IPY_MODEL_2772f3442c3a440ab63c50a1bb2c80d4",
       "style": "IPY_MODEL_e2dc7784aa1c44249d16662ee2aa8365",
       "value": "screenshot.png"
      }
     },
     "72ca2a7a01eb4a27aafcc918cfab6634": {
      "model_module": "@jupyter-widgets/base",
      "model_module_version": "1.2.0",
      "model_name": "LayoutModel",
      "state": {}
     },
     "72dc445ac2e44e1c89fc288b0fb6d403": {
      "model_module": "@jupyter-widgets/base",
      "model_module_version": "1.2.0",
      "model_name": "LayoutModel",
      "state": {}
     },
     "737f3babf34e49ddb42b2623d208b3b2": {
      "model_module": "@jupyter-widgets/controls",
      "model_module_version": "1.5.0",
      "model_name": "ButtonModel",
      "state": {
       "description": "Download image",
       "layout": "IPY_MODEL_d73085b8e1e94ac19e47b20fd0ea1f66",
       "style": "IPY_MODEL_8f5ffde730674863ba3706ff28479f85",
       "tooltip": "Download current frame to your local PC"
      }
     },
     "74743ab37f1b4116a4781a2ad8c7122e": {
      "model_module": "@jupyter-widgets/controls",
      "model_module_version": "1.5.0",
      "model_name": "DescriptionStyleModel",
      "state": {
       "description_width": ""
      }
     },
     "74d3531e48674214bd6b6af458805d8b": {
      "model_module": "@jupyter-widgets/controls",
      "model_module_version": "1.5.0",
      "model_name": "ButtonStyleModel",
      "state": {}
     },
     "752b783f42604abd9967bf656e748613": {
      "model_module": "@jupyter-widgets/controls",
      "model_module_version": "1.5.0",
      "model_name": "FloatSliderModel",
      "state": {
       "description": "Charge scale",
       "layout": "IPY_MODEL_4792db98a6344b7f8b1096a767854a18",
       "step": 0.1,
       "style": "IPY_MODEL_3fe35b452e3747edb3a2b1daf9ce256a",
       "value": 1
      }
     },
     "75c7fb4c82cf4a4bb43fcb47c79234de": {
      "model_module": "@jupyter-widgets/controls",
      "model_module_version": "1.5.0",
      "model_name": "LinkModel",
      "state": {
       "source": [
        "IPY_MODEL_49c59b8eeb1c40ddae1309456e80493e",
        "value"
       ],
       "target": [
        "IPY_MODEL_2dac38ef336841de8d0ebf4fb7abcacc",
        "value"
       ]
      }
     },
     "763a75a9d1b34eba9c7d9307cdc3e59c": {
      "model_module": "@jupyter-widgets/controls",
      "model_module_version": "1.5.0",
      "model_name": "DropdownModel",
      "state": {
       "_options_labels": [
        "All",
        "O",
        "Si"
       ],
       "description": "Show",
       "index": 0,
       "layout": "IPY_MODEL_22bd3acff01147b9919adcce6730b9c0",
       "style": "IPY_MODEL_3a14be01b2994d2782a5268f0f736a85"
      }
     },
     "76591e65d80b4bb189db36b84bd424ca": {
      "model_module": "@jupyter-widgets/base",
      "model_module_version": "1.2.0",
      "model_name": "LayoutModel",
      "state": {
       "width": "34px"
      }
     },
     "76a72a1df8a741bbb484fa632b198642": {
      "model_module": "@jupyter-widgets/controls",
      "model_module_version": "1.5.0",
      "model_name": "ButtonStyleModel",
      "state": {}
     },
     "76c7c455be27479e826f802c540317bd": {
      "model_module": "@jupyter-widgets/controls",
      "model_module_version": "1.5.0",
      "model_name": "IntSliderModel",
      "state": {
       "layout": "IPY_MODEL_923e4ea7f7e24c1b8e82b19737fb3a56",
       "max": 5,
       "style": "IPY_MODEL_8635ab760769444db099f5bef01d417c"
      }
     },
     "76ddaf3c165f47908303cd3d9e735bbd": {
      "model_module": "@jupyter-widgets/controls",
      "model_module_version": "1.5.0",
      "model_name": "LinkModel",
      "state": {
       "source": [
        "IPY_MODEL_0a092a74dc1a47a18ff43ecaf6aaf501",
        "max"
       ],
       "target": [
        "IPY_MODEL_e97d718fa7be4dc29921a84b41f7047c",
        "max_frame"
       ]
      }
     },
     "76f9d31676d041e1a1fabfea306db64e": {
      "model_module": "@jupyter-widgets/controls",
      "model_module_version": "1.5.0",
      "model_name": "DescriptionStyleModel",
      "state": {
       "description_width": ""
      }
     },
     "778900f5d75f4f5398fcd446e55fe24a": {
      "model_module": "@jupyter-widgets/controls",
      "model_module_version": "1.5.0",
      "model_name": "IntSliderModel",
      "state": {
       "layout": "IPY_MODEL_5771907836674636bb5f260011e26b07",
       "max": 1,
       "style": "IPY_MODEL_fa331fcee7334f52acfab18ddc94997d"
      }
     },
     "77e9e12620414185b4f72eec29416041": {
      "model_module": "@jupyter-widgets/base",
      "model_module_version": "1.2.0",
      "model_name": "LayoutModel",
      "state": {}
     },
     "77ffc12406e94aaab9889b8605dffc8a": {
      "model_module": "@jupyter-widgets/base",
      "model_module_version": "1.2.0",
      "model_name": "LayoutModel",
      "state": {}
     },
     "789ac85a0d7446f09a04507a49ce5da3": {
      "model_module": "@jupyter-widgets/controls",
      "model_module_version": "1.5.0",
      "model_name": "HBoxModel",
      "state": {
       "children": [
        "IPY_MODEL_dbcae5d46b6b471fb6169e34cd686b53",
        "IPY_MODEL_0a60364d12eb46bc94318c4bf5e9e498"
       ],
       "layout": "IPY_MODEL_ad13b379d1954836a2a881fd56a5844c"
      }
     },
     "78a6d5daf7884e1eb270e0e5f07f2395": {
      "model_module": "@jupyter-widgets/base",
      "model_module_version": "1.2.0",
      "model_name": "LayoutModel",
      "state": {}
     },
     "78d0f20d11dd4f4d8b33cb7b3cf56419": {
      "model_module": "@jupyter-widgets/base",
      "model_module_version": "1.2.0",
      "model_name": "LayoutModel",
      "state": {}
     },
     "7977752ce6984e0eb008b2362b12db73": {
      "model_module": "@jupyter-widgets/base",
      "model_module_version": "1.2.0",
      "model_name": "LayoutModel",
      "state": {}
     },
     "7a6251aadd7841baac3398e0be9cfaa0": {
      "model_module": "@jupyter-widgets/controls",
      "model_module_version": "1.5.0",
      "model_name": "SliderStyleModel",
      "state": {
       "description_width": ""
      }
     },
     "7a6d9ce1aff54288bffd27c72021deb2": {
      "model_module": "@jupyter-widgets/base",
      "model_module_version": "1.2.0",
      "model_name": "LayoutModel",
      "state": {
       "width": "34px"
      }
     },
     "7aa3a18116604a3fbfb8c23b23425833": {
      "model_module": "@jupyter-widgets/base",
      "model_module_version": "1.2.0",
      "model_name": "LayoutModel",
      "state": {}
     },
     "7cb3ec9490bd495fb3d01528b1d2c7fd": {
      "model_module": "@jupyter-widgets/controls",
      "model_module_version": "1.5.0",
      "model_name": "DescriptionStyleModel",
      "state": {
       "description_width": ""
      }
     },
     "7d32446279e0496bb343cff842f36d81": {
      "model_module": "nglview-js-widgets",
      "model_module_version": "3.0.1",
      "model_name": "NGLModel",
      "state": {
       "_camera_orientation": [
        12.773108695892981,
        0.14930024299310082,
        0.8511572973993369,
        0,
        0.8444606518914303,
        -4.83311676525088,
        -11.824843914632858,
        0,
        0.18342713779876468,
        11.854018594361367,
        -4.831941919583258,
        0,
        -1.38100004196167,
        -1.8270000219345093,
        -2.4024999141693115,
        1
       ],
       "_camera_str": "orthographic",
       "_gui_theme": null,
       "_ibtn_fullscreen": "IPY_MODEL_d58ffc7948524ab9b81fdae2affcb766",
       "_igui": null,
       "_iplayer": "IPY_MODEL_445470f776a04a85b30df6bfeee24797",
       "_ngl_color_dict": {},
       "_ngl_coordinate_resource": {},
       "_ngl_full_stage_parameters": {
        "ambientColor": 14540253,
        "ambientIntensity": 0.2,
        "backgroundColor": "white",
        "cameraEyeSep": 0.3,
        "cameraFov": 40,
        "cameraType": "orthographic",
        "clipDist": 0,
        "clipFar": 100,
        "clipNear": 0,
        "fogFar": 100,
        "fogNear": 50,
        "hoverTimeout": 0,
        "impostor": true,
        "lightColor": 14540253,
        "lightIntensity": 1,
        "mousePreset": "default",
        "panSpeed": 1,
        "quality": "medium",
        "rotateSpeed": 2,
        "sampleLevel": 0,
        "tooltip": true,
        "workerDefault": true,
        "zoomSpeed": 1.2
       },
       "_ngl_msg_archive": [
        {
         "args": [
          {
           "binary": false,
           "data": "CRYST1    5.028    5.028    5.519  90.00  90.00 120.00 P 1\nMODEL     1\nATOM      1   Si MOL     1       1.314   2.276   0.000  1.00  0.00          SI  \nATOM      2   Si MOL     1       2.400   0.000   3.679  1.00  0.00          SI  \nATOM      3   Si MOL     1       3.828   2.078   1.840  1.00  0.00          SI  \nATOM      4    O MOL     1       0.831   3.654   4.805  1.00  0.00           O  \nATOM      5    O MOL     1      -1.066   3.247   2.966  1.00  0.00           O  \nATOM      6    O MOL     1       0.235   1.807   1.126  1.00  0.00           O  \nATOM      7    O MOL     1       2.749   2.547   0.714  1.00  0.00           O  \nATOM      8    O MOL     1       3.345   0.700   2.553  1.00  0.00           O  \nATOM      9    O MOL     1       1.447   1.107   4.393  1.00  0.00           O  \nENDMDL\n",
           "type": "blob"
          }
         ],
         "kwargs": {
          "defaultRepresentation": false,
          "ext": "pdb"
         },
         "methodName": "loadFile",
         "reconstruc_color_scheme": false,
         "target": "Stage",
         "type": "call_method"
        },
        {
         "args": [
          "500px",
          "500px"
         ],
         "kwargs": {},
         "methodName": "setSize",
         "reconstruc_color_scheme": false,
         "target": "Widget",
         "type": "call_method"
        },
        {
         "args": [
          "unitcell"
         ],
         "component_index": 0,
         "kwargs": {
          "sele": "all"
         },
         "methodName": "addRepresentation",
         "reconstruc_color_scheme": false,
         "target": "compList",
         "type": "call_method"
        },
        {
         "args": [
          "spacefill"
         ],
         "component_index": 0,
         "kwargs": {
          "sele": "all"
         },
         "methodName": "addRepresentation",
         "reconstruc_color_scheme": false,
         "target": "compList",
         "type": "call_method"
        },
        {
         "args": [],
         "kwargs": {
          "cameraType": "orthographic"
         },
         "methodName": "setParameters",
         "reconstruc_color_scheme": false,
         "target": "Stage",
         "type": "call_method"
        },
        {
         "args": [
          {
           "clipDist": 0
          }
         ],
         "kwargs": {},
         "methodName": "setParameters",
         "reconstruc_color_scheme": false,
         "target": "Widget",
         "type": "call_method"
        },
        {
         "args": [
          "spacefill",
          0
         ],
         "kwargs": {
          "colorScale": "rainbow",
          "colorScheme": "element",
          "radiusScale": 0.5,
          "radiusType": "covalent"
         },
         "methodName": "updateRepresentationsByName",
         "reconstruc_color_scheme": false,
         "target": "Widget",
         "type": "call_method"
        },
        {
         "args": [
          "this._Q = [[1.0, 0.0, 0.0], [0.0, 1.0, 0.0], [0.0, 0.0, 1.0]]\n    var tooltip = document.createElement('div');\n    Object.assign(tooltip.style, {\n      display: 'none',\n      position: 'fixed',\n      zIndex: 10,\n      pointerEvents: 'none',\n      backgroundColor: 'rgba( 0, 0, 0, 0.6 )',\n      color: 'lightgrey',\n      padding: '8px',\n      fontFamily: 'sans-serif'\n    });\n    document.body.appendChild(tooltip);\n\n    var that = this;\n    this.stage.mouseControls.remove('hoverPick');\n    this.stage.signals.hovered.add(function (pickingProxy) {\n      if (pickingProxy && (pickingProxy.atom || pickingProxy.bond)) {\n        var atom = pickingProxy.atom || pickingProxy.closestBondAtom\n        var mp = pickingProxy.mouse.position\n        //tooltip.innerText = atom.element + ' i=' + atom.index + ' (' + atom.x.toFixed(2) +  ', ' + atom.y.toFixed(2) +  ', ' + atom.z.toFixed(2) + ')'\n        //var pos = that._atoms_pos[atom.index]\n        var Q = that._Q\n        var pos_x = Q[0][0] * atom.x + Q[0][1] * atom.y + Q[0][2] * atom.z \n        var pos_y = Q[1][0] * atom.x + Q[1][1] * atom.y + Q[1][2] * atom.z\n        var pos_z = Q[2][0] * atom.x + Q[2][1] * atom.y + Q[2][2] * atom.z\n        tooltip.innerText = 'i=' + atom.index + ' ' + atom.element + ' (' + pos_x.toFixed(2) +  ', ' + pos_y.toFixed(2) +  ', ' + pos_z.toFixed(2) + ')'\n        tooltip.style.bottom = window.innerHeight - mp.y + 3 + 'px'\n        tooltip.style.left = mp.x + 3 + 'px'\n        tooltip.style.display = 'block'\n      } else {\n        tooltip.style.display = 'none'\n      }\n    });\n    this.stage.tooltip = tooltip;\n    "
         ],
         "kwargs": {},
         "methodName": "executeCode",
         "reconstruc_color_scheme": false,
         "target": "Widget",
         "type": "call_method"
        },
        {
         "args": [
          "ball+stick"
         ],
         "component_index": 0,
         "kwargs": {
          "sele": "all"
         },
         "methodName": "addRepresentation",
         "reconstruc_color_scheme": false,
         "target": "compList",
         "type": "call_method"
        }
       ],
       "_ngl_original_stage_parameters": {
        "ambientColor": 14540253,
        "ambientIntensity": 0.2,
        "backgroundColor": "white",
        "cameraEyeSep": 0.3,
        "cameraFov": 40,
        "cameraType": "perspective",
        "clipDist": 10,
        "clipFar": 100,
        "clipNear": 0,
        "fogFar": 100,
        "fogNear": 50,
        "hoverTimeout": 0,
        "impostor": true,
        "lightColor": 14540253,
        "lightIntensity": 1,
        "mousePreset": "default",
        "panSpeed": 1,
        "quality": "medium",
        "rotateSpeed": 2,
        "sampleLevel": 0,
        "tooltip": true,
        "workerDefault": true,
        "zoomSpeed": 1.2
       },
       "_ngl_repr_dict": {
        "0": {
         "0": {
          "params": {
           "clipCenter": {
            "x": 0,
            "y": 0,
            "z": 0
           },
           "clipNear": 0,
           "clipRadius": 0,
           "colorMode": "hcl",
           "colorReverse": false,
           "colorScale": "",
           "colorScheme": "element",
           "colorValue": "orange",
           "defaultAssembly": "",
           "depthWrite": true,
           "diffuse": 16777215,
           "diffuseInterior": false,
           "disableImpostor": false,
           "disablePicking": false,
           "flatShaded": false,
           "interiorColor": 2236962,
           "interiorDarkening": 0,
           "lazy": false,
           "matrix": {
            "elements": [
             1,
             0,
             0,
             0,
             0,
             1,
             0,
             0,
             0,
             0,
             1,
             0,
             0,
             0,
             0,
             1
            ]
           },
           "metalness": 0,
           "opacity": 1,
           "quality": "medium",
           "radialSegments": 10,
           "radiusData": {},
           "radiusScale": 1,
           "radiusSize": 0.0247208561684643,
           "radiusType": "vdw",
           "roughness": 0.4,
           "sele": "all",
           "side": "double",
           "sphereDetail": 1,
           "useInteriorColor": true,
           "visible": true,
           "wireframe": false
          },
          "type": "unitcell"
         },
         "1": {
          "params": {
           "assembly": "default",
           "clipCenter": {
            "x": 0,
            "y": 0,
            "z": 0
           },
           "clipNear": 0,
           "clipRadius": 0,
           "colorMode": "hcl",
           "colorReverse": false,
           "colorScale": "rainbow",
           "colorScheme": "element",
           "colorValue": 9474192,
           "defaultAssembly": "",
           "depthWrite": true,
           "diffuse": 16777215,
           "diffuseInterior": false,
           "disableImpostor": false,
           "disablePicking": false,
           "flatShaded": false,
           "interiorColor": 2236962,
           "interiorDarkening": 0,
           "lazy": false,
           "matrix": {
            "elements": [
             1,
             0,
             0,
             0,
             0,
             1,
             0,
             0,
             0,
             0,
             1,
             0,
             0,
             0,
             0,
             1
            ]
           },
           "metalness": 0,
           "opacity": 1,
           "quality": "medium",
           "radiusData": {},
           "radiusScale": 0.5,
           "radiusSize": 1,
           "radiusType": "covalent",
           "roughness": 0.4,
           "sele": "all",
           "side": "double",
           "sphereDetail": 1,
           "useInteriorColor": true,
           "visible": true,
           "wireframe": false
          },
          "type": "spacefill"
         },
         "2": {
          "params": {
           "aspectRatio": 2,
           "assembly": "default",
           "bondScale": 0.4,
           "bondSpacing": 1,
           "clipCenter": {
            "x": 0,
            "y": 0,
            "z": 0
           },
           "clipNear": 0,
           "clipRadius": 0,
           "colorMode": "hcl",
           "colorReverse": false,
           "colorScale": "",
           "colorScheme": "element",
           "colorValue": 9474192,
           "cylinderOnly": false,
           "defaultAssembly": "",
           "depthWrite": true,
           "diffuse": 16777215,
           "diffuseInterior": false,
           "disableImpostor": false,
           "disablePicking": false,
           "flatShaded": false,
           "interiorColor": 2236962,
           "interiorDarkening": 0,
           "lazy": false,
           "lineOnly": false,
           "linewidth": 2,
           "matrix": {
            "elements": [
             1,
             0,
             0,
             0,
             0,
             1,
             0,
             0,
             0,
             0,
             1,
             0,
             0,
             0,
             0,
             1
            ]
           },
           "metalness": 0,
           "multipleBond": "off",
           "opacity": 1,
           "openEnded": true,
           "quality": "medium",
           "radialSegments": 10,
           "radiusData": {},
           "radiusScale": 1,
           "radiusSize": 0.15,
           "radiusType": "size",
           "roughness": 0.4,
           "sele": "all",
           "side": "double",
           "sphereDetail": 1,
           "useInteriorColor": true,
           "visible": true,
           "wireframe": false
          },
          "type": "ball+stick"
         }
        }
       },
       "_ngl_serialize": false,
       "_ngl_version": "2.0.0-dev.36",
       "_ngl_view_id": [
        "C41CD9A4-C316-4D3F-A84B-A3B1877ECC33"
       ],
       "_player_dict": {},
       "_scene_position": {},
       "_scene_rotation": {},
       "_synced_model_ids": [],
       "_synced_repr_model_ids": [],
       "_view_height": "",
       "_view_width": "",
       "background": "white",
       "frame": 0,
       "gui_style": null,
       "layout": "IPY_MODEL_86f61fecc2014d7f9ec78602eaaa98ea",
       "max_frame": 0,
       "n_components": 1,
       "picked": {}
      }
     },
     "7d54d50a581a4774a1a4a6f369ff7d86": {
      "model_module": "@jupyter-widgets/base",
      "model_module_version": "1.2.0",
      "model_name": "LayoutModel",
      "state": {}
     },
     "7db6ab7fd1b448fd997d2efb133acdd6": {
      "model_module": "@jupyter-widgets/base",
      "model_module_version": "1.2.0",
      "model_name": "LayoutModel",
      "state": {}
     },
     "7e232893e85e489ea34e1e07b39e124a": {
      "model_module": "@jupyter-widgets/controls",
      "model_module_version": "1.5.0",
      "model_name": "LinkModel",
      "state": {
       "source": [
        "IPY_MODEL_3cfee9498e374164a5f00ad2167320a4",
        "value"
       ],
       "target": [
        "IPY_MODEL_1c7d111aaf7c4d9fb736dab8538a9abe",
        "value"
       ]
      }
     },
     "7e5f9be5810849ffbb7f8172048088f0": {
      "model_module": "@jupyter-widgets/base",
      "model_module_version": "1.2.0",
      "model_name": "LayoutModel",
      "state": {}
     },
     "7f037a83091746779eb8311e6d0e3965": {
      "model_module": "@jupyter-widgets/controls",
      "model_module_version": "1.5.0",
      "model_name": "ButtonStyleModel",
      "state": {}
     },
     "7f8862b94b204b638d228cf91cd83e01": {
      "model_module": "@jupyter-widgets/base",
      "model_module_version": "1.2.0",
      "model_name": "LayoutModel",
      "state": {
       "border": "0px solid black"
      }
     },
     "7fde14edb7604a38ab8e9fd3c9ac7cc5": {
      "model_module": "@jupyter-widgets/base",
      "model_module_version": "1.2.0",
      "model_name": "LayoutModel",
      "state": {}
     },
     "8071ed112a3541afb8bc176036b75fb2": {
      "model_module": "@jupyter-widgets/base",
      "model_module_version": "1.2.0",
      "model_name": "LayoutModel",
      "state": {}
     },
     "80a0de54e457401595aaf7a3ba41ac69": {
      "model_module": "@jupyter-widgets/controls",
      "model_module_version": "1.5.0",
      "model_name": "PlayModel",
      "state": {
       "layout": "IPY_MODEL_02c17c20d1c240a8889562cb5720e328",
       "max": 0,
       "style": "IPY_MODEL_beafe56d40d9407c88783b923ea0b89b"
      }
     },
     "80f8fcce30ca445396a2be352f603e88": {
      "model_module": "@jupyter-widgets/controls",
      "model_module_version": "1.5.0",
      "model_name": "VBoxModel",
      "state": {
       "children": [
        "IPY_MODEL_a96f089865f94a79bf647ff146b684e5",
        "IPY_MODEL_e85a814ba20b47a8bce800f5395c1a80",
        "IPY_MODEL_941203e663944c378fbb2c9042fe7e6c",
        "IPY_MODEL_4f7f89adb08a4f4db648784ae2c780b1",
        "IPY_MODEL_196f8e8a3e3d4041a9ee2a6dbb8daf99",
        "IPY_MODEL_fb86784825af4be5af512bf0afd29ace",
        "IPY_MODEL_0c0563ddd97d465987ac478425ce0439",
        "IPY_MODEL_351fc89b42974d6eafc8f98c17655e6c",
        "IPY_MODEL_b66e4c116e8b46719a9d15f75a620852",
        "IPY_MODEL_01be487248e24f1681dfbdfe2c09cb13",
        "IPY_MODEL_4c106384aca44ea3ad58671d32e7ba68"
       ],
       "layout": "IPY_MODEL_352d91d0f70a4172a33c7cc9438b7ab0"
      }
     },
     "81eb152824f544cca16341256df7b97b": {
      "model_module": "@jupyter-widgets/controls",
      "model_module_version": "1.5.0",
      "model_name": "HBoxModel",
      "state": {
       "children": [
        "IPY_MODEL_c5635b22b4bc4e7fa518a4e43efa5fb8",
        "IPY_MODEL_4cc0bef369b44138bb86555edd0de17c"
       ],
       "layout": "IPY_MODEL_a37a2ec83aa94e33b116792be3a02292"
      }
     },
     "8267cf7a99ee434e9c01964e370c6050": {
      "model_module": "@jupyter-widgets/base",
      "model_module_version": "1.2.0",
      "model_name": "LayoutModel",
      "state": {}
     },
     "82c285dcaf09499680b4ba6c63eba529": {
      "model_module": "@jupyter-widgets/controls",
      "model_module_version": "1.5.0",
      "model_name": "DescriptionStyleModel",
      "state": {
       "description_width": ""
      }
     },
     "830bd688a4e94180b5e7f6fe4aeac2f1": {
      "model_module": "@jupyter-widgets/controls",
      "model_module_version": "1.5.0",
      "model_name": "IntSliderModel",
      "state": {
       "layout": "IPY_MODEL_425060ed20e544f081ecafb58a0af935",
       "max": 1,
       "style": "IPY_MODEL_170cb430ba3144ddafa2bfbe82a2771e"
      }
     },
     "838aff6c17954d248fecc87bdedd8285": {
      "model_module": "@jupyter-widgets/controls",
      "model_module_version": "1.5.0",
      "model_name": "DescriptionStyleModel",
      "state": {
       "description_width": ""
      }
     },
     "8419d972c3aa46c0b26df3cba111203d": {
      "model_module": "@jupyter-widgets/base",
      "model_module_version": "1.2.0",
      "model_name": "LayoutModel",
      "state": {}
     },
     "85122fee532945949ab8c383a9d1bced": {
      "model_module": "@jupyter-widgets/base",
      "model_module_version": "1.2.0",
      "model_name": "LayoutModel",
      "state": {}
     },
     "8565e1d2d22842abb55a8f65bb42198a": {
      "model_module": "@jupyter-widgets/controls",
      "model_module_version": "1.5.0",
      "model_name": "ButtonStyleModel",
      "state": {}
     },
     "8635ab760769444db099f5bef01d417c": {
      "model_module": "@jupyter-widgets/controls",
      "model_module_version": "1.5.0",
      "model_name": "SliderStyleModel",
      "state": {
       "description_width": ""
      }
     },
     "86f61fecc2014d7f9ec78602eaaa98ea": {
      "model_module": "@jupyter-widgets/base",
      "model_module_version": "1.2.0",
      "model_name": "LayoutModel",
      "state": {}
     },
     "886ee9784e6a42daaf3a4ad18bb0f36f": {
      "model_module": "@jupyter-widgets/controls",
      "model_module_version": "1.5.0",
      "model_name": "CheckboxModel",
      "state": {
       "description": "Show force",
       "disabled": false,
       "layout": "IPY_MODEL_8419d972c3aa46c0b26df3cba111203d",
       "style": "IPY_MODEL_838aff6c17954d248fecc87bdedd8285",
       "value": false
      }
     },
     "896f44715b6b499087673a1f72914630": {
      "model_module": "@jupyter-widgets/controls",
      "model_module_version": "1.5.0",
      "model_name": "CheckboxModel",
      "state": {
       "description": "Show charge",
       "disabled": false,
       "layout": "IPY_MODEL_516d65f436044a8e972c378b614cd390",
       "style": "IPY_MODEL_82c285dcaf09499680b4ba6c63eba529",
       "value": false
      }
     },
     "898693e9685d45608497b4059b4d97c1": {
      "model_module": "@jupyter-widgets/controls",
      "model_module_version": "1.5.0",
      "model_name": "DescriptionStyleModel",
      "state": {
       "description_width": ""
      }
     },
     "89e4600e2d5640b9bfae6a72e8b45bae": {
      "model_module": "@jupyter-widgets/controls",
      "model_module_version": "1.5.0",
      "model_name": "LinkModel",
      "state": {
       "source": [
        "IPY_MODEL_80a0de54e457401595aaf7a3ba41ac69",
        "max"
       ],
       "target": [
        "IPY_MODEL_990f2104436240b1aa9f5cffb912c563",
        "max_frame"
       ]
      }
     },
     "8b0687caa99b4d78b659a52ace744f20": {
      "model_module": "@jupyter-widgets/base",
      "model_module_version": "1.2.0",
      "model_name": "LayoutModel",
      "state": {}
     },
     "8bef9e82e66748c5bcb542ca0828cc6c": {
      "model_module": "@jupyter-widgets/controls",
      "model_module_version": "1.5.0",
      "model_name": "LinkModel",
      "state": {
       "source": [
        "IPY_MODEL_2dac38ef336841de8d0ebf4fb7abcacc",
        "max"
       ],
       "target": [
        "IPY_MODEL_d3d56aaf22424c6180a24c7db7276a81",
        "max_frame"
       ]
      }
     },
     "8c03081cf45f49be9e63f841329d17ea": {
      "model_module": "@jupyter-widgets/controls",
      "model_module_version": "1.5.0",
      "model_name": "SliderStyleModel",
      "state": {
       "description_width": ""
      }
     },
     "8c19b35bbb384ec7bf990fc338c96020": {
      "model_module": "@jupyter-widgets/base",
      "model_module_version": "1.2.0",
      "model_name": "LayoutModel",
      "state": {}
     },
     "8c2d12a2bc224e34ae53aefdcca9eda1": {
      "model_module": "@jupyter-widgets/base",
      "model_module_version": "1.2.0",
      "model_name": "LayoutModel",
      "state": {}
     },
     "8c66934301e448018d1f5fa43f7b5ba2": {
      "model_module": "@jupyter-widgets/base",
      "model_module_version": "1.2.0",
      "model_name": "LayoutModel",
      "state": {}
     },
     "8cae1b6c79844c52ba69467e2de2760e": {
      "model_module": "@jupyter-widgets/base",
      "model_module_version": "1.2.0",
      "model_name": "LayoutModel",
      "state": {}
     },
     "8d8763efad664c099b8b71bc11bb4a99": {
      "model_module": "@jupyter-widgets/controls",
      "model_module_version": "1.5.0",
      "model_name": "ButtonStyleModel",
      "state": {}
     },
     "8e17f91108124dd48c221001ac9f750e": {
      "model_module": "@jupyter-widgets/controls",
      "model_module_version": "1.5.0",
      "model_name": "LinkModel",
      "state": {
       "source": [
        "IPY_MODEL_ee38aecf4b62476c8547f242ada3546b",
        "max"
       ],
       "target": [
        "IPY_MODEL_0503f7dee6494389a924daeabf3c4537",
        "max_frame"
       ]
      }
     },
     "8ea2ae57f5aa449da4c782fa46e12111": {
      "model_module": "@jupyter-widgets/controls",
      "model_module_version": "1.5.0",
      "model_name": "ImageModel",
      "state": {
       "layout": "IPY_MODEL_7fde14edb7604a38ab8e9fd3c9ac7cc5",
       "width": "900.0"
      }
     },
     "8f5ffde730674863ba3706ff28479f85": {
      "model_module": "@jupyter-widgets/controls",
      "model_module_version": "1.5.0",
      "model_name": "ButtonStyleModel",
      "state": {}
     },
     "8fa63860c3e14eb3b358ae1334dbe52b": {
      "model_module": "@jupyter-widgets/controls",
      "model_module_version": "1.5.0",
      "model_name": "PlayModel",
      "state": {
       "layout": "IPY_MODEL_dddaa28adc51400c986737129ef2351c",
       "max": 0,
       "style": "IPY_MODEL_bd0168926af0480097588b71a6dadd78"
      }
     },
     "8fb990ef433d413e91f656b4808b363f": {
      "model_module": "@jupyter-widgets/base",
      "model_module_version": "1.2.0",
      "model_name": "LayoutModel",
      "state": {}
     },
     "900ed7a691d14c858c8f804ca96c2ae9": {
      "model_module": "@jupyter-widgets/controls",
      "model_module_version": "1.5.0",
      "model_name": "DescriptionStyleModel",
      "state": {
       "description_width": ""
      }
     },
     "908e732c549543098db37bd9d40c9a39": {
      "model_module": "@jupyter-widgets/controls",
      "model_module_version": "1.5.0",
      "model_name": "ButtonModel",
      "state": {
       "icon": "compress",
       "layout": "IPY_MODEL_76591e65d80b4bb189db36b84bd424ca",
       "style": "IPY_MODEL_8565e1d2d22842abb55a8f65bb42198a"
      }
     },
     "90b94909b53645169b3d67ed069a9ff5": {
      "model_module": "@jupyter-widgets/controls",
      "model_module_version": "1.5.0",
      "model_name": "SliderStyleModel",
      "state": {
       "description_width": ""
      }
     },
     "90e23567e8a6409db4e4650f6846d4fe": {
      "model_module": "@jupyter-widgets/controls",
      "model_module_version": "1.5.0",
      "model_name": "CheckboxModel",
      "state": {
       "description": "Show charge",
       "disabled": false,
       "layout": "IPY_MODEL_beec2001363e4fecad40c6a1a467a87d",
       "style": "IPY_MODEL_1c655798621546b9ad0723181014f999",
       "value": false
      }
     },
     "914bbeeabf0649bbb0423bcfe6843f84": {
      "model_module": "@jupyter-widgets/controls",
      "model_module_version": "1.5.0",
      "model_name": "HBoxModel",
      "state": {
       "children": [
        "IPY_MODEL_9e27f48bf96147088c7288dc50610420",
        "IPY_MODEL_ee38aecf4b62476c8547f242ada3546b"
       ],
       "layout": "IPY_MODEL_ae147f52d314489ea02d638bcaadedb0"
      }
     },
     "91abbf159ee34bcd89d6a5f63c3349fc": {
      "model_module": "@jupyter-widgets/controls",
      "model_module_version": "1.5.0",
      "model_name": "HBoxModel",
      "state": {
       "children": [
        "IPY_MODEL_ecb53fa2fe70470097ba5e6e441f97d6",
        "IPY_MODEL_80f8fcce30ca445396a2be352f603e88"
       ],
       "layout": "IPY_MODEL_fec8b3a5eb6b493982cfc26e2b1daa47"
      }
     },
     "91b00100f41a44e1860be8d4292a099c": {
      "model_module": "@jupyter-widgets/base",
      "model_module_version": "1.2.0",
      "model_name": "LayoutModel",
      "state": {}
     },
     "923e4ea7f7e24c1b8e82b19737fb3a56": {
      "model_module": "@jupyter-widgets/base",
      "model_module_version": "1.2.0",
      "model_name": "LayoutModel",
      "state": {}
     },
     "9303b9cf218f4020b7cf90a1535916b1": {
      "model_module": "@jupyter-widgets/base",
      "model_module_version": "1.2.0",
      "model_name": "LayoutModel",
      "state": {}
     },
     "935f784336e540ca9775e1c226491a4e": {
      "model_module": "@jupyter-widgets/base",
      "model_module_version": "1.2.0",
      "model_name": "LayoutModel",
      "state": {}
     },
     "938567095e9444688c38138c471b3918": {
      "model_module": "@jupyter-widgets/controls",
      "model_module_version": "1.5.0",
      "model_name": "SliderStyleModel",
      "state": {
       "description_width": ""
      }
     },
     "9392d4c8b9954d1e921b2cfa5486c2e6": {
      "model_module": "@jupyter-widgets/base",
      "model_module_version": "1.2.0",
      "model_name": "LayoutModel",
      "state": {}
     },
     "941203e663944c378fbb2c9042fe7e6c": {
      "model_module": "@jupyter-widgets/controls",
      "model_module_version": "1.5.0",
      "model_name": "FloatSliderModel",
      "state": {
       "description": "Ball size",
       "layout": "IPY_MODEL_c1ea0b82ab9a49808a6ce51e39878752",
       "max": 1.5,
       "step": 0.01,
       "style": "IPY_MODEL_2e9deaa803284a2d86a462988a9820cb",
       "value": 0.5
      }
     },
     "953212cc6b134c8cab009981c82b8c54": {
      "model_module": "@jupyter-widgets/controls",
      "model_module_version": "1.5.0",
      "model_name": "SliderStyleModel",
      "state": {
       "description_width": ""
      }
     },
     "9558ed3cdfab405ba952b03f16d7b193": {
      "model_module": "@jupyter-widgets/controls",
      "model_module_version": "1.5.0",
      "model_name": "HBoxModel",
      "state": {
       "children": [
        "IPY_MODEL_976359c4416b4035a668cd5e18eda16b",
        "IPY_MODEL_405a3af33bb144a0ac26ad0e3b9525fb"
       ],
       "layout": "IPY_MODEL_77e9e12620414185b4f72eec29416041"
      }
     },
     "9628a33dabcb4f11a3a3ac21755de64f": {
      "model_module": "@jupyter-widgets/base",
      "model_module_version": "1.2.0",
      "model_name": "LayoutModel",
      "state": {}
     },
     "975aee97cc2c472bb8f703c74a08ad38": {
      "model_module": "@jupyter-widgets/controls",
      "model_module_version": "1.5.0",
      "model_name": "LinkModel",
      "state": {
       "source": [
        "IPY_MODEL_f337dea8926848848dc3de3fbae7bbe2",
        "value"
       ],
       "target": [
        "IPY_MODEL_830bd688a4e94180b5e7f6fe4aeac2f1",
        "value"
       ]
      }
     },
     "976359c4416b4035a668cd5e18eda16b": {
      "model_module": "@jupyter-widgets/controls",
      "model_module_version": "1.5.0",
      "model_name": "PlayModel",
      "state": {
       "layout": "IPY_MODEL_d1bcded348d54f2491da23b12d292faa",
       "max": 0,
       "style": "IPY_MODEL_5d4b23e1396c45ef801317406ef93c19"
      }
     },
     "98ae8c117a754693b48b8a7f118ad3b2": {
      "model_module": "@jupyter-widgets/controls",
      "model_module_version": "1.5.0",
      "model_name": "DescriptionStyleModel",
      "state": {
       "description_width": ""
      }
     },
     "990e591409444bc28c8913e582b18f98": {
      "model_module": "@jupyter-widgets/base",
      "model_module_version": "1.2.0",
      "model_name": "LayoutModel",
      "state": {}
     },
     "990f2104436240b1aa9f5cffb912c563": {
      "model_module": "nglview-js-widgets",
      "model_module_version": "3.0.1",
      "model_name": "NGLModel",
      "state": {
       "_camera_orientation": [
        -0.20540133655174098,
        -4.228245538174978,
        -8.171149311470385,
        0,
        8.75408871005427,
        -2.604311941313325,
        1.1275731813641774,
        0,
        -2.830489755844607,
        -7.747737094902766,
        4.080297631401618,
        0,
        0,
        0.16750001907348633,
        0.5584999918937683,
        1
       ],
       "_camera_str": "orthographic",
       "_gui_theme": null,
       "_ibtn_fullscreen": "IPY_MODEL_4ae41a126db94ae7815e93afed5056c8",
       "_igui": null,
       "_iplayer": "IPY_MODEL_ca33602d97af4d239ca7687729391341",
       "_ngl_color_dict": {},
       "_ngl_coordinate_resource": {},
       "_ngl_full_stage_parameters": {
        "ambientColor": 14540253,
        "ambientIntensity": 0.2,
        "backgroundColor": "white",
        "cameraEyeSep": 0.3,
        "cameraFov": 40,
        "cameraType": "orthographic",
        "clipDist": 0,
        "clipFar": 100,
        "clipNear": 0,
        "fogFar": 100,
        "fogNear": 50,
        "hoverTimeout": 0,
        "impostor": true,
        "lightColor": 14540253,
        "lightIntensity": 1,
        "mousePreset": "default",
        "panSpeed": 1,
        "quality": "medium",
        "rotateSpeed": 2,
        "sampleLevel": 0,
        "tooltip": true,
        "workerDefault": true,
        "zoomSpeed": 1.2
       },
       "_ngl_msg_archive": [
        {
         "args": [
          {
           "binary": false,
           "data": "MODEL     1\nATOM      1    C MOL     1       1.240  -0.766   0.226  1.00  0.00           C  \nATOM      2    C MOL     1       1.284   0.691  -0.226  1.00  0.00           C  \nATOM      3    C MOL     1      -0.043  -1.457  -0.226  1.00  0.00           C  \nATOM      4    C MOL     1       0.032   1.075  -1.010  1.00  0.00           C  \nATOM      5    C MOL     1      -1.284  -0.691   0.226  1.00  0.00           C  \nATOM      6    C MOL     1      -1.240   0.766  -0.226  1.00  0.00           C  \nATOM      7    H MOL     1       2.118  -0.987   0.844  1.00  0.00           H  \nATOM      8    H MOL     1       1.295  -1.421  -0.652  1.00  0.00           H  \nATOM      9    H MOL     1       1.377   1.342   0.652  1.00  0.00           H  \nATOM     10    H MOL     1       2.173   0.860  -0.844  1.00  0.00           H  \nATOM     11    H MOL     1      -0.046  -1.542  -1.319  1.00  0.00           H  \nATOM     12    H MOL     1      -0.074  -2.477   0.174  1.00  0.00           H  \nATOM     13    H MOL     1       0.016   0.527  -1.961  1.00  0.00           H  \nATOM     14    H MOL     1       0.064   2.142  -1.257  1.00  0.00           H  \nATOM     15    H MOL     1      -1.377  -1.342  -0.652  1.00  0.00           H  \nATOM     16    H MOL     1      -2.173  -0.860   0.844  1.00  0.00           H  \nATOM     17    H MOL     1      -2.118   0.987  -0.844  1.00  0.00           H  \nATOM     18    H MOL     1      -1.295   1.421   0.652  1.00  0.00           H  \nENDMDL\n",
           "type": "blob"
          }
         ],
         "kwargs": {
          "defaultRepresentation": false,
          "ext": "pdb"
         },
         "methodName": "loadFile",
         "reconstruc_color_scheme": false,
         "target": "Stage",
         "type": "call_method"
        },
        {
         "args": [
          "400px",
          "300px"
         ],
         "kwargs": {},
         "methodName": "setSize",
         "reconstruc_color_scheme": false,
         "target": "Widget",
         "type": "call_method"
        },
        {
         "args": [
          "unitcell"
         ],
         "component_index": 0,
         "kwargs": {
          "sele": "all"
         },
         "methodName": "addRepresentation",
         "reconstruc_color_scheme": false,
         "target": "compList",
         "type": "call_method"
        },
        {
         "args": [
          "spacefill"
         ],
         "component_index": 0,
         "kwargs": {
          "sele": "all"
         },
         "methodName": "addRepresentation",
         "reconstruc_color_scheme": false,
         "target": "compList",
         "type": "call_method"
        },
        {
         "args": [],
         "kwargs": {
          "cameraType": "orthographic"
         },
         "methodName": "setParameters",
         "reconstruc_color_scheme": false,
         "target": "Stage",
         "type": "call_method"
        },
        {
         "args": [
          {
           "clipDist": 0
          }
         ],
         "kwargs": {},
         "methodName": "setParameters",
         "reconstruc_color_scheme": false,
         "target": "Widget",
         "type": "call_method"
        },
        {
         "args": [
          "spacefill",
          0
         ],
         "kwargs": {
          "colorScale": "rainbow",
          "colorScheme": "element",
          "radiusScale": 0.5,
          "radiusType": "covalent"
         },
         "methodName": "updateRepresentationsByName",
         "reconstruc_color_scheme": false,
         "target": "Widget",
         "type": "call_method"
        },
        {
         "args": [
          "this._Q = [[1.0, 0.0, 0.0], [0.0, 1.0, 0.0], [0.0, 0.0, 1.0]]\n    var tooltip = document.createElement('div');\n    Object.assign(tooltip.style, {\n      display: 'none',\n      position: 'fixed',\n      zIndex: 10,\n      pointerEvents: 'none',\n      backgroundColor: 'rgba( 0, 0, 0, 0.6 )',\n      color: 'lightgrey',\n      padding: '8px',\n      fontFamily: 'sans-serif'\n    });\n    document.body.appendChild(tooltip);\n\n    var that = this;\n    this.stage.mouseControls.remove('hoverPick');\n    this.stage.signals.hovered.add(function (pickingProxy) {\n      if (pickingProxy && (pickingProxy.atom || pickingProxy.bond)) {\n        var atom = pickingProxy.atom || pickingProxy.closestBondAtom\n        var mp = pickingProxy.mouse.position\n        //tooltip.innerText = atom.element + ' i=' + atom.index + ' (' + atom.x.toFixed(2) +  ', ' + atom.y.toFixed(2) +  ', ' + atom.z.toFixed(2) + ')'\n        //var pos = that._atoms_pos[atom.index]\n        var Q = that._Q\n        var pos_x = Q[0][0] * atom.x + Q[0][1] * atom.y + Q[0][2] * atom.z \n        var pos_y = Q[1][0] * atom.x + Q[1][1] * atom.y + Q[1][2] * atom.z\n        var pos_z = Q[2][0] * atom.x + Q[2][1] * atom.y + Q[2][2] * atom.z\n        tooltip.innerText = 'i=' + atom.index + ' ' + atom.element + ' (' + pos_x.toFixed(2) +  ', ' + pos_y.toFixed(2) +  ', ' + pos_z.toFixed(2) + ')'\n        tooltip.style.bottom = window.innerHeight - mp.y + 3 + 'px'\n        tooltip.style.left = mp.x + 3 + 'px'\n        tooltip.style.display = 'block'\n      } else {\n        tooltip.style.display = 'none'\n      }\n    });\n    this.stage.tooltip = tooltip;\n    "
         ],
         "kwargs": {},
         "methodName": "executeCode",
         "reconstruc_color_scheme": false,
         "target": "Widget",
         "type": "call_method"
        },
        {
         "args": [
          "ball+stick"
         ],
         "component_index": 0,
         "kwargs": {
          "sele": "all"
         },
         "methodName": "addRepresentation",
         "reconstruc_color_scheme": false,
         "target": "compList",
         "type": "call_method"
        }
       ],
       "_ngl_original_stage_parameters": {
        "ambientColor": 14540253,
        "ambientIntensity": 0.2,
        "backgroundColor": "white",
        "cameraEyeSep": 0.3,
        "cameraFov": 40,
        "cameraType": "perspective",
        "clipDist": 10,
        "clipFar": 100,
        "clipNear": 0,
        "fogFar": 100,
        "fogNear": 50,
        "hoverTimeout": 0,
        "impostor": true,
        "lightColor": 14540253,
        "lightIntensity": 1,
        "mousePreset": "default",
        "panSpeed": 1,
        "quality": "medium",
        "rotateSpeed": 2,
        "sampleLevel": 0,
        "tooltip": true,
        "workerDefault": true,
        "zoomSpeed": 1.2
       },
       "_ngl_repr_dict": {
        "0": {
         "0": {
          "params": {
           "clipCenter": {
            "x": 0,
            "y": 0,
            "z": 0
           },
           "clipNear": 0,
           "clipRadius": 0,
           "colorMode": "hcl",
           "colorReverse": false,
           "colorScale": "",
           "colorScheme": "element",
           "colorValue": "orange",
           "defaultAssembly": "",
           "depthWrite": true,
           "diffuse": 16777215,
           "diffuseInterior": false,
           "disableImpostor": false,
           "disablePicking": false,
           "flatShaded": false,
           "interiorColor": 2236962,
           "interiorDarkening": 0,
           "lazy": false,
           "matrix": {
            "elements": [
             1,
             0,
             0,
             0,
             0,
             1,
             0,
             0,
             0,
             0,
             1,
             0,
             0,
             0,
             0,
             1
            ]
           },
           "metalness": 0,
           "opacity": 1,
           "quality": "medium",
           "radialSegments": 10,
           "radiusData": {},
           "radiusScale": 1,
           "radiusSize": 0.5,
           "radiusType": "vdw",
           "roughness": 0.4,
           "sele": "all",
           "side": "double",
           "sphereDetail": 1,
           "useInteriorColor": true,
           "visible": true,
           "wireframe": false
          },
          "type": "unitcell"
         },
         "1": {
          "params": {
           "assembly": "default",
           "clipCenter": {
            "x": 0,
            "y": 0,
            "z": 0
           },
           "clipNear": 0,
           "clipRadius": 0,
           "colorMode": "hcl",
           "colorReverse": false,
           "colorScale": "rainbow",
           "colorScheme": "element",
           "colorValue": 9474192,
           "defaultAssembly": "",
           "depthWrite": true,
           "diffuse": 16777215,
           "diffuseInterior": false,
           "disableImpostor": false,
           "disablePicking": false,
           "flatShaded": false,
           "interiorColor": 2236962,
           "interiorDarkening": 0,
           "lazy": false,
           "matrix": {
            "elements": [
             1,
             0,
             0,
             0,
             0,
             1,
             0,
             0,
             0,
             0,
             1,
             0,
             0,
             0,
             0,
             1
            ]
           },
           "metalness": 0,
           "opacity": 1,
           "quality": "medium",
           "radiusData": {},
           "radiusScale": 0.5,
           "radiusSize": 1,
           "radiusType": "covalent",
           "roughness": 0.4,
           "sele": "all",
           "side": "double",
           "sphereDetail": 1,
           "useInteriorColor": true,
           "visible": true,
           "wireframe": false
          },
          "type": "spacefill"
         },
         "2": {
          "params": {
           "aspectRatio": 2,
           "assembly": "default",
           "bondScale": 0.4,
           "bondSpacing": 1,
           "clipCenter": {
            "x": 0,
            "y": 0,
            "z": 0
           },
           "clipNear": 0,
           "clipRadius": 0,
           "colorMode": "hcl",
           "colorReverse": false,
           "colorScale": "",
           "colorScheme": "element",
           "colorValue": 9474192,
           "cylinderOnly": false,
           "defaultAssembly": "",
           "depthWrite": true,
           "diffuse": 16777215,
           "diffuseInterior": false,
           "disableImpostor": false,
           "disablePicking": false,
           "flatShaded": false,
           "interiorColor": 2236962,
           "interiorDarkening": 0,
           "lazy": false,
           "lineOnly": false,
           "linewidth": 2,
           "matrix": {
            "elements": [
             1,
             0,
             0,
             0,
             0,
             1,
             0,
             0,
             0,
             0,
             1,
             0,
             0,
             0,
             0,
             1
            ]
           },
           "metalness": 0,
           "multipleBond": "off",
           "opacity": 1,
           "openEnded": true,
           "quality": "medium",
           "radialSegments": 10,
           "radiusData": {},
           "radiusScale": 1,
           "radiusSize": 0.15,
           "radiusType": "size",
           "roughness": 0.4,
           "sele": "all",
           "side": "double",
           "sphereDetail": 1,
           "useInteriorColor": true,
           "visible": true,
           "wireframe": false
          },
          "type": "ball+stick"
         }
        }
       },
       "_ngl_serialize": false,
       "_ngl_version": "2.0.0-dev.36",
       "_ngl_view_id": [
        "CB4FAD66-5641-425C-9295-CFFE5F08204C"
       ],
       "_player_dict": {},
       "_scene_position": {},
       "_scene_rotation": {},
       "_synced_model_ids": [],
       "_synced_repr_model_ids": [],
       "_view_height": "",
       "_view_width": "",
       "background": "white",
       "frame": 0,
       "gui_style": null,
       "layout": "IPY_MODEL_1495e38741364f7eb728805a65562268",
       "max_frame": 0,
       "n_components": 1,
       "picked": {}
      }
     },
     "99dc3a5f38764e88ab7334a4384cf27d": {
      "model_module": "@jupyter-widgets/base",
      "model_module_version": "1.2.0",
      "model_name": "LayoutModel",
      "state": {}
     },
     "9a3d5241ed7148c08ef88ade75ed7f9e": {
      "model_module": "@jupyter-widgets/controls",
      "model_module_version": "1.5.0",
      "model_name": "ButtonStyleModel",
      "state": {}
     },
     "9aa1cce2d6fe46e1b741292515d54485": {
      "model_module": "@jupyter-widgets/controls",
      "model_module_version": "1.5.0",
      "model_name": "LinkModel",
      "state": {
       "source": [
        "IPY_MODEL_9e27f48bf96147088c7288dc50610420",
        "value"
       ],
       "target": [
        "IPY_MODEL_ee38aecf4b62476c8547f242ada3546b",
        "value"
       ]
      }
     },
     "9abf7e5e75fc4dc59e3ca1c02abc927f": {
      "model_module": "@jupyter-widgets/base",
      "model_module_version": "1.2.0",
      "model_name": "LayoutModel",
      "state": {}
     },
     "9b150a94ea424f5982977255f6728d47": {
      "model_module": "@jupyter-widgets/controls",
      "model_module_version": "1.5.0",
      "model_name": "CheckboxModel",
      "state": {
       "description": "Show charge",
       "disabled": false,
       "layout": "IPY_MODEL_7d54d50a581a4774a1a4a6f369ff7d86",
       "style": "IPY_MODEL_7cb3ec9490bd495fb3d01528b1d2c7fd",
       "value": false
      }
     },
     "9e27f48bf96147088c7288dc50610420": {
      "model_module": "@jupyter-widgets/controls",
      "model_module_version": "1.5.0",
      "model_name": "PlayModel",
      "state": {
       "layout": "IPY_MODEL_afc10ccac79247cd91c9b33142fe2f5e",
       "max": 1,
       "style": "IPY_MODEL_a2a2a07eddb3428b8a2ed772039428de"
      }
     },
     "9ea1d1ad554f40dea4dd56c813dcf52e": {
      "model_module": "@jupyter-widgets/controls",
      "model_module_version": "1.5.0",
      "model_name": "HBoxModel",
      "state": {
       "children": [
        "IPY_MODEL_737f3babf34e49ddb42b2623d208b3b2",
        "IPY_MODEL_0e56a630974244e880bfa4f27972015e"
       ],
       "layout": "IPY_MODEL_ce8de50868ee471b854f54cf20efb6c7"
      }
     },
     "9fb650132cbd45cd91e23d3986cdfe31": {
      "model_module": "@jupyter-widgets/controls",
      "model_module_version": "1.5.0",
      "model_name": "DescriptionStyleModel",
      "state": {
       "description_width": ""
      }
     },
     "a154eee6f0f644298dc2e04e2b618d8b": {
      "model_module": "@jupyter-widgets/controls",
      "model_module_version": "1.5.0",
      "model_name": "HBoxModel",
      "state": {
       "children": [
        "IPY_MODEL_1a1f38778b6b4b629b82cd868c6d2af6",
        "IPY_MODEL_4d7f1b0077c842f3b2697323d950f725"
       ],
       "layout": "IPY_MODEL_dba0cbff18624600b986bafab183bc06"
      }
     },
     "a21dc9229c4f4d54abe8e4fdded54adc": {
      "model_module": "@jupyter-widgets/controls",
      "model_module_version": "1.5.0",
      "model_name": "ButtonStyleModel",
      "state": {}
     },
     "a2a2a07eddb3428b8a2ed772039428de": {
      "model_module": "@jupyter-widgets/controls",
      "model_module_version": "1.5.0",
      "model_name": "DescriptionStyleModel",
      "state": {
       "description_width": ""
      }
     },
     "a2c6848820b04a8c812e476ede9508c9": {
      "model_module": "@jupyter-widgets/controls",
      "model_module_version": "1.5.0",
      "model_name": "DescriptionStyleModel",
      "state": {
       "description_width": ""
      }
     },
     "a317f157d37647c4b5641a7bd3d522d6": {
      "model_module": "@jupyter-widgets/controls",
      "model_module_version": "1.5.0",
      "model_name": "ImageModel",
      "state": {
       "layout": "IPY_MODEL_3c9cba8187da4adc819614ca59bb013a",
       "width": "900.0"
      }
     },
     "a37a2ec83aa94e33b116792be3a02292": {
      "model_module": "@jupyter-widgets/base",
      "model_module_version": "1.2.0",
      "model_name": "LayoutModel",
      "state": {}
     },
     "a4bbcb9de8eb45e2a267cf9cd955c59c": {
      "model_module": "@jupyter-widgets/controls",
      "model_module_version": "1.5.0",
      "model_name": "DropdownModel",
      "state": {
       "_options_labels": [
        "All",
        "C",
        "H"
       ],
       "description": "Show",
       "index": 0,
       "layout": "IPY_MODEL_cd126f9788634960934fd870303d3a44",
       "style": "IPY_MODEL_be6ac19a40b442e290566d61e1007730"
      }
     },
     "a663d292ebf747bf8f873a33aa38834b": {
      "model_module": "@jupyter-widgets/controls",
      "model_module_version": "1.5.0",
      "model_name": "FloatSliderModel",
      "state": {
       "description": "Charge scale",
       "layout": "IPY_MODEL_77ffc12406e94aaab9889b8605dffc8a",
       "step": 0.1,
       "style": "IPY_MODEL_7a6251aadd7841baac3398e0be9cfaa0",
       "value": 1
      }
     },
     "a685e526fee449de89aa1f169c1860bf": {
      "model_module": "@jupyter-widgets/controls",
      "model_module_version": "1.5.0",
      "model_name": "DescriptionStyleModel",
      "state": {
       "description_width": ""
      }
     },
     "a8588fdfed0f41afb47cfe5408b71c0c": {
      "model_module": "@jupyter-widgets/controls",
      "model_module_version": "1.5.0",
      "model_name": "ButtonStyleModel",
      "state": {}
     },
     "a86785e5867a408a99d2be95c21ca5f6": {
      "model_module": "@jupyter-widgets/base",
      "model_module_version": "1.2.0",
      "model_name": "LayoutModel",
      "state": {}
     },
     "a96f089865f94a79bf647ff146b684e5": {
      "model_module": "@jupyter-widgets/controls",
      "model_module_version": "1.5.0",
      "model_name": "DropdownModel",
      "state": {
       "_options_labels": [
        "All",
        "C",
        "H"
       ],
       "description": "Show",
       "index": 0,
       "layout": "IPY_MODEL_f08b1a89b2a84f58b10500c0a45cc734",
       "style": "IPY_MODEL_76f9d31676d041e1a1fabfea306db64e"
      }
     },
     "a97a182e827b46c8b99c498b682df68b": {
      "model_module": "@jupyter-widgets/controls",
      "model_module_version": "1.5.0",
      "model_name": "ButtonStyleModel",
      "state": {}
     },
     "a98003c0d9114e0e8d1bff98832d1949": {
      "model_module": "@jupyter-widgets/base",
      "model_module_version": "1.2.0",
      "model_name": "LayoutModel",
      "state": {}
     },
     "aa3935a32bd64acc8f9db5e8b15e92b9": {
      "model_module": "@jupyter-widgets/base",
      "model_module_version": "1.2.0",
      "model_name": "LayoutModel",
      "state": {}
     },
     "aa832da01aba499da3ed32d91ef937d4": {
      "model_module": "@jupyter-widgets/controls",
      "model_module_version": "1.5.0",
      "model_name": "FloatSliderModel",
      "state": {
       "description": "Force scale",
       "layout": "IPY_MODEL_e654c596264c478683bebdeabf4b5d44",
       "step": 0.1,
       "style": "IPY_MODEL_4c0d27bf760f426d84da3b6e3ab618df",
       "value": 0.5
      }
     },
     "ac35027c749841359ed560847265d453": {
      "model_module": "@jupyter-widgets/controls",
      "model_module_version": "1.5.0",
      "model_name": "SliderStyleModel",
      "state": {
       "description_width": ""
      }
     },
     "ac47a35741fb4bb78f8766bcf6cff416": {
      "model_module": "@jupyter-widgets/output",
      "model_module_version": "1.0.0",
      "model_name": "OutputModel",
      "state": {
       "layout": "IPY_MODEL_432fc9e264ce45c5847f721394470127"
      }
     },
     "acb34ae9e410490d88910bbeb0aa9681": {
      "model_module": "@jupyter-widgets/controls",
      "model_module_version": "1.5.0",
      "model_name": "HBoxModel",
      "state": {
       "children": [
        "IPY_MODEL_d7c47c19e64f4ac9af477f6764e31131",
        "IPY_MODEL_f14c5bc402294ede8187cd91c6a445f6"
       ],
       "layout": "IPY_MODEL_4359810746ca40ae8b8ce799278bf125"
      }
     },
     "acccc28bd77b4462a2943e10f88ed1a9": {
      "model_module": "@jupyter-widgets/controls",
      "model_module_version": "1.5.0",
      "model_name": "LinkModel",
      "state": {
       "source": [
        "IPY_MODEL_f337dea8926848848dc3de3fbae7bbe2",
        "value"
       ],
       "target": [
        "IPY_MODEL_ecb53fa2fe70470097ba5e6e441f97d6",
        "frame"
       ]
      }
     },
     "acfb210f37854f51971b42df07cd73d4": {
      "model_module": "@jupyter-widgets/controls",
      "model_module_version": "1.5.0",
      "model_name": "SliderStyleModel",
      "state": {
       "description_width": ""
      }
     },
     "ad13b379d1954836a2a881fd56a5844c": {
      "model_module": "@jupyter-widgets/base",
      "model_module_version": "1.2.0",
      "model_name": "LayoutModel",
      "state": {}
     },
     "ad34c8412bf446658a47e821d6187b9e": {
      "model_module": "@jupyter-widgets/controls",
      "model_module_version": "1.5.0",
      "model_name": "LinkModel",
      "state": {
       "source": [
        "IPY_MODEL_8fa63860c3e14eb3b358ae1334dbe52b",
        "max"
       ],
       "target": [
        "IPY_MODEL_7d32446279e0496bb343cff842f36d81",
        "max_frame"
       ]
      }
     },
     "ae147f52d314489ea02d638bcaadedb0": {
      "model_module": "@jupyter-widgets/base",
      "model_module_version": "1.2.0",
      "model_name": "LayoutModel",
      "state": {}
     },
     "ae31b931d92741f089d85a9cff306fd3": {
      "model_module": "@jupyter-widgets/controls",
      "model_module_version": "1.5.0",
      "model_name": "HBoxModel",
      "state": {
       "children": [
        "IPY_MODEL_d8e6f62c422e4189a63259d58d122208",
        "IPY_MODEL_0a092a74dc1a47a18ff43ecaf6aaf501"
       ],
       "layout": "IPY_MODEL_4d0305c22db141078c65eba33063408c"
      }
     },
     "afc10ccac79247cd91c9b33142fe2f5e": {
      "model_module": "@jupyter-widgets/base",
      "model_module_version": "1.2.0",
      "model_name": "LayoutModel",
      "state": {}
     },
     "b121915d1ae2466daa7239e36136e632": {
      "model_module": "@jupyter-widgets/controls",
      "model_module_version": "1.5.0",
      "model_name": "LinkModel",
      "state": {
       "source": [
        "IPY_MODEL_976359c4416b4035a668cd5e18eda16b",
        "value"
       ],
       "target": [
        "IPY_MODEL_d7c47c19e64f4ac9af477f6764e31131",
        "frame"
       ]
      }
     },
     "b13614d669db42f0bbcccc4f47fa3b99": {
      "model_module": "@jupyter-widgets/controls",
      "model_module_version": "1.5.0",
      "model_name": "SliderStyleModel",
      "state": {
       "description_width": ""
      }
     },
     "b293c2730a5a43ebae515459e73b238c": {
      "model_module": "@jupyter-widgets/controls",
      "model_module_version": "1.5.0",
      "model_name": "HBoxModel",
      "state": {
       "children": [
        "IPY_MODEL_49c59b8eeb1c40ddae1309456e80493e",
        "IPY_MODEL_2dac38ef336841de8d0ebf4fb7abcacc"
       ],
       "layout": "IPY_MODEL_429822ec20f548b9beaa86d05e8a6c59"
      }
     },
     "b2d6bdb8cc294f1fac443db03613ba56": {
      "model_module": "@jupyter-widgets/base",
      "model_module_version": "1.2.0",
      "model_name": "LayoutModel",
      "state": {}
     },
     "b502547fb9c8445783c34a940bc59352": {
      "model_module": "@jupyter-widgets/controls",
      "model_module_version": "1.5.0",
      "model_name": "TextModel",
      "state": {
       "description": "Filename: ",
       "layout": "IPY_MODEL_019e3c6ea9a64e35ba4ab3d9c038525e",
       "style": "IPY_MODEL_74743ab37f1b4116a4781a2ad8c7122e",
       "value": "screenshot.png"
      }
     },
     "b60df11343bf4b8095660055e6b36bcd": {
      "model_module": "@jupyter-widgets/base",
      "model_module_version": "1.2.0",
      "model_name": "LayoutModel",
      "state": {
       "border": "0px solid black"
      }
     },
     "b61d4c37fecf406dac938b9f4d85d93a": {
      "model_module": "@jupyter-widgets/controls",
      "model_module_version": "1.5.0",
      "model_name": "SliderStyleModel",
      "state": {
       "description_width": ""
      }
     },
     "b66e4c116e8b46719a9d15f75a620852": {
      "model_module": "@jupyter-widgets/controls",
      "model_module_version": "1.5.0",
      "model_name": "CheckboxModel",
      "state": {
       "description": "Show charge",
       "disabled": false,
       "layout": "IPY_MODEL_68843b7b5d054feab9556433b5d0eaba",
       "style": "IPY_MODEL_6700848ab73c4e4ab79efe01175ca66e",
       "value": false
      }
     },
     "b78225b8950d45738588b101348a0ea8": {
      "model_module": "@jupyter-widgets/controls",
      "model_module_version": "1.5.0",
      "model_name": "DescriptionStyleModel",
      "state": {
       "description_width": ""
      }
     },
     "b86d262fc83d467abcf90db8e4079548": {
      "model_module": "@jupyter-widgets/base",
      "model_module_version": "1.2.0",
      "model_name": "LayoutModel",
      "state": {
       "width": "34px"
      }
     },
     "b8bb798c7b7d4855a60541e472bdb9c1": {
      "model_module": "@jupyter-widgets/controls",
      "model_module_version": "1.5.0",
      "model_name": "ButtonModel",
      "state": {
       "description": "Download image",
       "layout": "IPY_MODEL_e98529e40f0c42d9b14cd191a9f491b8",
       "style": "IPY_MODEL_1c94c7fd96844cf680e7e29d490770ba",
       "tooltip": "Download current frame to your local PC"
      }
     },
     "b94f927563c641d2a06132088f5d297f": {
      "model_module": "@jupyter-widgets/controls",
      "model_module_version": "1.5.0",
      "model_name": "SliderStyleModel",
      "state": {
       "description_width": ""
      }
     },
     "ba07c96d83df42818936cc0d70c8f024": {
      "model_module": "@jupyter-widgets/controls",
      "model_module_version": "1.5.0",
      "model_name": "IntSliderModel",
      "state": {
       "layout": "IPY_MODEL_d50fef72208247fe91d5e0cede92f3d7",
       "max": 0,
       "style": "IPY_MODEL_b94f927563c641d2a06132088f5d297f"
      }
     },
     "bb601372ee3c4b31afe3871aa3611521": {
      "model_module": "@jupyter-widgets/controls",
      "model_module_version": "1.5.0",
      "model_name": "DropdownModel",
      "state": {
       "_options_labels": [
        " ",
        "picking",
        "random",
        "uniform",
        "atomindex",
        "residueindex",
        "chainindex",
        "modelindex",
        "sstruc",
        "element",
        "resname",
        "bfactor",
        "hydrophobicity",
        "value",
        "volume",
        "occupancy"
       ],
       "description": "Color scheme",
       "index": 9,
       "layout": "IPY_MODEL_409ed324ad9f4dc09b272874f6d23848",
       "style": "IPY_MODEL_898693e9685d45608497b4059b4d97c1"
      }
     },
     "bb891b2b057a49c8901ef87a94427c3e": {
      "model_module": "@jupyter-widgets/controls",
      "model_module_version": "1.5.0",
      "model_name": "FloatSliderModel",
      "state": {
       "description": "Force scale",
       "layout": "IPY_MODEL_ff9cad11da0143ecaadd30d956364321",
       "step": 0.1,
       "style": "IPY_MODEL_2d281742b56a47348256b370ea4211d7",
       "value": 0.5
      }
     },
     "bc6c4b7cc43d4cb0b2aa3003eecb8448": {
      "model_module": "@jupyter-widgets/controls",
      "model_module_version": "1.5.0",
      "model_name": "FloatSliderModel",
      "state": {
       "description": "Charge scale",
       "layout": "IPY_MODEL_c64b863e024c4faa8d37f272b8287682",
       "step": 0.1,
       "style": "IPY_MODEL_f68e36d7cbbb457289e885c318770663",
       "value": 1
      }
     },
     "bd0168926af0480097588b71a6dadd78": {
      "model_module": "@jupyter-widgets/controls",
      "model_module_version": "1.5.0",
      "model_name": "DescriptionStyleModel",
      "state": {
       "description_width": ""
      }
     },
     "be6ac19a40b442e290566d61e1007730": {
      "model_module": "@jupyter-widgets/controls",
      "model_module_version": "1.5.0",
      "model_name": "DescriptionStyleModel",
      "state": {
       "description_width": ""
      }
     },
     "beafe56d40d9407c88783b923ea0b89b": {
      "model_module": "@jupyter-widgets/controls",
      "model_module_version": "1.5.0",
      "model_name": "DescriptionStyleModel",
      "state": {
       "description_width": ""
      }
     },
     "beec2001363e4fecad40c6a1a467a87d": {
      "model_module": "@jupyter-widgets/base",
      "model_module_version": "1.2.0",
      "model_name": "LayoutModel",
      "state": {}
     },
     "bf6c666afb6b433abc895ce3d2c993fd": {
      "model_module": "@jupyter-widgets/base",
      "model_module_version": "1.2.0",
      "model_name": "LayoutModel",
      "state": {
       "width": "34px"
      }
     },
     "bf9933c6cf2e4fbab18c612d97ddc94a": {
      "model_module": "@jupyter-widgets/controls",
      "model_module_version": "1.5.0",
      "model_name": "CheckboxModel",
      "state": {
       "description": "Show force",
       "disabled": false,
       "layout": "IPY_MODEL_8267cf7a99ee434e9c01964e370c6050",
       "style": "IPY_MODEL_98ae8c117a754693b48b8a7f118ad3b2",
       "value": false
      }
     },
     "c06335fd15ce461981b610d440eb34cb": {
      "model_module": "@jupyter-widgets/base",
      "model_module_version": "1.2.0",
      "model_name": "LayoutModel",
      "state": {}
     },
     "c080ce1dc2ff45018a0f041cec03dbba": {
      "model_module": "@jupyter-widgets/base",
      "model_module_version": "1.2.0",
      "model_name": "LayoutModel",
      "state": {}
     },
     "c0c2ed85e4114d0c9ae802ed974d724d": {
      "model_module": "@jupyter-widgets/controls",
      "model_module_version": "1.5.0",
      "model_name": "DescriptionStyleModel",
      "state": {
       "description_width": ""
      }
     },
     "c1ea0b82ab9a49808a6ce51e39878752": {
      "model_module": "@jupyter-widgets/base",
      "model_module_version": "1.2.0",
      "model_name": "LayoutModel",
      "state": {}
     },
     "c2bfa791678240e0a9c6b11ebb932cb2": {
      "model_module": "@jupyter-widgets/controls",
      "model_module_version": "1.5.0",
      "model_name": "VBoxModel",
      "state": {
       "children": [
        "IPY_MODEL_a4bbcb9de8eb45e2a267cf9cd955c59c",
        "IPY_MODEL_bb601372ee3c4b31afe3871aa3611521",
        "IPY_MODEL_159103a800354a419b58b21febfc784e",
        "IPY_MODEL_209338e2bb094cf684ca54cad86a869a",
        "IPY_MODEL_81eb152824f544cca16341256df7b97b",
        "IPY_MODEL_11c5ae5f8b6640e1815f2010d1501707",
        "IPY_MODEL_3c62b359ecc64a9c932d6d05c56a1388",
        "IPY_MODEL_9b150a94ea424f5982977255f6728d47",
        "IPY_MODEL_3628caec6f3c49c0aeddd31d672c2e4c",
        "IPY_MODEL_3a78cf455ab24c03b02ceb4f6bc37eb5"
       ],
       "layout": "IPY_MODEL_384763e98f9e42eb93095b37ec4d6409"
      }
     },
     "c3c6bddae3a746dcab53836fc5a23a46": {
      "model_module": "@jupyter-widgets/base",
      "model_module_version": "1.2.0",
      "model_name": "LayoutModel",
      "state": {}
     },
     "c41fe384ef904b608d6c29fec019e6b4": {
      "model_module": "@jupyter-widgets/controls",
      "model_module_version": "1.5.0",
      "model_name": "LinkModel",
      "state": {
       "source": [
        "IPY_MODEL_976359c4416b4035a668cd5e18eda16b",
        "max"
       ],
       "target": [
        "IPY_MODEL_d7c47c19e64f4ac9af477f6764e31131",
        "max_frame"
       ]
      }
     },
     "c4ae1712a62444ce9f78104dc315bcd6": {
      "model_module": "@jupyter-widgets/controls",
      "model_module_version": "1.5.0",
      "model_name": "ButtonStyleModel",
      "state": {}
     },
     "c55dfd525c8941468217baeee63ba611": {
      "model_module": "@jupyter-widgets/controls",
      "model_module_version": "1.5.0",
      "model_name": "FloatSliderModel",
      "state": {
       "description": "Ball size",
       "layout": "IPY_MODEL_037ec0993f9f4bc99c58be8d7e49939a",
       "max": 1.5,
       "step": 0.01,
       "style": "IPY_MODEL_5069fc27d1e34598a4ae1ffd57ca4e9c",
       "value": 0.5
      }
     },
     "c5635b22b4bc4e7fa518a4e43efa5fb8": {
      "model_module": "@jupyter-widgets/controls",
      "model_module_version": "1.5.0",
      "model_name": "ButtonModel",
      "state": {
       "description": "Download image",
       "layout": "IPY_MODEL_e97d6a721c4b453784e6a8407b7a47ee",
       "style": "IPY_MODEL_a97a182e827b46c8b99c498b682df68b",
       "tooltip": "Download current frame to your local PC"
      }
     },
     "c64b863e024c4faa8d37f272b8287682": {
      "model_module": "@jupyter-widgets/base",
      "model_module_version": "1.2.0",
      "model_name": "LayoutModel",
      "state": {}
     },
     "c6b0e8ff05eb49da92946f368eb37343": {
      "model_module": "@jupyter-widgets/base",
      "model_module_version": "1.2.0",
      "model_name": "LayoutModel",
      "state": {}
     },
     "c728a3133f7d4629b2f149405b1c1459": {
      "model_module": "@jupyter-widgets/controls",
      "model_module_version": "1.5.0",
      "model_name": "DescriptionStyleModel",
      "state": {
       "description_width": ""
      }
     },
     "c88349b0a6a14e269aedc011ccf36490": {
      "model_module": "@jupyter-widgets/controls",
      "model_module_version": "1.5.0",
      "model_name": "DescriptionStyleModel",
      "state": {
       "description_width": ""
      }
     },
     "c8a26ec66d504255b4d41ef3f6ea0bc0": {
      "model_module": "@jupyter-widgets/base",
      "model_module_version": "1.2.0",
      "model_name": "LayoutModel",
      "state": {}
     },
     "c8e4e3d7d9bf403fb7b80b2c81771b93": {
      "model_module": "@jupyter-widgets/base",
      "model_module_version": "1.2.0",
      "model_name": "LayoutModel",
      "state": {}
     },
     "c9f670aaa12a436f98b7a1b2476b1a89": {
      "model_module": "@jupyter-widgets/base",
      "model_module_version": "1.2.0",
      "model_name": "LayoutModel",
      "state": {}
     },
     "ca321f9ad8d343429146c8931fd0035c": {
      "model_module": "@jupyter-widgets/base",
      "model_module_version": "1.2.0",
      "model_name": "LayoutModel",
      "state": {}
     },
     "ca33602d97af4d239ca7687729391341": {
      "model_module": "@jupyter-widgets/controls",
      "model_module_version": "1.5.0",
      "model_name": "HBoxModel",
      "state": {
       "children": [
        "IPY_MODEL_80a0de54e457401595aaf7a3ba41ac69",
        "IPY_MODEL_edc975fbc48b44499d02cd6c309956ea"
       ],
       "layout": "IPY_MODEL_4bbac13804c544c591d9f4ace6e6f173"
      }
     },
     "cd126f9788634960934fd870303d3a44": {
      "model_module": "@jupyter-widgets/base",
      "model_module_version": "1.2.0",
      "model_name": "LayoutModel",
      "state": {}
     },
     "cd71d6338a7446a4a2f229e734058fa9": {
      "model_module": "@jupyter-widgets/base",
      "model_module_version": "1.2.0",
      "model_name": "LayoutModel",
      "state": {
       "width": "34px"
      }
     },
     "cdffd5554e734bd9985884b5d26f70b9": {
      "model_module": "@jupyter-widgets/controls",
      "model_module_version": "1.5.0",
      "model_name": "IntSliderModel",
      "state": {
       "layout": "IPY_MODEL_1f00a220e0724448bb4f2043d2b2779f",
       "max": 0,
       "style": "IPY_MODEL_b13614d669db42f0bbcccc4f47fa3b99"
      }
     },
     "ce521b657fe041f1b7f5c19d5cb20f5a": {
      "model_module": "@jupyter-widgets/controls",
      "model_module_version": "1.5.0",
      "model_name": "LinkModel",
      "state": {
       "source": [
        "IPY_MODEL_d8e6f62c422e4189a63259d58d122208",
        "value"
       ],
       "target": [
        "IPY_MODEL_e97d718fa7be4dc29921a84b41f7047c",
        "frame"
       ]
      }
     },
     "ce52d04767ef4501b573274359a14b99": {
      "model_module": "@jupyter-widgets/controls",
      "model_module_version": "1.5.0",
      "model_name": "ImageModel",
      "state": {
       "layout": "IPY_MODEL_aa3935a32bd64acc8f9db5e8b15e92b9",
       "width": "900.0"
      }
     },
     "ce8de50868ee471b854f54cf20efb6c7": {
      "model_module": "@jupyter-widgets/base",
      "model_module_version": "1.2.0",
      "model_name": "LayoutModel",
      "state": {}
     },
     "ce9c89887a4345449670543deec62c80": {
      "model_module": "@jupyter-widgets/controls",
      "model_module_version": "1.5.0",
      "model_name": "HBoxModel",
      "state": {
       "children": [
        "IPY_MODEL_990f2104436240b1aa9f5cffb912c563",
        "IPY_MODEL_c2bfa791678240e0a9c6b11ebb932cb2"
       ],
       "layout": "IPY_MODEL_119b25dffe144cb183dbbaea9ebb5c27"
      }
     },
     "d0c8f383d4ba4fa7a0de687dba9c23f4": {
      "model_module": "@jupyter-widgets/controls",
      "model_module_version": "1.5.0",
      "model_name": "ButtonStyleModel",
      "state": {}
     },
     "d18bb3ae72c1480e8adc687d258e076d": {
      "model_module": "@jupyter-widgets/controls",
      "model_module_version": "1.5.0",
      "model_name": "TextModel",
      "state": {
       "description": "Filename: ",
       "layout": "IPY_MODEL_5d812b4d9442454f9be59a00530341d8",
       "style": "IPY_MODEL_4127d38390d045eb9d5b427fb35ad776",
       "value": "screenshot.png"
      }
     },
     "d1bcded348d54f2491da23b12d292faa": {
      "model_module": "@jupyter-widgets/base",
      "model_module_version": "1.2.0",
      "model_name": "LayoutModel",
      "state": {}
     },
     "d24c5ca33cc14b558478ad9a0eb21422": {
      "model_module": "@jupyter-widgets/base",
      "model_module_version": "1.2.0",
      "model_name": "LayoutModel",
      "state": {
       "width": "34px"
      }
     },
     "d28a32c1e57042bf93c81348de3ee52a": {
      "model_module": "@jupyter-widgets/base",
      "model_module_version": "1.2.0",
      "model_name": "LayoutModel",
      "state": {}
     },
     "d36a901cc3264876a0b5908ead8317dc": {
      "model_module": "@jupyter-widgets/base",
      "model_module_version": "1.2.0",
      "model_name": "LayoutModel",
      "state": {}
     },
     "d390434bd3234f3cab630febda996c5b": {
      "model_module": "@jupyter-widgets/controls",
      "model_module_version": "1.5.0",
      "model_name": "LinkModel",
      "state": {
       "source": [
        "IPY_MODEL_f337dea8926848848dc3de3fbae7bbe2",
        "max"
       ],
       "target": [
        "IPY_MODEL_ecb53fa2fe70470097ba5e6e441f97d6",
        "max_frame"
       ]
      }
     },
     "d3d56aaf22424c6180a24c7db7276a81": {
      "model_module": "nglview-js-widgets",
      "model_module_version": "3.0.1",
      "model_name": "NGLModel",
      "state": {
       "_camera_orientation": [
        9.61841372131228,
        0,
        0,
        0,
        0,
        9.61841372131228,
        0,
        0,
        0,
        0,
        9.61841372131228,
        0,
        0,
        0,
        0,
        1
       ],
       "_camera_str": "orthographic",
       "_gui_theme": null,
       "_ibtn_fullscreen": "IPY_MODEL_e891e1ecd7194d42b0a682e4e65b351f",
       "_igui": null,
       "_iplayer": "IPY_MODEL_b293c2730a5a43ebae515459e73b238c",
       "_ngl_color_dict": {},
       "_ngl_coordinate_resource": {},
       "_ngl_full_stage_parameters": {
        "ambientColor": 14540253,
        "ambientIntensity": 0.2,
        "backgroundColor": "white",
        "cameraEyeSep": 0.3,
        "cameraFov": 40,
        "cameraType": "orthographic",
        "clipDist": 0,
        "clipFar": 100,
        "clipNear": 0,
        "fogFar": 100,
        "fogNear": 50,
        "hoverTimeout": 0,
        "impostor": true,
        "lightColor": 14540253,
        "lightIntensity": 1,
        "mousePreset": "default",
        "panSpeed": 1,
        "quality": "medium",
        "rotateSpeed": 2,
        "sampleLevel": 0,
        "tooltip": true,
        "workerDefault": true,
        "zoomSpeed": 1.2
       },
       "_ngl_msg_archive": [
        {
         "args": [
          {
           "binary": false,
           "data": "MODEL     1\nATOM      1    C MOL     1      -1.284  -0.691   0.226  1.00  0.00           C  \nATOM      2    C MOL     1      -1.240   0.766  -0.226  1.00  0.00           C  \nATOM      3    C MOL     1      -0.043  -1.457  -0.226  1.00  0.00           C  \nATOM      4    C MOL     1       0.043   1.457   0.226  1.00  0.00           C  \nATOM      5    C MOL     1       1.240  -0.766   0.226  1.00  0.00           C  \nATOM      6    C MOL     1       1.284   0.691  -0.226  1.00  0.00           C  \nATOM      7    H MOL     1      -2.182  -1.175  -0.174  1.00  0.00           H  \nATOM      8    H MOL     1      -1.359  -0.731   1.319  1.00  0.00           H  \nATOM      9    H MOL     1      -1.313   0.811  -1.319  1.00  0.00           H  \nATOM     10    H MOL     1      -2.108   1.302   0.174  1.00  0.00           H  \nATOM     11    H MOL     1      -0.046  -1.542  -1.319  1.00  0.00           H  \nATOM     12    H MOL     1      -0.074  -2.477   0.174  1.00  0.00           H  \nATOM     13    H MOL     1       0.046   1.542   1.319  1.00  0.00           H  \nATOM     14    H MOL     1       0.074   2.477  -0.174  1.00  0.00           H  \nATOM     15    H MOL     1       1.313  -0.811   1.319  1.00  0.00           H  \nATOM     16    H MOL     1       2.108  -1.303  -0.174  1.00  0.00           H  \nATOM     17    H MOL     1       2.182   1.175   0.174  1.00  0.00           H  \nATOM     18    H MOL     1       1.359   0.732  -1.319  1.00  0.00           H  \nENDMDL\n",
           "type": "blob"
          }
         ],
         "kwargs": {
          "defaultRepresentation": false,
          "ext": "pdb"
         },
         "methodName": "loadFile",
         "reconstruc_color_scheme": false,
         "target": "Stage",
         "type": "call_method"
        },
        {
         "args": [
          "400px",
          "300px"
         ],
         "kwargs": {},
         "methodName": "setSize",
         "reconstruc_color_scheme": false,
         "target": "Widget",
         "type": "call_method"
        },
        {
         "args": [
          "unitcell"
         ],
         "component_index": 0,
         "kwargs": {
          "sele": "all"
         },
         "methodName": "addRepresentation",
         "reconstruc_color_scheme": false,
         "target": "compList",
         "type": "call_method"
        },
        {
         "args": [
          "spacefill"
         ],
         "component_index": 0,
         "kwargs": {
          "sele": "all"
         },
         "methodName": "addRepresentation",
         "reconstruc_color_scheme": false,
         "target": "compList",
         "type": "call_method"
        },
        {
         "args": [],
         "kwargs": {
          "cameraType": "orthographic"
         },
         "methodName": "setParameters",
         "reconstruc_color_scheme": false,
         "target": "Stage",
         "type": "call_method"
        },
        {
         "args": [
          {
           "clipDist": 0
          }
         ],
         "kwargs": {},
         "methodName": "setParameters",
         "reconstruc_color_scheme": false,
         "target": "Widget",
         "type": "call_method"
        },
        {
         "args": [
          "spacefill",
          0
         ],
         "kwargs": {
          "colorScale": "rainbow",
          "colorScheme": "element",
          "radiusScale": 0.5,
          "radiusType": "covalent"
         },
         "methodName": "updateRepresentationsByName",
         "reconstruc_color_scheme": false,
         "target": "Widget",
         "type": "call_method"
        },
        {
         "args": [
          "this._Q = [[1.0, 0.0, 0.0], [0.0, 1.0, 0.0], [0.0, 0.0, 1.0]]\n    var tooltip = document.createElement('div');\n    Object.assign(tooltip.style, {\n      display: 'none',\n      position: 'fixed',\n      zIndex: 10,\n      pointerEvents: 'none',\n      backgroundColor: 'rgba( 0, 0, 0, 0.6 )',\n      color: 'lightgrey',\n      padding: '8px',\n      fontFamily: 'sans-serif'\n    });\n    document.body.appendChild(tooltip);\n\n    var that = this;\n    this.stage.mouseControls.remove('hoverPick');\n    this.stage.signals.hovered.add(function (pickingProxy) {\n      if (pickingProxy && (pickingProxy.atom || pickingProxy.bond)) {\n        var atom = pickingProxy.atom || pickingProxy.closestBondAtom\n        var mp = pickingProxy.mouse.position\n        //tooltip.innerText = atom.element + ' i=' + atom.index + ' (' + atom.x.toFixed(2) +  ', ' + atom.y.toFixed(2) +  ', ' + atom.z.toFixed(2) + ')'\n        //var pos = that._atoms_pos[atom.index]\n        var Q = that._Q\n        var pos_x = Q[0][0] * atom.x + Q[0][1] * atom.y + Q[0][2] * atom.z \n        var pos_y = Q[1][0] * atom.x + Q[1][1] * atom.y + Q[1][2] * atom.z\n        var pos_z = Q[2][0] * atom.x + Q[2][1] * atom.y + Q[2][2] * atom.z\n        tooltip.innerText = 'i=' + atom.index + ' ' + atom.element + ' (' + pos_x.toFixed(2) +  ', ' + pos_y.toFixed(2) +  ', ' + pos_z.toFixed(2) + ')'\n        tooltip.style.bottom = window.innerHeight - mp.y + 3 + 'px'\n        tooltip.style.left = mp.x + 3 + 'px'\n        tooltip.style.display = 'block'\n      } else {\n        tooltip.style.display = 'none'\n      }\n    });\n    this.stage.tooltip = tooltip;\n    "
         ],
         "kwargs": {},
         "methodName": "executeCode",
         "reconstruc_color_scheme": false,
         "target": "Widget",
         "type": "call_method"
        },
        {
         "args": [
          "ball+stick"
         ],
         "component_index": 0,
         "kwargs": {
          "sele": "all"
         },
         "methodName": "addRepresentation",
         "reconstruc_color_scheme": false,
         "target": "compList",
         "type": "call_method"
        }
       ],
       "_ngl_original_stage_parameters": {
        "ambientColor": 14540253,
        "ambientIntensity": 0.2,
        "backgroundColor": "white",
        "cameraEyeSep": 0.3,
        "cameraFov": 40,
        "cameraType": "perspective",
        "clipDist": 10,
        "clipFar": 100,
        "clipNear": 0,
        "fogFar": 100,
        "fogNear": 50,
        "hoverTimeout": 0,
        "impostor": true,
        "lightColor": 14540253,
        "lightIntensity": 1,
        "mousePreset": "default",
        "panSpeed": 1,
        "quality": "medium",
        "rotateSpeed": 2,
        "sampleLevel": 0,
        "tooltip": true,
        "workerDefault": true,
        "zoomSpeed": 1.2
       },
       "_ngl_repr_dict": {
        "0": {
         "0": {
          "params": {
           "clipCenter": {
            "x": 0,
            "y": 0,
            "z": 0
           },
           "clipNear": 0,
           "clipRadius": 0,
           "colorMode": "hcl",
           "colorReverse": false,
           "colorScale": "",
           "colorScheme": "element",
           "colorValue": "orange",
           "defaultAssembly": "",
           "depthWrite": true,
           "diffuse": 16777215,
           "diffuseInterior": false,
           "disableImpostor": false,
           "disablePicking": false,
           "flatShaded": false,
           "interiorColor": 2236962,
           "interiorDarkening": 0,
           "lazy": false,
           "matrix": {
            "elements": [
             1,
             0,
             0,
             0,
             0,
             1,
             0,
             0,
             0,
             0,
             1,
             0,
             0,
             0,
             0,
             1
            ]
           },
           "metalness": 0,
           "opacity": 1,
           "quality": "medium",
           "radialSegments": 10,
           "radiusData": {},
           "radiusScale": 1,
           "radiusSize": 0.5,
           "radiusType": "vdw",
           "roughness": 0.4,
           "sele": "all",
           "side": "double",
           "sphereDetail": 1,
           "useInteriorColor": true,
           "visible": true,
           "wireframe": false
          },
          "type": "unitcell"
         },
         "1": {
          "params": {
           "assembly": "default",
           "clipCenter": {
            "x": 0,
            "y": 0,
            "z": 0
           },
           "clipNear": 0,
           "clipRadius": 0,
           "colorMode": "hcl",
           "colorReverse": false,
           "colorScale": "rainbow",
           "colorScheme": "element",
           "colorValue": 9474192,
           "defaultAssembly": "",
           "depthWrite": true,
           "diffuse": 16777215,
           "diffuseInterior": false,
           "disableImpostor": false,
           "disablePicking": false,
           "flatShaded": false,
           "interiorColor": 2236962,
           "interiorDarkening": 0,
           "lazy": false,
           "matrix": {
            "elements": [
             1,
             0,
             0,
             0,
             0,
             1,
             0,
             0,
             0,
             0,
             1,
             0,
             0,
             0,
             0,
             1
            ]
           },
           "metalness": 0,
           "opacity": 1,
           "quality": "medium",
           "radiusData": {},
           "radiusScale": 0.5,
           "radiusSize": 1,
           "radiusType": "covalent",
           "roughness": 0.4,
           "sele": "all",
           "side": "double",
           "sphereDetail": 1,
           "useInteriorColor": true,
           "visible": true,
           "wireframe": false
          },
          "type": "spacefill"
         },
         "2": {
          "params": {
           "aspectRatio": 2,
           "assembly": "default",
           "bondScale": 0.4,
           "bondSpacing": 1,
           "clipCenter": {
            "x": 0,
            "y": 0,
            "z": 0
           },
           "clipNear": 0,
           "clipRadius": 0,
           "colorMode": "hcl",
           "colorReverse": false,
           "colorScale": "",
           "colorScheme": "element",
           "colorValue": 9474192,
           "cylinderOnly": false,
           "defaultAssembly": "",
           "depthWrite": true,
           "diffuse": 16777215,
           "diffuseInterior": false,
           "disableImpostor": false,
           "disablePicking": false,
           "flatShaded": false,
           "interiorColor": 2236962,
           "interiorDarkening": 0,
           "lazy": false,
           "lineOnly": false,
           "linewidth": 2,
           "matrix": {
            "elements": [
             1,
             0,
             0,
             0,
             0,
             1,
             0,
             0,
             0,
             0,
             1,
             0,
             0,
             0,
             0,
             1
            ]
           },
           "metalness": 0,
           "multipleBond": "off",
           "opacity": 1,
           "openEnded": true,
           "quality": "medium",
           "radialSegments": 10,
           "radiusData": {},
           "radiusScale": 1,
           "radiusSize": 0.15,
           "radiusType": "size",
           "roughness": 0.4,
           "sele": "all",
           "side": "double",
           "sphereDetail": 1,
           "useInteriorColor": true,
           "visible": true,
           "wireframe": false
          },
          "type": "ball+stick"
         }
        }
       },
       "_ngl_serialize": false,
       "_ngl_version": "2.0.0-dev.36",
       "_ngl_view_id": [
        "8C0634A0-BB92-424C-A87E-CBCF34D0B901"
       ],
       "_player_dict": {},
       "_scene_position": {},
       "_scene_rotation": {},
       "_synced_model_ids": [],
       "_synced_repr_model_ids": [],
       "_view_height": "",
       "_view_width": "",
       "background": "white",
       "frame": 0,
       "gui_style": null,
       "layout": "IPY_MODEL_180619660d3b4e60ab1342c4553fa0d0",
       "max_frame": 0,
       "n_components": 1,
       "picked": {}
      }
     },
     "d50fef72208247fe91d5e0cede92f3d7": {
      "model_module": "@jupyter-widgets/base",
      "model_module_version": "1.2.0",
      "model_name": "LayoutModel",
      "state": {}
     },
     "d58e70c63f8d419b81e6fe10be2ff78d": {
      "model_module": "@jupyter-widgets/controls",
      "model_module_version": "1.5.0",
      "model_name": "DropdownModel",
      "state": {
       "_options_labels": [
        "All",
        "C",
        "H"
       ],
       "description": "Show",
       "index": 0,
       "layout": "IPY_MODEL_182b9efd5d0840dd8f3b28a22d85eae0",
       "style": "IPY_MODEL_a685e526fee449de89aa1f169c1860bf"
      }
     },
     "d58ffc7948524ab9b81fdae2affcb766": {
      "model_module": "@jupyter-widgets/controls",
      "model_module_version": "1.5.0",
      "model_name": "ButtonModel",
      "state": {
       "icon": "compress",
       "layout": "IPY_MODEL_cd71d6338a7446a4a2f229e734058fa9",
       "style": "IPY_MODEL_f4d93c8edfd1427883afd8b5d6346ce7"
      }
     },
     "d5bb927480554d5da0aa300364ca7ac1": {
      "model_module": "@jupyter-widgets/controls",
      "model_module_version": "1.5.0",
      "model_name": "ButtonModel",
      "state": {
       "icon": "compress",
       "layout": "IPY_MODEL_d9491744ac26485b9246977f03704eb7",
       "style": "IPY_MODEL_9a3d5241ed7148c08ef88ade75ed7f9e"
      }
     },
     "d668c8e8b03746ed84f1db829cca3817": {
      "model_module": "@jupyter-widgets/controls",
      "model_module_version": "1.5.0",
      "model_name": "HBoxModel",
      "state": {
       "children": [
        "IPY_MODEL_d3d56aaf22424c6180a24c7db7276a81",
        "IPY_MODEL_e2e036b596914d87a0b160ee101788e6"
       ],
       "layout": "IPY_MODEL_35883c1797d2475a9c07d7f5b696dd9c"
      }
     },
     "d686a4bb6e1d4b4399655eaef5d8839b": {
      "model_module": "@jupyter-widgets/controls",
      "model_module_version": "1.5.0",
      "model_name": "ImageModel",
      "state": {
       "layout": "IPY_MODEL_38d018b1087e4b6b96ca529f36d2821e",
       "width": "900.0"
      }
     },
     "d73085b8e1e94ac19e47b20fd0ea1f66": {
      "model_module": "@jupyter-widgets/base",
      "model_module_version": "1.2.0",
      "model_name": "LayoutModel",
      "state": {}
     },
     "d7c47c19e64f4ac9af477f6764e31131": {
      "model_module": "nglview-js-widgets",
      "model_module_version": "3.0.1",
      "model_name": "NGLModel",
      "state": {
       "_camera_orientation": [
        9.948768903123433,
        0.20252009911247296,
        0.014140261531648417,
        0,
        0.05974047144128662,
        -2.2580969589637316,
        -9.691060118753152,
        0,
        -0.19402426037143453,
        9.689127966884898,
        -2.2588428128165696,
        0,
        -1.38100004196167,
        -1.8270000219345093,
        -2.4024999141693115,
        1
       ],
       "_camera_str": "orthographic",
       "_gui_theme": null,
       "_ibtn_fullscreen": "IPY_MODEL_1fe2667f90e0470d81576146097cd69f",
       "_igui": null,
       "_iplayer": "IPY_MODEL_9558ed3cdfab405ba952b03f16d7b193",
       "_ngl_color_dict": {},
       "_ngl_coordinate_resource": {},
       "_ngl_full_stage_parameters": {
        "ambientColor": 14540253,
        "ambientIntensity": 0.2,
        "backgroundColor": "white",
        "cameraEyeSep": 0.3,
        "cameraFov": 40,
        "cameraType": "orthographic",
        "clipDist": 0,
        "clipFar": 100,
        "clipNear": 0,
        "fogFar": 100,
        "fogNear": 50,
        "hoverTimeout": 0,
        "impostor": true,
        "lightColor": 14540253,
        "lightIntensity": 1,
        "mousePreset": "default",
        "panSpeed": 1,
        "quality": "medium",
        "rotateSpeed": 2,
        "sampleLevel": 0,
        "tooltip": true,
        "workerDefault": true,
        "zoomSpeed": 1.2
       },
       "_ngl_msg_archive": [
        {
         "args": [
          {
           "binary": false,
           "data": "CRYST1    5.028    5.028    5.519  90.00  90.00 120.00 P 1\nMODEL     1\nATOM      1   Si MOL     1       1.314   2.276   0.000  1.00  0.00          SI  \nATOM      2   Si MOL     1       2.400   0.000   3.679  1.00  0.00          SI  \nATOM      3   Si MOL     1       3.828   2.078   1.840  1.00  0.00          SI  \nATOM      4    O MOL     1       0.831   3.654   4.805  1.00  0.00           O  \nATOM      5    O MOL     1      -1.066   3.247   2.966  1.00  0.00           O  \nATOM      6    O MOL     1       0.235   1.807   1.126  1.00  0.00           O  \nATOM      7    O MOL     1       2.749   2.547   0.714  1.00  0.00           O  \nATOM      8    O MOL     1       3.345   0.700   2.553  1.00  0.00           O  \nATOM      9    O MOL     1       1.447   1.107   4.393  1.00  0.00           O  \nENDMDL\n",
           "type": "blob"
          }
         ],
         "kwargs": {
          "defaultRepresentation": false,
          "ext": "pdb"
         },
         "methodName": "loadFile",
         "reconstruc_color_scheme": false,
         "target": "Stage",
         "type": "call_method"
        },
        {
         "args": [
          "500px",
          "500px"
         ],
         "kwargs": {},
         "methodName": "setSize",
         "reconstruc_color_scheme": false,
         "target": "Widget",
         "type": "call_method"
        },
        {
         "args": [
          "unitcell"
         ],
         "component_index": 0,
         "kwargs": {
          "sele": "all"
         },
         "methodName": "addRepresentation",
         "reconstruc_color_scheme": false,
         "target": "compList",
         "type": "call_method"
        },
        {
         "args": [
          "spacefill"
         ],
         "component_index": 0,
         "kwargs": {
          "sele": "all"
         },
         "methodName": "addRepresentation",
         "reconstruc_color_scheme": false,
         "target": "compList",
         "type": "call_method"
        },
        {
         "args": [],
         "kwargs": {
          "cameraType": "orthographic"
         },
         "methodName": "setParameters",
         "reconstruc_color_scheme": false,
         "target": "Stage",
         "type": "call_method"
        },
        {
         "args": [
          {
           "clipDist": 0
          }
         ],
         "kwargs": {},
         "methodName": "setParameters",
         "reconstruc_color_scheme": false,
         "target": "Widget",
         "type": "call_method"
        },
        {
         "args": [
          "spacefill",
          0
         ],
         "kwargs": {
          "colorScale": "rainbow",
          "colorScheme": "element",
          "radiusScale": 0.5,
          "radiusType": "covalent"
         },
         "methodName": "updateRepresentationsByName",
         "reconstruc_color_scheme": false,
         "target": "Widget",
         "type": "call_method"
        },
        {
         "args": [
          "this._Q = [[1.0, 0.0, 0.0], [0.0, 1.0, 0.0], [0.0, 0.0, 1.0]]\n    var tooltip = document.createElement('div');\n    Object.assign(tooltip.style, {\n      display: 'none',\n      position: 'fixed',\n      zIndex: 10,\n      pointerEvents: 'none',\n      backgroundColor: 'rgba( 0, 0, 0, 0.6 )',\n      color: 'lightgrey',\n      padding: '8px',\n      fontFamily: 'sans-serif'\n    });\n    document.body.appendChild(tooltip);\n\n    var that = this;\n    this.stage.mouseControls.remove('hoverPick');\n    this.stage.signals.hovered.add(function (pickingProxy) {\n      if (pickingProxy && (pickingProxy.atom || pickingProxy.bond)) {\n        var atom = pickingProxy.atom || pickingProxy.closestBondAtom\n        var mp = pickingProxy.mouse.position\n        //tooltip.innerText = atom.element + ' i=' + atom.index + ' (' + atom.x.toFixed(2) +  ', ' + atom.y.toFixed(2) +  ', ' + atom.z.toFixed(2) + ')'\n        //var pos = that._atoms_pos[atom.index]\n        var Q = that._Q\n        var pos_x = Q[0][0] * atom.x + Q[0][1] * atom.y + Q[0][2] * atom.z \n        var pos_y = Q[1][0] * atom.x + Q[1][1] * atom.y + Q[1][2] * atom.z\n        var pos_z = Q[2][0] * atom.x + Q[2][1] * atom.y + Q[2][2] * atom.z\n        tooltip.innerText = 'i=' + atom.index + ' ' + atom.element + ' (' + pos_x.toFixed(2) +  ', ' + pos_y.toFixed(2) +  ', ' + pos_z.toFixed(2) + ')'\n        tooltip.style.bottom = window.innerHeight - mp.y + 3 + 'px'\n        tooltip.style.left = mp.x + 3 + 'px'\n        tooltip.style.display = 'block'\n      } else {\n        tooltip.style.display = 'none'\n      }\n    });\n    this.stage.tooltip = tooltip;\n    "
         ],
         "kwargs": {},
         "methodName": "executeCode",
         "reconstruc_color_scheme": false,
         "target": "Widget",
         "type": "call_method"
        },
        {
         "args": [
          "ball+stick"
         ],
         "component_index": 0,
         "kwargs": {
          "sele": "all"
         },
         "methodName": "addRepresentation",
         "reconstruc_color_scheme": false,
         "target": "compList",
         "type": "call_method"
        }
       ],
       "_ngl_original_stage_parameters": {
        "ambientColor": 14540253,
        "ambientIntensity": 0.2,
        "backgroundColor": "white",
        "cameraEyeSep": 0.3,
        "cameraFov": 40,
        "cameraType": "perspective",
        "clipDist": 10,
        "clipFar": 100,
        "clipNear": 0,
        "fogFar": 100,
        "fogNear": 50,
        "hoverTimeout": 0,
        "impostor": true,
        "lightColor": 14540253,
        "lightIntensity": 1,
        "mousePreset": "default",
        "panSpeed": 1,
        "quality": "medium",
        "rotateSpeed": 2,
        "sampleLevel": 0,
        "tooltip": true,
        "workerDefault": true,
        "zoomSpeed": 1.2
       },
       "_ngl_repr_dict": {
        "0": {
         "0": {
          "params": {
           "clipCenter": {
            "x": 0,
            "y": 0,
            "z": 0
           },
           "clipNear": 0,
           "clipRadius": 0,
           "colorMode": "hcl",
           "colorReverse": false,
           "colorScale": "",
           "colorScheme": "element",
           "colorValue": "orange",
           "defaultAssembly": "",
           "depthWrite": true,
           "diffuse": 16777215,
           "diffuseInterior": false,
           "disableImpostor": false,
           "disablePicking": false,
           "flatShaded": false,
           "interiorColor": 2236962,
           "interiorDarkening": 0,
           "lazy": false,
           "matrix": {
            "elements": [
             1,
             0,
             0,
             0,
             0,
             1,
             0,
             0,
             0,
             0,
             1,
             0,
             0,
             0,
             0,
             1
            ]
           },
           "metalness": 0,
           "opacity": 1,
           "quality": "medium",
           "radialSegments": 10,
           "radiusData": {},
           "radiusScale": 1,
           "radiusSize": 0.0247208561684643,
           "radiusType": "vdw",
           "roughness": 0.4,
           "sele": "all",
           "side": "double",
           "sphereDetail": 1,
           "useInteriorColor": true,
           "visible": true,
           "wireframe": false
          },
          "type": "unitcell"
         },
         "1": {
          "params": {
           "assembly": "default",
           "clipCenter": {
            "x": 0,
            "y": 0,
            "z": 0
           },
           "clipNear": 0,
           "clipRadius": 0,
           "colorMode": "hcl",
           "colorReverse": false,
           "colorScale": "rainbow",
           "colorScheme": "element",
           "colorValue": 9474192,
           "defaultAssembly": "",
           "depthWrite": true,
           "diffuse": 16777215,
           "diffuseInterior": false,
           "disableImpostor": false,
           "disablePicking": false,
           "flatShaded": false,
           "interiorColor": 2236962,
           "interiorDarkening": 0,
           "lazy": false,
           "matrix": {
            "elements": [
             1,
             0,
             0,
             0,
             0,
             1,
             0,
             0,
             0,
             0,
             1,
             0,
             0,
             0,
             0,
             1
            ]
           },
           "metalness": 0,
           "opacity": 1,
           "quality": "medium",
           "radiusData": {},
           "radiusScale": 0.5,
           "radiusSize": 1,
           "radiusType": "covalent",
           "roughness": 0.4,
           "sele": "all",
           "side": "double",
           "sphereDetail": 1,
           "useInteriorColor": true,
           "visible": true,
           "wireframe": false
          },
          "type": "spacefill"
         },
         "2": {
          "params": {
           "aspectRatio": 2,
           "assembly": "default",
           "bondScale": 0.4,
           "bondSpacing": 1,
           "clipCenter": {
            "x": 0,
            "y": 0,
            "z": 0
           },
           "clipNear": 0,
           "clipRadius": 0,
           "colorMode": "hcl",
           "colorReverse": false,
           "colorScale": "",
           "colorScheme": "element",
           "colorValue": 9474192,
           "cylinderOnly": false,
           "defaultAssembly": "",
           "depthWrite": true,
           "diffuse": 16777215,
           "diffuseInterior": false,
           "disableImpostor": false,
           "disablePicking": false,
           "flatShaded": false,
           "interiorColor": 2236962,
           "interiorDarkening": 0,
           "lazy": false,
           "lineOnly": false,
           "linewidth": 2,
           "matrix": {
            "elements": [
             1,
             0,
             0,
             0,
             0,
             1,
             0,
             0,
             0,
             0,
             1,
             0,
             0,
             0,
             0,
             1
            ]
           },
           "metalness": 0,
           "multipleBond": "off",
           "opacity": 1,
           "openEnded": true,
           "quality": "medium",
           "radialSegments": 10,
           "radiusData": {},
           "radiusScale": 1,
           "radiusSize": 0.15,
           "radiusType": "size",
           "roughness": 0.4,
           "sele": "all",
           "side": "double",
           "sphereDetail": 1,
           "useInteriorColor": true,
           "visible": true,
           "wireframe": false
          },
          "type": "ball+stick"
         }
        }
       },
       "_ngl_serialize": false,
       "_ngl_version": "2.0.0-dev.36",
       "_ngl_view_id": [
        "41E41FF4-FBC5-4778-B40B-D97CFF46EA5B"
       ],
       "_player_dict": {},
       "_scene_position": {},
       "_scene_rotation": {},
       "_synced_model_ids": [],
       "_synced_repr_model_ids": [],
       "_view_height": "",
       "_view_width": "",
       "background": "white",
       "frame": 0,
       "gui_style": null,
       "layout": "IPY_MODEL_b2d6bdb8cc294f1fac443db03613ba56",
       "max_frame": 0,
       "n_components": 1,
       "picked": {}
      }
     },
     "d8e6f62c422e4189a63259d58d122208": {
      "model_module": "@jupyter-widgets/controls",
      "model_module_version": "1.5.0",
      "model_name": "PlayModel",
      "state": {
       "layout": "IPY_MODEL_fb3cff8e062f40e197d65f6d67582f83",
       "max": 5,
       "style": "IPY_MODEL_0c39f7d3fbe9470b9a365bf9f999761a"
      }
     },
     "d9491744ac26485b9246977f03704eb7": {
      "model_module": "@jupyter-widgets/base",
      "model_module_version": "1.2.0",
      "model_name": "LayoutModel",
      "state": {
       "width": "34px"
      }
     },
     "d96a5fcbad0e4c25ac83e8ac0b02fbc9": {
      "model_module": "@jupyter-widgets/output",
      "model_module_version": "1.0.0",
      "model_name": "OutputModel",
      "state": {
       "layout": "IPY_MODEL_708dbc62d43340118c0b6260f64fd7a4"
      }
     },
     "daa39a994b1e4ae88c452f18fddf718d": {
      "model_module": "@jupyter-widgets/controls",
      "model_module_version": "1.5.0",
      "model_name": "DescriptionStyleModel",
      "state": {
       "description_width": ""
      }
     },
     "daa4a182db7f4d47bbe211a9b7766c76": {
      "model_module": "@jupyter-widgets/base",
      "model_module_version": "1.2.0",
      "model_name": "LayoutModel",
      "state": {}
     },
     "dadaa408e49647e7bedbdc246977219f": {
      "model_module": "@jupyter-widgets/output",
      "model_module_version": "1.0.0",
      "model_name": "OutputModel",
      "state": {
       "layout": "IPY_MODEL_b60df11343bf4b8095660055e6b36bcd"
      }
     },
     "db922952a88248cdbdafff513f9d9e60": {
      "model_module": "@jupyter-widgets/controls",
      "model_module_version": "1.5.0",
      "model_name": "CheckboxModel",
      "state": {
       "description": "Show force",
       "disabled": false,
       "layout": "IPY_MODEL_8b0687caa99b4d78b659a52ace744f20",
       "style": "IPY_MODEL_3b12464f9b124fa59bced4bfd19041a6",
       "value": false
      }
     },
     "dba0cbff18624600b986bafab183bc06": {
      "model_module": "@jupyter-widgets/base",
      "model_module_version": "1.2.0",
      "model_name": "LayoutModel",
      "state": {}
     },
     "dbc49757bca54f3399bef59c514ff2e9": {
      "model_module": "@jupyter-widgets/controls",
      "model_module_version": "1.5.0",
      "model_name": "LinkModel",
      "state": {
       "source": [
        "IPY_MODEL_edc975fbc48b44499d02cd6c309956ea",
        "max"
       ],
       "target": [
        "IPY_MODEL_990f2104436240b1aa9f5cffb912c563",
        "max_frame"
       ]
      }
     },
     "dbcae5d46b6b471fb6169e34cd686b53": {
      "model_module": "@jupyter-widgets/controls",
      "model_module_version": "1.5.0",
      "model_name": "ButtonModel",
      "state": {
       "description": "Download image",
       "layout": "IPY_MODEL_e7b0da198d954880892c3ab637906820",
       "style": "IPY_MODEL_d0c8f383d4ba4fa7a0de687dba9c23f4",
       "tooltip": "Download current frame to your local PC"
      }
     },
     "dddaa28adc51400c986737129ef2351c": {
      "model_module": "@jupyter-widgets/base",
      "model_module_version": "1.2.0",
      "model_name": "LayoutModel",
      "state": {}
     },
     "de8f2498aaa34cb4bd878e52d12a1c08": {
      "model_module": "@jupyter-widgets/controls",
      "model_module_version": "1.5.0",
      "model_name": "DescriptionStyleModel",
      "state": {
       "description_width": ""
      }
     },
     "decb559a7f2c440495519100e50f8fb2": {
      "model_module": "@jupyter-widgets/base",
      "model_module_version": "1.2.0",
      "model_name": "LayoutModel",
      "state": {}
     },
     "df0c74df2f874a1fb7d97e587d2c6a87": {
      "model_module": "@jupyter-widgets/controls",
      "model_module_version": "1.5.0",
      "model_name": "ButtonStyleModel",
      "state": {}
     },
     "dff873f4303246a198f9b7aeab26c81c": {
      "model_module": "@jupyter-widgets/base",
      "model_module_version": "1.2.0",
      "model_name": "LayoutModel",
      "state": {}
     },
     "e08f2d0ae8ad4f3b9c12de21f3ceced4": {
      "model_module": "@jupyter-widgets/controls",
      "model_module_version": "1.5.0",
      "model_name": "LinkModel",
      "state": {
       "source": [
        "IPY_MODEL_80a0de54e457401595aaf7a3ba41ac69",
        "value"
       ],
       "target": [
        "IPY_MODEL_edc975fbc48b44499d02cd6c309956ea",
        "value"
       ]
      }
     },
     "e1aca3926d8b455cb95cf4a8f68cf32f": {
      "model_module": "@jupyter-widgets/controls",
      "model_module_version": "1.5.0",
      "model_name": "HBoxModel",
      "state": {
       "children": [
        "IPY_MODEL_4ad145ac419a4f17ba5e45ed5f3432c2",
        "IPY_MODEL_178af476764b4282afa0f79b22b45dbc"
       ],
       "layout": "IPY_MODEL_d36a901cc3264876a0b5908ead8317dc"
      }
     },
     "e2dc7784aa1c44249d16662ee2aa8365": {
      "model_module": "@jupyter-widgets/controls",
      "model_module_version": "1.5.0",
      "model_name": "DescriptionStyleModel",
      "state": {
       "description_width": ""
      }
     },
     "e2e036b596914d87a0b160ee101788e6": {
      "model_module": "@jupyter-widgets/controls",
      "model_module_version": "1.5.0",
      "model_name": "VBoxModel",
      "state": {
       "children": [
        "IPY_MODEL_d58e70c63f8d419b81e6fe10be2ff78d",
        "IPY_MODEL_0eee1c28fa6a491ab9545fba5a407471",
        "IPY_MODEL_547b30dbe4394176a618d9e0df230a2b",
        "IPY_MODEL_b502547fb9c8445783c34a940bc59352",
        "IPY_MODEL_1d9c1f141b2d4f2ab7ed87613df564f4",
        "IPY_MODEL_628fd954103b4bdc91a437b18f8e1113",
        "IPY_MODEL_0a29cd0108c44f7ab6e450fe2e65a854",
        "IPY_MODEL_896f44715b6b499087673a1f72914630",
        "IPY_MODEL_752b783f42604abd9967bf656e748613",
        "IPY_MODEL_6654ad46aa504fbb8a2da22d7ff18950"
       ],
       "layout": "IPY_MODEL_f2c8d2ea74fb4d3cad7454903f29794b"
      }
     },
     "e3042b6c51a74a4f8a49f0ce9eaf2a34": {
      "model_module": "@jupyter-widgets/controls",
      "model_module_version": "1.5.0",
      "model_name": "LinkModel",
      "state": {
       "source": [
        "IPY_MODEL_976359c4416b4035a668cd5e18eda16b",
        "value"
       ],
       "target": [
        "IPY_MODEL_405a3af33bb144a0ac26ad0e3b9525fb",
        "value"
       ]
      }
     },
     "e3e60836da1c48d0b9cf21991e5fa1d9": {
      "model_module": "@jupyter-widgets/controls",
      "model_module_version": "1.5.0",
      "model_name": "CheckboxModel",
      "state": {
       "description": "Show force",
       "disabled": false,
       "layout": "IPY_MODEL_e9aae38ad4ca49fcacceac0758ccca4b",
       "style": "IPY_MODEL_ff9ceece1a8e45f4b0a1cec813eb6e55",
       "value": false
      }
     },
     "e4d80ea4b5c04bd48e859e17cb2350fe": {
      "model_module": "@jupyter-widgets/controls",
      "model_module_version": "1.5.0",
      "model_name": "VBoxModel",
      "state": {
       "children": [
        "IPY_MODEL_36f61bfd0c7242b5a53e997cb3b21d86",
        "IPY_MODEL_234aadce9fec42789596ba4f0b4357ea",
        "IPY_MODEL_0729377cfd564355bcf0417b6c6137e6",
        "IPY_MODEL_778900f5d75f4f5398fcd446e55fe24a",
        "IPY_MODEL_20d93d7217354149a64f4cc68a7840ba",
        "IPY_MODEL_3087034ecd6a475b97a421bb84ed42fd",
        "IPY_MODEL_db922952a88248cdbdafff513f9d9e60",
        "IPY_MODEL_aa832da01aba499da3ed32d91ef937d4",
        "IPY_MODEL_159c756d9601496d9ff4fe09a6c7d14e",
        "IPY_MODEL_ef09986c3a034bab9ff2aa65bdaeb3b3",
        "IPY_MODEL_dadaa408e49647e7bedbdc246977219f"
       ],
       "layout": "IPY_MODEL_ecdfc23498e84fb992e65c0c3a0b026a"
      }
     },
     "e541bb03d3e34d24988f2a6b96d78edf": {
      "model_module": "@jupyter-widgets/controls",
      "model_module_version": "1.5.0",
      "model_name": "LinkModel",
      "state": {
       "source": [
        "IPY_MODEL_1c7d111aaf7c4d9fb736dab8538a9abe",
        "max"
       ],
       "target": [
        "IPY_MODEL_4ad145ac419a4f17ba5e45ed5f3432c2",
        "max_frame"
       ]
      }
     },
     "e6373d253ed247e39406a3770552e619": {
      "model_module": "@jupyter-widgets/controls",
      "model_module_version": "1.5.0",
      "model_name": "ButtonStyleModel",
      "state": {}
     },
     "e654c596264c478683bebdeabf4b5d44": {
      "model_module": "@jupyter-widgets/base",
      "model_module_version": "1.2.0",
      "model_name": "LayoutModel",
      "state": {}
     },
     "e787ad00668b41a6a210b94e7e5cd625": {
      "model_module": "@jupyter-widgets/controls",
      "model_module_version": "1.5.0",
      "model_name": "LinkModel",
      "state": {
       "source": [
        "IPY_MODEL_830bd688a4e94180b5e7f6fe4aeac2f1",
        "max"
       ],
       "target": [
        "IPY_MODEL_ecb53fa2fe70470097ba5e6e441f97d6",
        "max_frame"
       ]
      }
     },
     "e7b0da198d954880892c3ab637906820": {
      "model_module": "@jupyter-widgets/base",
      "model_module_version": "1.2.0",
      "model_name": "LayoutModel",
      "state": {}
     },
     "e82df223a8bb4ca2abc6234108f0867d": {
      "model_module": "@jupyter-widgets/controls",
      "model_module_version": "1.5.0",
      "model_name": "ButtonStyleModel",
      "state": {}
     },
     "e85a814ba20b47a8bce800f5395c1a80": {
      "model_module": "@jupyter-widgets/controls",
      "model_module_version": "1.5.0",
      "model_name": "DropdownModel",
      "state": {
       "_options_labels": [
        " ",
        "picking",
        "random",
        "uniform",
        "atomindex",
        "residueindex",
        "chainindex",
        "modelindex",
        "sstruc",
        "element",
        "resname",
        "bfactor",
        "hydrophobicity",
        "value",
        "volume",
        "occupancy"
       ],
       "description": "Color scheme",
       "index": 9,
       "layout": "IPY_MODEL_935f784336e540ca9775e1c226491a4e",
       "style": "IPY_MODEL_0c6d34eca0c8469e9e4d33085198baf6"
      }
     },
     "e86aa5a088174136a0c2268c0e261679": {
      "model_module": "@jupyter-widgets/base",
      "model_module_version": "1.2.0",
      "model_name": "LayoutModel",
      "state": {}
     },
     "e891e1ecd7194d42b0a682e4e65b351f": {
      "model_module": "@jupyter-widgets/controls",
      "model_module_version": "1.5.0",
      "model_name": "ButtonModel",
      "state": {
       "icon": "compress",
       "layout": "IPY_MODEL_b86d262fc83d467abcf90db8e4079548",
       "style": "IPY_MODEL_66011abd460a411d92c0f3318f22dddb"
      }
     },
     "e894950918d54c079ff160012220ebb7": {
      "model_module": "@jupyter-widgets/controls",
      "model_module_version": "1.5.0",
      "model_name": "SliderStyleModel",
      "state": {
       "description_width": ""
      }
     },
     "e97d6a721c4b453784e6a8407b7a47ee": {
      "model_module": "@jupyter-widgets/base",
      "model_module_version": "1.2.0",
      "model_name": "LayoutModel",
      "state": {}
     },
     "e97d718fa7be4dc29921a84b41f7047c": {
      "model_module": "nglview-js-widgets",
      "model_module_version": "3.0.1",
      "model_name": "NGLModel",
      "state": {
       "_camera_orientation": [
        5.560105237452296,
        0,
        0,
        0,
        0,
        5.560105237452296,
        0,
        0,
        0,
        0,
        5.560105237452296,
        0,
        0,
        0,
        0,
        1
       ],
       "_camera_str": "orthographic",
       "_gui_theme": null,
       "_ibtn_fullscreen": "IPY_MODEL_364915d2206e4a9b844b00a502609d56",
       "_igui": null,
       "_iplayer": "IPY_MODEL_ae31b931d92741f089d85a9cff306fd3",
       "_ngl_color_dict": {},
       "_ngl_coordinate_resource": {},
       "_ngl_full_stage_parameters": {
        "ambientColor": 14540253,
        "ambientIntensity": 0.2,
        "backgroundColor": "white",
        "cameraEyeSep": 0.3,
        "cameraFov": 40,
        "cameraType": "orthographic",
        "clipDist": 0,
        "clipFar": 100,
        "clipNear": 0,
        "fogFar": 100,
        "fogNear": 50,
        "hoverTimeout": 0,
        "impostor": true,
        "lightColor": 14540253,
        "lightIntensity": 1,
        "mousePreset": "default",
        "panSpeed": 1,
        "quality": "medium",
        "rotateSpeed": 2,
        "sampleLevel": 0,
        "tooltip": true,
        "workerDefault": true,
        "zoomSpeed": 1.2
       },
       "_ngl_msg_archive": [
        {
         "args": [
          {
           "binary": false,
           "data": "CRYST1    2.598    2.598    2.598 109.47 109.47 109.47 P 1\nMODEL     1\nATOM      1   Fe MOL     1       0.000   0.000   0.000  1.00  0.00          FE  \nENDMDL\n",
           "type": "blob"
          }
         ],
         "kwargs": {
          "defaultRepresentation": false,
          "ext": "pdb"
         },
         "methodName": "loadFile",
         "reconstruc_color_scheme": false,
         "target": "Stage",
         "type": "call_method"
        },
        {
         "args": [
          "400px",
          "300px"
         ],
         "kwargs": {},
         "methodName": "setSize",
         "reconstruc_color_scheme": false,
         "target": "Widget",
         "type": "call_method"
        },
        {
         "args": [
          "unitcell"
         ],
         "component_index": 0,
         "kwargs": {
          "sele": "all"
         },
         "methodName": "addRepresentation",
         "reconstruc_color_scheme": false,
         "target": "compList",
         "type": "call_method"
        },
        {
         "args": [
          "spacefill"
         ],
         "component_index": 0,
         "kwargs": {
          "sele": "all"
         },
         "methodName": "addRepresentation",
         "reconstruc_color_scheme": false,
         "target": "compList",
         "type": "call_method"
        },
        {
         "args": [],
         "kwargs": {
          "cameraType": "orthographic"
         },
         "methodName": "setParameters",
         "reconstruc_color_scheme": false,
         "target": "Stage",
         "type": "call_method"
        },
        {
         "args": [
          {
           "clipDist": 0
          }
         ],
         "kwargs": {},
         "methodName": "setParameters",
         "reconstruc_color_scheme": false,
         "target": "Widget",
         "type": "call_method"
        },
        {
         "args": [
          "spacefill",
          0
         ],
         "kwargs": {
          "colorScale": "rainbow",
          "colorScheme": "element",
          "radiusScale": 0.5,
          "radiusType": "covalent"
         },
         "methodName": "updateRepresentationsByName",
         "reconstruc_color_scheme": false,
         "target": "Widget",
         "type": "call_method"
        },
        {
         "args": [
          "this._Q = [[-0.577350269189626, 0.5773502691896257, 0.5773502691896257], [0.40824829046386313, -0.408248290463863, 0.8164965809277261], [0.7071067811865475, 0.7071067811865477, -1.8649311101977364e-16]]\n    var tooltip = document.createElement('div');\n    Object.assign(tooltip.style, {\n      display: 'none',\n      position: 'fixed',\n      zIndex: 10,\n      pointerEvents: 'none',\n      backgroundColor: 'rgba( 0, 0, 0, 0.6 )',\n      color: 'lightgrey',\n      padding: '8px',\n      fontFamily: 'sans-serif'\n    });\n    document.body.appendChild(tooltip);\n\n    var that = this;\n    this.stage.mouseControls.remove('hoverPick');\n    this.stage.signals.hovered.add(function (pickingProxy) {\n      if (pickingProxy && (pickingProxy.atom || pickingProxy.bond)) {\n        var atom = pickingProxy.atom || pickingProxy.closestBondAtom\n        var mp = pickingProxy.mouse.position\n        //tooltip.innerText = atom.element + ' i=' + atom.index + ' (' + atom.x.toFixed(2) +  ', ' + atom.y.toFixed(2) +  ', ' + atom.z.toFixed(2) + ')'\n        //var pos = that._atoms_pos[atom.index]\n        var Q = that._Q\n        var pos_x = Q[0][0] * atom.x + Q[0][1] * atom.y + Q[0][2] * atom.z \n        var pos_y = Q[1][0] * atom.x + Q[1][1] * atom.y + Q[1][2] * atom.z\n        var pos_z = Q[2][0] * atom.x + Q[2][1] * atom.y + Q[2][2] * atom.z\n        tooltip.innerText = 'i=' + atom.index + ' ' + atom.element + ' (' + pos_x.toFixed(2) +  ', ' + pos_y.toFixed(2) +  ', ' + pos_z.toFixed(2) + ')'\n        tooltip.style.bottom = window.innerHeight - mp.y + 3 + 'px'\n        tooltip.style.left = mp.x + 3 + 'px'\n        tooltip.style.display = 'block'\n      } else {\n        tooltip.style.display = 'none'\n      }\n    });\n    this.stage.tooltip = tooltip;\n    "
         ],
         "kwargs": {},
         "methodName": "executeCode",
         "reconstruc_color_scheme": false,
         "target": "Widget",
         "type": "call_method"
        }
       ],
       "_ngl_original_stage_parameters": {
        "ambientColor": 14540253,
        "ambientIntensity": 0.2,
        "backgroundColor": "white",
        "cameraEyeSep": 0.3,
        "cameraFov": 40,
        "cameraType": "perspective",
        "clipDist": 10,
        "clipFar": 100,
        "clipNear": 0,
        "fogFar": 100,
        "fogNear": 50,
        "hoverTimeout": 0,
        "impostor": true,
        "lightColor": 14540253,
        "lightIntensity": 1,
        "mousePreset": "default",
        "panSpeed": 1,
        "quality": "medium",
        "rotateSpeed": 2,
        "sampleLevel": 0,
        "tooltip": true,
        "workerDefault": true,
        "zoomSpeed": 1.2
       },
       "_ngl_repr_dict": {
        "0": {
         "0": {
          "params": {
           "clipCenter": {
            "x": 0,
            "y": 0,
            "z": 0
           },
           "clipNear": 0,
           "clipRadius": 0,
           "colorMode": "hcl",
           "colorReverse": false,
           "colorScale": "",
           "colorScheme": "element",
           "colorValue": "orange",
           "defaultAssembly": "",
           "depthWrite": true,
           "diffuse": 16777215,
           "diffuseInterior": false,
           "disableImpostor": false,
           "disablePicking": false,
           "flatShaded": false,
           "interiorColor": 2236962,
           "interiorDarkening": 0,
           "lazy": false,
           "matrix": {
            "elements": [
             1,
             0,
             0,
             0,
             0,
             1,
             0,
             0,
             0,
             0,
             1,
             0,
             0,
             0,
             0,
             1
            ]
           },
           "metalness": 0,
           "opacity": 1,
           "quality": "medium",
           "radialSegments": 10,
           "radiusData": {},
           "radiusScale": 1,
           "radiusSize": 0.011908368079975465,
           "radiusType": "vdw",
           "roughness": 0.4,
           "sele": "all",
           "side": "double",
           "sphereDetail": 1,
           "useInteriorColor": true,
           "visible": true,
           "wireframe": false
          },
          "type": "unitcell"
         },
         "1": {
          "params": {
           "assembly": "default",
           "clipCenter": {
            "x": 0,
            "y": 0,
            "z": 0
           },
           "clipNear": 0,
           "clipRadius": 0,
           "colorMode": "hcl",
           "colorReverse": false,
           "colorScale": "rainbow",
           "colorScheme": "element",
           "colorValue": 9474192,
           "defaultAssembly": "",
           "depthWrite": true,
           "diffuse": 16777215,
           "diffuseInterior": false,
           "disableImpostor": false,
           "disablePicking": false,
           "flatShaded": false,
           "interiorColor": 2236962,
           "interiorDarkening": 0,
           "lazy": false,
           "matrix": {
            "elements": [
             1,
             0,
             0,
             0,
             0,
             1,
             0,
             0,
             0,
             0,
             1,
             0,
             0,
             0,
             0,
             1
            ]
           },
           "metalness": 0,
           "opacity": 1,
           "quality": "medium",
           "radiusData": {},
           "radiusScale": 0.5,
           "radiusSize": 1,
           "radiusType": "covalent",
           "roughness": 0.4,
           "sele": "all",
           "side": "double",
           "sphereDetail": 1,
           "useInteriorColor": true,
           "visible": true,
           "wireframe": false
          },
          "type": "spacefill"
         }
        }
       },
       "_ngl_serialize": false,
       "_ngl_version": "2.0.0-dev.36",
       "_ngl_view_id": [
        "6A181374-842B-42F5-93E8-F7A72FF5735F"
       ],
       "_player_dict": {},
       "_scene_position": {},
       "_scene_rotation": {},
       "_synced_model_ids": [],
       "_synced_repr_model_ids": [],
       "_view_height": "",
       "_view_width": "",
       "background": "white",
       "frame": 0,
       "gui_style": null,
       "layout": "IPY_MODEL_f0ad17b594284b308ea91b7158226d11",
       "max_frame": 5,
       "n_components": 1,
       "picked": {}
      }
     },
     "e98529e40f0c42d9b14cd191a9f491b8": {
      "model_module": "@jupyter-widgets/base",
      "model_module_version": "1.2.0",
      "model_name": "LayoutModel",
      "state": {}
     },
     "e9aae38ad4ca49fcacceac0758ccca4b": {
      "model_module": "@jupyter-widgets/base",
      "model_module_version": "1.2.0",
      "model_name": "LayoutModel",
      "state": {}
     },
     "ea646ccfd2fa4665b233e4eb9336de73": {
      "model_module": "@jupyter-widgets/controls",
      "model_module_version": "1.5.0",
      "model_name": "LinkModel",
      "state": {
       "source": [
        "IPY_MODEL_80a0de54e457401595aaf7a3ba41ac69",
        "value"
       ],
       "target": [
        "IPY_MODEL_990f2104436240b1aa9f5cffb912c563",
        "frame"
       ]
      }
     },
     "eabcf3410e9d408e9df245c80ae192f2": {
      "model_module": "@jupyter-widgets/controls",
      "model_module_version": "1.5.0",
      "model_name": "FloatSliderModel",
      "state": {
       "description": "Force scale",
       "layout": "IPY_MODEL_04ab4ad483ba4c179b223a926c590725",
       "step": 0.1,
       "style": "IPY_MODEL_1d71f934dca248a98d40b081863d48c3",
       "value": 0.5
      }
     },
     "eb9524feebda4b338f2bdf08c81433b3": {
      "model_module": "@jupyter-widgets/controls",
      "model_module_version": "1.5.0",
      "model_name": "DescriptionStyleModel",
      "state": {
       "description_width": ""
      }
     },
     "ebf82950d75a40548f2c05589a28b35a": {
      "model_module": "@jupyter-widgets/controls",
      "model_module_version": "1.5.0",
      "model_name": "DescriptionStyleModel",
      "state": {
       "description_width": ""
      }
     },
     "ecb53fa2fe70470097ba5e6e441f97d6": {
      "model_module": "nglview-js-widgets",
      "model_module_version": "3.0.1",
      "model_name": "NGLModel",
      "state": {
       "_camera_orientation": [
        9.650356240664138,
        0,
        0,
        0,
        0,
        9.650356240664138,
        0,
        0,
        0,
        0,
        9.650356240664138,
        0,
        0,
        0,
        0,
        1
       ],
       "_camera_str": "orthographic",
       "_gui_theme": null,
       "_ibtn_fullscreen": "IPY_MODEL_d5bb927480554d5da0aa300364ca7ac1",
       "_igui": null,
       "_iplayer": "IPY_MODEL_528ea489f3be465d8d7ad580efe6b1ee",
       "_ngl_color_dict": {},
       "_ngl_coordinate_resource": {},
       "_ngl_full_stage_parameters": {
        "ambientColor": 14540253,
        "ambientIntensity": 0.2,
        "backgroundColor": "white",
        "cameraEyeSep": 0.3,
        "cameraFov": 40,
        "cameraType": "orthographic",
        "clipDist": 0,
        "clipFar": 100,
        "clipNear": 0,
        "fogFar": 100,
        "fogNear": 50,
        "hoverTimeout": 0,
        "impostor": true,
        "lightColor": 14540253,
        "lightIntensity": 1,
        "mousePreset": "default",
        "panSpeed": 1,
        "quality": "medium",
        "rotateSpeed": 2,
        "sampleLevel": 0,
        "tooltip": true,
        "workerDefault": true,
        "zoomSpeed": 1.2
       },
       "_ngl_msg_archive": [
        {
         "args": [
          {
           "binary": false,
           "data": "MODEL     1\nATOM      1    C MOL     1      -1.290  -0.694   0.225  1.00  0.00           C  \nATOM      2    C MOL     1      -1.246   0.770  -0.225  1.00  0.00           C  \nATOM      3    C MOL     1      -0.044  -1.464  -0.225  1.00  0.00           C  \nATOM      4    C MOL     1       0.044   1.464   0.225  1.00  0.00           C  \nATOM      5    C MOL     1       1.246  -0.770   0.225  1.00  0.00           C  \nATOM      6    C MOL     1       1.290   0.694  -0.225  1.00  0.00           C  \nATOM      7    H MOL     1      -2.191  -1.179  -0.170  1.00  0.00           H  \nATOM      8    H MOL     1      -1.359  -0.732   1.322  1.00  0.00           H  \nATOM      9    H MOL     1      -1.313   0.811  -1.322  1.00  0.00           H  \nATOM     10    H MOL     1      -2.117   1.308   0.170  1.00  0.00           H  \nATOM     11    H MOL     1      -0.046  -1.543  -1.322  1.00  0.00           H  \nATOM     12    H MOL     1      -0.074  -2.487   0.170  1.00  0.00           H  \nATOM     13    H MOL     1       0.046   1.543   1.322  1.00  0.00           H  \nATOM     14    H MOL     1       0.074   2.487  -0.170  1.00  0.00           H  \nATOM     15    H MOL     1       1.313  -0.811   1.322  1.00  0.00           H  \nATOM     16    H MOL     1       2.117  -1.308  -0.170  1.00  0.00           H  \nATOM     17    H MOL     1       2.191   1.179   0.170  1.00  0.00           H  \nATOM     18    H MOL     1       1.359   0.732  -1.322  1.00  0.00           H  \nENDMDL\n",
           "type": "blob"
          }
         ],
         "kwargs": {
          "defaultRepresentation": false,
          "ext": "pdb"
         },
         "methodName": "loadFile",
         "reconstruc_color_scheme": false,
         "target": "Stage",
         "type": "call_method"
        },
        {
         "args": [
          "400px",
          "300px"
         ],
         "kwargs": {},
         "methodName": "setSize",
         "reconstruc_color_scheme": false,
         "target": "Widget",
         "type": "call_method"
        },
        {
         "args": [
          "unitcell"
         ],
         "component_index": 0,
         "kwargs": {
          "sele": "all"
         },
         "methodName": "addRepresentation",
         "reconstruc_color_scheme": false,
         "target": "compList",
         "type": "call_method"
        },
        {
         "args": [
          "spacefill"
         ],
         "component_index": 0,
         "kwargs": {
          "sele": "all"
         },
         "methodName": "addRepresentation",
         "reconstruc_color_scheme": false,
         "target": "compList",
         "type": "call_method"
        },
        {
         "args": [],
         "kwargs": {
          "cameraType": "orthographic"
         },
         "methodName": "setParameters",
         "reconstruc_color_scheme": false,
         "target": "Stage",
         "type": "call_method"
        },
        {
         "args": [
          {
           "clipDist": 0
          }
         ],
         "kwargs": {},
         "methodName": "setParameters",
         "reconstruc_color_scheme": false,
         "target": "Widget",
         "type": "call_method"
        },
        {
         "args": [
          "spacefill",
          0
         ],
         "kwargs": {
          "colorScale": "rainbow",
          "colorScheme": "element",
          "radiusScale": 0.5,
          "radiusType": "covalent"
         },
         "methodName": "updateRepresentationsByName",
         "reconstruc_color_scheme": false,
         "target": "Widget",
         "type": "call_method"
        },
        {
         "args": [
          "this._Q = [[1.0, 0.0, 0.0], [0.0, 1.0, 0.0], [0.0, 0.0, 1.0]]\n    var tooltip = document.createElement('div');\n    Object.assign(tooltip.style, {\n      display: 'none',\n      position: 'fixed',\n      zIndex: 10,\n      pointerEvents: 'none',\n      backgroundColor: 'rgba( 0, 0, 0, 0.6 )',\n      color: 'lightgrey',\n      padding: '8px',\n      fontFamily: 'sans-serif'\n    });\n    document.body.appendChild(tooltip);\n\n    var that = this;\n    this.stage.mouseControls.remove('hoverPick');\n    this.stage.signals.hovered.add(function (pickingProxy) {\n      if (pickingProxy && (pickingProxy.atom || pickingProxy.bond)) {\n        var atom = pickingProxy.atom || pickingProxy.closestBondAtom\n        var mp = pickingProxy.mouse.position\n        //tooltip.innerText = atom.element + ' i=' + atom.index + ' (' + atom.x.toFixed(2) +  ', ' + atom.y.toFixed(2) +  ', ' + atom.z.toFixed(2) + ')'\n        //var pos = that._atoms_pos[atom.index]\n        var Q = that._Q\n        var pos_x = Q[0][0] * atom.x + Q[0][1] * atom.y + Q[0][2] * atom.z \n        var pos_y = Q[1][0] * atom.x + Q[1][1] * atom.y + Q[1][2] * atom.z\n        var pos_z = Q[2][0] * atom.x + Q[2][1] * atom.y + Q[2][2] * atom.z\n        tooltip.innerText = 'i=' + atom.index + ' ' + atom.element + ' (' + pos_x.toFixed(2) +  ', ' + pos_y.toFixed(2) +  ', ' + pos_z.toFixed(2) + ')'\n        tooltip.style.bottom = window.innerHeight - mp.y + 3 + 'px'\n        tooltip.style.left = mp.x + 3 + 'px'\n        tooltip.style.display = 'block'\n      } else {\n        tooltip.style.display = 'none'\n      }\n    });\n    this.stage.tooltip = tooltip;\n    "
         ],
         "kwargs": {},
         "methodName": "executeCode",
         "reconstruc_color_scheme": false,
         "target": "Widget",
         "type": "call_method"
        },
        {
         "args": [
          "ball+stick"
         ],
         "component_index": 0,
         "kwargs": {
          "sele": "all"
         },
         "methodName": "addRepresentation",
         "reconstruc_color_scheme": false,
         "target": "compList",
         "type": "call_method"
        }
       ],
       "_ngl_original_stage_parameters": {
        "ambientColor": 14540253,
        "ambientIntensity": 0.2,
        "backgroundColor": "white",
        "cameraEyeSep": 0.3,
        "cameraFov": 40,
        "cameraType": "perspective",
        "clipDist": 10,
        "clipFar": 100,
        "clipNear": 0,
        "fogFar": 100,
        "fogNear": 50,
        "hoverTimeout": 0,
        "impostor": true,
        "lightColor": 14540253,
        "lightIntensity": 1,
        "mousePreset": "default",
        "panSpeed": 1,
        "quality": "medium",
        "rotateSpeed": 2,
        "sampleLevel": 0,
        "tooltip": true,
        "workerDefault": true,
        "zoomSpeed": 1.2
       },
       "_ngl_repr_dict": {
        "0": {
         "0": {
          "params": {
           "clipCenter": {
            "x": 0,
            "y": 0,
            "z": 0
           },
           "clipNear": 0,
           "clipRadius": 0,
           "colorMode": "hcl",
           "colorReverse": false,
           "colorScale": "",
           "colorScheme": "element",
           "colorValue": "orange",
           "defaultAssembly": "",
           "depthWrite": true,
           "diffuse": 16777215,
           "diffuseInterior": false,
           "disableImpostor": false,
           "disablePicking": false,
           "flatShaded": false,
           "interiorColor": 2236962,
           "interiorDarkening": 0,
           "lazy": false,
           "matrix": {
            "elements": [
             1,
             0,
             0,
             0,
             0,
             1,
             0,
             0,
             0,
             0,
             1,
             0,
             0,
             0,
             0,
             1
            ]
           },
           "metalness": 0,
           "opacity": 1,
           "quality": "medium",
           "radialSegments": 10,
           "radiusData": {},
           "radiusScale": 1,
           "radiusSize": 0.5,
           "radiusType": "vdw",
           "roughness": 0.4,
           "sele": "all",
           "side": "double",
           "sphereDetail": 1,
           "useInteriorColor": true,
           "visible": true,
           "wireframe": false
          },
          "type": "unitcell"
         },
         "1": {
          "params": {
           "assembly": "default",
           "clipCenter": {
            "x": 0,
            "y": 0,
            "z": 0
           },
           "clipNear": 0,
           "clipRadius": 0,
           "colorMode": "hcl",
           "colorReverse": false,
           "colorScale": "rainbow",
           "colorScheme": "element",
           "colorValue": 9474192,
           "defaultAssembly": "",
           "depthWrite": true,
           "diffuse": 16777215,
           "diffuseInterior": false,
           "disableImpostor": false,
           "disablePicking": false,
           "flatShaded": false,
           "interiorColor": 2236962,
           "interiorDarkening": 0,
           "lazy": false,
           "matrix": {
            "elements": [
             1,
             0,
             0,
             0,
             0,
             1,
             0,
             0,
             0,
             0,
             1,
             0,
             0,
             0,
             0,
             1
            ]
           },
           "metalness": 0,
           "opacity": 1,
           "quality": "medium",
           "radiusData": {},
           "radiusScale": 0.5,
           "radiusSize": 1,
           "radiusType": "covalent",
           "roughness": 0.4,
           "sele": "all",
           "side": "double",
           "sphereDetail": 1,
           "useInteriorColor": true,
           "visible": true,
           "wireframe": false
          },
          "type": "spacefill"
         },
         "2": {
          "params": {
           "aspectRatio": 2,
           "assembly": "default",
           "bondScale": 0.4,
           "bondSpacing": 1,
           "clipCenter": {
            "x": 0,
            "y": 0,
            "z": 0
           },
           "clipNear": 0,
           "clipRadius": 0,
           "colorMode": "hcl",
           "colorReverse": false,
           "colorScale": "",
           "colorScheme": "element",
           "colorValue": 9474192,
           "cylinderOnly": false,
           "defaultAssembly": "",
           "depthWrite": true,
           "diffuse": 16777215,
           "diffuseInterior": false,
           "disableImpostor": false,
           "disablePicking": false,
           "flatShaded": false,
           "interiorColor": 2236962,
           "interiorDarkening": 0,
           "lazy": false,
           "lineOnly": false,
           "linewidth": 2,
           "matrix": {
            "elements": [
             1,
             0,
             0,
             0,
             0,
             1,
             0,
             0,
             0,
             0,
             1,
             0,
             0,
             0,
             0,
             1
            ]
           },
           "metalness": 0,
           "multipleBond": "off",
           "opacity": 1,
           "openEnded": true,
           "quality": "medium",
           "radialSegments": 10,
           "radiusData": {},
           "radiusScale": 1,
           "radiusSize": 0.15,
           "radiusType": "size",
           "roughness": 0.4,
           "sele": "all",
           "side": "double",
           "sphereDetail": 1,
           "useInteriorColor": true,
           "visible": true,
           "wireframe": false
          },
          "type": "ball+stick"
         }
        }
       },
       "_ngl_serialize": false,
       "_ngl_version": "2.0.0-dev.36",
       "_ngl_view_id": [
        "F4036833-3C56-490A-BB68-B2123BE3BCCE"
       ],
       "_player_dict": {},
       "_scene_position": {},
       "_scene_rotation": {},
       "_synced_model_ids": [],
       "_synced_repr_model_ids": [],
       "_view_height": "",
       "_view_width": "",
       "background": "white",
       "frame": 0,
       "gui_style": null,
       "layout": "IPY_MODEL_55bd442187634584837bedf89f07d7f1",
       "max_frame": 1,
       "n_components": 1,
       "picked": {}
      }
     },
     "ecdfc23498e84fb992e65c0c3a0b026a": {
      "model_module": "@jupyter-widgets/base",
      "model_module_version": "1.2.0",
      "model_name": "LayoutModel",
      "state": {}
     },
     "ed086e5c941e4a9ca687e92deffce119": {
      "model_module": "@jupyter-widgets/controls",
      "model_module_version": "1.5.0",
      "model_name": "DescriptionStyleModel",
      "state": {
       "description_width": ""
      }
     },
     "edc975fbc48b44499d02cd6c309956ea": {
      "model_module": "@jupyter-widgets/controls",
      "model_module_version": "1.5.0",
      "model_name": "IntSliderModel",
      "state": {
       "layout": "IPY_MODEL_7977752ce6984e0eb008b2362b12db73",
       "max": 0,
       "style": "IPY_MODEL_37115319fce347a5935cc6ede637f945"
      }
     },
     "ee3082e734354c37bfebf34a93db7075": {
      "model_module": "@jupyter-widgets/controls",
      "model_module_version": "1.5.0",
      "model_name": "LinkModel",
      "state": {
       "source": [
        "IPY_MODEL_49c59b8eeb1c40ddae1309456e80493e",
        "value"
       ],
       "target": [
        "IPY_MODEL_d3d56aaf22424c6180a24c7db7276a81",
        "frame"
       ]
      }
     },
     "ee38aecf4b62476c8547f242ada3546b": {
      "model_module": "@jupyter-widgets/controls",
      "model_module_version": "1.5.0",
      "model_name": "IntSliderModel",
      "state": {
       "layout": "IPY_MODEL_58e1be3921694d6798229609cbcc4f3b",
       "max": 1,
       "style": "IPY_MODEL_90b94909b53645169b3d67ed069a9ff5"
      }
     },
     "ee650ae15c114ef39700d02326359672": {
      "model_module": "@jupyter-widgets/controls",
      "model_module_version": "1.5.0",
      "model_name": "DropdownModel",
      "state": {
       "_options_labels": [
        "All",
        "O",
        "Si"
       ],
       "description": "Show",
       "index": 0,
       "layout": "IPY_MODEL_9628a33dabcb4f11a3a3ac21755de64f",
       "style": "IPY_MODEL_38545544cbc244cab932ccf06926b250"
      }
     },
     "ef09986c3a034bab9ff2aa65bdaeb3b3": {
      "model_module": "@jupyter-widgets/controls",
      "model_module_version": "1.5.0",
      "model_name": "FloatSliderModel",
      "state": {
       "description": "Charge scale",
       "layout": "IPY_MODEL_c6b0e8ff05eb49da92946f368eb37343",
       "step": 0.1,
       "style": "IPY_MODEL_f2590a5f8ece4091b3166c0bcd1c643c",
       "value": 1
      }
     },
     "ef5e31ed2ec14b9f838b1d7dc1c918c1": {
      "model_module": "@jupyter-widgets/base",
      "model_module_version": "1.2.0",
      "model_name": "LayoutModel",
      "state": {}
     },
     "f08b1a89b2a84f58b10500c0a45cc734": {
      "model_module": "@jupyter-widgets/base",
      "model_module_version": "1.2.0",
      "model_name": "LayoutModel",
      "state": {}
     },
     "f0ad17b594284b308ea91b7158226d11": {
      "model_module": "@jupyter-widgets/base",
      "model_module_version": "1.2.0",
      "model_name": "LayoutModel",
      "state": {}
     },
     "f144f08305f6470ebfa1b2ed43ddd032": {
      "model_module": "@jupyter-widgets/base",
      "model_module_version": "1.2.0",
      "model_name": "LayoutModel",
      "state": {}
     },
     "f14c5bc402294ede8187cd91c6a445f6": {
      "model_module": "@jupyter-widgets/controls",
      "model_module_version": "1.5.0",
      "model_name": "VBoxModel",
      "state": {
       "children": [
        "IPY_MODEL_763a75a9d1b34eba9c7d9307cdc3e59c",
        "IPY_MODEL_4a43b7a2410d42769291c7651d59c7cb",
        "IPY_MODEL_24e1908a6dbf41b7b2f07099fb3ded9a",
        "IPY_MODEL_ba07c96d83df42818936cc0d70c8f024",
        "IPY_MODEL_724e9e7373e041aebe36b39715e8bc91",
        "IPY_MODEL_a154eee6f0f644298dc2e04e2b618d8b",
        "IPY_MODEL_886ee9784e6a42daaf3a4ad18bb0f36f",
        "IPY_MODEL_bb891b2b057a49c8901ef87a94427c3e",
        "IPY_MODEL_4ad327d76d074f84b822f28ec80f7a6f",
        "IPY_MODEL_3559b8a78a8c4cbab93ac9ab1231e263",
        "IPY_MODEL_d96a5fcbad0e4c25ac83e8ac0b02fbc9"
       ],
       "layout": "IPY_MODEL_78d0f20d11dd4f4d8b33cb7b3cf56419"
      }
     },
     "f176bd83570d477481536a8f285b0e35": {
      "model_module": "@jupyter-widgets/base",
      "model_module_version": "1.2.0",
      "model_name": "LayoutModel",
      "state": {}
     },
     "f2590a5f8ece4091b3166c0bcd1c643c": {
      "model_module": "@jupyter-widgets/controls",
      "model_module_version": "1.5.0",
      "model_name": "SliderStyleModel",
      "state": {
       "description_width": ""
      }
     },
     "f2c8d2ea74fb4d3cad7454903f29794b": {
      "model_module": "@jupyter-widgets/base",
      "model_module_version": "1.2.0",
      "model_name": "LayoutModel",
      "state": {}
     },
     "f337dea8926848848dc3de3fbae7bbe2": {
      "model_module": "@jupyter-widgets/controls",
      "model_module_version": "1.5.0",
      "model_name": "PlayModel",
      "state": {
       "layout": "IPY_MODEL_2600d04231054a9694ac6da0b7a692c9",
       "max": 1,
       "style": "IPY_MODEL_5ec7b5e9e967465d9ccc108167e17aee"
      }
     },
     "f4c12561bb8d4e488c0559917884af6d": {
      "model_module": "@jupyter-widgets/base",
      "model_module_version": "1.2.0",
      "model_name": "LayoutModel",
      "state": {}
     },
     "f4c19965eae44239ae2562200c9b8aa5": {
      "model_module": "@jupyter-widgets/controls",
      "model_module_version": "1.5.0",
      "model_name": "ButtonModel",
      "state": {
       "description": "Save image",
       "layout": "IPY_MODEL_0f65d4ccec174ac59952bf09719bcbc5",
       "style": "IPY_MODEL_e82df223a8bb4ca2abc6234108f0867d",
       "tooltip": "Save current frame to file.\nCurrently .png and .html are supported.\nIt takes a bit time, please be patient."
      }
     },
     "f4d93c8edfd1427883afd8b5d6346ce7": {
      "model_module": "@jupyter-widgets/controls",
      "model_module_version": "1.5.0",
      "model_name": "ButtonStyleModel",
      "state": {}
     },
     "f4dc4942b556419587824b60bee7c593": {
      "model_module": "@jupyter-widgets/controls",
      "model_module_version": "1.5.0",
      "model_name": "LinkModel",
      "state": {
       "source": [
        "IPY_MODEL_cdffd5554e734bd9985884b5d26f70b9",
        "max"
       ],
       "target": [
        "IPY_MODEL_7d32446279e0496bb343cff842f36d81",
        "max_frame"
       ]
      }
     },
     "f4e9c7cf6d144574ab50013d5819acca": {
      "model_module": "@jupyter-widgets/base",
      "model_module_version": "1.2.0",
      "model_name": "LayoutModel",
      "state": {}
     },
     "f50c83fbcc9f42daa170286083c86c7e": {
      "model_module": "@jupyter-widgets/controls",
      "model_module_version": "1.5.0",
      "model_name": "VBoxModel",
      "state": {
       "children": [
        "IPY_MODEL_ee650ae15c114ef39700d02326359672",
        "IPY_MODEL_2156c5e0807e47338f087cddc907fa8f",
        "IPY_MODEL_0f45c9f13a0841f89cbd30e3668f8890",
        "IPY_MODEL_2bc5eeb72d674dbfa105157f4ba0db9d",
        "IPY_MODEL_789ac85a0d7446f09a04507a49ce5da3",
        "IPY_MODEL_e3e60836da1c48d0b9cf21991e5fa1d9",
        "IPY_MODEL_eabcf3410e9d408e9df245c80ae192f2",
        "IPY_MODEL_27c3d650fee44ad7a94a18fc7a3639ad",
        "IPY_MODEL_1b1aa2471094473392c02d414d4e7bdf",
        "IPY_MODEL_4ae7db5f96c94356b6d492506e8ee973"
       ],
       "layout": "IPY_MODEL_ca321f9ad8d343429146c8931fd0035c"
      }
     },
     "f68e36d7cbbb457289e885c318770663": {
      "model_module": "@jupyter-widgets/controls",
      "model_module_version": "1.5.0",
      "model_name": "SliderStyleModel",
      "state": {
       "description_width": ""
      }
     },
     "f80905027bee415ebfa3542553a3ac6d": {
      "model_module": "@jupyter-widgets/controls",
      "model_module_version": "1.5.0",
      "model_name": "VBoxModel",
      "state": {
       "children": [
        "IPY_MODEL_5335fae886dd475d9bc5c98981e5d478",
        "IPY_MODEL_307993fce10e4d7bbd8fea7a3f5032fb",
        "IPY_MODEL_c55dfd525c8941468217baeee63ba611",
        "IPY_MODEL_76c7c455be27479e826f802c540317bd",
        "IPY_MODEL_1f6dd77a7c2f48358ab24747b74497e8",
        "IPY_MODEL_9ea1d1ad554f40dea4dd56c813dcf52e",
        "IPY_MODEL_1c45aaeb82be46bea5597f2c6d1cc427",
        "IPY_MODEL_43015b21987e488e8221b95f139242de",
        "IPY_MODEL_90e23567e8a6409db4e4650f6846d4fe",
        "IPY_MODEL_a663d292ebf747bf8f873a33aa38834b",
        "IPY_MODEL_ac47a35741fb4bb78f8766bcf6cff416"
       ],
       "layout": "IPY_MODEL_5d6c62891d0d4ca69f6e88bb8838076a"
      }
     },
     "f8b4311fee324792b193a117f35ce99e": {
      "model_module": "@jupyter-widgets/base",
      "model_module_version": "1.2.0",
      "model_name": "LayoutModel",
      "state": {}
     },
     "fa331fcee7334f52acfab18ddc94997d": {
      "model_module": "@jupyter-widgets/controls",
      "model_module_version": "1.5.0",
      "model_name": "SliderStyleModel",
      "state": {
       "description_width": ""
      }
     },
     "fb3cff8e062f40e197d65f6d67582f83": {
      "model_module": "@jupyter-widgets/base",
      "model_module_version": "1.2.0",
      "model_name": "LayoutModel",
      "state": {}
     },
     "fb86784825af4be5af512bf0afd29ace": {
      "model_module": "@jupyter-widgets/controls",
      "model_module_version": "1.5.0",
      "model_name": "HBoxModel",
      "state": {
       "children": [
        "IPY_MODEL_b8bb798c7b7d4855a60541e472bdb9c1",
        "IPY_MODEL_30a2e528b9874f7091ee65ea7e8fe835"
       ],
       "layout": "IPY_MODEL_8c19b35bbb384ec7bf990fc338c96020"
      }
     },
     "fd4bc391343a4d3c99d1be30ca2f6ace": {
      "model_module": "@jupyter-widgets/controls",
      "model_module_version": "1.5.0",
      "model_name": "ButtonModel",
      "state": {
       "description": "Download image",
       "layout": "IPY_MODEL_d28a32c1e57042bf93c81348de3ee52a",
       "style": "IPY_MODEL_e6373d253ed247e39406a3770552e619",
       "tooltip": "Download current frame to your local PC"
      }
     },
     "fec8b3a5eb6b493982cfc26e2b1daa47": {
      "model_module": "@jupyter-widgets/base",
      "model_module_version": "1.2.0",
      "model_name": "LayoutModel",
      "state": {}
     },
     "ff9cad11da0143ecaadd30d956364321": {
      "model_module": "@jupyter-widgets/base",
      "model_module_version": "1.2.0",
      "model_name": "LayoutModel",
      "state": {}
     },
     "ff9ceece1a8e45f4b0a1cec813eb6e55": {
      "model_module": "@jupyter-widgets/controls",
      "model_module_version": "1.5.0",
      "model_name": "DescriptionStyleModel",
      "state": {
       "description_width": ""
      }
     }
    },
    "version_major": 2,
    "version_minor": 0
   }
  }
 },
 "nbformat": 4,
 "nbformat_minor": 5
}

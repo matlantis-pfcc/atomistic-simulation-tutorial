{
 "cells": [
  {
   "cell_type": "markdown",
   "id": "ac999656-69be-4681-be7d-0cfdd82737c8",
   "metadata": {},
   "source": [
    "# Vibration Analysis\n",
    "\n",
    "In the previous chapters, we have studied the various energies that can be obtained from locally stable structures.\n",
    "\n",
    "In this chapter, we will look at the physical properties obtained by analyzing the curvature of the PES (Potential Energy Surface) around the local minimum.\n",
    "\n",
    "First, let's look at the vibration analysis for systems without periodic boundaries (e.g., organic molecules). <br/>\n",
    "The physical property obtained from the vibration analysis can be measured in reality with, such as IR spectra."
   ]
  },
  {
   "cell_type": "markdown",
   "id": "c74dfb41-613a-46ac-8a41-700d97b670f1",
   "metadata": {},
   "source": [
    "## Harmonic approximation\n",
    "\n",
    "Let us consider approximating the potential energy $V$ around a local stable point, which we have obtained using `Calculator`.\n",
    "\n",
    "The one-variable function $f(x)$ around a given point $x_0$ can be expressed as follows using the Taylor expansion\n",
    "\n",
    "$$ f(x) = f(x_0) + f'(x_0) \\Delta x + \\frac{1}{2} f''(x_0) \\Delta x^2 + \\cdots $$\n",
    "\n",
    "where $\\Delta x = x - x_0$.\n",
    "\n",
    "Similarly, the multivariable function $f(\\mathbf{x})$ can be expressed as\n",
    "\n",
    "$$ f(\\mathbf{x}) = f(\\mathbf{x_0}) +　\\sum_i \\frac{\\partial f(\\mathbf{x_0})}{\\partial x_i} \\Delta \\mathbf{x}_i + \\frac{1}{2} \\sum_{ij} \\frac{\\partial^2 f(\\mathbf{x_0})}{\\partial x_i \\partial x_j} \\Delta \\mathbf{x}_i \\Delta \\mathbf{x}_j + \\cdots $$\n",
    "\n",
    "where $\\Delta \\mathbf{x} = \\mathbf{x} - \\mathbf{x_0}$.\n",
    "\n",
    "Now, applying this equation to the potential energy $V(\\mathbf{r})$, at the point $\\mathbf{r_0}$ where the structure is stable. Since the force $\\mathbf{F}_i = \\frac{\\partial V(\\mathbf{r_0})}{\\partial r_i}$ is zero, the terms in the first derivative are zero. The expansion to the second order yields\n",
    "\n",
    "$$ V(\\mathbf{r}) \\approx V(\\mathbf{r_0}) +　\\frac{1}{2} \\sum_{ij} \\frac{\\partial^2 V(\\mathbf{r_0})}{\\partial r_i \\partial r_j} \\Delta \\mathbf{r}_i \\Delta \\mathbf{r}_j $$\n",
    "\n",
    "The second derivative of energy, $\\frac{\\partial^2 V(\\mathbf{r_0})}{\\partial r_i \\partial r_j}$, is called **Hessian** or **force constant matrix**.\n",
    "\n",
    "The potential energy surface that considers only second-order terms has the same energy as a system that is connected by springs, and thus, it is called the harmonic approximation.\n",
    "\n",
    "The following example is shown in [5-9 harmonic approxmation – Shinshu Univ., Physical Chemistry Lab., Adsorption Group](https://science.shinshu-u.ac.jp/~tiiyama/?page_id=13288&page=2).\n",
    "The red line represents the Morse potential $D(1-e^{- \\beta x})^2$, and the blue line represents the harmonic oscillator potential $(1/2)kx^2$ centered at the stable point at $x=0$. \n",
    "It can be seen that the approximation holds to some extent near $x=0$.\n",
    "\n",
    "<figure style=\"width: 500px\">\n",
    "　　　　<img src=\"https://i0.wp.com/science.shinshu-u.ac.jp/~tiiyama/wp-content/uploads/2019/02/morse1.png?w=600&ssl=1\"/>\n",
    "</figure>\n",
    "\n",
    "Figure 1. Morse potential (red line) and harmonic oscillator potential (blue line)<br/>\n",
    "Cite from [Shinshu Univ., Physical Chemistry Lab., Adsorption Group Iiyama & Futamura Laboratory](https://science.shinshu-u.ac.jp/~tiiyama/?page_id=13288&page=2)."
   ]
  },
  {
   "cell_type": "markdown",
   "id": "19e81473-03ee-44a1-be3b-f290787fbd83",
   "metadata": {},
   "source": [
    "## Vibration\n",
    "\n",
    "The potential energy $V(\\mathbf{r})$ is a $3N$-dimensional function for a system containing $N$ atoms because each atom has three degrees of freedom in $x, y, z$.\n",
    "Hence, Hessian $\\frac{\\partial^2 V(\\mathbf{r_0})}{\\partial r_i \\partial r_j}$ is a $3N \\times 3N$-dimensional matrix.\n",
    "By diagonalizing the Hessian matrix, $3N$ eigenvalues and eigenvectors are obtained.\n",
    "\n",
    "Each eigenvalue corresponds to the strength of the spring $k$ and each eigenvector corresponds to the direction of the spring, i.e. vibration mode.\n",
    "Among the $3N$ degrees of freedom, there are 3 degrees of freedom that represent the translational motion of the entire molecule. In addition, the number of degrees of freedom for the rotation of the entire molecule around its center of mass is 2 for linear molecules and 3 for nonlinear molecules.\n",
    "Finally, The number of vibration modes (reference vibrations) is as follows after subtracting the translational and rotational degrees of freedom.\n",
    "\n",
    " - Linear molecule: $3N-5$ \n",
    " - Nonlinear molecule: $3N-6$\n",
    "\n",
    "Let's look at examples. The `Vibration` module in ASE can be used to perform vibration analysis.\n",
    "\n",
    " - https://wiki.fysik.dtu.dk/ase//ase/vibrations/vibrations.html\n"
   ]
  },
  {
   "cell_type": "markdown",
   "id": "7d2f481d-0ce4-4592-b331-4d7b753796e9",
   "metadata": {},
   "source": [
    "### H2O\n",
    "\n",
    "Since H2O is a nonlinear molecule consisting of three atoms, there should be six translational and rotational degrees of freedom and three vibration modes.\n",
    "\n",
    "When performing a vibration analysis, we first optimize the structure of the system till the force is zero."
   ]
  },
  {
   "cell_type": "code",
   "execution_count": 1,
   "id": "11a58985-04fa-4c78-a2e6-dacf16b00658",
   "metadata": {},
   "outputs": [
    {
     "name": "stdout",
     "output_type": "stream",
     "text": [
      "       Step     Time          Energy          fmax\n",
      "LBFGS:    0 14:27:58      -10.020079        0.228034\n",
      "LBFGS:    1 14:27:58      -10.020927        0.104374\n",
      "LBFGS:    2 14:27:58      -10.021161        0.071815\n",
      "LBFGS:    3 14:27:58      -10.021430        0.001420\n",
      "LBFGS:    4 14:27:58      -10.021427        0.000039\n"
     ]
    },
    {
     "data": {
      "text/plain": [
       "True"
      ]
     },
     "execution_count": 1,
     "metadata": {},
     "output_type": "execute_result"
    }
   ],
   "source": [
    "from ase.build import molecule\n",
    "from ase.optimize import LBFGS, BFGS, FIRE\n",
    "import pfp_api_client\n",
    "from pfp_api_client.pfp.calculators.ase_calculator import ASECalculator\n",
    "from pfp_api_client.pfp.estimator import Estimator, EstimatorCalcMode\n",
    "\n",
    "estimator = Estimator(calc_mode=EstimatorCalcMode.CRYSTAL, model_version=\"v2.0.0\")\n",
    "calculator = ASECalculator(estimator)\n",
    "atoms = molecule(\"H2O\")\n",
    "atoms.calc = calculator\n",
    "LBFGS(atoms).run(fmax=0.0001)"
   ]
  },
  {
   "cell_type": "markdown",
   "id": "d1ec6664-c6c3-47a6-8a39-e57c3266d876",
   "metadata": {},
   "source": [
    "The vibration modes can be calculated with the `Vibrations` of ASE.\n",
    "In this module, Hessian is approximately calculated from the difference of the force when the position of the atom is slightly changed, as shown in the following equation.\n",
    "\n",
    "$$\\frac{\\partial^2 V(\\mathbf{r_0})}{\\partial r_i \\partial r_j} \\approx \\frac{F(\\mathbf{r_0} + \\Delta r_i)_j - F(\\mathbf{r_0})_j}{|\\Delta{r_i}|} $$\n",
    "\n",
    "Here, $\\Delta{r_i}$ is a vector that denotes the slight change of the `i`th coordinates.\n",
    "The `vib.run()` perform the above calculation and diagonalize Hessian, and `vib.summary()` outputs the square root of the eigenvalues.\n",
    "\n",
    "The `vib.run()` creates the directory specified by `name` and caches the calculation results.\n",
    "Therefore, if a cache file remains when the next calculation is performed, the new calculation result will not be reflected.\n",
    "Cached files can be deleted with `vib.clean()`."
   ]
  },
  {
   "cell_type": "code",
   "execution_count": 2,
   "id": "36595ebd-80ea-4bcc-b469-f360f0da8279",
   "metadata": {},
   "outputs": [
    {
     "name": "stdout",
     "output_type": "stream",
     "text": [
      "---------------------\n",
      "  #    meV     cm^-1\n",
      "---------------------\n",
      "  0    6.3i     50.5i\n",
      "  1    0.2i      1.6i\n",
      "  2    0.1i      0.6i\n",
      "  3    0.1i      0.5i\n",
      "  4    3.3      26.5\n",
      "  5    3.5      28.3\n",
      "  6  202.6    1634.4\n",
      "  7  463.5    3738.1\n",
      "  8  474.0    3823.4\n",
      "---------------------\n",
      "Zero-point energy: 0.573 eV\n"
     ]
    }
   ],
   "source": [
    "from ase.vibrations import Vibrations\n",
    "\n",
    "vib = Vibrations(atoms, indices=None, delta=0.01, name=\"vib-h2o\", nfree=2)\n",
    "vib.clean()\n",
    "vib.run()\n",
    "vib.summary()"
   ]
  },
  {
   "cell_type": "markdown",
   "id": "319eae21-052e-488d-9b7a-e9395e1bcfdb",
   "metadata": {},
   "source": [
    "The results show that the eigenenergies of the `#0` to `#5` modes, which actually correspond to translational and rotational modes, are almost zero. <br/>\n",
    "We also see that the eigenenergies of `#6-#8` modes are greater than zero.\n",
    "\n",
    "[Note]\n",
    "\n",
    "The eighvalue with \"i\" are imaginary number. <br/>\n",
    "It indicates an upward convex quadratic form if we expressed the potential energy surface as a quadratic function. The existence of an imaginary eigenvalue suggests the existence of a point with even lower energy. It is caused by the undesirable behavior around the local stable point during structural optimization.\n",
    "However, this time the value is not large and can be regarded as almost zero."
   ]
  },
  {
   "cell_type": "markdown",
   "id": "954edbd9-8c45-406c-81d2-4832f10083c3",
   "metadata": {},
   "source": [
    "Let's look at each vibration mode.\n",
    "\n",
    "Using `vib.write_mode()`, a trajectory file is created for each vibration mode under the current directory with the name specified by `name`."
   ]
  },
  {
   "cell_type": "code",
   "execution_count": 3,
   "id": "2e490775-7150-40f0-a1b9-586b84c80e4b",
   "metadata": {},
   "outputs": [],
   "source": [
    "vib.write_mode()"
   ]
  },
  {
   "cell_type": "markdown",
   "id": "6f323366-9a4d-426d-b7ba-4504b66b4014",
   "metadata": {},
   "source": [
    "In the following code, you can see how each vibration mode behaves by changing the value of mode from 0 to 8.\n",
    "\n",
    "In fact, the values of mode from 0 to 5 indicate translational or rotational motion, while the values from 6 to 8 show that the vibration modes are described as follows.\n",
    "\n",
    "- mode 6: Vibration in which the angle of the H2O changes (bending vibration)\n",
    "- mode 7: Vibration in which the bond length between HOs changes simultaneously (symmetric stretch vibration)\n",
    "- mode 8: Vibration in which the bond lengths between HOs change alternately (asymmetric stretch vibration)\n",
    "\n",
    "\n",
    "Each vibration can also be confirmed by IR spectra.<br/>\n",
    "You can also refer below for the reference.\n",
    "\n",
    " - [Vibration Modes of Water](https://www.chem.purdue.edu/jmol/vibs/h2o.html)"
   ]
  },
  {
   "cell_type": "code",
   "execution_count": 4,
   "id": "3511d1b8-7d45-4792-8675-b64a12715b54",
   "metadata": {},
   "outputs": [
    {
     "data": {
      "application/vnd.jupyter.widget-view+json": {
       "model_id": "b3254de409ff4128ae4c13d493c78155",
       "version_major": 2,
       "version_minor": 0
      },
      "text/plain": []
     },
     "metadata": {},
     "output_type": "display_data"
    },
    {
     "data": {
      "application/vnd.jupyter.widget-view+json": {
       "model_id": "c9558cfc786a4b688604870a4e950015",
       "version_major": 2,
       "version_minor": 0
      },
      "text/plain": [
       "HBox(children=(NGLWidget(max_frame=29), VBox(children=(Dropdown(description='Show', options=('All', 'H', 'O'),…"
      ]
     },
     "metadata": {},
     "output_type": "display_data"
    }
   ],
   "source": [
    "from ase.io.trajectory import Trajectory\n",
    "from pfcc_extras.visualize.view import view_ngl\n",
    "\n",
    "mode = 6\n",
    "traj = Trajectory(f\"vib-h2o.{mode}.traj\")\n",
    "view_ngl(traj, representations=[\"ball+stick\"])"
   ]
  },
  {
   "cell_type": "markdown",
   "id": "565a15ad-ce3b-45b9-b8fc-5e3132ef1c81",
   "metadata": {},
   "source": [
    "You can also save each vibration mode as an animated png file as follows"
   ]
  },
  {
   "cell_type": "code",
   "execution_count": 5,
   "id": "d2c896fd-d550-412e-806a-80ae359be60e",
   "metadata": {},
   "outputs": [
    {
     "data": {
      "application/vnd.jupyter.widget-view+json": {
       "model_id": "73039bc2734140c88171fa3c3e962cec",
       "version_major": 2,
       "version_minor": 0
      },
      "text/plain": [
       "  0%|          | 0/9 [00:00<?, ?it/s]"
      ]
     },
     "metadata": {},
     "output_type": "display_data"
    },
    {
     "name": "stderr",
     "output_type": "stream",
     "text": [
      "[Parallel(n_jobs=16)]: Using backend ThreadingBackend with 16 concurrent workers.\n",
      "[Parallel(n_jobs=16)]: Done  30 out of  30 | elapsed:    4.3s finished\n",
      "[Parallel(n_jobs=16)]: Using backend ThreadingBackend with 16 concurrent workers.\n",
      "[Parallel(n_jobs=16)]: Done  30 out of  30 | elapsed:    4.6s finished\n",
      "[Parallel(n_jobs=16)]: Using backend ThreadingBackend with 16 concurrent workers.\n",
      "[Parallel(n_jobs=16)]: Done  30 out of  30 | elapsed:    4.2s finished\n",
      "[Parallel(n_jobs=16)]: Using backend ThreadingBackend with 16 concurrent workers.\n",
      "[Parallel(n_jobs=16)]: Done  30 out of  30 | elapsed:    3.3s finished\n",
      "[Parallel(n_jobs=16)]: Using backend ThreadingBackend with 16 concurrent workers.\n",
      "[Parallel(n_jobs=16)]: Done  30 out of  30 | elapsed:    4.2s finished\n",
      "[Parallel(n_jobs=16)]: Using backend ThreadingBackend with 16 concurrent workers.\n",
      "[Parallel(n_jobs=16)]: Done  30 out of  30 | elapsed:    4.2s finished\n",
      "[Parallel(n_jobs=16)]: Using backend ThreadingBackend with 16 concurrent workers.\n",
      "[Parallel(n_jobs=16)]: Done  30 out of  30 | elapsed:    4.2s finished\n",
      "[Parallel(n_jobs=16)]: Using backend ThreadingBackend with 16 concurrent workers.\n",
      "[Parallel(n_jobs=16)]: Done  30 out of  30 | elapsed:    4.1s finished\n",
      "[Parallel(n_jobs=16)]: Using backend ThreadingBackend with 16 concurrent workers.\n",
      "[Parallel(n_jobs=16)]: Done  30 out of  30 | elapsed:    4.5s finished\n"
     ]
    }
   ],
   "source": [
    "from tqdm.auto import tqdm\n",
    "from pfcc_extras.visualize.povray import traj_to_apng\n",
    "\n",
    "\n",
    "for mode in tqdm(range(9)):\n",
    "    traj = Trajectory(f\"vib-h2o.{mode}.traj\")\n",
    "    traj_to_apng(traj, f\"output/vib-h2o.{mode}.png\", rotation=\"90x,90y,180z\", clean=True, n_jobs=16)"
   ]
  },
  {
   "cell_type": "markdown",
   "id": "1eb042a2-8a58-41f8-97ba-6e5e1a57e624",
   "metadata": {},
   "source": [
    "**H2O vibration modes**\n",
    "\n",
    "<div style=\"clear:both;display:table\">\n",
    "<figure style=\"width:30%;float:left;margin:10px\">\n",
    "  <img src=\"./output/vib-h2o.6.png\" alt=\"mode6\">\n",
    "  <figcaption>Mode #6</figcaption>\n",
    "</figure>\n",
    "<figure style=\"width:30%;float:left;margin:10px\">\n",
    "  <img src=\"./output/vib-h2o.7.png\" alt=\"mode7\">\n",
    "  <figcaption>Mode #7</figcaption>\n",
    "</figure>\n",
    "<figure style=\"width:30%;float:left;margin:10px\">\n",
    "  <img src=\"./output/vib-h2o.8.png\" alt=\"mode8\">\n",
    "  <figcaption>Mode #8</figcaption>\n",
    "</figure>\n",
    "</div>"
   ]
  },
  {
   "cell_type": "markdown",
   "id": "11aa12e4-fb04-4e6c-a48c-bc09ac25a0a2",
   "metadata": {},
   "source": [
    "### CO2\n",
    "\n",
    "CO2 consists of the same three atoms as H2O, but is a linear molecule. <br/>\n",
    "Therefore, it is expected to have five translational and rotational modes and four vibration modes.\n",
    "\n",
    "Let's check it out here. As before, we will perform the structural optimization before the vibration analysis."
   ]
  },
  {
   "cell_type": "code",
   "execution_count": 6,
   "id": "81ff7ec8-0b6c-4a7a-98ac-17713b832c57",
   "metadata": {},
   "outputs": [
    {
     "name": "stdout",
     "output_type": "stream",
     "text": [
      "       Step     Time          Energy          fmax\n",
      "LBFGS:    0 14:29:01      -17.706264        0.245236\n",
      "LBFGS:    1 14:29:01      -17.706730        0.111090\n",
      "LBFGS:    2 14:29:01      -17.706863        0.001320\n",
      "LBFGS:    3 14:29:01      -17.706856        0.000014\n",
      "---------------------\n",
      "  #    meV     cm^-1\n",
      "---------------------\n",
      "  0    0.6i      4.7i\n",
      "  1    0.6i      4.7i\n",
      "  2    0.2i      2.0i\n",
      "  3    0.9       7.2\n",
      "  4    0.9       7.2\n",
      "  5   71.0     572.6\n",
      "  6   71.0     572.6\n",
      "  7  165.0    1330.9\n",
      "  8  289.2    2332.6\n",
      "---------------------\n",
      "Zero-point energy: 0.299 eV\n"
     ]
    }
   ],
   "source": [
    "atoms = molecule(\"CO2\")\n",
    "atoms.calc = calculator\n",
    "LBFGS(atoms).run(fmax=0.001)\n",
    "vib = Vibrations(atoms, indices=None, delta=0.01, name=\"vib-co2\", nfree=2)\n",
    "vib.clean()\n",
    "vib.run()\n",
    "vib.summary()"
   ]
  },
  {
   "cell_type": "code",
   "execution_count": 7,
   "id": "9901e5f7-fa62-43e5-b0f8-ccc4127f749d",
   "metadata": {},
   "outputs": [],
   "source": [
    "vib.write_mode()"
   ]
  },
  {
   "cell_type": "markdown",
   "id": "90cf99ac-b628-4e0c-86b0-ed1f392cb92c",
   "metadata": {},
   "source": [
    "In fact, the five modes corresponding to translation and rotation (`#0-#4`) have almost zero eigenenergy, while the eigenmodes corresponding to vibration (`#5-#8`) have values greater than zero.\n",
    "\n",
    "Let us look at them. The vibration of `#5` and `#6` have the same eigenenergies, indicating that the vibration modes (= eigenvectors) are degenerate.\n",
    "\n",
    " - mode 5, 6: Vibrations that change the angle of CO2, showing degenerate changes in the two directions.\n",
    " - mode 7: Vibrations in which the bond lengths between the COs change simultaneously\n",
    " - mode 8: Vibrations in which the bond lengths between the COs change alternately."
   ]
  },
  {
   "cell_type": "code",
   "execution_count": 8,
   "id": "d1d44aea-c82b-464f-8637-80247ed51344",
   "metadata": {},
   "outputs": [
    {
     "data": {
      "application/vnd.jupyter.widget-view+json": {
       "model_id": "a1886492940f4b6d915dafdfbe90511b",
       "version_major": 2,
       "version_minor": 0
      },
      "text/plain": [
       "HBox(children=(NGLWidget(max_frame=29), VBox(children=(Dropdown(description='Show', options=('All', 'C', 'O'),…"
      ]
     },
     "metadata": {},
     "output_type": "display_data"
    }
   ],
   "source": [
    "from ase.io.trajectory import Trajectory\n",
    "from pfcc_extras.visualize.view import view_ngl\n",
    "\n",
    "mode = 5\n",
    "traj = Trajectory(f\"vib-co2.{mode}.traj\")\n",
    "view_ngl(traj, representations=[\"ball+stick\"])"
   ]
  },
  {
   "cell_type": "code",
   "execution_count": 9,
   "id": "63be7161-1b3e-4ecb-839e-fc133e0c8e1b",
   "metadata": {},
   "outputs": [
    {
     "data": {
      "application/vnd.jupyter.widget-view+json": {
       "model_id": "b64c5b7492e3466fbaa90d1616d6c578",
       "version_major": 2,
       "version_minor": 0
      },
      "text/plain": [
       "  0%|          | 0/9 [00:00<?, ?it/s]"
      ]
     },
     "metadata": {},
     "output_type": "display_data"
    },
    {
     "name": "stderr",
     "output_type": "stream",
     "text": [
      "[Parallel(n_jobs=16)]: Using backend ThreadingBackend with 16 concurrent workers.\n",
      "[Parallel(n_jobs=16)]: Done  30 out of  30 | elapsed:    4.1s finished\n",
      "[Parallel(n_jobs=16)]: Using backend ThreadingBackend with 16 concurrent workers.\n",
      "[Parallel(n_jobs=16)]: Done  30 out of  30 | elapsed:    4.0s finished\n",
      "[Parallel(n_jobs=16)]: Using backend ThreadingBackend with 16 concurrent workers.\n",
      "[Parallel(n_jobs=16)]: Done  30 out of  30 | elapsed:    4.1s finished\n",
      "[Parallel(n_jobs=16)]: Using backend ThreadingBackend with 16 concurrent workers.\n",
      "[Parallel(n_jobs=16)]: Done  30 out of  30 | elapsed:    4.6s finished\n",
      "[Parallel(n_jobs=16)]: Using backend ThreadingBackend with 16 concurrent workers.\n",
      "[Parallel(n_jobs=16)]: Done  30 out of  30 | elapsed:    4.5s finished\n",
      "[Parallel(n_jobs=16)]: Using backend ThreadingBackend with 16 concurrent workers.\n",
      "[Parallel(n_jobs=16)]: Done  30 out of  30 | elapsed:    4.0s finished\n",
      "[Parallel(n_jobs=16)]: Using backend ThreadingBackend with 16 concurrent workers.\n",
      "[Parallel(n_jobs=16)]: Done  30 out of  30 | elapsed:    4.1s finished\n",
      "[Parallel(n_jobs=16)]: Using backend ThreadingBackend with 16 concurrent workers.\n",
      "[Parallel(n_jobs=16)]: Done  30 out of  30 | elapsed:    3.9s finished\n",
      "[Parallel(n_jobs=16)]: Using backend ThreadingBackend with 16 concurrent workers.\n",
      "[Parallel(n_jobs=16)]: Done  30 out of  30 | elapsed:    3.9s finished\n"
     ]
    }
   ],
   "source": [
    "from tqdm.auto import tqdm\n",
    "from pfcc_extras.visualize.povray import traj_to_apng\n",
    "\n",
    "\n",
    "for mode in tqdm(range(9)):\n",
    "    traj = Trajectory(f\"vib-co2.{mode}.traj\")\n",
    "    traj_to_apng(traj, f\"output/vib-co2.{mode}.png\", rotation=\"30x,30y,30z\", clean=True, n_jobs=16)"
   ]
  },
  {
   "cell_type": "markdown",
   "id": "900fb9ef-5af2-48fc-99fe-af182a08dba0",
   "metadata": {},
   "source": [
    "**CO2 vibration modes**\n",
    "\n",
    "<div style=\"clear:both;display:table\">\n",
    "<figure style=\"width:23%;float:left;margin:1px\">\n",
    "  <img src=\"./output/vib-co2.5.png\" alt=\"mode5\">\n",
    "  <figcaption>Mode #5</figcaption>\n",
    "</figure>\n",
    "<figure style=\"width:23%;float:left;margin:1px\">\n",
    "  <img src=\"./output/vib-co2.6.png\" alt=\"mode6\">\n",
    "  <figcaption>Mode #6</figcaption>\n",
    "</figure>\n",
    "<figure style=\"width:23%;float:left;margin:1px\">\n",
    "  <img src=\"./output/vib-co2.7.png\" alt=\"mode7\">\n",
    "  <figcaption>Mode #7</figcaption>\n",
    "</figure>\n",
    "<figure style=\"width:23%;float:left;margin:1px\">\n",
    "  <img src=\"./output/vib-co2.8.png\" alt=\"mode8\">\n",
    "  <figcaption>Mode #8</figcaption>\n",
    "</figure>\n",
    "</div>"
   ]
  },
  {
   "cell_type": "markdown",
   "id": "a0910291-b665-44a1-b0df-1188ae169964",
   "metadata": {},
   "source": [
    "### CH3OH\n",
    "\n",
    "Let us go on to the same vibration analysis with CH3OH, a molecule with a slightly more complex shape.\n",
    "\n",
    "Since it is a nonlinear molecule with six atoms, we see that the first six are translational and vibration modes, and the remaining 12 are vibration modes."
   ]
  },
  {
   "cell_type": "code",
   "execution_count": 10,
   "id": "54b7bead-5831-4e94-be59-44e3c68019ee",
   "metadata": {},
   "outputs": [
    {
     "name": "stdout",
     "output_type": "stream",
     "text": [
      "       Step     Time          Energy          fmax\n",
      "LBFGS:    0 14:29:55      -22.437712        0.257620\n",
      "LBFGS:    1 14:29:55      -22.440618        0.160300\n",
      "LBFGS:    2 14:29:55      -22.442345        0.091651\n",
      "LBFGS:    3 14:29:55      -22.442566        0.079826\n",
      "LBFGS:    4 14:29:55      -22.442928        0.047177\n",
      "LBFGS:    5 14:29:55      -22.443044        0.027284\n",
      "LBFGS:    6 14:29:56      -22.443096        0.021147\n",
      "LBFGS:    7 14:29:56      -22.443152        0.020779\n",
      "LBFGS:    8 14:29:56      -22.443180        0.014373\n",
      "LBFGS:    9 14:29:56      -22.443184        0.009071\n",
      "LBFGS:   10 14:29:56      -22.443183        0.007169\n",
      "LBFGS:   11 14:29:56      -22.443192        0.009089\n",
      "LBFGS:   12 14:29:56      -22.443198        0.005556\n",
      "LBFGS:   13 14:29:56      -22.443203        0.001445\n",
      "LBFGS:   14 14:29:56      -22.443197        0.000872\n",
      "---------------------\n",
      "  #    meV     cm^-1\n",
      "---------------------\n",
      "  0    1.4i     11.4i\n",
      "  1    0.9i      7.1i\n",
      "  2    0.2i      1.4i\n",
      "  3    0.1i      1.0i\n",
      "  4    0.0i      0.2i\n",
      "  5    1.2       9.8\n",
      "  6   33.1     267.2\n",
      "  7  123.2     993.3\n",
      "  8  129.4    1043.9\n",
      "  9  137.8    1111.6\n",
      " 10  161.4    1301.6\n",
      " 11  169.7    1368.5\n",
      " 12  172.0    1387.3\n",
      " 13  177.8    1434.4\n",
      " 14  361.7    2917.1\n",
      " 15  369.0    2976.1\n",
      " 16  376.3    3034.7\n",
      " 17  463.2    3736.2\n",
      "---------------------\n",
      "Zero-point energy: 1.338 eV\n"
     ]
    }
   ],
   "source": [
    "atoms = molecule(\"CH3OH\")\n",
    "atoms.calc = calculator\n",
    "LBFGS(atoms).run(fmax=0.001)\n",
    "vib = Vibrations(atoms, indices=None, delta=0.01, name=\"vib-ch3oh\", nfree=2)\n",
    "vib.clean()\n",
    "vib.run()\n",
    "vib.summary()"
   ]
  },
  {
   "cell_type": "markdown",
   "id": "9ea557b6-f5a2-46d7-b0fd-11f76e3129ed",
   "metadata": {},
   "source": [
    "Let's take a look at each vibration mode. \n",
    "We can see that the whole atom moves in a complex manner for some vibration modes."
   ]
  },
  {
   "cell_type": "code",
   "execution_count": 11,
   "id": "769de471-77cd-479c-b5e6-184f5f8a3ef3",
   "metadata": {},
   "outputs": [],
   "source": [
    "vib.write_mode()"
   ]
  },
  {
   "cell_type": "code",
   "execution_count": 12,
   "id": "1508d789-c54f-48f0-b2e7-8d36d1da402c",
   "metadata": {},
   "outputs": [
    {
     "data": {
      "application/vnd.jupyter.widget-view+json": {
       "model_id": "915dc074a307403cafa7cc162a4cd5ad",
       "version_major": 2,
       "version_minor": 0
      },
      "text/plain": [
       "HBox(children=(NGLWidget(max_frame=29), VBox(children=(Dropdown(description='Show', options=('All', 'H', 'C', …"
      ]
     },
     "metadata": {},
     "output_type": "display_data"
    }
   ],
   "source": [
    "from ase.io.trajectory import Trajectory\n",
    "from pfcc_extras.visualize.view import view_ngl\n",
    "\n",
    "mode = 10\n",
    "traj = Trajectory(f\"vib-ch3oh.{mode}.traj\")\n",
    "view_ngl(traj, representations=[\"ball+stick\"])"
   ]
  },
  {
   "cell_type": "markdown",
   "id": "3175ca08-d2d5-4313-be63-7b67f19d1777",
   "metadata": {},
   "source": [
    "### CH4\n",
    "\n",
    "Finally, let us look at CH4 as an example of a molecule with high symmetry.\n",
    "\n",
    "Since it is a nonlinear molecule with five atoms, we see that the first six are translational and rotational modes and the remaining nine are vibration modes."
   ]
  },
  {
   "cell_type": "code",
   "execution_count": 13,
   "id": "fe98e5b5-c326-42cf-9c4f-9660dc91aa7a",
   "metadata": {},
   "outputs": [
    {
     "name": "stdout",
     "output_type": "stream",
     "text": [
      "       Step     Time          Energy          fmax\n",
      "LBFGS:    0 14:29:58      -18.153517        0.228951\n",
      "LBFGS:    1 14:29:58      -18.155784        0.119017\n",
      "LBFGS:    2 14:29:58      -18.156646        0.002207\n",
      "LBFGS:    3 14:29:58      -18.156650        0.000025\n",
      "---------------------\n",
      "  #    meV     cm^-1\n",
      "---------------------\n",
      "  0    3.5i     27.9i\n",
      "  1    3.5i     27.9i\n",
      "  2    3.5i     27.9i\n",
      "  3    0.3i      2.1i\n",
      "  4    0.3i      2.1i\n",
      "  5    0.3i      2.1i\n",
      "  6  141.7    1142.6\n",
      "  7  141.7    1142.6\n",
      "  8  141.7    1142.6\n",
      "  9  187.2    1509.9\n",
      " 10  187.2    1509.9\n",
      " 11  368.1    2968.8\n",
      " 12  379.8    3063.1\n",
      " 13  379.8    3063.1\n",
      " 14  379.8    3063.1\n",
      "---------------------\n",
      "Zero-point energy: 1.153 eV\n"
     ]
    }
   ],
   "source": [
    "atoms = molecule(\"CH4\")\n",
    "atoms.calc = calculator\n",
    "LBFGS(atoms).run(fmax=0.001)\n",
    "vib = Vibrations(atoms, indices=None, delta=0.01, name=\"vib-ch4\", nfree=2)\n",
    "vib.clean()\n",
    "vib.run()\n",
    "vib.summary()"
   ]
  },
  {
   "cell_type": "code",
   "execution_count": 14,
   "id": "b9334771-2c72-4e69-8e34-482aa5dfae16",
   "metadata": {},
   "outputs": [],
   "source": [
    "vib.write_mode()"
   ]
  },
  {
   "cell_type": "markdown",
   "id": "4d8a9b17-7b33-4467-adbf-e70d632d8b8a",
   "metadata": {},
   "source": [
    "## Physical properties calculated after vibration analysis\n",
    "\n",
    "The following physical properties can be calculated by using the results of vibration analysis\n",
    "\n",
    "1. Thermochemistry calculation: This method can be used to calculate enthalpy, free energy, etc. under the ideal gas approximation. Details are given in later chapters. \n",
    "2. IR spectra wavenumber: Based on the vibrational analysis, we can identify the absorption wavenumbers of IR-active vibrational modes."
   ]
  },
  {
   "cell_type": "markdown",
   "id": "219d9221-dcf8-4ee8-8d5c-bb5dacc1258a",
   "metadata": {},
   "source": [
    "## [Column] Effective range of harmonic approximation\n",
    "\n",
    "Since the vibration analysis in this section and phonon analysis in the next section are based on the harmonic approximation, it is important to understand the structures and cases for which this approximation is valid.\n",
    "The harmonic approximation is based on the potential energy with spring $1/2 k x^2$, to represent the potential energy near the stable structure. As shown in the figure below, the larger displacement of each atom from the origin, the larger force it will receive to pull it back to the origin.\n",
    "In other words, it is valid for structures such as solids, where the atoms stay in their positions, but **not for fluids or gases, where each atom is not in a fixed place to begin with**.\n",
    "\n",
    "<figure style=\"width: 350px\">\n",
    "　　　　<img src=\"../assets/harmonic_approx_bulk.png\"/>\n",
    "  <figcaption>\n",
    "      Diagram of an atomic system which the harmonic approximation is applied\n",
    "  </figcaption>\n",
    "</figure>\n",
    "\n",
    "This is also related to temperature. When a substance is above its melting point and in a liquid state, the harmonic approximation is not valid. <br/>\n",
    "As a rule of thumb, the accuracy of the harmonic oscillator approximation drops significantly as one approaches the melting point and it is only valid **in the low temperature range**."
   ]
  },
  {
   "cell_type": "markdown",
   "id": "5699566e-e5d8-4682-b15f-a18e7af6b6cb",
   "metadata": {},
   "source": [
    "## Next section\n",
    "\n",
    "In this section, we have performed vibration analysis for systems without periodic boundary conditions, such as molecules.\n",
    "\n",
    "In the next section, we will deal with **phonon**, which describes vibration in a system with periodic boundary conditions, such as crystals."
   ]
  },
  {
   "cell_type": "markdown",
   "id": "878baf77-a7fb-47b3-b0bd-48e662841bf0",
   "metadata": {},
   "source": [
    "## Reference\n",
    "\n",
    " - [6. 振動解析](http://www.shinshu-u.ac.jp/faculty/engineering/chair/chem009/computer%20file/6_vibration.pdf)\n"
   ]
  }
 ],
 "metadata": {
  "kernelspec": {
   "display_name": "Python 3.9",
   "language": "python",
   "name": "python39"
  },
  "language_info": {
   "codemirror_mode": {
    "name": "ipython",
    "version": 3
   },
   "file_extension": ".py",
   "mimetype": "text/x-python",
   "name": "python",
   "nbconvert_exporter": "python",
   "pygments_lexer": "ipython3",
   "version": "3.9.16"
  },
  "widgets": {
   "application/vnd.jupyter.widget-state+json": {
    "state": {
     "005015deb8ed4e23b7d4574f2cbe25cb": {
      "model_module": "@jupyter-widgets/base",
      "model_module_version": "1.2.0",
      "model_name": "LayoutModel",
      "state": {}
     },
     "01c3d0e9e27b4a3186d2feffbc205709": {
      "model_module": "@jupyter-widgets/controls",
      "model_module_version": "1.5.0",
      "model_name": "DescriptionStyleModel",
      "state": {
       "description_width": ""
      }
     },
     "021f4fd25c40412a8a9559f4bf7252c0": {
      "model_module": "@jupyter-widgets/base",
      "model_module_version": "1.2.0",
      "model_name": "LayoutModel",
      "state": {}
     },
     "030d21b63cda4206b9c2ebbe6242b9cd": {
      "model_module": "@jupyter-widgets/controls",
      "model_module_version": "1.5.0",
      "model_name": "HBoxModel",
      "state": {
       "children": [
        "IPY_MODEL_ea90579000664cabb8ba47533b1ac488",
        "IPY_MODEL_feb821894e324b52930aa9b8eb6fdf52",
        "IPY_MODEL_385abeb1f7bd434ba99b4ddc1bfbca50"
       ],
       "layout": "IPY_MODEL_7430287cc69f46608e330fda5e28efab"
      }
     },
     "05cf49d7c1d94838be558c6f68e41215": {
      "model_module": "@jupyter-widgets/controls",
      "model_module_version": "1.5.0",
      "model_name": "ButtonModel",
      "state": {
       "description": "Save image",
       "layout": "IPY_MODEL_cb6f4b73fdd343cc98209f00fadf7004",
       "style": "IPY_MODEL_54c1e29abba2469aa1b057b9261c5c7b",
       "tooltip": "Save current frame to file.\nCurrently .png and .html are supported.\nIt takes a bit time, please be patient."
      }
     },
     "06e6b24e9d9e4550a167c16ba6e7bc2d": {
      "model_module": "@jupyter-widgets/controls",
      "model_module_version": "1.5.0",
      "model_name": "TextModel",
      "state": {
       "description": "Filename: ",
       "layout": "IPY_MODEL_4a7ae313c69f4e8e93f855fe402bee11",
       "style": "IPY_MODEL_66e2c18ccdcb4d8a8b2e1755897a0c1c",
       "value": "screenshot.png"
      }
     },
     "06e797d021164364ba0ac9bafcebc0c4": {
      "model_module": "@jupyter-widgets/controls",
      "model_module_version": "1.5.0",
      "model_name": "FloatSliderModel",
      "state": {
       "description": "Ball size",
       "layout": "IPY_MODEL_d8719fa0e8d54315990d48abd850ad1c",
       "max": 1.5,
       "step": 0.01,
       "style": "IPY_MODEL_38e12b99986c441f807d639e0fdbee41",
       "value": 0.5
      }
     },
     "081016e66791465a9b41c870e85aac5a": {
      "model_module": "@jupyter-widgets/controls",
      "model_module_version": "1.5.0",
      "model_name": "ButtonModel",
      "state": {
       "description": "Save image",
       "layout": "IPY_MODEL_490d123936f84040bb84759488b4f0e8",
       "style": "IPY_MODEL_726c33a2f11d48ffba98b4ea69f0c6e8",
       "tooltip": "Save current frame to file.\nCurrently .png and .html are supported.\nIt takes a bit time, please be patient."
      }
     },
     "082a10d9231c428781e87e3b5a89ce52": {
      "model_module": "@jupyter-widgets/controls",
      "model_module_version": "1.5.0",
      "model_name": "ButtonStyleModel",
      "state": {}
     },
     "087db63012f44fe7bd7bd9637d9f5c46": {
      "model_module": "@jupyter-widgets/base",
      "model_module_version": "1.2.0",
      "model_name": "LayoutModel",
      "state": {}
     },
     "0b3641c5887647e692ac1aa00c5054b5": {
      "model_module": "@jupyter-widgets/controls",
      "model_module_version": "1.5.0",
      "model_name": "CheckboxModel",
      "state": {
       "description": "Show force",
       "disabled": false,
       "layout": "IPY_MODEL_087db63012f44fe7bd7bd9637d9f5c46",
       "style": "IPY_MODEL_bd64b7ab25b1415e9648784a8c15e79f",
       "value": false
      }
     },
     "0ba0e390e5fc44ddb412134154787100": {
      "model_module": "@jupyter-widgets/controls",
      "model_module_version": "1.5.0",
      "model_name": "HBoxModel",
      "state": {
       "children": [
        "IPY_MODEL_6d46bac193e04c9ab373bb454214dfda",
        "IPY_MODEL_8c3533594c474ef783a362cc5243f2eb",
        "IPY_MODEL_206bd1264d5c43a4947a14acd44513b2"
       ],
       "layout": "IPY_MODEL_b322ed9b533d4515bdd4aeabf89418d0"
      }
     },
     "0d242ba36efe43a39d9f7ee7f3482e45": {
      "model_module": "@jupyter-widgets/controls",
      "model_module_version": "1.5.0",
      "model_name": "DescriptionStyleModel",
      "state": {
       "description_width": ""
      }
     },
     "0eacd23398624980aea1c1b07acb8610": {
      "model_module": "@jupyter-widgets/controls",
      "model_module_version": "1.5.0",
      "model_name": "LinkModel",
      "state": {
       "source": [
        "IPY_MODEL_ef3cecfbc74742e99161aa6ee2be2cd5",
        "value"
       ],
       "target": [
        "IPY_MODEL_cc4b886cc8424182b66db222839d18ab",
        "frame"
       ]
      }
     },
     "104971ef56594ba385109721497b22e1": {
      "model_module": "@jupyter-widgets/controls",
      "model_module_version": "1.5.0",
      "model_name": "VBoxModel",
      "state": {
       "children": [
        "IPY_MODEL_2ad6ca1d75854ee593d053553b6ad24a",
        "IPY_MODEL_77f3cc2cad4c4915bf055ff3eac3f900",
        "IPY_MODEL_fa9e7de4f20641f0a1256d45664573ab",
        "IPY_MODEL_58e54e62699c420583695759798b42b6",
        "IPY_MODEL_6948b0f053004c098b8c2f44bd1b1b12",
        "IPY_MODEL_402a95d8b76b4595a54ea8d51d85bb4d",
        "IPY_MODEL_0b3641c5887647e692ac1aa00c5054b5",
        "IPY_MODEL_5657d11c12bf4828a85cc0c2d84e8eaa",
        "IPY_MODEL_1089cef7e66249658a45c6cb821d998a",
        "IPY_MODEL_45ffaa8ea1f24cffa887d29a0e09b757",
        "IPY_MODEL_4dd3d6c997f94ad095607af518c31be6"
       ],
       "layout": "IPY_MODEL_b09b0c811d554f77b8fc593f053e220e"
      }
     },
     "1089cef7e66249658a45c6cb821d998a": {
      "model_module": "@jupyter-widgets/controls",
      "model_module_version": "1.5.0",
      "model_name": "CheckboxModel",
      "state": {
       "description": "Show charge",
       "disabled": false,
       "layout": "IPY_MODEL_22777df229fb43e98248cf5909de604b",
       "style": "IPY_MODEL_b0b73c3964de424c97bdb37f29a6d2e0",
       "value": false
      }
     },
     "10c8886156fe4965be423c5f04743b5d": {
      "model_module": "@jupyter-widgets/controls",
      "model_module_version": "1.5.0",
      "model_name": "SliderStyleModel",
      "state": {
       "description_width": ""
      }
     },
     "11170fe10523439d87299147decf67ca": {
      "model_module": "@jupyter-widgets/controls",
      "model_module_version": "1.5.0",
      "model_name": "IntSliderModel",
      "state": {
       "layout": "IPY_MODEL_fceba1d078ff4db4811380f906a63501",
       "max": 29,
       "style": "IPY_MODEL_ec5c0a7f83db4c409835a70ff7c4321a"
      }
     },
     "11e19e20d499417693572eb50e0a86f7": {
      "model_module": "@jupyter-widgets/controls",
      "model_module_version": "1.5.0",
      "model_name": "ButtonStyleModel",
      "state": {}
     },
     "144c8f7357cc47a7940b24005fcdfc05": {
      "model_module": "@jupyter-widgets/controls",
      "model_module_version": "1.5.0",
      "model_name": "ImageModel",
      "state": {
       "layout": "IPY_MODEL_021f4fd25c40412a8a9559f4bf7252c0",
       "width": "900.0"
      }
     },
     "14e76e8e0d7041e489425e998fa10868": {
      "model_module": "@jupyter-widgets/controls",
      "model_module_version": "1.5.0",
      "model_name": "IntSliderModel",
      "state": {
       "layout": "IPY_MODEL_9ab4bab1a59c40f883d707d322e23961",
       "max": 29,
       "style": "IPY_MODEL_7436cab4132743d587df6126e4e667be"
      }
     },
     "1cc00428c48e4ac8ae7668ca1427554c": {
      "model_module": "@jupyter-widgets/controls",
      "model_module_version": "1.5.0",
      "model_name": "FloatSliderModel",
      "state": {
       "description": "Force scale",
       "layout": "IPY_MODEL_d8c711fd2f8340abb41c10cfe0f016bc",
       "step": 0.1,
       "style": "IPY_MODEL_ca8a2b13e1e94e49a89dd7f3a51ae8b4",
       "value": 0.5
      }
     },
     "1e5905765aca48f19238fff91fcbfe98": {
      "model_module": "@jupyter-widgets/base",
      "model_module_version": "1.2.0",
      "model_name": "LayoutModel",
      "state": {}
     },
     "206bd1264d5c43a4947a14acd44513b2": {
      "model_module": "@jupyter-widgets/controls",
      "model_module_version": "1.5.0",
      "model_name": "HTMLModel",
      "state": {
       "layout": "IPY_MODEL_7922692e637c4878a5c1d682c2e23142",
       "style": "IPY_MODEL_39b219f7bab74916aa87f41c54e07f1e",
       "value": " 9/9 [00:48&lt;00:00,  4.93s/it]"
      }
     },
     "20894a6cd23440de966f359166f5a0ff": {
      "model_module": "@jupyter-widgets/output",
      "model_module_version": "1.0.0",
      "model_name": "OutputModel",
      "state": {
       "layout": "IPY_MODEL_eb43138c434047f48a42cd8a8f455548"
      }
     },
     "22777df229fb43e98248cf5909de604b": {
      "model_module": "@jupyter-widgets/base",
      "model_module_version": "1.2.0",
      "model_name": "LayoutModel",
      "state": {}
     },
     "23841bbd9cae4555bfd00008325ed70f": {
      "model_module": "@jupyter-widgets/base",
      "model_module_version": "1.2.0",
      "model_name": "LayoutModel",
      "state": {}
     },
     "23c69547ee9d4133a7e2bf3fcd16be9e": {
      "model_module": "@jupyter-widgets/controls",
      "model_module_version": "1.5.0",
      "model_name": "DropdownModel",
      "state": {
       "_options_labels": [
        " ",
        "picking",
        "random",
        "uniform",
        "atomindex",
        "residueindex",
        "chainindex",
        "modelindex",
        "sstruc",
        "element",
        "resname",
        "bfactor",
        "hydrophobicity",
        "value",
        "volume",
        "occupancy"
       ],
       "description": "Color scheme",
       "index": 9,
       "layout": "IPY_MODEL_79c13e8de63741cab3db0ef0b02ea68c",
       "style": "IPY_MODEL_cac4a6c806a742d2b7768b5e87fe9c05"
      }
     },
     "277c47a983d54b6d8e37d6ea3cb3efbd": {
      "model_module": "@jupyter-widgets/controls",
      "model_module_version": "1.5.0",
      "model_name": "ProgressStyleModel",
      "state": {
       "description_width": ""
      }
     },
     "27825b8913cd48bbb55acbbf2e8d3171": {
      "model_module": "@jupyter-widgets/base",
      "model_module_version": "1.2.0",
      "model_name": "LayoutModel",
      "state": {}
     },
     "279c3189a1a749a8a9aacb311034e8e0": {
      "model_module": "@jupyter-widgets/controls",
      "model_module_version": "1.5.0",
      "model_name": "HBoxModel",
      "state": {
       "children": [
        "IPY_MODEL_78123669ed034c3699ca5f4294af97b9",
        "IPY_MODEL_05cf49d7c1d94838be558c6f68e41215"
       ],
       "layout": "IPY_MODEL_65b3679007ce4de2a5e6be64b9e1ea92"
      }
     },
     "286cafb8d81d4be78d3e7aef60219c27": {
      "model_module": "@jupyter-widgets/controls",
      "model_module_version": "1.5.0",
      "model_name": "VBoxModel",
      "state": {
       "children": [
        "IPY_MODEL_ca413da4a0e44297b83e3c3ed4393d52",
        "IPY_MODEL_23c69547ee9d4133a7e2bf3fcd16be9e",
        "IPY_MODEL_44e80d7eb3524062ae6891fe22ffb91e",
        "IPY_MODEL_5150bcffee4442488108658854585863",
        "IPY_MODEL_06e6b24e9d9e4550a167c16ba6e7bc2d",
        "IPY_MODEL_d4c966c0891045e1ace81b4f097d942d",
        "IPY_MODEL_c6a29e10ede6463f9f9e8dc42404cfb3",
        "IPY_MODEL_1cc00428c48e4ac8ae7668ca1427554c",
        "IPY_MODEL_46c76f6623f742aba200a06c5b926afb",
        "IPY_MODEL_7eb06c4a6a6f4122ad11725f5b188b94",
        "IPY_MODEL_20894a6cd23440de966f359166f5a0ff"
       ],
       "layout": "IPY_MODEL_a3ac49b228a84354ab2e8dd20b91ab44"
      }
     },
     "2a3a1e59090142f19da3bd1bccf223d1": {
      "model_module": "@jupyter-widgets/base",
      "model_module_version": "1.2.0",
      "model_name": "LayoutModel",
      "state": {}
     },
     "2ad6ca1d75854ee593d053553b6ad24a": {
      "model_module": "@jupyter-widgets/controls",
      "model_module_version": "1.5.0",
      "model_name": "DropdownModel",
      "state": {
       "_options_labels": [
        "All",
        "O",
        "H"
       ],
       "description": "Show",
       "index": 0,
       "layout": "IPY_MODEL_bf0ad8a8505b453b8aca5c9895da0775",
       "style": "IPY_MODEL_cf286eef544a401d8d65b16f55f4ba9b"
      }
     },
     "302435eb257843afadc4a77906d819a4": {
      "model_module": "@jupyter-widgets/base",
      "model_module_version": "1.2.0",
      "model_name": "LayoutModel",
      "state": {
       "width": "34px"
      }
     },
     "305d81a9ccf64ce6afbaa0331e55008f": {
      "model_module": "@jupyter-widgets/base",
      "model_module_version": "1.2.0",
      "model_name": "LayoutModel",
      "state": {}
     },
     "31b5561e1701471b8caac27fdab5a89f": {
      "model_module": "@jupyter-widgets/base",
      "model_module_version": "1.2.0",
      "model_name": "LayoutModel",
      "state": {}
     },
     "32307abbd2ea47d091ad8aeb571ea4f0": {
      "model_module": "@jupyter-widgets/base",
      "model_module_version": "1.2.0",
      "model_name": "LayoutModel",
      "state": {}
     },
     "339a56751cf646aebca43f335c5f4b0e": {
      "model_module": "@jupyter-widgets/base",
      "model_module_version": "1.2.0",
      "model_name": "LayoutModel",
      "state": {}
     },
     "34e5e547f973420888f537d13d98b714": {
      "model_module": "@jupyter-widgets/controls",
      "model_module_version": "1.5.0",
      "model_name": "DescriptionStyleModel",
      "state": {
       "description_width": ""
      }
     },
     "355883f0f4e14a039c90a407e6fd565f": {
      "model_module": "@jupyter-widgets/controls",
      "model_module_version": "1.5.0",
      "model_name": "FloatSliderModel",
      "state": {
       "description": "Charge scale",
       "layout": "IPY_MODEL_725941427da84ca78907559ff7d17a09",
       "step": 0.1,
       "style": "IPY_MODEL_af0b7c0b13a444c38994b02ff0942267",
       "value": 1
      }
     },
     "36103a1e67b6419fbd08d0938b6e083c": {
      "model_module": "@jupyter-widgets/controls",
      "model_module_version": "1.5.0",
      "model_name": "ButtonStyleModel",
      "state": {}
     },
     "36c5b75b33cd43a5962c0d0a687da79f": {
      "model_module": "@jupyter-widgets/base",
      "model_module_version": "1.2.0",
      "model_name": "LayoutModel",
      "state": {}
     },
     "36f6343fa14c4d00bd8c7d48a7ee5b1f": {
      "model_module": "@jupyter-widgets/controls",
      "model_module_version": "1.5.0",
      "model_name": "IntSliderModel",
      "state": {
       "layout": "IPY_MODEL_cbb30a9f25a4429cb2d530accd8b3bc5",
       "max": 29,
       "style": "IPY_MODEL_10c8886156fe4965be423c5f04743b5d"
      }
     },
     "385abeb1f7bd434ba99b4ddc1bfbca50": {
      "model_module": "@jupyter-widgets/controls",
      "model_module_version": "1.5.0",
      "model_name": "HTMLModel",
      "state": {
       "layout": "IPY_MODEL_e367001f6a5f46c592ad1bac93fe27be",
       "style": "IPY_MODEL_8f1d4d3dee494fcd8eb8e7d175e06010",
       "value": " 9/9 [00:48&lt;00:00,  5.44s/it]"
      }
     },
     "38e12b99986c441f807d639e0fdbee41": {
      "model_module": "@jupyter-widgets/controls",
      "model_module_version": "1.5.0",
      "model_name": "SliderStyleModel",
      "state": {
       "description_width": ""
      }
     },
     "393814d714e847f498e111bda14461f0": {
      "model_module": "@jupyter-widgets/controls",
      "model_module_version": "1.5.0",
      "model_name": "HBoxModel",
      "state": {
       "children": [
        "IPY_MODEL_4506e410963543fc975af6aae894d320",
        "IPY_MODEL_36f6343fa14c4d00bd8c7d48a7ee5b1f"
       ],
       "layout": "IPY_MODEL_de93f19a08554c2e8dbc6f2994f057a5"
      }
     },
     "39b219f7bab74916aa87f41c54e07f1e": {
      "model_module": "@jupyter-widgets/controls",
      "model_module_version": "1.5.0",
      "model_name": "DescriptionStyleModel",
      "state": {
       "description_width": ""
      }
     },
     "3a60466e66b74e5b855a7007e821e69f": {
      "model_module": "@jupyter-widgets/controls",
      "model_module_version": "1.5.0",
      "model_name": "DescriptionStyleModel",
      "state": {
       "description_width": ""
      }
     },
     "3b959763069a4f588adadc8697ecbf37": {
      "model_module": "@jupyter-widgets/controls",
      "model_module_version": "1.5.0",
      "model_name": "SliderStyleModel",
      "state": {
       "description_width": ""
      }
     },
     "3f3c5a6416b84632a5aa1625568d9567": {
      "model_module": "@jupyter-widgets/controls",
      "model_module_version": "1.5.0",
      "model_name": "HBoxModel",
      "state": {
       "children": [
        "IPY_MODEL_a834ec59f8d743749af16f27f9d85f41",
        "IPY_MODEL_14e76e8e0d7041e489425e998fa10868"
       ],
       "layout": "IPY_MODEL_36c5b75b33cd43a5962c0d0a687da79f"
      }
     },
     "4017b430c24548319918fdd464be3cd4": {
      "model_module": "@jupyter-widgets/base",
      "model_module_version": "1.2.0",
      "model_name": "LayoutModel",
      "state": {}
     },
     "402a95d8b76b4595a54ea8d51d85bb4d": {
      "model_module": "@jupyter-widgets/controls",
      "model_module_version": "1.5.0",
      "model_name": "HBoxModel",
      "state": {
       "children": [
        "IPY_MODEL_fb75368ed22c4046b15e270e4209c0d3",
        "IPY_MODEL_cfec6473aae24fa8893d4a5dc010d79b"
       ],
       "layout": "IPY_MODEL_c0bb982848234e8daa23eb4da985013b"
      }
     },
     "42e25c6a0ed94d43b77a573650c80291": {
      "model_module": "@jupyter-widgets/base",
      "model_module_version": "1.2.0",
      "model_name": "LayoutModel",
      "state": {}
     },
     "44b9be02f8934c1a99ec9147b8c4ddd2": {
      "model_module": "@jupyter-widgets/base",
      "model_module_version": "1.2.0",
      "model_name": "LayoutModel",
      "state": {}
     },
     "44e80d7eb3524062ae6891fe22ffb91e": {
      "model_module": "@jupyter-widgets/controls",
      "model_module_version": "1.5.0",
      "model_name": "FloatSliderModel",
      "state": {
       "description": "Ball size",
       "layout": "IPY_MODEL_e9ef9b7a84e0411c91ecfe7f87e2af1e",
       "max": 1.5,
       "step": 0.01,
       "style": "IPY_MODEL_7ecbaa2d852a456582df5200a6db4a92",
       "value": 0.5
      }
     },
     "4506e410963543fc975af6aae894d320": {
      "model_module": "@jupyter-widgets/controls",
      "model_module_version": "1.5.0",
      "model_name": "PlayModel",
      "state": {
       "layout": "IPY_MODEL_9c74f1c2dac4475fb0b3578562bbd1b0",
       "max": 29,
       "style": "IPY_MODEL_b14ce7413e5d422f9b6efcd51c1b8b3f"
      }
     },
     "45ffaa8ea1f24cffa887d29a0e09b757": {
      "model_module": "@jupyter-widgets/controls",
      "model_module_version": "1.5.0",
      "model_name": "FloatSliderModel",
      "state": {
       "description": "Charge scale",
       "layout": "IPY_MODEL_bd1eb07528634815bab9db0162c3b823",
       "step": 0.1,
       "style": "IPY_MODEL_f42867c74f484447aba055ec3429573e",
       "value": 1
      }
     },
     "46c76f6623f742aba200a06c5b926afb": {
      "model_module": "@jupyter-widgets/controls",
      "model_module_version": "1.5.0",
      "model_name": "CheckboxModel",
      "state": {
       "description": "Show charge",
       "disabled": false,
       "layout": "IPY_MODEL_f9d26db34af744b99e594cec00fd6d16",
       "style": "IPY_MODEL_8584fb4098cc41de940afb001ff8410b",
       "value": false
      }
     },
     "47c93867455c423ab27dc27c117d0232": {
      "model_module": "nglview-js-widgets",
      "model_module_version": "3.0.1",
      "model_name": "NGLModel",
      "state": {
       "_camera_orientation": [
        2.251736727042058,
        0,
        0,
        0,
        0,
        2.251736727042058,
        0,
        0,
        0,
        0,
        2.251736727042058,
        0,
        0,
        0,
        0.1795000061392784,
        1
       ],
       "_camera_str": "orthographic",
       "_gui_theme": null,
       "_ibtn_fullscreen": "IPY_MODEL_a2ddde9e45d1430eaea464701d6c564d",
       "_igui": null,
       "_iplayer": "IPY_MODEL_3f3c5a6416b84632a5aa1625568d9567",
       "_ngl_color_dict": {},
       "_ngl_coordinate_resource": {},
       "_ngl_full_stage_parameters": {
        "ambientColor": 14540253,
        "ambientIntensity": 0.2,
        "backgroundColor": "white",
        "cameraEyeSep": 0.3,
        "cameraFov": 40,
        "cameraType": "orthographic",
        "clipDist": 0,
        "clipFar": 100,
        "clipNear": 0,
        "fogFar": 100,
        "fogNear": 50,
        "hoverTimeout": 0,
        "impostor": true,
        "lightColor": 14540253,
        "lightIntensity": 1,
        "mousePreset": "default",
        "panSpeed": 1,
        "quality": "medium",
        "rotateSpeed": 2,
        "sampleLevel": 0,
        "tooltip": true,
        "workerDefault": true,
        "zoomSpeed": 1.2
       },
       "_ngl_msg_archive": [
        {
         "args": [
          {
           "binary": false,
           "data": "MODEL     1\nATOM      1    O MOL     1       0.000   0.000   0.117  1.00  0.00           O  \nATOM      2    H MOL     1       0.000   0.770  -0.476  1.00  0.00           H  \nATOM      3    H MOL     1       0.000  -0.770  -0.476  1.00  0.00           H  \nENDMDL\n",
           "type": "blob"
          }
         ],
         "kwargs": {
          "defaultRepresentation": false,
          "ext": "pdb"
         },
         "methodName": "loadFile",
         "reconstruc_color_scheme": false,
         "target": "Stage",
         "type": "call_method"
        },
        {
         "args": [
          "500px",
          "500px"
         ],
         "kwargs": {},
         "methodName": "setSize",
         "reconstruc_color_scheme": false,
         "target": "Widget",
         "type": "call_method"
        },
        {
         "args": [
          "unitcell"
         ],
         "component_index": 0,
         "kwargs": {
          "sele": "all"
         },
         "methodName": "addRepresentation",
         "reconstruc_color_scheme": false,
         "target": "compList",
         "type": "call_method"
        },
        {
         "args": [
          "spacefill"
         ],
         "component_index": 0,
         "kwargs": {
          "sele": "all"
         },
         "methodName": "addRepresentation",
         "reconstruc_color_scheme": false,
         "target": "compList",
         "type": "call_method"
        },
        {
         "args": [],
         "kwargs": {
          "cameraType": "orthographic"
         },
         "methodName": "setParameters",
         "reconstruc_color_scheme": false,
         "target": "Stage",
         "type": "call_method"
        },
        {
         "args": [
          {
           "clipDist": 0
          }
         ],
         "kwargs": {},
         "methodName": "setParameters",
         "reconstruc_color_scheme": false,
         "target": "Widget",
         "type": "call_method"
        },
        {
         "args": [
          "spacefill",
          0
         ],
         "kwargs": {
          "colorScale": "rainbow",
          "colorScheme": "element",
          "radiusScale": 0.5,
          "radiusType": "covalent"
         },
         "methodName": "updateRepresentationsByName",
         "reconstruc_color_scheme": false,
         "target": "Widget",
         "type": "call_method"
        },
        {
         "args": [
          "this._Q = [[1.0, 0.0, 0.0], [0.0, 1.0, 0.0], [0.0, 0.0, 1.0]]\n    var tooltip = document.createElement('div');\n    Object.assign(tooltip.style, {\n      display: 'none',\n      position: 'fixed',\n      zIndex: 10,\n      pointerEvents: 'none',\n      backgroundColor: 'rgba( 0, 0, 0, 0.6 )',\n      color: 'lightgrey',\n      padding: '8px',\n      fontFamily: 'sans-serif'\n    });\n    document.body.appendChild(tooltip);\n\n    var that = this;\n    this.stage.mouseControls.remove('hoverPick');\n    this.stage.signals.hovered.add(function (pickingProxy) {\n      if (pickingProxy && (pickingProxy.atom || pickingProxy.bond)) {\n        var atom = pickingProxy.atom || pickingProxy.closestBondAtom\n        var mp = pickingProxy.mouse.position\n        //tooltip.innerText = atom.element + ' i=' + atom.index + ' (' + atom.x.toFixed(2) +  ', ' + atom.y.toFixed(2) +  ', ' + atom.z.toFixed(2) + ')'\n        //var pos = that._atoms_pos[atom.index]\n        var Q = that._Q\n        var pos_x = Q[0][0] * atom.x + Q[0][1] * atom.y + Q[0][2] * atom.z \n        var pos_y = Q[1][0] * atom.x + Q[1][1] * atom.y + Q[1][2] * atom.z\n        var pos_z = Q[2][0] * atom.x + Q[2][1] * atom.y + Q[2][2] * atom.z\n        tooltip.innerText = 'i=' + atom.index + ' ' + atom.element + ' (' + pos_x.toFixed(2) +  ', ' + pos_y.toFixed(2) +  ', ' + pos_z.toFixed(2) + ')'\n        tooltip.style.bottom = window.innerHeight - mp.y + 3 + 'px'\n        tooltip.style.left = mp.x + 3 + 'px'\n        tooltip.style.display = 'block'\n      } else {\n        tooltip.style.display = 'none'\n      }\n    });\n    this.stage.tooltip = tooltip;\n    "
         ],
         "kwargs": {},
         "methodName": "executeCode",
         "reconstruc_color_scheme": false,
         "target": "Widget",
         "type": "call_method"
        },
        {
         "args": [
          "ball+stick"
         ],
         "component_index": 0,
         "kwargs": {
          "sele": "all"
         },
         "methodName": "addRepresentation",
         "reconstruc_color_scheme": false,
         "target": "compList",
         "type": "call_method"
        }
       ],
       "_ngl_original_stage_parameters": {
        "ambientColor": 14540253,
        "ambientIntensity": 0.2,
        "backgroundColor": "white",
        "cameraEyeSep": 0.3,
        "cameraFov": 40,
        "cameraType": "perspective",
        "clipDist": 10,
        "clipFar": 100,
        "clipNear": 0,
        "fogFar": 100,
        "fogNear": 50,
        "hoverTimeout": 0,
        "impostor": true,
        "lightColor": 14540253,
        "lightIntensity": 1,
        "mousePreset": "default",
        "panSpeed": 1,
        "quality": "medium",
        "rotateSpeed": 2,
        "sampleLevel": 0,
        "tooltip": true,
        "workerDefault": true,
        "zoomSpeed": 1.2
       },
       "_ngl_repr_dict": {
        "0": {
         "0": {
          "params": {
           "clipCenter": {
            "x": 0,
            "y": 0,
            "z": 0
           },
           "clipNear": 0,
           "clipRadius": 0,
           "colorMode": "hcl",
           "colorReverse": false,
           "colorScale": "",
           "colorScheme": "element",
           "colorValue": "orange",
           "defaultAssembly": "",
           "depthWrite": true,
           "diffuse": 16777215,
           "diffuseInterior": false,
           "disableImpostor": false,
           "disablePicking": false,
           "flatShaded": false,
           "interiorColor": 2236962,
           "interiorDarkening": 0,
           "lazy": false,
           "matrix": {
            "elements": [
             1,
             0,
             0,
             0,
             0,
             1,
             0,
             0,
             0,
             0,
             1,
             0,
             0,
             0,
             0,
             1
            ]
           },
           "metalness": 0,
           "opacity": 1,
           "quality": "medium",
           "radialSegments": 10,
           "radiusData": {},
           "radiusScale": 1,
           "radiusSize": 0.5,
           "radiusType": "vdw",
           "roughness": 0.4,
           "sele": "all",
           "side": "double",
           "sphereDetail": 1,
           "useInteriorColor": true,
           "visible": true,
           "wireframe": false
          },
          "type": "unitcell"
         },
         "1": {
          "params": {
           "assembly": "default",
           "clipCenter": {
            "x": 0,
            "y": 0,
            "z": 0
           },
           "clipNear": 0,
           "clipRadius": 0,
           "colorMode": "hcl",
           "colorReverse": false,
           "colorScale": "rainbow",
           "colorScheme": "element",
           "colorValue": 9474192,
           "defaultAssembly": "",
           "depthWrite": true,
           "diffuse": 16777215,
           "diffuseInterior": false,
           "disableImpostor": false,
           "disablePicking": false,
           "flatShaded": false,
           "interiorColor": 2236962,
           "interiorDarkening": 0,
           "lazy": false,
           "matrix": {
            "elements": [
             1,
             0,
             0,
             0,
             0,
             1,
             0,
             0,
             0,
             0,
             1,
             0,
             0,
             0,
             0,
             1
            ]
           },
           "metalness": 0,
           "opacity": 1,
           "quality": "medium",
           "radiusData": {},
           "radiusScale": 0.5,
           "radiusSize": 1,
           "radiusType": "covalent",
           "roughness": 0.4,
           "sele": "all",
           "side": "double",
           "sphereDetail": 1,
           "useInteriorColor": true,
           "visible": true,
           "wireframe": false
          },
          "type": "spacefill"
         },
         "2": {
          "params": {
           "aspectRatio": 2,
           "assembly": "default",
           "bondScale": 0.4,
           "bondSpacing": 1,
           "clipCenter": {
            "x": 0,
            "y": 0,
            "z": 0
           },
           "clipNear": 0,
           "clipRadius": 0,
           "colorMode": "hcl",
           "colorReverse": false,
           "colorScale": "",
           "colorScheme": "element",
           "colorValue": 9474192,
           "cylinderOnly": false,
           "defaultAssembly": "",
           "depthWrite": true,
           "diffuse": 16777215,
           "diffuseInterior": false,
           "disableImpostor": false,
           "disablePicking": false,
           "flatShaded": false,
           "interiorColor": 2236962,
           "interiorDarkening": 0,
           "lazy": false,
           "lineOnly": false,
           "linewidth": 2,
           "matrix": {
            "elements": [
             1,
             0,
             0,
             0,
             0,
             1,
             0,
             0,
             0,
             0,
             1,
             0,
             0,
             0,
             0,
             1
            ]
           },
           "metalness": 0,
           "multipleBond": "off",
           "opacity": 1,
           "openEnded": true,
           "quality": "medium",
           "radialSegments": 10,
           "radiusData": {},
           "radiusScale": 1,
           "radiusSize": 0.15,
           "radiusType": "size",
           "roughness": 0.4,
           "sele": "all",
           "side": "double",
           "sphereDetail": 1,
           "useInteriorColor": true,
           "visible": true,
           "wireframe": false
          },
          "type": "ball+stick"
         }
        }
       },
       "_ngl_serialize": false,
       "_ngl_version": "2.0.0-dev.36",
       "_ngl_view_id": [
        "FEAA3DEC-137A-4F69-BFDE-8B5C1CD24B91"
       ],
       "_player_dict": {},
       "_scene_position": {},
       "_scene_rotation": {},
       "_synced_model_ids": [],
       "_synced_repr_model_ids": [],
       "_view_height": "",
       "_view_width": "",
       "background": "white",
       "frame": 0,
       "gui_style": null,
       "layout": "IPY_MODEL_a69d166b7ae4424d88a96265073ad1a1",
       "max_frame": 29,
       "n_components": 1,
       "picked": {}
      }
     },
     "490d123936f84040bb84759488b4f0e8": {
      "model_module": "@jupyter-widgets/base",
      "model_module_version": "1.2.0",
      "model_name": "LayoutModel",
      "state": {}
     },
     "4a7ae313c69f4e8e93f855fe402bee11": {
      "model_module": "@jupyter-widgets/base",
      "model_module_version": "1.2.0",
      "model_name": "LayoutModel",
      "state": {}
     },
     "4ba6338815794ba986da2e3dcf877769": {
      "model_module": "nglview-js-widgets",
      "model_module_version": "3.0.1",
      "model_name": "ColormakerRegistryModel",
      "state": {
       "_msg_ar": [],
       "_msg_q": [],
       "_ready": true,
       "layout": "IPY_MODEL_7310972663a14c53b10d1eb2e4bac9a3"
      }
     },
     "4dd3d6c997f94ad095607af518c31be6": {
      "model_module": "@jupyter-widgets/output",
      "model_module_version": "1.0.0",
      "model_name": "OutputModel",
      "state": {
       "layout": "IPY_MODEL_8e658fac68d8422a82087d9b3a277b8b"
      }
     },
     "4e0be8ddb0494b60be3815c28ff0030b": {
      "model_module": "nglview-js-widgets",
      "model_module_version": "3.0.1",
      "model_name": "NGLModel",
      "state": {
       "_camera_orientation": [
        1.3111443813843722,
        0.013578286687418223,
        3.1792370610744785,
        0,
        -0.1074083899129013,
        3.4372108716284986,
        0.02961605898489942,
        0,
        -3.177451195243628,
        -0.11058618043911811,
        1.3108801805486936,
        0,
        0,
        0,
        0,
        1
       ],
       "_camera_str": "orthographic",
       "_gui_theme": null,
       "_ibtn_fullscreen": "IPY_MODEL_aa073b4514a840aba42e9fc7feb1861e",
       "_igui": null,
       "_iplayer": "IPY_MODEL_393814d714e847f498e111bda14461f0",
       "_ngl_color_dict": {},
       "_ngl_coordinate_resource": {},
       "_ngl_full_stage_parameters": {
        "ambientColor": 14540253,
        "ambientIntensity": 0.2,
        "backgroundColor": "white",
        "cameraEyeSep": 0.3,
        "cameraFov": 40,
        "cameraType": "orthographic",
        "clipDist": 0,
        "clipFar": 100,
        "clipNear": 0,
        "fogFar": 100,
        "fogNear": 50,
        "hoverTimeout": 0,
        "impostor": true,
        "lightColor": 14540253,
        "lightIntensity": 1,
        "mousePreset": "default",
        "panSpeed": 1,
        "quality": "medium",
        "rotateSpeed": 2,
        "sampleLevel": 0,
        "tooltip": true,
        "workerDefault": true,
        "zoomSpeed": 1.2
       },
       "_ngl_msg_archive": [
        {
         "args": [
          {
           "binary": false,
           "data": "MODEL     1\nATOM      1    C MOL     1       0.000   0.000   0.000  1.00  0.00           C  \nATOM      2    O MOL     1       0.000   0.000   1.176  1.00  0.00           O  \nATOM      3    O MOL     1       0.000   0.000  -1.176  1.00  0.00           O  \nENDMDL\n",
           "type": "blob"
          }
         ],
         "kwargs": {
          "defaultRepresentation": false,
          "ext": "pdb"
         },
         "methodName": "loadFile",
         "reconstruc_color_scheme": false,
         "target": "Stage",
         "type": "call_method"
        },
        {
         "args": [
          "500px",
          "500px"
         ],
         "kwargs": {},
         "methodName": "setSize",
         "reconstruc_color_scheme": false,
         "target": "Widget",
         "type": "call_method"
        },
        {
         "args": [
          "unitcell"
         ],
         "component_index": 0,
         "kwargs": {
          "sele": "all"
         },
         "methodName": "addRepresentation",
         "reconstruc_color_scheme": false,
         "target": "compList",
         "type": "call_method"
        },
        {
         "args": [
          "spacefill"
         ],
         "component_index": 0,
         "kwargs": {
          "sele": "all"
         },
         "methodName": "addRepresentation",
         "reconstruc_color_scheme": false,
         "target": "compList",
         "type": "call_method"
        },
        {
         "args": [],
         "kwargs": {
          "cameraType": "orthographic"
         },
         "methodName": "setParameters",
         "reconstruc_color_scheme": false,
         "target": "Stage",
         "type": "call_method"
        },
        {
         "args": [
          {
           "clipDist": 0
          }
         ],
         "kwargs": {},
         "methodName": "setParameters",
         "reconstruc_color_scheme": false,
         "target": "Widget",
         "type": "call_method"
        },
        {
         "args": [
          "spacefill",
          0
         ],
         "kwargs": {
          "colorScale": "rainbow",
          "colorScheme": "element",
          "radiusScale": 0.5,
          "radiusType": "covalent"
         },
         "methodName": "updateRepresentationsByName",
         "reconstruc_color_scheme": false,
         "target": "Widget",
         "type": "call_method"
        },
        {
         "args": [
          "this._Q = [[1.0, 0.0, 0.0], [0.0, 1.0, 0.0], [0.0, 0.0, 1.0]]\n    var tooltip = document.createElement('div');\n    Object.assign(tooltip.style, {\n      display: 'none',\n      position: 'fixed',\n      zIndex: 10,\n      pointerEvents: 'none',\n      backgroundColor: 'rgba( 0, 0, 0, 0.6 )',\n      color: 'lightgrey',\n      padding: '8px',\n      fontFamily: 'sans-serif'\n    });\n    document.body.appendChild(tooltip);\n\n    var that = this;\n    this.stage.mouseControls.remove('hoverPick');\n    this.stage.signals.hovered.add(function (pickingProxy) {\n      if (pickingProxy && (pickingProxy.atom || pickingProxy.bond)) {\n        var atom = pickingProxy.atom || pickingProxy.closestBondAtom\n        var mp = pickingProxy.mouse.position\n        //tooltip.innerText = atom.element + ' i=' + atom.index + ' (' + atom.x.toFixed(2) +  ', ' + atom.y.toFixed(2) +  ', ' + atom.z.toFixed(2) + ')'\n        //var pos = that._atoms_pos[atom.index]\n        var Q = that._Q\n        var pos_x = Q[0][0] * atom.x + Q[0][1] * atom.y + Q[0][2] * atom.z \n        var pos_y = Q[1][0] * atom.x + Q[1][1] * atom.y + Q[1][2] * atom.z\n        var pos_z = Q[2][0] * atom.x + Q[2][1] * atom.y + Q[2][2] * atom.z\n        tooltip.innerText = 'i=' + atom.index + ' ' + atom.element + ' (' + pos_x.toFixed(2) +  ', ' + pos_y.toFixed(2) +  ', ' + pos_z.toFixed(2) + ')'\n        tooltip.style.bottom = window.innerHeight - mp.y + 3 + 'px'\n        tooltip.style.left = mp.x + 3 + 'px'\n        tooltip.style.display = 'block'\n      } else {\n        tooltip.style.display = 'none'\n      }\n    });\n    this.stage.tooltip = tooltip;\n    "
         ],
         "kwargs": {},
         "methodName": "executeCode",
         "reconstruc_color_scheme": false,
         "target": "Widget",
         "type": "call_method"
        },
        {
         "args": [
          "ball+stick"
         ],
         "component_index": 0,
         "kwargs": {
          "sele": "all"
         },
         "methodName": "addRepresentation",
         "reconstruc_color_scheme": false,
         "target": "compList",
         "type": "call_method"
        }
       ],
       "_ngl_original_stage_parameters": {
        "ambientColor": 14540253,
        "ambientIntensity": 0.2,
        "backgroundColor": "white",
        "cameraEyeSep": 0.3,
        "cameraFov": 40,
        "cameraType": "perspective",
        "clipDist": 10,
        "clipFar": 100,
        "clipNear": 0,
        "fogFar": 100,
        "fogNear": 50,
        "hoverTimeout": 0,
        "impostor": true,
        "lightColor": 14540253,
        "lightIntensity": 1,
        "mousePreset": "default",
        "panSpeed": 1,
        "quality": "medium",
        "rotateSpeed": 2,
        "sampleLevel": 0,
        "tooltip": true,
        "workerDefault": true,
        "zoomSpeed": 1.2
       },
       "_ngl_repr_dict": {
        "0": {
         "0": {
          "params": {
           "clipCenter": {
            "x": 0,
            "y": 0,
            "z": 0
           },
           "clipNear": 0,
           "clipRadius": 0,
           "colorMode": "hcl",
           "colorReverse": false,
           "colorScale": "",
           "colorScheme": "element",
           "colorValue": "orange",
           "defaultAssembly": "",
           "depthWrite": true,
           "diffuse": 16777215,
           "diffuseInterior": false,
           "disableImpostor": false,
           "disablePicking": false,
           "flatShaded": false,
           "interiorColor": 2236962,
           "interiorDarkening": 0,
           "lazy": false,
           "matrix": {
            "elements": [
             1,
             0,
             0,
             0,
             0,
             1,
             0,
             0,
             0,
             0,
             1,
             0,
             0,
             0,
             0,
             1
            ]
           },
           "metalness": 0,
           "opacity": 1,
           "quality": "medium",
           "radialSegments": 10,
           "radiusData": {},
           "radiusScale": 1,
           "radiusSize": 0.5,
           "radiusType": "vdw",
           "roughness": 0.4,
           "sele": "all",
           "side": "double",
           "sphereDetail": 1,
           "useInteriorColor": true,
           "visible": true,
           "wireframe": false
          },
          "type": "unitcell"
         },
         "1": {
          "params": {
           "assembly": "default",
           "clipCenter": {
            "x": 0,
            "y": 0,
            "z": 0
           },
           "clipNear": 0,
           "clipRadius": 0,
           "colorMode": "hcl",
           "colorReverse": false,
           "colorScale": "rainbow",
           "colorScheme": "element",
           "colorValue": 9474192,
           "defaultAssembly": "",
           "depthWrite": true,
           "diffuse": 16777215,
           "diffuseInterior": false,
           "disableImpostor": false,
           "disablePicking": false,
           "flatShaded": false,
           "interiorColor": 2236962,
           "interiorDarkening": 0,
           "lazy": false,
           "matrix": {
            "elements": [
             1,
             0,
             0,
             0,
             0,
             1,
             0,
             0,
             0,
             0,
             1,
             0,
             0,
             0,
             0,
             1
            ]
           },
           "metalness": 0,
           "opacity": 1,
           "quality": "medium",
           "radiusData": {},
           "radiusScale": 0.5,
           "radiusSize": 1,
           "radiusType": "covalent",
           "roughness": 0.4,
           "sele": "all",
           "side": "double",
           "sphereDetail": 1,
           "useInteriorColor": true,
           "visible": true,
           "wireframe": false
          },
          "type": "spacefill"
         },
         "2": {
          "params": {
           "aspectRatio": 2,
           "assembly": "default",
           "bondScale": 0.4,
           "bondSpacing": 1,
           "clipCenter": {
            "x": 0,
            "y": 0,
            "z": 0
           },
           "clipNear": 0,
           "clipRadius": 0,
           "colorMode": "hcl",
           "colorReverse": false,
           "colorScale": "",
           "colorScheme": "element",
           "colorValue": 9474192,
           "cylinderOnly": false,
           "defaultAssembly": "",
           "depthWrite": true,
           "diffuse": 16777215,
           "diffuseInterior": false,
           "disableImpostor": false,
           "disablePicking": false,
           "flatShaded": false,
           "interiorColor": 2236962,
           "interiorDarkening": 0,
           "lazy": false,
           "lineOnly": false,
           "linewidth": 2,
           "matrix": {
            "elements": [
             1,
             0,
             0,
             0,
             0,
             1,
             0,
             0,
             0,
             0,
             1,
             0,
             0,
             0,
             0,
             1
            ]
           },
           "metalness": 0,
           "multipleBond": "off",
           "opacity": 1,
           "openEnded": true,
           "quality": "medium",
           "radialSegments": 10,
           "radiusData": {},
           "radiusScale": 1,
           "radiusSize": 0.15,
           "radiusType": "size",
           "roughness": 0.4,
           "sele": "all",
           "side": "double",
           "sphereDetail": 1,
           "useInteriorColor": true,
           "visible": true,
           "wireframe": false
          },
          "type": "ball+stick"
         }
        }
       },
       "_ngl_serialize": false,
       "_ngl_version": "2.0.0-dev.36",
       "_ngl_view_id": [
        "87113FEF-34DF-4B14-9A91-C05CE5EE71DB"
       ],
       "_player_dict": {},
       "_scene_position": {},
       "_scene_rotation": {},
       "_synced_model_ids": [],
       "_synced_repr_model_ids": [],
       "_view_height": "",
       "_view_width": "",
       "background": "white",
       "frame": 0,
       "gui_style": null,
       "layout": "IPY_MODEL_42e25c6a0ed94d43b77a573650c80291",
       "max_frame": 29,
       "n_components": 1,
       "picked": {}
      }
     },
     "514dbd8620854ff8af2196ed61f825df": {
      "model_module": "@jupyter-widgets/controls",
      "model_module_version": "1.5.0",
      "model_name": "LinkModel",
      "state": {
       "source": [
        "IPY_MODEL_a834ec59f8d743749af16f27f9d85f41",
        "value"
       ],
       "target": [
        "IPY_MODEL_47c93867455c423ab27dc27c117d0232",
        "frame"
       ]
      }
     },
     "5150bcffee4442488108658854585863": {
      "model_module": "@jupyter-widgets/controls",
      "model_module_version": "1.5.0",
      "model_name": "IntSliderModel",
      "state": {
       "layout": "IPY_MODEL_5269e02431fb40a0ac81fbb97b2e5d18",
       "max": 29,
       "style": "IPY_MODEL_91dbf8f16fa14ef6a717f51e9779f3de"
      }
     },
     "5269e02431fb40a0ac81fbb97b2e5d18": {
      "model_module": "@jupyter-widgets/base",
      "model_module_version": "1.2.0",
      "model_name": "LayoutModel",
      "state": {}
     },
     "54c1e29abba2469aa1b057b9261c5c7b": {
      "model_module": "@jupyter-widgets/controls",
      "model_module_version": "1.5.0",
      "model_name": "ButtonStyleModel",
      "state": {}
     },
     "5657d11c12bf4828a85cc0c2d84e8eaa": {
      "model_module": "@jupyter-widgets/controls",
      "model_module_version": "1.5.0",
      "model_name": "FloatSliderModel",
      "state": {
       "description": "Force scale",
       "layout": "IPY_MODEL_a80ebdb27b4f490bba99689c92280f5f",
       "step": 0.1,
       "style": "IPY_MODEL_993853a691014c85a1ba2cd9fb8d974b",
       "value": 0.5
      }
     },
     "58e54e62699c420583695759798b42b6": {
      "model_module": "@jupyter-widgets/controls",
      "model_module_version": "1.5.0",
      "model_name": "IntSliderModel",
      "state": {
       "layout": "IPY_MODEL_597efba4169748faa2bacea6816558b0",
       "max": 29,
       "style": "IPY_MODEL_f7867f4caf6b4947842071d8cfb7e1f6"
      }
     },
     "597efba4169748faa2bacea6816558b0": {
      "model_module": "@jupyter-widgets/base",
      "model_module_version": "1.2.0",
      "model_name": "LayoutModel",
      "state": {}
     },
     "59dd7582cc5a46ca81ff9e930ee3358a": {
      "model_module": "@jupyter-widgets/base",
      "model_module_version": "1.2.0",
      "model_name": "LayoutModel",
      "state": {}
     },
     "5b4b0742124747e2af37e9626580018b": {
      "model_module": "@jupyter-widgets/controls",
      "model_module_version": "1.5.0",
      "model_name": "DescriptionStyleModel",
      "state": {
       "description_width": ""
      }
     },
     "5d196e8aec9449e4990716ea2a3a81df": {
      "model_module": "@jupyter-widgets/controls",
      "model_module_version": "1.5.0",
      "model_name": "HBoxModel",
      "state": {
       "children": [
        "IPY_MODEL_cc4b886cc8424182b66db222839d18ab",
        "IPY_MODEL_6c97fb64508e4339a8a75e8e24819279"
       ],
       "layout": "IPY_MODEL_f7c050ed89f94d118ebe1babe75d5819"
      }
     },
     "60704efe41b1445884f33d366d9335a0": {
      "model_module": "@jupyter-widgets/controls",
      "model_module_version": "1.5.0",
      "model_name": "ImageModel",
      "state": {
       "layout": "IPY_MODEL_eb4766ba20e846a4b239177a2303e5a8",
       "width": "900.0"
      }
     },
     "607a656695cb4ffb85ac060f1f29d97e": {
      "model_module": "@jupyter-widgets/controls",
      "model_module_version": "1.5.0",
      "model_name": "DropdownModel",
      "state": {
       "_options_labels": [
        "All",
        "O",
        "C",
        "H"
       ],
       "description": "Show",
       "index": 0,
       "layout": "IPY_MODEL_eac5a19351a648eaa549658f5510f081",
       "style": "IPY_MODEL_900a7be8b001438b82437ef5058809be"
      }
     },
     "65b3679007ce4de2a5e6be64b9e1ea92": {
      "model_module": "@jupyter-widgets/base",
      "model_module_version": "1.2.0",
      "model_name": "LayoutModel",
      "state": {}
     },
     "66e2c18ccdcb4d8a8b2e1755897a0c1c": {
      "model_module": "@jupyter-widgets/controls",
      "model_module_version": "1.5.0",
      "model_name": "DescriptionStyleModel",
      "state": {
       "description_width": ""
      }
     },
     "6714b543ce7b43378108fe76881e3c19": {
      "model_module": "@jupyter-widgets/base",
      "model_module_version": "1.2.0",
      "model_name": "LayoutModel",
      "state": {}
     },
     "6752718d3adb4942b62300accb605f60": {
      "model_module": "@jupyter-widgets/base",
      "model_module_version": "1.2.0",
      "model_name": "LayoutModel",
      "state": {}
     },
     "682829c8fb644e74aceae57aa3bb5594": {
      "model_module": "@jupyter-widgets/base",
      "model_module_version": "1.2.0",
      "model_name": "LayoutModel",
      "state": {}
     },
     "6948b0f053004c098b8c2f44bd1b1b12": {
      "model_module": "@jupyter-widgets/controls",
      "model_module_version": "1.5.0",
      "model_name": "TextModel",
      "state": {
       "description": "Filename: ",
       "layout": "IPY_MODEL_23841bbd9cae4555bfd00008325ed70f",
       "style": "IPY_MODEL_87ed4b46243d42caa6a8c33b129718e3",
       "value": "screenshot.png"
      }
     },
     "6c97fb64508e4339a8a75e8e24819279": {
      "model_module": "@jupyter-widgets/controls",
      "model_module_version": "1.5.0",
      "model_name": "VBoxModel",
      "state": {
       "children": [
        "IPY_MODEL_607a656695cb4ffb85ac060f1f29d97e",
        "IPY_MODEL_e617a59a06ae40c7a88c56cc5ab708bf",
        "IPY_MODEL_06e797d021164364ba0ac9bafcebc0c4",
        "IPY_MODEL_11170fe10523439d87299147decf67ca",
        "IPY_MODEL_a8c2b426e2bb4b8296b09b34f04e66ab",
        "IPY_MODEL_279c3189a1a749a8a9aacb311034e8e0",
        "IPY_MODEL_f29a96259e634cf0afd9d795ba2fd9dd",
        "IPY_MODEL_a30023717ba94b2d93397b9e2bd14be0",
        "IPY_MODEL_b1cf2980b045400985988ac6c1a85ae0",
        "IPY_MODEL_355883f0f4e14a039c90a407e6fd565f",
        "IPY_MODEL_98a5c78c438741af8f42ae1354484a20"
       ],
       "layout": "IPY_MODEL_f7a5ba4e2253439895ab7cfbd85f70c2"
      }
     },
     "6d1b6dc3d680412a83bc52040af855de": {
      "model_module": "@jupyter-widgets/controls",
      "model_module_version": "1.5.0",
      "model_name": "LinkModel",
      "state": {
       "source": [
        "IPY_MODEL_4506e410963543fc975af6aae894d320",
        "value"
       ],
       "target": [
        "IPY_MODEL_36f6343fa14c4d00bd8c7d48a7ee5b1f",
        "value"
       ]
      }
     },
     "6d46bac193e04c9ab373bb454214dfda": {
      "model_module": "@jupyter-widgets/controls",
      "model_module_version": "1.5.0",
      "model_name": "HTMLModel",
      "state": {
       "layout": "IPY_MODEL_d18b5a4d77ff4754b60fb41a50ed6359",
       "style": "IPY_MODEL_34e5e547f973420888f537d13d98b714",
       "value": "100%"
      }
     },
     "6e9b04fa09c044df9544925e6e59af97": {
      "model_module": "@jupyter-widgets/controls",
      "model_module_version": "1.5.0",
      "model_name": "DescriptionStyleModel",
      "state": {
       "description_width": ""
      }
     },
     "725941427da84ca78907559ff7d17a09": {
      "model_module": "@jupyter-widgets/base",
      "model_module_version": "1.2.0",
      "model_name": "LayoutModel",
      "state": {}
     },
     "726a119909f248d086743d66bb8c3453": {
      "model_module": "@jupyter-widgets/controls",
      "model_module_version": "1.5.0",
      "model_name": "HBoxModel",
      "state": {
       "children": [
        "IPY_MODEL_47c93867455c423ab27dc27c117d0232",
        "IPY_MODEL_104971ef56594ba385109721497b22e1"
       ],
       "layout": "IPY_MODEL_decb701f360d4f7aa6058d3020d58e7f"
      }
     },
     "726c33a2f11d48ffba98b4ea69f0c6e8": {
      "model_module": "@jupyter-widgets/controls",
      "model_module_version": "1.5.0",
      "model_name": "ButtonStyleModel",
      "state": {}
     },
     "72efc9b91614459cb8293a39b83a44a1": {
      "model_module": "@jupyter-widgets/controls",
      "model_module_version": "1.5.0",
      "model_name": "DescriptionStyleModel",
      "state": {
       "description_width": ""
      }
     },
     "7310972663a14c53b10d1eb2e4bac9a3": {
      "model_module": "@jupyter-widgets/base",
      "model_module_version": "1.2.0",
      "model_name": "LayoutModel",
      "state": {}
     },
     "74250ff14bea496d8e60ff378fbd0e9c": {
      "model_module": "@jupyter-widgets/controls",
      "model_module_version": "1.5.0",
      "model_name": "ButtonStyleModel",
      "state": {}
     },
     "7430287cc69f46608e330fda5e28efab": {
      "model_module": "@jupyter-widgets/base",
      "model_module_version": "1.2.0",
      "model_name": "LayoutModel",
      "state": {}
     },
     "7436cab4132743d587df6126e4e667be": {
      "model_module": "@jupyter-widgets/controls",
      "model_module_version": "1.5.0",
      "model_name": "SliderStyleModel",
      "state": {
       "description_width": ""
      }
     },
     "77f3cc2cad4c4915bf055ff3eac3f900": {
      "model_module": "@jupyter-widgets/controls",
      "model_module_version": "1.5.0",
      "model_name": "DropdownModel",
      "state": {
       "_options_labels": [
        " ",
        "picking",
        "random",
        "uniform",
        "atomindex",
        "residueindex",
        "chainindex",
        "modelindex",
        "sstruc",
        "element",
        "resname",
        "bfactor",
        "hydrophobicity",
        "value",
        "volume",
        "occupancy"
       ],
       "description": "Color scheme",
       "index": 9,
       "layout": "IPY_MODEL_bc30bcedbf67470995f3e0856612cef6",
       "style": "IPY_MODEL_8acbd43bdffa4a4f98a914fd1d319831"
      }
     },
     "78123669ed034c3699ca5f4294af97b9": {
      "model_module": "@jupyter-widgets/controls",
      "model_module_version": "1.5.0",
      "model_name": "ButtonModel",
      "state": {
       "description": "Download image",
       "layout": "IPY_MODEL_4017b430c24548319918fdd464be3cd4",
       "style": "IPY_MODEL_8280f84cec7b4322882fa29503b46213",
       "tooltip": "Download current frame to your local PC"
      }
     },
     "7922692e637c4878a5c1d682c2e23142": {
      "model_module": "@jupyter-widgets/base",
      "model_module_version": "1.2.0",
      "model_name": "LayoutModel",
      "state": {}
     },
     "79c13e8de63741cab3db0ef0b02ea68c": {
      "model_module": "@jupyter-widgets/base",
      "model_module_version": "1.2.0",
      "model_name": "LayoutModel",
      "state": {}
     },
     "7eb06c4a6a6f4122ad11725f5b188b94": {
      "model_module": "@jupyter-widgets/controls",
      "model_module_version": "1.5.0",
      "model_name": "FloatSliderModel",
      "state": {
       "description": "Charge scale",
       "layout": "IPY_MODEL_2a3a1e59090142f19da3bd1bccf223d1",
       "step": 0.1,
       "style": "IPY_MODEL_e5c274090dad41f485a6a0b3ccae48ea",
       "value": 1
      }
     },
     "7ecbaa2d852a456582df5200a6db4a92": {
      "model_module": "@jupyter-widgets/controls",
      "model_module_version": "1.5.0",
      "model_name": "SliderStyleModel",
      "state": {
       "description_width": ""
      }
     },
     "7f65880aea3844f9b7a2e57da2be42e9": {
      "model_module": "@jupyter-widgets/base",
      "model_module_version": "1.2.0",
      "model_name": "LayoutModel",
      "state": {
       "border": "0px solid black"
      }
     },
     "7fa47e993f9a4c7db833093e00c30ba0": {
      "model_module": "@jupyter-widgets/controls",
      "model_module_version": "1.5.0",
      "model_name": "IntSliderModel",
      "state": {
       "layout": "IPY_MODEL_27825b8913cd48bbb55acbbf2e8d3171",
       "max": 29,
       "style": "IPY_MODEL_82df723b6e884c7081208b6808e97886"
      }
     },
     "7fe3ed8f2e4b436dac3c6d13209b3a66": {
      "model_module": "@jupyter-widgets/controls",
      "model_module_version": "1.5.0",
      "model_name": "LinkModel",
      "state": {
       "source": [
        "IPY_MODEL_4506e410963543fc975af6aae894d320",
        "max"
       ],
       "target": [
        "IPY_MODEL_4e0be8ddb0494b60be3815c28ff0030b",
        "max_frame"
       ]
      }
     },
     "81c6a7ed41a149699bcf4c587752f081": {
      "model_module": "@jupyter-widgets/controls",
      "model_module_version": "1.5.0",
      "model_name": "HBoxModel",
      "state": {
       "children": [
        "IPY_MODEL_ef3cecfbc74742e99161aa6ee2be2cd5",
        "IPY_MODEL_7fa47e993f9a4c7db833093e00c30ba0"
       ],
       "layout": "IPY_MODEL_bfdcc45bc3ae4c5db6850bd268f5dc21"
      }
     },
     "8280f84cec7b4322882fa29503b46213": {
      "model_module": "@jupyter-widgets/controls",
      "model_module_version": "1.5.0",
      "model_name": "ButtonStyleModel",
      "state": {}
     },
     "82df723b6e884c7081208b6808e97886": {
      "model_module": "@jupyter-widgets/controls",
      "model_module_version": "1.5.0",
      "model_name": "SliderStyleModel",
      "state": {
       "description_width": ""
      }
     },
     "83e4e99a88734263903a4bd08136c503": {
      "model_module": "@jupyter-widgets/base",
      "model_module_version": "1.2.0",
      "model_name": "LayoutModel",
      "state": {}
     },
     "8584fb4098cc41de940afb001ff8410b": {
      "model_module": "@jupyter-widgets/controls",
      "model_module_version": "1.5.0",
      "model_name": "DescriptionStyleModel",
      "state": {
       "description_width": ""
      }
     },
     "87ed4b46243d42caa6a8c33b129718e3": {
      "model_module": "@jupyter-widgets/controls",
      "model_module_version": "1.5.0",
      "model_name": "DescriptionStyleModel",
      "state": {
       "description_width": ""
      }
     },
     "8acbd43bdffa4a4f98a914fd1d319831": {
      "model_module": "@jupyter-widgets/controls",
      "model_module_version": "1.5.0",
      "model_name": "DescriptionStyleModel",
      "state": {
       "description_width": ""
      }
     },
     "8be1827de50a4286bd1251b08d9b047b": {
      "model_module": "@jupyter-widgets/controls",
      "model_module_version": "1.5.0",
      "model_name": "ProgressStyleModel",
      "state": {
       "description_width": ""
      }
     },
     "8c3533594c474ef783a362cc5243f2eb": {
      "model_module": "@jupyter-widgets/controls",
      "model_module_version": "1.5.0",
      "model_name": "FloatProgressModel",
      "state": {
       "bar_style": "success",
       "layout": "IPY_MODEL_59dd7582cc5a46ca81ff9e930ee3358a",
       "max": 9,
       "style": "IPY_MODEL_8be1827de50a4286bd1251b08d9b047b",
       "value": 9
      }
     },
     "8e658fac68d8422a82087d9b3a277b8b": {
      "model_module": "@jupyter-widgets/base",
      "model_module_version": "1.2.0",
      "model_name": "LayoutModel",
      "state": {
       "border": "0px solid black"
      }
     },
     "8f1d4d3dee494fcd8eb8e7d175e06010": {
      "model_module": "@jupyter-widgets/controls",
      "model_module_version": "1.5.0",
      "model_name": "DescriptionStyleModel",
      "state": {
       "description_width": ""
      }
     },
     "900a7be8b001438b82437ef5058809be": {
      "model_module": "@jupyter-widgets/controls",
      "model_module_version": "1.5.0",
      "model_name": "DescriptionStyleModel",
      "state": {
       "description_width": ""
      }
     },
     "9021a7ee9d7d4292aa7c9d4d7a3d74cd": {
      "model_module": "@jupyter-widgets/controls",
      "model_module_version": "1.5.0",
      "model_name": "LinkModel",
      "state": {
       "source": [
        "IPY_MODEL_a834ec59f8d743749af16f27f9d85f41",
        "value"
       ],
       "target": [
        "IPY_MODEL_14e76e8e0d7041e489425e998fa10868",
        "value"
       ]
      }
     },
     "91dbf8f16fa14ef6a717f51e9779f3de": {
      "model_module": "@jupyter-widgets/controls",
      "model_module_version": "1.5.0",
      "model_name": "SliderStyleModel",
      "state": {
       "description_width": ""
      }
     },
     "934a2702595d497991744835b0f8c691": {
      "model_module": "@jupyter-widgets/controls",
      "model_module_version": "1.5.0",
      "model_name": "HBoxModel",
      "state": {
       "children": [
        "IPY_MODEL_4e0be8ddb0494b60be3815c28ff0030b",
        "IPY_MODEL_286cafb8d81d4be78d3e7aef60219c27"
       ],
       "layout": "IPY_MODEL_94b35a10d8db4943b70e5f59c14318ce"
      }
     },
     "94b35a10d8db4943b70e5f59c14318ce": {
      "model_module": "@jupyter-widgets/base",
      "model_module_version": "1.2.0",
      "model_name": "LayoutModel",
      "state": {}
     },
     "98a5c78c438741af8f42ae1354484a20": {
      "model_module": "@jupyter-widgets/output",
      "model_module_version": "1.0.0",
      "model_name": "OutputModel",
      "state": {
       "layout": "IPY_MODEL_7f65880aea3844f9b7a2e57da2be42e9"
      }
     },
     "993853a691014c85a1ba2cd9fb8d974b": {
      "model_module": "@jupyter-widgets/controls",
      "model_module_version": "1.5.0",
      "model_name": "SliderStyleModel",
      "state": {
       "description_width": ""
      }
     },
     "999f530031924c11a2add323e5c1d2e3": {
      "model_module": "@jupyter-widgets/controls",
      "model_module_version": "1.5.0",
      "model_name": "LinkModel",
      "state": {
       "source": [
        "IPY_MODEL_ef3cecfbc74742e99161aa6ee2be2cd5",
        "value"
       ],
       "target": [
        "IPY_MODEL_7fa47e993f9a4c7db833093e00c30ba0",
        "value"
       ]
      }
     },
     "99aaf1ef3b8e4e4c9148051dc80333fb": {
      "model_module": "@jupyter-widgets/base",
      "model_module_version": "1.2.0",
      "model_name": "LayoutModel",
      "state": {}
     },
     "9ab4bab1a59c40f883d707d322e23961": {
      "model_module": "@jupyter-widgets/base",
      "model_module_version": "1.2.0",
      "model_name": "LayoutModel",
      "state": {}
     },
     "9c74f1c2dac4475fb0b3578562bbd1b0": {
      "model_module": "@jupyter-widgets/base",
      "model_module_version": "1.2.0",
      "model_name": "LayoutModel",
      "state": {}
     },
     "a2ddde9e45d1430eaea464701d6c564d": {
      "model_module": "@jupyter-widgets/controls",
      "model_module_version": "1.5.0",
      "model_name": "ButtonModel",
      "state": {
       "icon": "compress",
       "layout": "IPY_MODEL_adec39dc602842fc9b06fe8a08562bb6",
       "style": "IPY_MODEL_b1288576df8f4e0dbddfc05b09d56e80"
      }
     },
     "a2ffc044aa864e2ba3323ed04728cd6f": {
      "model_module": "@jupyter-widgets/controls",
      "model_module_version": "1.5.0",
      "model_name": "LinkModel",
      "state": {
       "source": [
        "IPY_MODEL_4506e410963543fc975af6aae894d320",
        "value"
       ],
       "target": [
        "IPY_MODEL_4e0be8ddb0494b60be3815c28ff0030b",
        "frame"
       ]
      }
     },
     "a30023717ba94b2d93397b9e2bd14be0": {
      "model_module": "@jupyter-widgets/controls",
      "model_module_version": "1.5.0",
      "model_name": "FloatSliderModel",
      "state": {
       "description": "Force scale",
       "layout": "IPY_MODEL_e7770e0720f84379a5d6ed60198289ae",
       "step": 0.1,
       "style": "IPY_MODEL_c4fc4c42566449d78cb09c0947251c3a",
       "value": 0.5
      }
     },
     "a3ac49b228a84354ab2e8dd20b91ab44": {
      "model_module": "@jupyter-widgets/base",
      "model_module_version": "1.2.0",
      "model_name": "LayoutModel",
      "state": {}
     },
     "a42a35ae012e48118a233e60c0708052": {
      "model_module": "@jupyter-widgets/base",
      "model_module_version": "1.2.0",
      "model_name": "LayoutModel",
      "state": {}
     },
     "a69d166b7ae4424d88a96265073ad1a1": {
      "model_module": "@jupyter-widgets/base",
      "model_module_version": "1.2.0",
      "model_name": "LayoutModel",
      "state": {}
     },
     "a80ebdb27b4f490bba99689c92280f5f": {
      "model_module": "@jupyter-widgets/base",
      "model_module_version": "1.2.0",
      "model_name": "LayoutModel",
      "state": {}
     },
     "a834ec59f8d743749af16f27f9d85f41": {
      "model_module": "@jupyter-widgets/controls",
      "model_module_version": "1.5.0",
      "model_name": "PlayModel",
      "state": {
       "layout": "IPY_MODEL_6714b543ce7b43378108fe76881e3c19",
       "max": 29,
       "style": "IPY_MODEL_5b4b0742124747e2af37e9626580018b"
      }
     },
     "a8c2b426e2bb4b8296b09b34f04e66ab": {
      "model_module": "@jupyter-widgets/controls",
      "model_module_version": "1.5.0",
      "model_name": "TextModel",
      "state": {
       "description": "Filename: ",
       "layout": "IPY_MODEL_1e5905765aca48f19238fff91fcbfe98",
       "style": "IPY_MODEL_3a60466e66b74e5b855a7007e821e69f",
       "value": "screenshot.png"
      }
     },
     "aa073b4514a840aba42e9fc7feb1861e": {
      "model_module": "@jupyter-widgets/controls",
      "model_module_version": "1.5.0",
      "model_name": "ButtonModel",
      "state": {
       "icon": "compress",
       "layout": "IPY_MODEL_ba958ac9d3454b1d9a6ccc27a62b095a",
       "style": "IPY_MODEL_11e19e20d499417693572eb50e0a86f7"
      }
     },
     "ac535cc87a7b44a4bcd7c34f5bfa8c77": {
      "model_module": "@jupyter-widgets/controls",
      "model_module_version": "1.5.0",
      "model_name": "LinkModel",
      "state": {
       "source": [
        "IPY_MODEL_ef3cecfbc74742e99161aa6ee2be2cd5",
        "max"
       ],
       "target": [
        "IPY_MODEL_cc4b886cc8424182b66db222839d18ab",
        "max_frame"
       ]
      }
     },
     "adec39dc602842fc9b06fe8a08562bb6": {
      "model_module": "@jupyter-widgets/base",
      "model_module_version": "1.2.0",
      "model_name": "LayoutModel",
      "state": {
       "width": "34px"
      }
     },
     "aec6867883ef40cab07b7aac6ac4d8d2": {
      "model_module": "@jupyter-widgets/controls",
      "model_module_version": "1.5.0",
      "model_name": "ImageModel",
      "state": {
       "layout": "IPY_MODEL_ca3c1d80cdad488b91c9748f5fd63798",
       "width": "900.0"
      }
     },
     "af0b7c0b13a444c38994b02ff0942267": {
      "model_module": "@jupyter-widgets/controls",
      "model_module_version": "1.5.0",
      "model_name": "SliderStyleModel",
      "state": {
       "description_width": ""
      }
     },
     "b09b0c811d554f77b8fc593f053e220e": {
      "model_module": "@jupyter-widgets/base",
      "model_module_version": "1.2.0",
      "model_name": "LayoutModel",
      "state": {}
     },
     "b0b73c3964de424c97bdb37f29a6d2e0": {
      "model_module": "@jupyter-widgets/controls",
      "model_module_version": "1.5.0",
      "model_name": "DescriptionStyleModel",
      "state": {
       "description_width": ""
      }
     },
     "b1288576df8f4e0dbddfc05b09d56e80": {
      "model_module": "@jupyter-widgets/controls",
      "model_module_version": "1.5.0",
      "model_name": "ButtonStyleModel",
      "state": {}
     },
     "b14ce7413e5d422f9b6efcd51c1b8b3f": {
      "model_module": "@jupyter-widgets/controls",
      "model_module_version": "1.5.0",
      "model_name": "DescriptionStyleModel",
      "state": {
       "description_width": ""
      }
     },
     "b1cf2980b045400985988ac6c1a85ae0": {
      "model_module": "@jupyter-widgets/controls",
      "model_module_version": "1.5.0",
      "model_name": "CheckboxModel",
      "state": {
       "description": "Show charge",
       "disabled": false,
       "layout": "IPY_MODEL_de09543cb0874450ad1b55184d5738a5",
       "style": "IPY_MODEL_72efc9b91614459cb8293a39b83a44a1",
       "value": false
      }
     },
     "b322ed9b533d4515bdd4aeabf89418d0": {
      "model_module": "@jupyter-widgets/base",
      "model_module_version": "1.2.0",
      "model_name": "LayoutModel",
      "state": {}
     },
     "ba958ac9d3454b1d9a6ccc27a62b095a": {
      "model_module": "@jupyter-widgets/base",
      "model_module_version": "1.2.0",
      "model_name": "LayoutModel",
      "state": {
       "width": "34px"
      }
     },
     "bc30bcedbf67470995f3e0856612cef6": {
      "model_module": "@jupyter-widgets/base",
      "model_module_version": "1.2.0",
      "model_name": "LayoutModel",
      "state": {}
     },
     "bd1eb07528634815bab9db0162c3b823": {
      "model_module": "@jupyter-widgets/base",
      "model_module_version": "1.2.0",
      "model_name": "LayoutModel",
      "state": {}
     },
     "bd64b7ab25b1415e9648784a8c15e79f": {
      "model_module": "@jupyter-widgets/controls",
      "model_module_version": "1.5.0",
      "model_name": "DescriptionStyleModel",
      "state": {
       "description_width": ""
      }
     },
     "bf0ad8a8505b453b8aca5c9895da0775": {
      "model_module": "@jupyter-widgets/base",
      "model_module_version": "1.2.0",
      "model_name": "LayoutModel",
      "state": {}
     },
     "bfdcc45bc3ae4c5db6850bd268f5dc21": {
      "model_module": "@jupyter-widgets/base",
      "model_module_version": "1.2.0",
      "model_name": "LayoutModel",
      "state": {}
     },
     "c0bb982848234e8daa23eb4da985013b": {
      "model_module": "@jupyter-widgets/base",
      "model_module_version": "1.2.0",
      "model_name": "LayoutModel",
      "state": {}
     },
     "c186dd55718146b9bc6ee4aeadf80f6a": {
      "model_module": "@jupyter-widgets/controls",
      "model_module_version": "1.5.0",
      "model_name": "ButtonStyleModel",
      "state": {}
     },
     "c4fc4c42566449d78cb09c0947251c3a": {
      "model_module": "@jupyter-widgets/controls",
      "model_module_version": "1.5.0",
      "model_name": "SliderStyleModel",
      "state": {
       "description_width": ""
      }
     },
     "c57fbac4f2b5456ab6a327cba7785938": {
      "model_module": "@jupyter-widgets/controls",
      "model_module_version": "1.5.0",
      "model_name": "DescriptionStyleModel",
      "state": {
       "description_width": ""
      }
     },
     "c6a29e10ede6463f9f9e8dc42404cfb3": {
      "model_module": "@jupyter-widgets/controls",
      "model_module_version": "1.5.0",
      "model_name": "CheckboxModel",
      "state": {
       "description": "Show force",
       "disabled": false,
       "layout": "IPY_MODEL_6752718d3adb4942b62300accb605f60",
       "style": "IPY_MODEL_ed5fd9f5d594490ba0b0415d76677805",
       "value": false
      }
     },
     "ca3c1d80cdad488b91c9748f5fd63798": {
      "model_module": "@jupyter-widgets/base",
      "model_module_version": "1.2.0",
      "model_name": "LayoutModel",
      "state": {}
     },
     "ca413da4a0e44297b83e3c3ed4393d52": {
      "model_module": "@jupyter-widgets/controls",
      "model_module_version": "1.5.0",
      "model_name": "DropdownModel",
      "state": {
       "_options_labels": [
        "All",
        "O",
        "C"
       ],
       "description": "Show",
       "index": 0,
       "layout": "IPY_MODEL_a42a35ae012e48118a233e60c0708052",
       "style": "IPY_MODEL_efa9ab3dba104599a648f27a3fb39a9a"
      }
     },
     "ca8a2b13e1e94e49a89dd7f3a51ae8b4": {
      "model_module": "@jupyter-widgets/controls",
      "model_module_version": "1.5.0",
      "model_name": "SliderStyleModel",
      "state": {
       "description_width": ""
      }
     },
     "cac4a6c806a742d2b7768b5e87fe9c05": {
      "model_module": "@jupyter-widgets/controls",
      "model_module_version": "1.5.0",
      "model_name": "DescriptionStyleModel",
      "state": {
       "description_width": ""
      }
     },
     "cb6f4b73fdd343cc98209f00fadf7004": {
      "model_module": "@jupyter-widgets/base",
      "model_module_version": "1.2.0",
      "model_name": "LayoutModel",
      "state": {}
     },
     "cbb30a9f25a4429cb2d530accd8b3bc5": {
      "model_module": "@jupyter-widgets/base",
      "model_module_version": "1.2.0",
      "model_name": "LayoutModel",
      "state": {}
     },
     "cbcb9ff26d0d491ba994e29e47742ffc": {
      "model_module": "@jupyter-widgets/controls",
      "model_module_version": "1.5.0",
      "model_name": "LinkModel",
      "state": {
       "source": [
        "IPY_MODEL_a834ec59f8d743749af16f27f9d85f41",
        "max"
       ],
       "target": [
        "IPY_MODEL_47c93867455c423ab27dc27c117d0232",
        "max_frame"
       ]
      }
     },
     "cc4b886cc8424182b66db222839d18ab": {
      "model_module": "nglview-js-widgets",
      "model_module_version": "3.0.1",
      "model_name": "NGLModel",
      "state": {
       "_camera_orientation": [
        5.112323903828468,
        0,
        0,
        0,
        0,
        5.112323903828468,
        0,
        0,
        0,
        0,
        5.112323903828468,
        0,
        0.10999998450279236,
        -0.010500013828277588,
        0,
        1
       ],
       "_camera_str": "orthographic",
       "_gui_theme": null,
       "_ibtn_fullscreen": "IPY_MODEL_e4b9fc3ecb744a3aaaf47f8f14a11823",
       "_igui": null,
       "_iplayer": "IPY_MODEL_81c6a7ed41a149699bcf4c587752f081",
       "_ngl_color_dict": {},
       "_ngl_coordinate_resource": {},
       "_ngl_full_stage_parameters": {
        "ambientColor": 14540253,
        "ambientIntensity": 0.2,
        "backgroundColor": "white",
        "cameraEyeSep": 0.3,
        "cameraFov": 40,
        "cameraType": "orthographic",
        "clipDist": 0,
        "clipFar": 100,
        "clipNear": 0,
        "fogFar": 100,
        "fogNear": 50,
        "hoverTimeout": 0,
        "impostor": true,
        "lightColor": 14540253,
        "lightIntensity": 1,
        "mousePreset": "default",
        "panSpeed": 1,
        "quality": "medium",
        "rotateSpeed": 2,
        "sampleLevel": 0,
        "tooltip": true,
        "workerDefault": true,
        "zoomSpeed": 1.2
       },
       "_ngl_msg_archive": [
        {
         "args": [
          {
           "binary": false,
           "data": "MODEL     1\nATOM      1    C MOL     1      -0.047   0.668  -0.000  1.00  0.00           C  \nATOM      2    O MOL     1      -0.042  -0.764  -0.000  1.00  0.00           O  \nATOM      3    H MOL     1      -1.101   0.974  -0.000  1.00  0.00           H  \nATOM      4    H MOL     1       0.881  -1.068   0.000  1.00  0.00           H  \nATOM      5    H MOL     1       0.437   1.089   0.897  1.00  0.00           H  \nATOM      6    H MOL     1       0.437   1.089  -0.897  1.00  0.00           H  \nENDMDL\n",
           "type": "blob"
          }
         ],
         "kwargs": {
          "defaultRepresentation": false,
          "ext": "pdb"
         },
         "methodName": "loadFile",
         "reconstruc_color_scheme": false,
         "target": "Stage",
         "type": "call_method"
        },
        {
         "args": [
          "500px",
          "500px"
         ],
         "kwargs": {},
         "methodName": "setSize",
         "reconstruc_color_scheme": false,
         "target": "Widget",
         "type": "call_method"
        },
        {
         "args": [
          "unitcell"
         ],
         "component_index": 0,
         "kwargs": {
          "sele": "all"
         },
         "methodName": "addRepresentation",
         "reconstruc_color_scheme": false,
         "target": "compList",
         "type": "call_method"
        },
        {
         "args": [
          "spacefill"
         ],
         "component_index": 0,
         "kwargs": {
          "sele": "all"
         },
         "methodName": "addRepresentation",
         "reconstruc_color_scheme": false,
         "target": "compList",
         "type": "call_method"
        },
        {
         "args": [],
         "kwargs": {
          "cameraType": "orthographic"
         },
         "methodName": "setParameters",
         "reconstruc_color_scheme": false,
         "target": "Stage",
         "type": "call_method"
        },
        {
         "args": [
          {
           "clipDist": 0
          }
         ],
         "kwargs": {},
         "methodName": "setParameters",
         "reconstruc_color_scheme": false,
         "target": "Widget",
         "type": "call_method"
        },
        {
         "args": [
          "spacefill",
          0
         ],
         "kwargs": {
          "colorScale": "rainbow",
          "colorScheme": "element",
          "radiusScale": 0.5,
          "radiusType": "covalent"
         },
         "methodName": "updateRepresentationsByName",
         "reconstruc_color_scheme": false,
         "target": "Widget",
         "type": "call_method"
        },
        {
         "args": [
          "this._Q = [[1.0, 0.0, 0.0], [0.0, 1.0, 0.0], [0.0, 0.0, 1.0]]\n    var tooltip = document.createElement('div');\n    Object.assign(tooltip.style, {\n      display: 'none',\n      position: 'fixed',\n      zIndex: 10,\n      pointerEvents: 'none',\n      backgroundColor: 'rgba( 0, 0, 0, 0.6 )',\n      color: 'lightgrey',\n      padding: '8px',\n      fontFamily: 'sans-serif'\n    });\n    document.body.appendChild(tooltip);\n\n    var that = this;\n    this.stage.mouseControls.remove('hoverPick');\n    this.stage.signals.hovered.add(function (pickingProxy) {\n      if (pickingProxy && (pickingProxy.atom || pickingProxy.bond)) {\n        var atom = pickingProxy.atom || pickingProxy.closestBondAtom\n        var mp = pickingProxy.mouse.position\n        //tooltip.innerText = atom.element + ' i=' + atom.index + ' (' + atom.x.toFixed(2) +  ', ' + atom.y.toFixed(2) +  ', ' + atom.z.toFixed(2) + ')'\n        //var pos = that._atoms_pos[atom.index]\n        var Q = that._Q\n        var pos_x = Q[0][0] * atom.x + Q[0][1] * atom.y + Q[0][2] * atom.z \n        var pos_y = Q[1][0] * atom.x + Q[1][1] * atom.y + Q[1][2] * atom.z\n        var pos_z = Q[2][0] * atom.x + Q[2][1] * atom.y + Q[2][2] * atom.z\n        tooltip.innerText = 'i=' + atom.index + ' ' + atom.element + ' (' + pos_x.toFixed(2) +  ', ' + pos_y.toFixed(2) +  ', ' + pos_z.toFixed(2) + ')'\n        tooltip.style.bottom = window.innerHeight - mp.y + 3 + 'px'\n        tooltip.style.left = mp.x + 3 + 'px'\n        tooltip.style.display = 'block'\n      } else {\n        tooltip.style.display = 'none'\n      }\n    });\n    this.stage.tooltip = tooltip;\n    "
         ],
         "kwargs": {},
         "methodName": "executeCode",
         "reconstruc_color_scheme": false,
         "target": "Widget",
         "type": "call_method"
        },
        {
         "args": [
          "ball+stick"
         ],
         "component_index": 0,
         "kwargs": {
          "sele": "all"
         },
         "methodName": "addRepresentation",
         "reconstruc_color_scheme": false,
         "target": "compList",
         "type": "call_method"
        }
       ],
       "_ngl_original_stage_parameters": {
        "ambientColor": 14540253,
        "ambientIntensity": 0.2,
        "backgroundColor": "white",
        "cameraEyeSep": 0.3,
        "cameraFov": 40,
        "cameraType": "perspective",
        "clipDist": 10,
        "clipFar": 100,
        "clipNear": 0,
        "fogFar": 100,
        "fogNear": 50,
        "hoverTimeout": 0,
        "impostor": true,
        "lightColor": 14540253,
        "lightIntensity": 1,
        "mousePreset": "default",
        "panSpeed": 1,
        "quality": "medium",
        "rotateSpeed": 2,
        "sampleLevel": 0,
        "tooltip": true,
        "workerDefault": true,
        "zoomSpeed": 1.2
       },
       "_ngl_repr_dict": {
        "0": {
         "0": {
          "params": {
           "clipCenter": {
            "x": 0,
            "y": 0,
            "z": 0
           },
           "clipNear": 0,
           "clipRadius": 0,
           "colorMode": "hcl",
           "colorReverse": false,
           "colorScale": "",
           "colorScheme": "element",
           "colorValue": "orange",
           "defaultAssembly": "",
           "depthWrite": true,
           "diffuse": 16777215,
           "diffuseInterior": false,
           "disableImpostor": false,
           "disablePicking": false,
           "flatShaded": false,
           "interiorColor": 2236962,
           "interiorDarkening": 0,
           "lazy": false,
           "matrix": {
            "elements": [
             1,
             0,
             0,
             0,
             0,
             1,
             0,
             0,
             0,
             0,
             1,
             0,
             0,
             0,
             0,
             1
            ]
           },
           "metalness": 0,
           "opacity": 1,
           "quality": "medium",
           "radialSegments": 10,
           "radiusData": {},
           "radiusScale": 1,
           "radiusSize": 0.5,
           "radiusType": "vdw",
           "roughness": 0.4,
           "sele": "all",
           "side": "double",
           "sphereDetail": 1,
           "useInteriorColor": true,
           "visible": true,
           "wireframe": false
          },
          "type": "unitcell"
         },
         "1": {
          "params": {
           "assembly": "default",
           "clipCenter": {
            "x": 0,
            "y": 0,
            "z": 0
           },
           "clipNear": 0,
           "clipRadius": 0,
           "colorMode": "hcl",
           "colorReverse": false,
           "colorScale": "rainbow",
           "colorScheme": "element",
           "colorValue": 9474192,
           "defaultAssembly": "",
           "depthWrite": true,
           "diffuse": 16777215,
           "diffuseInterior": false,
           "disableImpostor": false,
           "disablePicking": false,
           "flatShaded": false,
           "interiorColor": 2236962,
           "interiorDarkening": 0,
           "lazy": false,
           "matrix": {
            "elements": [
             1,
             0,
             0,
             0,
             0,
             1,
             0,
             0,
             0,
             0,
             1,
             0,
             0,
             0,
             0,
             1
            ]
           },
           "metalness": 0,
           "opacity": 1,
           "quality": "medium",
           "radiusData": {},
           "radiusScale": 0.5,
           "radiusSize": 1,
           "radiusType": "covalent",
           "roughness": 0.4,
           "sele": "all",
           "side": "double",
           "sphereDetail": 1,
           "useInteriorColor": true,
           "visible": true,
           "wireframe": false
          },
          "type": "spacefill"
         },
         "2": {
          "params": {
           "aspectRatio": 2,
           "assembly": "default",
           "bondScale": 0.4,
           "bondSpacing": 1,
           "clipCenter": {
            "x": 0,
            "y": 0,
            "z": 0
           },
           "clipNear": 0,
           "clipRadius": 0,
           "colorMode": "hcl",
           "colorReverse": false,
           "colorScale": "",
           "colorScheme": "element",
           "colorValue": 9474192,
           "cylinderOnly": false,
           "defaultAssembly": "",
           "depthWrite": true,
           "diffuse": 16777215,
           "diffuseInterior": false,
           "disableImpostor": false,
           "disablePicking": false,
           "flatShaded": false,
           "interiorColor": 2236962,
           "interiorDarkening": 0,
           "lazy": false,
           "lineOnly": false,
           "linewidth": 2,
           "matrix": {
            "elements": [
             1,
             0,
             0,
             0,
             0,
             1,
             0,
             0,
             0,
             0,
             1,
             0,
             0,
             0,
             0,
             1
            ]
           },
           "metalness": 0,
           "multipleBond": "off",
           "opacity": 1,
           "openEnded": true,
           "quality": "medium",
           "radialSegments": 10,
           "radiusData": {},
           "radiusScale": 1,
           "radiusSize": 0.15,
           "radiusType": "size",
           "roughness": 0.4,
           "sele": "all",
           "side": "double",
           "sphereDetail": 1,
           "useInteriorColor": true,
           "visible": true,
           "wireframe": false
          },
          "type": "ball+stick"
         }
        }
       },
       "_ngl_serialize": false,
       "_ngl_version": "2.0.0-dev.36",
       "_ngl_view_id": [
        "7A4E2C4D-2F7D-4BEA-AECE-95FB590FD60E"
       ],
       "_player_dict": {},
       "_scene_position": {},
       "_scene_rotation": {},
       "_synced_model_ids": [],
       "_synced_repr_model_ids": [],
       "_view_height": "",
       "_view_width": "",
       "background": "white",
       "frame": 0,
       "gui_style": null,
       "layout": "IPY_MODEL_682829c8fb644e74aceae57aa3bb5594",
       "max_frame": 29,
       "n_components": 1,
       "picked": {}
      }
     },
     "cef4e76f92594e2c9a6bbb903acd6bda": {
      "model_module": "@jupyter-widgets/controls",
      "model_module_version": "1.5.0",
      "model_name": "LinkModel",
      "state": {
       "source": [
        "IPY_MODEL_14e76e8e0d7041e489425e998fa10868",
        "max"
       ],
       "target": [
        "IPY_MODEL_47c93867455c423ab27dc27c117d0232",
        "max_frame"
       ]
      }
     },
     "cf286eef544a401d8d65b16f55f4ba9b": {
      "model_module": "@jupyter-widgets/controls",
      "model_module_version": "1.5.0",
      "model_name": "DescriptionStyleModel",
      "state": {
       "description_width": ""
      }
     },
     "cfec6473aae24fa8893d4a5dc010d79b": {
      "model_module": "@jupyter-widgets/controls",
      "model_module_version": "1.5.0",
      "model_name": "ButtonModel",
      "state": {
       "description": "Save image",
       "layout": "IPY_MODEL_005015deb8ed4e23b7d4574f2cbe25cb",
       "style": "IPY_MODEL_c186dd55718146b9bc6ee4aeadf80f6a",
       "tooltip": "Save current frame to file.\nCurrently .png and .html are supported.\nIt takes a bit time, please be patient."
      }
     },
     "d18b5a4d77ff4754b60fb41a50ed6359": {
      "model_module": "@jupyter-widgets/base",
      "model_module_version": "1.2.0",
      "model_name": "LayoutModel",
      "state": {}
     },
     "d4c966c0891045e1ace81b4f097d942d": {
      "model_module": "@jupyter-widgets/controls",
      "model_module_version": "1.5.0",
      "model_name": "HBoxModel",
      "state": {
       "children": [
        "IPY_MODEL_ebfb5c647a9e4a89a03a4bb64e78bede",
        "IPY_MODEL_081016e66791465a9b41c870e85aac5a"
       ],
       "layout": "IPY_MODEL_305d81a9ccf64ce6afbaa0331e55008f"
      }
     },
     "d8719fa0e8d54315990d48abd850ad1c": {
      "model_module": "@jupyter-widgets/base",
      "model_module_version": "1.2.0",
      "model_name": "LayoutModel",
      "state": {}
     },
     "d8c711fd2f8340abb41c10cfe0f016bc": {
      "model_module": "@jupyter-widgets/base",
      "model_module_version": "1.2.0",
      "model_name": "LayoutModel",
      "state": {}
     },
     "d975b0c83414421e8b3f8b786e9ebd4f": {
      "model_module": "@jupyter-widgets/base",
      "model_module_version": "1.2.0",
      "model_name": "LayoutModel",
      "state": {}
     },
     "de09543cb0874450ad1b55184d5738a5": {
      "model_module": "@jupyter-widgets/base",
      "model_module_version": "1.2.0",
      "model_name": "LayoutModel",
      "state": {}
     },
     "de93f19a08554c2e8dbc6f2994f057a5": {
      "model_module": "@jupyter-widgets/base",
      "model_module_version": "1.2.0",
      "model_name": "LayoutModel",
      "state": {}
     },
     "decb701f360d4f7aa6058d3020d58e7f": {
      "model_module": "@jupyter-widgets/base",
      "model_module_version": "1.2.0",
      "model_name": "LayoutModel",
      "state": {}
     },
     "e11ab52de8c74fd6ad2c9a5c8542ce15": {
      "model_module": "@jupyter-widgets/controls",
      "model_module_version": "1.5.0",
      "model_name": "LinkModel",
      "state": {
       "source": [
        "IPY_MODEL_36f6343fa14c4d00bd8c7d48a7ee5b1f",
        "max"
       ],
       "target": [
        "IPY_MODEL_4e0be8ddb0494b60be3815c28ff0030b",
        "max_frame"
       ]
      }
     },
     "e367001f6a5f46c592ad1bac93fe27be": {
      "model_module": "@jupyter-widgets/base",
      "model_module_version": "1.2.0",
      "model_name": "LayoutModel",
      "state": {}
     },
     "e4b9fc3ecb744a3aaaf47f8f14a11823": {
      "model_module": "@jupyter-widgets/controls",
      "model_module_version": "1.5.0",
      "model_name": "ButtonModel",
      "state": {
       "icon": "compress",
       "layout": "IPY_MODEL_302435eb257843afadc4a77906d819a4",
       "style": "IPY_MODEL_36103a1e67b6419fbd08d0938b6e083c"
      }
     },
     "e5c274090dad41f485a6a0b3ccae48ea": {
      "model_module": "@jupyter-widgets/controls",
      "model_module_version": "1.5.0",
      "model_name": "SliderStyleModel",
      "state": {
       "description_width": ""
      }
     },
     "e617a59a06ae40c7a88c56cc5ab708bf": {
      "model_module": "@jupyter-widgets/controls",
      "model_module_version": "1.5.0",
      "model_name": "DropdownModel",
      "state": {
       "_options_labels": [
        " ",
        "picking",
        "random",
        "uniform",
        "atomindex",
        "residueindex",
        "chainindex",
        "modelindex",
        "sstruc",
        "element",
        "resname",
        "bfactor",
        "hydrophobicity",
        "value",
        "volume",
        "occupancy"
       ],
       "description": "Color scheme",
       "index": 9,
       "layout": "IPY_MODEL_339a56751cf646aebca43f335c5f4b0e",
       "style": "IPY_MODEL_01c3d0e9e27b4a3186d2feffbc205709"
      }
     },
     "e7770e0720f84379a5d6ed60198289ae": {
      "model_module": "@jupyter-widgets/base",
      "model_module_version": "1.2.0",
      "model_name": "LayoutModel",
      "state": {}
     },
     "e9ef9b7a84e0411c91ecfe7f87e2af1e": {
      "model_module": "@jupyter-widgets/base",
      "model_module_version": "1.2.0",
      "model_name": "LayoutModel",
      "state": {}
     },
     "ea90579000664cabb8ba47533b1ac488": {
      "model_module": "@jupyter-widgets/controls",
      "model_module_version": "1.5.0",
      "model_name": "HTMLModel",
      "state": {
       "layout": "IPY_MODEL_32307abbd2ea47d091ad8aeb571ea4f0",
       "style": "IPY_MODEL_c57fbac4f2b5456ab6a327cba7785938",
       "value": "100%"
      }
     },
     "eac5a19351a648eaa549658f5510f081": {
      "model_module": "@jupyter-widgets/base",
      "model_module_version": "1.2.0",
      "model_name": "LayoutModel",
      "state": {}
     },
     "eb43138c434047f48a42cd8a8f455548": {
      "model_module": "@jupyter-widgets/base",
      "model_module_version": "1.2.0",
      "model_name": "LayoutModel",
      "state": {
       "border": "0px solid black"
      }
     },
     "eb4766ba20e846a4b239177a2303e5a8": {
      "model_module": "@jupyter-widgets/base",
      "model_module_version": "1.2.0",
      "model_name": "LayoutModel",
      "state": {}
     },
     "ebfb5c647a9e4a89a03a4bb64e78bede": {
      "model_module": "@jupyter-widgets/controls",
      "model_module_version": "1.5.0",
      "model_name": "ButtonModel",
      "state": {
       "description": "Download image",
       "layout": "IPY_MODEL_f72709d151104994915c14c0be10b307",
       "style": "IPY_MODEL_74250ff14bea496d8e60ff378fbd0e9c",
       "tooltip": "Download current frame to your local PC"
      }
     },
     "ec5c0a7f83db4c409835a70ff7c4321a": {
      "model_module": "@jupyter-widgets/controls",
      "model_module_version": "1.5.0",
      "model_name": "SliderStyleModel",
      "state": {
       "description_width": ""
      }
     },
     "ed5fd9f5d594490ba0b0415d76677805": {
      "model_module": "@jupyter-widgets/controls",
      "model_module_version": "1.5.0",
      "model_name": "DescriptionStyleModel",
      "state": {
       "description_width": ""
      }
     },
     "ef3cecfbc74742e99161aa6ee2be2cd5": {
      "model_module": "@jupyter-widgets/controls",
      "model_module_version": "1.5.0",
      "model_name": "PlayModel",
      "state": {
       "layout": "IPY_MODEL_99aaf1ef3b8e4e4c9148051dc80333fb",
       "max": 29,
       "style": "IPY_MODEL_6e9b04fa09c044df9544925e6e59af97"
      }
     },
     "efa9ab3dba104599a648f27a3fb39a9a": {
      "model_module": "@jupyter-widgets/controls",
      "model_module_version": "1.5.0",
      "model_name": "DescriptionStyleModel",
      "state": {
       "description_width": ""
      }
     },
     "f29a96259e634cf0afd9d795ba2fd9dd": {
      "model_module": "@jupyter-widgets/controls",
      "model_module_version": "1.5.0",
      "model_name": "CheckboxModel",
      "state": {
       "description": "Show force",
       "disabled": false,
       "layout": "IPY_MODEL_83e4e99a88734263903a4bd08136c503",
       "style": "IPY_MODEL_0d242ba36efe43a39d9f7ee7f3482e45",
       "value": false
      }
     },
     "f3aa63c449a6417dac59a2c6b5fcd408": {
      "model_module": "@jupyter-widgets/controls",
      "model_module_version": "1.5.0",
      "model_name": "LinkModel",
      "state": {
       "source": [
        "IPY_MODEL_7fa47e993f9a4c7db833093e00c30ba0",
        "max"
       ],
       "target": [
        "IPY_MODEL_cc4b886cc8424182b66db222839d18ab",
        "max_frame"
       ]
      }
     },
     "f42867c74f484447aba055ec3429573e": {
      "model_module": "@jupyter-widgets/controls",
      "model_module_version": "1.5.0",
      "model_name": "SliderStyleModel",
      "state": {
       "description_width": ""
      }
     },
     "f72709d151104994915c14c0be10b307": {
      "model_module": "@jupyter-widgets/base",
      "model_module_version": "1.2.0",
      "model_name": "LayoutModel",
      "state": {}
     },
     "f7867f4caf6b4947842071d8cfb7e1f6": {
      "model_module": "@jupyter-widgets/controls",
      "model_module_version": "1.5.0",
      "model_name": "SliderStyleModel",
      "state": {
       "description_width": ""
      }
     },
     "f7a5ba4e2253439895ab7cfbd85f70c2": {
      "model_module": "@jupyter-widgets/base",
      "model_module_version": "1.2.0",
      "model_name": "LayoutModel",
      "state": {}
     },
     "f7c050ed89f94d118ebe1babe75d5819": {
      "model_module": "@jupyter-widgets/base",
      "model_module_version": "1.2.0",
      "model_name": "LayoutModel",
      "state": {}
     },
     "f9d26db34af744b99e594cec00fd6d16": {
      "model_module": "@jupyter-widgets/base",
      "model_module_version": "1.2.0",
      "model_name": "LayoutModel",
      "state": {}
     },
     "fa9e7de4f20641f0a1256d45664573ab": {
      "model_module": "@jupyter-widgets/controls",
      "model_module_version": "1.5.0",
      "model_name": "FloatSliderModel",
      "state": {
       "description": "Ball size",
       "layout": "IPY_MODEL_d975b0c83414421e8b3f8b786e9ebd4f",
       "max": 1.5,
       "step": 0.01,
       "style": "IPY_MODEL_3b959763069a4f588adadc8697ecbf37",
       "value": 0.5
      }
     },
     "fb75368ed22c4046b15e270e4209c0d3": {
      "model_module": "@jupyter-widgets/controls",
      "model_module_version": "1.5.0",
      "model_name": "ButtonModel",
      "state": {
       "description": "Download image",
       "layout": "IPY_MODEL_31b5561e1701471b8caac27fdab5a89f",
       "style": "IPY_MODEL_082a10d9231c428781e87e3b5a89ce52",
       "tooltip": "Download current frame to your local PC"
      }
     },
     "fceba1d078ff4db4811380f906a63501": {
      "model_module": "@jupyter-widgets/base",
      "model_module_version": "1.2.0",
      "model_name": "LayoutModel",
      "state": {}
     },
     "feb821894e324b52930aa9b8eb6fdf52": {
      "model_module": "@jupyter-widgets/controls",
      "model_module_version": "1.5.0",
      "model_name": "FloatProgressModel",
      "state": {
       "bar_style": "success",
       "layout": "IPY_MODEL_44b9be02f8934c1a99ec9147b8c4ddd2",
       "max": 9,
       "style": "IPY_MODEL_277c47a983d54b6d8e37d6ea3cb3efbd",
       "value": 9
      }
     }
    },
    "version_major": 2,
    "version_minor": 0
   }
  }
 },
 "nbformat": 4,
 "nbformat_minor": 5
}

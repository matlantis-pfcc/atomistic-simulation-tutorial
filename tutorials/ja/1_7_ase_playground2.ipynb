{
 "cells": [
  {
   "cell_type": "markdown",
   "id": "27b5252f-2c78-48ff-8a6d-beb82f2c72ce",
   "metadata": {},
   "source": [
    "# Atomsの操作2\n",
    "\n",
    "前節に引き続き、Atomsを操作していく実例を通してその扱いにより深く慣れていきましょう。"
   ]
  },
  {
   "cell_type": "code",
   "execution_count": 1,
   "id": "0e8e56e2-c42f-4267-a255-f2282fb1dbf0",
   "metadata": {},
   "outputs": [
    {
     "data": {
      "application/vnd.jupyter.widget-view+json": {
       "model_id": "29e67a6f56d04e46958b661f9dd7ef3d",
       "version_major": 2,
       "version_minor": 0
      },
      "text/plain": []
     },
     "metadata": {},
     "output_type": "display_data"
    }
   ],
   "source": [
    "from ase import Atoms\n",
    "from ase.build import molecule, bulk\n",
    "\n",
    "from pfcc_extras.visualize.view import view_ngl"
   ]
  },
  {
   "cell_type": "markdown",
   "id": "f31836f1-e3a3-46c4-95e0-02238f8d905f",
   "metadata": {},
   "source": [
    "## Super cellの作成\n",
    "\n",
    "前節でもすでに説明したように、周期系の構造は`repeat`または、掛け算 \"*\" の記法を用いる用いることでCellサイズを大きくすることができます。"
   ]
  },
  {
   "cell_type": "code",
   "execution_count": 2,
   "id": "5555d047-0694-4328-a77f-1e87e9907fca",
   "metadata": {},
   "outputs": [
    {
     "data": {
      "application/vnd.jupyter.widget-view+json": {
       "model_id": "3bfdc5244af14e4286d1d39ac0fa8b07",
       "version_major": 2,
       "version_minor": 0
      },
      "text/plain": [
       "HBox(children=(NGLWidget(), VBox(children=(Dropdown(description='Show', options=('All', 'Si'), value='All'), D…"
      ]
     },
     "metadata": {},
     "output_type": "display_data"
    }
   ],
   "source": [
    "atoms = bulk(\"Si\") * (2, 3, 4)\n",
    "atoms222 = atoms * (2, 2, 2)\n",
    "view_ngl(atoms222, w=400, h=300)"
   ]
  },
  {
   "cell_type": "markdown",
   "id": "eed63c11-48fe-4016-9e0e-3688d939b74b",
   "metadata": {},
   "source": [
    "## Cell の取り扱い\n",
    "\n",
    "周期構造を持つ `atoms`は `cell` propertyを持ちますが、これは `Cell` クラスという特別なクラスで定義されており、いくつか追加の関数を持っています。"
   ]
  },
  {
   "cell_type": "code",
   "execution_count": 3,
   "id": "734eaab0-0ad5-45c4-aab0-3565fa9700c6",
   "metadata": {},
   "outputs": [
    {
     "data": {
      "application/vnd.jupyter.widget-view+json": {
       "model_id": "d4c45819b9c648d69296a55a516edcc4",
       "version_major": 2,
       "version_minor": 0
      },
      "text/plain": [
       "HBox(children=(NGLWidget(), VBox(children=(Dropdown(description='Show', options=('All', 'Fe'), value='All'), D…"
      ]
     },
     "metadata": {},
     "output_type": "display_data"
    }
   ],
   "source": [
    "# atoms = bulk(\"Fe\", cubic=True)\n",
    "atoms = bulk(\"Fe\") * (2, 2, 2)\n",
    "view_ngl(atoms, w=400, h=300)"
   ]
  },
  {
   "cell_type": "code",
   "execution_count": 4,
   "id": "f25e0e29-a611-47dd-a49d-4276d931d0e9",
   "metadata": {},
   "outputs": [
    {
     "data": {
      "text/plain": [
       "Cell([[-2.87, 2.87, 2.87], [2.87, -2.87, 2.87], [2.87, 2.87, -2.87]])"
      ]
     },
     "execution_count": 4,
     "metadata": {},
     "output_type": "execute_result"
    }
   ],
   "source": [
    "atoms.cell"
   ]
  },
  {
   "cell_type": "markdown",
   "id": "b737797e-6f40-4a05-9371-a92846f3fe70",
   "metadata": {},
   "source": [
    "<img src=https://upload.wikimedia.org/wikipedia/commons/5/5e/UnitCell.png width=\"400\">\n",
    "\n",
    "<cite>[分率座標](https://ja.wikipedia.org/wiki/%E5%88%86%E7%8E%87%E5%BA%A7%E6%A8%99)より</cite>\n",
    "\n",
    "結晶のCellはa軸, b軸, c軸のベクトルをそれぞれ示した3x3 の配列でも表せますが、分率座標を用いると、軸の長さ a, b, cと、軸の角度 α, β, γ で表すこともできます。<br/>\n",
    "以下の関数はそれぞれ次の値を返します。\n",
    "\n",
    " - `cellpar()`: (a, b, c, α, β, γ)\n",
    " - `lengths()`: (a, b, c)\n",
    " - `angles()`: (α, β, γ)"
   ]
  },
  {
   "cell_type": "code",
   "execution_count": 5,
   "id": "e9fd7e79-73ad-4d52-9f28-288972a13e2b",
   "metadata": {},
   "outputs": [
    {
     "name": "stdout",
     "output_type": "stream",
     "text": [
      "cellpar():  [  4.97098582   4.97098582   4.97098582 109.47122063 109.47122063\n",
      " 109.47122063]\n",
      "lengths():  [4.97098582 4.97098582 4.97098582]\n",
      "angles() :  [109.47122063 109.47122063 109.47122063]\n"
     ]
    }
   ],
   "source": [
    "print(\"cellpar(): \", atoms.cell.cellpar())\n",
    "print(\"lengths(): \", atoms.cell.lengths())\n",
    "print(\"angles() : \", atoms.cell.angles())"
   ]
  },
  {
   "cell_type": "markdown",
   "id": "9d1c0bf7-8413-4b15-9895-bf375dd58b81",
   "metadata": {},
   "source": [
    "3x3 配列にアクセスするには `array`で numpy array が取得できます。"
   ]
  },
  {
   "cell_type": "code",
   "execution_count": 6,
   "id": "2ebb1786-c7a2-40a0-a942-3ee79527b9c1",
   "metadata": {},
   "outputs": [
    {
     "data": {
      "text/plain": [
       "array([[-2.87,  2.87,  2.87],\n",
       "       [ 2.87, -2.87,  2.87],\n",
       "       [ 2.87,  2.87, -2.87]])"
      ]
     },
     "execution_count": 6,
     "metadata": {},
     "output_type": "execute_result"
    }
   ],
   "source": [
    "atoms.cell.array"
   ]
  },
  {
   "cell_type": "markdown",
   "id": "0cd30542-0e93-471d-9ae3-652aa26c3010",
   "metadata": {},
   "source": [
    "`cell` はnumpy の関数を使用することもできます。例えば以下はnumpyの`diagonal`関数で対角成分のみを取得しています。"
   ]
  },
  {
   "cell_type": "code",
   "execution_count": 7,
   "id": "9c74378a-9db3-495f-a920-8fe8638d67af",
   "metadata": {},
   "outputs": [
    {
     "data": {
      "text/plain": [
       "array([-2.87, -2.87, -2.87])"
      ]
     },
     "execution_count": 7,
     "metadata": {},
     "output_type": "execute_result"
    }
   ],
   "source": [
    "atoms.cell.diagonal()"
   ]
  },
  {
   "cell_type": "markdown",
   "id": "ea503dd4-e187-450c-ade2-928b1419d5de",
   "metadata": {},
   "source": [
    "`get_bravais_lattice` でブラベ格子や、`bandpath` でバンドパスを得ることもできます。"
   ]
  },
  {
   "cell_type": "code",
   "execution_count": 8,
   "id": "18ed40ec-5923-4e83-8748-32ecbea4828a",
   "metadata": {},
   "outputs": [
    {
     "data": {
      "text/plain": [
       "BCC(a=5.7400000000000002132)"
      ]
     },
     "execution_count": 8,
     "metadata": {},
     "output_type": "execute_result"
    }
   ],
   "source": [
    "atoms.cell.get_bravais_lattice()"
   ]
  },
  {
   "cell_type": "code",
   "execution_count": 9,
   "id": "924b711e-5517-4cfa-bb60-388ae82a9ee5",
   "metadata": {},
   "outputs": [
    {
     "data": {
      "text/plain": [
       "BandPath(path='GHNGPH,PN', cell=[3x3], special_points={GHNP}, kpts=[25x3])"
      ]
     },
     "execution_count": 9,
     "metadata": {},
     "output_type": "execute_result"
    }
   ],
   "source": [
    "atoms.cell.bandpath()"
   ]
  },
  {
   "cell_type": "markdown",
   "id": "294728b6-f59f-4129-9429-7fd09334a512",
   "metadata": {},
   "source": [
    "`standard_form()` methodはCellの形を下三角行列に標準化した場合のCellの形 `rcell` と、そのようにするための回転行列`Q` を計算します。"
   ]
  },
  {
   "cell_type": "code",
   "execution_count": 10,
   "id": "3003144b-9ccc-41cc-82c9-b80c6b4847b9",
   "metadata": {},
   "outputs": [
    {
     "data": {
      "text/plain": [
       "Cell([[4.970985817722678, 0.0, 0.0], [-1.6569952725742265, 4.686690374525147, 0.0], [-1.6569952725742256, -2.3433451872625737, 4.058792924010784]])"
      ]
     },
     "execution_count": 10,
     "metadata": {},
     "output_type": "execute_result"
    }
   ],
   "source": [
    "rcell, Q = atoms.cell.standard_form()\n",
    "rcell"
   ]
  },
  {
   "cell_type": "markdown",
   "id": "b3eb9c49-7ad9-4ee3-aba1-90f2a3118eda",
   "metadata": {},
   "source": [
    "## 元素置換\n",
    "\n",
    "ある結晶に対して、少量の添加物を加えた場合の構造を作りたい場合、ベースとなる結晶を作成した後に原子を置換する形でモデリングすることができます。\n",
    "\n",
    "以下の例は、Fe の金属中にVを添加する例です。\n",
    "\n",
    "※表面構造を生成する関数 `bcc111` では、 `vacuum` を指定することでz軸方向の真空層の長さを指定することができます。<br/>\n",
    "また、`periodic=True`とすることで、z軸方向に対しても周期境界条件を適用します。<br/>\n",
    "これを指定しないとCellサイズが定まらず、nglviewerの可視化でエラーが起こるので注意してください。"
   ]
  },
  {
   "cell_type": "code",
   "execution_count": 11,
   "id": "e29333f6-081f-4208-90aa-2e76ff5a2ccf",
   "metadata": {},
   "outputs": [
    {
     "data": {
      "application/vnd.jupyter.widget-view+json": {
       "model_id": "2b812306a8d2478a94fad73919d0aceb",
       "version_major": 2,
       "version_minor": 0
      },
      "text/plain": [
       "HBox(children=(NGLWidget(), VBox(children=(Dropdown(description='Show', options=('All', 'Fe'), value='All'), D…"
      ]
     },
     "metadata": {},
     "output_type": "display_data"
    }
   ],
   "source": [
    "from ase.build import bcc111\n",
    "\n",
    "atoms = bcc111(\"Fe\", size=(4, 4, 6), periodic=True, vacuum=10)\n",
    "view_ngl(atoms, w=400, h=300)"
   ]
  },
  {
   "cell_type": "markdown",
   "id": "0d202067-af54-4e2f-adb9-25e59554d136",
   "metadata": {},
   "source": [
    "はじめはすべてFe (原子番号26)となっています。"
   ]
  },
  {
   "cell_type": "code",
   "execution_count": 12,
   "id": "8dd9d3f2-e0ad-4956-9561-3f82eb76928a",
   "metadata": {},
   "outputs": [
    {
     "data": {
      "text/plain": [
       "array([26, 26, 26, 26, 26, 26, 26, 26, 26, 26, 26, 26, 26, 26, 26, 26, 26,\n",
       "       26, 26, 26, 26, 26, 26, 26, 26, 26, 26, 26, 26, 26, 26, 26, 26, 26,\n",
       "       26, 26, 26, 26, 26, 26, 26, 26, 26, 26, 26, 26, 26, 26, 26, 26, 26,\n",
       "       26, 26, 26, 26, 26, 26, 26, 26, 26, 26, 26, 26, 26, 26, 26, 26, 26,\n",
       "       26, 26, 26, 26, 26, 26, 26, 26, 26, 26, 26, 26, 26, 26, 26, 26, 26,\n",
       "       26, 26, 26, 26, 26, 26, 26, 26, 26, 26, 26])"
      ]
     },
     "execution_count": 12,
     "metadata": {},
     "output_type": "execute_result"
    }
   ],
   "source": [
    "numbers = atoms.get_atomic_numbers()\n",
    "numbers"
   ]
  },
  {
   "cell_type": "markdown",
   "id": "c3164879-97d1-4d0e-a459-e445c9a616a1",
   "metadata": {},
   "source": [
    "今回はランダムに5つの原子をV (原子番号23) に変えてみます。"
   ]
  },
  {
   "cell_type": "code",
   "execution_count": 13,
   "id": "3a1cafa3-f91f-4af4-a9f6-50f4cf3895fa",
   "metadata": {},
   "outputs": [
    {
     "name": "stdout",
     "output_type": "stream",
     "text": [
      "Replace [53 15 54 94 84] atom\n"
     ]
    }
   ],
   "source": [
    "import numpy as np\n",
    "\n",
    "replace_index = np.random.choice(np.arange(len(numbers)), size=5, replace=False)\n",
    "print(f\"Replace {replace_index} atom\")\n",
    "numbers[replace_index] = 23\n",
    "atoms.set_atomic_numbers(numbers)"
   ]
  },
  {
   "cell_type": "code",
   "execution_count": 14,
   "id": "87096072-1ef0-436f-a528-438f4a9e6886",
   "metadata": {},
   "outputs": [
    {
     "data": {
      "application/vnd.jupyter.widget-view+json": {
       "model_id": "ad4c06f294e94093b234a6fddac1de48",
       "version_major": 2,
       "version_minor": 0
      },
      "text/plain": [
       "HBox(children=(NGLWidget(), VBox(children=(Dropdown(description='Show', options=('All', 'Fe', 'V'), value='All…"
      ]
     },
     "metadata": {},
     "output_type": "display_data"
    }
   ],
   "source": [
    "view_ngl(atoms, w=400, h=300)"
   ]
  },
  {
   "cell_type": "markdown",
   "id": "5af66588-67ac-4f92-9739-496e0f0cd8b9",
   "metadata": {},
   "source": [
    "ちなみに、それぞれの元素の原子番号を知りたい場合は、 `ase.data.atomic_numbers` を参照することができます。"
   ]
  },
  {
   "cell_type": "code",
   "execution_count": 15,
   "id": "ab99077e-8939-48b6-a40a-9e59f2d6921a",
   "metadata": {},
   "outputs": [
    {
     "name": "stdout",
     "output_type": "stream",
     "text": [
      "atomic_numbers:  {'X': 0, 'H': 1, 'He': 2, 'Li': 3, 'Be': 4, 'B': 5, 'C': 6, 'N': 7, 'O': 8, 'F': 9, 'Ne': 10, 'Na': 11, 'Mg': 12, 'Al': 13, 'Si': 14, 'P': 15, 'S': 16, 'Cl': 17, 'Ar': 18, 'K': 19, 'Ca': 20, 'Sc': 21, 'Ti': 22, 'V': 23, 'Cr': 24, 'Mn': 25, 'Fe': 26, 'Co': 27, 'Ni': 28, 'Cu': 29, 'Zn': 30, 'Ga': 31, 'Ge': 32, 'As': 33, 'Se': 34, 'Br': 35, 'Kr': 36, 'Rb': 37, 'Sr': 38, 'Y': 39, 'Zr': 40, 'Nb': 41, 'Mo': 42, 'Tc': 43, 'Ru': 44, 'Rh': 45, 'Pd': 46, 'Ag': 47, 'Cd': 48, 'In': 49, 'Sn': 50, 'Sb': 51, 'Te': 52, 'I': 53, 'Xe': 54, 'Cs': 55, 'Ba': 56, 'La': 57, 'Ce': 58, 'Pr': 59, 'Nd': 60, 'Pm': 61, 'Sm': 62, 'Eu': 63, 'Gd': 64, 'Tb': 65, 'Dy': 66, 'Ho': 67, 'Er': 68, 'Tm': 69, 'Yb': 70, 'Lu': 71, 'Hf': 72, 'Ta': 73, 'W': 74, 'Re': 75, 'Os': 76, 'Ir': 77, 'Pt': 78, 'Au': 79, 'Hg': 80, 'Tl': 81, 'Pb': 82, 'Bi': 83, 'Po': 84, 'At': 85, 'Rn': 86, 'Fr': 87, 'Ra': 88, 'Ac': 89, 'Th': 90, 'Pa': 91, 'U': 92, 'Np': 93, 'Pu': 94, 'Am': 95, 'Cm': 96, 'Bk': 97, 'Cf': 98, 'Es': 99, 'Fm': 100, 'Md': 101, 'No': 102, 'Lr': 103, 'Rf': 104, 'Db': 105, 'Sg': 106, 'Bh': 107, 'Hs': 108, 'Mt': 109, 'Ds': 110, 'Rg': 111, 'Cn': 112, 'Nh': 113, 'Fl': 114, 'Mc': 115, 'Lv': 116, 'Ts': 117, 'Og': 118}\n",
      "V's atomic number is 23\n"
     ]
    }
   ],
   "source": [
    "from ase.data import atomic_numbers\n",
    "print(\"atomic_numbers: \", atomic_numbers)\n",
    "\n",
    "print(f\"V's atomic number is\", atomic_numbers['V'])"
   ]
  },
  {
   "cell_type": "markdown",
   "id": "ff00e87e-965c-4f68-b84c-5b87d1935b80",
   "metadata": {},
   "source": [
    "逆に、元素番号から元素記号・名前を知りたい場合は、 `chemical_symbols`, `atomic_names` を使用できます。"
   ]
  },
  {
   "cell_type": "code",
   "execution_count": 16,
   "id": "019717ec-1b00-4974-af08-d9ab1ed44086",
   "metadata": {},
   "outputs": [
    {
     "name": "stdout",
     "output_type": "stream",
     "text": [
      "chemical_symbols:  ['X', 'H', 'He', 'Li', 'Be', 'B', 'C', 'N', 'O', 'F', 'Ne', 'Na', 'Mg', 'Al', 'Si', 'P', 'S', 'Cl', 'Ar', 'K', 'Ca', 'Sc', 'Ti', 'V', 'Cr', 'Mn', 'Fe', 'Co', 'Ni', 'Cu', 'Zn', 'Ga', 'Ge', 'As', 'Se', 'Br', 'Kr', 'Rb', 'Sr', 'Y', 'Zr', 'Nb', 'Mo', 'Tc', 'Ru', 'Rh', 'Pd', 'Ag', 'Cd', 'In', 'Sn', 'Sb', 'Te', 'I', 'Xe', 'Cs', 'Ba', 'La', 'Ce', 'Pr', 'Nd', 'Pm', 'Sm', 'Eu', 'Gd', 'Tb', 'Dy', 'Ho', 'Er', 'Tm', 'Yb', 'Lu', 'Hf', 'Ta', 'W', 'Re', 'Os', 'Ir', 'Pt', 'Au', 'Hg', 'Tl', 'Pb', 'Bi', 'Po', 'At', 'Rn', 'Fr', 'Ra', 'Ac', 'Th', 'Pa', 'U', 'Np', 'Pu', 'Am', 'Cm', 'Bk', 'Cf', 'Es', 'Fm', 'Md', 'No', 'Lr', 'Rf', 'Db', 'Sg', 'Bh', 'Hs', 'Mt', 'Ds', 'Rg', 'Cn', 'Nh', 'Fl', 'Mc', 'Lv', 'Ts', 'Og']\n",
      "atomic_names    :  ['', 'Hydrogen', 'Helium', 'Lithium', 'Beryllium', 'Boron', 'Carbon', 'Nitrogen', 'Oxygen', 'Fluorine', 'Neon', 'Sodium', 'Magnesium', 'Aluminium', 'Silicon', 'Phosphorus', 'Sulfur', 'Chlorine', 'Argon', 'Potassium', 'Calcium', 'Scandium', 'Titanium', 'Vanadium', 'Chromium', 'Manganese', 'Iron', 'Cobalt', 'Nickel', 'Copper', 'Zinc', 'Gallium', 'Germanium', 'Arsenic', 'Selenium', 'Bromine', 'Krypton', 'Rubidium', 'Strontium', 'Yttrium', 'Zirconium', 'Niobium', 'Molybdenum', 'Technetium', 'Ruthenium', 'Rhodium', 'Palladium', 'Silver', 'Cadmium', 'Indium', 'Tin', 'Antimony', 'Tellurium', 'Iodine', 'Xenon', 'Caesium', 'Barium', 'Lanthanum', 'Cerium', 'Praseodymium', 'Neodymium', 'Promethium', 'Samarium', 'Europium', 'Gadolinium', 'Terbium', 'Dysprosium', 'Holmium', 'Erbium', 'Thulium', 'Ytterbium', 'Lutetium', 'Hafnium', 'Tantalum', 'Tungsten', 'Rhenium', 'Osmium', 'Iridium', 'Platinum', 'Gold', 'Mercury', 'Thallium', 'Lead', 'Bismuth', 'Polonium', 'Astatine', 'Radon', 'Francium', 'Radium', 'Actinium', 'Thorium', 'Protactinium', 'Uranium', 'Neptunium', 'Plutonium', 'Americium', 'Curium', 'Berkelium', 'Californium', 'Einsteinium', 'Fermium', 'Mendelevium', 'Nobelium', 'Lawrencium', 'Rutherfordium', 'Dubnium', 'Seaborgium', 'Bohrium', 'Hassium', 'Meitnerium', 'Darmastadtium', 'Roentgenium', 'Copernicium', 'Nihonium', 'Flerovium', 'Moscovium', 'Livermorium', 'Tennessine', 'Oganesson']\n",
      "atomic number 23 is V Vanadium\n"
     ]
    }
   ],
   "source": [
    "from ase.data import atomic_names, chemical_symbols\n",
    "print(\"chemical_symbols: \", chemical_symbols)\n",
    "print(\"atomic_names    : \", atomic_names)\n",
    "\n",
    "print(f\"atomic number 23 is\", chemical_symbols[23], atomic_names[23])"
   ]
  },
  {
   "cell_type": "markdown",
   "id": "28cb4a42-29bf-44e3-bf80-2a7e233080a5",
   "metadata": {},
   "source": [
    "## 空孔の作成\n",
    "\n",
    "結晶構造に欠陥がある場合の挙動を調べることは産業上重要です。\n",
    "\n",
    "ASEでは `pop` という関数を使うことにより、特定のindexの原子の削除ができます。\n",
    "(または、`del`関数も使用可能です。)\n",
    "\n",
    "Si結晶から、以下は13番目のSi原子を除いた欠陥構造を作る例です。"
   ]
  },
  {
   "cell_type": "code",
   "execution_count": 17,
   "id": "99b01421-9524-429c-8b7a-ad722f03ff0e",
   "metadata": {},
   "outputs": [
    {
     "data": {
      "application/vnd.jupyter.widget-view+json": {
       "model_id": "c8dbb0c80a5b4847b8de9b7b51dc8c11",
       "version_major": 2,
       "version_minor": 0
      },
      "text/plain": [
       "HBox(children=(NGLWidget(), VBox(children=(Dropdown(description='Show', options=('All', 'Si'), value='All'), D…"
      ]
     },
     "metadata": {},
     "output_type": "display_data"
    }
   ],
   "source": [
    "atoms = bulk(\"Si\") * (2, 2, 2)\n",
    "# `del atoms[13]` also works\n",
    "atoms.pop(13)\n",
    "view_ngl(atoms, representations=[\"ball+stick\"], w=400, h=300)"
   ]
  },
  {
   "cell_type": "markdown",
   "id": "b320d623-8d7e-4ba9-b353-c6d5288adba0",
   "metadata": {},
   "source": [
    "以上、ASEに実装されているいろいろな機能をみて、原子をどのように取り扱うかを学びました。\n",
    "\n",
    "ここから先は実践で、計算手法・事例とともに学習をしていきましょう。"
   ]
  }
 ],
 "metadata": {
  "kernelspec": {
   "display_name": "Python 3.9",
   "language": "python",
   "name": "python39"
  },
  "language_info": {
   "codemirror_mode": {
    "name": "ipython",
    "version": 3
   },
   "file_extension": ".py",
   "mimetype": "text/x-python",
   "name": "python",
   "nbconvert_exporter": "python",
   "pygments_lexer": "ipython3",
   "version": "3.9.16"
  },
  "widgets": {
   "application/vnd.jupyter.widget-state+json": {
    "state": {
     "00442bdb8c6946f4b94173d67e5c63c6": {
      "model_module": "@jupyter-widgets/base",
      "model_module_version": "1.2.0",
      "model_name": "LayoutModel",
      "state": {}
     },
     "006d629fb39f4f9da20e7b0ce404dbcd": {
      "model_module": "@jupyter-widgets/controls",
      "model_module_version": "1.5.0",
      "model_name": "FloatSliderModel",
      "state": {
       "description": "Charge scale",
       "layout": "IPY_MODEL_99103dda5cd24511addb480e94169081",
       "step": 0.1,
       "style": "IPY_MODEL_28cc4afce7f841a88572282270929563",
       "value": 1
      }
     },
     "00ac500a09a14202bbc3213e159d69be": {
      "model_module": "@jupyter-widgets/controls",
      "model_module_version": "1.5.0",
      "model_name": "DescriptionStyleModel",
      "state": {
       "description_width": ""
      }
     },
     "01642746f5844a0b8de8aa34691d9ba7": {
      "model_module": "@jupyter-widgets/base",
      "model_module_version": "1.2.0",
      "model_name": "LayoutModel",
      "state": {}
     },
     "01dc41c958be4d42bb0ff78965c6b06f": {
      "model_module": "@jupyter-widgets/controls",
      "model_module_version": "1.5.0",
      "model_name": "ButtonStyleModel",
      "state": {}
     },
     "03db3e24ccbc4b34a6a9a1a9583ed256": {
      "model_module": "@jupyter-widgets/base",
      "model_module_version": "1.2.0",
      "model_name": "LayoutModel",
      "state": {
       "border": "0px solid black"
      }
     },
     "047d25ac5daa4bea82474e959ce3a671": {
      "model_module": "@jupyter-widgets/controls",
      "model_module_version": "1.5.0",
      "model_name": "DescriptionStyleModel",
      "state": {
       "description_width": ""
      }
     },
     "05a7c18f414d48fd9e9ec63a4d9d5ce6": {
      "model_module": "@jupyter-widgets/controls",
      "model_module_version": "1.5.0",
      "model_name": "TextModel",
      "state": {
       "description": "Filename: ",
       "layout": "IPY_MODEL_70f81e1f63e04c6f93a9b17792d3cbef",
       "style": "IPY_MODEL_c73562cd6bf542ceb1003c9637944348",
       "value": "screenshot.png"
      }
     },
     "06ec9e376c55492da11b1aba235381df": {
      "model_module": "@jupyter-widgets/base",
      "model_module_version": "1.2.0",
      "model_name": "LayoutModel",
      "state": {}
     },
     "0782dfbeca6444929a6589719bb0928c": {
      "model_module": "@jupyter-widgets/controls",
      "model_module_version": "1.5.0",
      "model_name": "DropdownModel",
      "state": {
       "_options_labels": [
        "All",
        "Si"
       ],
       "description": "Show",
       "index": 0,
       "layout": "IPY_MODEL_2eca334311794eb7a4857086e3662692",
       "style": "IPY_MODEL_42df43c1d15a4fa58e5f85336ded4336"
      }
     },
     "089e6808f8b24d40933aaf534a0a888c": {
      "model_module": "@jupyter-widgets/controls",
      "model_module_version": "1.5.0",
      "model_name": "ButtonModel",
      "state": {
       "description": "Save image",
       "layout": "IPY_MODEL_0c5444bab32545c0916a7a0f524edc75",
       "style": "IPY_MODEL_01dc41c958be4d42bb0ff78965c6b06f",
       "tooltip": "Save current frame to file.\nCurrently .png and .html are supported.\nIt takes a bit time, please be patient."
      }
     },
     "0995c85a9c874749a11ac39b5b68994e": {
      "model_module": "@jupyter-widgets/controls",
      "model_module_version": "1.5.0",
      "model_name": "FloatSliderModel",
      "state": {
       "description": "Ball size",
       "layout": "IPY_MODEL_c9c6edd7da2a4218bc8b9c06617eb1ea",
       "max": 1.5,
       "step": 0.01,
       "style": "IPY_MODEL_6fa5d092895141d783b60016b15ab5c6",
       "value": 0.5
      }
     },
     "0a39e08562c545c2b609101242ed84cf": {
      "model_module": "@jupyter-widgets/controls",
      "model_module_version": "1.5.0",
      "model_name": "CheckboxModel",
      "state": {
       "description": "Show charge",
       "disabled": false,
       "layout": "IPY_MODEL_b53fae0151dc463abfbebf126d0f5742",
       "style": "IPY_MODEL_0c098f3f30e04c54815bdc44014bdcad",
       "value": false
      }
     },
     "0b2d3af1b2c14d7a8e9ab9bc5b4229dc": {
      "model_module": "@jupyter-widgets/controls",
      "model_module_version": "1.5.0",
      "model_name": "ButtonModel",
      "state": {
       "icon": "compress",
       "layout": "IPY_MODEL_418f372425e541c5ac3d77ff32ff3a83",
       "style": "IPY_MODEL_3328f148ca014f119372153043654518"
      }
     },
     "0b818e028cac499c89a6b99b8e4898b0": {
      "model_module": "@jupyter-widgets/base",
      "model_module_version": "1.2.0",
      "model_name": "LayoutModel",
      "state": {}
     },
     "0c098f3f30e04c54815bdc44014bdcad": {
      "model_module": "@jupyter-widgets/controls",
      "model_module_version": "1.5.0",
      "model_name": "DescriptionStyleModel",
      "state": {
       "description_width": ""
      }
     },
     "0c5444bab32545c0916a7a0f524edc75": {
      "model_module": "@jupyter-widgets/base",
      "model_module_version": "1.2.0",
      "model_name": "LayoutModel",
      "state": {}
     },
     "0c7b2e534382405ab0f005848a22fd74": {
      "model_module": "@jupyter-widgets/controls",
      "model_module_version": "1.5.0",
      "model_name": "FloatSliderModel",
      "state": {
       "description": "Charge scale",
       "layout": "IPY_MODEL_cedf1c4e27f548c2878c0ea7c0b95200",
       "step": 0.1,
       "style": "IPY_MODEL_87fb6e43eef64ae29db6e236ddb39ff9",
       "value": 1
      }
     },
     "0c97706fc35646a3a5739bba8707847d": {
      "model_module": "@jupyter-widgets/base",
      "model_module_version": "1.2.0",
      "model_name": "LayoutModel",
      "state": {}
     },
     "0ce73f3ee0ac4c809c44a08aa39b23d1": {
      "model_module": "@jupyter-widgets/controls",
      "model_module_version": "1.5.0",
      "model_name": "CheckboxModel",
      "state": {
       "description": "Show force",
       "disabled": false,
       "layout": "IPY_MODEL_3b73d49091fe439f82bfa96ef1179474",
       "style": "IPY_MODEL_5461de4f195643b6aedb65961119b237",
       "value": false
      }
     },
     "0d1f6ab730614a5d92a2fa80210cbe1d": {
      "model_module": "@jupyter-widgets/controls",
      "model_module_version": "1.5.0",
      "model_name": "SliderStyleModel",
      "state": {
       "description_width": ""
      }
     },
     "0eaccb261ea34d87b9f64c2a154850e4": {
      "model_module": "@jupyter-widgets/controls",
      "model_module_version": "1.5.0",
      "model_name": "PlayModel",
      "state": {
       "layout": "IPY_MODEL_d15125a846dc46749b40de0f3a66f25a",
       "max": 0,
       "style": "IPY_MODEL_dc1001ff943d409b96adc3e297869de5"
      }
     },
     "0f31c6816c004820a4a51b94d2950401": {
      "model_module": "@jupyter-widgets/controls",
      "model_module_version": "1.5.0",
      "model_name": "DescriptionStyleModel",
      "state": {
       "description_width": ""
      }
     },
     "0f7a6e1ebeaf409db08ab57002c23c86": {
      "model_module": "@jupyter-widgets/base",
      "model_module_version": "1.2.0",
      "model_name": "LayoutModel",
      "state": {}
     },
     "10977596cb9445f386bd734a47011ea1": {
      "model_module": "@jupyter-widgets/controls",
      "model_module_version": "1.5.0",
      "model_name": "HBoxModel",
      "state": {
       "children": [
        "IPY_MODEL_7ff841958aa14716adc0a612dfabea3e",
        "IPY_MODEL_88da34a02a5f44c3aadca419c88da467"
       ],
       "layout": "IPY_MODEL_d621af76163c49a69a6c2717371fd589"
      }
     },
     "10cf95bd1c154dbf8a0d33a927eca6d5": {
      "model_module": "@jupyter-widgets/controls",
      "model_module_version": "1.5.0",
      "model_name": "ButtonStyleModel",
      "state": {}
     },
     "112eb18e69b041aa8295dc0c95fb631a": {
      "model_module": "@jupyter-widgets/base",
      "model_module_version": "1.2.0",
      "model_name": "LayoutModel",
      "state": {}
     },
     "1257b1605aa645228dbe07843b90e56d": {
      "model_module": "@jupyter-widgets/controls",
      "model_module_version": "1.5.0",
      "model_name": "PlayModel",
      "state": {
       "layout": "IPY_MODEL_701607b670c744bea91effa75072bbd2",
       "max": 0,
       "style": "IPY_MODEL_fdda68329664434280d2e25beb1ff5de"
      }
     },
     "12b883b82732497297be528a534bb2d8": {
      "model_module": "@jupyter-widgets/controls",
      "model_module_version": "1.5.0",
      "model_name": "LinkModel",
      "state": {
       "source": [
        "IPY_MODEL_1bdbfca8607343cba28b6b3febe60646",
        "max"
       ],
       "target": [
        "IPY_MODEL_86c44482822044199a95fbb42f41fbca",
        "max_frame"
       ]
      }
     },
     "1509bbef84e54844865b4a39e5de616a": {
      "model_module": "@jupyter-widgets/controls",
      "model_module_version": "1.5.0",
      "model_name": "LinkModel",
      "state": {
       "source": [
        "IPY_MODEL_74c7ac22919c41dbbb64f7e154a76faa",
        "value"
       ],
       "target": [
        "IPY_MODEL_84749d768f1f4f85b8b76aad9973a268",
        "value"
       ]
      }
     },
     "15626d57290648a78e372b8c576a6b1e": {
      "model_module": "@jupyter-widgets/base",
      "model_module_version": "1.2.0",
      "model_name": "LayoutModel",
      "state": {}
     },
     "17b98d32ba2543eca51736ddc5446388": {
      "model_module": "@jupyter-widgets/output",
      "model_module_version": "1.0.0",
      "model_name": "OutputModel",
      "state": {
       "layout": "IPY_MODEL_1e98d8178851436e82f195b039d6a6b8"
      }
     },
     "1bdbfca8607343cba28b6b3febe60646": {
      "model_module": "@jupyter-widgets/controls",
      "model_module_version": "1.5.0",
      "model_name": "IntSliderModel",
      "state": {
       "layout": "IPY_MODEL_0c97706fc35646a3a5739bba8707847d",
       "max": 0,
       "style": "IPY_MODEL_0d1f6ab730614a5d92a2fa80210cbe1d"
      }
     },
     "1c1fc69fb7d74e5ca416018478cd2969": {
      "model_module": "@jupyter-widgets/controls",
      "model_module_version": "1.5.0",
      "model_name": "ButtonModel",
      "state": {
       "icon": "compress",
       "layout": "IPY_MODEL_9bd300677c564e6a9bce255bfdcd987f",
       "style": "IPY_MODEL_d90c849a36f04be9a8825495796f5fe0"
      }
     },
     "1d6cdae4f72648a094b521444174069b": {
      "model_module": "@jupyter-widgets/controls",
      "model_module_version": "1.5.0",
      "model_name": "LinkModel",
      "state": {
       "source": [
        "IPY_MODEL_4660207c194b4fa6b8d6ad9a860c4c1a",
        "value"
       ],
       "target": [
        "IPY_MODEL_e0249a34d1d247e88e233e016b47993c",
        "frame"
       ]
      }
     },
     "1d83d5467dad465c9e2255bc65852788": {
      "model_module": "@jupyter-widgets/base",
      "model_module_version": "1.2.0",
      "model_name": "LayoutModel",
      "state": {}
     },
     "1e15e100c760459cb968711badbbdf11": {
      "model_module": "@jupyter-widgets/controls",
      "model_module_version": "1.5.0",
      "model_name": "SliderStyleModel",
      "state": {
       "description_width": ""
      }
     },
     "1e89aa0c7dfe4844b02897c8ff76e40a": {
      "model_module": "@jupyter-widgets/base",
      "model_module_version": "1.2.0",
      "model_name": "LayoutModel",
      "state": {
       "width": "34px"
      }
     },
     "1e98d8178851436e82f195b039d6a6b8": {
      "model_module": "@jupyter-widgets/base",
      "model_module_version": "1.2.0",
      "model_name": "LayoutModel",
      "state": {
       "border": "0px solid black"
      }
     },
     "1f14614486ab496b99945841df99bbd7": {
      "model_module": "@jupyter-widgets/controls",
      "model_module_version": "1.5.0",
      "model_name": "IntSliderModel",
      "state": {
       "layout": "IPY_MODEL_8157846c4e0d4dcb8e98f6d50028d698",
       "max": 0,
       "style": "IPY_MODEL_49493ba8aa98439dbce63043cafc6343"
      }
     },
     "1f4b68dc1b734e6db95a7070c61f5979": {
      "model_module": "@jupyter-widgets/controls",
      "model_module_version": "1.5.0",
      "model_name": "HBoxModel",
      "state": {
       "children": [
        "IPY_MODEL_0eaccb261ea34d87b9f64c2a154850e4",
        "IPY_MODEL_48c179995d04449890776dc11010864e"
       ],
       "layout": "IPY_MODEL_00442bdb8c6946f4b94173d67e5c63c6"
      }
     },
     "1ff8e20cc16247fbbd66ed267d9f0e29": {
      "model_module": "@jupyter-widgets/controls",
      "model_module_version": "1.5.0",
      "model_name": "ButtonStyleModel",
      "state": {}
     },
     "210f093acef6466390b5c5370544f1da": {
      "model_module": "@jupyter-widgets/controls",
      "model_module_version": "1.5.0",
      "model_name": "DropdownModel",
      "state": {
       "_options_labels": [
        "All",
        "Si"
       ],
       "description": "Show",
       "index": 0,
       "layout": "IPY_MODEL_8c358c2f3572440389d80d3eb44d3432",
       "style": "IPY_MODEL_59286082475b481e81c9768424047860"
      }
     },
     "214b1d5acabf4f93819e88f696437bbb": {
      "model_module": "@jupyter-widgets/controls",
      "model_module_version": "1.5.0",
      "model_name": "DescriptionStyleModel",
      "state": {
       "description_width": ""
      }
     },
     "22caa7f3cb984b628df0d06e2e4eba3e": {
      "model_module": "@jupyter-widgets/base",
      "model_module_version": "1.2.0",
      "model_name": "LayoutModel",
      "state": {}
     },
     "22f4ecafb30242249e00a8c36ec7d253": {
      "model_module": "@jupyter-widgets/base",
      "model_module_version": "1.2.0",
      "model_name": "LayoutModel",
      "state": {}
     },
     "2453c7b1c2f24add94b94140e5babeaf": {
      "model_module": "@jupyter-widgets/base",
      "model_module_version": "1.2.0",
      "model_name": "LayoutModel",
      "state": {}
     },
     "264b59820901489f86215bc4f1ceed3c": {
      "model_module": "@jupyter-widgets/controls",
      "model_module_version": "1.5.0",
      "model_name": "DescriptionStyleModel",
      "state": {
       "description_width": ""
      }
     },
     "28cc4afce7f841a88572282270929563": {
      "model_module": "@jupyter-widgets/controls",
      "model_module_version": "1.5.0",
      "model_name": "SliderStyleModel",
      "state": {
       "description_width": ""
      }
     },
     "29e450d953ea4fa5940bbc99d3f00711": {
      "model_module": "@jupyter-widgets/base",
      "model_module_version": "1.2.0",
      "model_name": "LayoutModel",
      "state": {}
     },
     "2a1febaae30d4e80b94d4abd306a0030": {
      "model_module": "@jupyter-widgets/controls",
      "model_module_version": "1.5.0",
      "model_name": "FloatSliderModel",
      "state": {
       "description": "Force scale",
       "layout": "IPY_MODEL_43a6a7a71dfb481d8d48c584ba7ef726",
       "step": 0.1,
       "style": "IPY_MODEL_d2ca867a09624afbaef5fb12948ae5b9",
       "value": 0.5
      }
     },
     "2a3b210fe36d4ff685dc018859a7bd8a": {
      "model_module": "@jupyter-widgets/base",
      "model_module_version": "1.2.0",
      "model_name": "LayoutModel",
      "state": {}
     },
     "2bd962a9dd6246dea8aed6078ee76dbb": {
      "model_module": "@jupyter-widgets/controls",
      "model_module_version": "1.5.0",
      "model_name": "PlayModel",
      "state": {
       "layout": "IPY_MODEL_930b724432fd4cf599f32a8a50779e5e",
       "max": 0,
       "style": "IPY_MODEL_60cacb302e734f2286d2d9f86fe08cba"
      }
     },
     "2d7d223de78c4291bfd967a85d3d5815": {
      "model_module": "@jupyter-widgets/controls",
      "model_module_version": "1.5.0",
      "model_name": "CheckboxModel",
      "state": {
       "description": "Show force",
       "disabled": false,
       "layout": "IPY_MODEL_433dc84b971842c6af171c9077791ecb",
       "style": "IPY_MODEL_214b1d5acabf4f93819e88f696437bbb",
       "value": false
      }
     },
     "2dee35e50b754e3db5943a534e1255f5": {
      "model_module": "@jupyter-widgets/controls",
      "model_module_version": "1.5.0",
      "model_name": "SliderStyleModel",
      "state": {
       "description_width": ""
      }
     },
     "2ead89b5e15947ddbc787c55929449f7": {
      "model_module": "@jupyter-widgets/controls",
      "model_module_version": "1.5.0",
      "model_name": "HBoxModel",
      "state": {
       "children": [
        "IPY_MODEL_df727618e3a34ca0b957a88bd5a4c07f",
        "IPY_MODEL_b38f5f737c524e3d9985391bef8e570f"
       ],
       "layout": "IPY_MODEL_7a69514a67004e55acc31eff944ed959"
      }
     },
     "2eca334311794eb7a4857086e3662692": {
      "model_module": "@jupyter-widgets/base",
      "model_module_version": "1.2.0",
      "model_name": "LayoutModel",
      "state": {}
     },
     "2fa884cfab994e089f4ada2e81544478": {
      "model_module": "@jupyter-widgets/base",
      "model_module_version": "1.2.0",
      "model_name": "LayoutModel",
      "state": {}
     },
     "3018543f5fee4541b2a8400dc2548c76": {
      "model_module": "@jupyter-widgets/base",
      "model_module_version": "1.2.0",
      "model_name": "LayoutModel",
      "state": {}
     },
     "301d0c28153f4ab7a439d62dd4d9e5d0": {
      "model_module": "@jupyter-widgets/base",
      "model_module_version": "1.2.0",
      "model_name": "LayoutModel",
      "state": {}
     },
     "322adf57ef4a472bbf95bc8ef5c6ec94": {
      "model_module": "@jupyter-widgets/controls",
      "model_module_version": "1.5.0",
      "model_name": "CheckboxModel",
      "state": {
       "description": "Show charge",
       "disabled": false,
       "layout": "IPY_MODEL_d08fd6e312974331aa10e3a80d57d69e",
       "style": "IPY_MODEL_4f06f0c5b52c4cde804cd2a10384edac",
       "value": false
      }
     },
     "32c7a4d8d228485781a956c59a29e3dc": {
      "model_module": "@jupyter-widgets/base",
      "model_module_version": "1.2.0",
      "model_name": "LayoutModel",
      "state": {}
     },
     "3328f148ca014f119372153043654518": {
      "model_module": "@jupyter-widgets/controls",
      "model_module_version": "1.5.0",
      "model_name": "ButtonStyleModel",
      "state": {}
     },
     "337a080df61f4b69ba76b41729e5c765": {
      "model_module": "@jupyter-widgets/controls",
      "model_module_version": "1.5.0",
      "model_name": "DescriptionStyleModel",
      "state": {
       "description_width": ""
      }
     },
     "3418aa431af34747bf1765d6d2f2daef": {
      "model_module": "@jupyter-widgets/controls",
      "model_module_version": "1.5.0",
      "model_name": "SliderStyleModel",
      "state": {
       "description_width": ""
      }
     },
     "36bfbb847eb249158b4a1d0edac414ba": {
      "model_module": "@jupyter-widgets/base",
      "model_module_version": "1.2.0",
      "model_name": "LayoutModel",
      "state": {
       "width": "34px"
      }
     },
     "373817bf1e1d44b9af02fe82c7dbe094": {
      "model_module": "@jupyter-widgets/controls",
      "model_module_version": "1.5.0",
      "model_name": "LinkModel",
      "state": {
       "source": [
        "IPY_MODEL_2bd962a9dd6246dea8aed6078ee76dbb",
        "value"
       ],
       "target": [
        "IPY_MODEL_7ff841958aa14716adc0a612dfabea3e",
        "frame"
       ]
      }
     },
     "37946fd4df184f3fb6544b04af0a5deb": {
      "model_module": "@jupyter-widgets/controls",
      "model_module_version": "1.5.0",
      "model_name": "ButtonModel",
      "state": {
       "description": "Download image",
       "layout": "IPY_MODEL_22caa7f3cb984b628df0d06e2e4eba3e",
       "style": "IPY_MODEL_cc1fd13fdea9432389f1122db82ec881",
       "tooltip": "Download current frame to your local PC"
      }
     },
     "385eabb160ae4041a6e2d0ac063a11d1": {
      "model_module": "@jupyter-widgets/controls",
      "model_module_version": "1.5.0",
      "model_name": "ButtonStyleModel",
      "state": {}
     },
     "3ade452beab0427f874c701eab243b66": {
      "model_module": "@jupyter-widgets/base",
      "model_module_version": "1.2.0",
      "model_name": "LayoutModel",
      "state": {}
     },
     "3b4071fefeeb4853aebeb073cc3b5ec0": {
      "model_module": "@jupyter-widgets/controls",
      "model_module_version": "1.5.0",
      "model_name": "LinkModel",
      "state": {
       "source": [
        "IPY_MODEL_48c179995d04449890776dc11010864e",
        "max"
       ],
       "target": [
        "IPY_MODEL_df727618e3a34ca0b957a88bd5a4c07f",
        "max_frame"
       ]
      }
     },
     "3b73d49091fe439f82bfa96ef1179474": {
      "model_module": "@jupyter-widgets/base",
      "model_module_version": "1.2.0",
      "model_name": "LayoutModel",
      "state": {}
     },
     "3cab3850a38a4c348fec6bad4d34b1e2": {
      "model_module": "@jupyter-widgets/controls",
      "model_module_version": "1.5.0",
      "model_name": "LinkModel",
      "state": {
       "source": [
        "IPY_MODEL_0eaccb261ea34d87b9f64c2a154850e4",
        "value"
       ],
       "target": [
        "IPY_MODEL_df727618e3a34ca0b957a88bd5a4c07f",
        "frame"
       ]
      }
     },
     "3d2866d4fb554c46b08331e0bef8a624": {
      "model_module": "@jupyter-widgets/controls",
      "model_module_version": "1.5.0",
      "model_name": "ImageModel",
      "state": {
       "layout": "IPY_MODEL_70e8d44efd134245aea6dfc27c1618fb",
       "width": "900.0"
      }
     },
     "3d44f4ff6d46473bb0d1cfc6fb6aa1b1": {
      "model_module": "@jupyter-widgets/controls",
      "model_module_version": "1.5.0",
      "model_name": "ButtonModel",
      "state": {
       "description": "Save image",
       "layout": "IPY_MODEL_9b4c9f5f76294f009e1ad5c6f8e6d08a",
       "style": "IPY_MODEL_e58f0d53fd894f16b3816c66b75a5356",
       "tooltip": "Save current frame to file.\nCurrently .png and .html are supported.\nIt takes a bit time, please be patient."
      }
     },
     "4123070743df4cc59069b33e0d0fda32": {
      "model_module": "@jupyter-widgets/controls",
      "model_module_version": "1.5.0",
      "model_name": "FloatSliderModel",
      "state": {
       "description": "Force scale",
       "layout": "IPY_MODEL_3018543f5fee4541b2a8400dc2548c76",
       "step": 0.1,
       "style": "IPY_MODEL_f93cd6497b914347a492266823d39ed5",
       "value": 0.5
      }
     },
     "41359826990f4785bceafea02f73e084": {
      "model_module": "@jupyter-widgets/controls",
      "model_module_version": "1.5.0",
      "model_name": "LinkModel",
      "state": {
       "source": [
        "IPY_MODEL_84749d768f1f4f85b8b76aad9973a268",
        "max"
       ],
       "target": [
        "IPY_MODEL_cd6c257d697b49949060878769187bbb",
        "max_frame"
       ]
      }
     },
     "4175b5fee4634060b53295bfd11a3648": {
      "model_module": "@jupyter-widgets/base",
      "model_module_version": "1.2.0",
      "model_name": "LayoutModel",
      "state": {}
     },
     "418f372425e541c5ac3d77ff32ff3a83": {
      "model_module": "@jupyter-widgets/base",
      "model_module_version": "1.2.0",
      "model_name": "LayoutModel",
      "state": {
       "width": "34px"
      }
     },
     "42df43c1d15a4fa58e5f85336ded4336": {
      "model_module": "@jupyter-widgets/controls",
      "model_module_version": "1.5.0",
      "model_name": "DescriptionStyleModel",
      "state": {
       "description_width": ""
      }
     },
     "433dc84b971842c6af171c9077791ecb": {
      "model_module": "@jupyter-widgets/base",
      "model_module_version": "1.2.0",
      "model_name": "LayoutModel",
      "state": {}
     },
     "43a6a7a71dfb481d8d48c584ba7ef726": {
      "model_module": "@jupyter-widgets/base",
      "model_module_version": "1.2.0",
      "model_name": "LayoutModel",
      "state": {}
     },
     "43c29dcb4cd04dbfb813b5eafc0ddc8e": {
      "model_module": "@jupyter-widgets/controls",
      "model_module_version": "1.5.0",
      "model_name": "FloatSliderModel",
      "state": {
       "description": "Charge scale",
       "layout": "IPY_MODEL_a84799a339cc4443b9c06a6f19ba2f2d",
       "step": 0.1,
       "style": "IPY_MODEL_f9358c8b739f457bac3bb88d1e9ce143",
       "value": 1
      }
     },
     "43eb4a87b8bd4efc9c467df2f0a92c29": {
      "model_module": "@jupyter-widgets/controls",
      "model_module_version": "1.5.0",
      "model_name": "HBoxModel",
      "state": {
       "children": [
        "IPY_MODEL_c6909451ee194571907db3f160d1190d",
        "IPY_MODEL_83ce3b726d27476eb81922a1618a27aa"
       ],
       "layout": "IPY_MODEL_fb149fadaa6c46a3ba2ccc2e763df2d6"
      }
     },
     "44a74b6936dd4713a4999accbf758b79": {
      "model_module": "@jupyter-widgets/base",
      "model_module_version": "1.2.0",
      "model_name": "LayoutModel",
      "state": {}
     },
     "45d03a0a571c4ce0ab4cc70ba54484a8": {
      "model_module": "@jupyter-widgets/base",
      "model_module_version": "1.2.0",
      "model_name": "LayoutModel",
      "state": {}
     },
     "4660207c194b4fa6b8d6ad9a860c4c1a": {
      "model_module": "@jupyter-widgets/controls",
      "model_module_version": "1.5.0",
      "model_name": "PlayModel",
      "state": {
       "layout": "IPY_MODEL_3ade452beab0427f874c701eab243b66",
       "max": 0,
       "style": "IPY_MODEL_a9382541992e416c9d09ce54f2592c06"
      }
     },
     "48c179995d04449890776dc11010864e": {
      "model_module": "@jupyter-widgets/controls",
      "model_module_version": "1.5.0",
      "model_name": "IntSliderModel",
      "state": {
       "layout": "IPY_MODEL_528ae70f99e544a691097d3a91f27602",
       "max": 0,
       "style": "IPY_MODEL_adf42470186b4fcd848520930bd0aa52"
      }
     },
     "48ede7062bca42a2b628792d6e2f7f2f": {
      "model_module": "@jupyter-widgets/controls",
      "model_module_version": "1.5.0",
      "model_name": "DropdownModel",
      "state": {
       "_options_labels": [
        " ",
        "picking",
        "random",
        "uniform",
        "atomindex",
        "residueindex",
        "chainindex",
        "modelindex",
        "sstruc",
        "element",
        "resname",
        "bfactor",
        "hydrophobicity",
        "value",
        "volume",
        "occupancy"
       ],
       "description": "Color scheme",
       "index": 9,
       "layout": "IPY_MODEL_77d6632beaa74a11a2f033274380bbf9",
       "style": "IPY_MODEL_00ac500a09a14202bbc3213e159d69be"
      }
     },
     "49493ba8aa98439dbce63043cafc6343": {
      "model_module": "@jupyter-widgets/controls",
      "model_module_version": "1.5.0",
      "model_name": "SliderStyleModel",
      "state": {
       "description_width": ""
      }
     },
     "49821e8d622f4f1d98710c0cfba50ab8": {
      "model_module": "@jupyter-widgets/base",
      "model_module_version": "1.2.0",
      "model_name": "LayoutModel",
      "state": {}
     },
     "4ccb37d977b24989a82c8a9f67097df2": {
      "model_module": "@jupyter-widgets/base",
      "model_module_version": "1.2.0",
      "model_name": "LayoutModel",
      "state": {}
     },
     "4d7721186e7a4d6eb7365ea07fe18e88": {
      "model_module": "@jupyter-widgets/controls",
      "model_module_version": "1.5.0",
      "model_name": "ButtonStyleModel",
      "state": {}
     },
     "4f06f0c5b52c4cde804cd2a10384edac": {
      "model_module": "@jupyter-widgets/controls",
      "model_module_version": "1.5.0",
      "model_name": "DescriptionStyleModel",
      "state": {
       "description_width": ""
      }
     },
     "4f67b7b9efc64f98a610e2259c61cb12": {
      "model_module": "@jupyter-widgets/base",
      "model_module_version": "1.2.0",
      "model_name": "LayoutModel",
      "state": {}
     },
     "500e0925eb534e9fbe07b7939840d3d4": {
      "model_module": "@jupyter-widgets/controls",
      "model_module_version": "1.5.0",
      "model_name": "ButtonModel",
      "state": {
       "description": "Save image",
       "layout": "IPY_MODEL_808d2d7b218a49d6b56af024f66fa5a6",
       "style": "IPY_MODEL_1ff8e20cc16247fbbd66ed267d9f0e29",
       "tooltip": "Save current frame to file.\nCurrently .png and .html are supported.\nIt takes a bit time, please be patient."
      }
     },
     "50ba829feb3f4f7cb48a02cf0e09089f": {
      "model_module": "@jupyter-widgets/controls",
      "model_module_version": "1.5.0",
      "model_name": "SliderStyleModel",
      "state": {
       "description_width": ""
      }
     },
     "51f0317fa34d45a1aada6b3bf3966e74": {
      "model_module": "@jupyter-widgets/base",
      "model_module_version": "1.2.0",
      "model_name": "LayoutModel",
      "state": {}
     },
     "528230e4251a438e9ad21e2bb7ceee4f": {
      "model_module": "@jupyter-widgets/controls",
      "model_module_version": "1.5.0",
      "model_name": "TextModel",
      "state": {
       "description": "Filename: ",
       "layout": "IPY_MODEL_29e450d953ea4fa5940bbc99d3f00711",
       "style": "IPY_MODEL_337a080df61f4b69ba76b41729e5c765",
       "value": "screenshot.png"
      }
     },
     "528ae70f99e544a691097d3a91f27602": {
      "model_module": "@jupyter-widgets/base",
      "model_module_version": "1.2.0",
      "model_name": "LayoutModel",
      "state": {}
     },
     "52e4053755ab4db2a17c6c76c9cafbfa": {
      "model_module": "@jupyter-widgets/controls",
      "model_module_version": "1.5.0",
      "model_name": "ButtonModel",
      "state": {
       "icon": "compress",
       "layout": "IPY_MODEL_1e89aa0c7dfe4844b02897c8ff76e40a",
       "style": "IPY_MODEL_4d7721186e7a4d6eb7365ea07fe18e88"
      }
     },
     "546198aaa22a42a4b41a9b7905ceea16": {
      "model_module": "@jupyter-widgets/controls",
      "model_module_version": "1.5.0",
      "model_name": "ImageModel",
      "state": {
       "layout": "IPY_MODEL_4ccb37d977b24989a82c8a9f67097df2",
       "width": "900.0"
      }
     },
     "5461de4f195643b6aedb65961119b237": {
      "model_module": "@jupyter-widgets/controls",
      "model_module_version": "1.5.0",
      "model_name": "DescriptionStyleModel",
      "state": {
       "description_width": ""
      }
     },
     "547ac7ffb2a449a2989ae35f9c39015c": {
      "model_module": "@jupyter-widgets/base",
      "model_module_version": "1.2.0",
      "model_name": "LayoutModel",
      "state": {}
     },
     "564ee4e43f9c445bad4026f2987e5b37": {
      "model_module": "@jupyter-widgets/controls",
      "model_module_version": "1.5.0",
      "model_name": "DescriptionStyleModel",
      "state": {
       "description_width": ""
      }
     },
     "566c563aa885473f8edaf486dc0d512f": {
      "model_module": "@jupyter-widgets/controls",
      "model_module_version": "1.5.0",
      "model_name": "DescriptionStyleModel",
      "state": {
       "description_width": ""
      }
     },
     "5749d3febe7b4aba97eecc6d6206d70d": {
      "model_module": "@jupyter-widgets/controls",
      "model_module_version": "1.5.0",
      "model_name": "DescriptionStyleModel",
      "state": {
       "description_width": ""
      }
     },
     "59286082475b481e81c9768424047860": {
      "model_module": "@jupyter-widgets/controls",
      "model_module_version": "1.5.0",
      "model_name": "DescriptionStyleModel",
      "state": {
       "description_width": ""
      }
     },
     "5e5bf5ca48b945fda7a9aecdfe04ccfd": {
      "model_module": "@jupyter-widgets/controls",
      "model_module_version": "1.5.0",
      "model_name": "HBoxModel",
      "state": {
       "children": [
        "IPY_MODEL_37946fd4df184f3fb6544b04af0a5deb",
        "IPY_MODEL_bf42b57f124a4c19b3c5129ab26bbc06"
       ],
       "layout": "IPY_MODEL_22f4ecafb30242249e00a8c36ec7d253"
      }
     },
     "5eb78c9b568e43eb8177932fbfb85f53": {
      "model_module": "@jupyter-widgets/controls",
      "model_module_version": "1.5.0",
      "model_name": "DropdownModel",
      "state": {
       "_options_labels": [
        " ",
        "picking",
        "random",
        "uniform",
        "atomindex",
        "residueindex",
        "chainindex",
        "modelindex",
        "sstruc",
        "element",
        "resname",
        "bfactor",
        "hydrophobicity",
        "value",
        "volume",
        "occupancy"
       ],
       "description": "Color scheme",
       "index": 9,
       "layout": "IPY_MODEL_79e503d6541c4478af27df6030197011",
       "style": "IPY_MODEL_6c9d4bf79b0f49aea0632e60078511b6"
      }
     },
     "5fe53c10175a4151865f57d427d7eeb4": {
      "model_module": "@jupyter-widgets/controls",
      "model_module_version": "1.5.0",
      "model_name": "LinkModel",
      "state": {
       "source": [
        "IPY_MODEL_4660207c194b4fa6b8d6ad9a860c4c1a",
        "max"
       ],
       "target": [
        "IPY_MODEL_e0249a34d1d247e88e233e016b47993c",
        "max_frame"
       ]
      }
     },
     "604aebb0bc7e4383b83f18fbdde9a099": {
      "model_module": "@jupyter-widgets/controls",
      "model_module_version": "1.5.0",
      "model_name": "TextModel",
      "state": {
       "description": "Filename: ",
       "layout": "IPY_MODEL_1d83d5467dad465c9e2255bc65852788",
       "style": "IPY_MODEL_566c563aa885473f8edaf486dc0d512f",
       "value": "screenshot.png"
      }
     },
     "60668963a42c488591640b110ff35852": {
      "model_module": "@jupyter-widgets/controls",
      "model_module_version": "1.5.0",
      "model_name": "DropdownModel",
      "state": {
       "_options_labels": [
        "All",
        "V",
        "Fe"
       ],
       "description": "Show",
       "index": 0,
       "layout": "IPY_MODEL_a913284048184da7b17caaf2d81e7f9e",
       "style": "IPY_MODEL_0f31c6816c004820a4a51b94d2950401"
      }
     },
     "60cacb302e734f2286d2d9f86fe08cba": {
      "model_module": "@jupyter-widgets/controls",
      "model_module_version": "1.5.0",
      "model_name": "DescriptionStyleModel",
      "state": {
       "description_width": ""
      }
     },
     "6116b6b2ae4641e6b4e8979e140c6867": {
      "model_module": "@jupyter-widgets/controls",
      "model_module_version": "1.5.0",
      "model_name": "DescriptionStyleModel",
      "state": {
       "description_width": ""
      }
     },
     "625a51f9a975442eb7c29e9e2ecb7e7f": {
      "model_module": "@jupyter-widgets/controls",
      "model_module_version": "1.5.0",
      "model_name": "CheckboxModel",
      "state": {
       "description": "Show charge",
       "disabled": false,
       "layout": "IPY_MODEL_6f8fd46872604c1ab85db0c827384da1",
       "style": "IPY_MODEL_264b59820901489f86215bc4f1ceed3c",
       "value": false
      }
     },
     "6652f9bf51aa4f07a5f29b9a59da5dae": {
      "model_module": "@jupyter-widgets/base",
      "model_module_version": "1.2.0",
      "model_name": "LayoutModel",
      "state": {}
     },
     "6702737a2d4c4924b406a16bf76584c1": {
      "model_module": "@jupyter-widgets/base",
      "model_module_version": "1.2.0",
      "model_name": "LayoutModel",
      "state": {}
     },
     "675f0cb4f6fc48f69a73e400ffd6c12f": {
      "model_module": "@jupyter-widgets/controls",
      "model_module_version": "1.5.0",
      "model_name": "FloatSliderModel",
      "state": {
       "description": "Ball size",
       "layout": "IPY_MODEL_6a0e60a53b4c42c6a9f97eb6deb55ddb",
       "max": 1.5,
       "step": 0.01,
       "style": "IPY_MODEL_7cd8b143ec02482badf6f077915c7d7f",
       "value": 0.5
      }
     },
     "67a49894162a4bc6add538780ae5d2a9": {
      "model_module": "@jupyter-widgets/controls",
      "model_module_version": "1.5.0",
      "model_name": "LinkModel",
      "state": {
       "source": [
        "IPY_MODEL_4660207c194b4fa6b8d6ad9a860c4c1a",
        "value"
       ],
       "target": [
        "IPY_MODEL_eb211f71711b490db958ee12e5e2f832",
        "value"
       ]
      }
     },
     "67b65fe8df8d4eb285675cafe93c8bef": {
      "model_module": "@jupyter-widgets/controls",
      "model_module_version": "1.5.0",
      "model_name": "LinkModel",
      "state": {
       "source": [
        "IPY_MODEL_eb211f71711b490db958ee12e5e2f832",
        "max"
       ],
       "target": [
        "IPY_MODEL_e0249a34d1d247e88e233e016b47993c",
        "max_frame"
       ]
      }
     },
     "694075fc2cba4b0784f9c321cdc2a902": {
      "model_module": "@jupyter-widgets/controls",
      "model_module_version": "1.5.0",
      "model_name": "ButtonStyleModel",
      "state": {}
     },
     "6a0e60a53b4c42c6a9f97eb6deb55ddb": {
      "model_module": "@jupyter-widgets/base",
      "model_module_version": "1.2.0",
      "model_name": "LayoutModel",
      "state": {}
     },
     "6b2cdb3bc1244c058139ab658936d65c": {
      "model_module": "@jupyter-widgets/controls",
      "model_module_version": "1.5.0",
      "model_name": "LinkModel",
      "state": {
       "source": [
        "IPY_MODEL_2bd962a9dd6246dea8aed6078ee76dbb",
        "value"
       ],
       "target": [
        "IPY_MODEL_1f14614486ab496b99945841df99bbd7",
        "value"
       ]
      }
     },
     "6c66e0ade7c046b094c1934ed18ddc2c": {
      "model_module": "@jupyter-widgets/controls",
      "model_module_version": "1.5.0",
      "model_name": "ButtonModel",
      "state": {
       "icon": "compress",
       "layout": "IPY_MODEL_36bfbb847eb249158b4a1d0edac414ba",
       "style": "IPY_MODEL_f2e6e4fe0c8f48ee88b3e2c3cc9e0b8b"
      }
     },
     "6c81357d410d48c29b4dc0c1ad9c76f6": {
      "model_module": "@jupyter-widgets/base",
      "model_module_version": "1.2.0",
      "model_name": "LayoutModel",
      "state": {}
     },
     "6c9d4bf79b0f49aea0632e60078511b6": {
      "model_module": "@jupyter-widgets/controls",
      "model_module_version": "1.5.0",
      "model_name": "DescriptionStyleModel",
      "state": {
       "description_width": ""
      }
     },
     "6e164ca797084a90bf97677cd4b2a7ef": {
      "model_module": "@jupyter-widgets/controls",
      "model_module_version": "1.5.0",
      "model_name": "TextModel",
      "state": {
       "description": "Filename: ",
       "layout": "IPY_MODEL_b871b19de1bf4f62967a617fde480ff6",
       "style": "IPY_MODEL_8ae11b2d1fd84b049b824f1f083be92c",
       "value": "screenshot.png"
      }
     },
     "6f1da70ced8f423990a4bb7f24fa4ce2": {
      "model_module": "@jupyter-widgets/base",
      "model_module_version": "1.2.0",
      "model_name": "LayoutModel",
      "state": {}
     },
     "6f491893b971432490605fe9da06a7ec": {
      "model_module": "@jupyter-widgets/base",
      "model_module_version": "1.2.0",
      "model_name": "LayoutModel",
      "state": {}
     },
     "6f8fd46872604c1ab85db0c827384da1": {
      "model_module": "@jupyter-widgets/base",
      "model_module_version": "1.2.0",
      "model_name": "LayoutModel",
      "state": {}
     },
     "6fa5d092895141d783b60016b15ab5c6": {
      "model_module": "@jupyter-widgets/controls",
      "model_module_version": "1.5.0",
      "model_name": "SliderStyleModel",
      "state": {
       "description_width": ""
      }
     },
     "701607b670c744bea91effa75072bbd2": {
      "model_module": "@jupyter-widgets/base",
      "model_module_version": "1.2.0",
      "model_name": "LayoutModel",
      "state": {}
     },
     "70244e929f0546f5bf116e8d5de12011": {
      "model_module": "@jupyter-widgets/base",
      "model_module_version": "1.2.0",
      "model_name": "LayoutModel",
      "state": {}
     },
     "70e8d44efd134245aea6dfc27c1618fb": {
      "model_module": "@jupyter-widgets/base",
      "model_module_version": "1.2.0",
      "model_name": "LayoutModel",
      "state": {}
     },
     "70f81e1f63e04c6f93a9b17792d3cbef": {
      "model_module": "@jupyter-widgets/base",
      "model_module_version": "1.2.0",
      "model_name": "LayoutModel",
      "state": {}
     },
     "7154468507cb48aaa95fa5a488761028": {
      "model_module": "@jupyter-widgets/controls",
      "model_module_version": "1.5.0",
      "model_name": "FloatSliderModel",
      "state": {
       "description": "Ball size",
       "layout": "IPY_MODEL_6702737a2d4c4924b406a16bf76584c1",
       "max": 1.5,
       "step": 0.01,
       "style": "IPY_MODEL_bb4f38aecfbd42fab143b6be09c15768",
       "value": 0.5
      }
     },
     "72343b422c734fa19dffe1155ec66a4f": {
      "model_module": "@jupyter-widgets/controls",
      "model_module_version": "1.5.0",
      "model_name": "DescriptionStyleModel",
      "state": {
       "description_width": ""
      }
     },
     "74c7ac22919c41dbbb64f7e154a76faa": {
      "model_module": "@jupyter-widgets/controls",
      "model_module_version": "1.5.0",
      "model_name": "PlayModel",
      "state": {
       "layout": "IPY_MODEL_f32c1b1dd63d4f2fb1686e036a7a73b3",
       "max": 0,
       "style": "IPY_MODEL_9d27b5786cfb4c3299092d5f05043288"
      }
     },
     "754fa761455449d394a221a1ac1cc491": {
      "model_module": "@jupyter-widgets/output",
      "model_module_version": "1.0.0",
      "model_name": "OutputModel",
      "state": {
       "layout": "IPY_MODEL_03db3e24ccbc4b34a6a9a1a9583ed256"
      }
     },
     "76372d2877214a1daa3c3bbcb660561d": {
      "model_module": "@jupyter-widgets/controls",
      "model_module_version": "1.5.0",
      "model_name": "DropdownModel",
      "state": {
       "_options_labels": [
        " ",
        "picking",
        "random",
        "uniform",
        "atomindex",
        "residueindex",
        "chainindex",
        "modelindex",
        "sstruc",
        "element",
        "resname",
        "bfactor",
        "hydrophobicity",
        "value",
        "volume",
        "occupancy"
       ],
       "description": "Color scheme",
       "index": 9,
       "layout": "IPY_MODEL_e9d0ee5fd0e344f285ada434388f7145",
       "style": "IPY_MODEL_6116b6b2ae4641e6b4e8979e140c6867"
      }
     },
     "76840f4084894346bacf3fe188b57085": {
      "model_module": "@jupyter-widgets/controls",
      "model_module_version": "1.5.0",
      "model_name": "ButtonStyleModel",
      "state": {}
     },
     "77d6632beaa74a11a2f033274380bbf9": {
      "model_module": "@jupyter-widgets/base",
      "model_module_version": "1.2.0",
      "model_name": "LayoutModel",
      "state": {}
     },
     "78cde8298fca406dabc97f07340e40fc": {
      "model_module": "@jupyter-widgets/base",
      "model_module_version": "1.2.0",
      "model_name": "LayoutModel",
      "state": {}
     },
     "78ddb0d8f35f42ad9ad014114ce7ba09": {
      "model_module": "@jupyter-widgets/controls",
      "model_module_version": "1.5.0",
      "model_name": "ButtonStyleModel",
      "state": {}
     },
     "79e503d6541c4478af27df6030197011": {
      "model_module": "@jupyter-widgets/base",
      "model_module_version": "1.2.0",
      "model_name": "LayoutModel",
      "state": {}
     },
     "7a69514a67004e55acc31eff944ed959": {
      "model_module": "@jupyter-widgets/base",
      "model_module_version": "1.2.0",
      "model_name": "LayoutModel",
      "state": {}
     },
     "7cd8b143ec02482badf6f077915c7d7f": {
      "model_module": "@jupyter-widgets/controls",
      "model_module_version": "1.5.0",
      "model_name": "SliderStyleModel",
      "state": {
       "description_width": ""
      }
     },
     "7e658e2a344f4dda9047af402cf99afd": {
      "model_module": "@jupyter-widgets/controls",
      "model_module_version": "1.5.0",
      "model_name": "HBoxModel",
      "state": {
       "children": [
        "IPY_MODEL_e0249a34d1d247e88e233e016b47993c",
        "IPY_MODEL_fdb391626c7c414ea4215003d6e0f434"
       ],
       "layout": "IPY_MODEL_15626d57290648a78e372b8c576a6b1e"
      }
     },
     "7ef090bf87e4402eb24b9c3dd7aee2d7": {
      "model_module": "@jupyter-widgets/controls",
      "model_module_version": "1.5.0",
      "model_name": "ButtonStyleModel",
      "state": {}
     },
     "7ef8ce083d894a56880b598953b65c04": {
      "model_module": "@jupyter-widgets/controls",
      "model_module_version": "1.5.0",
      "model_name": "SliderStyleModel",
      "state": {
       "description_width": ""
      }
     },
     "7ff841958aa14716adc0a612dfabea3e": {
      "model_module": "nglview-js-widgets",
      "model_module_version": "3.0.1",
      "model_name": "NGLModel",
      "state": {
       "_camera_orientation": [
        40.28011851953451,
        0,
        0,
        0,
        0,
        40.28011851953451,
        0,
        0,
        0,
        0,
        40.28011851953451,
        0,
        -18.238000869750977,
        -12.746500015258789,
        -11.364500045776367,
        1
       ],
       "_camera_str": "orthographic",
       "_gui_theme": null,
       "_ibtn_fullscreen": "IPY_MODEL_6c66e0ade7c046b094c1934ed18ddc2c",
       "_igui": null,
       "_iplayer": "IPY_MODEL_8d99be2a728f4f498bafb44ab4d579a8",
       "_ngl_color_dict": {},
       "_ngl_coordinate_resource": {},
       "_ngl_full_stage_parameters": {
        "ambientColor": 14540253,
        "ambientIntensity": 0.2,
        "backgroundColor": "white",
        "cameraEyeSep": 0.3,
        "cameraFov": 40,
        "cameraType": "orthographic",
        "clipDist": 0,
        "clipFar": 100,
        "clipNear": 0,
        "fogFar": 100,
        "fogNear": 50,
        "hoverTimeout": 0,
        "impostor": true,
        "lightColor": 14540253,
        "lightIntensity": 1,
        "mousePreset": "default",
        "panSpeed": 1,
        "quality": "medium",
        "rotateSpeed": 2,
        "sampleLevel": 0,
        "tooltip": true,
        "workerDefault": true,
        "zoomSpeed": 1.2
       },
       "_ngl_msg_archive": [
        {
         "args": [
          {
           "binary": false,
           "data": "CRYST1   15.358   23.038   30.717  60.00  60.00  60.00 P 1\nMODEL     1\nATOM      1   Si MOL     1       0.000   0.000   0.000  1.00  0.00          SI  \nATOM      2   Si MOL     1       1.920   1.108   0.784  1.00  0.00          SI  \nATOM      3   Si MOL     1       1.920   1.108   3.135  1.00  0.00          SI  \nATOM      4   Si MOL     1       3.840   2.217   3.919  1.00  0.00          SI  \nATOM      5   Si MOL     1       3.840   2.217   6.270  1.00  0.00          SI  \nATOM      6   Si MOL     1       5.759   3.325   7.054  1.00  0.00          SI  \nATOM      7   Si MOL     1       5.759   3.325   9.405  1.00  0.00          SI  \nATOM      8   Si MOL     1       7.679   4.434  10.189  1.00  0.00          SI  \nATOM      9   Si MOL     1       1.920   3.325  -0.000  1.00  0.00          SI  \nATOM     10   Si MOL     1       3.840   4.434   0.784  1.00  0.00          SI  \nATOM     11   Si MOL     1       3.840   4.434   3.135  1.00  0.00          SI  \nATOM     12   Si MOL     1       5.759   5.542   3.919  1.00  0.00          SI  \nATOM     13   Si MOL     1       5.759   5.542   6.270  1.00  0.00          SI  \nATOM     14   Si MOL     1       7.679   6.650   7.054  1.00  0.00          SI  \nATOM     15   Si MOL     1       7.679   6.650   9.405  1.00  0.00          SI  \nATOM     16   Si MOL     1       9.599   7.759  10.189  1.00  0.00          SI  \nATOM     17   Si MOL     1       3.840   6.650  -0.000  1.00  0.00          SI  \nATOM     18   Si MOL     1       5.759   7.759   0.784  1.00  0.00          SI  \nATOM     19   Si MOL     1       5.759   7.759   3.135  1.00  0.00          SI  \nATOM     20   Si MOL     1       7.679   8.867   3.919  1.00  0.00          SI  \nATOM     21   Si MOL     1       7.679   8.867   6.270  1.00  0.00          SI  \nATOM     22   Si MOL     1       9.599   9.976   7.054  1.00  0.00          SI  \nATOM     23   Si MOL     1       9.599   9.976   9.405  1.00  0.00          SI  \nATOM     24   Si MOL     1      11.519  11.084  10.189  1.00  0.00          SI  \nATOM     25   Si MOL     1       3.840   0.000   0.000  1.00  0.00          SI  \nATOM     26   Si MOL     1       5.759   1.108   0.784  1.00  0.00          SI  \nATOM     27   Si MOL     1       5.759   1.108   3.135  1.00  0.00          SI  \nATOM     28   Si MOL     1       7.679   2.217   3.919  1.00  0.00          SI  \nATOM     29   Si MOL     1       7.679   2.217   6.270  1.00  0.00          SI  \nATOM     30   Si MOL     1       9.599   3.325   7.054  1.00  0.00          SI  \nATOM     31   Si MOL     1       9.599   3.325   9.405  1.00  0.00          SI  \nATOM     32   Si MOL     1      11.519   4.434  10.189  1.00  0.00          SI  \nATOM     33   Si MOL     1       5.759   3.325   0.000  1.00  0.00          SI  \nATOM     34   Si MOL     1       7.679   4.434   0.784  1.00  0.00          SI  \nATOM     35   Si MOL     1       7.679   4.434   3.135  1.00  0.00          SI  \nATOM     36   Si MOL     1       9.599   5.542   3.919  1.00  0.00          SI  \nATOM     37   Si MOL     1       9.599   5.542   6.270  1.00  0.00          SI  \nATOM     38   Si MOL     1      11.519   6.650   7.054  1.00  0.00          SI  \nATOM     39   Si MOL     1      11.519   6.650   9.405  1.00  0.00          SI  \nATOM     40   Si MOL     1      13.439   7.759  10.189  1.00  0.00          SI  \nATOM     41   Si MOL     1       7.679   6.650  -0.000  1.00  0.00          SI  \nATOM     42   Si MOL     1       9.599   7.759   0.784  1.00  0.00          SI  \nATOM     43   Si MOL     1       9.599   7.759   3.135  1.00  0.00          SI  \nATOM     44   Si MOL     1      11.519   8.867   3.919  1.00  0.00          SI  \nATOM     45   Si MOL     1      11.519   8.867   6.270  1.00  0.00          SI  \nATOM     46   Si MOL     1      13.439   9.976   7.054  1.00  0.00          SI  \nATOM     47   Si MOL     1      13.439   9.976   9.405  1.00  0.00          SI  \nATOM     48   Si MOL     1      15.358  11.084  10.189  1.00  0.00          SI  \nATOM     49   Si MOL     1       7.679   4.434  12.540  1.00  0.00          SI  \nATOM     50   Si MOL     1       9.599   5.542  13.324  1.00  0.00          SI  \nATOM     51   Si MOL     1       9.599   5.542  15.675  1.00  0.00          SI  \nATOM     52   Si MOL     1      11.519   6.650  16.459  1.00  0.00          SI  \nATOM     53   Si MOL     1      11.519   6.650  18.810  1.00  0.00          SI  \nATOM     54   Si MOL     1      13.439   7.759  19.594  1.00  0.00          SI  \nATOM     55   Si MOL     1      13.439   7.759  21.945  1.00  0.00          SI  \nATOM     56   Si MOL     1      15.358   8.867  22.729  1.00  0.00          SI  \nATOM     57   Si MOL     1       9.599   7.759  12.540  1.00  0.00          SI  \nATOM     58   Si MOL     1      11.519   8.867  13.324  1.00  0.00          SI  \nATOM     59   Si MOL     1      11.519   8.867  15.675  1.00  0.00          SI  \nATOM     60   Si MOL     1      13.439   9.976  16.459  1.00  0.00          SI  \nATOM     61   Si MOL     1      13.439   9.976  18.810  1.00  0.00          SI  \nATOM     62   Si MOL     1      15.358  11.084  19.594  1.00  0.00          SI  \nATOM     63   Si MOL     1      15.358  11.084  21.945  1.00  0.00          SI  \nATOM     64   Si MOL     1      17.278  12.192  22.729  1.00  0.00          SI  \nATOM     65   Si MOL     1      11.519  11.084  12.540  1.00  0.00          SI  \nATOM     66   Si MOL     1      13.439  12.192  13.324  1.00  0.00          SI  \nATOM     67   Si MOL     1      13.439  12.192  15.675  1.00  0.00          SI  \nATOM     68   Si MOL     1      15.358  13.301  16.459  1.00  0.00          SI  \nATOM     69   Si MOL     1      15.358  13.301  18.810  1.00  0.00          SI  \nATOM     70   Si MOL     1      17.278  14.409  19.594  1.00  0.00          SI  \nATOM     71   Si MOL     1      17.278  14.409  21.945  1.00  0.00          SI  \nATOM     72   Si MOL     1      19.198  15.518  22.729  1.00  0.00          SI  \nATOM     73   Si MOL     1      11.519   4.434  12.540  1.00  0.00          SI  \nATOM     74   Si MOL     1      13.439   5.542  13.324  1.00  0.00          SI  \nATOM     75   Si MOL     1      13.439   5.542  15.675  1.00  0.00          SI  \nATOM     76   Si MOL     1      15.358   6.650  16.459  1.00  0.00          SI  \nATOM     77   Si MOL     1      15.358   6.650  18.810  1.00  0.00          SI  \nATOM     78   Si MOL     1      17.278   7.759  19.594  1.00  0.00          SI  \nATOM     79   Si MOL     1      17.278   7.759  21.945  1.00  0.00          SI  \nATOM     80   Si MOL     1      19.198   8.867  22.729  1.00  0.00          SI  \nATOM     81   Si MOL     1      13.439   7.759  12.540  1.00  0.00          SI  \nATOM     82   Si MOL     1      15.358   8.867  13.324  1.00  0.00          SI  \nATOM     83   Si MOL     1      15.358   8.867  15.675  1.00  0.00          SI  \nATOM     84   Si MOL     1      17.278   9.976  16.459  1.00  0.00          SI  \nATOM     85   Si MOL     1      17.278   9.976  18.810  1.00  0.00          SI  \nATOM     86   Si MOL     1      19.198  11.084  19.594  1.00  0.00          SI  \nATOM     87   Si MOL     1      19.198  11.084  21.945  1.00  0.00          SI  \nATOM     88   Si MOL     1      21.118  12.192  22.729  1.00  0.00          SI  \nATOM     89   Si MOL     1      15.358  11.084  12.540  1.00  0.00          SI  \nATOM     90   Si MOL     1      17.278  12.192  13.324  1.00  0.00          SI  \nATOM     91   Si MOL     1      17.278  12.192  15.675  1.00  0.00          SI  \nATOM     92   Si MOL     1      19.198  13.301  16.459  1.00  0.00          SI  \nATOM     93   Si MOL     1      19.198  13.301  18.810  1.00  0.00          SI  \nATOM     94   Si MOL     1      21.118  14.409  19.594  1.00  0.00          SI  \nATOM     95   Si MOL     1      21.118  14.409  21.945  1.00  0.00          SI  \nATOM     96   Si MOL     1      23.038  15.518  22.729  1.00  0.00          SI  \nATOM     97   Si MOL     1       5.759   9.976  -0.000  1.00  0.00          SI  \nATOM     98   Si MOL     1       7.679  11.084   0.784  1.00  0.00          SI  \nATOM     99   Si MOL     1       7.679  11.084   3.135  1.00  0.00          SI  \nATOM    100   Si MOL     1       9.599  12.192   3.919  1.00  0.00          SI  \nATOM    101   Si MOL     1       9.599  12.192   6.270  1.00  0.00          SI  \nATOM    102   Si MOL     1      11.519  13.301   7.054  1.00  0.00          SI  \nATOM    103   Si MOL     1      11.519  13.301   9.405  1.00  0.00          SI  \nATOM    104   Si MOL     1      13.439  14.409  10.189  1.00  0.00          SI  \nATOM    105   Si MOL     1       7.679  13.301  -0.000  1.00  0.00          SI  \nATOM    106   Si MOL     1       9.599  14.409   0.784  1.00  0.00          SI  \nATOM    107   Si MOL     1       9.599  14.409   3.135  1.00  0.00          SI  \nATOM    108   Si MOL     1      11.519  15.518   3.919  1.00  0.00          SI  \nATOM    109   Si MOL     1      11.519  15.518   6.270  1.00  0.00          SI  \nATOM    110   Si MOL     1      13.439  16.626   7.054  1.00  0.00          SI  \nATOM    111   Si MOL     1      13.439  16.626   9.405  1.00  0.00          SI  \nATOM    112   Si MOL     1      15.358  17.734  10.189  1.00  0.00          SI  \nATOM    113   Si MOL     1       9.599  16.626  -0.000  1.00  0.00          SI  \nATOM    114   Si MOL     1      11.519  17.734   0.784  1.00  0.00          SI  \nATOM    115   Si MOL     1      11.519  17.734   3.135  1.00  0.00          SI  \nATOM    116   Si MOL     1      13.439  18.843   3.919  1.00  0.00          SI  \nATOM    117   Si MOL     1      13.439  18.843   6.270  1.00  0.00          SI  \nATOM    118   Si MOL     1      15.358  19.951   7.054  1.00  0.00          SI  \nATOM    119   Si MOL     1      15.358  19.951   9.405  1.00  0.00          SI  \nATOM    120   Si MOL     1      17.278  21.059  10.189  1.00  0.00          SI  \nATOM    121   Si MOL     1       9.599   9.976  -0.000  1.00  0.00          SI  \nATOM    122   Si MOL     1      11.519  11.084   0.784  1.00  0.00          SI  \nATOM    123   Si MOL     1      11.519  11.084   3.135  1.00  0.00          SI  \nATOM    124   Si MOL     1      13.439  12.192   3.919  1.00  0.00          SI  \nATOM    125   Si MOL     1      13.439  12.192   6.270  1.00  0.00          SI  \nATOM    126   Si MOL     1      15.358  13.301   7.054  1.00  0.00          SI  \nATOM    127   Si MOL     1      15.358  13.301   9.405  1.00  0.00          SI  \nATOM    128   Si MOL     1      17.278  14.409  10.189  1.00  0.00          SI  \nATOM    129   Si MOL     1      11.519  13.301  -0.000  1.00  0.00          SI  \nATOM    130   Si MOL     1      13.439  14.409   0.784  1.00  0.00          SI  \nATOM    131   Si MOL     1      13.439  14.409   3.135  1.00  0.00          SI  \nATOM    132   Si MOL     1      15.358  15.518   3.919  1.00  0.00          SI  \nATOM    133   Si MOL     1      15.358  15.518   6.270  1.00  0.00          SI  \nATOM    134   Si MOL     1      17.278  16.626   7.054  1.00  0.00          SI  \nATOM    135   Si MOL     1      17.278  16.626   9.405  1.00  0.00          SI  \nATOM    136   Si MOL     1      19.198  17.734  10.189  1.00  0.00          SI  \nATOM    137   Si MOL     1      13.439  16.626  -0.000  1.00  0.00          SI  \nATOM    138   Si MOL     1      15.358  17.734   0.784  1.00  0.00          SI  \nATOM    139   Si MOL     1      15.358  17.734   3.135  1.00  0.00          SI  \nATOM    140   Si MOL     1      17.278  18.843   3.919  1.00  0.00          SI  \nATOM    141   Si MOL     1      17.278  18.843   6.270  1.00  0.00          SI  \nATOM    142   Si MOL     1      19.198  19.951   7.054  1.00  0.00          SI  \nATOM    143   Si MOL     1      19.198  19.951   9.405  1.00  0.00          SI  \nATOM    144   Si MOL     1      21.118  21.059  10.189  1.00  0.00          SI  \nATOM    145   Si MOL     1      13.439  14.409  12.540  1.00  0.00          SI  \nATOM    146   Si MOL     1      15.358  15.518  13.324  1.00  0.00          SI  \nATOM    147   Si MOL     1      15.358  15.518  15.675  1.00  0.00          SI  \nATOM    148   Si MOL     1      17.278  16.626  16.459  1.00  0.00          SI  \nATOM    149   Si MOL     1      17.278  16.626  18.810  1.00  0.00          SI  \nATOM    150   Si MOL     1      19.198  17.734  19.594  1.00  0.00          SI  \nATOM    151   Si MOL     1      19.198  17.734  21.945  1.00  0.00          SI  \nATOM    152   Si MOL     1      21.118  18.843  22.729  1.00  0.00          SI  \nATOM    153   Si MOL     1      15.358  17.734  12.540  1.00  0.00          SI  \nATOM    154   Si MOL     1      17.278  18.843  13.324  1.00  0.00          SI  \nATOM    155   Si MOL     1      17.278  18.843  15.675  1.00  0.00          SI  \nATOM    156   Si MOL     1      19.198  19.951  16.459  1.00  0.00          SI  \nATOM    157   Si MOL     1      19.198  19.951  18.810  1.00  0.00          SI  \nATOM    158   Si MOL     1      21.118  21.059  19.594  1.00  0.00          SI  \nATOM    159   Si MOL     1      21.118  21.059  21.945  1.00  0.00          SI  \nATOM    160   Si MOL     1      23.038  22.168  22.729  1.00  0.00          SI  \nATOM    161   Si MOL     1      17.278  21.059  12.540  1.00  0.00          SI  \nATOM    162   Si MOL     1      19.198  22.168  13.324  1.00  0.00          SI  \nATOM    163   Si MOL     1      19.198  22.168  15.675  1.00  0.00          SI  \nATOM    164   Si MOL     1      21.118  23.276  16.459  1.00  0.00          SI  \nATOM    165   Si MOL     1      21.118  23.276  18.810  1.00  0.00          SI  \nATOM    166   Si MOL     1      23.038  24.385  19.594  1.00  0.00          SI  \nATOM    167   Si MOL     1      23.038  24.385  21.945  1.00  0.00          SI  \nATOM    168   Si MOL     1      24.957  25.493  22.729  1.00  0.00          SI  \nATOM    169   Si MOL     1      17.278  14.409  12.540  1.00  0.00          SI  \nATOM    170   Si MOL     1      19.198  15.518  13.324  1.00  0.00          SI  \nATOM    171   Si MOL     1      19.198  15.518  15.675  1.00  0.00          SI  \nATOM    172   Si MOL     1      21.118  16.626  16.459  1.00  0.00          SI  \nATOM    173   Si MOL     1      21.118  16.626  18.810  1.00  0.00          SI  \nATOM    174   Si MOL     1      23.038  17.734  19.594  1.00  0.00          SI  \nATOM    175   Si MOL     1      23.038  17.734  21.945  1.00  0.00          SI  \nATOM    176   Si MOL     1      24.957  18.843  22.729  1.00  0.00          SI  \nATOM    177   Si MOL     1      19.198  17.734  12.540  1.00  0.00          SI  \nATOM    178   Si MOL     1      21.118  18.843  13.324  1.00  0.00          SI  \nATOM    179   Si MOL     1      21.118  18.843  15.675  1.00  0.00          SI  \nATOM    180   Si MOL     1      23.038  19.951  16.459  1.00  0.00          SI  \nATOM    181   Si MOL     1      23.038  19.951  18.810  1.00  0.00          SI  \nATOM    182   Si MOL     1      24.957  21.059  19.594  1.00  0.00          SI  \nATOM    183   Si MOL     1      24.957  21.059  21.945  1.00  0.00          SI  \nATOM    184   Si MOL     1      26.877  22.168  22.729  1.00  0.00          SI  \nATOM    185   Si MOL     1      21.118  21.059  12.540  1.00  0.00          SI  \nATOM    186   Si MOL     1      23.038  22.168  13.324  1.00  0.00          SI  \nATOM    187   Si MOL     1      23.038  22.168  15.675  1.00  0.00          SI  \nATOM    188   Si MOL     1      24.957  23.276  16.459  1.00  0.00          SI  \nATOM    189   Si MOL     1      24.957  23.276  18.810  1.00  0.00          SI  \nATOM    190   Si MOL     1      26.877  24.385  19.594  1.00  0.00          SI  \nATOM    191   Si MOL     1      26.877  24.385  21.945  1.00  0.00          SI  \nATOM    192   Si MOL     1      28.797  25.493  22.729  1.00  0.00          SI  \nATOM    193   Si MOL     1       7.679   0.000   0.000  1.00  0.00          SI  \nATOM    194   Si MOL     1       9.599   1.108   0.784  1.00  0.00          SI  \nATOM    195   Si MOL     1       9.599   1.108   3.135  1.00  0.00          SI  \nATOM    196   Si MOL     1      11.519   2.217   3.919  1.00  0.00          SI  \nATOM    197   Si MOL     1      11.519   2.217   6.270  1.00  0.00          SI  \nATOM    198   Si MOL     1      13.439   3.325   7.054  1.00  0.00          SI  \nATOM    199   Si MOL     1      13.439   3.325   9.405  1.00  0.00          SI  \nATOM    200   Si MOL     1      15.358   4.434  10.189  1.00  0.00          SI  \nATOM    201   Si MOL     1       9.599   3.325   0.000  1.00  0.00          SI  \nATOM    202   Si MOL     1      11.519   4.434   0.784  1.00  0.00          SI  \nATOM    203   Si MOL     1      11.519   4.434   3.135  1.00  0.00          SI  \nATOM    204   Si MOL     1      13.439   5.542   3.919  1.00  0.00          SI  \nATOM    205   Si MOL     1      13.439   5.542   6.270  1.00  0.00          SI  \nATOM    206   Si MOL     1      15.358   6.650   7.054  1.00  0.00          SI  \nATOM    207   Si MOL     1      15.358   6.650   9.405  1.00  0.00          SI  \nATOM    208   Si MOL     1      17.278   7.759  10.189  1.00  0.00          SI  \nATOM    209   Si MOL     1      11.519   6.650   0.000  1.00  0.00          SI  \nATOM    210   Si MOL     1      13.439   7.759   0.784  1.00  0.00          SI  \nATOM    211   Si MOL     1      13.439   7.759   3.135  1.00  0.00          SI  \nATOM    212   Si MOL     1      15.358   8.867   3.919  1.00  0.00          SI  \nATOM    213   Si MOL     1      15.358   8.867   6.270  1.00  0.00          SI  \nATOM    214   Si MOL     1      17.278   9.976   7.054  1.00  0.00          SI  \nATOM    215   Si MOL     1      17.278   9.976   9.405  1.00  0.00          SI  \nATOM    216   Si MOL     1      19.198  11.084  10.189  1.00  0.00          SI  \nATOM    217   Si MOL     1      11.519  -0.000   0.000  1.00  0.00          SI  \nATOM    218   Si MOL     1      13.439   1.108   0.784  1.00  0.00          SI  \nATOM    219   Si MOL     1      13.439   1.108   3.135  1.00  0.00          SI  \nATOM    220   Si MOL     1      15.358   2.217   3.919  1.00  0.00          SI  \nATOM    221   Si MOL     1      15.358   2.217   6.270  1.00  0.00          SI  \nATOM    222   Si MOL     1      17.278   3.325   7.054  1.00  0.00          SI  \nATOM    223   Si MOL     1      17.278   3.325   9.405  1.00  0.00          SI  \nATOM    224   Si MOL     1      19.198   4.434  10.189  1.00  0.00          SI  \nATOM    225   Si MOL     1      13.439   3.325   0.000  1.00  0.00          SI  \nATOM    226   Si MOL     1      15.358   4.434   0.784  1.00  0.00          SI  \nATOM    227   Si MOL     1      15.358   4.434   3.135  1.00  0.00          SI  \nATOM    228   Si MOL     1      17.278   5.542   3.919  1.00  0.00          SI  \nATOM    229   Si MOL     1      17.278   5.542   6.270  1.00  0.00          SI  \nATOM    230   Si MOL     1      19.198   6.650   7.054  1.00  0.00          SI  \nATOM    231   Si MOL     1      19.198   6.650   9.405  1.00  0.00          SI  \nATOM    232   Si MOL     1      21.118   7.759  10.189  1.00  0.00          SI  \nATOM    233   Si MOL     1      15.358   6.650   0.000  1.00  0.00          SI  \nATOM    234   Si MOL     1      17.278   7.759   0.784  1.00  0.00          SI  \nATOM    235   Si MOL     1      17.278   7.759   3.135  1.00  0.00          SI  \nATOM    236   Si MOL     1      19.198   8.867   3.919  1.00  0.00          SI  \nATOM    237   Si MOL     1      19.198   8.867   6.270  1.00  0.00          SI  \nATOM    238   Si MOL     1      21.118   9.976   7.054  1.00  0.00          SI  \nATOM    239   Si MOL     1      21.118   9.976   9.405  1.00  0.00          SI  \nATOM    240   Si MOL     1      23.038  11.084  10.189  1.00  0.00          SI  \nATOM    241   Si MOL     1      15.358   4.434  12.540  1.00  0.00          SI  \nATOM    242   Si MOL     1      17.278   5.542  13.324  1.00  0.00          SI  \nATOM    243   Si MOL     1      17.278   5.542  15.675  1.00  0.00          SI  \nATOM    244   Si MOL     1      19.198   6.650  16.459  1.00  0.00          SI  \nATOM    245   Si MOL     1      19.198   6.650  18.810  1.00  0.00          SI  \nATOM    246   Si MOL     1      21.118   7.759  19.594  1.00  0.00          SI  \nATOM    247   Si MOL     1      21.118   7.759  21.945  1.00  0.00          SI  \nATOM    248   Si MOL     1      23.038   8.867  22.729  1.00  0.00          SI  \nATOM    249   Si MOL     1      17.278   7.759  12.540  1.00  0.00          SI  \nATOM    250   Si MOL     1      19.198   8.867  13.324  1.00  0.00          SI  \nATOM    251   Si MOL     1      19.198   8.867  15.675  1.00  0.00          SI  \nATOM    252   Si MOL     1      21.118   9.976  16.459  1.00  0.00          SI  \nATOM    253   Si MOL     1      21.118   9.976  18.810  1.00  0.00          SI  \nATOM    254   Si MOL     1      23.038  11.084  19.594  1.00  0.00          SI  \nATOM    255   Si MOL     1      23.038  11.084  21.945  1.00  0.00          SI  \nATOM    256   Si MOL     1      24.957  12.192  22.729  1.00  0.00          SI  \nATOM    257   Si MOL     1      19.198  11.084  12.540  1.00  0.00          SI  \nATOM    258   Si MOL     1      21.118  12.192  13.324  1.00  0.00          SI  \nATOM    259   Si MOL     1      21.118  12.192  15.675  1.00  0.00          SI  \nATOM    260   Si MOL     1      23.038  13.301  16.459  1.00  0.00          SI  \nATOM    261   Si MOL     1      23.038  13.301  18.810  1.00  0.00          SI  \nATOM    262   Si MOL     1      24.957  14.409  19.594  1.00  0.00          SI  \nATOM    263   Si MOL     1      24.957  14.409  21.945  1.00  0.00          SI  \nATOM    264   Si MOL     1      26.877  15.518  22.729  1.00  0.00          SI  \nATOM    265   Si MOL     1      19.198   4.434  12.540  1.00  0.00          SI  \nATOM    266   Si MOL     1      21.118   5.542  13.324  1.00  0.00          SI  \nATOM    267   Si MOL     1      21.118   5.542  15.675  1.00  0.00          SI  \nATOM    268   Si MOL     1      23.038   6.650  16.459  1.00  0.00          SI  \nATOM    269   Si MOL     1      23.038   6.650  18.810  1.00  0.00          SI  \nATOM    270   Si MOL     1      24.957   7.759  19.594  1.00  0.00          SI  \nATOM    271   Si MOL     1      24.957   7.759  21.945  1.00  0.00          SI  \nATOM    272   Si MOL     1      26.877   8.867  22.729  1.00  0.00          SI  \nATOM    273   Si MOL     1      21.118   7.759  12.540  1.00  0.00          SI  \nATOM    274   Si MOL     1      23.038   8.867  13.324  1.00  0.00          SI  \nATOM    275   Si MOL     1      23.038   8.867  15.675  1.00  0.00          SI  \nATOM    276   Si MOL     1      24.957   9.976  16.459  1.00  0.00          SI  \nATOM    277   Si MOL     1      24.957   9.976  18.810  1.00  0.00          SI  \nATOM    278   Si MOL     1      26.877  11.084  19.594  1.00  0.00          SI  \nATOM    279   Si MOL     1      26.877  11.084  21.945  1.00  0.00          SI  \nATOM    280   Si MOL     1      28.797  12.192  22.729  1.00  0.00          SI  \nATOM    281   Si MOL     1      23.038  11.084  12.540  1.00  0.00          SI  \nATOM    282   Si MOL     1      24.957  12.192  13.324  1.00  0.00          SI  \nATOM    283   Si MOL     1      24.957  12.192  15.675  1.00  0.00          SI  \nATOM    284   Si MOL     1      26.877  13.301  16.459  1.00  0.00          SI  \nATOM    285   Si MOL     1      26.877  13.301  18.810  1.00  0.00          SI  \nATOM    286   Si MOL     1      28.797  14.409  19.594  1.00  0.00          SI  \nATOM    287   Si MOL     1      28.797  14.409  21.945  1.00  0.00          SI  \nATOM    288   Si MOL     1      30.717  15.518  22.729  1.00  0.00          SI  \nATOM    289   Si MOL     1      13.439   9.976  -0.000  1.00  0.00          SI  \nATOM    290   Si MOL     1      15.358  11.084   0.784  1.00  0.00          SI  \nATOM    291   Si MOL     1      15.358  11.084   3.135  1.00  0.00          SI  \nATOM    292   Si MOL     1      17.278  12.192   3.919  1.00  0.00          SI  \nATOM    293   Si MOL     1      17.278  12.192   6.270  1.00  0.00          SI  \nATOM    294   Si MOL     1      19.198  13.301   7.054  1.00  0.00          SI  \nATOM    295   Si MOL     1      19.198  13.301   9.405  1.00  0.00          SI  \nATOM    296   Si MOL     1      21.118  14.409  10.189  1.00  0.00          SI  \nATOM    297   Si MOL     1      15.358  13.301  -0.000  1.00  0.00          SI  \nATOM    298   Si MOL     1      17.278  14.409   0.784  1.00  0.00          SI  \nATOM    299   Si MOL     1      17.278  14.409   3.135  1.00  0.00          SI  \nATOM    300   Si MOL     1      19.198  15.518   3.919  1.00  0.00          SI  \nATOM    301   Si MOL     1      19.198  15.518   6.270  1.00  0.00          SI  \nATOM    302   Si MOL     1      21.118  16.626   7.054  1.00  0.00          SI  \nATOM    303   Si MOL     1      21.118  16.626   9.405  1.00  0.00          SI  \nATOM    304   Si MOL     1      23.038  17.734  10.189  1.00  0.00          SI  \nATOM    305   Si MOL     1      17.278  16.626  -0.000  1.00  0.00          SI  \nATOM    306   Si MOL     1      19.198  17.734   0.784  1.00  0.00          SI  \nATOM    307   Si MOL     1      19.198  17.734   3.135  1.00  0.00          SI  \nATOM    308   Si MOL     1      21.118  18.843   3.919  1.00  0.00          SI  \nATOM    309   Si MOL     1      21.118  18.843   6.270  1.00  0.00          SI  \nATOM    310   Si MOL     1      23.038  19.951   7.054  1.00  0.00          SI  \nATOM    311   Si MOL     1      23.038  19.951   9.405  1.00  0.00          SI  \nATOM    312   Si MOL     1      24.957  21.059  10.189  1.00  0.00          SI  \nATOM    313   Si MOL     1      17.278   9.976   0.000  1.00  0.00          SI  \nATOM    314   Si MOL     1      19.198  11.084   0.784  1.00  0.00          SI  \nATOM    315   Si MOL     1      19.198  11.084   3.135  1.00  0.00          SI  \nATOM    316   Si MOL     1      21.118  12.192   3.919  1.00  0.00          SI  \nATOM    317   Si MOL     1      21.118  12.192   6.270  1.00  0.00          SI  \nATOM    318   Si MOL     1      23.038  13.301   7.054  1.00  0.00          SI  \nATOM    319   Si MOL     1      23.038  13.301   9.405  1.00  0.00          SI  \nATOM    320   Si MOL     1      24.957  14.409  10.189  1.00  0.00          SI  \nATOM    321   Si MOL     1      19.198  13.301   0.000  1.00  0.00          SI  \nATOM    322   Si MOL     1      21.118  14.409   0.784  1.00  0.00          SI  \nATOM    323   Si MOL     1      21.118  14.409   3.135  1.00  0.00          SI  \nATOM    324   Si MOL     1      23.038  15.518   3.919  1.00  0.00          SI  \nATOM    325   Si MOL     1      23.038  15.518   6.270  1.00  0.00          SI  \nATOM    326   Si MOL     1      24.957  16.626   7.054  1.00  0.00          SI  \nATOM    327   Si MOL     1      24.957  16.626   9.405  1.00  0.00          SI  \nATOM    328   Si MOL     1      26.877  17.734  10.189  1.00  0.00          SI  \nATOM    329   Si MOL     1      21.118  16.626  -0.000  1.00  0.00          SI  \nATOM    330   Si MOL     1      23.038  17.734   0.784  1.00  0.00          SI  \nATOM    331   Si MOL     1      23.038  17.734   3.135  1.00  0.00          SI  \nATOM    332   Si MOL     1      24.957  18.843   3.919  1.00  0.00          SI  \nATOM    333   Si MOL     1      24.957  18.843   6.270  1.00  0.00          SI  \nATOM    334   Si MOL     1      26.877  19.951   7.054  1.00  0.00          SI  \nATOM    335   Si MOL     1      26.877  19.951   9.405  1.00  0.00          SI  \nATOM    336   Si MOL     1      28.797  21.059  10.189  1.00  0.00          SI  \nATOM    337   Si MOL     1      21.118  14.409  12.540  1.00  0.00          SI  \nATOM    338   Si MOL     1      23.038  15.518  13.324  1.00  0.00          SI  \nATOM    339   Si MOL     1      23.038  15.518  15.675  1.00  0.00          SI  \nATOM    340   Si MOL     1      24.957  16.626  16.459  1.00  0.00          SI  \nATOM    341   Si MOL     1      24.957  16.626  18.810  1.00  0.00          SI  \nATOM    342   Si MOL     1      26.877  17.734  19.594  1.00  0.00          SI  \nATOM    343   Si MOL     1      26.877  17.734  21.945  1.00  0.00          SI  \nATOM    344   Si MOL     1      28.797  18.843  22.729  1.00  0.00          SI  \nATOM    345   Si MOL     1      23.038  17.734  12.540  1.00  0.00          SI  \nATOM    346   Si MOL     1      24.957  18.843  13.324  1.00  0.00          SI  \nATOM    347   Si MOL     1      24.957  18.843  15.675  1.00  0.00          SI  \nATOM    348   Si MOL     1      26.877  19.951  16.459  1.00  0.00          SI  \nATOM    349   Si MOL     1      26.877  19.951  18.810  1.00  0.00          SI  \nATOM    350   Si MOL     1      28.797  21.059  19.594  1.00  0.00          SI  \nATOM    351   Si MOL     1      28.797  21.059  21.945  1.00  0.00          SI  \nATOM    352   Si MOL     1      30.717  22.168  22.729  1.00  0.00          SI  \nATOM    353   Si MOL     1      24.957  21.059  12.540  1.00  0.00          SI  \nATOM    354   Si MOL     1      26.877  22.168  13.324  1.00  0.00          SI  \nATOM    355   Si MOL     1      26.877  22.168  15.675  1.00  0.00          SI  \nATOM    356   Si MOL     1      28.797  23.276  16.459  1.00  0.00          SI  \nATOM    357   Si MOL     1      28.797  23.276  18.810  1.00  0.00          SI  \nATOM    358   Si MOL     1      30.717  24.385  19.594  1.00  0.00          SI  \nATOM    359   Si MOL     1      30.717  24.385  21.945  1.00  0.00          SI  \nATOM    360   Si MOL     1      32.637  25.493  22.729  1.00  0.00          SI  \nATOM    361   Si MOL     1      24.957  14.409  12.540  1.00  0.00          SI  \nATOM    362   Si MOL     1      26.877  15.518  13.324  1.00  0.00          SI  \nATOM    363   Si MOL     1      26.877  15.518  15.675  1.00  0.00          SI  \nATOM    364   Si MOL     1      28.797  16.626  16.459  1.00  0.00          SI  \nATOM    365   Si MOL     1      28.797  16.626  18.810  1.00  0.00          SI  \nATOM    366   Si MOL     1      30.717  17.734  19.594  1.00  0.00          SI  \nATOM    367   Si MOL     1      30.717  17.734  21.945  1.00  0.00          SI  \nATOM    368   Si MOL     1      32.637  18.843  22.729  1.00  0.00          SI  \nATOM    369   Si MOL     1      26.877  17.734  12.540  1.00  0.00          SI  \nATOM    370   Si MOL     1      28.797  18.843  13.324  1.00  0.00          SI  \nATOM    371   Si MOL     1      28.797  18.843  15.675  1.00  0.00          SI  \nATOM    372   Si MOL     1      30.717  19.951  16.459  1.00  0.00          SI  \nATOM    373   Si MOL     1      30.717  19.951  18.810  1.00  0.00          SI  \nATOM    374   Si MOL     1      32.637  21.059  19.594  1.00  0.00          SI  \nATOM    375   Si MOL     1      32.637  21.059  21.945  1.00  0.00          SI  \nATOM    376   Si MOL     1      34.556  22.168  22.729  1.00  0.00          SI  \nATOM    377   Si MOL     1      28.797  21.059  12.540  1.00  0.00          SI  \nATOM    378   Si MOL     1      30.717  22.168  13.324  1.00  0.00          SI  \nATOM    379   Si MOL     1      30.717  22.168  15.675  1.00  0.00          SI  \nATOM    380   Si MOL     1      32.637  23.276  16.459  1.00  0.00          SI  \nATOM    381   Si MOL     1      32.637  23.276  18.810  1.00  0.00          SI  \nATOM    382   Si MOL     1      34.556  24.385  19.594  1.00  0.00          SI  \nATOM    383   Si MOL     1      34.556  24.385  21.945  1.00  0.00          SI  \nATOM    384   Si MOL     1      36.476  25.493  22.729  1.00  0.00          SI  \nENDMDL\n",
           "type": "blob"
          }
         ],
         "kwargs": {
          "defaultRepresentation": false,
          "ext": "pdb"
         },
         "methodName": "loadFile",
         "reconstruc_color_scheme": false,
         "target": "Stage",
         "type": "call_method"
        },
        {
         "args": [
          "400px",
          "300px"
         ],
         "kwargs": {},
         "methodName": "setSize",
         "reconstruc_color_scheme": false,
         "target": "Widget",
         "type": "call_method"
        },
        {
         "args": [
          "unitcell"
         ],
         "component_index": 0,
         "kwargs": {
          "sele": "all"
         },
         "methodName": "addRepresentation",
         "reconstruc_color_scheme": false,
         "target": "compList",
         "type": "call_method"
        },
        {
         "args": [
          "spacefill"
         ],
         "component_index": 0,
         "kwargs": {
          "sele": "all"
         },
         "methodName": "addRepresentation",
         "reconstruc_color_scheme": false,
         "target": "compList",
         "type": "call_method"
        },
        {
         "args": [],
         "kwargs": {
          "cameraType": "orthographic"
         },
         "methodName": "setParameters",
         "reconstruc_color_scheme": false,
         "target": "Stage",
         "type": "call_method"
        },
        {
         "args": [
          {
           "clipDist": 0
          }
         ],
         "kwargs": {},
         "methodName": "setParameters",
         "reconstruc_color_scheme": false,
         "target": "Widget",
         "type": "call_method"
        },
        {
         "args": [
          "spacefill",
          0
         ],
         "kwargs": {
          "colorScale": "rainbow",
          "colorScheme": "element",
          "radiusScale": 0.5,
          "radiusType": "covalent"
         },
         "methodName": "updateRepresentationsByName",
         "reconstruc_color_scheme": false,
         "target": "Widget",
         "type": "call_method"
        },
        {
         "args": [
          "this._Q = [[-0.0, 0.7071067811865476, 0.7071067811865476], [0.816496580927726, -0.40824829046386285, 0.40824829046386296], [0.5773502691896257, 0.5773502691896258, -0.5773502691896257]]\n    var tooltip = document.createElement('div');\n    Object.assign(tooltip.style, {\n      display: 'none',\n      position: 'fixed',\n      zIndex: 10,\n      pointerEvents: 'none',\n      backgroundColor: 'rgba( 0, 0, 0, 0.6 )',\n      color: 'lightgrey',\n      padding: '8px',\n      fontFamily: 'sans-serif'\n    });\n    document.body.appendChild(tooltip);\n\n    var that = this;\n    this.stage.mouseControls.remove('hoverPick');\n    this.stage.signals.hovered.add(function (pickingProxy) {\n      if (pickingProxy && (pickingProxy.atom || pickingProxy.bond)) {\n        var atom = pickingProxy.atom || pickingProxy.closestBondAtom\n        var mp = pickingProxy.mouse.position\n        //tooltip.innerText = atom.element + ' i=' + atom.index + ' (' + atom.x.toFixed(2) +  ', ' + atom.y.toFixed(2) +  ', ' + atom.z.toFixed(2) + ')'\n        //var pos = that._atoms_pos[atom.index]\n        var Q = that._Q\n        var pos_x = Q[0][0] * atom.x + Q[0][1] * atom.y + Q[0][2] * atom.z \n        var pos_y = Q[1][0] * atom.x + Q[1][1] * atom.y + Q[1][2] * atom.z\n        var pos_z = Q[2][0] * atom.x + Q[2][1] * atom.y + Q[2][2] * atom.z\n        tooltip.innerText = 'i=' + atom.index + ' ' + atom.element + ' (' + pos_x.toFixed(2) +  ', ' + pos_y.toFixed(2) +  ', ' + pos_z.toFixed(2) + ')'\n        tooltip.style.bottom = window.innerHeight - mp.y + 3 + 'px'\n        tooltip.style.left = mp.x + 3 + 'px'\n        tooltip.style.display = 'block'\n      } else {\n        tooltip.style.display = 'none'\n      }\n    });\n    this.stage.tooltip = tooltip;\n    "
         ],
         "kwargs": {},
         "methodName": "executeCode",
         "reconstruc_color_scheme": false,
         "target": "Widget",
         "type": "call_method"
        }
       ],
       "_ngl_original_stage_parameters": {
        "ambientColor": 14540253,
        "ambientIntensity": 0.2,
        "backgroundColor": "white",
        "cameraEyeSep": 0.3,
        "cameraFov": 40,
        "cameraType": "perspective",
        "clipDist": 10,
        "clipFar": 100,
        "clipNear": 0,
        "fogFar": 100,
        "fogNear": 50,
        "hoverTimeout": 0,
        "impostor": true,
        "lightColor": 14540253,
        "lightIntensity": 1,
        "mousePreset": "default",
        "panSpeed": 1,
        "quality": "medium",
        "rotateSpeed": 2,
        "sampleLevel": 0,
        "tooltip": true,
        "workerDefault": true,
        "zoomSpeed": 1.2
       },
       "_ngl_repr_dict": {
        "0": {
         "0": {
          "params": {
           "clipCenter": {
            "x": 0,
            "y": 0,
            "z": 0
           },
           "clipNear": 0,
           "clipRadius": 0,
           "colorMode": "hcl",
           "colorReverse": false,
           "colorScale": "",
           "colorScheme": "element",
           "colorValue": "orange",
           "defaultAssembly": "",
           "depthWrite": true,
           "diffuse": 16777215,
           "diffuseInterior": false,
           "disableImpostor": false,
           "disablePicking": false,
           "flatShaded": false,
           "interiorColor": 2236962,
           "interiorDarkening": 0,
           "lazy": false,
           "matrix": {
            "elements": [
             1,
             0,
             0,
             0,
             0,
             1,
             0,
             0,
             0,
             0,
             1,
             0,
             0,
             0,
             0,
             1
            ]
           },
           "metalness": 0,
           "opacity": 1,
           "quality": "medium",
           "radialSegments": 10,
           "radiusData": {},
           "radiusScale": 1,
           "radiusSize": 0.09866139659221249,
           "radiusType": "vdw",
           "roughness": 0.4,
           "sele": "all",
           "side": "double",
           "sphereDetail": 1,
           "useInteriorColor": true,
           "visible": true,
           "wireframe": false
          },
          "type": "unitcell"
         },
         "1": {
          "params": {
           "assembly": "default",
           "clipCenter": {
            "x": 0,
            "y": 0,
            "z": 0
           },
           "clipNear": 0,
           "clipRadius": 0,
           "colorMode": "hcl",
           "colorReverse": false,
           "colorScale": "rainbow",
           "colorScheme": "element",
           "colorValue": 9474192,
           "defaultAssembly": "",
           "depthWrite": true,
           "diffuse": 16777215,
           "diffuseInterior": false,
           "disableImpostor": false,
           "disablePicking": false,
           "flatShaded": false,
           "interiorColor": 2236962,
           "interiorDarkening": 0,
           "lazy": false,
           "matrix": {
            "elements": [
             1,
             0,
             0,
             0,
             0,
             1,
             0,
             0,
             0,
             0,
             1,
             0,
             0,
             0,
             0,
             1
            ]
           },
           "metalness": 0,
           "opacity": 1,
           "quality": "medium",
           "radiusData": {},
           "radiusScale": 0.5,
           "radiusSize": 1,
           "radiusType": "covalent",
           "roughness": 0.4,
           "sele": "all",
           "side": "double",
           "sphereDetail": 1,
           "useInteriorColor": true,
           "visible": true,
           "wireframe": false
          },
          "type": "spacefill"
         }
        }
       },
       "_ngl_serialize": false,
       "_ngl_version": "2.0.0-dev.36",
       "_ngl_view_id": [
        "DD67BBEF-29AD-4F51-818B-B4CFFA40F239"
       ],
       "_player_dict": {},
       "_scene_position": {},
       "_scene_rotation": {},
       "_synced_model_ids": [],
       "_synced_repr_model_ids": [],
       "_view_height": "",
       "_view_width": "",
       "background": "white",
       "frame": 0,
       "gui_style": null,
       "layout": "IPY_MODEL_44a74b6936dd4713a4999accbf758b79",
       "max_frame": 0,
       "n_components": 1,
       "picked": {}
      }
     },
     "808d2d7b218a49d6b56af024f66fa5a6": {
      "model_module": "@jupyter-widgets/base",
      "model_module_version": "1.2.0",
      "model_name": "LayoutModel",
      "state": {}
     },
     "8157846c4e0d4dcb8e98f6d50028d698": {
      "model_module": "@jupyter-widgets/base",
      "model_module_version": "1.2.0",
      "model_name": "LayoutModel",
      "state": {}
     },
     "821a7da2de0e49d88ae3630e5fa90a2b": {
      "model_module": "@jupyter-widgets/base",
      "model_module_version": "1.2.0",
      "model_name": "LayoutModel",
      "state": {
       "border": "0px solid black"
      }
     },
     "8292586076464dff995483cf9a1a188a": {
      "model_module": "@jupyter-widgets/controls",
      "model_module_version": "1.5.0",
      "model_name": "ButtonStyleModel",
      "state": {}
     },
     "832b4e0e9ef146d9bef43efb150a3eed": {
      "model_module": "@jupyter-widgets/controls",
      "model_module_version": "1.5.0",
      "model_name": "FloatSliderModel",
      "state": {
       "description": "Force scale",
       "layout": "IPY_MODEL_2453c7b1c2f24add94b94140e5babeaf",
       "step": 0.1,
       "style": "IPY_MODEL_50ba829feb3f4f7cb48a02cf0e09089f",
       "value": 0.5
      }
     },
     "833ff02eda23418ea38afc9413df0c94": {
      "model_module": "@jupyter-widgets/controls",
      "model_module_version": "1.5.0",
      "model_name": "DescriptionStyleModel",
      "state": {
       "description_width": ""
      }
     },
     "83ce3b726d27476eb81922a1618a27aa": {
      "model_module": "@jupyter-widgets/controls",
      "model_module_version": "1.5.0",
      "model_name": "ButtonModel",
      "state": {
       "description": "Save image",
       "layout": "IPY_MODEL_49821e8d622f4f1d98710c0cfba50ab8",
       "style": "IPY_MODEL_78ddb0d8f35f42ad9ad014114ce7ba09",
       "tooltip": "Save current frame to file.\nCurrently .png and .html are supported.\nIt takes a bit time, please be patient."
      }
     },
     "84749d768f1f4f85b8b76aad9973a268": {
      "model_module": "@jupyter-widgets/controls",
      "model_module_version": "1.5.0",
      "model_name": "IntSliderModel",
      "state": {
       "layout": "IPY_MODEL_6652f9bf51aa4f07a5f29b9a59da5dae",
       "max": 0,
       "style": "IPY_MODEL_e5f132ba37c84566a6a61a87f7821309"
      }
     },
     "85860a5470b94d0fafdd9ea6a7f2bced": {
      "model_module": "@jupyter-widgets/base",
      "model_module_version": "1.2.0",
      "model_name": "LayoutModel",
      "state": {}
     },
     "8596ea4387444c5c821cb3783866c0ac": {
      "model_module": "@jupyter-widgets/controls",
      "model_module_version": "1.5.0",
      "model_name": "DescriptionStyleModel",
      "state": {
       "description_width": ""
      }
     },
     "85b73e6fa6bb43d49b46a2124daf8ce3": {
      "model_module": "@jupyter-widgets/controls",
      "model_module_version": "1.5.0",
      "model_name": "ImageModel",
      "state": {
       "layout": "IPY_MODEL_0b818e028cac499c89a6b99b8e4898b0",
       "width": "900.0"
      }
     },
     "86905756e5e74c4891140d80645f4aca": {
      "model_module": "@jupyter-widgets/controls",
      "model_module_version": "1.5.0",
      "model_name": "DescriptionStyleModel",
      "state": {
       "description_width": ""
      }
     },
     "86c44482822044199a95fbb42f41fbca": {
      "model_module": "nglview-js-widgets",
      "model_module_version": "3.0.1",
      "model_name": "NGLModel",
      "state": {
       "_camera_orientation": [
        16.929911666299105,
        0,
        0,
        0,
        0,
        16.929911666299105,
        0,
        0,
        0,
        0,
        16.929911666299105,
        0,
        -4.799499988555908,
        -2.7709999084472656,
        -1.9594999551773071,
        1
       ],
       "_camera_str": "orthographic",
       "_gui_theme": null,
       "_ibtn_fullscreen": "IPY_MODEL_9bd391735f4947b99fe321ecfb4272b3",
       "_igui": null,
       "_iplayer": "IPY_MODEL_997def9059b345238d219fe01085f259",
       "_ngl_color_dict": {},
       "_ngl_coordinate_resource": {},
       "_ngl_full_stage_parameters": {
        "ambientColor": 14540253,
        "ambientIntensity": 0.2,
        "backgroundColor": "white",
        "cameraEyeSep": 0.3,
        "cameraFov": 40,
        "cameraType": "orthographic",
        "clipDist": 0,
        "clipFar": 100,
        "clipNear": 0,
        "fogFar": 100,
        "fogNear": 50,
        "hoverTimeout": 0,
        "impostor": true,
        "lightColor": 14540253,
        "lightIntensity": 1,
        "mousePreset": "default",
        "panSpeed": 1,
        "quality": "medium",
        "rotateSpeed": 2,
        "sampleLevel": 0,
        "tooltip": true,
        "workerDefault": true,
        "zoomSpeed": 1.2
       },
       "_ngl_msg_archive": [
        {
         "args": [
          {
           "binary": false,
           "data": "CRYST1    7.679    7.679    7.679  60.00  60.00  60.00 P 1\nMODEL     1\nATOM      1   Si MOL     1       0.000   0.000   0.000  1.00  0.00          SI  \nATOM      2   Si MOL     1       1.920   1.108   0.784  1.00  0.00          SI  \nATOM      3   Si MOL     1       1.920   1.108   3.135  1.00  0.00          SI  \nATOM      4   Si MOL     1       3.840   2.217   3.919  1.00  0.00          SI  \nATOM      5   Si MOL     1       1.920   3.325  -0.000  1.00  0.00          SI  \nATOM      6   Si MOL     1       3.840   4.434   0.784  1.00  0.00          SI  \nATOM      7   Si MOL     1       3.840   4.434   3.135  1.00  0.00          SI  \nATOM      8   Si MOL     1       5.759   5.542   3.919  1.00  0.00          SI  \nATOM      9   Si MOL     1       3.840  -0.000  -0.000  1.00  0.00          SI  \nATOM     10   Si MOL     1       5.759   1.108   0.784  1.00  0.00          SI  \nATOM     11   Si MOL     1       5.759   1.108   3.135  1.00  0.00          SI  \nATOM     12   Si MOL     1       7.679   2.217   3.919  1.00  0.00          SI  \nATOM     13   Si MOL     1       5.759   3.325  -0.000  1.00  0.00          SI  \nATOM     14   Si MOL     1       7.679   4.434   3.135  1.00  0.00          SI  \nATOM     15   Si MOL     1       9.599   5.542   3.919  1.00  0.00          SI  \nENDMDL\n",
           "type": "blob"
          }
         ],
         "kwargs": {
          "defaultRepresentation": false,
          "ext": "pdb"
         },
         "methodName": "loadFile",
         "reconstruc_color_scheme": false,
         "target": "Stage",
         "type": "call_method"
        },
        {
         "args": [
          "400px",
          "300px"
         ],
         "kwargs": {},
         "methodName": "setSize",
         "reconstruc_color_scheme": false,
         "target": "Widget",
         "type": "call_method"
        },
        {
         "args": [
          "unitcell"
         ],
         "component_index": 0,
         "kwargs": {
          "sele": "all"
         },
         "methodName": "addRepresentation",
         "reconstruc_color_scheme": false,
         "target": "compList",
         "type": "call_method"
        },
        {
         "args": [
          "spacefill"
         ],
         "component_index": 0,
         "kwargs": {
          "sele": "all"
         },
         "methodName": "addRepresentation",
         "reconstruc_color_scheme": false,
         "target": "compList",
         "type": "call_method"
        },
        {
         "args": [],
         "kwargs": {
          "cameraType": "orthographic"
         },
         "methodName": "setParameters",
         "reconstruc_color_scheme": false,
         "target": "Stage",
         "type": "call_method"
        },
        {
         "args": [
          {
           "clipDist": 0
          }
         ],
         "kwargs": {},
         "methodName": "setParameters",
         "reconstruc_color_scheme": false,
         "target": "Widget",
         "type": "call_method"
        },
        {
         "args": [
          "spacefill",
          0
         ],
         "kwargs": {
          "colorScale": "rainbow",
          "colorScheme": "element",
          "radiusScale": 0.5,
          "radiusType": "covalent"
         },
         "methodName": "updateRepresentationsByName",
         "reconstruc_color_scheme": false,
         "target": "Widget",
         "type": "call_method"
        },
        {
         "args": [
          "this._Q = [[-0.0, 0.7071067811865476, 0.7071067811865476], [0.816496580927726, -0.40824829046386285, 0.40824829046386296], [0.5773502691896257, 0.5773502691896258, -0.5773502691896257]]\n    var tooltip = document.createElement('div');\n    Object.assign(tooltip.style, {\n      display: 'none',\n      position: 'fixed',\n      zIndex: 10,\n      pointerEvents: 'none',\n      backgroundColor: 'rgba( 0, 0, 0, 0.6 )',\n      color: 'lightgrey',\n      padding: '8px',\n      fontFamily: 'sans-serif'\n    });\n    document.body.appendChild(tooltip);\n\n    var that = this;\n    this.stage.mouseControls.remove('hoverPick');\n    this.stage.signals.hovered.add(function (pickingProxy) {\n      if (pickingProxy && (pickingProxy.atom || pickingProxy.bond)) {\n        var atom = pickingProxy.atom || pickingProxy.closestBondAtom\n        var mp = pickingProxy.mouse.position\n        //tooltip.innerText = atom.element + ' i=' + atom.index + ' (' + atom.x.toFixed(2) +  ', ' + atom.y.toFixed(2) +  ', ' + atom.z.toFixed(2) + ')'\n        //var pos = that._atoms_pos[atom.index]\n        var Q = that._Q\n        var pos_x = Q[0][0] * atom.x + Q[0][1] * atom.y + Q[0][2] * atom.z \n        var pos_y = Q[1][0] * atom.x + Q[1][1] * atom.y + Q[1][2] * atom.z\n        var pos_z = Q[2][0] * atom.x + Q[2][1] * atom.y + Q[2][2] * atom.z\n        tooltip.innerText = 'i=' + atom.index + ' ' + atom.element + ' (' + pos_x.toFixed(2) +  ', ' + pos_y.toFixed(2) +  ', ' + pos_z.toFixed(2) + ')'\n        tooltip.style.bottom = window.innerHeight - mp.y + 3 + 'px'\n        tooltip.style.left = mp.x + 3 + 'px'\n        tooltip.style.display = 'block'\n      } else {\n        tooltip.style.display = 'none'\n      }\n    });\n    this.stage.tooltip = tooltip;\n    "
         ],
         "kwargs": {},
         "methodName": "executeCode",
         "reconstruc_color_scheme": false,
         "target": "Widget",
         "type": "call_method"
        },
        {
         "args": [
          "ball+stick"
         ],
         "component_index": 0,
         "kwargs": {
          "sele": "all"
         },
         "methodName": "addRepresentation",
         "reconstruc_color_scheme": false,
         "target": "compList",
         "type": "call_method"
        }
       ],
       "_ngl_original_stage_parameters": {
        "ambientColor": 14540253,
        "ambientIntensity": 0.2,
        "backgroundColor": "white",
        "cameraEyeSep": 0.3,
        "cameraFov": 40,
        "cameraType": "perspective",
        "clipDist": 10,
        "clipFar": 100,
        "clipNear": 0,
        "fogFar": 100,
        "fogNear": 50,
        "hoverTimeout": 0,
        "impostor": true,
        "lightColor": 14540253,
        "lightIntensity": 1,
        "mousePreset": "default",
        "panSpeed": 1,
        "quality": "medium",
        "rotateSpeed": 2,
        "sampleLevel": 0,
        "tooltip": true,
        "workerDefault": true,
        "zoomSpeed": 1.2
       },
       "_ngl_repr_dict": {
        "0": {
         "0": {
          "params": {
           "clipCenter": {
            "x": 0,
            "y": 0,
            "z": 0
           },
           "clipNear": 0,
           "clipRadius": 0,
           "colorMode": "hcl",
           "colorReverse": false,
           "colorScale": "",
           "colorScheme": "element",
           "colorValue": "orange",
           "defaultAssembly": "",
           "depthWrite": true,
           "diffuse": 16777215,
           "diffuseInterior": false,
           "disableImpostor": false,
           "disablePicking": false,
           "flatShaded": false,
           "interiorColor": 2236962,
           "interiorDarkening": 0,
           "lazy": false,
           "matrix": {
            "elements": [
             1,
             0,
             0,
             0,
             0,
             1,
             0,
             0,
             0,
             0,
             1,
             0,
             0,
             0,
             0,
             1
            ]
           },
           "metalness": 0,
           "opacity": 1,
           "quality": "medium",
           "radialSegments": 10,
           "radiusData": {},
           "radiusScale": 1,
           "radiusSize": 0.03420312976358566,
           "radiusType": "vdw",
           "roughness": 0.4,
           "sele": "all",
           "side": "double",
           "sphereDetail": 1,
           "useInteriorColor": true,
           "visible": true,
           "wireframe": false
          },
          "type": "unitcell"
         },
         "1": {
          "params": {
           "assembly": "default",
           "clipCenter": {
            "x": 0,
            "y": 0,
            "z": 0
           },
           "clipNear": 0,
           "clipRadius": 0,
           "colorMode": "hcl",
           "colorReverse": false,
           "colorScale": "rainbow",
           "colorScheme": "element",
           "colorValue": 9474192,
           "defaultAssembly": "",
           "depthWrite": true,
           "diffuse": 16777215,
           "diffuseInterior": false,
           "disableImpostor": false,
           "disablePicking": false,
           "flatShaded": false,
           "interiorColor": 2236962,
           "interiorDarkening": 0,
           "lazy": false,
           "matrix": {
            "elements": [
             1,
             0,
             0,
             0,
             0,
             1,
             0,
             0,
             0,
             0,
             1,
             0,
             0,
             0,
             0,
             1
            ]
           },
           "metalness": 0,
           "opacity": 1,
           "quality": "medium",
           "radiusData": {},
           "radiusScale": 0.5,
           "radiusSize": 1,
           "radiusType": "covalent",
           "roughness": 0.4,
           "sele": "all",
           "side": "double",
           "sphereDetail": 1,
           "useInteriorColor": true,
           "visible": true,
           "wireframe": false
          },
          "type": "spacefill"
         },
         "2": {
          "params": {
           "aspectRatio": 2,
           "assembly": "default",
           "bondScale": 0.4,
           "bondSpacing": 1,
           "clipCenter": {
            "x": 0,
            "y": 0,
            "z": 0
           },
           "clipNear": 0,
           "clipRadius": 0,
           "colorMode": "hcl",
           "colorReverse": false,
           "colorScale": "",
           "colorScheme": "element",
           "colorValue": 9474192,
           "cylinderOnly": false,
           "defaultAssembly": "",
           "depthWrite": true,
           "diffuse": 16777215,
           "diffuseInterior": false,
           "disableImpostor": false,
           "disablePicking": false,
           "flatShaded": false,
           "interiorColor": 2236962,
           "interiorDarkening": 0,
           "lazy": false,
           "lineOnly": false,
           "linewidth": 2,
           "matrix": {
            "elements": [
             1,
             0,
             0,
             0,
             0,
             1,
             0,
             0,
             0,
             0,
             1,
             0,
             0,
             0,
             0,
             1
            ]
           },
           "metalness": 0,
           "multipleBond": "off",
           "opacity": 1,
           "openEnded": true,
           "quality": "medium",
           "radialSegments": 10,
           "radiusData": {},
           "radiusScale": 1,
           "radiusSize": 0.15,
           "radiusType": "size",
           "roughness": 0.4,
           "sele": "all",
           "side": "double",
           "sphereDetail": 1,
           "useInteriorColor": true,
           "visible": true,
           "wireframe": false
          },
          "type": "ball+stick"
         }
        }
       },
       "_ngl_serialize": false,
       "_ngl_version": "2.0.0-dev.36",
       "_ngl_view_id": [
        "92B8E354-E6C6-4CAD-BB0D-11AFD8E6BECB"
       ],
       "_player_dict": {},
       "_scene_position": {},
       "_scene_rotation": {},
       "_synced_model_ids": [],
       "_synced_repr_model_ids": [],
       "_view_height": "",
       "_view_width": "",
       "background": "white",
       "frame": 0,
       "gui_style": null,
       "layout": "IPY_MODEL_ce667ca813954f4d8ee2ea6a36be1c35",
       "max_frame": 0,
       "n_components": 1,
       "picked": {}
      }
     },
     "86e502cb9ed746a48d88a661c0a7e65f": {
      "model_module": "@jupyter-widgets/base",
      "model_module_version": "1.2.0",
      "model_name": "LayoutModel",
      "state": {
       "width": "34px"
      }
     },
     "86f95ee735fa48418aeb782571cd4db9": {
      "model_module": "@jupyter-widgets/controls",
      "model_module_version": "1.5.0",
      "model_name": "SliderStyleModel",
      "state": {
       "description_width": ""
      }
     },
     "87006122b9b849a7bd3eed2feeac6c77": {
      "model_module": "@jupyter-widgets/controls",
      "model_module_version": "1.5.0",
      "model_name": "FloatSliderModel",
      "state": {
       "description": "Force scale",
       "layout": "IPY_MODEL_f280c7bc8e944046bc16f81035318995",
       "step": 0.1,
       "style": "IPY_MODEL_86f95ee735fa48418aeb782571cd4db9",
       "value": 0.5
      }
     },
     "870e2c9a5bc643d2beb5a4d4a4b2e784": {
      "model_module": "@jupyter-widgets/controls",
      "model_module_version": "1.5.0",
      "model_name": "HBoxModel",
      "state": {
       "children": [
        "IPY_MODEL_fa6dba4ed19e483396f05e6ffd2bdf81",
        "IPY_MODEL_089e6808f8b24d40933aaf534a0a888c"
       ],
       "layout": "IPY_MODEL_ff5d0239a5dc4cebbe49adb2b41a7dd0"
      }
     },
     "87fb6e43eef64ae29db6e236ddb39ff9": {
      "model_module": "@jupyter-widgets/controls",
      "model_module_version": "1.5.0",
      "model_name": "SliderStyleModel",
      "state": {
       "description_width": ""
      }
     },
     "88da34a02a5f44c3aadca419c88da467": {
      "model_module": "@jupyter-widgets/controls",
      "model_module_version": "1.5.0",
      "model_name": "VBoxModel",
      "state": {
       "children": [
        "IPY_MODEL_210f093acef6466390b5c5370544f1da",
        "IPY_MODEL_48ede7062bca42a2b628792d6e2f7f2f",
        "IPY_MODEL_7154468507cb48aaa95fa5a488761028",
        "IPY_MODEL_6e164ca797084a90bf97677cd4b2a7ef",
        "IPY_MODEL_e0c559b0d2dc462ab78fa84b8bd4d4ec",
        "IPY_MODEL_9fabb3116bfa45aca88b883868c060db",
        "IPY_MODEL_2a1febaae30d4e80b94d4abd306a0030",
        "IPY_MODEL_cda3296af1524f1f9839e92b0d060113",
        "IPY_MODEL_0c7b2e534382405ab0f005848a22fd74",
        "IPY_MODEL_754fa761455449d394a221a1ac1cc491"
       ],
       "layout": "IPY_MODEL_78cde8298fca406dabc97f07340e40fc"
      }
     },
     "8ac7cb6c3f9a4d59abd429e34220a1b7": {
      "model_module": "@jupyter-widgets/controls",
      "model_module_version": "1.5.0",
      "model_name": "SliderStyleModel",
      "state": {
       "description_width": ""
      }
     },
     "8ae11b2d1fd84b049b824f1f083be92c": {
      "model_module": "@jupyter-widgets/controls",
      "model_module_version": "1.5.0",
      "model_name": "DescriptionStyleModel",
      "state": {
       "description_width": ""
      }
     },
     "8c358c2f3572440389d80d3eb44d3432": {
      "model_module": "@jupyter-widgets/base",
      "model_module_version": "1.2.0",
      "model_name": "LayoutModel",
      "state": {}
     },
     "8d99be2a728f4f498bafb44ab4d579a8": {
      "model_module": "@jupyter-widgets/controls",
      "model_module_version": "1.5.0",
      "model_name": "HBoxModel",
      "state": {
       "children": [
        "IPY_MODEL_2bd962a9dd6246dea8aed6078ee76dbb",
        "IPY_MODEL_1f14614486ab496b99945841df99bbd7"
       ],
       "layout": "IPY_MODEL_d8fc1f18202143538b0543b4738bf96b"
      }
     },
     "908c79364d504ca29485c616611c9f5a": {
      "model_module": "@jupyter-widgets/controls",
      "model_module_version": "1.5.0",
      "model_name": "LinkModel",
      "state": {
       "source": [
        "IPY_MODEL_74c7ac22919c41dbbb64f7e154a76faa",
        "max"
       ],
       "target": [
        "IPY_MODEL_cd6c257d697b49949060878769187bbb",
        "max_frame"
       ]
      }
     },
     "930b724432fd4cf599f32a8a50779e5e": {
      "model_module": "@jupyter-widgets/base",
      "model_module_version": "1.2.0",
      "model_name": "LayoutModel",
      "state": {}
     },
     "93291ff1964345dfa0c94fc48ca0a440": {
      "model_module": "@jupyter-widgets/controls",
      "model_module_version": "1.5.0",
      "model_name": "FloatSliderModel",
      "state": {
       "description": "Ball size",
       "layout": "IPY_MODEL_a7cc30f5696e4a9daadb5d3b3bebc9ba",
       "max": 1.5,
       "step": 0.01,
       "style": "IPY_MODEL_7ef8ce083d894a56880b598953b65c04",
       "value": 0.5
      }
     },
     "9609c4dd58014719b3db67d8cb5a63eb": {
      "model_module": "@jupyter-widgets/controls",
      "model_module_version": "1.5.0",
      "model_name": "ButtonModel",
      "state": {
       "description": "Download image",
       "layout": "IPY_MODEL_cc6d5738202b49edb494e23e4c678ce4",
       "style": "IPY_MODEL_76840f4084894346bacf3fe188b57085",
       "tooltip": "Download current frame to your local PC"
      }
     },
     "96806a8a595e43b6b75d3bf8f8d65080": {
      "model_module": "@jupyter-widgets/base",
      "model_module_version": "1.2.0",
      "model_name": "LayoutModel",
      "state": {
       "border": "0px solid black"
      }
     },
     "99103dda5cd24511addb480e94169081": {
      "model_module": "@jupyter-widgets/base",
      "model_module_version": "1.2.0",
      "model_name": "LayoutModel",
      "state": {}
     },
     "997def9059b345238d219fe01085f259": {
      "model_module": "@jupyter-widgets/controls",
      "model_module_version": "1.5.0",
      "model_name": "HBoxModel",
      "state": {
       "children": [
        "IPY_MODEL_1257b1605aa645228dbe07843b90e56d",
        "IPY_MODEL_1bdbfca8607343cba28b6b3febe60646"
       ],
       "layout": "IPY_MODEL_c57aea5df3334f8894d4da645b734b2e"
      }
     },
     "9ac2f80117d44e8a8b361486c1a56e35": {
      "model_module": "@jupyter-widgets/base",
      "model_module_version": "1.2.0",
      "model_name": "LayoutModel",
      "state": {}
     },
     "9b4c9f5f76294f009e1ad5c6f8e6d08a": {
      "model_module": "@jupyter-widgets/base",
      "model_module_version": "1.2.0",
      "model_name": "LayoutModel",
      "state": {}
     },
     "9bd300677c564e6a9bce255bfdcd987f": {
      "model_module": "@jupyter-widgets/base",
      "model_module_version": "1.2.0",
      "model_name": "LayoutModel",
      "state": {
       "width": "34px"
      }
     },
     "9bd391735f4947b99fe321ecfb4272b3": {
      "model_module": "@jupyter-widgets/controls",
      "model_module_version": "1.5.0",
      "model_name": "ButtonModel",
      "state": {
       "icon": "compress",
       "layout": "IPY_MODEL_86e502cb9ed746a48d88a661c0a7e65f",
       "style": "IPY_MODEL_7ef090bf87e4402eb24b9c3dd7aee2d7"
      }
     },
     "9c4c4959830446e18d53a6d5a549d64f": {
      "model_module": "@jupyter-widgets/controls",
      "model_module_version": "1.5.0",
      "model_name": "DropdownModel",
      "state": {
       "_options_labels": [
        " ",
        "picking",
        "random",
        "uniform",
        "atomindex",
        "residueindex",
        "chainindex",
        "modelindex",
        "sstruc",
        "element",
        "resname",
        "bfactor",
        "hydrophobicity",
        "value",
        "volume",
        "occupancy"
       ],
       "description": "Color scheme",
       "index": 9,
       "layout": "IPY_MODEL_6c81357d410d48c29b4dc0c1ad9c76f6",
       "style": "IPY_MODEL_bb82815c9efb4ef99f6060f95c76d24b"
      }
     },
     "9d27b5786cfb4c3299092d5f05043288": {
      "model_module": "@jupyter-widgets/controls",
      "model_module_version": "1.5.0",
      "model_name": "DescriptionStyleModel",
      "state": {
       "description_width": ""
      }
     },
     "9d9774346fd4480583d06b3572ff2916": {
      "model_module": "@jupyter-widgets/controls",
      "model_module_version": "1.5.0",
      "model_name": "FloatSliderModel",
      "state": {
       "description": "Charge scale",
       "layout": "IPY_MODEL_e01b4642e11c40be840d01cf05e5fd9e",
       "step": 0.1,
       "style": "IPY_MODEL_3418aa431af34747bf1765d6d2f2daef",
       "value": 1
      }
     },
     "9fabb3116bfa45aca88b883868c060db": {
      "model_module": "@jupyter-widgets/controls",
      "model_module_version": "1.5.0",
      "model_name": "CheckboxModel",
      "state": {
       "description": "Show force",
       "disabled": false,
       "layout": "IPY_MODEL_301d0c28153f4ab7a439d62dd4d9e5d0",
       "style": "IPY_MODEL_86905756e5e74c4891140d80645f4aca",
       "value": false
      }
     },
     "a2dee2e0929f49979dc809a5017eff1c": {
      "model_module": "@jupyter-widgets/controls",
      "model_module_version": "1.5.0",
      "model_name": "ImageModel",
      "state": {
       "layout": "IPY_MODEL_9ac2f80117d44e8a8b361486c1a56e35",
       "width": "900.0"
      }
     },
     "a362b63f613946f080e419c1e026eb77": {
      "model_module": "@jupyter-widgets/controls",
      "model_module_version": "1.5.0",
      "model_name": "LinkModel",
      "state": {
       "source": [
        "IPY_MODEL_1257b1605aa645228dbe07843b90e56d",
        "value"
       ],
       "target": [
        "IPY_MODEL_1bdbfca8607343cba28b6b3febe60646",
        "value"
       ]
      }
     },
     "a5a6cbf7b1ec4f9bb988bb248270b614": {
      "model_module": "@jupyter-widgets/controls",
      "model_module_version": "1.5.0",
      "model_name": "DropdownModel",
      "state": {
       "_options_labels": [
        "All",
        "Fe"
       ],
       "description": "Show",
       "index": 0,
       "layout": "IPY_MODEL_85860a5470b94d0fafdd9ea6a7f2bced",
       "style": "IPY_MODEL_833ff02eda23418ea38afc9413df0c94"
      }
     },
     "a7cc30f5696e4a9daadb5d3b3bebc9ba": {
      "model_module": "@jupyter-widgets/base",
      "model_module_version": "1.2.0",
      "model_name": "LayoutModel",
      "state": {}
     },
     "a84799a339cc4443b9c06a6f19ba2f2d": {
      "model_module": "@jupyter-widgets/base",
      "model_module_version": "1.2.0",
      "model_name": "LayoutModel",
      "state": {}
     },
     "a8e273fe92fc4377840ca84e680e04ab": {
      "model_module": "@jupyter-widgets/base",
      "model_module_version": "1.2.0",
      "model_name": "LayoutModel",
      "state": {}
     },
     "a913284048184da7b17caaf2d81e7f9e": {
      "model_module": "@jupyter-widgets/base",
      "model_module_version": "1.2.0",
      "model_name": "LayoutModel",
      "state": {}
     },
     "a9382541992e416c9d09ce54f2592c06": {
      "model_module": "@jupyter-widgets/controls",
      "model_module_version": "1.5.0",
      "model_name": "DescriptionStyleModel",
      "state": {
       "description_width": ""
      }
     },
     "a9dbcaace6df488ca5323820286106db": {
      "model_module": "@jupyter-widgets/base",
      "model_module_version": "1.2.0",
      "model_name": "LayoutModel",
      "state": {}
     },
     "ac867f41c7174d30be06a69274728420": {
      "model_module": "@jupyter-widgets/controls",
      "model_module_version": "1.5.0",
      "model_name": "VBoxModel",
      "state": {
       "children": [
        "IPY_MODEL_a5a6cbf7b1ec4f9bb988bb248270b614",
        "IPY_MODEL_9c4c4959830446e18d53a6d5a549d64f",
        "IPY_MODEL_e938d0a7199e47f1b713c5a35ee68119",
        "IPY_MODEL_528230e4251a438e9ad21e2bb7ceee4f",
        "IPY_MODEL_5e5bf5ca48b945fda7a9aecdfe04ccfd",
        "IPY_MODEL_c63f4d4b43c54bd9b5b2fb1f59cde598",
        "IPY_MODEL_4123070743df4cc59069b33e0d0fda32",
        "IPY_MODEL_625a51f9a975442eb7c29e9e2ecb7e7f",
        "IPY_MODEL_006d629fb39f4f9da20e7b0ce404dbcd",
        "IPY_MODEL_17b98d32ba2543eca51736ddc5446388"
       ],
       "layout": "IPY_MODEL_b1f2dd9c5fed4dcb98f92441879c6523"
      }
     },
     "adcc3e04a7544bca8618ff835abc095e": {
      "model_module": "@jupyter-widgets/controls",
      "model_module_version": "1.5.0",
      "model_name": "LinkModel",
      "state": {
       "source": [
        "IPY_MODEL_2bd962a9dd6246dea8aed6078ee76dbb",
        "max"
       ],
       "target": [
        "IPY_MODEL_7ff841958aa14716adc0a612dfabea3e",
        "max_frame"
       ]
      }
     },
     "adf42470186b4fcd848520930bd0aa52": {
      "model_module": "@jupyter-widgets/controls",
      "model_module_version": "1.5.0",
      "model_name": "SliderStyleModel",
      "state": {
       "description_width": ""
      }
     },
     "b1f2dd9c5fed4dcb98f92441879c6523": {
      "model_module": "@jupyter-widgets/base",
      "model_module_version": "1.2.0",
      "model_name": "LayoutModel",
      "state": {}
     },
     "b22fb2035a014258aa070ed36bd0d19a": {
      "model_module": "@jupyter-widgets/base",
      "model_module_version": "1.2.0",
      "model_name": "LayoutModel",
      "state": {}
     },
     "b29b27d0af1c4972b9259a49ca2c142f": {
      "model_module": "@jupyter-widgets/controls",
      "model_module_version": "1.5.0",
      "model_name": "FloatSliderModel",
      "state": {
       "description": "Charge scale",
       "layout": "IPY_MODEL_d05c2efe683e401a839faba00cf06b0d",
       "step": 0.1,
       "style": "IPY_MODEL_1e15e100c760459cb968711badbbdf11",
       "value": 1
      }
     },
     "b38f5f737c524e3d9985391bef8e570f": {
      "model_module": "@jupyter-widgets/controls",
      "model_module_version": "1.5.0",
      "model_name": "VBoxModel",
      "state": {
       "children": [
        "IPY_MODEL_fa427bb60a82418ca6124f9f2b35de88",
        "IPY_MODEL_eed98626829e4b098f738fded0310b8d",
        "IPY_MODEL_675f0cb4f6fc48f69a73e400ffd6c12f",
        "IPY_MODEL_604aebb0bc7e4383b83f18fbdde9a099",
        "IPY_MODEL_43eb4a87b8bd4efc9c467df2f0a92c29",
        "IPY_MODEL_2d7d223de78c4291bfd967a85d3d5815",
        "IPY_MODEL_832b4e0e9ef146d9bef43efb150a3eed",
        "IPY_MODEL_c7ba858d55ec441e873be8922b3aca55",
        "IPY_MODEL_9d9774346fd4480583d06b3572ff2916",
        "IPY_MODEL_c8f0f616a973479eaf90d09c4f5b41f8"
       ],
       "layout": "IPY_MODEL_f401dfe489ea4c1984c96208a295e353"
      }
     },
     "b3cd6f39753540eb99778de20663898c": {
      "model_module": "@jupyter-widgets/base",
      "model_module_version": "1.2.0",
      "model_name": "LayoutModel",
      "state": {}
     },
     "b53fae0151dc463abfbebf126d0f5742": {
      "model_module": "@jupyter-widgets/base",
      "model_module_version": "1.2.0",
      "model_name": "LayoutModel",
      "state": {}
     },
     "b5e95ca6101549669584afaf854e27b4": {
      "model_module": "@jupyter-widgets/controls",
      "model_module_version": "1.5.0",
      "model_name": "DescriptionStyleModel",
      "state": {
       "description_width": ""
      }
     },
     "b871b19de1bf4f62967a617fde480ff6": {
      "model_module": "@jupyter-widgets/base",
      "model_module_version": "1.2.0",
      "model_name": "LayoutModel",
      "state": {}
     },
     "ba2ed180a2d241bc8197cb986cd6d5fe": {
      "model_module": "@jupyter-widgets/output",
      "model_module_version": "1.0.0",
      "model_name": "OutputModel",
      "state": {
       "layout": "IPY_MODEL_821a7da2de0e49d88ae3630e5fa90a2b"
      }
     },
     "baaa8c49728c49ca847b8f7be3e7b25c": {
      "model_module": "@jupyter-widgets/controls",
      "model_module_version": "1.5.0",
      "model_name": "LinkModel",
      "state": {
       "source": [
        "IPY_MODEL_1257b1605aa645228dbe07843b90e56d",
        "value"
       ],
       "target": [
        "IPY_MODEL_86c44482822044199a95fbb42f41fbca",
        "frame"
       ]
      }
     },
     "bb4f38aecfbd42fab143b6be09c15768": {
      "model_module": "@jupyter-widgets/controls",
      "model_module_version": "1.5.0",
      "model_name": "SliderStyleModel",
      "state": {
       "description_width": ""
      }
     },
     "bb82815c9efb4ef99f6060f95c76d24b": {
      "model_module": "@jupyter-widgets/controls",
      "model_module_version": "1.5.0",
      "model_name": "DescriptionStyleModel",
      "state": {
       "description_width": ""
      }
     },
     "bcbf8d9d17f74308a4dc74fdff31f8ea": {
      "model_module": "@jupyter-widgets/controls",
      "model_module_version": "1.5.0",
      "model_name": "LinkModel",
      "state": {
       "source": [
        "IPY_MODEL_1257b1605aa645228dbe07843b90e56d",
        "max"
       ],
       "target": [
        "IPY_MODEL_86c44482822044199a95fbb42f41fbca",
        "max_frame"
       ]
      }
     },
     "bf42b57f124a4c19b3c5129ab26bbc06": {
      "model_module": "@jupyter-widgets/controls",
      "model_module_version": "1.5.0",
      "model_name": "ButtonModel",
      "state": {
       "description": "Save image",
       "layout": "IPY_MODEL_70244e929f0546f5bf116e8d5de12011",
       "style": "IPY_MODEL_694075fc2cba4b0784f9c321cdc2a902",
       "tooltip": "Save current frame to file.\nCurrently .png and .html are supported.\nIt takes a bit time, please be patient."
      }
     },
     "c20ba45964a647a2b88648dd9fdb0a20": {
      "model_module": "@jupyter-widgets/controls",
      "model_module_version": "1.5.0",
      "model_name": "SliderStyleModel",
      "state": {
       "description_width": ""
      }
     },
     "c4204cade0404894a7e29749fedbb362": {
      "model_module": "@jupyter-widgets/base",
      "model_module_version": "1.2.0",
      "model_name": "LayoutModel",
      "state": {}
     },
     "c4c2801b10e2443e9b86884c9ce57f07": {
      "model_module": "@jupyter-widgets/base",
      "model_module_version": "1.2.0",
      "model_name": "LayoutModel",
      "state": {}
     },
     "c4cbc1f5441143218e7a368050e07d56": {
      "model_module": "@jupyter-widgets/controls",
      "model_module_version": "1.5.0",
      "model_name": "TextModel",
      "state": {
       "description": "Filename: ",
       "layout": "IPY_MODEL_4f67b7b9efc64f98a610e2259c61cb12",
       "style": "IPY_MODEL_5749d3febe7b4aba97eecc6d6206d70d",
       "value": "screenshot.png"
      }
     },
     "c57aea5df3334f8894d4da645b734b2e": {
      "model_module": "@jupyter-widgets/base",
      "model_module_version": "1.2.0",
      "model_name": "LayoutModel",
      "state": {}
     },
     "c63f4d4b43c54bd9b5b2fb1f59cde598": {
      "model_module": "@jupyter-widgets/controls",
      "model_module_version": "1.5.0",
      "model_name": "CheckboxModel",
      "state": {
       "description": "Show force",
       "disabled": false,
       "layout": "IPY_MODEL_f18f7ebf0bce456f97b8439c9cef28a1",
       "style": "IPY_MODEL_8596ea4387444c5c821cb3783866c0ac",
       "value": false
      }
     },
     "c68c167822684c99b581a847109341bf": {
      "model_module": "@jupyter-widgets/base",
      "model_module_version": "1.2.0",
      "model_name": "LayoutModel",
      "state": {
       "border": "0px solid black"
      }
     },
     "c6909451ee194571907db3f160d1190d": {
      "model_module": "@jupyter-widgets/controls",
      "model_module_version": "1.5.0",
      "model_name": "ButtonModel",
      "state": {
       "description": "Download image",
       "layout": "IPY_MODEL_0f7a6e1ebeaf409db08ab57002c23c86",
       "style": "IPY_MODEL_385eabb160ae4041a6e2d0ac063a11d1",
       "tooltip": "Download current frame to your local PC"
      }
     },
     "c73562cd6bf542ceb1003c9637944348": {
      "model_module": "@jupyter-widgets/controls",
      "model_module_version": "1.5.0",
      "model_name": "DescriptionStyleModel",
      "state": {
       "description_width": ""
      }
     },
     "c7ba858d55ec441e873be8922b3aca55": {
      "model_module": "@jupyter-widgets/controls",
      "model_module_version": "1.5.0",
      "model_name": "CheckboxModel",
      "state": {
       "description": "Show charge",
       "disabled": false,
       "layout": "IPY_MODEL_b22fb2035a014258aa070ed36bd0d19a",
       "style": "IPY_MODEL_b5e95ca6101549669584afaf854e27b4",
       "value": false
      }
     },
     "c8f0f616a973479eaf90d09c4f5b41f8": {
      "model_module": "@jupyter-widgets/output",
      "model_module_version": "1.0.0",
      "model_name": "OutputModel",
      "state": {
       "layout": "IPY_MODEL_96806a8a595e43b6b75d3bf8f8d65080"
      }
     },
     "c9c6edd7da2a4218bc8b9c06617eb1ea": {
      "model_module": "@jupyter-widgets/base",
      "model_module_version": "1.2.0",
      "model_name": "LayoutModel",
      "state": {}
     },
     "cc1fd13fdea9432389f1122db82ec881": {
      "model_module": "@jupyter-widgets/controls",
      "model_module_version": "1.5.0",
      "model_name": "ButtonStyleModel",
      "state": {}
     },
     "cc6d5738202b49edb494e23e4c678ce4": {
      "model_module": "@jupyter-widgets/base",
      "model_module_version": "1.2.0",
      "model_name": "LayoutModel",
      "state": {}
     },
     "cd5f52751bca43098deb154d70150222": {
      "model_module": "nglview-js-widgets",
      "model_module_version": "3.0.1",
      "model_name": "ColormakerRegistryModel",
      "state": {
       "_msg_ar": [],
       "_msg_q": [],
       "_ready": true,
       "layout": "IPY_MODEL_112eb18e69b041aa8295dc0c95fb631a"
      }
     },
     "cd6c257d697b49949060878769187bbb": {
      "model_module": "nglview-js-widgets",
      "model_module_version": "3.0.1",
      "model_name": "NGLModel",
      "state": {
       "_camera_orientation": [
        32.62319958915005,
        -0.7220265514110819,
        -1.078315847835568,
        0,
        -1.231528984607596,
        -8.671205718485554,
        -31.452357091161378,
        0,
        0.40917449664819383,
        31.468176113161114,
        -8.69158830045076,
        0,
        -10.147000312805176,
        -6.443999767303467,
        -2.071000099182129,
        1
       ],
       "_camera_str": "orthographic",
       "_gui_theme": null,
       "_ibtn_fullscreen": "IPY_MODEL_1c1fc69fb7d74e5ca416018478cd2969",
       "_igui": null,
       "_iplayer": "IPY_MODEL_f0b4b4831b944ce0baf3ea6762d81284",
       "_ngl_color_dict": {},
       "_ngl_coordinate_resource": {},
       "_ngl_full_stage_parameters": {
        "ambientColor": 14540253,
        "ambientIntensity": 0.2,
        "backgroundColor": "white",
        "cameraEyeSep": 0.3,
        "cameraFov": 40,
        "cameraType": "orthographic",
        "clipDist": 0,
        "clipFar": 100,
        "clipNear": 0,
        "fogFar": 100,
        "fogNear": 50,
        "hoverTimeout": 0,
        "impostor": true,
        "lightColor": 14540253,
        "lightIntensity": 1,
        "mousePreset": "default",
        "panSpeed": 1,
        "quality": "medium",
        "rotateSpeed": 2,
        "sampleLevel": 0,
        "tooltip": true,
        "workerDefault": true,
        "zoomSpeed": 1.2
       },
       "_ngl_msg_archive": [
        {
         "args": [
          {
           "binary": false,
           "data": "CRYST1   16.235   16.235    4.971  90.00  90.00  60.00 P 1\nMODEL     1\nATOM      1   Fe MOL     1       2.029   1.172   0.000  1.00  0.00          FE  \nATOM      2   Fe MOL     1       6.088   1.172   0.000  1.00  0.00          FE  \nATOM      3   Fe MOL     1      10.147   1.172   0.000  1.00  0.00          FE  \nATOM      4   Fe MOL     1      14.206   1.172   0.000  1.00  0.00          FE  \nATOM      5   Fe MOL     1       4.059   4.687   0.000  1.00  0.00          FE  \nATOM      6   Fe MOL     1       8.118   4.687   0.000  1.00  0.00          FE  \nATOM      7   Fe MOL     1      12.176   4.687   0.000  1.00  0.00          FE  \nATOM      8   Fe MOL     1      16.235   4.687   0.000  1.00  0.00          FE  \nATOM      9   Fe MOL     1       6.088   8.202   0.000  1.00  0.00          FE  \nATOM     10   Fe MOL     1      10.147   8.202   0.000  1.00  0.00          FE  \nATOM     11   Fe MOL     1      14.206   8.202   0.000  1.00  0.00          FE  \nATOM     12   Fe MOL     1      18.265   8.202   0.000  1.00  0.00          FE  \nATOM     13   Fe MOL     1       8.118  11.717   0.000  1.00  0.00          FE  \nATOM     14   Fe MOL     1      12.176  11.717   0.000  1.00  0.00          FE  \nATOM     15   Fe MOL     1      16.235  11.717   0.000  1.00  0.00          FE  \nATOM     16   Fe MOL     1      20.294  11.717   0.000  1.00  0.00          FE  \nATOM     17   Fe MOL     1      -0.000   2.343   0.828  1.00  0.00          FE  \nATOM     18   Fe MOL     1       4.059   2.343   0.828  1.00  0.00          FE  \nATOM     19   Fe MOL     1       8.118   2.343   0.828  1.00  0.00          FE  \nATOM     20   Fe MOL     1      12.176   2.343   0.828  1.00  0.00          FE  \nATOM     21   Fe MOL     1       2.029   5.858   0.828  1.00  0.00          FE  \nATOM     22   Fe MOL     1       6.088   5.858   0.828  1.00  0.00          FE  \nATOM     23   Fe MOL     1      10.147   5.858   0.828  1.00  0.00          FE  \nATOM     24   Fe MOL     1      14.206   5.858   0.828  1.00  0.00          FE  \nATOM     25   Fe MOL     1       4.059   9.373   0.828  1.00  0.00          FE  \nATOM     26   Fe MOL     1       8.118   9.373   0.828  1.00  0.00          FE  \nATOM     27   Fe MOL     1      12.176   9.373   0.828  1.00  0.00          FE  \nATOM     28   Fe MOL     1      16.235   9.373   0.828  1.00  0.00          FE  \nATOM     29   Fe MOL     1       6.088  12.888   0.828  1.00  0.00          FE  \nATOM     30   Fe MOL     1      10.147  12.888   0.828  1.00  0.00          FE  \nATOM     31   Fe MOL     1      14.206  12.888   0.828  1.00  0.00          FE  \nATOM     32   Fe MOL     1      18.265  12.888   0.828  1.00  0.00          FE  \nATOM     33   Fe MOL     1       0.000   0.000   1.657  1.00  0.00          FE  \nATOM     34   Fe MOL     1       4.059   0.000   1.657  1.00  0.00          FE  \nATOM     35   Fe MOL     1       8.118   0.000   1.657  1.00  0.00          FE  \nATOM     36   Fe MOL     1      12.176   0.000   1.657  1.00  0.00          FE  \nATOM     37   Fe MOL     1       2.029   3.515   1.657  1.00  0.00          FE  \nATOM     38   Fe MOL     1       6.088   3.515   1.657  1.00  0.00          FE  \nATOM     39   Fe MOL     1      10.147   3.515   1.657  1.00  0.00          FE  \nATOM     40   Fe MOL     1      14.206   3.515   1.657  1.00  0.00          FE  \nATOM     41   Fe MOL     1       4.059   7.030   1.657  1.00  0.00          FE  \nATOM     42   Fe MOL     1       8.118   7.030   1.657  1.00  0.00          FE  \nATOM     43   Fe MOL     1      12.176   7.030   1.657  1.00  0.00          FE  \nATOM     44   Fe MOL     1      16.235   7.030   1.657  1.00  0.00          FE  \nATOM     45   Fe MOL     1       6.088  10.545   1.657  1.00  0.00          FE  \nATOM     46   Fe MOL     1      10.147  10.545   1.657  1.00  0.00          FE  \nATOM     47   Fe MOL     1      14.206  10.545   1.657  1.00  0.00          FE  \nATOM     48   Fe MOL     1      18.265  10.545   1.657  1.00  0.00          FE  \nATOM     49   Fe MOL     1       2.029   1.172   2.485  1.00  0.00          FE  \nATOM     50   Fe MOL     1       6.088   1.172   2.485  1.00  0.00          FE  \nATOM     51   Fe MOL     1      10.147   1.172   2.485  1.00  0.00          FE  \nATOM     52   Fe MOL     1      14.206   1.172   2.485  1.00  0.00          FE  \nATOM     53   Fe MOL     1       4.059   4.687   2.485  1.00  0.00          FE  \nATOM     54   Fe MOL     1       8.118   4.687   2.485  1.00  0.00          FE  \nATOM     55   Fe MOL     1      12.176   4.687   2.485  1.00  0.00          FE  \nATOM     56   Fe MOL     1      16.235   4.687   2.485  1.00  0.00          FE  \nATOM     57   Fe MOL     1       6.088   8.202   2.485  1.00  0.00          FE  \nATOM     58   Fe MOL     1      10.147   8.202   2.485  1.00  0.00          FE  \nATOM     59   Fe MOL     1      14.206   8.202   2.485  1.00  0.00          FE  \nATOM     60   Fe MOL     1      18.265   8.202   2.485  1.00  0.00          FE  \nATOM     61   Fe MOL     1       8.118  11.717   2.485  1.00  0.00          FE  \nATOM     62   Fe MOL     1      12.176  11.717   2.485  1.00  0.00          FE  \nATOM     63   Fe MOL     1      16.235  11.717   2.485  1.00  0.00          FE  \nATOM     64   Fe MOL     1      20.294  11.717   2.485  1.00  0.00          FE  \nATOM     65   Fe MOL     1      -0.000   2.343   3.314  1.00  0.00          FE  \nATOM     66   Fe MOL     1       4.059   2.343   3.314  1.00  0.00          FE  \nATOM     67   Fe MOL     1       8.118   2.343   3.314  1.00  0.00          FE  \nATOM     68   Fe MOL     1      12.176   2.343   3.314  1.00  0.00          FE  \nATOM     69   Fe MOL     1       2.029   5.858   3.314  1.00  0.00          FE  \nATOM     70   Fe MOL     1       6.088   5.858   3.314  1.00  0.00          FE  \nATOM     71   Fe MOL     1      10.147   5.858   3.314  1.00  0.00          FE  \nATOM     72   Fe MOL     1      14.206   5.858   3.314  1.00  0.00          FE  \nATOM     73   Fe MOL     1       4.059   9.373   3.314  1.00  0.00          FE  \nATOM     74   Fe MOL     1       8.118   9.373   3.314  1.00  0.00          FE  \nATOM     75   Fe MOL     1      12.176   9.373   3.314  1.00  0.00          FE  \nATOM     76   Fe MOL     1      16.235   9.373   3.314  1.00  0.00          FE  \nATOM     77   Fe MOL     1       6.088  12.888   3.314  1.00  0.00          FE  \nATOM     78   Fe MOL     1      10.147  12.888   3.314  1.00  0.00          FE  \nATOM     79   Fe MOL     1      14.206  12.888   3.314  1.00  0.00          FE  \nATOM     80   Fe MOL     1      18.265  12.888   3.314  1.00  0.00          FE  \nATOM     81   Fe MOL     1       0.000   0.000   4.142  1.00  0.00          FE  \nATOM     82   Fe MOL     1       4.059   0.000   4.142  1.00  0.00          FE  \nATOM     83   Fe MOL     1       8.118   0.000   4.142  1.00  0.00          FE  \nATOM     84   Fe MOL     1      12.176   0.000   4.142  1.00  0.00          FE  \nATOM     85   Fe MOL     1       2.029   3.515   4.142  1.00  0.00          FE  \nATOM     86   Fe MOL     1       6.088   3.515   4.142  1.00  0.00          FE  \nATOM     87   Fe MOL     1      10.147   3.515   4.142  1.00  0.00          FE  \nATOM     88   Fe MOL     1      14.206   3.515   4.142  1.00  0.00          FE  \nATOM     89   Fe MOL     1       4.059   7.030   4.142  1.00  0.00          FE  \nATOM     90   Fe MOL     1       8.118   7.030   4.142  1.00  0.00          FE  \nATOM     91   Fe MOL     1      12.176   7.030   4.142  1.00  0.00          FE  \nATOM     92   Fe MOL     1      16.235   7.030   4.142  1.00  0.00          FE  \nATOM     93   Fe MOL     1       6.088  10.545   4.142  1.00  0.00          FE  \nATOM     94   Fe MOL     1      10.147  10.545   4.142  1.00  0.00          FE  \nATOM     95   Fe MOL     1      14.206  10.545   4.142  1.00  0.00          FE  \nATOM     96   Fe MOL     1      18.265  10.545   4.142  1.00  0.00          FE  \nENDMDL\n",
           "type": "blob"
          }
         ],
         "kwargs": {
          "defaultRepresentation": false,
          "ext": "pdb"
         },
         "methodName": "loadFile",
         "reconstruc_color_scheme": false,
         "target": "Stage",
         "type": "call_method"
        },
        {
         "args": [
          "400px",
          "300px"
         ],
         "kwargs": {},
         "methodName": "setSize",
         "reconstruc_color_scheme": false,
         "target": "Widget",
         "type": "call_method"
        },
        {
         "args": [
          "unitcell"
         ],
         "component_index": 0,
         "kwargs": {
          "sele": "all"
         },
         "methodName": "addRepresentation",
         "reconstruc_color_scheme": false,
         "target": "compList",
         "type": "call_method"
        },
        {
         "args": [
          "spacefill"
         ],
         "component_index": 0,
         "kwargs": {
          "sele": "all"
         },
         "methodName": "addRepresentation",
         "reconstruc_color_scheme": false,
         "target": "compList",
         "type": "call_method"
        },
        {
         "args": [],
         "kwargs": {
          "cameraType": "orthographic"
         },
         "methodName": "setParameters",
         "reconstruc_color_scheme": false,
         "target": "Stage",
         "type": "call_method"
        },
        {
         "args": [
          {
           "clipDist": 0
          }
         ],
         "kwargs": {},
         "methodName": "setParameters",
         "reconstruc_color_scheme": false,
         "target": "Widget",
         "type": "call_method"
        },
        {
         "args": [
          "spacefill",
          0
         ],
         "kwargs": {
          "colorScale": "rainbow",
          "colorScheme": "element",
          "radiusScale": 0.5,
          "radiusType": "covalent"
         },
         "methodName": "updateRepresentationsByName",
         "reconstruc_color_scheme": false,
         "target": "Widget",
         "type": "call_method"
        },
        {
         "args": [
          "this._Q = [[1.0, 0.0, 0.0], [0.0, 1.0, 0.0], [0.0, 0.0, 1.0]]\n    var tooltip = document.createElement('div');\n    Object.assign(tooltip.style, {\n      display: 'none',\n      position: 'fixed',\n      zIndex: 10,\n      pointerEvents: 'none',\n      backgroundColor: 'rgba( 0, 0, 0, 0.6 )',\n      color: 'lightgrey',\n      padding: '8px',\n      fontFamily: 'sans-serif'\n    });\n    document.body.appendChild(tooltip);\n\n    var that = this;\n    this.stage.mouseControls.remove('hoverPick');\n    this.stage.signals.hovered.add(function (pickingProxy) {\n      if (pickingProxy && (pickingProxy.atom || pickingProxy.bond)) {\n        var atom = pickingProxy.atom || pickingProxy.closestBondAtom\n        var mp = pickingProxy.mouse.position\n        //tooltip.innerText = atom.element + ' i=' + atom.index + ' (' + atom.x.toFixed(2) +  ', ' + atom.y.toFixed(2) +  ', ' + atom.z.toFixed(2) + ')'\n        //var pos = that._atoms_pos[atom.index]\n        var Q = that._Q\n        var pos_x = Q[0][0] * atom.x + Q[0][1] * atom.y + Q[0][2] * atom.z \n        var pos_y = Q[1][0] * atom.x + Q[1][1] * atom.y + Q[1][2] * atom.z\n        var pos_z = Q[2][0] * atom.x + Q[2][1] * atom.y + Q[2][2] * atom.z\n        tooltip.innerText = 'i=' + atom.index + ' ' + atom.element + ' (' + pos_x.toFixed(2) +  ', ' + pos_y.toFixed(2) +  ', ' + pos_z.toFixed(2) + ')'\n        tooltip.style.bottom = window.innerHeight - mp.y + 3 + 'px'\n        tooltip.style.left = mp.x + 3 + 'px'\n        tooltip.style.display = 'block'\n      } else {\n        tooltip.style.display = 'none'\n      }\n    });\n    this.stage.tooltip = tooltip;\n    "
         ],
         "kwargs": {},
         "methodName": "executeCode",
         "reconstruc_color_scheme": false,
         "target": "Widget",
         "type": "call_method"
        }
       ],
       "_ngl_original_stage_parameters": {
        "ambientColor": 14540253,
        "ambientIntensity": 0.2,
        "backgroundColor": "white",
        "cameraEyeSep": 0.3,
        "cameraFov": 40,
        "cameraType": "perspective",
        "clipDist": 10,
        "clipFar": 100,
        "clipNear": 0,
        "fogFar": 100,
        "fogNear": 50,
        "hoverTimeout": 0,
        "impostor": true,
        "lightColor": 14540253,
        "lightIntensity": 1,
        "mousePreset": "default",
        "panSpeed": 1,
        "quality": "medium",
        "rotateSpeed": 2,
        "sampleLevel": 0,
        "tooltip": true,
        "workerDefault": true,
        "zoomSpeed": 1.2
       },
       "_ngl_repr_dict": {
        "0": {
         "0": {
          "params": {
           "clipCenter": {
            "x": 0,
            "y": 0,
            "z": 0
           },
           "clipNear": 0,
           "clipRadius": 0,
           "colorMode": "hcl",
           "colorReverse": false,
           "colorScale": "",
           "colorScheme": "element",
           "colorValue": "orange",
           "defaultAssembly": "",
           "depthWrite": true,
           "diffuse": 16777215,
           "diffuseInterior": false,
           "disableImpostor": false,
           "disablePicking": false,
           "flatShaded": false,
           "interiorColor": 2236962,
           "interiorDarkening": 0,
           "lazy": false,
           "matrix": {
            "elements": [
             1,
             0,
             0,
             0,
             0,
             1,
             0,
             0,
             0,
             0,
             1,
             0,
             0,
             0,
             0,
             1
            ]
           },
           "metalness": 0,
           "opacity": 1,
           "quality": "medium",
           "radialSegments": 10,
           "radiusData": {},
           "radiusScale": 1,
           "radiusSize": 0.05214905877346537,
           "radiusType": "vdw",
           "roughness": 0.4,
           "sele": "all",
           "side": "double",
           "sphereDetail": 1,
           "useInteriorColor": true,
           "visible": true,
           "wireframe": false
          },
          "type": "unitcell"
         },
         "1": {
          "params": {
           "assembly": "default",
           "clipCenter": {
            "x": 0,
            "y": 0,
            "z": 0
           },
           "clipNear": 0,
           "clipRadius": 0,
           "colorMode": "hcl",
           "colorReverse": false,
           "colorScale": "rainbow",
           "colorScheme": "element",
           "colorValue": 9474192,
           "defaultAssembly": "",
           "depthWrite": true,
           "diffuse": 16777215,
           "diffuseInterior": false,
           "disableImpostor": false,
           "disablePicking": false,
           "flatShaded": false,
           "interiorColor": 2236962,
           "interiorDarkening": 0,
           "lazy": false,
           "matrix": {
            "elements": [
             1,
             0,
             0,
             0,
             0,
             1,
             0,
             0,
             0,
             0,
             1,
             0,
             0,
             0,
             0,
             1
            ]
           },
           "metalness": 0,
           "opacity": 1,
           "quality": "medium",
           "radiusData": {},
           "radiusScale": 0.5,
           "radiusSize": 1,
           "radiusType": "covalent",
           "roughness": 0.4,
           "sele": "all",
           "side": "double",
           "sphereDetail": 1,
           "useInteriorColor": true,
           "visible": true,
           "wireframe": false
          },
          "type": "spacefill"
         }
        }
       },
       "_ngl_serialize": false,
       "_ngl_version": "2.0.0-dev.36",
       "_ngl_view_id": [
        "51E56D07-248F-4354-8CF7-3E67D06B8B25"
       ],
       "_player_dict": {},
       "_scene_position": {},
       "_scene_rotation": {},
       "_synced_model_ids": [],
       "_synced_repr_model_ids": [],
       "_view_height": "",
       "_view_width": "",
       "background": "white",
       "frame": 0,
       "gui_style": null,
       "layout": "IPY_MODEL_51f0317fa34d45a1aada6b3bf3966e74",
       "max_frame": 0,
       "n_components": 1,
       "picked": {}
      }
     },
     "cda3296af1524f1f9839e92b0d060113": {
      "model_module": "@jupyter-widgets/controls",
      "model_module_version": "1.5.0",
      "model_name": "CheckboxModel",
      "state": {
       "description": "Show charge",
       "disabled": false,
       "layout": "IPY_MODEL_f2d8ccfc9169463c98287bf9928c20a5",
       "style": "IPY_MODEL_f5938ff457934b9985079da0a08809c9",
       "value": false
      }
     },
     "ce667ca813954f4d8ee2ea6a36be1c35": {
      "model_module": "@jupyter-widgets/base",
      "model_module_version": "1.2.0",
      "model_name": "LayoutModel",
      "state": {}
     },
     "ceb5bf9083094d2a90948c9cb13dd62c": {
      "model_module": "@jupyter-widgets/base",
      "model_module_version": "1.2.0",
      "model_name": "LayoutModel",
      "state": {}
     },
     "cedf1c4e27f548c2878c0ea7c0b95200": {
      "model_module": "@jupyter-widgets/base",
      "model_module_version": "1.2.0",
      "model_name": "LayoutModel",
      "state": {}
     },
     "d05c2efe683e401a839faba00cf06b0d": {
      "model_module": "@jupyter-widgets/base",
      "model_module_version": "1.2.0",
      "model_name": "LayoutModel",
      "state": {}
     },
     "d08fd6e312974331aa10e3a80d57d69e": {
      "model_module": "@jupyter-widgets/base",
      "model_module_version": "1.2.0",
      "model_name": "LayoutModel",
      "state": {}
     },
     "d15125a846dc46749b40de0f3a66f25a": {
      "model_module": "@jupyter-widgets/base",
      "model_module_version": "1.2.0",
      "model_name": "LayoutModel",
      "state": {}
     },
     "d27f45e88c18468f9a92dab9a39a9694": {
      "model_module": "@jupyter-widgets/controls",
      "model_module_version": "1.5.0",
      "model_name": "HBoxModel",
      "state": {
       "children": [
        "IPY_MODEL_9609c4dd58014719b3db67d8cb5a63eb",
        "IPY_MODEL_500e0925eb534e9fbe07b7939840d3d4"
       ],
       "layout": "IPY_MODEL_a9dbcaace6df488ca5323820286106db"
      }
     },
     "d2ca867a09624afbaef5fb12948ae5b9": {
      "model_module": "@jupyter-widgets/controls",
      "model_module_version": "1.5.0",
      "model_name": "SliderStyleModel",
      "state": {
       "description_width": ""
      }
     },
     "d4c1fd4327094e688d81e5cbe158dc9a": {
      "model_module": "@jupyter-widgets/output",
      "model_module_version": "1.0.0",
      "model_name": "OutputModel",
      "state": {
       "layout": "IPY_MODEL_c68c167822684c99b581a847109341bf"
      }
     },
     "d5dddab76b094481b30f4cef3194744d": {
      "model_module": "@jupyter-widgets/controls",
      "model_module_version": "1.5.0",
      "model_name": "FloatSliderModel",
      "state": {
       "description": "Force scale",
       "layout": "IPY_MODEL_6f1da70ced8f423990a4bb7f24fa4ce2",
       "step": 0.1,
       "style": "IPY_MODEL_c20ba45964a647a2b88648dd9fdb0a20",
       "value": 0.5
      }
     },
     "d621af76163c49a69a6c2717371fd589": {
      "model_module": "@jupyter-widgets/base",
      "model_module_version": "1.2.0",
      "model_name": "LayoutModel",
      "state": {}
     },
     "d70baec88e5c475397ec83df391ff206": {
      "model_module": "@jupyter-widgets/base",
      "model_module_version": "1.2.0",
      "model_name": "LayoutModel",
      "state": {}
     },
     "d883f2271c30413685584458d64e4e5e": {
      "model_module": "@jupyter-widgets/controls",
      "model_module_version": "1.5.0",
      "model_name": "VBoxModel",
      "state": {
       "children": [
        "IPY_MODEL_0782dfbeca6444929a6589719bb0928c",
        "IPY_MODEL_76372d2877214a1daa3c3bbcb660561d",
        "IPY_MODEL_93291ff1964345dfa0c94fc48ca0a440",
        "IPY_MODEL_05a7c18f414d48fd9e9ec63a4d9d5ce6",
        "IPY_MODEL_d27f45e88c18468f9a92dab9a39a9694",
        "IPY_MODEL_f9767c9f3c6c4ae3ac917fa130057e46",
        "IPY_MODEL_d5dddab76b094481b30f4cef3194744d",
        "IPY_MODEL_322adf57ef4a472bbf95bc8ef5c6ec94",
        "IPY_MODEL_43c29dcb4cd04dbfb813b5eafc0ddc8e",
        "IPY_MODEL_d4c1fd4327094e688d81e5cbe158dc9a"
       ],
       "layout": "IPY_MODEL_2fa884cfab994e089f4ada2e81544478"
      }
     },
     "d8fc1f18202143538b0543b4738bf96b": {
      "model_module": "@jupyter-widgets/base",
      "model_module_version": "1.2.0",
      "model_name": "LayoutModel",
      "state": {}
     },
     "d90c849a36f04be9a8825495796f5fe0": {
      "model_module": "@jupyter-widgets/controls",
      "model_module_version": "1.5.0",
      "model_name": "ButtonStyleModel",
      "state": {}
     },
     "dc1001ff943d409b96adc3e297869de5": {
      "model_module": "@jupyter-widgets/controls",
      "model_module_version": "1.5.0",
      "model_name": "DescriptionStyleModel",
      "state": {
       "description_width": ""
      }
     },
     "dc9f18cce8684c64b9122a6142a99d35": {
      "model_module": "@jupyter-widgets/controls",
      "model_module_version": "1.5.0",
      "model_name": "LinkModel",
      "state": {
       "source": [
        "IPY_MODEL_74c7ac22919c41dbbb64f7e154a76faa",
        "value"
       ],
       "target": [
        "IPY_MODEL_cd6c257d697b49949060878769187bbb",
        "frame"
       ]
      }
     },
     "ddb6842ea096458db5d5a7f54ee4c4ca": {
      "model_module": "@jupyter-widgets/controls",
      "model_module_version": "1.5.0",
      "model_name": "HBoxModel",
      "state": {
       "children": [
        "IPY_MODEL_cd6c257d697b49949060878769187bbb",
        "IPY_MODEL_ac867f41c7174d30be06a69274728420"
       ],
       "layout": "IPY_MODEL_45d03a0a571c4ce0ab4cc70ba54484a8"
      }
     },
     "df727618e3a34ca0b957a88bd5a4c07f": {
      "model_module": "nglview-js-widgets",
      "model_module_version": "3.0.1",
      "model_name": "NGLModel",
      "state": {
       "_camera_orientation": [
        9.29806407014137,
        0,
        0,
        0,
        0,
        9.29806407014137,
        0,
        0,
        0,
        0,
        9.29806407014137,
        0,
        -0.4139999747276306,
        -0.5854999423027039,
        -1.0145000219345093,
        1
       ],
       "_camera_str": "orthographic",
       "_gui_theme": null,
       "_ibtn_fullscreen": "IPY_MODEL_0b2d3af1b2c14d7a8e9ab9bc5b4229dc",
       "_igui": null,
       "_iplayer": "IPY_MODEL_1f4b68dc1b734e6db95a7070c61f5979",
       "_ngl_color_dict": {},
       "_ngl_coordinate_resource": {},
       "_ngl_full_stage_parameters": {
        "ambientColor": 14540253,
        "ambientIntensity": 0.2,
        "backgroundColor": "white",
        "cameraEyeSep": 0.3,
        "cameraFov": 40,
        "cameraType": "orthographic",
        "clipDist": 0,
        "clipFar": 100,
        "clipNear": 0,
        "fogFar": 100,
        "fogNear": 50,
        "hoverTimeout": 0,
        "impostor": true,
        "lightColor": 14540253,
        "lightIntensity": 1,
        "mousePreset": "default",
        "panSpeed": 1,
        "quality": "medium",
        "rotateSpeed": 2,
        "sampleLevel": 0,
        "tooltip": true,
        "workerDefault": true,
        "zoomSpeed": 1.2
       },
       "_ngl_msg_archive": [
        {
         "args": [
          {
           "binary": false,
           "data": "CRYST1    4.971    4.971    4.971 109.47 109.47 109.47 P 1\nMODEL     1\nATOM      1   Fe MOL     1       0.000   0.000   0.000  1.00  0.00          FE  \nATOM      2   Fe MOL     1      -0.828  -1.172   2.029  1.00  0.00          FE  \nATOM      3   Fe MOL     1      -0.828   2.343   0.000  1.00  0.00          FE  \nATOM      4   Fe MOL     1      -1.657   1.172   2.029  1.00  0.00          FE  \nATOM      5   Fe MOL     1       2.485  -0.000  -0.000  1.00  0.00          FE  \nATOM      6   Fe MOL     1       1.657  -1.172   2.029  1.00  0.00          FE  \nATOM      7   Fe MOL     1       1.657   2.343   0.000  1.00  0.00          FE  \nATOM      8   Fe MOL     1       0.828   1.172   2.029  1.00  0.00          FE  \nENDMDL\n",
           "type": "blob"
          }
         ],
         "kwargs": {
          "defaultRepresentation": false,
          "ext": "pdb"
         },
         "methodName": "loadFile",
         "reconstruc_color_scheme": false,
         "target": "Stage",
         "type": "call_method"
        },
        {
         "args": [
          "400px",
          "300px"
         ],
         "kwargs": {},
         "methodName": "setSize",
         "reconstruc_color_scheme": false,
         "target": "Widget",
         "type": "call_method"
        },
        {
         "args": [
          "unitcell"
         ],
         "component_index": 0,
         "kwargs": {
          "sele": "all"
         },
         "methodName": "addRepresentation",
         "reconstruc_color_scheme": false,
         "target": "compList",
         "type": "call_method"
        },
        {
         "args": [
          "spacefill"
         ],
         "component_index": 0,
         "kwargs": {
          "sele": "all"
         },
         "methodName": "addRepresentation",
         "reconstruc_color_scheme": false,
         "target": "compList",
         "type": "call_method"
        },
        {
         "args": [],
         "kwargs": {
          "cameraType": "orthographic"
         },
         "methodName": "setParameters",
         "reconstruc_color_scheme": false,
         "target": "Stage",
         "type": "call_method"
        },
        {
         "args": [
          {
           "clipDist": 0
          }
         ],
         "kwargs": {},
         "methodName": "setParameters",
         "reconstruc_color_scheme": false,
         "target": "Widget",
         "type": "call_method"
        },
        {
         "args": [
          "spacefill",
          0
         ],
         "kwargs": {
          "colorScale": "rainbow",
          "colorScheme": "element",
          "radiusScale": 0.5,
          "radiusType": "covalent"
         },
         "methodName": "updateRepresentationsByName",
         "reconstruc_color_scheme": false,
         "target": "Widget",
         "type": "call_method"
        },
        {
         "args": [
          "this._Q = [[-0.5773502691896257, 0.5773502691896257, 0.5773502691896257], [0.40824829046386313, -0.408248290463863, 0.8164965809277263], [0.7071067811865474, 0.7071067811865478, -3.5164189309272113e-16]]\n    var tooltip = document.createElement('div');\n    Object.assign(tooltip.style, {\n      display: 'none',\n      position: 'fixed',\n      zIndex: 10,\n      pointerEvents: 'none',\n      backgroundColor: 'rgba( 0, 0, 0, 0.6 )',\n      color: 'lightgrey',\n      padding: '8px',\n      fontFamily: 'sans-serif'\n    });\n    document.body.appendChild(tooltip);\n\n    var that = this;\n    this.stage.mouseControls.remove('hoverPick');\n    this.stage.signals.hovered.add(function (pickingProxy) {\n      if (pickingProxy && (pickingProxy.atom || pickingProxy.bond)) {\n        var atom = pickingProxy.atom || pickingProxy.closestBondAtom\n        var mp = pickingProxy.mouse.position\n        //tooltip.innerText = atom.element + ' i=' + atom.index + ' (' + atom.x.toFixed(2) +  ', ' + atom.y.toFixed(2) +  ', ' + atom.z.toFixed(2) + ')'\n        //var pos = that._atoms_pos[atom.index]\n        var Q = that._Q\n        var pos_x = Q[0][0] * atom.x + Q[0][1] * atom.y + Q[0][2] * atom.z \n        var pos_y = Q[1][0] * atom.x + Q[1][1] * atom.y + Q[1][2] * atom.z\n        var pos_z = Q[2][0] * atom.x + Q[2][1] * atom.y + Q[2][2] * atom.z\n        tooltip.innerText = 'i=' + atom.index + ' ' + atom.element + ' (' + pos_x.toFixed(2) +  ', ' + pos_y.toFixed(2) +  ', ' + pos_z.toFixed(2) + ')'\n        tooltip.style.bottom = window.innerHeight - mp.y + 3 + 'px'\n        tooltip.style.left = mp.x + 3 + 'px'\n        tooltip.style.display = 'block'\n      } else {\n        tooltip.style.display = 'none'\n      }\n    });\n    this.stage.tooltip = tooltip;\n    "
         ],
         "kwargs": {},
         "methodName": "executeCode",
         "reconstruc_color_scheme": false,
         "target": "Widget",
         "type": "call_method"
        }
       ],
       "_ngl_original_stage_parameters": {
        "ambientColor": 14540253,
        "ambientIntensity": 0.2,
        "backgroundColor": "white",
        "cameraEyeSep": 0.3,
        "cameraFov": 40,
        "cameraType": "perspective",
        "clipDist": 10,
        "clipFar": 100,
        "clipNear": 0,
        "fogFar": 100,
        "fogNear": 50,
        "hoverTimeout": 0,
        "impostor": true,
        "lightColor": 14540253,
        "lightIntensity": 1,
        "mousePreset": "default",
        "panSpeed": 1,
        "quality": "medium",
        "rotateSpeed": 2,
        "sampleLevel": 0,
        "tooltip": true,
        "workerDefault": true,
        "zoomSpeed": 1.2
       },
       "_ngl_repr_dict": {
        "0": {
         "0": {
          "params": {
           "clipCenter": {
            "x": 0,
            "y": 0,
            "z": 0
           },
           "clipNear": 0,
           "clipRadius": 0,
           "colorMode": "hcl",
           "colorReverse": false,
           "colorScale": "",
           "colorScheme": "element",
           "colorValue": "orange",
           "defaultAssembly": "",
           "depthWrite": true,
           "diffuse": 16777215,
           "diffuseInterior": false,
           "disableImpostor": false,
           "disablePicking": false,
           "flatShaded": false,
           "interiorColor": 2236962,
           "interiorDarkening": 0,
           "lazy": false,
           "matrix": {
            "elements": [
             1,
             0,
             0,
             0,
             0,
             1,
             0,
             0,
             0,
             0,
             1,
             0,
             0,
             0,
             0,
             1
            ]
           },
           "metalness": 0,
           "opacity": 1,
           "quality": "medium",
           "radialSegments": 10,
           "radiusData": {},
           "radiusScale": 1,
           "radiusSize": 0.02278541097981449,
           "radiusType": "vdw",
           "roughness": 0.4,
           "sele": "all",
           "side": "double",
           "sphereDetail": 1,
           "useInteriorColor": true,
           "visible": true,
           "wireframe": false
          },
          "type": "unitcell"
         },
         "1": {
          "params": {
           "assembly": "default",
           "clipCenter": {
            "x": 0,
            "y": 0,
            "z": 0
           },
           "clipNear": 0,
           "clipRadius": 0,
           "colorMode": "hcl",
           "colorReverse": false,
           "colorScale": "rainbow",
           "colorScheme": "element",
           "colorValue": 9474192,
           "defaultAssembly": "",
           "depthWrite": true,
           "diffuse": 16777215,
           "diffuseInterior": false,
           "disableImpostor": false,
           "disablePicking": false,
           "flatShaded": false,
           "interiorColor": 2236962,
           "interiorDarkening": 0,
           "lazy": false,
           "matrix": {
            "elements": [
             1,
             0,
             0,
             0,
             0,
             1,
             0,
             0,
             0,
             0,
             1,
             0,
             0,
             0,
             0,
             1
            ]
           },
           "metalness": 0,
           "opacity": 1,
           "quality": "medium",
           "radiusData": {},
           "radiusScale": 0.5,
           "radiusSize": 1,
           "radiusType": "covalent",
           "roughness": 0.4,
           "sele": "all",
           "side": "double",
           "sphereDetail": 1,
           "useInteriorColor": true,
           "visible": true,
           "wireframe": false
          },
          "type": "spacefill"
         }
        }
       },
       "_ngl_serialize": false,
       "_ngl_version": "2.0.0-dev.36",
       "_ngl_view_id": [
        "C921FB27-710F-4474-B94E-8EFB99796E23"
       ],
       "_player_dict": {},
       "_scene_position": {},
       "_scene_rotation": {},
       "_synced_model_ids": [],
       "_synced_repr_model_ids": [],
       "_view_height": "",
       "_view_width": "",
       "background": "white",
       "frame": 0,
       "gui_style": null,
       "layout": "IPY_MODEL_f44caba5720f4912846b72ac541948a6",
       "max_frame": 0,
       "n_components": 1,
       "picked": {}
      }
     },
     "e01b4642e11c40be840d01cf05e5fd9e": {
      "model_module": "@jupyter-widgets/base",
      "model_module_version": "1.2.0",
      "model_name": "LayoutModel",
      "state": {}
     },
     "e0249a34d1d247e88e233e016b47993c": {
      "model_module": "nglview-js-widgets",
      "model_module_version": "3.0.1",
      "model_name": "NGLModel",
      "state": {
       "_camera_orientation": [
        32.64247099707127,
        0.4498219436842206,
        0.47327187376416696,
        0,
        0.6037089955542765,
        -11.777979653442147,
        -30.444572087220173,
        0,
        -0.24871971414212973,
        30.447234592721873,
        -11.783941742970143,
        0,
        -10.147000312805176,
        -6.443999767303467,
        -2.071000099182129,
        1
       ],
       "_camera_str": "orthographic",
       "_gui_theme": null,
       "_ibtn_fullscreen": "IPY_MODEL_52e4053755ab4db2a17c6c76c9cafbfa",
       "_igui": null,
       "_iplayer": "IPY_MODEL_e70dbc74f5ed48e58944e76cd54f0246",
       "_ngl_color_dict": {},
       "_ngl_coordinate_resource": {},
       "_ngl_full_stage_parameters": {
        "ambientColor": 14540253,
        "ambientIntensity": 0.2,
        "backgroundColor": "white",
        "cameraEyeSep": 0.3,
        "cameraFov": 40,
        "cameraType": "orthographic",
        "clipDist": 0,
        "clipFar": 100,
        "clipNear": 0,
        "fogFar": 100,
        "fogNear": 50,
        "hoverTimeout": 0,
        "impostor": true,
        "lightColor": 14540253,
        "lightIntensity": 1,
        "mousePreset": "default",
        "panSpeed": 1,
        "quality": "medium",
        "rotateSpeed": 2,
        "sampleLevel": 0,
        "tooltip": true,
        "workerDefault": true,
        "zoomSpeed": 1.2
       },
       "_ngl_msg_archive": [
        {
         "args": [
          {
           "binary": false,
           "data": "CRYST1   16.235   16.235    4.971  90.00  90.00  60.00 P 1\nMODEL     1\nATOM      1   Fe MOL     1       2.029   1.172   0.000  1.00  0.00          FE  \nATOM      2   Fe MOL     1       6.088   1.172   0.000  1.00  0.00          FE  \nATOM      3   Fe MOL     1      10.147   1.172   0.000  1.00  0.00          FE  \nATOM      4   Fe MOL     1      14.206   1.172   0.000  1.00  0.00          FE  \nATOM      5   Fe MOL     1       4.059   4.687   0.000  1.00  0.00          FE  \nATOM      6   Fe MOL     1       8.118   4.687   0.000  1.00  0.00          FE  \nATOM      7   Fe MOL     1      12.176   4.687   0.000  1.00  0.00          FE  \nATOM      8   Fe MOL     1      16.235   4.687   0.000  1.00  0.00          FE  \nATOM      9   Fe MOL     1       6.088   8.202   0.000  1.00  0.00          FE  \nATOM     10   Fe MOL     1      10.147   8.202   0.000  1.00  0.00          FE  \nATOM     11   Fe MOL     1      14.206   8.202   0.000  1.00  0.00          FE  \nATOM     12   Fe MOL     1      18.265   8.202   0.000  1.00  0.00          FE  \nATOM     13   Fe MOL     1       8.118  11.717   0.000  1.00  0.00          FE  \nATOM     14   Fe MOL     1      12.176  11.717   0.000  1.00  0.00          FE  \nATOM     15   Fe MOL     1      16.235  11.717   0.000  1.00  0.00          FE  \nATOM     16   Fe MOL     1      20.294  11.717   0.000  1.00  0.00          FE  \nATOM     17   Fe MOL     1      -0.000   2.343   0.828  1.00  0.00          FE  \nATOM     18   Fe MOL     1       4.059   2.343   0.828  1.00  0.00          FE  \nATOM     19   Fe MOL     1       8.118   2.343   0.828  1.00  0.00          FE  \nATOM     20   Fe MOL     1      12.176   2.343   0.828  1.00  0.00          FE  \nATOM     21   Fe MOL     1       2.029   5.858   0.828  1.00  0.00          FE  \nATOM     22   Fe MOL     1       6.088   5.858   0.828  1.00  0.00          FE  \nATOM     23   Fe MOL     1      10.147   5.858   0.828  1.00  0.00          FE  \nATOM     24   Fe MOL     1      14.206   5.858   0.828  1.00  0.00          FE  \nATOM     25   Fe MOL     1       4.059   9.373   0.828  1.00  0.00          FE  \nATOM     26   Fe MOL     1       8.118   9.373   0.828  1.00  0.00          FE  \nATOM     27   Fe MOL     1      12.176   9.373   0.828  1.00  0.00          FE  \nATOM     28   Fe MOL     1      16.235   9.373   0.828  1.00  0.00          FE  \nATOM     29   Fe MOL     1       6.088  12.888   0.828  1.00  0.00          FE  \nATOM     30   Fe MOL     1      10.147  12.888   0.828  1.00  0.00          FE  \nATOM     31   Fe MOL     1      14.206  12.888   0.828  1.00  0.00          FE  \nATOM     32   Fe MOL     1      18.265  12.888   0.828  1.00  0.00          FE  \nATOM     33   Fe MOL     1       0.000   0.000   1.657  1.00  0.00          FE  \nATOM     34   Fe MOL     1       4.059   0.000   1.657  1.00  0.00          FE  \nATOM     35   Fe MOL     1       8.118   0.000   1.657  1.00  0.00          FE  \nATOM     36   Fe MOL     1      12.176   0.000   1.657  1.00  0.00          FE  \nATOM     37   Fe MOL     1       2.029   3.515   1.657  1.00  0.00          FE  \nATOM     38   Fe MOL     1       6.088   3.515   1.657  1.00  0.00          FE  \nATOM     39   Fe MOL     1      10.147   3.515   1.657  1.00  0.00          FE  \nATOM     40   Fe MOL     1      14.206   3.515   1.657  1.00  0.00          FE  \nATOM     41   Fe MOL     1       4.059   7.030   1.657  1.00  0.00          FE  \nATOM     42   Fe MOL     1       8.118   7.030   1.657  1.00  0.00          FE  \nATOM     43   Fe MOL     1      12.176   7.030   1.657  1.00  0.00          FE  \nATOM     44   Fe MOL     1      16.235   7.030   1.657  1.00  0.00          FE  \nATOM     45   Fe MOL     1       6.088  10.545   1.657  1.00  0.00          FE  \nATOM     46   Fe MOL     1      10.147  10.545   1.657  1.00  0.00          FE  \nATOM     47   Fe MOL     1      14.206  10.545   1.657  1.00  0.00          FE  \nATOM     48   Fe MOL     1      18.265  10.545   1.657  1.00  0.00          FE  \nATOM     49   Fe MOL     1       2.029   1.172   2.485  1.00  0.00          FE  \nATOM     50    V MOL     1       6.088   1.172   2.485  1.00  0.00           V  \nATOM     51   Fe MOL     1      10.147   1.172   2.485  1.00  0.00          FE  \nATOM     52   Fe MOL     1      14.206   1.172   2.485  1.00  0.00          FE  \nATOM     53   Fe MOL     1       4.059   4.687   2.485  1.00  0.00          FE  \nATOM     54   Fe MOL     1       8.118   4.687   2.485  1.00  0.00          FE  \nATOM     55   Fe MOL     1      12.176   4.687   2.485  1.00  0.00          FE  \nATOM     56   Fe MOL     1      16.235   4.687   2.485  1.00  0.00          FE  \nATOM     57   Fe MOL     1       6.088   8.202   2.485  1.00  0.00          FE  \nATOM     58   Fe MOL     1      10.147   8.202   2.485  1.00  0.00          FE  \nATOM     59   Fe MOL     1      14.206   8.202   2.485  1.00  0.00          FE  \nATOM     60   Fe MOL     1      18.265   8.202   2.485  1.00  0.00          FE  \nATOM     61   Fe MOL     1       8.118  11.717   2.485  1.00  0.00          FE  \nATOM     62   Fe MOL     1      12.176  11.717   2.485  1.00  0.00          FE  \nATOM     63   Fe MOL     1      16.235  11.717   2.485  1.00  0.00          FE  \nATOM     64    V MOL     1      20.294  11.717   2.485  1.00  0.00           V  \nATOM     65   Fe MOL     1      -0.000   2.343   3.314  1.00  0.00          FE  \nATOM     66   Fe MOL     1       4.059   2.343   3.314  1.00  0.00          FE  \nATOM     67   Fe MOL     1       8.118   2.343   3.314  1.00  0.00          FE  \nATOM     68   Fe MOL     1      12.176   2.343   3.314  1.00  0.00          FE  \nATOM     69   Fe MOL     1       2.029   5.858   3.314  1.00  0.00          FE  \nATOM     70   Fe MOL     1       6.088   5.858   3.314  1.00  0.00          FE  \nATOM     71    V MOL     1      10.147   5.858   3.314  1.00  0.00           V  \nATOM     72   Fe MOL     1      14.206   5.858   3.314  1.00  0.00          FE  \nATOM     73    V MOL     1       4.059   9.373   3.314  1.00  0.00           V  \nATOM     74   Fe MOL     1       8.118   9.373   3.314  1.00  0.00          FE  \nATOM     75   Fe MOL     1      12.176   9.373   3.314  1.00  0.00          FE  \nATOM     76   Fe MOL     1      16.235   9.373   3.314  1.00  0.00          FE  \nATOM     77    V MOL     1       6.088  12.888   3.314  1.00  0.00           V  \nATOM     78   Fe MOL     1      10.147  12.888   3.314  1.00  0.00          FE  \nATOM     79   Fe MOL     1      14.206  12.888   3.314  1.00  0.00          FE  \nATOM     80   Fe MOL     1      18.265  12.888   3.314  1.00  0.00          FE  \nATOM     81   Fe MOL     1       0.000   0.000   4.142  1.00  0.00          FE  \nATOM     82   Fe MOL     1       4.059   0.000   4.142  1.00  0.00          FE  \nATOM     83   Fe MOL     1       8.118   0.000   4.142  1.00  0.00          FE  \nATOM     84   Fe MOL     1      12.176   0.000   4.142  1.00  0.00          FE  \nATOM     85   Fe MOL     1       2.029   3.515   4.142  1.00  0.00          FE  \nATOM     86   Fe MOL     1       6.088   3.515   4.142  1.00  0.00          FE  \nATOM     87   Fe MOL     1      10.147   3.515   4.142  1.00  0.00          FE  \nATOM     88   Fe MOL     1      14.206   3.515   4.142  1.00  0.00          FE  \nATOM     89   Fe MOL     1       4.059   7.030   4.142  1.00  0.00          FE  \nATOM     90   Fe MOL     1       8.118   7.030   4.142  1.00  0.00          FE  \nATOM     91   Fe MOL     1      12.176   7.030   4.142  1.00  0.00          FE  \nATOM     92   Fe MOL     1      16.235   7.030   4.142  1.00  0.00          FE  \nATOM     93   Fe MOL     1       6.088  10.545   4.142  1.00  0.00          FE  \nATOM     94   Fe MOL     1      10.147  10.545   4.142  1.00  0.00          FE  \nATOM     95   Fe MOL     1      14.206  10.545   4.142  1.00  0.00          FE  \nATOM     96   Fe MOL     1      18.265  10.545   4.142  1.00  0.00          FE  \nENDMDL\n",
           "type": "blob"
          }
         ],
         "kwargs": {
          "defaultRepresentation": false,
          "ext": "pdb"
         },
         "methodName": "loadFile",
         "reconstruc_color_scheme": false,
         "target": "Stage",
         "type": "call_method"
        },
        {
         "args": [
          "400px",
          "300px"
         ],
         "kwargs": {},
         "methodName": "setSize",
         "reconstruc_color_scheme": false,
         "target": "Widget",
         "type": "call_method"
        },
        {
         "args": [
          "unitcell"
         ],
         "component_index": 0,
         "kwargs": {
          "sele": "all"
         },
         "methodName": "addRepresentation",
         "reconstruc_color_scheme": false,
         "target": "compList",
         "type": "call_method"
        },
        {
         "args": [
          "spacefill"
         ],
         "component_index": 0,
         "kwargs": {
          "sele": "all"
         },
         "methodName": "addRepresentation",
         "reconstruc_color_scheme": false,
         "target": "compList",
         "type": "call_method"
        },
        {
         "args": [],
         "kwargs": {
          "cameraType": "orthographic"
         },
         "methodName": "setParameters",
         "reconstruc_color_scheme": false,
         "target": "Stage",
         "type": "call_method"
        },
        {
         "args": [
          {
           "clipDist": 0
          }
         ],
         "kwargs": {},
         "methodName": "setParameters",
         "reconstruc_color_scheme": false,
         "target": "Widget",
         "type": "call_method"
        },
        {
         "args": [
          "spacefill",
          0
         ],
         "kwargs": {
          "colorScale": "rainbow",
          "colorScheme": "element",
          "radiusScale": 0.5,
          "radiusType": "covalent"
         },
         "methodName": "updateRepresentationsByName",
         "reconstruc_color_scheme": false,
         "target": "Widget",
         "type": "call_method"
        },
        {
         "args": [
          "this._Q = [[1.0, 0.0, 0.0], [0.0, 1.0, 0.0], [0.0, 0.0, 1.0]]\n    var tooltip = document.createElement('div');\n    Object.assign(tooltip.style, {\n      display: 'none',\n      position: 'fixed',\n      zIndex: 10,\n      pointerEvents: 'none',\n      backgroundColor: 'rgba( 0, 0, 0, 0.6 )',\n      color: 'lightgrey',\n      padding: '8px',\n      fontFamily: 'sans-serif'\n    });\n    document.body.appendChild(tooltip);\n\n    var that = this;\n    this.stage.mouseControls.remove('hoverPick');\n    this.stage.signals.hovered.add(function (pickingProxy) {\n      if (pickingProxy && (pickingProxy.atom || pickingProxy.bond)) {\n        var atom = pickingProxy.atom || pickingProxy.closestBondAtom\n        var mp = pickingProxy.mouse.position\n        //tooltip.innerText = atom.element + ' i=' + atom.index + ' (' + atom.x.toFixed(2) +  ', ' + atom.y.toFixed(2) +  ', ' + atom.z.toFixed(2) + ')'\n        //var pos = that._atoms_pos[atom.index]\n        var Q = that._Q\n        var pos_x = Q[0][0] * atom.x + Q[0][1] * atom.y + Q[0][2] * atom.z \n        var pos_y = Q[1][0] * atom.x + Q[1][1] * atom.y + Q[1][2] * atom.z\n        var pos_z = Q[2][0] * atom.x + Q[2][1] * atom.y + Q[2][2] * atom.z\n        tooltip.innerText = 'i=' + atom.index + ' ' + atom.element + ' (' + pos_x.toFixed(2) +  ', ' + pos_y.toFixed(2) +  ', ' + pos_z.toFixed(2) + ')'\n        tooltip.style.bottom = window.innerHeight - mp.y + 3 + 'px'\n        tooltip.style.left = mp.x + 3 + 'px'\n        tooltip.style.display = 'block'\n      } else {\n        tooltip.style.display = 'none'\n      }\n    });\n    this.stage.tooltip = tooltip;\n    "
         ],
         "kwargs": {},
         "methodName": "executeCode",
         "reconstruc_color_scheme": false,
         "target": "Widget",
         "type": "call_method"
        }
       ],
       "_ngl_original_stage_parameters": {
        "ambientColor": 14540253,
        "ambientIntensity": 0.2,
        "backgroundColor": "white",
        "cameraEyeSep": 0.3,
        "cameraFov": 40,
        "cameraType": "perspective",
        "clipDist": 10,
        "clipFar": 100,
        "clipNear": 0,
        "fogFar": 100,
        "fogNear": 50,
        "hoverTimeout": 0,
        "impostor": true,
        "lightColor": 14540253,
        "lightIntensity": 1,
        "mousePreset": "default",
        "panSpeed": 1,
        "quality": "medium",
        "rotateSpeed": 2,
        "sampleLevel": 0,
        "tooltip": true,
        "workerDefault": true,
        "zoomSpeed": 1.2
       },
       "_ngl_repr_dict": {
        "0": {
         "0": {
          "params": {
           "clipCenter": {
            "x": 0,
            "y": 0,
            "z": 0
           },
           "clipNear": 0,
           "clipRadius": 0,
           "colorMode": "hcl",
           "colorReverse": false,
           "colorScale": "",
           "colorScheme": "element",
           "colorValue": "orange",
           "defaultAssembly": "",
           "depthWrite": true,
           "diffuse": 16777215,
           "diffuseInterior": false,
           "disableImpostor": false,
           "disablePicking": false,
           "flatShaded": false,
           "interiorColor": 2236962,
           "interiorDarkening": 0,
           "lazy": false,
           "matrix": {
            "elements": [
             1,
             0,
             0,
             0,
             0,
             1,
             0,
             0,
             0,
             0,
             1,
             0,
             0,
             0,
             0,
             1
            ]
           },
           "metalness": 0,
           "opacity": 1,
           "quality": "medium",
           "radialSegments": 10,
           "radiusData": {},
           "radiusScale": 1,
           "radiusSize": 0.05214905877346537,
           "radiusType": "vdw",
           "roughness": 0.4,
           "sele": "all",
           "side": "double",
           "sphereDetail": 1,
           "useInteriorColor": true,
           "visible": true,
           "wireframe": false
          },
          "type": "unitcell"
         },
         "1": {
          "params": {
           "assembly": "default",
           "clipCenter": {
            "x": 0,
            "y": 0,
            "z": 0
           },
           "clipNear": 0,
           "clipRadius": 0,
           "colorMode": "hcl",
           "colorReverse": false,
           "colorScale": "rainbow",
           "colorScheme": "element",
           "colorValue": 9474192,
           "defaultAssembly": "",
           "depthWrite": true,
           "diffuse": 16777215,
           "diffuseInterior": false,
           "disableImpostor": false,
           "disablePicking": false,
           "flatShaded": false,
           "interiorColor": 2236962,
           "interiorDarkening": 0,
           "lazy": false,
           "matrix": {
            "elements": [
             1,
             0,
             0,
             0,
             0,
             1,
             0,
             0,
             0,
             0,
             1,
             0,
             0,
             0,
             0,
             1
            ]
           },
           "metalness": 0,
           "opacity": 1,
           "quality": "medium",
           "radiusData": {},
           "radiusScale": 0.5,
           "radiusSize": 1,
           "radiusType": "covalent",
           "roughness": 0.4,
           "sele": "all",
           "side": "double",
           "sphereDetail": 1,
           "useInteriorColor": true,
           "visible": true,
           "wireframe": false
          },
          "type": "spacefill"
         }
        }
       },
       "_ngl_serialize": false,
       "_ngl_version": "2.0.0-dev.36",
       "_ngl_view_id": [
        "186BD379-14B5-4FE7-AACD-0AB72695478F"
       ],
       "_player_dict": {},
       "_scene_position": {},
       "_scene_rotation": {},
       "_synced_model_ids": [],
       "_synced_repr_model_ids": [],
       "_view_height": "",
       "_view_width": "",
       "background": "white",
       "frame": 0,
       "gui_style": null,
       "layout": "IPY_MODEL_32c7a4d8d228485781a956c59a29e3dc",
       "max_frame": 0,
       "n_components": 1,
       "picked": {}
      }
     },
     "e0c559b0d2dc462ab78fa84b8bd4d4ec": {
      "model_module": "@jupyter-widgets/controls",
      "model_module_version": "1.5.0",
      "model_name": "HBoxModel",
      "state": {
       "children": [
        "IPY_MODEL_e85bf8b6134349e58315364b3e0f3f74",
        "IPY_MODEL_3d44f4ff6d46473bb0d1cfc6fb6aa1b1"
       ],
       "layout": "IPY_MODEL_d70baec88e5c475397ec83df391ff206"
      }
     },
     "e58f0d53fd894f16b3816c66b75a5356": {
      "model_module": "@jupyter-widgets/controls",
      "model_module_version": "1.5.0",
      "model_name": "ButtonStyleModel",
      "state": {}
     },
     "e5f132ba37c84566a6a61a87f7821309": {
      "model_module": "@jupyter-widgets/controls",
      "model_module_version": "1.5.0",
      "model_name": "SliderStyleModel",
      "state": {
       "description_width": ""
      }
     },
     "e70dbc74f5ed48e58944e76cd54f0246": {
      "model_module": "@jupyter-widgets/controls",
      "model_module_version": "1.5.0",
      "model_name": "HBoxModel",
      "state": {
       "children": [
        "IPY_MODEL_4660207c194b4fa6b8d6ad9a860c4c1a",
        "IPY_MODEL_eb211f71711b490db958ee12e5e2f832"
       ],
       "layout": "IPY_MODEL_c4204cade0404894a7e29749fedbb362"
      }
     },
     "e85bf8b6134349e58315364b3e0f3f74": {
      "model_module": "@jupyter-widgets/controls",
      "model_module_version": "1.5.0",
      "model_name": "ButtonModel",
      "state": {
       "description": "Download image",
       "layout": "IPY_MODEL_fc8c6bf54bbb4b8bb1e995b2323f175c",
       "style": "IPY_MODEL_8292586076464dff995483cf9a1a188a",
       "tooltip": "Download current frame to your local PC"
      }
     },
     "e938d0a7199e47f1b713c5a35ee68119": {
      "model_module": "@jupyter-widgets/controls",
      "model_module_version": "1.5.0",
      "model_name": "FloatSliderModel",
      "state": {
       "description": "Ball size",
       "layout": "IPY_MODEL_547ac7ffb2a449a2989ae35f9c39015c",
       "max": 1.5,
       "step": 0.01,
       "style": "IPY_MODEL_2dee35e50b754e3db5943a534e1255f5",
       "value": 0.5
      }
     },
     "e9d0ee5fd0e344f285ada434388f7145": {
      "model_module": "@jupyter-widgets/base",
      "model_module_version": "1.2.0",
      "model_name": "LayoutModel",
      "state": {}
     },
     "eb211f71711b490db958ee12e5e2f832": {
      "model_module": "@jupyter-widgets/controls",
      "model_module_version": "1.5.0",
      "model_name": "IntSliderModel",
      "state": {
       "layout": "IPY_MODEL_6f491893b971432490605fe9da06a7ec",
       "max": 0,
       "style": "IPY_MODEL_8ac7cb6c3f9a4d59abd429e34220a1b7"
      }
     },
     "ebabb97c458643468e60119364911e03": {
      "model_module": "@jupyter-widgets/controls",
      "model_module_version": "1.5.0",
      "model_name": "LinkModel",
      "state": {
       "source": [
        "IPY_MODEL_0eaccb261ea34d87b9f64c2a154850e4",
        "max"
       ],
       "target": [
        "IPY_MODEL_df727618e3a34ca0b957a88bd5a4c07f",
        "max_frame"
       ]
      }
     },
     "eed98626829e4b098f738fded0310b8d": {
      "model_module": "@jupyter-widgets/controls",
      "model_module_version": "1.5.0",
      "model_name": "DropdownModel",
      "state": {
       "_options_labels": [
        " ",
        "picking",
        "random",
        "uniform",
        "atomindex",
        "residueindex",
        "chainindex",
        "modelindex",
        "sstruc",
        "element",
        "resname",
        "bfactor",
        "hydrophobicity",
        "value",
        "volume",
        "occupancy"
       ],
       "description": "Color scheme",
       "index": 9,
       "layout": "IPY_MODEL_c4c2801b10e2443e9b86884c9ce57f07",
       "style": "IPY_MODEL_564ee4e43f9c445bad4026f2987e5b37"
      }
     },
     "f0b4b4831b944ce0baf3ea6762d81284": {
      "model_module": "@jupyter-widgets/controls",
      "model_module_version": "1.5.0",
      "model_name": "HBoxModel",
      "state": {
       "children": [
        "IPY_MODEL_74c7ac22919c41dbbb64f7e154a76faa",
        "IPY_MODEL_84749d768f1f4f85b8b76aad9973a268"
       ],
       "layout": "IPY_MODEL_a8e273fe92fc4377840ca84e680e04ab"
      }
     },
     "f18f7ebf0bce456f97b8439c9cef28a1": {
      "model_module": "@jupyter-widgets/base",
      "model_module_version": "1.2.0",
      "model_name": "LayoutModel",
      "state": {}
     },
     "f1efba0467f14da1a709b1f42e55caaa": {
      "model_module": "@jupyter-widgets/controls",
      "model_module_version": "1.5.0",
      "model_name": "ImageModel",
      "state": {
       "layout": "IPY_MODEL_ceb5bf9083094d2a90948c9cb13dd62c",
       "width": "900.0"
      }
     },
     "f280c7bc8e944046bc16f81035318995": {
      "model_module": "@jupyter-widgets/base",
      "model_module_version": "1.2.0",
      "model_name": "LayoutModel",
      "state": {}
     },
     "f2d8ccfc9169463c98287bf9928c20a5": {
      "model_module": "@jupyter-widgets/base",
      "model_module_version": "1.2.0",
      "model_name": "LayoutModel",
      "state": {}
     },
     "f2e6e4fe0c8f48ee88b3e2c3cc9e0b8b": {
      "model_module": "@jupyter-widgets/controls",
      "model_module_version": "1.5.0",
      "model_name": "ButtonStyleModel",
      "state": {}
     },
     "f32c1b1dd63d4f2fb1686e036a7a73b3": {
      "model_module": "@jupyter-widgets/base",
      "model_module_version": "1.2.0",
      "model_name": "LayoutModel",
      "state": {}
     },
     "f3c865406c1c4d5b9b5f0fb31e418fc3": {
      "model_module": "@jupyter-widgets/controls",
      "model_module_version": "1.5.0",
      "model_name": "HBoxModel",
      "state": {
       "children": [
        "IPY_MODEL_86c44482822044199a95fbb42f41fbca",
        "IPY_MODEL_d883f2271c30413685584458d64e4e5e"
       ],
       "layout": "IPY_MODEL_01642746f5844a0b8de8aa34691d9ba7"
      }
     },
     "f401dfe489ea4c1984c96208a295e353": {
      "model_module": "@jupyter-widgets/base",
      "model_module_version": "1.2.0",
      "model_name": "LayoutModel",
      "state": {}
     },
     "f44caba5720f4912846b72ac541948a6": {
      "model_module": "@jupyter-widgets/base",
      "model_module_version": "1.2.0",
      "model_name": "LayoutModel",
      "state": {}
     },
     "f5938ff457934b9985079da0a08809c9": {
      "model_module": "@jupyter-widgets/controls",
      "model_module_version": "1.5.0",
      "model_name": "DescriptionStyleModel",
      "state": {
       "description_width": ""
      }
     },
     "f9358c8b739f457bac3bb88d1e9ce143": {
      "model_module": "@jupyter-widgets/controls",
      "model_module_version": "1.5.0",
      "model_name": "SliderStyleModel",
      "state": {
       "description_width": ""
      }
     },
     "f93cd6497b914347a492266823d39ed5": {
      "model_module": "@jupyter-widgets/controls",
      "model_module_version": "1.5.0",
      "model_name": "SliderStyleModel",
      "state": {
       "description_width": ""
      }
     },
     "f9767c9f3c6c4ae3ac917fa130057e46": {
      "model_module": "@jupyter-widgets/controls",
      "model_module_version": "1.5.0",
      "model_name": "CheckboxModel",
      "state": {
       "description": "Show force",
       "disabled": false,
       "layout": "IPY_MODEL_2a3b210fe36d4ff685dc018859a7bd8a",
       "style": "IPY_MODEL_72343b422c734fa19dffe1155ec66a4f",
       "value": false
      }
     },
     "fa427bb60a82418ca6124f9f2b35de88": {
      "model_module": "@jupyter-widgets/controls",
      "model_module_version": "1.5.0",
      "model_name": "DropdownModel",
      "state": {
       "_options_labels": [
        "All",
        "Fe"
       ],
       "description": "Show",
       "index": 0,
       "layout": "IPY_MODEL_06ec9e376c55492da11b1aba235381df",
       "style": "IPY_MODEL_047d25ac5daa4bea82474e959ce3a671"
      }
     },
     "fa6dba4ed19e483396f05e6ffd2bdf81": {
      "model_module": "@jupyter-widgets/controls",
      "model_module_version": "1.5.0",
      "model_name": "ButtonModel",
      "state": {
       "description": "Download image",
       "layout": "IPY_MODEL_4175b5fee4634060b53295bfd11a3648",
       "style": "IPY_MODEL_10cf95bd1c154dbf8a0d33a927eca6d5",
       "tooltip": "Download current frame to your local PC"
      }
     },
     "fb149fadaa6c46a3ba2ccc2e763df2d6": {
      "model_module": "@jupyter-widgets/base",
      "model_module_version": "1.2.0",
      "model_name": "LayoutModel",
      "state": {}
     },
     "fc8c6bf54bbb4b8bb1e995b2323f175c": {
      "model_module": "@jupyter-widgets/base",
      "model_module_version": "1.2.0",
      "model_name": "LayoutModel",
      "state": {}
     },
     "fd884524c9644692af0252dad8fa286a": {
      "model_module": "@jupyter-widgets/controls",
      "model_module_version": "1.5.0",
      "model_name": "LinkModel",
      "state": {
       "source": [
        "IPY_MODEL_1f14614486ab496b99945841df99bbd7",
        "max"
       ],
       "target": [
        "IPY_MODEL_7ff841958aa14716adc0a612dfabea3e",
        "max_frame"
       ]
      }
     },
     "fdb391626c7c414ea4215003d6e0f434": {
      "model_module": "@jupyter-widgets/controls",
      "model_module_version": "1.5.0",
      "model_name": "VBoxModel",
      "state": {
       "children": [
        "IPY_MODEL_60668963a42c488591640b110ff35852",
        "IPY_MODEL_5eb78c9b568e43eb8177932fbfb85f53",
        "IPY_MODEL_0995c85a9c874749a11ac39b5b68994e",
        "IPY_MODEL_c4cbc1f5441143218e7a368050e07d56",
        "IPY_MODEL_870e2c9a5bc643d2beb5a4d4a4b2e784",
        "IPY_MODEL_0ce73f3ee0ac4c809c44a08aa39b23d1",
        "IPY_MODEL_87006122b9b849a7bd3eed2feeac6c77",
        "IPY_MODEL_0a39e08562c545c2b609101242ed84cf",
        "IPY_MODEL_b29b27d0af1c4972b9259a49ca2c142f",
        "IPY_MODEL_ba2ed180a2d241bc8197cb986cd6d5fe"
       ],
       "layout": "IPY_MODEL_b3cd6f39753540eb99778de20663898c"
      }
     },
     "fdda68329664434280d2e25beb1ff5de": {
      "model_module": "@jupyter-widgets/controls",
      "model_module_version": "1.5.0",
      "model_name": "DescriptionStyleModel",
      "state": {
       "description_width": ""
      }
     },
     "fe33db99fbe5401bb38f148e8579da67": {
      "model_module": "@jupyter-widgets/controls",
      "model_module_version": "1.5.0",
      "model_name": "LinkModel",
      "state": {
       "source": [
        "IPY_MODEL_0eaccb261ea34d87b9f64c2a154850e4",
        "value"
       ],
       "target": [
        "IPY_MODEL_48c179995d04449890776dc11010864e",
        "value"
       ]
      }
     },
     "ff5d0239a5dc4cebbe49adb2b41a7dd0": {
      "model_module": "@jupyter-widgets/base",
      "model_module_version": "1.2.0",
      "model_name": "LayoutModel",
      "state": {}
     }
    },
    "version_major": 2,
    "version_minor": 0
   }
  }
 },
 "nbformat": 4,
 "nbformat_minor": 5
}

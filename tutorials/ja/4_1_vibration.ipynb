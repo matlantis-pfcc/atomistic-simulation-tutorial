{
 "cells": [
  {
   "cell_type": "markdown",
   "id": "786de68f-ac9e-40b0-abc3-29b1163dab7d",
   "metadata": {},
   "source": [
    "# 振動解析 - Vibration Analysis\n",
    "\n",
    "前章まででは、局所安定構造をもとめ、そこから得られる各種エネルギーを学びました。\n",
    "\n",
    "本章では、安定構造周辺のエネルギー曲面 (PES: Potential Energy Surface)の挙動を解析することによって得られる物性を見ていきます。\n",
    "\n",
    "まずは、周期境界のない系(有機分子など)に対する振動解析を行う、Vibrationを見ていきましょう。<br/>\n",
    "振動解析によって得られる物性値は、IRスペクトルなど現実で観測できる量とも関連する物理量となります。"
   ]
  },
  {
   "cell_type": "markdown",
   "id": "8535e742-120d-40ab-aca6-91303e05135f",
   "metadata": {},
   "source": [
    "## 調和振動子近似 (Harmonic approximation)\n",
    "\n",
    "これまでCalculatorを用いて求めてきた、ポテンシャルエネルギー $V$ を、局所安定点の周りで近似することを考えてみましょう。\n",
    "\n",
    "1変数関数 $f(x)$ を、ある点$x_0$ 周りで表すとテイラー展開を用いて、以下のように表せます。\n",
    "\n",
    "$$ f(x) = f(x_0) + f'(x_0) \\Delta x + \\frac{1}{2} f''(x_0) \\Delta x^2 + \\cdots $$\n",
    "\n",
    "ここで、$\\Delta x = x - x_0$ としています。\n",
    "\n",
    "同様に、多変数関数 $f(\\mathbf{x})$は、$\\Delta \\mathbf{x} = \\mathbf{x} - \\mathbf{x_0}$ として、\n",
    "\n",
    "$$ f(\\mathbf{x}) = f(\\mathbf{x_0}) +　\\sum_i \\frac{\\partial f(\\mathbf{x_0})}{\\partial x_i} \\Delta \\mathbf{x}_i + \\frac{1}{2} \\sum_{ij} \\frac{\\partial^2 f(\\mathbf{x_0})}{\\partial x_i \\partial x_j} \\Delta \\mathbf{x}_i \\Delta \\mathbf{x}_j + \\cdots $$\n",
    "\n",
    "と表せます。\n",
    "\n",
    "ここで、ポテンシャルエネルギー $V(\\mathbf{r})$ に関してこの式を適用してみると、構造が安定となる点 $\\mathbf{r_0}$では力 $\\mathbf{F}_i = \\frac{\\partial V(\\mathbf{r_0})}{\\partial r_i}$ が0となっているため、1次微分の項は0となり、２次までの展開では、\n",
    "\n",
    "$$ V(\\mathbf{r}) \\approx V(\\mathbf{r_0}) +　\\frac{1}{2} \\sum_{ij} \\frac{\\partial^2 V(\\mathbf{r_0})}{\\partial r_i \\partial r_j} \\Delta \\mathbf{r}_i \\Delta \\mathbf{r}_j $$\n",
    "\n",
    "と書くことができます。\n",
    "\n",
    "エネルギーの2回微分である $\\frac{\\partial^2 V(\\mathbf{r_0})}{\\partial r_i \\partial r_j}$は、**Hessian**または、 **力定数マトリクス(Force constant matrix)** と呼ばれます。\n",
    "\n",
    "このようにエネルギー曲面として、2次の項のみを考えるものは、バネにつながった系を考えた場合と同じエネルギーの形となり、調和振動子近似と呼びます。\n",
    "\n",
    "以下の例は、[5-9 調和振動子近似(*) – ページ 2 – Shinshu Univ., Physical Chemistry Lab., Adsorption Group](https://science.shinshu-u.ac.jp/~tiiyama/?page_id=13288&page=2)で示されているもので、\n",
    "赤線のモースポテンシャル $D(1-e^{- \\beta x})^2$ を、x=0の安定点を中心にして青線の調和振動子ポテンシャル $(1/2)kx^2$ で近似した例を表します。$x=0$ 付近では、近似がある程度成り立っていることがわかります。\n",
    "\n",
    "<figure style=\"width: 500px\">\n",
    "　　　　<img src=\"https://i0.wp.com/science.shinshu-u.ac.jp/~tiiyama/wp-content/uploads/2019/02/morse1.png?w=600&ssl=1\"/>\n",
    "</figure>\n",
    "\n",
    "図1: モースポテンシャル(赤線)と調和振動子ポテンシャル(青線)の比較<br/>\n",
    "[Shinshu Univ., Physical Chemistry Lab., Adsorption Group Iiyama & Futamura Laboratory](https://science.shinshu-u.ac.jp/~tiiyama/?page_id=13288&page=2) より引用"
   ]
  },
  {
   "cell_type": "markdown",
   "id": "d46ff69e-20c6-4f8a-9100-8650e1ab204f",
   "metadata": {},
   "source": [
    "## Vibration\n",
    "\n",
    "ポテンシャルエネルギー $V(\\mathbf{r})$ は$N$個の原子がある時、それぞれの原子に対して$x, y, z$ の3方向に自由度を持つため、$3N$ 次元関数となり、\n",
    "Hessian $\\frac{\\partial^2 V(\\mathbf{r_0})}{\\partial r_i \\partial r_j}$ は $3N \\times 3N$ 次元の行列となります。\n",
    "これを対角化することで、 $3N$ 個の固有値と固有ベクトルが得られます。\n",
    "\n",
    "それぞれの固有値がバネの強さ、固有ベクトルがバネの方向→振動モードに対応します。\n",
    "\n",
    "$3N$個ある自由度の中で、分子全体が移動する並進運動の自由度が3、<br/>\n",
    "また分子全体が重心を中心に回転する回転の自由度が直線分子では 2、非直線分子では 3 存在します。\n",
    "\n",
    "最終的に、並進と回転の自由度をそれぞれ差し引いた以下の自由度の数だけ振動モード（基準振動）があります。\n",
    "\n",
    " - 直線分子: $3N-5$ \n",
    " - 非直線分子: $3N-6$\n",
    "\n",
    "\n",
    "実例を見ていきましょう。ASEでは `Vibration` moduleを使用することで振動解析を行うことが可能です。\n",
    "\n",
    " - https://wiki.fysik.dtu.dk/ase//ase/vibrations/vibrations.html\n"
   ]
  },
  {
   "cell_type": "markdown",
   "id": "dcda71a8-1eda-43a6-b446-32840a14d310",
   "metadata": {},
   "source": [
    "### H2O\n",
    "\n",
    "H2Oは3原子からなる非直線分子なので、9個の自由度のうち、6個が並進・回転の自由度、3個が振動モードとなるはずです。\n",
    "\n",
    "振動解析を行う際は、まず、系の構造最適化を行い、力が0になる点に移動させます。"
   ]
  },
  {
   "cell_type": "code",
   "execution_count": 1,
   "id": "11a58985-04fa-4c78-a2e6-dacf16b00658",
   "metadata": {},
   "outputs": [
    {
     "name": "stdout",
     "output_type": "stream",
     "text": [
      "       Step     Time          Energy          fmax\n",
      "LBFGS:    0 14:27:58      -10.020079        0.228034\n",
      "LBFGS:    1 14:27:58      -10.020927        0.104374\n",
      "LBFGS:    2 14:27:58      -10.021161        0.071815\n",
      "LBFGS:    3 14:27:58      -10.021430        0.001420\n",
      "LBFGS:    4 14:27:58      -10.021427        0.000039\n"
     ]
    },
    {
     "data": {
      "text/plain": [
       "True"
      ]
     },
     "execution_count": 1,
     "metadata": {},
     "output_type": "execute_result"
    }
   ],
   "source": [
    "from ase.build import molecule\n",
    "from ase.optimize import LBFGS, BFGS, FIRE\n",
    "import pfp_api_client\n",
    "from pfp_api_client.pfp.calculators.ase_calculator import ASECalculator\n",
    "from pfp_api_client.pfp.estimator import Estimator, EstimatorCalcMode\n",
    "\n",
    "estimator = Estimator(calc_mode=EstimatorCalcMode.CRYSTAL, model_version=\"v2.0.0\")\n",
    "calculator = ASECalculator(estimator)\n",
    "atoms = molecule(\"H2O\")\n",
    "atoms.calc = calculator\n",
    "LBFGS(atoms).run(fmax=0.0001)"
   ]
  },
  {
   "cell_type": "markdown",
   "id": "0240980e-c6b0-4176-a314-0b1d2eb447ca",
   "metadata": {},
   "source": [
    "ASEを用いる場合は `Vibrations`を用いることにより、各振動モードの計算ができます。\n",
    "この方法では、以下の式のように原子の位置を微小変化させた際の力の差分を求める事によりHessian を算出しています。\n",
    "\n",
    "$$\\frac{\\partial^2 V(\\mathbf{r_0})}{\\partial r_i \\partial r_j} \\approx \\frac{F(\\mathbf{r_0} + \\Delta r_i)_j - F(\\mathbf{r_0})_j}{|\\Delta{r_i}|} $$\n",
    "\n",
    "ここで、$\\Delta{r_i}$は、$3N$個ある座標のうち`i`番目のみを微小変化させたベクトルを表します。\n",
    "\n",
    "`Vibrations` moduleでは、\n",
    "`vib.run()`で上記式の計算とその対角化を行い、`vib.summary()` で固有値のルートを出力しています。<br/>\n",
    "\n",
    "`vib.run()`は`name`で指定されたディレクトリを作成し、計算結果をキャッシュします。\n",
    "そのため、別の計算を行う際にキャッシュファイルが残っていると新しい計算結果が反映されません。\n",
    "キャッシュされたファイルの削除は、`vib.clean()`で行うことができます。"
   ]
  },
  {
   "cell_type": "code",
   "execution_count": 2,
   "id": "36595ebd-80ea-4bcc-b469-f360f0da8279",
   "metadata": {},
   "outputs": [
    {
     "name": "stdout",
     "output_type": "stream",
     "text": [
      "---------------------\n",
      "  #    meV     cm^-1\n",
      "---------------------\n",
      "  0    6.3i     50.5i\n",
      "  1    0.2i      1.6i\n",
      "  2    0.1i      0.6i\n",
      "  3    0.1i      0.5i\n",
      "  4    3.3      26.5\n",
      "  5    3.5      28.3\n",
      "  6  202.6    1634.4\n",
      "  7  463.5    3738.1\n",
      "  8  474.0    3823.4\n",
      "---------------------\n",
      "Zero-point energy: 0.573 eV\n"
     ]
    }
   ],
   "source": [
    "from ase.vibrations import Vibrations\n",
    "\n",
    "vib = Vibrations(atoms, indices=None, delta=0.01, name=\"vib-h2o\", nfree=2)\n",
    "vib.clean()\n",
    "vib.run()\n",
    "vib.summary()"
   ]
  },
  {
   "cell_type": "markdown",
   "id": "4bfda0d3-74ec-4420-9543-b91dd7bf9171",
   "metadata": {},
   "source": [
    "結果を見てみると、実際に並進・回転モードに対応する#0から#5までの6つのモードの固有エネルギーがほぼ0となっている事がわかります。<br/>\n",
    "また、#6-#8の振動モードに対応する固有エネルギーは0より大きな値となっていることもわかります。\n",
    "\n",
    "\n",
    "[Note]\n",
    "\n",
    "\"i\" がついているものは虚数となっており、固有値がマイナスになっていることを表します。<br/>\n",
    "これは２次関数で表した際に上に凸な２次曲面を表しており、更にエネルギーを下げる点が存在していることを示唆しており、構造最適化を行った局所安定点の振る舞いとしては望まれない結果となります。\n",
    "ただし今回はその値は大きくないため、ほぼ0であるとみなすことができます。\n",
    "\n"
   ]
  },
  {
   "cell_type": "markdown",
   "id": "d531ab9f-11aa-49c9-a659-4143af05e8a7",
   "metadata": {},
   "source": [
    "各振動モードを可視化して見ましょう。\n",
    "\n",
    "`vib.write_mode()`を用いると、カレントディレクトリ下に `name` で指定した名前で各振動モードのTrajectoryファイルが出力されます。"
   ]
  },
  {
   "cell_type": "code",
   "execution_count": 3,
   "id": "2e490775-7150-40f0-a1b9-586b84c80e4b",
   "metadata": {},
   "outputs": [],
   "source": [
    "vib.write_mode()"
   ]
  },
  {
   "cell_type": "markdown",
   "id": "f2188cad-106b-4d12-9cc3-f3b97fab63df",
   "metadata": {},
   "source": [
    "以下のコードでは、`mode`の値を0から8に変えることで各振動モードがどのように振動しているかを確認することができます。\n",
    "\n",
    "実際に、modeが0から5の値では並進や回転の運動となっていて、6から8の値を見ると、以下のように振動モードに対応していることがわかります。\n",
    "\n",
    " - mode 6: H2Oの角度が変わるような振動 (変角振動)\n",
    " - mode 7: HO間の結合長が同時に変わるような振動 (対称伸縮振動)\n",
    " - mode 8: HO間の結合長が交互に変わるような振動 (非対称伸縮振動)\n",
    "\n",
    "\n",
    "以下の参考文献に記載されているようにそれぞれの振動をIRスペクトルで確認することもできます。\n",
    "\n",
    " - [2. 赤外非線形分光法で観る水の振動・構造ダイナミクス](https://www.jstage.jst.go.jp/article/electrochemistry/82/9/82_14-9-FE0074/_article)\n"
   ]
  },
  {
   "cell_type": "code",
   "execution_count": 4,
   "id": "3511d1b8-7d45-4792-8675-b64a12715b54",
   "metadata": {},
   "outputs": [
    {
     "data": {
      "application/vnd.jupyter.widget-view+json": {
       "model_id": "b3254de409ff4128ae4c13d493c78155",
       "version_major": 2,
       "version_minor": 0
      },
      "text/plain": []
     },
     "metadata": {},
     "output_type": "display_data"
    },
    {
     "data": {
      "application/vnd.jupyter.widget-view+json": {
       "model_id": "c9558cfc786a4b688604870a4e950015",
       "version_major": 2,
       "version_minor": 0
      },
      "text/plain": [
       "HBox(children=(NGLWidget(max_frame=29), VBox(children=(Dropdown(description='Show', options=('All', 'H', 'O'),…"
      ]
     },
     "metadata": {},
     "output_type": "display_data"
    }
   ],
   "source": [
    "from ase.io.trajectory import Trajectory\n",
    "from pfcc_extras.visualize.view import view_ngl\n",
    "\n",
    "mode = 6\n",
    "traj = Trajectory(f\"vib-h2o.{mode}.traj\")\n",
    "view_ngl(traj, representations=[\"ball+stick\"])"
   ]
  },
  {
   "cell_type": "markdown",
   "id": "3e1e40db-487c-487e-ac1c-90cab1a8360b",
   "metadata": {},
   "source": [
    "以下のようにして、各振動モードをアニメーション png ファイルとして保存することもできます。"
   ]
  },
  {
   "cell_type": "code",
   "execution_count": 5,
   "id": "d2c896fd-d550-412e-806a-80ae359be60e",
   "metadata": {},
   "outputs": [
    {
     "data": {
      "application/vnd.jupyter.widget-view+json": {
       "model_id": "73039bc2734140c88171fa3c3e962cec",
       "version_major": 2,
       "version_minor": 0
      },
      "text/plain": [
       "  0%|          | 0/9 [00:00<?, ?it/s]"
      ]
     },
     "metadata": {},
     "output_type": "display_data"
    },
    {
     "name": "stderr",
     "output_type": "stream",
     "text": [
      "[Parallel(n_jobs=16)]: Using backend ThreadingBackend with 16 concurrent workers.\n",
      "[Parallel(n_jobs=16)]: Done  30 out of  30 | elapsed:    4.3s finished\n",
      "[Parallel(n_jobs=16)]: Using backend ThreadingBackend with 16 concurrent workers.\n",
      "[Parallel(n_jobs=16)]: Done  30 out of  30 | elapsed:    4.6s finished\n",
      "[Parallel(n_jobs=16)]: Using backend ThreadingBackend with 16 concurrent workers.\n",
      "[Parallel(n_jobs=16)]: Done  30 out of  30 | elapsed:    4.2s finished\n",
      "[Parallel(n_jobs=16)]: Using backend ThreadingBackend with 16 concurrent workers.\n",
      "[Parallel(n_jobs=16)]: Done  30 out of  30 | elapsed:    3.3s finished\n",
      "[Parallel(n_jobs=16)]: Using backend ThreadingBackend with 16 concurrent workers.\n",
      "[Parallel(n_jobs=16)]: Done  30 out of  30 | elapsed:    4.2s finished\n",
      "[Parallel(n_jobs=16)]: Using backend ThreadingBackend with 16 concurrent workers.\n",
      "[Parallel(n_jobs=16)]: Done  30 out of  30 | elapsed:    4.2s finished\n",
      "[Parallel(n_jobs=16)]: Using backend ThreadingBackend with 16 concurrent workers.\n",
      "[Parallel(n_jobs=16)]: Done  30 out of  30 | elapsed:    4.2s finished\n",
      "[Parallel(n_jobs=16)]: Using backend ThreadingBackend with 16 concurrent workers.\n",
      "[Parallel(n_jobs=16)]: Done  30 out of  30 | elapsed:    4.1s finished\n",
      "[Parallel(n_jobs=16)]: Using backend ThreadingBackend with 16 concurrent workers.\n",
      "[Parallel(n_jobs=16)]: Done  30 out of  30 | elapsed:    4.5s finished\n"
     ]
    }
   ],
   "source": [
    "from tqdm.auto import tqdm\n",
    "from pfcc_extras.visualize.povray import traj_to_apng\n",
    "\n",
    "\n",
    "for mode in tqdm(range(9)):\n",
    "    traj = Trajectory(f\"vib-h2o.{mode}.traj\")\n",
    "    traj_to_apng(traj, f\"output/vib-h2o.{mode}.png\", rotation=\"90x,90y,180z\", clean=True, n_jobs=16)"
   ]
  },
  {
   "cell_type": "markdown",
   "id": "333b45f1-73c4-4aba-a4c9-1c75cc6b5c39",
   "metadata": {},
   "source": [
    "**H2Oの振動モード**\n",
    "\n",
    "<div style=\"clear:both;display:table\">\n",
    "<figure style=\"width:30%;float:left;margin:10px\">\n",
    "  <img src=\"./output/vib-h2o.6.png\" alt=\"mode6\">\n",
    "  <figcaption>Mode #6</figcaption>\n",
    "</figure>\n",
    "<figure style=\"width:30%;float:left;margin:10px\">\n",
    "  <img src=\"./output/vib-h2o.7.png\" alt=\"mode7\">\n",
    "  <figcaption>Mode #7</figcaption>\n",
    "</figure>\n",
    "<figure style=\"width:30%;float:left;margin:10px\">\n",
    "  <img src=\"./output/vib-h2o.8.png\" alt=\"mode8\">\n",
    "  <figcaption>Mode #8</figcaption>\n",
    "</figure>\n",
    "</div>"
   ]
  },
  {
   "cell_type": "markdown",
   "id": "e1849047-d271-4d34-90d1-337e025bf42b",
   "metadata": {},
   "source": [
    "### CO2\n",
    "\n",
    "CO2はH2Oと同じ３原子からなりますが、直線分子です。<br/>\n",
    "そのため、並進・回転モードが5つ、振動モードが4つになることが期待されます。\n",
    "\n",
    "実際に確認してみましょう。前回同様、構造最適化を行ってから、振動解析を行います。"
   ]
  },
  {
   "cell_type": "code",
   "execution_count": 6,
   "id": "81ff7ec8-0b6c-4a7a-98ac-17713b832c57",
   "metadata": {},
   "outputs": [
    {
     "name": "stdout",
     "output_type": "stream",
     "text": [
      "       Step     Time          Energy          fmax\n",
      "LBFGS:    0 14:29:01      -17.706264        0.245236\n",
      "LBFGS:    1 14:29:01      -17.706730        0.111090\n",
      "LBFGS:    2 14:29:01      -17.706863        0.001320\n",
      "LBFGS:    3 14:29:01      -17.706856        0.000014\n",
      "---------------------\n",
      "  #    meV     cm^-1\n",
      "---------------------\n",
      "  0    0.6i      4.7i\n",
      "  1    0.6i      4.7i\n",
      "  2    0.2i      2.0i\n",
      "  3    0.9       7.2\n",
      "  4    0.9       7.2\n",
      "  5   71.0     572.6\n",
      "  6   71.0     572.6\n",
      "  7  165.0    1330.9\n",
      "  8  289.2    2332.6\n",
      "---------------------\n",
      "Zero-point energy: 0.299 eV\n"
     ]
    }
   ],
   "source": [
    "atoms = molecule(\"CO2\")\n",
    "atoms.calc = calculator\n",
    "LBFGS(atoms).run(fmax=0.001)\n",
    "vib = Vibrations(atoms, indices=None, delta=0.01, name=\"vib-co2\", nfree=2)\n",
    "vib.clean()\n",
    "vib.run()\n",
    "vib.summary()"
   ]
  },
  {
   "cell_type": "code",
   "execution_count": 7,
   "id": "9901e5f7-fa62-43e5-b0f8-ccc4127f749d",
   "metadata": {},
   "outputs": [],
   "source": [
    "vib.write_mode()"
   ]
  },
  {
   "cell_type": "markdown",
   "id": "7d7e0237-eb34-402a-98ae-4b9562048192",
   "metadata": {},
   "source": [
    "実際に、#0-#4の並進・回転に相当する5つのモードで固有エネルギーがほぼ0となっており、#5-#8の振動に相当する固有モードが0より大きな値となっています。\n",
    "\n",
    "前回同様可視化を行ってみます。#5と#6の振動は同じ固有エネルギーとなっていて、振動モード(=固有ベクトル)が縮退していることがわかります。\n",
    "\n",
    " - mode 5, 6: CO2の角度が変わるような振動、2つの方向への変化が縮退していることがわかります。\n",
    " - mode 7: CO間の結合長が同時に変わるような振動\n",
    " - mode 8: CO間の結合長が交互に変わるような振動"
   ]
  },
  {
   "cell_type": "code",
   "execution_count": 8,
   "id": "d1d44aea-c82b-464f-8637-80247ed51344",
   "metadata": {},
   "outputs": [
    {
     "data": {
      "application/vnd.jupyter.widget-view+json": {
       "model_id": "a1886492940f4b6d915dafdfbe90511b",
       "version_major": 2,
       "version_minor": 0
      },
      "text/plain": [
       "HBox(children=(NGLWidget(max_frame=29), VBox(children=(Dropdown(description='Show', options=('All', 'C', 'O'),…"
      ]
     },
     "metadata": {},
     "output_type": "display_data"
    }
   ],
   "source": [
    "from ase.io.trajectory import Trajectory\n",
    "from pfcc_extras.visualize.view import view_ngl\n",
    "\n",
    "mode = 5\n",
    "traj = Trajectory(f\"vib-co2.{mode}.traj\")\n",
    "view_ngl(traj, representations=[\"ball+stick\"])"
   ]
  },
  {
   "cell_type": "code",
   "execution_count": 9,
   "id": "63be7161-1b3e-4ecb-839e-fc133e0c8e1b",
   "metadata": {},
   "outputs": [
    {
     "data": {
      "application/vnd.jupyter.widget-view+json": {
       "model_id": "b64c5b7492e3466fbaa90d1616d6c578",
       "version_major": 2,
       "version_minor": 0
      },
      "text/plain": [
       "  0%|          | 0/9 [00:00<?, ?it/s]"
      ]
     },
     "metadata": {},
     "output_type": "display_data"
    },
    {
     "name": "stderr",
     "output_type": "stream",
     "text": [
      "[Parallel(n_jobs=16)]: Using backend ThreadingBackend with 16 concurrent workers.\n",
      "[Parallel(n_jobs=16)]: Done  30 out of  30 | elapsed:    4.1s finished\n",
      "[Parallel(n_jobs=16)]: Using backend ThreadingBackend with 16 concurrent workers.\n",
      "[Parallel(n_jobs=16)]: Done  30 out of  30 | elapsed:    4.0s finished\n",
      "[Parallel(n_jobs=16)]: Using backend ThreadingBackend with 16 concurrent workers.\n",
      "[Parallel(n_jobs=16)]: Done  30 out of  30 | elapsed:    4.1s finished\n",
      "[Parallel(n_jobs=16)]: Using backend ThreadingBackend with 16 concurrent workers.\n",
      "[Parallel(n_jobs=16)]: Done  30 out of  30 | elapsed:    4.6s finished\n",
      "[Parallel(n_jobs=16)]: Using backend ThreadingBackend with 16 concurrent workers.\n",
      "[Parallel(n_jobs=16)]: Done  30 out of  30 | elapsed:    4.5s finished\n",
      "[Parallel(n_jobs=16)]: Using backend ThreadingBackend with 16 concurrent workers.\n",
      "[Parallel(n_jobs=16)]: Done  30 out of  30 | elapsed:    4.0s finished\n",
      "[Parallel(n_jobs=16)]: Using backend ThreadingBackend with 16 concurrent workers.\n",
      "[Parallel(n_jobs=16)]: Done  30 out of  30 | elapsed:    4.1s finished\n",
      "[Parallel(n_jobs=16)]: Using backend ThreadingBackend with 16 concurrent workers.\n",
      "[Parallel(n_jobs=16)]: Done  30 out of  30 | elapsed:    3.9s finished\n",
      "[Parallel(n_jobs=16)]: Using backend ThreadingBackend with 16 concurrent workers.\n",
      "[Parallel(n_jobs=16)]: Done  30 out of  30 | elapsed:    3.9s finished\n"
     ]
    }
   ],
   "source": [
    "from tqdm.auto import tqdm\n",
    "from pfcc_extras.visualize.povray import traj_to_apng\n",
    "\n",
    "\n",
    "for mode in tqdm(range(9)):\n",
    "    traj = Trajectory(f\"vib-co2.{mode}.traj\")\n",
    "    traj_to_apng(traj, f\"output/vib-co2.{mode}.png\", rotation=\"30x,30y,30z\", clean=True, n_jobs=16)"
   ]
  },
  {
   "cell_type": "markdown",
   "id": "6d63e5d7-2dfe-4fb2-8711-f6134f210e75",
   "metadata": {},
   "source": [
    "**CO2の振動モード**\n",
    "\n",
    "<div style=\"clear:both;display:table\">\n",
    "<figure style=\"width:23%;float:left;margin:1px\">\n",
    "  <img src=\"./output/vib-co2.5.png\" alt=\"mode5\">\n",
    "  <figcaption>Mode #5</figcaption>\n",
    "</figure>\n",
    "<figure style=\"width:23%;float:left;margin:1px\">\n",
    "  <img src=\"./output/vib-co2.6.png\" alt=\"mode6\">\n",
    "  <figcaption>Mode #6</figcaption>\n",
    "</figure>\n",
    "<figure style=\"width:23%;float:left;margin:1px\">\n",
    "  <img src=\"./output/vib-co2.7.png\" alt=\"mode7\">\n",
    "  <figcaption>Mode #7</figcaption>\n",
    "</figure>\n",
    "<figure style=\"width:23%;float:left;margin:1px\">\n",
    "  <img src=\"./output/vib-co2.8.png\" alt=\"mode8\">\n",
    "  <figcaption>Mode #8</figcaption>\n",
    "</figure>\n",
    "</div>"
   ]
  },
  {
   "cell_type": "markdown",
   "id": "e0d9222e-fc67-4ff5-8cb3-bf1e7af6b980",
   "metadata": {},
   "source": [
    "### CH3OH\n",
    "\n",
    "すこしだけ形を複雑にした分子として、CH3OHで同様に振動解析を行ってみます。\n",
    "\n",
    "６個の原子を持つ非直線分子なので、最初の6つが並進・振動モードとなっており、残りの12個が振動モードとなっていることがわかります。"
   ]
  },
  {
   "cell_type": "code",
   "execution_count": 10,
   "id": "54b7bead-5831-4e94-be59-44e3c68019ee",
   "metadata": {},
   "outputs": [
    {
     "name": "stdout",
     "output_type": "stream",
     "text": [
      "       Step     Time          Energy          fmax\n",
      "LBFGS:    0 14:29:55      -22.437712        0.257620\n",
      "LBFGS:    1 14:29:55      -22.440618        0.160300\n",
      "LBFGS:    2 14:29:55      -22.442345        0.091651\n",
      "LBFGS:    3 14:29:55      -22.442566        0.079826\n",
      "LBFGS:    4 14:29:55      -22.442928        0.047177\n",
      "LBFGS:    5 14:29:55      -22.443044        0.027284\n",
      "LBFGS:    6 14:29:56      -22.443096        0.021147\n",
      "LBFGS:    7 14:29:56      -22.443152        0.020779\n",
      "LBFGS:    8 14:29:56      -22.443180        0.014373\n",
      "LBFGS:    9 14:29:56      -22.443184        0.009071\n",
      "LBFGS:   10 14:29:56      -22.443183        0.007169\n",
      "LBFGS:   11 14:29:56      -22.443192        0.009089\n",
      "LBFGS:   12 14:29:56      -22.443198        0.005556\n",
      "LBFGS:   13 14:29:56      -22.443203        0.001445\n",
      "LBFGS:   14 14:29:56      -22.443197        0.000872\n",
      "---------------------\n",
      "  #    meV     cm^-1\n",
      "---------------------\n",
      "  0    1.4i     11.4i\n",
      "  1    0.9i      7.1i\n",
      "  2    0.2i      1.4i\n",
      "  3    0.1i      1.0i\n",
      "  4    0.0i      0.2i\n",
      "  5    1.2       9.8\n",
      "  6   33.1     267.2\n",
      "  7  123.2     993.3\n",
      "  8  129.4    1043.9\n",
      "  9  137.8    1111.6\n",
      " 10  161.4    1301.6\n",
      " 11  169.7    1368.5\n",
      " 12  172.0    1387.3\n",
      " 13  177.8    1434.4\n",
      " 14  361.7    2917.1\n",
      " 15  369.0    2976.1\n",
      " 16  376.3    3034.7\n",
      " 17  463.2    3736.2\n",
      "---------------------\n",
      "Zero-point energy: 1.338 eV\n"
     ]
    }
   ],
   "source": [
    "atoms = molecule(\"CH3OH\")\n",
    "atoms.calc = calculator\n",
    "LBFGS(atoms).run(fmax=0.001)\n",
    "vib = Vibrations(atoms, indices=None, delta=0.01, name=\"vib-ch3oh\", nfree=2)\n",
    "vib.clean()\n",
    "vib.run()\n",
    "vib.summary()"
   ]
  },
  {
   "cell_type": "markdown",
   "id": "6cb40885-93d6-4b42-8bc8-537d0c8e30bb",
   "metadata": {},
   "source": [
    "それぞれのモードを可視化して見てみましょう。モードによっては全体の原子が複雑に動くような振動モードも得られていることが確認できます。"
   ]
  },
  {
   "cell_type": "code",
   "execution_count": 11,
   "id": "769de471-77cd-479c-b5e6-184f5f8a3ef3",
   "metadata": {},
   "outputs": [],
   "source": [
    "vib.write_mode()"
   ]
  },
  {
   "cell_type": "code",
   "execution_count": 12,
   "id": "1508d789-c54f-48f0-b2e7-8d36d1da402c",
   "metadata": {},
   "outputs": [
    {
     "data": {
      "application/vnd.jupyter.widget-view+json": {
       "model_id": "915dc074a307403cafa7cc162a4cd5ad",
       "version_major": 2,
       "version_minor": 0
      },
      "text/plain": [
       "HBox(children=(NGLWidget(max_frame=29), VBox(children=(Dropdown(description='Show', options=('All', 'H', 'C', …"
      ]
     },
     "metadata": {},
     "output_type": "display_data"
    }
   ],
   "source": [
    "from ase.io.trajectory import Trajectory\n",
    "from pfcc_extras.visualize.view import view_ngl\n",
    "\n",
    "mode = 10\n",
    "traj = Trajectory(f\"vib-ch3oh.{mode}.traj\")\n",
    "view_ngl(traj, representations=[\"ball+stick\"])"
   ]
  },
  {
   "cell_type": "markdown",
   "id": "ce92219b-0de7-4ce1-b7e0-a09fd93de49a",
   "metadata": {},
   "source": [
    "### CH4\n",
    "\n",
    "最後に原子数が増えているが、対称性が高い分子の例として、CH4を見てみます。\n",
    "\n",
    "5個の原子を持つ非直線分子なので、最初の6つが並進・回転モードとなっており、残りの9個が振動モードとなっていることがわかります。"
   ]
  },
  {
   "cell_type": "code",
   "execution_count": 13,
   "id": "fe98e5b5-c326-42cf-9c4f-9660dc91aa7a",
   "metadata": {},
   "outputs": [
    {
     "name": "stdout",
     "output_type": "stream",
     "text": [
      "       Step     Time          Energy          fmax\n",
      "LBFGS:    0 14:29:58      -18.153517        0.228951\n",
      "LBFGS:    1 14:29:58      -18.155784        0.119017\n",
      "LBFGS:    2 14:29:58      -18.156646        0.002207\n",
      "LBFGS:    3 14:29:58      -18.156650        0.000025\n",
      "---------------------\n",
      "  #    meV     cm^-1\n",
      "---------------------\n",
      "  0    3.5i     27.9i\n",
      "  1    3.5i     27.9i\n",
      "  2    3.5i     27.9i\n",
      "  3    0.3i      2.1i\n",
      "  4    0.3i      2.1i\n",
      "  5    0.3i      2.1i\n",
      "  6  141.7    1142.6\n",
      "  7  141.7    1142.6\n",
      "  8  141.7    1142.6\n",
      "  9  187.2    1509.9\n",
      " 10  187.2    1509.9\n",
      " 11  368.1    2968.8\n",
      " 12  379.8    3063.1\n",
      " 13  379.8    3063.1\n",
      " 14  379.8    3063.1\n",
      "---------------------\n",
      "Zero-point energy: 1.153 eV\n"
     ]
    }
   ],
   "source": [
    "atoms = molecule(\"CH4\")\n",
    "atoms.calc = calculator\n",
    "LBFGS(atoms).run(fmax=0.001)\n",
    "vib = Vibrations(atoms, indices=None, delta=0.01, name=\"vib-ch4\", nfree=2)\n",
    "vib.clean()\n",
    "vib.run()\n",
    "vib.summary()"
   ]
  },
  {
   "cell_type": "code",
   "execution_count": 14,
   "id": "b9334771-2c72-4e69-8e34-482aa5dfae16",
   "metadata": {},
   "outputs": [],
   "source": [
    "vib.write_mode()"
   ]
  },
  {
   "cell_type": "markdown",
   "id": "da0c0bad-a1dd-4a59-80c4-8731c0e7cd8f",
   "metadata": {},
   "source": [
    "## 振動解析後に得られる物性値\n",
    "\n",
    "振動解析の結果を利用することにより、例えば以下のような物性値が計算できます。\n",
    "\n",
    "1. thermochemistry calculation: 理想気体近似などのもとで、enthalpyや自由エネルギーなどを求めることができます。詳しくは後ろの章で扱います。\n",
    "2. IRスペクトルの波数: 振動解析の結果から、IR活性をもつ振動モードの吸収波数を特定できます。"
   ]
  },
  {
   "cell_type": "markdown",
   "id": "bb617b93-bc54-4814-8019-883d3dd0de94",
   "metadata": {},
   "source": [
    "## [コラム] 調和振動子近似の有効範囲\n",
    "\n",
    "本節で扱ったVibration、また次節で扱うPhononは調和振動子近似をもとに解析を進めていくため、この近似がどのような構造・場合において成り立つかを理解しておくことは大切です。\n",
    "調和振動子近似は、安定構造付近のポテンシャルエネルギーをバネ型のPotential エネルギー $1/2 k x^2$で置き換えたものであり、下のイメージ図に示すように、各原子が原点からずれればずれるほど大きな力で原点に引き戻されるようなポテンシャルです。\n",
    "すなわち、**固体のように原子がその位置に留まるような構造では有効ですが、流体・気体のようにそもそも各原子が固定された場所に存在しないような場合は有効ではない**ことがわかります。\n",
    "\n",
    "<figure style=\"width: 350px\">\n",
    "　　　　<img src=\"../assets/harmonic_approx_bulk.png\"/>\n",
    "  <figcaption>\n",
    "      調和振動子近似が適用された原子系のイメージ図\n",
    "  </figcaption>\n",
    "</figure>\n",
    "\n",
    "これは温度とも関連します。物質が融点より高く液体状態になっている時は調和振動子近似は有効ではないと言えるでしょう。<br/>\n",
    "目安として、融点に近づくと調和振動子近似の精度が大幅に下がり、**低温領域でのみ**有効な近似となります。"
   ]
  },
  {
   "cell_type": "markdown",
   "id": "25029241-2394-48ce-9210-1f93098b066f",
   "metadata": {},
   "source": [
    "## 次節\n",
    "\n",
    "本節では、分子などの周期境界条件のない系に対する振動解析を行いました。\n",
    "\n",
    "次節では、結晶などの周期境界条件のある系に対する振動として得られる、 **phonon**を扱います。"
   ]
  },
  {
   "cell_type": "markdown",
   "id": "1c2437fe-2519-48ed-be9b-7cd6b20d5191",
   "metadata": {},
   "source": [
    "## 参考文献\n",
    "\n",
    " - [6. 振動解析](http://www.shinshu-u.ac.jp/faculty/engineering/chair/chem009/computer%20file/6_vibration.pdf)\n"
   ]
  }
 ],
 "metadata": {
  "kernelspec": {
   "display_name": "Python 3.9",
   "language": "python",
   "name": "python39"
  },
  "language_info": {
   "codemirror_mode": {
    "name": "ipython",
    "version": 3
   },
   "file_extension": ".py",
   "mimetype": "text/x-python",
   "name": "python",
   "nbconvert_exporter": "python",
   "pygments_lexer": "ipython3",
   "version": "3.9.16"
  },
  "widgets": {
   "application/vnd.jupyter.widget-state+json": {
    "state": {
     "005015deb8ed4e23b7d4574f2cbe25cb": {
      "model_module": "@jupyter-widgets/base",
      "model_module_version": "1.2.0",
      "model_name": "LayoutModel",
      "state": {}
     },
     "01c3d0e9e27b4a3186d2feffbc205709": {
      "model_module": "@jupyter-widgets/controls",
      "model_module_version": "1.5.0",
      "model_name": "DescriptionStyleModel",
      "state": {
       "description_width": ""
      }
     },
     "021f4fd25c40412a8a9559f4bf7252c0": {
      "model_module": "@jupyter-widgets/base",
      "model_module_version": "1.2.0",
      "model_name": "LayoutModel",
      "state": {}
     },
     "030d21b63cda4206b9c2ebbe6242b9cd": {
      "model_module": "@jupyter-widgets/controls",
      "model_module_version": "1.5.0",
      "model_name": "HBoxModel",
      "state": {
       "children": [
        "IPY_MODEL_ea90579000664cabb8ba47533b1ac488",
        "IPY_MODEL_feb821894e324b52930aa9b8eb6fdf52",
        "IPY_MODEL_385abeb1f7bd434ba99b4ddc1bfbca50"
       ],
       "layout": "IPY_MODEL_7430287cc69f46608e330fda5e28efab"
      }
     },
     "05cf49d7c1d94838be558c6f68e41215": {
      "model_module": "@jupyter-widgets/controls",
      "model_module_version": "1.5.0",
      "model_name": "ButtonModel",
      "state": {
       "description": "Save image",
       "layout": "IPY_MODEL_cb6f4b73fdd343cc98209f00fadf7004",
       "style": "IPY_MODEL_54c1e29abba2469aa1b057b9261c5c7b",
       "tooltip": "Save current frame to file.\nCurrently .png and .html are supported.\nIt takes a bit time, please be patient."
      }
     },
     "06e6b24e9d9e4550a167c16ba6e7bc2d": {
      "model_module": "@jupyter-widgets/controls",
      "model_module_version": "1.5.0",
      "model_name": "TextModel",
      "state": {
       "description": "Filename: ",
       "layout": "IPY_MODEL_4a7ae313c69f4e8e93f855fe402bee11",
       "style": "IPY_MODEL_66e2c18ccdcb4d8a8b2e1755897a0c1c",
       "value": "screenshot.png"
      }
     },
     "06e797d021164364ba0ac9bafcebc0c4": {
      "model_module": "@jupyter-widgets/controls",
      "model_module_version": "1.5.0",
      "model_name": "FloatSliderModel",
      "state": {
       "description": "Ball size",
       "layout": "IPY_MODEL_d8719fa0e8d54315990d48abd850ad1c",
       "max": 1.5,
       "step": 0.01,
       "style": "IPY_MODEL_38e12b99986c441f807d639e0fdbee41",
       "value": 0.5
      }
     },
     "081016e66791465a9b41c870e85aac5a": {
      "model_module": "@jupyter-widgets/controls",
      "model_module_version": "1.5.0",
      "model_name": "ButtonModel",
      "state": {
       "description": "Save image",
       "layout": "IPY_MODEL_490d123936f84040bb84759488b4f0e8",
       "style": "IPY_MODEL_726c33a2f11d48ffba98b4ea69f0c6e8",
       "tooltip": "Save current frame to file.\nCurrently .png and .html are supported.\nIt takes a bit time, please be patient."
      }
     },
     "082a10d9231c428781e87e3b5a89ce52": {
      "model_module": "@jupyter-widgets/controls",
      "model_module_version": "1.5.0",
      "model_name": "ButtonStyleModel",
      "state": {}
     },
     "087db63012f44fe7bd7bd9637d9f5c46": {
      "model_module": "@jupyter-widgets/base",
      "model_module_version": "1.2.0",
      "model_name": "LayoutModel",
      "state": {}
     },
     "0b3641c5887647e692ac1aa00c5054b5": {
      "model_module": "@jupyter-widgets/controls",
      "model_module_version": "1.5.0",
      "model_name": "CheckboxModel",
      "state": {
       "description": "Show force",
       "disabled": false,
       "layout": "IPY_MODEL_087db63012f44fe7bd7bd9637d9f5c46",
       "style": "IPY_MODEL_bd64b7ab25b1415e9648784a8c15e79f",
       "value": false
      }
     },
     "0ba0e390e5fc44ddb412134154787100": {
      "model_module": "@jupyter-widgets/controls",
      "model_module_version": "1.5.0",
      "model_name": "HBoxModel",
      "state": {
       "children": [
        "IPY_MODEL_6d46bac193e04c9ab373bb454214dfda",
        "IPY_MODEL_8c3533594c474ef783a362cc5243f2eb",
        "IPY_MODEL_206bd1264d5c43a4947a14acd44513b2"
       ],
       "layout": "IPY_MODEL_b322ed9b533d4515bdd4aeabf89418d0"
      }
     },
     "0d242ba36efe43a39d9f7ee7f3482e45": {
      "model_module": "@jupyter-widgets/controls",
      "model_module_version": "1.5.0",
      "model_name": "DescriptionStyleModel",
      "state": {
       "description_width": ""
      }
     },
     "0eacd23398624980aea1c1b07acb8610": {
      "model_module": "@jupyter-widgets/controls",
      "model_module_version": "1.5.0",
      "model_name": "LinkModel",
      "state": {
       "source": [
        "IPY_MODEL_ef3cecfbc74742e99161aa6ee2be2cd5",
        "value"
       ],
       "target": [
        "IPY_MODEL_cc4b886cc8424182b66db222839d18ab",
        "frame"
       ]
      }
     },
     "104971ef56594ba385109721497b22e1": {
      "model_module": "@jupyter-widgets/controls",
      "model_module_version": "1.5.0",
      "model_name": "VBoxModel",
      "state": {
       "children": [
        "IPY_MODEL_2ad6ca1d75854ee593d053553b6ad24a",
        "IPY_MODEL_77f3cc2cad4c4915bf055ff3eac3f900",
        "IPY_MODEL_fa9e7de4f20641f0a1256d45664573ab",
        "IPY_MODEL_58e54e62699c420583695759798b42b6",
        "IPY_MODEL_6948b0f053004c098b8c2f44bd1b1b12",
        "IPY_MODEL_402a95d8b76b4595a54ea8d51d85bb4d",
        "IPY_MODEL_0b3641c5887647e692ac1aa00c5054b5",
        "IPY_MODEL_5657d11c12bf4828a85cc0c2d84e8eaa",
        "IPY_MODEL_1089cef7e66249658a45c6cb821d998a",
        "IPY_MODEL_45ffaa8ea1f24cffa887d29a0e09b757",
        "IPY_MODEL_4dd3d6c997f94ad095607af518c31be6"
       ],
       "layout": "IPY_MODEL_b09b0c811d554f77b8fc593f053e220e"
      }
     },
     "1089cef7e66249658a45c6cb821d998a": {
      "model_module": "@jupyter-widgets/controls",
      "model_module_version": "1.5.0",
      "model_name": "CheckboxModel",
      "state": {
       "description": "Show charge",
       "disabled": false,
       "layout": "IPY_MODEL_22777df229fb43e98248cf5909de604b",
       "style": "IPY_MODEL_b0b73c3964de424c97bdb37f29a6d2e0",
       "value": false
      }
     },
     "10c8886156fe4965be423c5f04743b5d": {
      "model_module": "@jupyter-widgets/controls",
      "model_module_version": "1.5.0",
      "model_name": "SliderStyleModel",
      "state": {
       "description_width": ""
      }
     },
     "11170fe10523439d87299147decf67ca": {
      "model_module": "@jupyter-widgets/controls",
      "model_module_version": "1.5.0",
      "model_name": "IntSliderModel",
      "state": {
       "layout": "IPY_MODEL_fceba1d078ff4db4811380f906a63501",
       "max": 29,
       "style": "IPY_MODEL_ec5c0a7f83db4c409835a70ff7c4321a"
      }
     },
     "11e19e20d499417693572eb50e0a86f7": {
      "model_module": "@jupyter-widgets/controls",
      "model_module_version": "1.5.0",
      "model_name": "ButtonStyleModel",
      "state": {}
     },
     "144c8f7357cc47a7940b24005fcdfc05": {
      "model_module": "@jupyter-widgets/controls",
      "model_module_version": "1.5.0",
      "model_name": "ImageModel",
      "state": {
       "layout": "IPY_MODEL_021f4fd25c40412a8a9559f4bf7252c0",
       "width": "900.0"
      }
     },
     "14e76e8e0d7041e489425e998fa10868": {
      "model_module": "@jupyter-widgets/controls",
      "model_module_version": "1.5.0",
      "model_name": "IntSliderModel",
      "state": {
       "layout": "IPY_MODEL_9ab4bab1a59c40f883d707d322e23961",
       "max": 29,
       "style": "IPY_MODEL_7436cab4132743d587df6126e4e667be"
      }
     },
     "1cc00428c48e4ac8ae7668ca1427554c": {
      "model_module": "@jupyter-widgets/controls",
      "model_module_version": "1.5.0",
      "model_name": "FloatSliderModel",
      "state": {
       "description": "Force scale",
       "layout": "IPY_MODEL_d8c711fd2f8340abb41c10cfe0f016bc",
       "step": 0.1,
       "style": "IPY_MODEL_ca8a2b13e1e94e49a89dd7f3a51ae8b4",
       "value": 0.5
      }
     },
     "1e5905765aca48f19238fff91fcbfe98": {
      "model_module": "@jupyter-widgets/base",
      "model_module_version": "1.2.0",
      "model_name": "LayoutModel",
      "state": {}
     },
     "206bd1264d5c43a4947a14acd44513b2": {
      "model_module": "@jupyter-widgets/controls",
      "model_module_version": "1.5.0",
      "model_name": "HTMLModel",
      "state": {
       "layout": "IPY_MODEL_7922692e637c4878a5c1d682c2e23142",
       "style": "IPY_MODEL_39b219f7bab74916aa87f41c54e07f1e",
       "value": " 9/9 [00:48&lt;00:00,  4.93s/it]"
      }
     },
     "20894a6cd23440de966f359166f5a0ff": {
      "model_module": "@jupyter-widgets/output",
      "model_module_version": "1.0.0",
      "model_name": "OutputModel",
      "state": {
       "layout": "IPY_MODEL_eb43138c434047f48a42cd8a8f455548"
      }
     },
     "22777df229fb43e98248cf5909de604b": {
      "model_module": "@jupyter-widgets/base",
      "model_module_version": "1.2.0",
      "model_name": "LayoutModel",
      "state": {}
     },
     "23841bbd9cae4555bfd00008325ed70f": {
      "model_module": "@jupyter-widgets/base",
      "model_module_version": "1.2.0",
      "model_name": "LayoutModel",
      "state": {}
     },
     "23c69547ee9d4133a7e2bf3fcd16be9e": {
      "model_module": "@jupyter-widgets/controls",
      "model_module_version": "1.5.0",
      "model_name": "DropdownModel",
      "state": {
       "_options_labels": [
        " ",
        "picking",
        "random",
        "uniform",
        "atomindex",
        "residueindex",
        "chainindex",
        "modelindex",
        "sstruc",
        "element",
        "resname",
        "bfactor",
        "hydrophobicity",
        "value",
        "volume",
        "occupancy"
       ],
       "description": "Color scheme",
       "index": 9,
       "layout": "IPY_MODEL_79c13e8de63741cab3db0ef0b02ea68c",
       "style": "IPY_MODEL_cac4a6c806a742d2b7768b5e87fe9c05"
      }
     },
     "277c47a983d54b6d8e37d6ea3cb3efbd": {
      "model_module": "@jupyter-widgets/controls",
      "model_module_version": "1.5.0",
      "model_name": "ProgressStyleModel",
      "state": {
       "description_width": ""
      }
     },
     "27825b8913cd48bbb55acbbf2e8d3171": {
      "model_module": "@jupyter-widgets/base",
      "model_module_version": "1.2.0",
      "model_name": "LayoutModel",
      "state": {}
     },
     "279c3189a1a749a8a9aacb311034e8e0": {
      "model_module": "@jupyter-widgets/controls",
      "model_module_version": "1.5.0",
      "model_name": "HBoxModel",
      "state": {
       "children": [
        "IPY_MODEL_78123669ed034c3699ca5f4294af97b9",
        "IPY_MODEL_05cf49d7c1d94838be558c6f68e41215"
       ],
       "layout": "IPY_MODEL_65b3679007ce4de2a5e6be64b9e1ea92"
      }
     },
     "286cafb8d81d4be78d3e7aef60219c27": {
      "model_module": "@jupyter-widgets/controls",
      "model_module_version": "1.5.0",
      "model_name": "VBoxModel",
      "state": {
       "children": [
        "IPY_MODEL_ca413da4a0e44297b83e3c3ed4393d52",
        "IPY_MODEL_23c69547ee9d4133a7e2bf3fcd16be9e",
        "IPY_MODEL_44e80d7eb3524062ae6891fe22ffb91e",
        "IPY_MODEL_5150bcffee4442488108658854585863",
        "IPY_MODEL_06e6b24e9d9e4550a167c16ba6e7bc2d",
        "IPY_MODEL_d4c966c0891045e1ace81b4f097d942d",
        "IPY_MODEL_c6a29e10ede6463f9f9e8dc42404cfb3",
        "IPY_MODEL_1cc00428c48e4ac8ae7668ca1427554c",
        "IPY_MODEL_46c76f6623f742aba200a06c5b926afb",
        "IPY_MODEL_7eb06c4a6a6f4122ad11725f5b188b94",
        "IPY_MODEL_20894a6cd23440de966f359166f5a0ff"
       ],
       "layout": "IPY_MODEL_a3ac49b228a84354ab2e8dd20b91ab44"
      }
     },
     "2a3a1e59090142f19da3bd1bccf223d1": {
      "model_module": "@jupyter-widgets/base",
      "model_module_version": "1.2.0",
      "model_name": "LayoutModel",
      "state": {}
     },
     "2ad6ca1d75854ee593d053553b6ad24a": {
      "model_module": "@jupyter-widgets/controls",
      "model_module_version": "1.5.0",
      "model_name": "DropdownModel",
      "state": {
       "_options_labels": [
        "All",
        "O",
        "H"
       ],
       "description": "Show",
       "index": 0,
       "layout": "IPY_MODEL_bf0ad8a8505b453b8aca5c9895da0775",
       "style": "IPY_MODEL_cf286eef544a401d8d65b16f55f4ba9b"
      }
     },
     "302435eb257843afadc4a77906d819a4": {
      "model_module": "@jupyter-widgets/base",
      "model_module_version": "1.2.0",
      "model_name": "LayoutModel",
      "state": {
       "width": "34px"
      }
     },
     "305d81a9ccf64ce6afbaa0331e55008f": {
      "model_module": "@jupyter-widgets/base",
      "model_module_version": "1.2.0",
      "model_name": "LayoutModel",
      "state": {}
     },
     "31b5561e1701471b8caac27fdab5a89f": {
      "model_module": "@jupyter-widgets/base",
      "model_module_version": "1.2.0",
      "model_name": "LayoutModel",
      "state": {}
     },
     "32307abbd2ea47d091ad8aeb571ea4f0": {
      "model_module": "@jupyter-widgets/base",
      "model_module_version": "1.2.0",
      "model_name": "LayoutModel",
      "state": {}
     },
     "339a56751cf646aebca43f335c5f4b0e": {
      "model_module": "@jupyter-widgets/base",
      "model_module_version": "1.2.0",
      "model_name": "LayoutModel",
      "state": {}
     },
     "34e5e547f973420888f537d13d98b714": {
      "model_module": "@jupyter-widgets/controls",
      "model_module_version": "1.5.0",
      "model_name": "DescriptionStyleModel",
      "state": {
       "description_width": ""
      }
     },
     "355883f0f4e14a039c90a407e6fd565f": {
      "model_module": "@jupyter-widgets/controls",
      "model_module_version": "1.5.0",
      "model_name": "FloatSliderModel",
      "state": {
       "description": "Charge scale",
       "layout": "IPY_MODEL_725941427da84ca78907559ff7d17a09",
       "step": 0.1,
       "style": "IPY_MODEL_af0b7c0b13a444c38994b02ff0942267",
       "value": 1
      }
     },
     "36103a1e67b6419fbd08d0938b6e083c": {
      "model_module": "@jupyter-widgets/controls",
      "model_module_version": "1.5.0",
      "model_name": "ButtonStyleModel",
      "state": {}
     },
     "36c5b75b33cd43a5962c0d0a687da79f": {
      "model_module": "@jupyter-widgets/base",
      "model_module_version": "1.2.0",
      "model_name": "LayoutModel",
      "state": {}
     },
     "36f6343fa14c4d00bd8c7d48a7ee5b1f": {
      "model_module": "@jupyter-widgets/controls",
      "model_module_version": "1.5.0",
      "model_name": "IntSliderModel",
      "state": {
       "layout": "IPY_MODEL_cbb30a9f25a4429cb2d530accd8b3bc5",
       "max": 29,
       "style": "IPY_MODEL_10c8886156fe4965be423c5f04743b5d"
      }
     },
     "385abeb1f7bd434ba99b4ddc1bfbca50": {
      "model_module": "@jupyter-widgets/controls",
      "model_module_version": "1.5.0",
      "model_name": "HTMLModel",
      "state": {
       "layout": "IPY_MODEL_e367001f6a5f46c592ad1bac93fe27be",
       "style": "IPY_MODEL_8f1d4d3dee494fcd8eb8e7d175e06010",
       "value": " 9/9 [00:48&lt;00:00,  5.44s/it]"
      }
     },
     "38e12b99986c441f807d639e0fdbee41": {
      "model_module": "@jupyter-widgets/controls",
      "model_module_version": "1.5.0",
      "model_name": "SliderStyleModel",
      "state": {
       "description_width": ""
      }
     },
     "393814d714e847f498e111bda14461f0": {
      "model_module": "@jupyter-widgets/controls",
      "model_module_version": "1.5.0",
      "model_name": "HBoxModel",
      "state": {
       "children": [
        "IPY_MODEL_4506e410963543fc975af6aae894d320",
        "IPY_MODEL_36f6343fa14c4d00bd8c7d48a7ee5b1f"
       ],
       "layout": "IPY_MODEL_de93f19a08554c2e8dbc6f2994f057a5"
      }
     },
     "39b219f7bab74916aa87f41c54e07f1e": {
      "model_module": "@jupyter-widgets/controls",
      "model_module_version": "1.5.0",
      "model_name": "DescriptionStyleModel",
      "state": {
       "description_width": ""
      }
     },
     "3a60466e66b74e5b855a7007e821e69f": {
      "model_module": "@jupyter-widgets/controls",
      "model_module_version": "1.5.0",
      "model_name": "DescriptionStyleModel",
      "state": {
       "description_width": ""
      }
     },
     "3b959763069a4f588adadc8697ecbf37": {
      "model_module": "@jupyter-widgets/controls",
      "model_module_version": "1.5.0",
      "model_name": "SliderStyleModel",
      "state": {
       "description_width": ""
      }
     },
     "3f3c5a6416b84632a5aa1625568d9567": {
      "model_module": "@jupyter-widgets/controls",
      "model_module_version": "1.5.0",
      "model_name": "HBoxModel",
      "state": {
       "children": [
        "IPY_MODEL_a834ec59f8d743749af16f27f9d85f41",
        "IPY_MODEL_14e76e8e0d7041e489425e998fa10868"
       ],
       "layout": "IPY_MODEL_36c5b75b33cd43a5962c0d0a687da79f"
      }
     },
     "4017b430c24548319918fdd464be3cd4": {
      "model_module": "@jupyter-widgets/base",
      "model_module_version": "1.2.0",
      "model_name": "LayoutModel",
      "state": {}
     },
     "402a95d8b76b4595a54ea8d51d85bb4d": {
      "model_module": "@jupyter-widgets/controls",
      "model_module_version": "1.5.0",
      "model_name": "HBoxModel",
      "state": {
       "children": [
        "IPY_MODEL_fb75368ed22c4046b15e270e4209c0d3",
        "IPY_MODEL_cfec6473aae24fa8893d4a5dc010d79b"
       ],
       "layout": "IPY_MODEL_c0bb982848234e8daa23eb4da985013b"
      }
     },
     "42e25c6a0ed94d43b77a573650c80291": {
      "model_module": "@jupyter-widgets/base",
      "model_module_version": "1.2.0",
      "model_name": "LayoutModel",
      "state": {}
     },
     "44b9be02f8934c1a99ec9147b8c4ddd2": {
      "model_module": "@jupyter-widgets/base",
      "model_module_version": "1.2.0",
      "model_name": "LayoutModel",
      "state": {}
     },
     "44e80d7eb3524062ae6891fe22ffb91e": {
      "model_module": "@jupyter-widgets/controls",
      "model_module_version": "1.5.0",
      "model_name": "FloatSliderModel",
      "state": {
       "description": "Ball size",
       "layout": "IPY_MODEL_e9ef9b7a84e0411c91ecfe7f87e2af1e",
       "max": 1.5,
       "step": 0.01,
       "style": "IPY_MODEL_7ecbaa2d852a456582df5200a6db4a92",
       "value": 0.5
      }
     },
     "4506e410963543fc975af6aae894d320": {
      "model_module": "@jupyter-widgets/controls",
      "model_module_version": "1.5.0",
      "model_name": "PlayModel",
      "state": {
       "layout": "IPY_MODEL_9c74f1c2dac4475fb0b3578562bbd1b0",
       "max": 29,
       "style": "IPY_MODEL_b14ce7413e5d422f9b6efcd51c1b8b3f"
      }
     },
     "45ffaa8ea1f24cffa887d29a0e09b757": {
      "model_module": "@jupyter-widgets/controls",
      "model_module_version": "1.5.0",
      "model_name": "FloatSliderModel",
      "state": {
       "description": "Charge scale",
       "layout": "IPY_MODEL_bd1eb07528634815bab9db0162c3b823",
       "step": 0.1,
       "style": "IPY_MODEL_f42867c74f484447aba055ec3429573e",
       "value": 1
      }
     },
     "46c76f6623f742aba200a06c5b926afb": {
      "model_module": "@jupyter-widgets/controls",
      "model_module_version": "1.5.0",
      "model_name": "CheckboxModel",
      "state": {
       "description": "Show charge",
       "disabled": false,
       "layout": "IPY_MODEL_f9d26db34af744b99e594cec00fd6d16",
       "style": "IPY_MODEL_8584fb4098cc41de940afb001ff8410b",
       "value": false
      }
     },
     "47c93867455c423ab27dc27c117d0232": {
      "model_module": "nglview-js-widgets",
      "model_module_version": "3.0.1",
      "model_name": "NGLModel",
      "state": {
       "_camera_orientation": [
        2.251736727042058,
        0,
        0,
        0,
        0,
        2.251736727042058,
        0,
        0,
        0,
        0,
        2.251736727042058,
        0,
        0,
        0,
        0.1795000061392784,
        1
       ],
       "_camera_str": "orthographic",
       "_gui_theme": null,
       "_ibtn_fullscreen": "IPY_MODEL_a2ddde9e45d1430eaea464701d6c564d",
       "_igui": null,
       "_iplayer": "IPY_MODEL_3f3c5a6416b84632a5aa1625568d9567",
       "_ngl_color_dict": {},
       "_ngl_coordinate_resource": {},
       "_ngl_full_stage_parameters": {
        "ambientColor": 14540253,
        "ambientIntensity": 0.2,
        "backgroundColor": "white",
        "cameraEyeSep": 0.3,
        "cameraFov": 40,
        "cameraType": "orthographic",
        "clipDist": 0,
        "clipFar": 100,
        "clipNear": 0,
        "fogFar": 100,
        "fogNear": 50,
        "hoverTimeout": 0,
        "impostor": true,
        "lightColor": 14540253,
        "lightIntensity": 1,
        "mousePreset": "default",
        "panSpeed": 1,
        "quality": "medium",
        "rotateSpeed": 2,
        "sampleLevel": 0,
        "tooltip": true,
        "workerDefault": true,
        "zoomSpeed": 1.2
       },
       "_ngl_msg_archive": [
        {
         "args": [
          {
           "binary": false,
           "data": "MODEL     1\nATOM      1    O MOL     1       0.000   0.000   0.117  1.00  0.00           O  \nATOM      2    H MOL     1       0.000   0.770  -0.476  1.00  0.00           H  \nATOM      3    H MOL     1       0.000  -0.770  -0.476  1.00  0.00           H  \nENDMDL\n",
           "type": "blob"
          }
         ],
         "kwargs": {
          "defaultRepresentation": false,
          "ext": "pdb"
         },
         "methodName": "loadFile",
         "reconstruc_color_scheme": false,
         "target": "Stage",
         "type": "call_method"
        },
        {
         "args": [
          "500px",
          "500px"
         ],
         "kwargs": {},
         "methodName": "setSize",
         "reconstruc_color_scheme": false,
         "target": "Widget",
         "type": "call_method"
        },
        {
         "args": [
          "unitcell"
         ],
         "component_index": 0,
         "kwargs": {
          "sele": "all"
         },
         "methodName": "addRepresentation",
         "reconstruc_color_scheme": false,
         "target": "compList",
         "type": "call_method"
        },
        {
         "args": [
          "spacefill"
         ],
         "component_index": 0,
         "kwargs": {
          "sele": "all"
         },
         "methodName": "addRepresentation",
         "reconstruc_color_scheme": false,
         "target": "compList",
         "type": "call_method"
        },
        {
         "args": [],
         "kwargs": {
          "cameraType": "orthographic"
         },
         "methodName": "setParameters",
         "reconstruc_color_scheme": false,
         "target": "Stage",
         "type": "call_method"
        },
        {
         "args": [
          {
           "clipDist": 0
          }
         ],
         "kwargs": {},
         "methodName": "setParameters",
         "reconstruc_color_scheme": false,
         "target": "Widget",
         "type": "call_method"
        },
        {
         "args": [
          "spacefill",
          0
         ],
         "kwargs": {
          "colorScale": "rainbow",
          "colorScheme": "element",
          "radiusScale": 0.5,
          "radiusType": "covalent"
         },
         "methodName": "updateRepresentationsByName",
         "reconstruc_color_scheme": false,
         "target": "Widget",
         "type": "call_method"
        },
        {
         "args": [
          "this._Q = [[1.0, 0.0, 0.0], [0.0, 1.0, 0.0], [0.0, 0.0, 1.0]]\n    var tooltip = document.createElement('div');\n    Object.assign(tooltip.style, {\n      display: 'none',\n      position: 'fixed',\n      zIndex: 10,\n      pointerEvents: 'none',\n      backgroundColor: 'rgba( 0, 0, 0, 0.6 )',\n      color: 'lightgrey',\n      padding: '8px',\n      fontFamily: 'sans-serif'\n    });\n    document.body.appendChild(tooltip);\n\n    var that = this;\n    this.stage.mouseControls.remove('hoverPick');\n    this.stage.signals.hovered.add(function (pickingProxy) {\n      if (pickingProxy && (pickingProxy.atom || pickingProxy.bond)) {\n        var atom = pickingProxy.atom || pickingProxy.closestBondAtom\n        var mp = pickingProxy.mouse.position\n        //tooltip.innerText = atom.element + ' i=' + atom.index + ' (' + atom.x.toFixed(2) +  ', ' + atom.y.toFixed(2) +  ', ' + atom.z.toFixed(2) + ')'\n        //var pos = that._atoms_pos[atom.index]\n        var Q = that._Q\n        var pos_x = Q[0][0] * atom.x + Q[0][1] * atom.y + Q[0][2] * atom.z \n        var pos_y = Q[1][0] * atom.x + Q[1][1] * atom.y + Q[1][2] * atom.z\n        var pos_z = Q[2][0] * atom.x + Q[2][1] * atom.y + Q[2][2] * atom.z\n        tooltip.innerText = 'i=' + atom.index + ' ' + atom.element + ' (' + pos_x.toFixed(2) +  ', ' + pos_y.toFixed(2) +  ', ' + pos_z.toFixed(2) + ')'\n        tooltip.style.bottom = window.innerHeight - mp.y + 3 + 'px'\n        tooltip.style.left = mp.x + 3 + 'px'\n        tooltip.style.display = 'block'\n      } else {\n        tooltip.style.display = 'none'\n      }\n    });\n    this.stage.tooltip = tooltip;\n    "
         ],
         "kwargs": {},
         "methodName": "executeCode",
         "reconstruc_color_scheme": false,
         "target": "Widget",
         "type": "call_method"
        },
        {
         "args": [
          "ball+stick"
         ],
         "component_index": 0,
         "kwargs": {
          "sele": "all"
         },
         "methodName": "addRepresentation",
         "reconstruc_color_scheme": false,
         "target": "compList",
         "type": "call_method"
        }
       ],
       "_ngl_original_stage_parameters": {
        "ambientColor": 14540253,
        "ambientIntensity": 0.2,
        "backgroundColor": "white",
        "cameraEyeSep": 0.3,
        "cameraFov": 40,
        "cameraType": "perspective",
        "clipDist": 10,
        "clipFar": 100,
        "clipNear": 0,
        "fogFar": 100,
        "fogNear": 50,
        "hoverTimeout": 0,
        "impostor": true,
        "lightColor": 14540253,
        "lightIntensity": 1,
        "mousePreset": "default",
        "panSpeed": 1,
        "quality": "medium",
        "rotateSpeed": 2,
        "sampleLevel": 0,
        "tooltip": true,
        "workerDefault": true,
        "zoomSpeed": 1.2
       },
       "_ngl_repr_dict": {
        "0": {
         "0": {
          "params": {
           "clipCenter": {
            "x": 0,
            "y": 0,
            "z": 0
           },
           "clipNear": 0,
           "clipRadius": 0,
           "colorMode": "hcl",
           "colorReverse": false,
           "colorScale": "",
           "colorScheme": "element",
           "colorValue": "orange",
           "defaultAssembly": "",
           "depthWrite": true,
           "diffuse": 16777215,
           "diffuseInterior": false,
           "disableImpostor": false,
           "disablePicking": false,
           "flatShaded": false,
           "interiorColor": 2236962,
           "interiorDarkening": 0,
           "lazy": false,
           "matrix": {
            "elements": [
             1,
             0,
             0,
             0,
             0,
             1,
             0,
             0,
             0,
             0,
             1,
             0,
             0,
             0,
             0,
             1
            ]
           },
           "metalness": 0,
           "opacity": 1,
           "quality": "medium",
           "radialSegments": 10,
           "radiusData": {},
           "radiusScale": 1,
           "radiusSize": 0.5,
           "radiusType": "vdw",
           "roughness": 0.4,
           "sele": "all",
           "side": "double",
           "sphereDetail": 1,
           "useInteriorColor": true,
           "visible": true,
           "wireframe": false
          },
          "type": "unitcell"
         },
         "1": {
          "params": {
           "assembly": "default",
           "clipCenter": {
            "x": 0,
            "y": 0,
            "z": 0
           },
           "clipNear": 0,
           "clipRadius": 0,
           "colorMode": "hcl",
           "colorReverse": false,
           "colorScale": "rainbow",
           "colorScheme": "element",
           "colorValue": 9474192,
           "defaultAssembly": "",
           "depthWrite": true,
           "diffuse": 16777215,
           "diffuseInterior": false,
           "disableImpostor": false,
           "disablePicking": false,
           "flatShaded": false,
           "interiorColor": 2236962,
           "interiorDarkening": 0,
           "lazy": false,
           "matrix": {
            "elements": [
             1,
             0,
             0,
             0,
             0,
             1,
             0,
             0,
             0,
             0,
             1,
             0,
             0,
             0,
             0,
             1
            ]
           },
           "metalness": 0,
           "opacity": 1,
           "quality": "medium",
           "radiusData": {},
           "radiusScale": 0.5,
           "radiusSize": 1,
           "radiusType": "covalent",
           "roughness": 0.4,
           "sele": "all",
           "side": "double",
           "sphereDetail": 1,
           "useInteriorColor": true,
           "visible": true,
           "wireframe": false
          },
          "type": "spacefill"
         },
         "2": {
          "params": {
           "aspectRatio": 2,
           "assembly": "default",
           "bondScale": 0.4,
           "bondSpacing": 1,
           "clipCenter": {
            "x": 0,
            "y": 0,
            "z": 0
           },
           "clipNear": 0,
           "clipRadius": 0,
           "colorMode": "hcl",
           "colorReverse": false,
           "colorScale": "",
           "colorScheme": "element",
           "colorValue": 9474192,
           "cylinderOnly": false,
           "defaultAssembly": "",
           "depthWrite": true,
           "diffuse": 16777215,
           "diffuseInterior": false,
           "disableImpostor": false,
           "disablePicking": false,
           "flatShaded": false,
           "interiorColor": 2236962,
           "interiorDarkening": 0,
           "lazy": false,
           "lineOnly": false,
           "linewidth": 2,
           "matrix": {
            "elements": [
             1,
             0,
             0,
             0,
             0,
             1,
             0,
             0,
             0,
             0,
             1,
             0,
             0,
             0,
             0,
             1
            ]
           },
           "metalness": 0,
           "multipleBond": "off",
           "opacity": 1,
           "openEnded": true,
           "quality": "medium",
           "radialSegments": 10,
           "radiusData": {},
           "radiusScale": 1,
           "radiusSize": 0.15,
           "radiusType": "size",
           "roughness": 0.4,
           "sele": "all",
           "side": "double",
           "sphereDetail": 1,
           "useInteriorColor": true,
           "visible": true,
           "wireframe": false
          },
          "type": "ball+stick"
         }
        }
       },
       "_ngl_serialize": false,
       "_ngl_version": "2.0.0-dev.36",
       "_ngl_view_id": [
        "FEAA3DEC-137A-4F69-BFDE-8B5C1CD24B91"
       ],
       "_player_dict": {},
       "_scene_position": {},
       "_scene_rotation": {},
       "_synced_model_ids": [],
       "_synced_repr_model_ids": [],
       "_view_height": "",
       "_view_width": "",
       "background": "white",
       "frame": 0,
       "gui_style": null,
       "layout": "IPY_MODEL_a69d166b7ae4424d88a96265073ad1a1",
       "max_frame": 29,
       "n_components": 1,
       "picked": {}
      }
     },
     "490d123936f84040bb84759488b4f0e8": {
      "model_module": "@jupyter-widgets/base",
      "model_module_version": "1.2.0",
      "model_name": "LayoutModel",
      "state": {}
     },
     "4a7ae313c69f4e8e93f855fe402bee11": {
      "model_module": "@jupyter-widgets/base",
      "model_module_version": "1.2.0",
      "model_name": "LayoutModel",
      "state": {}
     },
     "4ba6338815794ba986da2e3dcf877769": {
      "model_module": "nglview-js-widgets",
      "model_module_version": "3.0.1",
      "model_name": "ColormakerRegistryModel",
      "state": {
       "_msg_ar": [],
       "_msg_q": [],
       "_ready": true,
       "layout": "IPY_MODEL_7310972663a14c53b10d1eb2e4bac9a3"
      }
     },
     "4dd3d6c997f94ad095607af518c31be6": {
      "model_module": "@jupyter-widgets/output",
      "model_module_version": "1.0.0",
      "model_name": "OutputModel",
      "state": {
       "layout": "IPY_MODEL_8e658fac68d8422a82087d9b3a277b8b"
      }
     },
     "4e0be8ddb0494b60be3815c28ff0030b": {
      "model_module": "nglview-js-widgets",
      "model_module_version": "3.0.1",
      "model_name": "NGLModel",
      "state": {
       "_camera_orientation": [
        1.3111443813843722,
        0.013578286687418223,
        3.1792370610744785,
        0,
        -0.1074083899129013,
        3.4372108716284986,
        0.02961605898489942,
        0,
        -3.177451195243628,
        -0.11058618043911811,
        1.3108801805486936,
        0,
        0,
        0,
        0,
        1
       ],
       "_camera_str": "orthographic",
       "_gui_theme": null,
       "_ibtn_fullscreen": "IPY_MODEL_aa073b4514a840aba42e9fc7feb1861e",
       "_igui": null,
       "_iplayer": "IPY_MODEL_393814d714e847f498e111bda14461f0",
       "_ngl_color_dict": {},
       "_ngl_coordinate_resource": {},
       "_ngl_full_stage_parameters": {
        "ambientColor": 14540253,
        "ambientIntensity": 0.2,
        "backgroundColor": "white",
        "cameraEyeSep": 0.3,
        "cameraFov": 40,
        "cameraType": "orthographic",
        "clipDist": 0,
        "clipFar": 100,
        "clipNear": 0,
        "fogFar": 100,
        "fogNear": 50,
        "hoverTimeout": 0,
        "impostor": true,
        "lightColor": 14540253,
        "lightIntensity": 1,
        "mousePreset": "default",
        "panSpeed": 1,
        "quality": "medium",
        "rotateSpeed": 2,
        "sampleLevel": 0,
        "tooltip": true,
        "workerDefault": true,
        "zoomSpeed": 1.2
       },
       "_ngl_msg_archive": [
        {
         "args": [
          {
           "binary": false,
           "data": "MODEL     1\nATOM      1    C MOL     1       0.000   0.000   0.000  1.00  0.00           C  \nATOM      2    O MOL     1       0.000   0.000   1.176  1.00  0.00           O  \nATOM      3    O MOL     1       0.000   0.000  -1.176  1.00  0.00           O  \nENDMDL\n",
           "type": "blob"
          }
         ],
         "kwargs": {
          "defaultRepresentation": false,
          "ext": "pdb"
         },
         "methodName": "loadFile",
         "reconstruc_color_scheme": false,
         "target": "Stage",
         "type": "call_method"
        },
        {
         "args": [
          "500px",
          "500px"
         ],
         "kwargs": {},
         "methodName": "setSize",
         "reconstruc_color_scheme": false,
         "target": "Widget",
         "type": "call_method"
        },
        {
         "args": [
          "unitcell"
         ],
         "component_index": 0,
         "kwargs": {
          "sele": "all"
         },
         "methodName": "addRepresentation",
         "reconstruc_color_scheme": false,
         "target": "compList",
         "type": "call_method"
        },
        {
         "args": [
          "spacefill"
         ],
         "component_index": 0,
         "kwargs": {
          "sele": "all"
         },
         "methodName": "addRepresentation",
         "reconstruc_color_scheme": false,
         "target": "compList",
         "type": "call_method"
        },
        {
         "args": [],
         "kwargs": {
          "cameraType": "orthographic"
         },
         "methodName": "setParameters",
         "reconstruc_color_scheme": false,
         "target": "Stage",
         "type": "call_method"
        },
        {
         "args": [
          {
           "clipDist": 0
          }
         ],
         "kwargs": {},
         "methodName": "setParameters",
         "reconstruc_color_scheme": false,
         "target": "Widget",
         "type": "call_method"
        },
        {
         "args": [
          "spacefill",
          0
         ],
         "kwargs": {
          "colorScale": "rainbow",
          "colorScheme": "element",
          "radiusScale": 0.5,
          "radiusType": "covalent"
         },
         "methodName": "updateRepresentationsByName",
         "reconstruc_color_scheme": false,
         "target": "Widget",
         "type": "call_method"
        },
        {
         "args": [
          "this._Q = [[1.0, 0.0, 0.0], [0.0, 1.0, 0.0], [0.0, 0.0, 1.0]]\n    var tooltip = document.createElement('div');\n    Object.assign(tooltip.style, {\n      display: 'none',\n      position: 'fixed',\n      zIndex: 10,\n      pointerEvents: 'none',\n      backgroundColor: 'rgba( 0, 0, 0, 0.6 )',\n      color: 'lightgrey',\n      padding: '8px',\n      fontFamily: 'sans-serif'\n    });\n    document.body.appendChild(tooltip);\n\n    var that = this;\n    this.stage.mouseControls.remove('hoverPick');\n    this.stage.signals.hovered.add(function (pickingProxy) {\n      if (pickingProxy && (pickingProxy.atom || pickingProxy.bond)) {\n        var atom = pickingProxy.atom || pickingProxy.closestBondAtom\n        var mp = pickingProxy.mouse.position\n        //tooltip.innerText = atom.element + ' i=' + atom.index + ' (' + atom.x.toFixed(2) +  ', ' + atom.y.toFixed(2) +  ', ' + atom.z.toFixed(2) + ')'\n        //var pos = that._atoms_pos[atom.index]\n        var Q = that._Q\n        var pos_x = Q[0][0] * atom.x + Q[0][1] * atom.y + Q[0][2] * atom.z \n        var pos_y = Q[1][0] * atom.x + Q[1][1] * atom.y + Q[1][2] * atom.z\n        var pos_z = Q[2][0] * atom.x + Q[2][1] * atom.y + Q[2][2] * atom.z\n        tooltip.innerText = 'i=' + atom.index + ' ' + atom.element + ' (' + pos_x.toFixed(2) +  ', ' + pos_y.toFixed(2) +  ', ' + pos_z.toFixed(2) + ')'\n        tooltip.style.bottom = window.innerHeight - mp.y + 3 + 'px'\n        tooltip.style.left = mp.x + 3 + 'px'\n        tooltip.style.display = 'block'\n      } else {\n        tooltip.style.display = 'none'\n      }\n    });\n    this.stage.tooltip = tooltip;\n    "
         ],
         "kwargs": {},
         "methodName": "executeCode",
         "reconstruc_color_scheme": false,
         "target": "Widget",
         "type": "call_method"
        },
        {
         "args": [
          "ball+stick"
         ],
         "component_index": 0,
         "kwargs": {
          "sele": "all"
         },
         "methodName": "addRepresentation",
         "reconstruc_color_scheme": false,
         "target": "compList",
         "type": "call_method"
        }
       ],
       "_ngl_original_stage_parameters": {
        "ambientColor": 14540253,
        "ambientIntensity": 0.2,
        "backgroundColor": "white",
        "cameraEyeSep": 0.3,
        "cameraFov": 40,
        "cameraType": "perspective",
        "clipDist": 10,
        "clipFar": 100,
        "clipNear": 0,
        "fogFar": 100,
        "fogNear": 50,
        "hoverTimeout": 0,
        "impostor": true,
        "lightColor": 14540253,
        "lightIntensity": 1,
        "mousePreset": "default",
        "panSpeed": 1,
        "quality": "medium",
        "rotateSpeed": 2,
        "sampleLevel": 0,
        "tooltip": true,
        "workerDefault": true,
        "zoomSpeed": 1.2
       },
       "_ngl_repr_dict": {
        "0": {
         "0": {
          "params": {
           "clipCenter": {
            "x": 0,
            "y": 0,
            "z": 0
           },
           "clipNear": 0,
           "clipRadius": 0,
           "colorMode": "hcl",
           "colorReverse": false,
           "colorScale": "",
           "colorScheme": "element",
           "colorValue": "orange",
           "defaultAssembly": "",
           "depthWrite": true,
           "diffuse": 16777215,
           "diffuseInterior": false,
           "disableImpostor": false,
           "disablePicking": false,
           "flatShaded": false,
           "interiorColor": 2236962,
           "interiorDarkening": 0,
           "lazy": false,
           "matrix": {
            "elements": [
             1,
             0,
             0,
             0,
             0,
             1,
             0,
             0,
             0,
             0,
             1,
             0,
             0,
             0,
             0,
             1
            ]
           },
           "metalness": 0,
           "opacity": 1,
           "quality": "medium",
           "radialSegments": 10,
           "radiusData": {},
           "radiusScale": 1,
           "radiusSize": 0.5,
           "radiusType": "vdw",
           "roughness": 0.4,
           "sele": "all",
           "side": "double",
           "sphereDetail": 1,
           "useInteriorColor": true,
           "visible": true,
           "wireframe": false
          },
          "type": "unitcell"
         },
         "1": {
          "params": {
           "assembly": "default",
           "clipCenter": {
            "x": 0,
            "y": 0,
            "z": 0
           },
           "clipNear": 0,
           "clipRadius": 0,
           "colorMode": "hcl",
           "colorReverse": false,
           "colorScale": "rainbow",
           "colorScheme": "element",
           "colorValue": 9474192,
           "defaultAssembly": "",
           "depthWrite": true,
           "diffuse": 16777215,
           "diffuseInterior": false,
           "disableImpostor": false,
           "disablePicking": false,
           "flatShaded": false,
           "interiorColor": 2236962,
           "interiorDarkening": 0,
           "lazy": false,
           "matrix": {
            "elements": [
             1,
             0,
             0,
             0,
             0,
             1,
             0,
             0,
             0,
             0,
             1,
             0,
             0,
             0,
             0,
             1
            ]
           },
           "metalness": 0,
           "opacity": 1,
           "quality": "medium",
           "radiusData": {},
           "radiusScale": 0.5,
           "radiusSize": 1,
           "radiusType": "covalent",
           "roughness": 0.4,
           "sele": "all",
           "side": "double",
           "sphereDetail": 1,
           "useInteriorColor": true,
           "visible": true,
           "wireframe": false
          },
          "type": "spacefill"
         },
         "2": {
          "params": {
           "aspectRatio": 2,
           "assembly": "default",
           "bondScale": 0.4,
           "bondSpacing": 1,
           "clipCenter": {
            "x": 0,
            "y": 0,
            "z": 0
           },
           "clipNear": 0,
           "clipRadius": 0,
           "colorMode": "hcl",
           "colorReverse": false,
           "colorScale": "",
           "colorScheme": "element",
           "colorValue": 9474192,
           "cylinderOnly": false,
           "defaultAssembly": "",
           "depthWrite": true,
           "diffuse": 16777215,
           "diffuseInterior": false,
           "disableImpostor": false,
           "disablePicking": false,
           "flatShaded": false,
           "interiorColor": 2236962,
           "interiorDarkening": 0,
           "lazy": false,
           "lineOnly": false,
           "linewidth": 2,
           "matrix": {
            "elements": [
             1,
             0,
             0,
             0,
             0,
             1,
             0,
             0,
             0,
             0,
             1,
             0,
             0,
             0,
             0,
             1
            ]
           },
           "metalness": 0,
           "multipleBond": "off",
           "opacity": 1,
           "openEnded": true,
           "quality": "medium",
           "radialSegments": 10,
           "radiusData": {},
           "radiusScale": 1,
           "radiusSize": 0.15,
           "radiusType": "size",
           "roughness": 0.4,
           "sele": "all",
           "side": "double",
           "sphereDetail": 1,
           "useInteriorColor": true,
           "visible": true,
           "wireframe": false
          },
          "type": "ball+stick"
         }
        }
       },
       "_ngl_serialize": false,
       "_ngl_version": "2.0.0-dev.36",
       "_ngl_view_id": [
        "87113FEF-34DF-4B14-9A91-C05CE5EE71DB"
       ],
       "_player_dict": {},
       "_scene_position": {},
       "_scene_rotation": {},
       "_synced_model_ids": [],
       "_synced_repr_model_ids": [],
       "_view_height": "",
       "_view_width": "",
       "background": "white",
       "frame": 0,
       "gui_style": null,
       "layout": "IPY_MODEL_42e25c6a0ed94d43b77a573650c80291",
       "max_frame": 29,
       "n_components": 1,
       "picked": {}
      }
     },
     "514dbd8620854ff8af2196ed61f825df": {
      "model_module": "@jupyter-widgets/controls",
      "model_module_version": "1.5.0",
      "model_name": "LinkModel",
      "state": {
       "source": [
        "IPY_MODEL_a834ec59f8d743749af16f27f9d85f41",
        "value"
       ],
       "target": [
        "IPY_MODEL_47c93867455c423ab27dc27c117d0232",
        "frame"
       ]
      }
     },
     "5150bcffee4442488108658854585863": {
      "model_module": "@jupyter-widgets/controls",
      "model_module_version": "1.5.0",
      "model_name": "IntSliderModel",
      "state": {
       "layout": "IPY_MODEL_5269e02431fb40a0ac81fbb97b2e5d18",
       "max": 29,
       "style": "IPY_MODEL_91dbf8f16fa14ef6a717f51e9779f3de"
      }
     },
     "5269e02431fb40a0ac81fbb97b2e5d18": {
      "model_module": "@jupyter-widgets/base",
      "model_module_version": "1.2.0",
      "model_name": "LayoutModel",
      "state": {}
     },
     "54c1e29abba2469aa1b057b9261c5c7b": {
      "model_module": "@jupyter-widgets/controls",
      "model_module_version": "1.5.0",
      "model_name": "ButtonStyleModel",
      "state": {}
     },
     "5657d11c12bf4828a85cc0c2d84e8eaa": {
      "model_module": "@jupyter-widgets/controls",
      "model_module_version": "1.5.0",
      "model_name": "FloatSliderModel",
      "state": {
       "description": "Force scale",
       "layout": "IPY_MODEL_a80ebdb27b4f490bba99689c92280f5f",
       "step": 0.1,
       "style": "IPY_MODEL_993853a691014c85a1ba2cd9fb8d974b",
       "value": 0.5
      }
     },
     "58e54e62699c420583695759798b42b6": {
      "model_module": "@jupyter-widgets/controls",
      "model_module_version": "1.5.0",
      "model_name": "IntSliderModel",
      "state": {
       "layout": "IPY_MODEL_597efba4169748faa2bacea6816558b0",
       "max": 29,
       "style": "IPY_MODEL_f7867f4caf6b4947842071d8cfb7e1f6"
      }
     },
     "597efba4169748faa2bacea6816558b0": {
      "model_module": "@jupyter-widgets/base",
      "model_module_version": "1.2.0",
      "model_name": "LayoutModel",
      "state": {}
     },
     "59dd7582cc5a46ca81ff9e930ee3358a": {
      "model_module": "@jupyter-widgets/base",
      "model_module_version": "1.2.0",
      "model_name": "LayoutModel",
      "state": {}
     },
     "5b4b0742124747e2af37e9626580018b": {
      "model_module": "@jupyter-widgets/controls",
      "model_module_version": "1.5.0",
      "model_name": "DescriptionStyleModel",
      "state": {
       "description_width": ""
      }
     },
     "5d196e8aec9449e4990716ea2a3a81df": {
      "model_module": "@jupyter-widgets/controls",
      "model_module_version": "1.5.0",
      "model_name": "HBoxModel",
      "state": {
       "children": [
        "IPY_MODEL_cc4b886cc8424182b66db222839d18ab",
        "IPY_MODEL_6c97fb64508e4339a8a75e8e24819279"
       ],
       "layout": "IPY_MODEL_f7c050ed89f94d118ebe1babe75d5819"
      }
     },
     "60704efe41b1445884f33d366d9335a0": {
      "model_module": "@jupyter-widgets/controls",
      "model_module_version": "1.5.0",
      "model_name": "ImageModel",
      "state": {
       "layout": "IPY_MODEL_eb4766ba20e846a4b239177a2303e5a8",
       "width": "900.0"
      }
     },
     "607a656695cb4ffb85ac060f1f29d97e": {
      "model_module": "@jupyter-widgets/controls",
      "model_module_version": "1.5.0",
      "model_name": "DropdownModel",
      "state": {
       "_options_labels": [
        "All",
        "O",
        "C",
        "H"
       ],
       "description": "Show",
       "index": 0,
       "layout": "IPY_MODEL_eac5a19351a648eaa549658f5510f081",
       "style": "IPY_MODEL_900a7be8b001438b82437ef5058809be"
      }
     },
     "65b3679007ce4de2a5e6be64b9e1ea92": {
      "model_module": "@jupyter-widgets/base",
      "model_module_version": "1.2.0",
      "model_name": "LayoutModel",
      "state": {}
     },
     "66e2c18ccdcb4d8a8b2e1755897a0c1c": {
      "model_module": "@jupyter-widgets/controls",
      "model_module_version": "1.5.0",
      "model_name": "DescriptionStyleModel",
      "state": {
       "description_width": ""
      }
     },
     "6714b543ce7b43378108fe76881e3c19": {
      "model_module": "@jupyter-widgets/base",
      "model_module_version": "1.2.0",
      "model_name": "LayoutModel",
      "state": {}
     },
     "6752718d3adb4942b62300accb605f60": {
      "model_module": "@jupyter-widgets/base",
      "model_module_version": "1.2.0",
      "model_name": "LayoutModel",
      "state": {}
     },
     "682829c8fb644e74aceae57aa3bb5594": {
      "model_module": "@jupyter-widgets/base",
      "model_module_version": "1.2.0",
      "model_name": "LayoutModel",
      "state": {}
     },
     "6948b0f053004c098b8c2f44bd1b1b12": {
      "model_module": "@jupyter-widgets/controls",
      "model_module_version": "1.5.0",
      "model_name": "TextModel",
      "state": {
       "description": "Filename: ",
       "layout": "IPY_MODEL_23841bbd9cae4555bfd00008325ed70f",
       "style": "IPY_MODEL_87ed4b46243d42caa6a8c33b129718e3",
       "value": "screenshot.png"
      }
     },
     "6c97fb64508e4339a8a75e8e24819279": {
      "model_module": "@jupyter-widgets/controls",
      "model_module_version": "1.5.0",
      "model_name": "VBoxModel",
      "state": {
       "children": [
        "IPY_MODEL_607a656695cb4ffb85ac060f1f29d97e",
        "IPY_MODEL_e617a59a06ae40c7a88c56cc5ab708bf",
        "IPY_MODEL_06e797d021164364ba0ac9bafcebc0c4",
        "IPY_MODEL_11170fe10523439d87299147decf67ca",
        "IPY_MODEL_a8c2b426e2bb4b8296b09b34f04e66ab",
        "IPY_MODEL_279c3189a1a749a8a9aacb311034e8e0",
        "IPY_MODEL_f29a96259e634cf0afd9d795ba2fd9dd",
        "IPY_MODEL_a30023717ba94b2d93397b9e2bd14be0",
        "IPY_MODEL_b1cf2980b045400985988ac6c1a85ae0",
        "IPY_MODEL_355883f0f4e14a039c90a407e6fd565f",
        "IPY_MODEL_98a5c78c438741af8f42ae1354484a20"
       ],
       "layout": "IPY_MODEL_f7a5ba4e2253439895ab7cfbd85f70c2"
      }
     },
     "6d1b6dc3d680412a83bc52040af855de": {
      "model_module": "@jupyter-widgets/controls",
      "model_module_version": "1.5.0",
      "model_name": "LinkModel",
      "state": {
       "source": [
        "IPY_MODEL_4506e410963543fc975af6aae894d320",
        "value"
       ],
       "target": [
        "IPY_MODEL_36f6343fa14c4d00bd8c7d48a7ee5b1f",
        "value"
       ]
      }
     },
     "6d46bac193e04c9ab373bb454214dfda": {
      "model_module": "@jupyter-widgets/controls",
      "model_module_version": "1.5.0",
      "model_name": "HTMLModel",
      "state": {
       "layout": "IPY_MODEL_d18b5a4d77ff4754b60fb41a50ed6359",
       "style": "IPY_MODEL_34e5e547f973420888f537d13d98b714",
       "value": "100%"
      }
     },
     "6e9b04fa09c044df9544925e6e59af97": {
      "model_module": "@jupyter-widgets/controls",
      "model_module_version": "1.5.0",
      "model_name": "DescriptionStyleModel",
      "state": {
       "description_width": ""
      }
     },
     "725941427da84ca78907559ff7d17a09": {
      "model_module": "@jupyter-widgets/base",
      "model_module_version": "1.2.0",
      "model_name": "LayoutModel",
      "state": {}
     },
     "726a119909f248d086743d66bb8c3453": {
      "model_module": "@jupyter-widgets/controls",
      "model_module_version": "1.5.0",
      "model_name": "HBoxModel",
      "state": {
       "children": [
        "IPY_MODEL_47c93867455c423ab27dc27c117d0232",
        "IPY_MODEL_104971ef56594ba385109721497b22e1"
       ],
       "layout": "IPY_MODEL_decb701f360d4f7aa6058d3020d58e7f"
      }
     },
     "726c33a2f11d48ffba98b4ea69f0c6e8": {
      "model_module": "@jupyter-widgets/controls",
      "model_module_version": "1.5.0",
      "model_name": "ButtonStyleModel",
      "state": {}
     },
     "72efc9b91614459cb8293a39b83a44a1": {
      "model_module": "@jupyter-widgets/controls",
      "model_module_version": "1.5.0",
      "model_name": "DescriptionStyleModel",
      "state": {
       "description_width": ""
      }
     },
     "7310972663a14c53b10d1eb2e4bac9a3": {
      "model_module": "@jupyter-widgets/base",
      "model_module_version": "1.2.0",
      "model_name": "LayoutModel",
      "state": {}
     },
     "74250ff14bea496d8e60ff378fbd0e9c": {
      "model_module": "@jupyter-widgets/controls",
      "model_module_version": "1.5.0",
      "model_name": "ButtonStyleModel",
      "state": {}
     },
     "7430287cc69f46608e330fda5e28efab": {
      "model_module": "@jupyter-widgets/base",
      "model_module_version": "1.2.0",
      "model_name": "LayoutModel",
      "state": {}
     },
     "7436cab4132743d587df6126e4e667be": {
      "model_module": "@jupyter-widgets/controls",
      "model_module_version": "1.5.0",
      "model_name": "SliderStyleModel",
      "state": {
       "description_width": ""
      }
     },
     "77f3cc2cad4c4915bf055ff3eac3f900": {
      "model_module": "@jupyter-widgets/controls",
      "model_module_version": "1.5.0",
      "model_name": "DropdownModel",
      "state": {
       "_options_labels": [
        " ",
        "picking",
        "random",
        "uniform",
        "atomindex",
        "residueindex",
        "chainindex",
        "modelindex",
        "sstruc",
        "element",
        "resname",
        "bfactor",
        "hydrophobicity",
        "value",
        "volume",
        "occupancy"
       ],
       "description": "Color scheme",
       "index": 9,
       "layout": "IPY_MODEL_bc30bcedbf67470995f3e0856612cef6",
       "style": "IPY_MODEL_8acbd43bdffa4a4f98a914fd1d319831"
      }
     },
     "78123669ed034c3699ca5f4294af97b9": {
      "model_module": "@jupyter-widgets/controls",
      "model_module_version": "1.5.0",
      "model_name": "ButtonModel",
      "state": {
       "description": "Download image",
       "layout": "IPY_MODEL_4017b430c24548319918fdd464be3cd4",
       "style": "IPY_MODEL_8280f84cec7b4322882fa29503b46213",
       "tooltip": "Download current frame to your local PC"
      }
     },
     "7922692e637c4878a5c1d682c2e23142": {
      "model_module": "@jupyter-widgets/base",
      "model_module_version": "1.2.0",
      "model_name": "LayoutModel",
      "state": {}
     },
     "79c13e8de63741cab3db0ef0b02ea68c": {
      "model_module": "@jupyter-widgets/base",
      "model_module_version": "1.2.0",
      "model_name": "LayoutModel",
      "state": {}
     },
     "7eb06c4a6a6f4122ad11725f5b188b94": {
      "model_module": "@jupyter-widgets/controls",
      "model_module_version": "1.5.0",
      "model_name": "FloatSliderModel",
      "state": {
       "description": "Charge scale",
       "layout": "IPY_MODEL_2a3a1e59090142f19da3bd1bccf223d1",
       "step": 0.1,
       "style": "IPY_MODEL_e5c274090dad41f485a6a0b3ccae48ea",
       "value": 1
      }
     },
     "7ecbaa2d852a456582df5200a6db4a92": {
      "model_module": "@jupyter-widgets/controls",
      "model_module_version": "1.5.0",
      "model_name": "SliderStyleModel",
      "state": {
       "description_width": ""
      }
     },
     "7f65880aea3844f9b7a2e57da2be42e9": {
      "model_module": "@jupyter-widgets/base",
      "model_module_version": "1.2.0",
      "model_name": "LayoutModel",
      "state": {
       "border": "0px solid black"
      }
     },
     "7fa47e993f9a4c7db833093e00c30ba0": {
      "model_module": "@jupyter-widgets/controls",
      "model_module_version": "1.5.0",
      "model_name": "IntSliderModel",
      "state": {
       "layout": "IPY_MODEL_27825b8913cd48bbb55acbbf2e8d3171",
       "max": 29,
       "style": "IPY_MODEL_82df723b6e884c7081208b6808e97886"
      }
     },
     "7fe3ed8f2e4b436dac3c6d13209b3a66": {
      "model_module": "@jupyter-widgets/controls",
      "model_module_version": "1.5.0",
      "model_name": "LinkModel",
      "state": {
       "source": [
        "IPY_MODEL_4506e410963543fc975af6aae894d320",
        "max"
       ],
       "target": [
        "IPY_MODEL_4e0be8ddb0494b60be3815c28ff0030b",
        "max_frame"
       ]
      }
     },
     "81c6a7ed41a149699bcf4c587752f081": {
      "model_module": "@jupyter-widgets/controls",
      "model_module_version": "1.5.0",
      "model_name": "HBoxModel",
      "state": {
       "children": [
        "IPY_MODEL_ef3cecfbc74742e99161aa6ee2be2cd5",
        "IPY_MODEL_7fa47e993f9a4c7db833093e00c30ba0"
       ],
       "layout": "IPY_MODEL_bfdcc45bc3ae4c5db6850bd268f5dc21"
      }
     },
     "8280f84cec7b4322882fa29503b46213": {
      "model_module": "@jupyter-widgets/controls",
      "model_module_version": "1.5.0",
      "model_name": "ButtonStyleModel",
      "state": {}
     },
     "82df723b6e884c7081208b6808e97886": {
      "model_module": "@jupyter-widgets/controls",
      "model_module_version": "1.5.0",
      "model_name": "SliderStyleModel",
      "state": {
       "description_width": ""
      }
     },
     "83e4e99a88734263903a4bd08136c503": {
      "model_module": "@jupyter-widgets/base",
      "model_module_version": "1.2.0",
      "model_name": "LayoutModel",
      "state": {}
     },
     "8584fb4098cc41de940afb001ff8410b": {
      "model_module": "@jupyter-widgets/controls",
      "model_module_version": "1.5.0",
      "model_name": "DescriptionStyleModel",
      "state": {
       "description_width": ""
      }
     },
     "87ed4b46243d42caa6a8c33b129718e3": {
      "model_module": "@jupyter-widgets/controls",
      "model_module_version": "1.5.0",
      "model_name": "DescriptionStyleModel",
      "state": {
       "description_width": ""
      }
     },
     "8acbd43bdffa4a4f98a914fd1d319831": {
      "model_module": "@jupyter-widgets/controls",
      "model_module_version": "1.5.0",
      "model_name": "DescriptionStyleModel",
      "state": {
       "description_width": ""
      }
     },
     "8be1827de50a4286bd1251b08d9b047b": {
      "model_module": "@jupyter-widgets/controls",
      "model_module_version": "1.5.0",
      "model_name": "ProgressStyleModel",
      "state": {
       "description_width": ""
      }
     },
     "8c3533594c474ef783a362cc5243f2eb": {
      "model_module": "@jupyter-widgets/controls",
      "model_module_version": "1.5.0",
      "model_name": "FloatProgressModel",
      "state": {
       "bar_style": "success",
       "layout": "IPY_MODEL_59dd7582cc5a46ca81ff9e930ee3358a",
       "max": 9,
       "style": "IPY_MODEL_8be1827de50a4286bd1251b08d9b047b",
       "value": 9
      }
     },
     "8e658fac68d8422a82087d9b3a277b8b": {
      "model_module": "@jupyter-widgets/base",
      "model_module_version": "1.2.0",
      "model_name": "LayoutModel",
      "state": {
       "border": "0px solid black"
      }
     },
     "8f1d4d3dee494fcd8eb8e7d175e06010": {
      "model_module": "@jupyter-widgets/controls",
      "model_module_version": "1.5.0",
      "model_name": "DescriptionStyleModel",
      "state": {
       "description_width": ""
      }
     },
     "900a7be8b001438b82437ef5058809be": {
      "model_module": "@jupyter-widgets/controls",
      "model_module_version": "1.5.0",
      "model_name": "DescriptionStyleModel",
      "state": {
       "description_width": ""
      }
     },
     "9021a7ee9d7d4292aa7c9d4d7a3d74cd": {
      "model_module": "@jupyter-widgets/controls",
      "model_module_version": "1.5.0",
      "model_name": "LinkModel",
      "state": {
       "source": [
        "IPY_MODEL_a834ec59f8d743749af16f27f9d85f41",
        "value"
       ],
       "target": [
        "IPY_MODEL_14e76e8e0d7041e489425e998fa10868",
        "value"
       ]
      }
     },
     "91dbf8f16fa14ef6a717f51e9779f3de": {
      "model_module": "@jupyter-widgets/controls",
      "model_module_version": "1.5.0",
      "model_name": "SliderStyleModel",
      "state": {
       "description_width": ""
      }
     },
     "934a2702595d497991744835b0f8c691": {
      "model_module": "@jupyter-widgets/controls",
      "model_module_version": "1.5.0",
      "model_name": "HBoxModel",
      "state": {
       "children": [
        "IPY_MODEL_4e0be8ddb0494b60be3815c28ff0030b",
        "IPY_MODEL_286cafb8d81d4be78d3e7aef60219c27"
       ],
       "layout": "IPY_MODEL_94b35a10d8db4943b70e5f59c14318ce"
      }
     },
     "94b35a10d8db4943b70e5f59c14318ce": {
      "model_module": "@jupyter-widgets/base",
      "model_module_version": "1.2.0",
      "model_name": "LayoutModel",
      "state": {}
     },
     "98a5c78c438741af8f42ae1354484a20": {
      "model_module": "@jupyter-widgets/output",
      "model_module_version": "1.0.0",
      "model_name": "OutputModel",
      "state": {
       "layout": "IPY_MODEL_7f65880aea3844f9b7a2e57da2be42e9"
      }
     },
     "993853a691014c85a1ba2cd9fb8d974b": {
      "model_module": "@jupyter-widgets/controls",
      "model_module_version": "1.5.0",
      "model_name": "SliderStyleModel",
      "state": {
       "description_width": ""
      }
     },
     "999f530031924c11a2add323e5c1d2e3": {
      "model_module": "@jupyter-widgets/controls",
      "model_module_version": "1.5.0",
      "model_name": "LinkModel",
      "state": {
       "source": [
        "IPY_MODEL_ef3cecfbc74742e99161aa6ee2be2cd5",
        "value"
       ],
       "target": [
        "IPY_MODEL_7fa47e993f9a4c7db833093e00c30ba0",
        "value"
       ]
      }
     },
     "99aaf1ef3b8e4e4c9148051dc80333fb": {
      "model_module": "@jupyter-widgets/base",
      "model_module_version": "1.2.0",
      "model_name": "LayoutModel",
      "state": {}
     },
     "9ab4bab1a59c40f883d707d322e23961": {
      "model_module": "@jupyter-widgets/base",
      "model_module_version": "1.2.0",
      "model_name": "LayoutModel",
      "state": {}
     },
     "9c74f1c2dac4475fb0b3578562bbd1b0": {
      "model_module": "@jupyter-widgets/base",
      "model_module_version": "1.2.0",
      "model_name": "LayoutModel",
      "state": {}
     },
     "a2ddde9e45d1430eaea464701d6c564d": {
      "model_module": "@jupyter-widgets/controls",
      "model_module_version": "1.5.0",
      "model_name": "ButtonModel",
      "state": {
       "icon": "compress",
       "layout": "IPY_MODEL_adec39dc602842fc9b06fe8a08562bb6",
       "style": "IPY_MODEL_b1288576df8f4e0dbddfc05b09d56e80"
      }
     },
     "a2ffc044aa864e2ba3323ed04728cd6f": {
      "model_module": "@jupyter-widgets/controls",
      "model_module_version": "1.5.0",
      "model_name": "LinkModel",
      "state": {
       "source": [
        "IPY_MODEL_4506e410963543fc975af6aae894d320",
        "value"
       ],
       "target": [
        "IPY_MODEL_4e0be8ddb0494b60be3815c28ff0030b",
        "frame"
       ]
      }
     },
     "a30023717ba94b2d93397b9e2bd14be0": {
      "model_module": "@jupyter-widgets/controls",
      "model_module_version": "1.5.0",
      "model_name": "FloatSliderModel",
      "state": {
       "description": "Force scale",
       "layout": "IPY_MODEL_e7770e0720f84379a5d6ed60198289ae",
       "step": 0.1,
       "style": "IPY_MODEL_c4fc4c42566449d78cb09c0947251c3a",
       "value": 0.5
      }
     },
     "a3ac49b228a84354ab2e8dd20b91ab44": {
      "model_module": "@jupyter-widgets/base",
      "model_module_version": "1.2.0",
      "model_name": "LayoutModel",
      "state": {}
     },
     "a42a35ae012e48118a233e60c0708052": {
      "model_module": "@jupyter-widgets/base",
      "model_module_version": "1.2.0",
      "model_name": "LayoutModel",
      "state": {}
     },
     "a69d166b7ae4424d88a96265073ad1a1": {
      "model_module": "@jupyter-widgets/base",
      "model_module_version": "1.2.0",
      "model_name": "LayoutModel",
      "state": {}
     },
     "a80ebdb27b4f490bba99689c92280f5f": {
      "model_module": "@jupyter-widgets/base",
      "model_module_version": "1.2.0",
      "model_name": "LayoutModel",
      "state": {}
     },
     "a834ec59f8d743749af16f27f9d85f41": {
      "model_module": "@jupyter-widgets/controls",
      "model_module_version": "1.5.0",
      "model_name": "PlayModel",
      "state": {
       "layout": "IPY_MODEL_6714b543ce7b43378108fe76881e3c19",
       "max": 29,
       "style": "IPY_MODEL_5b4b0742124747e2af37e9626580018b"
      }
     },
     "a8c2b426e2bb4b8296b09b34f04e66ab": {
      "model_module": "@jupyter-widgets/controls",
      "model_module_version": "1.5.0",
      "model_name": "TextModel",
      "state": {
       "description": "Filename: ",
       "layout": "IPY_MODEL_1e5905765aca48f19238fff91fcbfe98",
       "style": "IPY_MODEL_3a60466e66b74e5b855a7007e821e69f",
       "value": "screenshot.png"
      }
     },
     "aa073b4514a840aba42e9fc7feb1861e": {
      "model_module": "@jupyter-widgets/controls",
      "model_module_version": "1.5.0",
      "model_name": "ButtonModel",
      "state": {
       "icon": "compress",
       "layout": "IPY_MODEL_ba958ac9d3454b1d9a6ccc27a62b095a",
       "style": "IPY_MODEL_11e19e20d499417693572eb50e0a86f7"
      }
     },
     "ac535cc87a7b44a4bcd7c34f5bfa8c77": {
      "model_module": "@jupyter-widgets/controls",
      "model_module_version": "1.5.0",
      "model_name": "LinkModel",
      "state": {
       "source": [
        "IPY_MODEL_ef3cecfbc74742e99161aa6ee2be2cd5",
        "max"
       ],
       "target": [
        "IPY_MODEL_cc4b886cc8424182b66db222839d18ab",
        "max_frame"
       ]
      }
     },
     "adec39dc602842fc9b06fe8a08562bb6": {
      "model_module": "@jupyter-widgets/base",
      "model_module_version": "1.2.0",
      "model_name": "LayoutModel",
      "state": {
       "width": "34px"
      }
     },
     "aec6867883ef40cab07b7aac6ac4d8d2": {
      "model_module": "@jupyter-widgets/controls",
      "model_module_version": "1.5.0",
      "model_name": "ImageModel",
      "state": {
       "layout": "IPY_MODEL_ca3c1d80cdad488b91c9748f5fd63798",
       "width": "900.0"
      }
     },
     "af0b7c0b13a444c38994b02ff0942267": {
      "model_module": "@jupyter-widgets/controls",
      "model_module_version": "1.5.0",
      "model_name": "SliderStyleModel",
      "state": {
       "description_width": ""
      }
     },
     "b09b0c811d554f77b8fc593f053e220e": {
      "model_module": "@jupyter-widgets/base",
      "model_module_version": "1.2.0",
      "model_name": "LayoutModel",
      "state": {}
     },
     "b0b73c3964de424c97bdb37f29a6d2e0": {
      "model_module": "@jupyter-widgets/controls",
      "model_module_version": "1.5.0",
      "model_name": "DescriptionStyleModel",
      "state": {
       "description_width": ""
      }
     },
     "b1288576df8f4e0dbddfc05b09d56e80": {
      "model_module": "@jupyter-widgets/controls",
      "model_module_version": "1.5.0",
      "model_name": "ButtonStyleModel",
      "state": {}
     },
     "b14ce7413e5d422f9b6efcd51c1b8b3f": {
      "model_module": "@jupyter-widgets/controls",
      "model_module_version": "1.5.0",
      "model_name": "DescriptionStyleModel",
      "state": {
       "description_width": ""
      }
     },
     "b1cf2980b045400985988ac6c1a85ae0": {
      "model_module": "@jupyter-widgets/controls",
      "model_module_version": "1.5.0",
      "model_name": "CheckboxModel",
      "state": {
       "description": "Show charge",
       "disabled": false,
       "layout": "IPY_MODEL_de09543cb0874450ad1b55184d5738a5",
       "style": "IPY_MODEL_72efc9b91614459cb8293a39b83a44a1",
       "value": false
      }
     },
     "b322ed9b533d4515bdd4aeabf89418d0": {
      "model_module": "@jupyter-widgets/base",
      "model_module_version": "1.2.0",
      "model_name": "LayoutModel",
      "state": {}
     },
     "ba958ac9d3454b1d9a6ccc27a62b095a": {
      "model_module": "@jupyter-widgets/base",
      "model_module_version": "1.2.0",
      "model_name": "LayoutModel",
      "state": {
       "width": "34px"
      }
     },
     "bc30bcedbf67470995f3e0856612cef6": {
      "model_module": "@jupyter-widgets/base",
      "model_module_version": "1.2.0",
      "model_name": "LayoutModel",
      "state": {}
     },
     "bd1eb07528634815bab9db0162c3b823": {
      "model_module": "@jupyter-widgets/base",
      "model_module_version": "1.2.0",
      "model_name": "LayoutModel",
      "state": {}
     },
     "bd64b7ab25b1415e9648784a8c15e79f": {
      "model_module": "@jupyter-widgets/controls",
      "model_module_version": "1.5.0",
      "model_name": "DescriptionStyleModel",
      "state": {
       "description_width": ""
      }
     },
     "bf0ad8a8505b453b8aca5c9895da0775": {
      "model_module": "@jupyter-widgets/base",
      "model_module_version": "1.2.0",
      "model_name": "LayoutModel",
      "state": {}
     },
     "bfdcc45bc3ae4c5db6850bd268f5dc21": {
      "model_module": "@jupyter-widgets/base",
      "model_module_version": "1.2.0",
      "model_name": "LayoutModel",
      "state": {}
     },
     "c0bb982848234e8daa23eb4da985013b": {
      "model_module": "@jupyter-widgets/base",
      "model_module_version": "1.2.0",
      "model_name": "LayoutModel",
      "state": {}
     },
     "c186dd55718146b9bc6ee4aeadf80f6a": {
      "model_module": "@jupyter-widgets/controls",
      "model_module_version": "1.5.0",
      "model_name": "ButtonStyleModel",
      "state": {}
     },
     "c4fc4c42566449d78cb09c0947251c3a": {
      "model_module": "@jupyter-widgets/controls",
      "model_module_version": "1.5.0",
      "model_name": "SliderStyleModel",
      "state": {
       "description_width": ""
      }
     },
     "c57fbac4f2b5456ab6a327cba7785938": {
      "model_module": "@jupyter-widgets/controls",
      "model_module_version": "1.5.0",
      "model_name": "DescriptionStyleModel",
      "state": {
       "description_width": ""
      }
     },
     "c6a29e10ede6463f9f9e8dc42404cfb3": {
      "model_module": "@jupyter-widgets/controls",
      "model_module_version": "1.5.0",
      "model_name": "CheckboxModel",
      "state": {
       "description": "Show force",
       "disabled": false,
       "layout": "IPY_MODEL_6752718d3adb4942b62300accb605f60",
       "style": "IPY_MODEL_ed5fd9f5d594490ba0b0415d76677805",
       "value": false
      }
     },
     "ca3c1d80cdad488b91c9748f5fd63798": {
      "model_module": "@jupyter-widgets/base",
      "model_module_version": "1.2.0",
      "model_name": "LayoutModel",
      "state": {}
     },
     "ca413da4a0e44297b83e3c3ed4393d52": {
      "model_module": "@jupyter-widgets/controls",
      "model_module_version": "1.5.0",
      "model_name": "DropdownModel",
      "state": {
       "_options_labels": [
        "All",
        "O",
        "C"
       ],
       "description": "Show",
       "index": 0,
       "layout": "IPY_MODEL_a42a35ae012e48118a233e60c0708052",
       "style": "IPY_MODEL_efa9ab3dba104599a648f27a3fb39a9a"
      }
     },
     "ca8a2b13e1e94e49a89dd7f3a51ae8b4": {
      "model_module": "@jupyter-widgets/controls",
      "model_module_version": "1.5.0",
      "model_name": "SliderStyleModel",
      "state": {
       "description_width": ""
      }
     },
     "cac4a6c806a742d2b7768b5e87fe9c05": {
      "model_module": "@jupyter-widgets/controls",
      "model_module_version": "1.5.0",
      "model_name": "DescriptionStyleModel",
      "state": {
       "description_width": ""
      }
     },
     "cb6f4b73fdd343cc98209f00fadf7004": {
      "model_module": "@jupyter-widgets/base",
      "model_module_version": "1.2.0",
      "model_name": "LayoutModel",
      "state": {}
     },
     "cbb30a9f25a4429cb2d530accd8b3bc5": {
      "model_module": "@jupyter-widgets/base",
      "model_module_version": "1.2.0",
      "model_name": "LayoutModel",
      "state": {}
     },
     "cbcb9ff26d0d491ba994e29e47742ffc": {
      "model_module": "@jupyter-widgets/controls",
      "model_module_version": "1.5.0",
      "model_name": "LinkModel",
      "state": {
       "source": [
        "IPY_MODEL_a834ec59f8d743749af16f27f9d85f41",
        "max"
       ],
       "target": [
        "IPY_MODEL_47c93867455c423ab27dc27c117d0232",
        "max_frame"
       ]
      }
     },
     "cc4b886cc8424182b66db222839d18ab": {
      "model_module": "nglview-js-widgets",
      "model_module_version": "3.0.1",
      "model_name": "NGLModel",
      "state": {
       "_camera_orientation": [
        5.112323903828468,
        0,
        0,
        0,
        0,
        5.112323903828468,
        0,
        0,
        0,
        0,
        5.112323903828468,
        0,
        0.10999998450279236,
        -0.010500013828277588,
        0,
        1
       ],
       "_camera_str": "orthographic",
       "_gui_theme": null,
       "_ibtn_fullscreen": "IPY_MODEL_e4b9fc3ecb744a3aaaf47f8f14a11823",
       "_igui": null,
       "_iplayer": "IPY_MODEL_81c6a7ed41a149699bcf4c587752f081",
       "_ngl_color_dict": {},
       "_ngl_coordinate_resource": {},
       "_ngl_full_stage_parameters": {
        "ambientColor": 14540253,
        "ambientIntensity": 0.2,
        "backgroundColor": "white",
        "cameraEyeSep": 0.3,
        "cameraFov": 40,
        "cameraType": "orthographic",
        "clipDist": 0,
        "clipFar": 100,
        "clipNear": 0,
        "fogFar": 100,
        "fogNear": 50,
        "hoverTimeout": 0,
        "impostor": true,
        "lightColor": 14540253,
        "lightIntensity": 1,
        "mousePreset": "default",
        "panSpeed": 1,
        "quality": "medium",
        "rotateSpeed": 2,
        "sampleLevel": 0,
        "tooltip": true,
        "workerDefault": true,
        "zoomSpeed": 1.2
       },
       "_ngl_msg_archive": [
        {
         "args": [
          {
           "binary": false,
           "data": "MODEL     1\nATOM      1    C MOL     1      -0.047   0.668  -0.000  1.00  0.00           C  \nATOM      2    O MOL     1      -0.042  -0.764  -0.000  1.00  0.00           O  \nATOM      3    H MOL     1      -1.101   0.974  -0.000  1.00  0.00           H  \nATOM      4    H MOL     1       0.881  -1.068   0.000  1.00  0.00           H  \nATOM      5    H MOL     1       0.437   1.089   0.897  1.00  0.00           H  \nATOM      6    H MOL     1       0.437   1.089  -0.897  1.00  0.00           H  \nENDMDL\n",
           "type": "blob"
          }
         ],
         "kwargs": {
          "defaultRepresentation": false,
          "ext": "pdb"
         },
         "methodName": "loadFile",
         "reconstruc_color_scheme": false,
         "target": "Stage",
         "type": "call_method"
        },
        {
         "args": [
          "500px",
          "500px"
         ],
         "kwargs": {},
         "methodName": "setSize",
         "reconstruc_color_scheme": false,
         "target": "Widget",
         "type": "call_method"
        },
        {
         "args": [
          "unitcell"
         ],
         "component_index": 0,
         "kwargs": {
          "sele": "all"
         },
         "methodName": "addRepresentation",
         "reconstruc_color_scheme": false,
         "target": "compList",
         "type": "call_method"
        },
        {
         "args": [
          "spacefill"
         ],
         "component_index": 0,
         "kwargs": {
          "sele": "all"
         },
         "methodName": "addRepresentation",
         "reconstruc_color_scheme": false,
         "target": "compList",
         "type": "call_method"
        },
        {
         "args": [],
         "kwargs": {
          "cameraType": "orthographic"
         },
         "methodName": "setParameters",
         "reconstruc_color_scheme": false,
         "target": "Stage",
         "type": "call_method"
        },
        {
         "args": [
          {
           "clipDist": 0
          }
         ],
         "kwargs": {},
         "methodName": "setParameters",
         "reconstruc_color_scheme": false,
         "target": "Widget",
         "type": "call_method"
        },
        {
         "args": [
          "spacefill",
          0
         ],
         "kwargs": {
          "colorScale": "rainbow",
          "colorScheme": "element",
          "radiusScale": 0.5,
          "radiusType": "covalent"
         },
         "methodName": "updateRepresentationsByName",
         "reconstruc_color_scheme": false,
         "target": "Widget",
         "type": "call_method"
        },
        {
         "args": [
          "this._Q = [[1.0, 0.0, 0.0], [0.0, 1.0, 0.0], [0.0, 0.0, 1.0]]\n    var tooltip = document.createElement('div');\n    Object.assign(tooltip.style, {\n      display: 'none',\n      position: 'fixed',\n      zIndex: 10,\n      pointerEvents: 'none',\n      backgroundColor: 'rgba( 0, 0, 0, 0.6 )',\n      color: 'lightgrey',\n      padding: '8px',\n      fontFamily: 'sans-serif'\n    });\n    document.body.appendChild(tooltip);\n\n    var that = this;\n    this.stage.mouseControls.remove('hoverPick');\n    this.stage.signals.hovered.add(function (pickingProxy) {\n      if (pickingProxy && (pickingProxy.atom || pickingProxy.bond)) {\n        var atom = pickingProxy.atom || pickingProxy.closestBondAtom\n        var mp = pickingProxy.mouse.position\n        //tooltip.innerText = atom.element + ' i=' + atom.index + ' (' + atom.x.toFixed(2) +  ', ' + atom.y.toFixed(2) +  ', ' + atom.z.toFixed(2) + ')'\n        //var pos = that._atoms_pos[atom.index]\n        var Q = that._Q\n        var pos_x = Q[0][0] * atom.x + Q[0][1] * atom.y + Q[0][2] * atom.z \n        var pos_y = Q[1][0] * atom.x + Q[1][1] * atom.y + Q[1][2] * atom.z\n        var pos_z = Q[2][0] * atom.x + Q[2][1] * atom.y + Q[2][2] * atom.z\n        tooltip.innerText = 'i=' + atom.index + ' ' + atom.element + ' (' + pos_x.toFixed(2) +  ', ' + pos_y.toFixed(2) +  ', ' + pos_z.toFixed(2) + ')'\n        tooltip.style.bottom = window.innerHeight - mp.y + 3 + 'px'\n        tooltip.style.left = mp.x + 3 + 'px'\n        tooltip.style.display = 'block'\n      } else {\n        tooltip.style.display = 'none'\n      }\n    });\n    this.stage.tooltip = tooltip;\n    "
         ],
         "kwargs": {},
         "methodName": "executeCode",
         "reconstruc_color_scheme": false,
         "target": "Widget",
         "type": "call_method"
        },
        {
         "args": [
          "ball+stick"
         ],
         "component_index": 0,
         "kwargs": {
          "sele": "all"
         },
         "methodName": "addRepresentation",
         "reconstruc_color_scheme": false,
         "target": "compList",
         "type": "call_method"
        }
       ],
       "_ngl_original_stage_parameters": {
        "ambientColor": 14540253,
        "ambientIntensity": 0.2,
        "backgroundColor": "white",
        "cameraEyeSep": 0.3,
        "cameraFov": 40,
        "cameraType": "perspective",
        "clipDist": 10,
        "clipFar": 100,
        "clipNear": 0,
        "fogFar": 100,
        "fogNear": 50,
        "hoverTimeout": 0,
        "impostor": true,
        "lightColor": 14540253,
        "lightIntensity": 1,
        "mousePreset": "default",
        "panSpeed": 1,
        "quality": "medium",
        "rotateSpeed": 2,
        "sampleLevel": 0,
        "tooltip": true,
        "workerDefault": true,
        "zoomSpeed": 1.2
       },
       "_ngl_repr_dict": {
        "0": {
         "0": {
          "params": {
           "clipCenter": {
            "x": 0,
            "y": 0,
            "z": 0
           },
           "clipNear": 0,
           "clipRadius": 0,
           "colorMode": "hcl",
           "colorReverse": false,
           "colorScale": "",
           "colorScheme": "element",
           "colorValue": "orange",
           "defaultAssembly": "",
           "depthWrite": true,
           "diffuse": 16777215,
           "diffuseInterior": false,
           "disableImpostor": false,
           "disablePicking": false,
           "flatShaded": false,
           "interiorColor": 2236962,
           "interiorDarkening": 0,
           "lazy": false,
           "matrix": {
            "elements": [
             1,
             0,
             0,
             0,
             0,
             1,
             0,
             0,
             0,
             0,
             1,
             0,
             0,
             0,
             0,
             1
            ]
           },
           "metalness": 0,
           "opacity": 1,
           "quality": "medium",
           "radialSegments": 10,
           "radiusData": {},
           "radiusScale": 1,
           "radiusSize": 0.5,
           "radiusType": "vdw",
           "roughness": 0.4,
           "sele": "all",
           "side": "double",
           "sphereDetail": 1,
           "useInteriorColor": true,
           "visible": true,
           "wireframe": false
          },
          "type": "unitcell"
         },
         "1": {
          "params": {
           "assembly": "default",
           "clipCenter": {
            "x": 0,
            "y": 0,
            "z": 0
           },
           "clipNear": 0,
           "clipRadius": 0,
           "colorMode": "hcl",
           "colorReverse": false,
           "colorScale": "rainbow",
           "colorScheme": "element",
           "colorValue": 9474192,
           "defaultAssembly": "",
           "depthWrite": true,
           "diffuse": 16777215,
           "diffuseInterior": false,
           "disableImpostor": false,
           "disablePicking": false,
           "flatShaded": false,
           "interiorColor": 2236962,
           "interiorDarkening": 0,
           "lazy": false,
           "matrix": {
            "elements": [
             1,
             0,
             0,
             0,
             0,
             1,
             0,
             0,
             0,
             0,
             1,
             0,
             0,
             0,
             0,
             1
            ]
           },
           "metalness": 0,
           "opacity": 1,
           "quality": "medium",
           "radiusData": {},
           "radiusScale": 0.5,
           "radiusSize": 1,
           "radiusType": "covalent",
           "roughness": 0.4,
           "sele": "all",
           "side": "double",
           "sphereDetail": 1,
           "useInteriorColor": true,
           "visible": true,
           "wireframe": false
          },
          "type": "spacefill"
         },
         "2": {
          "params": {
           "aspectRatio": 2,
           "assembly": "default",
           "bondScale": 0.4,
           "bondSpacing": 1,
           "clipCenter": {
            "x": 0,
            "y": 0,
            "z": 0
           },
           "clipNear": 0,
           "clipRadius": 0,
           "colorMode": "hcl",
           "colorReverse": false,
           "colorScale": "",
           "colorScheme": "element",
           "colorValue": 9474192,
           "cylinderOnly": false,
           "defaultAssembly": "",
           "depthWrite": true,
           "diffuse": 16777215,
           "diffuseInterior": false,
           "disableImpostor": false,
           "disablePicking": false,
           "flatShaded": false,
           "interiorColor": 2236962,
           "interiorDarkening": 0,
           "lazy": false,
           "lineOnly": false,
           "linewidth": 2,
           "matrix": {
            "elements": [
             1,
             0,
             0,
             0,
             0,
             1,
             0,
             0,
             0,
             0,
             1,
             0,
             0,
             0,
             0,
             1
            ]
           },
           "metalness": 0,
           "multipleBond": "off",
           "opacity": 1,
           "openEnded": true,
           "quality": "medium",
           "radialSegments": 10,
           "radiusData": {},
           "radiusScale": 1,
           "radiusSize": 0.15,
           "radiusType": "size",
           "roughness": 0.4,
           "sele": "all",
           "side": "double",
           "sphereDetail": 1,
           "useInteriorColor": true,
           "visible": true,
           "wireframe": false
          },
          "type": "ball+stick"
         }
        }
       },
       "_ngl_serialize": false,
       "_ngl_version": "2.0.0-dev.36",
       "_ngl_view_id": [
        "7A4E2C4D-2F7D-4BEA-AECE-95FB590FD60E"
       ],
       "_player_dict": {},
       "_scene_position": {},
       "_scene_rotation": {},
       "_synced_model_ids": [],
       "_synced_repr_model_ids": [],
       "_view_height": "",
       "_view_width": "",
       "background": "white",
       "frame": 0,
       "gui_style": null,
       "layout": "IPY_MODEL_682829c8fb644e74aceae57aa3bb5594",
       "max_frame": 29,
       "n_components": 1,
       "picked": {}
      }
     },
     "cef4e76f92594e2c9a6bbb903acd6bda": {
      "model_module": "@jupyter-widgets/controls",
      "model_module_version": "1.5.0",
      "model_name": "LinkModel",
      "state": {
       "source": [
        "IPY_MODEL_14e76e8e0d7041e489425e998fa10868",
        "max"
       ],
       "target": [
        "IPY_MODEL_47c93867455c423ab27dc27c117d0232",
        "max_frame"
       ]
      }
     },
     "cf286eef544a401d8d65b16f55f4ba9b": {
      "model_module": "@jupyter-widgets/controls",
      "model_module_version": "1.5.0",
      "model_name": "DescriptionStyleModel",
      "state": {
       "description_width": ""
      }
     },
     "cfec6473aae24fa8893d4a5dc010d79b": {
      "model_module": "@jupyter-widgets/controls",
      "model_module_version": "1.5.0",
      "model_name": "ButtonModel",
      "state": {
       "description": "Save image",
       "layout": "IPY_MODEL_005015deb8ed4e23b7d4574f2cbe25cb",
       "style": "IPY_MODEL_c186dd55718146b9bc6ee4aeadf80f6a",
       "tooltip": "Save current frame to file.\nCurrently .png and .html are supported.\nIt takes a bit time, please be patient."
      }
     },
     "d18b5a4d77ff4754b60fb41a50ed6359": {
      "model_module": "@jupyter-widgets/base",
      "model_module_version": "1.2.0",
      "model_name": "LayoutModel",
      "state": {}
     },
     "d4c966c0891045e1ace81b4f097d942d": {
      "model_module": "@jupyter-widgets/controls",
      "model_module_version": "1.5.0",
      "model_name": "HBoxModel",
      "state": {
       "children": [
        "IPY_MODEL_ebfb5c647a9e4a89a03a4bb64e78bede",
        "IPY_MODEL_081016e66791465a9b41c870e85aac5a"
       ],
       "layout": "IPY_MODEL_305d81a9ccf64ce6afbaa0331e55008f"
      }
     },
     "d8719fa0e8d54315990d48abd850ad1c": {
      "model_module": "@jupyter-widgets/base",
      "model_module_version": "1.2.0",
      "model_name": "LayoutModel",
      "state": {}
     },
     "d8c711fd2f8340abb41c10cfe0f016bc": {
      "model_module": "@jupyter-widgets/base",
      "model_module_version": "1.2.0",
      "model_name": "LayoutModel",
      "state": {}
     },
     "d975b0c83414421e8b3f8b786e9ebd4f": {
      "model_module": "@jupyter-widgets/base",
      "model_module_version": "1.2.0",
      "model_name": "LayoutModel",
      "state": {}
     },
     "de09543cb0874450ad1b55184d5738a5": {
      "model_module": "@jupyter-widgets/base",
      "model_module_version": "1.2.0",
      "model_name": "LayoutModel",
      "state": {}
     },
     "de93f19a08554c2e8dbc6f2994f057a5": {
      "model_module": "@jupyter-widgets/base",
      "model_module_version": "1.2.0",
      "model_name": "LayoutModel",
      "state": {}
     },
     "decb701f360d4f7aa6058d3020d58e7f": {
      "model_module": "@jupyter-widgets/base",
      "model_module_version": "1.2.0",
      "model_name": "LayoutModel",
      "state": {}
     },
     "e11ab52de8c74fd6ad2c9a5c8542ce15": {
      "model_module": "@jupyter-widgets/controls",
      "model_module_version": "1.5.0",
      "model_name": "LinkModel",
      "state": {
       "source": [
        "IPY_MODEL_36f6343fa14c4d00bd8c7d48a7ee5b1f",
        "max"
       ],
       "target": [
        "IPY_MODEL_4e0be8ddb0494b60be3815c28ff0030b",
        "max_frame"
       ]
      }
     },
     "e367001f6a5f46c592ad1bac93fe27be": {
      "model_module": "@jupyter-widgets/base",
      "model_module_version": "1.2.0",
      "model_name": "LayoutModel",
      "state": {}
     },
     "e4b9fc3ecb744a3aaaf47f8f14a11823": {
      "model_module": "@jupyter-widgets/controls",
      "model_module_version": "1.5.0",
      "model_name": "ButtonModel",
      "state": {
       "icon": "compress",
       "layout": "IPY_MODEL_302435eb257843afadc4a77906d819a4",
       "style": "IPY_MODEL_36103a1e67b6419fbd08d0938b6e083c"
      }
     },
     "e5c274090dad41f485a6a0b3ccae48ea": {
      "model_module": "@jupyter-widgets/controls",
      "model_module_version": "1.5.0",
      "model_name": "SliderStyleModel",
      "state": {
       "description_width": ""
      }
     },
     "e617a59a06ae40c7a88c56cc5ab708bf": {
      "model_module": "@jupyter-widgets/controls",
      "model_module_version": "1.5.0",
      "model_name": "DropdownModel",
      "state": {
       "_options_labels": [
        " ",
        "picking",
        "random",
        "uniform",
        "atomindex",
        "residueindex",
        "chainindex",
        "modelindex",
        "sstruc",
        "element",
        "resname",
        "bfactor",
        "hydrophobicity",
        "value",
        "volume",
        "occupancy"
       ],
       "description": "Color scheme",
       "index": 9,
       "layout": "IPY_MODEL_339a56751cf646aebca43f335c5f4b0e",
       "style": "IPY_MODEL_01c3d0e9e27b4a3186d2feffbc205709"
      }
     },
     "e7770e0720f84379a5d6ed60198289ae": {
      "model_module": "@jupyter-widgets/base",
      "model_module_version": "1.2.0",
      "model_name": "LayoutModel",
      "state": {}
     },
     "e9ef9b7a84e0411c91ecfe7f87e2af1e": {
      "model_module": "@jupyter-widgets/base",
      "model_module_version": "1.2.0",
      "model_name": "LayoutModel",
      "state": {}
     },
     "ea90579000664cabb8ba47533b1ac488": {
      "model_module": "@jupyter-widgets/controls",
      "model_module_version": "1.5.0",
      "model_name": "HTMLModel",
      "state": {
       "layout": "IPY_MODEL_32307abbd2ea47d091ad8aeb571ea4f0",
       "style": "IPY_MODEL_c57fbac4f2b5456ab6a327cba7785938",
       "value": "100%"
      }
     },
     "eac5a19351a648eaa549658f5510f081": {
      "model_module": "@jupyter-widgets/base",
      "model_module_version": "1.2.0",
      "model_name": "LayoutModel",
      "state": {}
     },
     "eb43138c434047f48a42cd8a8f455548": {
      "model_module": "@jupyter-widgets/base",
      "model_module_version": "1.2.0",
      "model_name": "LayoutModel",
      "state": {
       "border": "0px solid black"
      }
     },
     "eb4766ba20e846a4b239177a2303e5a8": {
      "model_module": "@jupyter-widgets/base",
      "model_module_version": "1.2.0",
      "model_name": "LayoutModel",
      "state": {}
     },
     "ebfb5c647a9e4a89a03a4bb64e78bede": {
      "model_module": "@jupyter-widgets/controls",
      "model_module_version": "1.5.0",
      "model_name": "ButtonModel",
      "state": {
       "description": "Download image",
       "layout": "IPY_MODEL_f72709d151104994915c14c0be10b307",
       "style": "IPY_MODEL_74250ff14bea496d8e60ff378fbd0e9c",
       "tooltip": "Download current frame to your local PC"
      }
     },
     "ec5c0a7f83db4c409835a70ff7c4321a": {
      "model_module": "@jupyter-widgets/controls",
      "model_module_version": "1.5.0",
      "model_name": "SliderStyleModel",
      "state": {
       "description_width": ""
      }
     },
     "ed5fd9f5d594490ba0b0415d76677805": {
      "model_module": "@jupyter-widgets/controls",
      "model_module_version": "1.5.0",
      "model_name": "DescriptionStyleModel",
      "state": {
       "description_width": ""
      }
     },
     "ef3cecfbc74742e99161aa6ee2be2cd5": {
      "model_module": "@jupyter-widgets/controls",
      "model_module_version": "1.5.0",
      "model_name": "PlayModel",
      "state": {
       "layout": "IPY_MODEL_99aaf1ef3b8e4e4c9148051dc80333fb",
       "max": 29,
       "style": "IPY_MODEL_6e9b04fa09c044df9544925e6e59af97"
      }
     },
     "efa9ab3dba104599a648f27a3fb39a9a": {
      "model_module": "@jupyter-widgets/controls",
      "model_module_version": "1.5.0",
      "model_name": "DescriptionStyleModel",
      "state": {
       "description_width": ""
      }
     },
     "f29a96259e634cf0afd9d795ba2fd9dd": {
      "model_module": "@jupyter-widgets/controls",
      "model_module_version": "1.5.0",
      "model_name": "CheckboxModel",
      "state": {
       "description": "Show force",
       "disabled": false,
       "layout": "IPY_MODEL_83e4e99a88734263903a4bd08136c503",
       "style": "IPY_MODEL_0d242ba36efe43a39d9f7ee7f3482e45",
       "value": false
      }
     },
     "f3aa63c449a6417dac59a2c6b5fcd408": {
      "model_module": "@jupyter-widgets/controls",
      "model_module_version": "1.5.0",
      "model_name": "LinkModel",
      "state": {
       "source": [
        "IPY_MODEL_7fa47e993f9a4c7db833093e00c30ba0",
        "max"
       ],
       "target": [
        "IPY_MODEL_cc4b886cc8424182b66db222839d18ab",
        "max_frame"
       ]
      }
     },
     "f42867c74f484447aba055ec3429573e": {
      "model_module": "@jupyter-widgets/controls",
      "model_module_version": "1.5.0",
      "model_name": "SliderStyleModel",
      "state": {
       "description_width": ""
      }
     },
     "f72709d151104994915c14c0be10b307": {
      "model_module": "@jupyter-widgets/base",
      "model_module_version": "1.2.0",
      "model_name": "LayoutModel",
      "state": {}
     },
     "f7867f4caf6b4947842071d8cfb7e1f6": {
      "model_module": "@jupyter-widgets/controls",
      "model_module_version": "1.5.0",
      "model_name": "SliderStyleModel",
      "state": {
       "description_width": ""
      }
     },
     "f7a5ba4e2253439895ab7cfbd85f70c2": {
      "model_module": "@jupyter-widgets/base",
      "model_module_version": "1.2.0",
      "model_name": "LayoutModel",
      "state": {}
     },
     "f7c050ed89f94d118ebe1babe75d5819": {
      "model_module": "@jupyter-widgets/base",
      "model_module_version": "1.2.0",
      "model_name": "LayoutModel",
      "state": {}
     },
     "f9d26db34af744b99e594cec00fd6d16": {
      "model_module": "@jupyter-widgets/base",
      "model_module_version": "1.2.0",
      "model_name": "LayoutModel",
      "state": {}
     },
     "fa9e7de4f20641f0a1256d45664573ab": {
      "model_module": "@jupyter-widgets/controls",
      "model_module_version": "1.5.0",
      "model_name": "FloatSliderModel",
      "state": {
       "description": "Ball size",
       "layout": "IPY_MODEL_d975b0c83414421e8b3f8b786e9ebd4f",
       "max": 1.5,
       "step": 0.01,
       "style": "IPY_MODEL_3b959763069a4f588adadc8697ecbf37",
       "value": 0.5
      }
     },
     "fb75368ed22c4046b15e270e4209c0d3": {
      "model_module": "@jupyter-widgets/controls",
      "model_module_version": "1.5.0",
      "model_name": "ButtonModel",
      "state": {
       "description": "Download image",
       "layout": "IPY_MODEL_31b5561e1701471b8caac27fdab5a89f",
       "style": "IPY_MODEL_082a10d9231c428781e87e3b5a89ce52",
       "tooltip": "Download current frame to your local PC"
      }
     },
     "fceba1d078ff4db4811380f906a63501": {
      "model_module": "@jupyter-widgets/base",
      "model_module_version": "1.2.0",
      "model_name": "LayoutModel",
      "state": {}
     },
     "feb821894e324b52930aa9b8eb6fdf52": {
      "model_module": "@jupyter-widgets/controls",
      "model_module_version": "1.5.0",
      "model_name": "FloatProgressModel",
      "state": {
       "bar_style": "success",
       "layout": "IPY_MODEL_44b9be02f8934c1a99ec9147b8c4ddd2",
       "max": 9,
       "style": "IPY_MODEL_277c47a983d54b6d8e37d6ea3cb3efbd",
       "value": 9
      }
     }
    },
    "version_major": 2,
    "version_minor": 0
   }
  }
 },
 "nbformat": 4,
 "nbformat_minor": 5
}

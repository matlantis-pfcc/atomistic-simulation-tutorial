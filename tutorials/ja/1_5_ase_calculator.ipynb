{
 "cells": [
  {
   "cell_type": "markdown",
   "id": "d5a16aad-e7e4-43d0-a29d-92223d426727",
   "metadata": {},
   "source": [
    "# ASE Calculator\n",
    "\n",
    "前節では、ASEのAtomsについての基礎や構造生成方法について学びました。\n",
    "\n",
    "本節では、物理シミュレーションを行う上で必要となる `Calculator` の取り扱い方を学びます。\n",
    "\n",
    " - https://wiki.fysik.dtu.dk/ase/ase/calculators/calculators.html\n",
    "\n",
    "## エネルギー(Energy)\n",
    "\n",
    "系の全エネルギー $E$ (Total energy) は、運動エネルギー $K$ (Kinetic energy)と、ポテンシャルエネルギー $V$ (Potential energy)で表されます。\n",
    "\n",
    "$$ E = K + V $$\n",
    "\n",
    "このうち、原子の運動エネルギー$K$は古典力学の表式を用い以下のように計算できます。\n",
    "\n",
    "$$ K = \\sum_{i=1}^{N} \\frac{1}{2} m_i {\\mathbf{v}}_i^2 = \\sum_{i=1}^{N} \\frac{{\\mathbf{p}}_i^2}{2 m_i}  $$\n",
    "\n",
    "ここで $m_i, \\mathbf{v}_i, \\mathbf{p}_i$ はそれぞれ各原子の質量 (mass) 、速度 (velocity)および運動量 (momenta, $\\mathbf{p}=m\\mathbf{v}$)です。\n",
    "\n",
    "(太字で表されているものはベクトルを表しています、ここでの速度$\\mathbf{v}$や運動量$\\mathbf{p}$はxyz座標の３成分を持っています。)\n",
    "\n",
    "一方で、ポテンシャルエネルギー$V$は、厳密に求めるためには量子力学から導かれる方程式（Schrodinger方程式など、コラム参照)を解く必要があり簡単ではありません。<br/>\n",
    "ポテンシャルエネルギーを求める方法として、高速に計算可能だが適応可能領域に制限のある古典力場から、計算時間はかかるが精度の良いDFT(密度汎関数法)などの量子化学計算を用いる方法まで様々な方法が存在します。（これらの違いは後述します。）\n",
    "\n",
    "では、なぜそもそもエネルギーを知りたいのでしょうか？逆にいうと、エネルギーからどういったことがわかるのでしょうか？代表的なこととして、\n",
    "\n",
    "１つめに、ある**物質の安定構造**を知ることができます。２章でも説明を行うように、自然界で物質がどのような３次元構造をとり安定しているかは自明ではありません。\n",
    "エネルギーが低いか高いかなどをみることで、自然界でその構造が実現するかどうかといった解析を行うことができます。\n",
    "\n",
    "2つめに、**物質の各原子がどのように動くのか**を知ることができます。次節で説明します。"
   ]
  },
  {
   "cell_type": "markdown",
   "id": "28579313-0e8b-4844-a10d-034d56de1c6b",
   "metadata": {},
   "source": [
    "## 力(force)\n",
    "\n",
    "古典力学で、ニュートンの運動方程式は以下のように表されます。\n",
    "\n",
    "$$\\mathbf{F} = m\\mathbf{a}$$\n",
    "\n",
    "この式が表すことは、力(force) $\\mathbf{F}$が与えられると、その系に加わる加速度 $\\mathbf{a}$ がわかるというものです。<br/>\n",
    "各原子の位置$\\mathbf{r}$、速度$\\mathbf{v}$、加速度$\\mathbf{a}$は、以下のような関係です。\n",
    "\n",
    "$$\\mathbf{v} = \\frac{d\\mathbf{r}}{dt}$$\n",
    "$$\\mathbf{a} = \\frac{d\\mathbf{v}}{dt} = \\frac{d^2\\mathbf{r}}{dt^2}$$\n",
    "\n",
    "つまり力がわかると、加速度(=速度がどうかわるか)がわかり、結果位置がどのように時間発展するのかも知ることができます。<br/>\n",
    "※実際にこの方法で時間発展を扱うMD (分子動力学法)は6章で扱います。\n",
    "\n",
    "この力は、ポテンシャルエネルギーの位置微分で表すことができます。\n",
    "\n",
    "$$\\mathbf{F} = -\\frac{\\partial V}{\\partial \\mathbf{r}} $$\n",
    "\n",
    "\n",
    "まとめると、<b>系の時間発展$\\mathbf{r}(t)$を知るために必要な力$\\mathbf{F}$の情報は、ポテンシャルエネルギー$V\\mathbf(r)$がわかれば計算できる。</b>ということになります。\n",
    "\n",
    "[Note] 本チュートリアルでは、簡単のため、[古典力学](https://en.wikipedia.org/wiki/Classical_mechanics)の知識のみで説明を行いました。<br/>\n",
    "[解析力学](https://en.wikipedia.org/wiki/Analytical_mechanics#Hamiltonian_mechanics)を習ったことのある方向けの言葉で説明をすると、ハミルトニアンにより支配方程式が規定されるため、\n",
    "ハミルトニアン(上述のエネルギーに関連する関数)を知ることで系の時間発展を記述することができます。"
   ]
  },
  {
   "cell_type": "markdown",
   "id": "76dd6716-c69a-487a-a775-b45902708306",
   "metadata": {},
   "source": [
    "## Calculatorクラスとは？\n",
    "\n",
    "ここまでで、ポテンシャルエネルギー$V(\\mathbf{r})$が決まれば、物質の支配方程式、すなわちこの世界でどのように物質が動くのか、がわかることを説明しました。\n",
    "\n",
    "**ASEではポテンシャルエネルギーの計算をCalculatorクラスが担当し、Calculatorを切り替えることによってその計算方法を切り替えることができます。**"
   ]
  },
  {
   "cell_type": "markdown",
   "id": "77aab179-d55d-4e31-93ac-afb6b64f5427",
   "metadata": {},
   "source": [
    "１つ例を見てみましょう。<br/>\n",
    "以下はH2 の各エネルギーをMatlantisが提供するPFPのCalculatorを用いて計算しています。\n",
    "\n",
    "詳細な使い方は後述しますが、`atoms.calc`にたいしてCalculatorをセットすることで各種エネルギーの計算ができるようになります。\n",
    "ここでは、\n",
    "\n",
    " - 全エネルギー $E$: `atoms.get_total_energy()`\n",
    " - ポテンシャルエネルギー $V$: `atoms.get_potential_energy()`\n",
    " - 運動エネルギー $K$: `atoms.get_kinetic_energy()`\n",
    "\n",
    "を計算しています。\n",
    "\n"
   ]
  },
  {
   "cell_type": "code",
   "execution_count": 1,
   "id": "dd227b73-0818-422a-b2a3-9baf457efb7e",
   "metadata": {},
   "outputs": [],
   "source": [
    "from ase import Atoms\n",
    "\n",
    "import pfp_api_client\n",
    "from pfp_api_client.pfp.calculators.ase_calculator import ASECalculator\n",
    "from pfp_api_client.pfp.estimator import Estimator, EstimatorCalcMode\n",
    "\n",
    "\n",
    "# print(f\"pfp_api_client: {pfp_api_client.__version__}\")\n",
    "\n",
    "estimator = Estimator()\n",
    "calculator = ASECalculator(estimator)"
   ]
  },
  {
   "cell_type": "code",
   "execution_count": 2,
   "id": "57763d9c-c386-4f68-bc08-8f6650d33c26",
   "metadata": {},
   "outputs": [
    {
     "name": "stdout",
     "output_type": "stream",
     "text": [
      "Total Energy     : -3.808640 eV\n",
      "Kinetic Energy   : 0.009921 eV\n",
      "Potential Energy : -3.818561 eV\n"
     ]
    }
   ],
   "source": [
    "atoms = Atoms(\"H2\", [[0, 0, 0], [1.0, 0, 0]])\n",
    "atoms.set_momenta([[0.1, 0, 0], [-0.1, 0, 0]])\n",
    "atoms.calc = calculator\n",
    "\n",
    "E_tot = atoms.get_total_energy()\n",
    "E_pot = atoms.get_potential_energy()\n",
    "E_kin = atoms.get_kinetic_energy()\n",
    "\n",
    "print(f\"Total Energy     : {E_tot:f} eV\")\n",
    "print(f\"Kinetic Energy   : {E_kin:f} eV\")\n",
    "print(f\"Potential Energy : {E_pot:f} eV\")"
   ]
  },
  {
   "cell_type": "markdown",
   "id": "b27d185b-129f-4fd0-81c8-c7e851e9eb4c",
   "metadata": {},
   "source": [
    "Atomsははじめは初速度0で、運動エネルギーが0 となるため、適当な初速度を `set_momenta` 関数を用いて設定しました。\n",
    "\n",
    "$ E = K + V $ になっているのが確認できます。\n",
    "\n",
    "全エネルギー $E$やポテンシャルエネルギー$V$ の計算で `Calculator`が必要で、`atoms.calc = calculator` の設定がないと計算ができずエラーとなります。"
   ]
  },
  {
   "cell_type": "markdown",
   "id": "5360a3c9-f041-4eb4-b95d-2f1a5a0bb894",
   "metadata": {},
   "source": [
    "## Calculatorの種類\n",
    "\n",
    "ASEでは、古典力場から量子化学計算を用いたCalculatorまで様々なものがサポートされていますが、以下にいくつか例を上げてみます。<br/>\n",
    "\n",
    "ここに示した以外にも多くのCalculatorがサポートされています。詳しくは [Supported calculators](https://wiki.fysik.dtu.dk/ase/ase/calculators/calculators.html#supported-calculators) をご確認ください。\n",
    "\n",
    "\n",
    "<table>\n",
    "  <tr>\n",
    "    <th>カテゴリー</th>\n",
    "    <th>Calculator</th>\n",
    "    <th>ASE組み込み</th>\n",
    "    <th>説明</th>\n",
    "  </tr>\n",
    "  <tr>\n",
    "    <td rowspan=\"4\">古典力場</td>\n",
    "    <td>lj</td>\n",
    "    <td>✓</td>\n",
    "    <td>Lennard-Jones potential</td>\n",
    "  </tr>\n",
    "  <tr>\n",
    "    <td>morse</td>\n",
    "    <td>✓</td>\n",
    "    <td>Morse potential</td>\n",
    "  </tr>\n",
    "  <tr>\n",
    "    <td>emt</td>\n",
    "    <td>✓</td>\n",
    "    <td>Effective Medium Theory calculator</td>\n",
    "  </tr>\n",
    "  <tr>\n",
    "    <td>lammps</td>\n",
    "    <td></td>\n",
    "    <td>Classical molecular dynamics code</td>\n",
    "  </tr>\n",
    "  <tr>\n",
    "    <td rowspan=\"3\">量子化学計算</td>\n",
    "    <td>gaussian</td>\n",
    "    <td></td>\n",
    "    <td>Gaussian based electronic structure code</td>\n",
    "  </tr>\n",
    "  <tr>\n",
    "    <td>vasp</td>\n",
    "    <td></td>\n",
    "    <td>Plane-wave PAW code</td>\n",
    "  </tr>\n",
    "  <tr>\n",
    "    <td>espresso</td>\n",
    "    <td></td>\n",
    "    <td>Plane-wave pseudopotential code</td>\n",
    "  </tr>\n",
    "  <tr>\n",
    "    <td rowspan=\"１\">NNP (Neural Network Potential)</td>\n",
    "      <td><b>PFP</b></td>\n",
    "    <td></td>\n",
    "      <td><a href=\"https://matlantis.com/\">Matlantis</a>の提供するポテンシャル</td>\n",
    "  </tr>\n",
    "</table>\n",
    "\n",
    "上記で、\"ASE組み込み\"に✓のついているものは、ASEをインストールするだけで使用することが可能となりますが、それ以外のCalculatorは外部プログラムをインストールして連携する必要があります。\n",
    "\n",
    "**量子化学計算**を行うタイプのCalculatorは、量子力学から導出されるSchrodinger方程式をある一定の近似のもとで解くことで理論的にポテンシャルを計算します(以下のコラムも参照)。\n",
    "専用のソフトウェアが必要であり計算に時間がかかるものもあります。より精度の高い計算を行いたいときに使用します。<br/>\n",
    "\n",
    "**古典力場**に属するタイプの[Lennard-Jones potential](https://ja.wikipedia.org/wiki/%E3%83%AC%E3%83%8A%E3%83%BC%E3%83%89-%E3%82%B8%E3%83%A7%E3%83%BC%E3%83%B3%E3%82%BA%E3%83%BB%E3%83%9D%E3%83%86%E3%83%B3%E3%82%B7%E3%83%A3%E3%83%AB), [Morse potential](https://ja.wikipedia.org/wiki/%E3%83%A2%E3%83%BC%E3%82%B9%E3%83%9D%E3%83%86%E3%83%B3%E3%82%B7%E3%83%A3%E3%83%AB)などは、人手で作成した(経験的な)関数系を用いてポテンシャルを計算する方法です。\n",
    "計算速度は早いですが、それぞれの手法ごとに対応できる構造や物理現象が異なり、確認が必要です。<br/>\n",
    "\n",
    "**NNP**タイプは、事前にたくさんの量子化学計算などで計算したデータを用意し、入力構造とそのポテンシャルエネルギーの関係を教師あり学習させることにより、高速な計算時間で高精度なポテンシャル予測を行うことを目指しています。\n",
    "NNPについて、詳しくは以下のスライドなども参考にしてください。\n",
    "\n",
    " - [PFP：材料探索のための汎用Neural Network Potential - 2021/10/4 QCMSR + DLAP共催](https://www.slideshare.net/pfi/pfpneural-network-potential-2021104-qcmsr-dlap)"
   ]
  },
  {
   "cell_type": "markdown",
   "id": "3774422d-1072-49e5-aae4-b3c14d730e7c",
   "metadata": {},
   "source": [
    "### ASE組み込みCalculator\n",
    "\n",
    "ここでは[EMT](https://wiki.fysik.dtu.dk/ase/ase/calculators/emt.html#module-ase.calculators.emt) Calculatorを使用してみます。"
   ]
  },
  {
   "cell_type": "code",
   "execution_count": 3,
   "id": "4ff1ee2f-a97d-4e91-bb75-63c19da57c97",
   "metadata": {},
   "outputs": [
    {
     "name": "stdout",
     "output_type": "stream",
     "text": [
      "Potential energy -0.00568 eV\n"
     ]
    }
   ],
   "source": [
    "from ase.build import bulk\n",
    "from ase.calculators.emt import EMT\n",
    "\n",
    "\n",
    "calculator_emt = EMT()\n",
    "\n",
    "atoms = bulk(\"Cu\")\n",
    "atoms.calc = calculator_emt\n",
    "\n",
    "E_pot_emt = atoms.get_potential_energy()\n",
    "print(f\"Potential energy {E_pot_emt:.5f} eV\")"
   ]
  },
  {
   "cell_type": "markdown",
   "id": "2f3918d3-4f52-470d-b1a5-b9ea5b67319b",
   "metadata": {},
   "source": [
    "このようにCalculatorを切り替えて原子シミュレーションを行うことができます。\n",
    "\n",
    "厳密なポテンシャルエネルギー$V(\\mathbf{r})$を高速に計算することができれば、Calculatorを切り替える必要はなく常にそれを用いてシミュレーションを行えば良いのですが、現実では厳密なポテンシャルエネルギーを計算することはできず、その正確さと速度にはトレードオフの関係が存在します。<br/>\n",
    "そのため、原子シミュレーションを行うユーザーが用途に合わせて選択を行う必要があります。"
   ]
  },
  {
   "cell_type": "markdown",
   "id": "f13a287b-6105-4582-ae5d-9f1a38f621f9",
   "metadata": {
    "toc-hr-collapsed": true
   },
   "source": [
    "### PFP\n",
    "\n",
    "Matlantisの提供するPFPは **汎用・高速**で有ることを特徴としており、55元素の組み合わせで様々な構造の系に対して高速に計算を行うことが可能です。<br/>\n",
    "本チュートリアルでは、全体を通して主にPFPのCalculatorを使用します。"
   ]
  },
  {
   "cell_type": "code",
   "execution_count": 4,
   "id": "8931b683-0c51-4a8a-a064-6093ef4ecd44",
   "metadata": {},
   "outputs": [
    {
     "name": "stdout",
     "output_type": "stream",
     "text": [
      "Potential energy -3.07547 eV\n"
     ]
    }
   ],
   "source": [
    "import pfp_api_client\n",
    "from pfp_api_client.pfp.calculators.ase_calculator import ASECalculator\n",
    "from pfp_api_client.pfp.estimator import Estimator, EstimatorCalcMode\n",
    "\n",
    "estimator = Estimator(model_version=\"v2.0.0\")\n",
    "calculator = ASECalculator(estimator)\n",
    "\n",
    "atoms.calc = calculator\n",
    "\n",
    "E_pot_emt = atoms.get_potential_energy()\n",
    "print(f\"Potential energy {E_pot_emt:.5f} eV\")"
   ]
  },
  {
   "cell_type": "markdown",
   "id": "3942e349-127a-46ff-bbad-e52fb30a68bf",
   "metadata": {},
   "source": [
    "上記EMTとPFPではエネルギーの絶対値が大きく違っていますが、系のエネルギーを定義する際にその絶対値はシフトする任意性があります。\n",
    "\n",
    "同じ原子数からなる２つの異なる系のエネルギーの差には意味がありますが、それぞれの絶対値にはあまり意味がないので注意してください。"
   ]
  },
  {
   "cell_type": "markdown",
   "id": "22416d56-5fad-456c-8006-3e6a5ccf1eda",
   "metadata": {},
   "source": [
    "## AtomsとCalculatorの関係\n",
    "\n",
    "ASEライブラリでは、原子構造をAtomsクラスで表し、そこにCalculatorをセットすることでそのAtomsに関する各基本物性値（エネルギー・力・ストレス・電荷など）を計算することができます。<br/>\n",
    "Calculatorをセットする際には `atoms.calc` に対して直接 calculatorをセットします。\n",
    "\n",
    "**Atoms と Calculatorの関係**\n",
    "\n",
    "<img src=\"../assets/ch1/atoms-calculator.png\" width=\"350\"/>\n",
    "\n",
    "Calculatorを経由して計算できる基本物性値と、その計算methodは以下のようになっています。\n",
    "\n",
    " - ポテンシャルエネルギー: `get_potential_energy`\n",
    " - 力: `get_forces`\n",
    " - 応力(ストレス): `get_stress`\n",
    " - 電荷: `get_charges`\n",
    " - 磁気モーメント: `get_magnetic_moment`\n",
    " - 双極子モーメント: `get_dipole_moment`\n"
   ]
  },
  {
   "cell_type": "code",
   "execution_count": 5,
   "id": "f3b1494b-a3fb-4e70-90e7-f8f3d1b2a0c0",
   "metadata": {},
   "outputs": [
    {
     "name": "stdout",
     "output_type": "stream",
     "text": [
      "E_pot -2.2e+01 eV\n",
      "charges [ 1.56390826e-07  4.79747513e-08  1.49468789e-07 -3.53834395e-07] C\n",
      "forces [[ 1.21045008e-06 -1.28531060e-07  1.16374716e-06]\n",
      " [-8.99028036e-07  9.10295516e-07 -7.65895014e-07]\n",
      " [ 8.04090586e-07 -1.76741016e-06  1.52298933e-06]\n",
      " [-1.11551263e-06  9.85645703e-07 -1.92084147e-06]] eV/A\n",
      "stress [-5.98167504e-02 -5.98167416e-02 -5.98167977e-02  9.46340221e-09\n",
      " -2.35475377e-08 -5.36077254e-09] eV/A^2\n"
     ]
    }
   ],
   "source": [
    "calculator = ASECalculator(Estimator())\n",
    "\n",
    "atoms = bulk(\"Pt\") * (2, 2, 1)\n",
    "atoms.calc = calculator\n",
    "\n",
    "E_pot = atoms.get_potential_energy()\n",
    "charges = atoms.get_charges()\n",
    "forces = atoms.get_forces()\n",
    "stress = atoms.get_stress()\n",
    "\n",
    "print(f\"E_pot {E_pot:.2} eV\")\n",
    "print(f\"charges {charges} C\")\n",
    "print(f\"forces {forces} eV/A\")\n",
    "print(f\"stress {stress} eV/A^2\")"
   ]
  },
  {
   "cell_type": "markdown",
   "id": "6d874922-d38f-4001-8bcd-bdadc09868ce",
   "metadata": {},
   "source": [
    "PFP では、 magnetic momentや dipole moment の計算には対応していません。<br/>\n",
    "(magnetic momentは電子状態を表すもので、本チュートリアルのスコープであるAtomistic simulationでは使いません。)"
   ]
  },
  {
   "cell_type": "code",
   "execution_count": 6,
   "id": "f8d03558-7c1d-4bb4-a14c-57b7c8347a12",
   "metadata": {},
   "outputs": [],
   "source": [
    "# Some Calculator supports this, but PFP calculator raises error.\n",
    "\n",
    "# magmom = atoms.get_magnetic_moment()\n",
    "# dipole = atoms.get_dipole_moment()"
   ]
  },
  {
   "cell_type": "markdown",
   "id": "b81653bd-cdd4-4a4d-a1ba-bbbe098eb125",
   "metadata": {},
   "source": [
    "以下の[コラム]はアドバンストな内容を含みます、Tutorialを読み進めていく上ではスキップも可能です。"
   ]
  },
  {
   "cell_type": "markdown",
   "id": "abff57ff-967f-41ca-bc74-04fb70898eaf",
   "metadata": {},
   "source": [
    "## [コラム] Calcultor の計算キャッシュ機能\n",
    "\n",
    "Calculatorは前に計算を行った際の入力原子構造を `calculator.atoms`に、　またそのときの計算結果を `calculator.results` に保持しています。<br/>\n",
    "そのため、以前と全く同じ原子構造に対して物性値の `get_XXX` 関数を呼んだ場合、 **再計算をスキップ** するような仕組みになっています。"
   ]
  },
  {
   "cell_type": "code",
   "execution_count": 7,
   "id": "c4191076-8900-4c36-8000-bc62f08aed50",
   "metadata": {},
   "outputs": [],
   "source": [
    "atoms.calc = calculator\n",
    "calculator.reset()"
   ]
  },
  {
   "cell_type": "code",
   "execution_count": 8,
   "id": "6f774f3b-b5d5-45a0-9e78-6cfb2163720b",
   "metadata": {},
   "outputs": [
    {
     "name": "stdout",
     "output_type": "stream",
     "text": [
      "CPU times: user 3.06 ms, sys: 0 ns, total: 3.06 ms\n",
      "Wall time: 94 ms\n",
      "CPU times: user 375 µs, sys: 61 µs, total: 436 µs\n",
      "Wall time: 383 µs\n"
     ]
    }
   ],
   "source": [
    "%time Epot = atoms.get_potential_energy()\n",
    "%time Epot = atoms.get_potential_energy()"
   ]
  },
  {
   "cell_type": "markdown",
   "id": "bb9a0503-5ab2-45cd-83a3-ec3123801bb4",
   "metadata": {},
   "source": [
    "上記の例でWall timeを比較すると、１回目の実行ではミリ秒オーダーの時間がかかっており計算が実行されていますが、２回めの実行では計算がスキップされているためミリ秒もかからずにエネルギーを得ることができていることがわかります。"
   ]
  },
  {
   "cell_type": "markdown",
   "id": "2123e76d-3ab6-4f9f-8190-2af9a81039a1",
   "metadata": {},
   "source": [
    "`calculator.reset()` を呼ぶことで明示的に計算結果のキャッシュをクリアして再計算を行うこともできます。以下の例では2回めの計算でもミリ秒の計算時間がかかっていることがわかります。"
   ]
  },
  {
   "cell_type": "code",
   "execution_count": 9,
   "id": "4ed8fb95-805b-4d7d-a8fb-33b91202f1f0",
   "metadata": {},
   "outputs": [
    {
     "name": "stdout",
     "output_type": "stream",
     "text": [
      "----- 1st calc -----\n",
      "CPU times: user 3.16 ms, sys: 285 µs, total: 3.44 ms\n",
      "Wall time: 90.3 ms\n",
      "After 1st calc   : {'energy': -21.712707825955075, 'forces': array([[-1.78798193e-07,  8.57089841e-08, -9.71775560e-07],\n",
      "       [-3.81674838e-07,  2.40788247e-07,  4.98792271e-07],\n",
      "       [ 9.00971539e-07, -2.72842101e-07,  1.12511234e-06],\n",
      "       [-3.40498508e-07, -5.36551305e-08, -6.52129048e-07]]), 'charges': array([-2.17493621e-07, -2.45786026e-07, -9.83995818e-09,  4.73119684e-07]), 'calc_stats': {'elapsed_usec_infer': 36693, 'elapsed_usec': 83022, 'elapsed_usec_preprocess': 3930, 'n_neighbors': 400}, 'free_energy': -21.712707825955075, 'stress': array([-5.98166255e-02, -5.98166500e-02, -5.98166300e-02,  4.26570321e-08,\n",
      "       -4.45518682e-08,  3.79886465e-08])}\n",
      "After reset      : {}\n",
      "----- 2nd calc -----\n",
      "CPU times: user 1.66 ms, sys: 0 ns, total: 1.66 ms\n",
      "Wall time: 57.7 ms\n",
      "After 2nd calc   : {'energy': -21.712705946017945, 'forces': array([[ 9.52835494e-08,  9.18911048e-07, -3.93850900e-07],\n",
      "       [-7.98279949e-07, -4.07897529e-07,  1.47059723e-06],\n",
      "       [-3.51072639e-07, -3.76604209e-07,  3.40857921e-07],\n",
      "       [ 1.05406904e-06, -1.34409311e-07, -1.41760425e-06]]), 'charges': array([-2.72528879e-08, -3.71969477e-08, -1.25965400e-07,  1.90415335e-07]), 'calc_stats': {'n_neighbors': 400, 'elapsed_usec_infer': 46355, 'elapsed_usec': 51052, 'elapsed_usec_preprocess': 3135}, 'free_energy': -21.712705946017945, 'stress': array([-5.98171226e-02, -5.98171468e-02, -5.98171011e-02,  1.97083025e-08,\n",
      "       -1.43127693e-08,  1.31512884e-08])}\n"
     ]
    }
   ],
   "source": [
    "calculator.reset()\n",
    "\n",
    "print(\"----- 1st calc -----\")\n",
    "%time Epot = atoms.get_potential_energy()\n",
    "\n",
    "print(f\"After 1st calc   : {calculator.results}\")\n",
    "calculator.reset()\n",
    "print(f\"After reset      : {calculator.results}\")\n",
    "\n",
    "print(\"----- 2nd calc -----\")\n",
    "%time Epot = atoms.get_potential_energy()\n",
    "print(f\"After 2nd calc   : {calculator.results}\")"
   ]
  },
  {
   "cell_type": "markdown",
   "id": "770a4ea3-127c-454c-9209-d0f5576ee6c8",
   "metadata": {},
   "source": [
    "なお、原子構造が少しでも変わった場合には `calculator.result`の結果を破棄し、新しく計算がされます。\n",
    "\n",
    "以下の例では、水素分子の原子間距離を変えて再度 `atoms.get_potential_energy`を呼んでいますが、この場合は入力原子構造が変わったことを `Calculator` が検知して新しく計算を行います。実際にどちらの計算にもミリ秒オーダーのWall timeがかかっていることがわかります。"
   ]
  },
  {
   "cell_type": "code",
   "execution_count": 10,
   "id": "0c2b8005-572a-4baf-9d6c-aa718837740a",
   "metadata": {},
   "outputs": [
    {
     "name": "stdout",
     "output_type": "stream",
     "text": [
      "CPU times: user 3.2 ms, sys: 0 ns, total: 3.2 ms\n",
      "Wall time: 54 ms\n",
      "CPU times: user 2.52 ms, sys: 0 ns, total: 2.52 ms\n",
      "Wall time: 54.1 ms\n",
      "E_pot1 -4.48 eV\n",
      "E_pot2 -0.31 eV\n"
     ]
    }
   ],
   "source": [
    "atoms = Atoms([\"H\", \"H\"], positions=[[0, 0, 0], [0, 0, 0.8]])\n",
    "\n",
    "atoms.calc = calculator\n",
    "%time E_pot1 = atoms.get_potential_energy()\n",
    "# --- calculator.atoms stores the previously calculated atoms\n",
    "# print(calculator.atoms.positions)\n",
    "\n",
    "# Change atomic distance to 2A\n",
    "atoms.positions[1, 2] = 2.0\n",
    "# --- The preveously calculated `calculator.atoms` and current calculate target `atoms` are\n",
    "# different, so calculation is executed.\n",
    "%time E_pot2 = atoms.get_potential_energy()\n",
    "# print(calculator.atoms.positions)\n",
    "\n",
    "print(f\"E_pot1 {E_pot1:.2f} eV\")\n",
    "print(f\"E_pot2 {E_pot2:.2f} eV\")"
   ]
  },
  {
   "cell_type": "markdown",
   "id": "5b337d39-7ede-47a2-a679-a243f341bf77",
   "metadata": {},
   "source": [
    "## [コラム] PFP Calculatorについて\n",
    "\n",
    "※本節はMatlantis固有の挙動の解説です。\n",
    "\n",
    "`pfp-api-client`ライブラリが提供している`ASECalculator`の動作に関する説明を行います。"
   ]
  },
  {
   "cell_type": "markdown",
   "id": "2011cb5c-6719-4592-b7d0-36d7a509824d",
   "metadata": {},
   "source": [
    "PFPでは `potential_energy`, `charge` がNNPのForwardで、`forces`, `stress` がNNPのBackwardで計算されるという挙動になっています。\n",
    "\n",
    "<img src=\"../assets/nnp-calc.png\" width=\"800px\"/>"
   ]
  },
  {
   "cell_type": "markdown",
   "id": "9389bf38-8b30-4ea2-aee2-493005dfa724",
   "metadata": {},
   "source": [
    "## [コラム] 量子化学計算で求めているポテンシャルエネルギーについて\n",
    "\n",
    "冒頭の全エネルギーの説明では、運動エネルギーの表式は出てきましたが、ポテンシャルエネルギーについては表式が出てきておらずCalculatorが計算するものというだけの説明でした。<br/>\n",
    "このポテンシャルエネルギーは理論的にはどのように表されるのでしょうか。\n",
    "\n",
    "\n",
    "\n",
    "原子レベルのミクロなスケールで起こる現象をシミュレーションしたい場合、その電子状態まで考慮してエネルギーなどを求めるには量子力学の理論が必要となります。\n",
    "定常状態の場合、以下で与えられるSchrödinger 方程式によって、系全体の状態を表す波動関数 $\\Phi$、全エネルギー $E$が求まります。\n",
    "\n",
    "$$ \\mathcal{H} | \\Phi \\rangle = E | \\Phi \\rangle $$\n",
    "\n",
    "非相対論に基づき、原子核がM個と電子がN個からなる系を考えた場合のハミルトニアン $\\mathcal{H}$は、[原子単位系](https://ja.wikipedia.org/wiki/%E5%8E%9F%E5%AD%90%E5%8D%98%E4%BD%8D%E7%B3%BB)で以下のようにかけます。\n",
    "\n",
    "$$ \\mathcal{H} = - \\sum_{i=1}^N \\frac{1}{2} \\nabla^2_i - \\sum_{A=1}^M \\frac{1}{2 M_A} \\nabla^2_A - \\sum_{i=1}^N \\sum_{A=1}^M \\frac{Z_A}{r_{iA}} + \\sum_{i=1}^N \\sum_{j>i}^N \\frac{1}{r_{ij}} + \\sum_{A=1}^M \\sum_{B>A}^M \\frac{Z_A Z_B}{R_{AB}} $$\n",
    "\n",
    " - $M_A$: 原子核 $A$ の質量\n",
    " - $R_{AB}$: 原子核 $A$ と原子核 $B$ の距離\n",
    " - $r_{Ai}$: 原子核　$A$ と電子 $i$ の距離\n",
    " - $r_{ij}$: 電子 $i$ と電子 $j$ の距離\n",
    " - $Z_A$: 原子核$A$ の原子番号 = 陽子の数\n",
    "\n",
    "であり、電子はすべて電荷 -1 です。\n",
    "\n",
    "１項目は電子の運動エネルギー、2項目は原子核の運動エネルギー、3項目は電子と原子核の静電相互作用エネルギー、４項目は電子同士の静電相互作用エネルギー、5項目は原子核同士の静電相互作用エネルギーに対応しています。\n",
    "\n",
    "これをこのまま解くのは難しいため、 **Born-Oppenheimer 近似** を行うことが慣例となります。<br/>\n",
    "電子は原子核に比べてとても軽いため、原子核よりも早く動きます。\n",
    "そのため、原子は完全に静止しているとして、その時の電子の定常状態を求めるというものです。\n",
    "\n",
    "そうするとN個の電子に対するSchrödinger方程式は\n",
    "\n",
    "$$ \\mathcal{H}_{\\rm{elec}} = - \\sum_{i=1}^N \\frac{1}{2} \\nabla^2_i - \\sum_{i=1}^N \\sum_{A=1}^M \\frac{Z_A}{r_{iA}} + \\sum_{i=1}^N \\sum_{j>i}^N \\frac{1}{r_{ij}} $$\n",
    "\n",
    "として、以下のようにかけます。\n",
    "\n",
    "$$ \\mathcal{H}_{\\rm{elec}} | \\Phi_{\\rm{elec}} \\rangle = E_{\\rm{elec}} | \\Phi_{\\rm{elec}} \\rangle \\tag{1} $$\n",
    "\n",
    "原子核が静止しているときの全エネルギーは、\n",
    "\n",
    "$$ V = E_{\\rm{elec}} + \\sum_{A=1}^M \\sum_{B>A}^M \\frac{Z_A Z_B}{R_{AB}} $$\n",
    "\n",
    "とかけます。これが、ポテンシャルエネルギーと対応付けられます。\n",
    "\n",
    "これを解くことができれば、古典力場のようにパラメータを導入することなく、量子力学という基本法則のみからポテンシャルエネルギーを得ることができるはずです。\n",
    "「基礎物理定数以外の実験値に依存しない量子力学に基づいた計算手法」は[第一原理計算](https://ja.wikipedia.org/wiki/%E7%AC%AC%E4%B8%80%E5%8E%9F%E7%90%86%E8%A8%88%E7%AE%97) (first-principles calculation, *ab initio* calculation)と呼ばれます。\n",
    "\n",
    "現実問題としては、この電子系に対するSchrödinger方程式 (1) は厳密に解くことはできないことが知られており、手法により様々な近似・仮定を置くことで解いています。\n",
    "Hartree-Fock法、DFT(密度汎関数法)などがその代表例です。\n",
    "\n",
    "ということで、ASEの扱うポテンシャルエネルギー $V$ というのは、電子・原子核の静電potential+電子の運動エネルギーを含む値になっていて、運動エネルギー $K$は原子核のみの運動エネルギーと捉えることができます。\n",
    "\n",
    "\n",
    "[参考文献]\n",
    "\n",
    " - \"MODERN QUANTUM CHEMISTRY Introduction to Advanced Electronic Structure Theory\", Attila Szabo and Neil S. Ostlund "
   ]
  }
 ],
 "metadata": {
  "kernelspec": {
   "display_name": "Python 3.9",
   "language": "python",
   "name": "python39"
  },
  "language_info": {
   "codemirror_mode": {
    "name": "ipython",
    "version": 3
   },
   "file_extension": ".py",
   "mimetype": "text/x-python",
   "name": "python",
   "nbconvert_exporter": "python",
   "pygments_lexer": "ipython3",
   "version": "3.9.16"
  },
  "widgets": {
   "application/vnd.jupyter.widget-state+json": {
    "state": {},
    "version_major": 2,
    "version_minor": 0
   }
  }
 },
 "nbformat": 4,
 "nbformat_minor": 5
}

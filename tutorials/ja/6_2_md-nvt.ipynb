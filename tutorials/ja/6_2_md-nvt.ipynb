{
 "cells": [
  {
   "cell_type": "markdown",
   "id": "4c74ad8c-bcdd-429c-8c82-33b30f63869d",
   "metadata": {
    "tags": []
   },
   "source": [
    "# カノニカル（NVT）アンサンブル\n",
    "\n",
    "## TL;DR\n",
    "\n",
    "- NVT-MDシミュレーションは温度および体積を一定とするシミュレーションで、体積変化や温度変化を無視したいときに使える計算方法。\n",
    "- 用途としては固体中のイオン拡散、スラブ構造表面での吸着や反応、クラスター上の吸着や反応など。\n",
    "- NVT-MDシミュレーションの方法は温度をコントロールする熱浴法によりバリエーションがいくつか存在し、Berendsen熱浴、Langevin熱浴、NoseHoover熱浴などが一般的でASEにも実装されている。\n",
    "- Berendsen熱浴法は簡便で収束性も良いが、系全体の原子の速度分布を一律に変更するため不自然な現象が起こり得る。\n",
    "- Langevin熱浴法は統計的手法で適切にサンプリングされたランダム力を個々の原子に与えることで温度を制御する。各原子を個別に制御するため混相のようなものでも適切に扱える。計算を繰り返しても同じ軌道を再現しないため精密に軌道を解析するのには不向き。\n",
    "- Nosé–Hoover熱浴法は最も汎用的に利用される温度制御法のひとつ。原理的に正しいNVTアンサンブルを再現するが特殊な系で例外が存在する。\n",
    "\n",
    "</br>\n",
    "\n",
    "前節ではMDシミュレーションの最もシンプルな形であるNVEアンサンブルのMDシミュレーションついて学びました。\n",
    "\n",
    "つづいて、よく使われる状態分布のひとつである[カノニカルアンサンブル](https://ja.wikipedia.org/wiki/%E6%AD%A3%E6%BA%96%E9%9B%86%E5%9B%A3)（正準状態分布とも呼びます）におけるMDシミュレーションについて説明します。カノニカルアンサンブルは粒子数（N）、体積（V）、温度（T）が一定の統計力学的な状態分布です。検討したい対象で体積変化が無視できるような場合に適用されます。たとえば比較的低温領域で体積膨張が無視できるようなシミュレーションが良い例になります。\n",
    "\n",
    "いくつかの実践的な具体的な例を通して、代表的な手法についてみていきましょう。"
   ]
  },
  {
   "cell_type": "markdown",
   "id": "96d0c657-0793-408d-b92e-5e4a862ed75c",
   "metadata": {
    "tags": []
   },
   "source": [
    "## 計算事例１： fcc-Alの溶融\n",
    "\n",
    "一つ目の事例として6-1節で扱った金属アルミニウムの溶融状態の計算方法についてみてみましょう。\n",
    "\n",
    "6-1節では金属アルミニウムが十分に溶融して見えるように1600 Kという高い初期温度でシミュレーションを行いました。しかし、**今回は初期温度を1000 K**で計算してみます。NVEアンサンブルでの計算方法は前節と一緒で温度を1000 Kに設定するだけです。これを実行した結果が以下のようになります。"
   ]
  },
  {
   "cell_type": "markdown",
   "id": "bf3e4431-c18d-4abf-b2e7-d0024663621c",
   "metadata": {
    "tags": []
   },
   "source": [
    "<br>\n",
    "<figure style=\"text-align:center\">\n",
    "  <img src=\"../assets/ch6/Fig6-2_fcc-Al_NVE_1000Kstart.png\" alt=\"fcc-Al_NVE_1000Kstart\">\n",
    "  <figcaption>Fig6-2a. Fcc-Al in NVE ensemble starting at 1000 K</figcaption>\n",
    "  <figcaption>(File: ../input/ch6/6-2_fcc-Al_NVE_1000Kstart.traj)</figcaption>\n",
    "</figure>"
   ]
  },
  {
   "cell_type": "markdown",
   "id": "49e2c0a3-f0ad-4f11-9dd7-55060462932a",
   "metadata": {
    "tags": []
   },
   "source": [
    "確かに格子はだいぶ揺らいではいますが、元のFCCの結晶構造が明らかに見て取れると思います。Alの融点は933 Kですが、初期温度1000 Kでは不十分なようです。\n",
    "\n",
    "続いてNVTアンサンブルで設定温度1000 Kで実行してみます。計算方法は以下のとおりです。計算時間は最初のNVEアンサンブルの計算と殆ど変わらないと思います。"
   ]
  },
  {
   "cell_type": "code",
   "execution_count": 1,
   "id": "8c566581-49c3-4727-8081-53b782c7d40d",
   "metadata": {
    "tags": []
   },
   "outputs": [
    {
     "name": "stdout",
     "output_type": "stream",
     "text": [
      "atoms =  Atoms(symbols='Al108', pbc=True, cell=[12.899999999999999, 12.899999999999999, 12.899999999999999])\n",
      "taut = 1.000\n",
      "output_filename =  ./output/ch6/fcc-Al_NVT-Berendsen_1000K\n",
      "log_filename =  ./output/ch6/fcc-Al_NVT-Berendsen_1000K.log\n",
      "traj_filename =  ./output/ch6/fcc-Al_NVT-Berendsen_1000K.traj\n",
      "    imd     Etot(eV)    T(K)    stress(mean,xx,yy,zz,yz,xz,xy)(GPa)  elapsed_time(sec)\n",
      "    0   23.764    1000.00    7.17  7.19  7.18  7.14  -0.03  0.10  -0.04    0.002\n",
      "  10000   45.661    997.10    0.06  -0.03  0.23  -0.00  0.49  0.11  -0.68    6.141\n",
      "  20000   40.488    1001.20    1.28  0.95  1.39  1.49  0.07  0.31  -0.22    12.240\n",
      "  30000   42.446    999.51    0.91  0.35  1.33  1.06  -0.07  0.11  0.36    19.200\n",
      "  40000   44.621    1000.50    0.39  0.66  -0.03  0.55  0.69  0.27  0.51    28.047\n",
      "  50000   41.777    1002.44    1.03  1.36  1.23  0.49  0.02  -0.12  0.16    37.952\n",
      "  60000   43.185    1001.37    0.70  0.61  0.86  0.62  -0.45  0.17  0.24    46.973\n",
      "  70000   42.578    1005.13    0.82  0.74  0.88  0.83  -0.08  0.35  0.48    56.703\n",
      "  80000   44.024    998.34    0.28  -0.25  0.38  0.71  -0.21  -0.69  0.41    64.885\n",
      "  90000   43.371    999.74    0.55  0.46  0.54  0.64  0.30  -0.07  -0.64    73.537\n",
      "  100000   41.107    1002.71    1.25  1.90  0.63  1.22  0.00  -0.09  0.13    81.986\n",
      "  110000   42.462    999.09    0.77  0.79  0.85  0.68  0.18  -0.04  -0.13    90.240\n",
      "  120000   40.450    1000.00    1.06  1.76  0.66  0.75  -0.20  0.19  -0.05    99.628\n",
      "  130000   43.466    997.90    0.43  0.24  0.58  0.46  -0.48  0.59  -0.04    108.143\n",
      "  140000   42.179    998.05    0.92  0.51  1.05  1.21  -0.15  0.55  0.14    116.789\n",
      "  150000   42.484    1001.88    0.80  0.86  0.96  0.59  -0.16  0.38  -0.31    125.978\n",
      "  160000   41.827    996.92    0.81  0.73  0.83  0.89  0.37  0.22  0.41    134.414\n",
      "  170000   44.053    998.86    0.61  0.58  0.46  0.78  0.02  -0.22  0.16    142.578\n",
      "  180000   43.217    1002.70    0.61  1.13  0.75  -0.06  0.19  -0.56  -0.02    151.821\n",
      "  190000   44.495    1007.19    0.09  -0.33  0.42  0.17  -0.33  -0.06  0.12    160.257\n",
      "  200000   44.564    1006.14    0.37  0.84  0.23  0.05  -0.24  -0.03  0.07    168.267\n",
      "  210000   43.669    999.60    0.67  0.57  0.43  1.02  -0.14  0.25  -0.38    176.887\n",
      "  220000   42.006    1004.46    1.07  0.60  1.05  1.55  -0.23  -0.08  0.20    185.297\n",
      "  230000   43.512    1002.65    0.60  0.25  1.34  0.21  -0.11  0.18  -0.24    193.943\n",
      "  240000   42.741    1000.95    0.78  0.67  0.73  0.95  0.35  0.08  -0.13    202.552\n",
      "  250000   43.862    996.97    0.25  0.15  0.47  0.12  0.12  0.24  0.17    211.166\n",
      "  260000   43.631    1001.84    0.41  0.47  0.21  0.54  -0.07  0.19  0.37    220.092\n",
      "  270000   42.637    1005.87    0.61  0.68  0.99  0.15  0.48  0.24  0.56    229.247\n",
      "  280000   42.994    1002.63    0.83  0.29  1.52  0.69  -0.04  0.53  0.26    237.561\n",
      "  290000   42.622    996.87    0.72  0.19  1.38  0.58  -0.18  -0.29  -0.46    245.825\n",
      "  300000   42.120    1000.96    0.97  1.40  0.48  1.03  0.10  0.44  0.35    253.356\n",
      "  310000   41.948    999.98    0.91  1.08  0.95  0.72  0.31  0.07  0.05    261.935\n",
      "  320000   42.457    1003.75    0.83  0.66  1.23  0.59  -0.27  -0.01  -0.36    331.649\n",
      "  330000   43.615    1003.10    0.44  0.73  0.12  0.47  0.07  -0.15  0.47    363.026\n",
      "  340000   42.523    1001.14    0.64  0.59  0.62  0.69  -0.03  -0.09  -0.03    370.787\n",
      "  350000   42.058    999.63    0.89  0.86  1.11  0.71  -0.28  0.54  -0.31    379.067\n",
      "  360000   43.424    997.89    0.59  0.68  0.27  0.81  0.09  0.11  -0.25    387.963\n",
      "  370000   42.529    999.25    0.73  0.66  0.79  0.73  0.50  0.10  -0.42    394.554\n",
      "  380000   41.670    999.99    1.05  1.11  0.43  1.60  0.27  0.13  0.07    400.607\n",
      "  390000   42.868    994.82    0.61  -0.16  1.12  0.87  -0.03  0.28  -0.01    406.777\n",
      "  400000   42.262    998.90    0.96  0.88  0.61  1.38  -0.29  -0.25  -0.56    412.805\n",
      "  410000   42.061    998.11    0.80  0.94  1.11  0.35  0.08  -0.03  0.33    418.863\n",
      "  420000   42.227    1001.73    0.75  1.20  1.13  -0.09  0.23  -0.38  -0.10    425.068\n",
      "  430000   43.208    1006.62    0.57  0.54  0.70  0.47  -0.44  -0.59  0.03    431.148\n",
      "  440000   41.026    999.03    1.25  1.19  1.05  1.52  -0.05  -0.42  -0.11    437.426\n",
      "  450000   40.831    999.36    1.20  0.89  1.80  0.90  0.27  -0.10  0.21    443.452\n",
      "  460000   42.171    997.59    0.75  0.98  0.19  1.08  -0.09  -0.37  0.10    449.604\n",
      "  470000   42.703    1004.33    0.78  0.77  1.00  0.56  -0.00  0.51  0.10    455.938\n",
      "  480000   42.322    1005.63    0.90  0.50  1.15  1.07  -0.16  -0.15  0.30    461.979\n",
      "  490000   44.869    1006.86    0.33  0.54  0.10  0.34  0.07  0.05  0.76    468.042\n",
      "  500000   43.368    999.61    0.56  0.78  0.32  0.57  -0.08  -0.53  0.10    474.149\n",
      "  510000   42.557    1001.21    0.77  1.26  0.57  0.48  0.04  0.07  0.22    480.161\n",
      "  520000   43.193    1000.85    0.40  -0.39  0.64  0.94  -0.21  -0.38  0.30    486.252\n",
      "  530000   43.417    999.61    0.69  0.92  0.60  0.54  -0.25  0.27  0.11    492.244\n",
      "  540000   41.011    1001.73    1.10  0.95  1.22  1.13  -0.10  -0.16  0.27    498.538\n",
      "  550000   42.295    999.79    0.95  1.03  1.10  0.71  0.28  0.27  0.12    504.475\n",
      "  560000   42.773    1002.67    0.61  1.17  0.57  0.10  0.32  0.07  -0.28    510.951\n",
      "  570000   42.253    1000.13    0.85  0.80  1.03  0.73  0.13  0.37  0.18    517.089\n",
      "  580000   43.353    996.70    0.56  0.90  0.33  0.47  0.24  -0.01  0.16    523.234\n",
      "  590000   42.717    1001.11    0.68  0.63  0.96  0.44  -0.12  0.19  0.23    529.451\n",
      "  600000   41.756    996.23    1.04  0.50  1.59  1.04  0.33  -0.20  -0.09    535.695\n",
      "  610000   42.011    998.61    0.89  0.77  1.21  0.70  0.25  -0.38  -0.03    541.673\n",
      "  620000   43.435    1003.28    0.58  0.48  1.07  0.20  0.15  -0.06  0.23    547.782\n",
      "  630000   44.957    996.35    0.30  0.45  0.35  0.11  0.05  0.06  -0.35    553.840\n",
      "  640000   42.937    996.20    0.65  0.43  0.75  0.76  0.23  -0.56  -0.36    559.810\n",
      "  650000   42.769    1001.59    0.67  0.13  1.44  0.45  -0.42  -0.27  0.38    565.347\n",
      "  660000   43.322    1004.52    0.59  0.56  0.05  1.16  -0.09  0.16  -0.03    582.402\n",
      "  670000   41.388    997.71    1.05  0.72  1.17  1.26  -0.12  0.03  0.03    587.981\n",
      "  680000   41.888    1001.65    1.02  0.73  1.00  1.33  0.02  -0.13  -0.31    593.655\n",
      "  690000   42.636    1000.20    0.91  0.97  0.98  0.76  0.32  -0.13  -0.10    599.724\n",
      "  700000   43.108    992.74    0.67  0.99  0.49  0.51  -0.15  0.36  0.45    604.735\n",
      "  710000   43.644    1010.39    0.62  1.07  0.64  0.15  -0.37  -0.22  -0.21    607.843\n",
      "  720000   44.271    1004.63    0.27  0.03  0.26  0.51  -0.02  0.12  -0.41    611.116\n",
      "  730000   42.490    1003.67    0.97  0.28  1.53  1.10  -0.17  0.41  0.79    614.577\n",
      "  740000   43.006    1001.16    0.46  0.61  0.24  0.52  -0.04  0.09  -0.17    618.229\n",
      "  750000   42.048    994.53    0.89  0.70  0.87  1.11  -0.01  -0.18  0.23    621.761\n",
      "  760000   42.784    1004.37    0.82  1.08  0.46  0.93  -0.24  -0.15  0.10    625.236\n",
      "  770000   45.002    993.18    -0.04  0.44  -0.66  0.09  -0.09  0.54  0.17    629.138\n",
      "  780000   41.006    999.13    1.04  1.17  1.20  0.76  0.56  -0.23  0.36    632.664\n",
      "  790000   44.627    998.88    0.29  0.11  0.84  -0.08  0.42  -0.49  0.28    635.900\n",
      "  800000   43.433    1004.60    0.83  0.64  0.98  0.86  -0.02  0.23  0.01    639.517\n",
      "  810000   42.961    996.03    0.83  0.63  0.69  1.16  -0.08  0.44  0.24    642.676\n",
      "  820000   43.261    1008.76    0.47  0.20  0.56  0.64  -0.17  0.01  0.29    646.588\n",
      "  830000   44.443    998.68    0.19  0.47  -0.28  0.39  0.03  0.14  0.10    650.348\n",
      "  840000   43.358    1000.20    0.49  0.61  0.17  0.70  0.00  0.12  0.18    654.203\n",
      "  850000   40.909    999.72    1.21  1.41  1.07  1.16  0.45  -0.10  0.03    657.643\n",
      "  860000   41.880    1001.53    0.87  1.55  -0.20  1.26  -0.19  0.30  -0.33    661.020\n",
      "  870000   42.494    1001.03    0.64  1.11  -0.10  0.90  -0.38  -0.14  0.43    664.592\n",
      "  880000   42.393    999.43    0.71  0.99  0.85  0.28  -0.21  0.06  -0.37    668.199\n",
      "  890000   43.094    999.00    0.55  0.19  0.72  0.75  -0.19  0.15  0.08    671.932\n",
      "  900000   42.943    994.53    0.79  0.87  1.23  0.25  -0.20  -0.23  0.14    675.086\n",
      "  910000   44.272    999.36    0.31  -0.25  1.01  0.17  -0.01  0.33  -0.22    678.699\n",
      "  920000   42.750    994.83    0.76  0.56  0.97  0.76  0.10  -0.10  -0.11    681.836\n",
      "  930000   43.651    995.37    0.45  0.95  1.06  -0.65  -0.31  0.29  -0.05    685.068\n",
      "  940000   41.926    999.87    1.09  1.37  1.19  0.72  -0.30  -0.62  0.15    688.486\n",
      "  950000   42.630    1000.63    0.80  0.42  0.94  1.05  0.08  0.08  0.41    691.777\n",
      "  960000   44.108    999.31    0.40  0.54  0.40  0.26  0.22  -0.30  -0.54    695.243\n",
      "  970000   42.049    995.80    0.95  1.31  1.07  0.46  -0.21  0.07  0.47    698.910\n",
      "  980000   40.368    997.00    1.30  1.65  0.95  1.31  0.23  -0.49  0.37    702.153\n",
      "  990000   43.381    993.22    0.50  0.72  0.89  -0.10  -0.54  -0.12  -0.11    705.736\n",
      "  1000000   42.183    1002.23    0.88  0.89  1.06  0.70  -0.15  -0.01  -0.21    709.365\n"
     ]
    },
    {
     "data": {
      "text/plain": [
       "True"
      ]
     },
     "execution_count": 1,
     "metadata": {},
     "output_type": "execute_result"
    }
   ],
   "source": [
    "import os\n",
    "from asap3 import EMT\n",
    "calculator = EMT()\n",
    "\n",
    "import ase\n",
    "from ase.build import bulk\n",
    "from ase.md.velocitydistribution import MaxwellBoltzmannDistribution,Stationary\n",
    "from ase.md.nvtberendsen import NVTBerendsen\n",
    "from ase.md import MDLogger\n",
    "from ase import units\n",
    "from time import perf_counter\n",
    "\n",
    "# Set up a crystal\n",
    "atoms = bulk(\"Al\",\"fcc\",a=4.3,cubic=True)\n",
    "atoms.pbc = True\n",
    "atoms *= 3\n",
    "print(\"atoms = \",atoms)\n",
    "\n",
    "# input parameters\n",
    "time_step    = 1.0    # fsec\n",
    "temperature  = 1000    # Kelvin\n",
    "num_md_steps = 1000000 \n",
    "num_interval = 10000\n",
    "taut         = 1.0    # fs\n",
    "    \n",
    "atoms.calc = calculator\n",
    "    \n",
    "print(f\"taut = {taut:.3f}\")\n",
    "\n",
    "output_filename = \"./output/ch6/fcc-Al_NVT-Berendsen_1000K\"\n",
    "print(\"output_filename = \",output_filename)\n",
    "\n",
    "log_filename = output_filename + \".log\"\n",
    "print(\"log_filename = \",log_filename)\n",
    "traj_filename = output_filename + \".traj\"\n",
    "print(\"traj_filename = \",traj_filename)\n",
    "\n",
    "\n",
    "# Set the momenta corresponding to the given \"temperature\"\n",
    "MaxwellBoltzmannDistribution(atoms, temperature_K=temperature,force_temp=True)\n",
    "Stationary(atoms)  # Set zero total momentum to avoid drifting\n",
    "\n",
    "# run MD\n",
    "dyn = NVTBerendsen(atoms, time_step*units.fs, temperature_K = temperature, taut=taut*units.fs, loginterval=num_interval, trajectory=traj_filename)\n",
    "\n",
    "# Print statements\n",
    "def print_dyn():\n",
    "    imd = dyn.get_number_of_steps()\n",
    "    etot  = atoms.get_total_energy()\n",
    "    temp_K = atoms.get_temperature()\n",
    "    stress = atoms.get_stress(include_ideal_gas=True)/units.GPa\n",
    "    stress_ave = (stress[0]+stress[1]+stress[2])/3.0 \n",
    "    elapsed_time = perf_counter() - start_time\n",
    "    print(f\"  {imd: >3}   {etot:.3f}    {temp_K:.2f}    {stress_ave:.2f}  {stress[0]:.2f}  {stress[1]:.2f}  {stress[2]:.2f}  {stress[3]:.2f}  {stress[4]:.2f}  {stress[5]:.2f}    {elapsed_time:.3f}\")\n",
    "\n",
    "\n",
    "dyn.attach(print_dyn, interval=num_interval)\n",
    "dyn.attach(MDLogger(dyn, atoms, output_filename+\".log\", header=True, stress=True, peratom=True, mode=\"a\"), interval=num_interval)\n",
    "\n",
    "# Now run the dynamics\n",
    "start_time = perf_counter()\n",
    "print(f\"    imd     Etot(eV)    T(K)    stress(mean,xx,yy,zz,yz,xz,xy)(GPa)  elapsed_time(sec)\")\n",
    "dyn.run(num_md_steps)"
   ]
  },
  {
   "cell_type": "markdown",
   "id": "d1c387ed-cdc1-4c5c-abf0-1bbb7498f4be",
   "metadata": {
    "tags": []
   },
   "source": [
    "今回は**Berendsen熱浴法**という方法を使っています。この計算手法では原子の速度を目標温度に近づくようにスケーリングして温度調整する方法です。（参考文献[1-3]）\n",
    "\n",
    "具体的には、6-1節でも解説したように、温度と速度の関係は\n",
    "\n",
    "$$K = \\sum_{i=1}^{N} \\frac{1}{2} m_i {\\mathbf{v}}_i^2 = \\frac{3}{2} k_B T$$\n",
    "\n",
    "で与えられるため、温度をコントロールするために計算対象である系全体の原子の速度をスケールして制御しています。実際に速度をスケールする係数は以下の式で記述されます。\n",
    "\n",
    "$$\n",
    "\\lambda = \\sqrt{1+\\frac{\\Delta t}{\\tau_T}\\left(\\frac{T_0}{T(t)}-1\\right)}\n",
    "$$\n",
    "\n",
    "ここで$\\Delta t$は時間ステップサイズ、$\\tau_T$は熱浴の時定数です。この方法では時定数$\\tau$をコントロールすることでより緩やかに目標温度に到達することが可能です。$\\tau_T=\\Delta t$のとき、いわゆる速度スケーリング法と呼ばれる最も単純な温度制御法と同一になります。（つまり $\\lambda = \\sqrt{T_0/T(t)}$ ）この場合、温度は常に所定の温度一定になり、温度の拘束条件が最大になっていると考えられます。逆に$\\tau$が大きくなるにつれて温度制御は緩くなり、目標温度到達するのに時間がかかることになります。現実の物質の状態を考えるとある程度の緩和時間はあってしかるべきで、実用上はMDの計算時間に対して十分短くて済むような設定しするのが一般的です。ちなみに、この方法では系の温度は以下のように指数関数的に減衰するように補正されます。\n",
    "\n",
    "$$\n",
    "\\frac{dT}{dt} = \\frac{T_0-T}{\\tau_T}\n",
    "$$\n",
    "\n",
    "それでは上記のNVT-MDシミュレーションの結果を見てみましょう。"
   ]
  },
  {
   "cell_type": "code",
   "execution_count": 2,
   "id": "07078f15-9cac-4d42-9522-c53919765b88",
   "metadata": {
    "tags": []
   },
   "outputs": [
    {
     "data": {
      "application/vnd.jupyter.widget-view+json": {
       "model_id": "72329eef5fc24393abba4f114a768ac5",
       "version_major": 2,
       "version_minor": 0
      },
      "text/plain": []
     },
     "metadata": {},
     "output_type": "display_data"
    },
    {
     "name": "stderr",
     "output_type": "stream",
     "text": [
      "[Parallel(n_jobs=16)]: Using backend ThreadingBackend with 16 concurrent workers.\n",
      "[Parallel(n_jobs=16)]: Done  18 tasks      | elapsed:    6.1s\n",
      "[Parallel(n_jobs=16)]: Done 101 out of 101 | elapsed:   12.5s finished\n"
     ]
    },
    {
     "data": {
      "text/html": [
       "<img src=\"output/ch6/Fig6-2_fcc-Al_NVT-Berendsen_1000K_unwrap.png\"/>"
      ],
      "text/plain": [
       "<IPython.core.display.Image object>"
      ]
     },
     "execution_count": 2,
     "metadata": {},
     "output_type": "execute_result"
    }
   ],
   "source": [
    "from ase.io import Trajectory\n",
    "from pfcc_extras.visualize.povray import traj_to_apng\n",
    "from IPython.display import Image\n",
    "\n",
    "\n",
    "traj = Trajectory(traj_filename)\n",
    "traj_to_apng(traj, f\"output/ch6/Fig6-2_fcc-Al_NVT-Berendsen_1000K_unwrap.png\", rotation=\"0x,0y,0z\", clean=True, n_jobs=16)\n",
    "\n",
    "Image(url=\"output/ch6/Fig6-2_fcc-Al_NVT-Berendsen_1000K_unwrap.png\")"
   ]
  },
  {
   "cell_type": "code",
   "execution_count": 3,
   "id": "759e23f5-b4a9-4aac-8ad9-450209bde3cc",
   "metadata": {
    "tags": []
   },
   "outputs": [],
   "source": [
    "# Please remove comment out if you want to show trajectory in nglviewer.\n",
    "\n",
    "from pfcc_extras.visualize.view import view_ngl\n",
    "# view_ngl(traj)"
   ]
  },
  {
   "cell_type": "markdown",
   "id": "c2a6ebe4-5edd-4bca-a94c-63f5f8782401",
   "metadata": {
    "tags": []
   },
   "source": [
    "<br>\n",
    "<figure style=\"text-align:center\">\n",
    "  <img src=\"../assets/ch6/Fig6-2_fcc-Al_NVT-Berendsen_1000K.png\" alt=\"fcc-Al_NVE_1000Kstart\">\n",
    "  <figcaption>Fig6-2b. Fcc-Al in NVT ensemble using Berendsen thermostat at 1000 K</figcaption>\n",
    "  <figcaption>(File: ../input/ch6/6-2_fcc-Al_NVT-Berendsen_1000K.traj\")</figcaption>\n",
    "</figure>"
   ]
  },
  {
   "cell_type": "markdown",
   "id": "6fab6b88-e6be-49b8-9a98-8e9600ddf421",
   "metadata": {
    "tags": []
   },
   "source": [
    "先ほどのNVE計算と打って変わって構造は非常にダイナミックに動いており、挙動は複雑でほぼランダムに配置された溶融状態であることが見て取れます。これはNVTアンサンブルでの計算で常に温度が1000 Kになるようにコントロールされているので常に融点を超えた状態になっているためです。（注釈：実際ASEで実行した結果を見ると原子が激しく拡散してセルの外に広がっていくことが分かります。表示の便宜上、上図はwrap関数を用いて原子をセルの内側に戻して描画しています。）\n",
    "\n",
    "以下のプロットがNVEとNVTアンサンブルで計算した場合の全エネルギー（Tot.E）、ポテンシャルエネルギー（PE）、運動エネルギー（KE）、系全体の温度（Temp.）の時間発展になります。当然ではありますが、NVEアンサンブルでは全エネルギー、NVTアンサンブルでは温度が一定になっていることが見て取れます。それに対してBerendsen 熱浴法では全エネルギーは揺らぎますが、運動エネルギーと温度はほぼ一定に保たれています。（実際は小さな揺らぎらありますが、グラフのスケールの問題で揺らぎが小さくて見えていません。）"
   ]
  },
  {
   "cell_type": "markdown",
   "id": "3818e922-bffa-41e6-8463-6f46394b47ab",
   "metadata": {},
   "source": [
    "<p class=\"aligncenter\">\n",
    "<div>\n",
    "    <figure style=\"text-align: center\">\n",
    "        <img src=\"../assets/ch6/Fig6-2_fcc-Al_NVE-VelocityVerlet_1000K.png\"/>\n",
    "        <img src=\"../assets/ch6/Fig6-2_fcc-Al_NVT-Berendsen_1000K_E_vs_t.png\"/>\n",
    "        <figcaption align = \"center\">Fig.6-2c. Comparison of energies and temperatures between NVE (top) and NVT (bottom) calculations.</figcaption>\n",
    "    </figure>\n",
    "</div>\n",
    "</p>\n",
    "</br>"
   ]
  },
  {
   "cell_type": "markdown",
   "id": "8db3f1f6-326d-4245-9c06-a65754fc424b",
   "metadata": {},
   "source": [
    "上記のNVTに関するプロットは以下のように行うことができます。NVEに関しては前節をご参照ください。"
   ]
  },
  {
   "cell_type": "code",
   "execution_count": 4,
   "id": "4aeacf01-6aa9-416d-985c-1d32ab02f5db",
   "metadata": {},
   "outputs": [
    {
     "name": "stderr",
     "output_type": "stream",
     "text": [
      "/tmp/ipykernel_49628/2151791511.py:3: FutureWarning: The 'delim_whitespace' keyword in pd.read_csv is deprecated and will be removed in a future version. Use ``sep='\\s+'`` instead\n",
      "  df = pd.read_csv(\n"
     ]
    },
    {
     "data": {
      "text/html": [
       "<div>\n",
       "<style scoped>\n",
       "    .dataframe tbody tr th:only-of-type {\n",
       "        vertical-align: middle;\n",
       "    }\n",
       "\n",
       "    .dataframe tbody tr th {\n",
       "        vertical-align: top;\n",
       "    }\n",
       "\n",
       "    .dataframe thead th {\n",
       "        text-align: right;\n",
       "    }\n",
       "</style>\n",
       "<table border=\"1\" class=\"dataframe\">\n",
       "  <thead>\n",
       "    <tr style=\"text-align: right;\">\n",
       "      <th></th>\n",
       "      <th>Time[ps]</th>\n",
       "      <th>Etot/N[eV]</th>\n",
       "      <th>Epot/N[eV]</th>\n",
       "      <th>Ekin/N[eV]</th>\n",
       "      <th>T[K]</th>\n",
       "      <th>stressxx</th>\n",
       "      <th>stressyy</th>\n",
       "      <th>stresszz</th>\n",
       "      <th>stressyz</th>\n",
       "      <th>stressxz</th>\n",
       "      <th>stressxy</th>\n",
       "    </tr>\n",
       "  </thead>\n",
       "  <tbody>\n",
       "    <tr>\n",
       "      <th>0</th>\n",
       "      <td>0.0</td>\n",
       "      <td>0.2200</td>\n",
       "      <td>0.0908</td>\n",
       "      <td>0.1293</td>\n",
       "      <td>1000.0</td>\n",
       "      <td>7.194</td>\n",
       "      <td>7.179</td>\n",
       "      <td>7.141</td>\n",
       "      <td>-0.029</td>\n",
       "      <td>0.101</td>\n",
       "      <td>-0.042</td>\n",
       "    </tr>\n",
       "    <tr>\n",
       "      <th>1</th>\n",
       "      <td>10.0</td>\n",
       "      <td>0.4228</td>\n",
       "      <td>0.2939</td>\n",
       "      <td>0.1289</td>\n",
       "      <td>997.1</td>\n",
       "      <td>-0.032</td>\n",
       "      <td>0.225</td>\n",
       "      <td>-0.002</td>\n",
       "      <td>0.492</td>\n",
       "      <td>0.109</td>\n",
       "      <td>-0.681</td>\n",
       "    </tr>\n",
       "    <tr>\n",
       "      <th>2</th>\n",
       "      <td>20.0</td>\n",
       "      <td>0.3749</td>\n",
       "      <td>0.2455</td>\n",
       "      <td>0.1294</td>\n",
       "      <td>1001.2</td>\n",
       "      <td>0.949</td>\n",
       "      <td>1.388</td>\n",
       "      <td>1.489</td>\n",
       "      <td>0.070</td>\n",
       "      <td>0.313</td>\n",
       "      <td>-0.224</td>\n",
       "    </tr>\n",
       "    <tr>\n",
       "      <th>3</th>\n",
       "      <td>30.0</td>\n",
       "      <td>0.3930</td>\n",
       "      <td>0.2638</td>\n",
       "      <td>0.1292</td>\n",
       "      <td>999.5</td>\n",
       "      <td>0.347</td>\n",
       "      <td>1.332</td>\n",
       "      <td>1.060</td>\n",
       "      <td>-0.073</td>\n",
       "      <td>0.114</td>\n",
       "      <td>0.362</td>\n",
       "    </tr>\n",
       "    <tr>\n",
       "      <th>4</th>\n",
       "      <td>40.0</td>\n",
       "      <td>0.4132</td>\n",
       "      <td>0.2838</td>\n",
       "      <td>0.1293</td>\n",
       "      <td>1000.5</td>\n",
       "      <td>0.657</td>\n",
       "      <td>-0.031</td>\n",
       "      <td>0.554</td>\n",
       "      <td>0.694</td>\n",
       "      <td>0.271</td>\n",
       "      <td>0.509</td>\n",
       "    </tr>\n",
       "    <tr>\n",
       "      <th>...</th>\n",
       "      <td>...</td>\n",
       "      <td>...</td>\n",
       "      <td>...</td>\n",
       "      <td>...</td>\n",
       "      <td>...</td>\n",
       "      <td>...</td>\n",
       "      <td>...</td>\n",
       "      <td>...</td>\n",
       "      <td>...</td>\n",
       "      <td>...</td>\n",
       "      <td>...</td>\n",
       "    </tr>\n",
       "    <tr>\n",
       "      <th>96</th>\n",
       "      <td>960.0</td>\n",
       "      <td>0.4084</td>\n",
       "      <td>0.2792</td>\n",
       "      <td>0.1292</td>\n",
       "      <td>999.3</td>\n",
       "      <td>0.537</td>\n",
       "      <td>0.401</td>\n",
       "      <td>0.261</td>\n",
       "      <td>0.221</td>\n",
       "      <td>-0.302</td>\n",
       "      <td>-0.541</td>\n",
       "    </tr>\n",
       "    <tr>\n",
       "      <th>97</th>\n",
       "      <td>970.0</td>\n",
       "      <td>0.3893</td>\n",
       "      <td>0.2606</td>\n",
       "      <td>0.1287</td>\n",
       "      <td>995.8</td>\n",
       "      <td>1.312</td>\n",
       "      <td>1.070</td>\n",
       "      <td>0.456</td>\n",
       "      <td>-0.212</td>\n",
       "      <td>0.069</td>\n",
       "      <td>0.466</td>\n",
       "    </tr>\n",
       "    <tr>\n",
       "      <th>98</th>\n",
       "      <td>980.0</td>\n",
       "      <td>0.3738</td>\n",
       "      <td>0.2449</td>\n",
       "      <td>0.1289</td>\n",
       "      <td>997.0</td>\n",
       "      <td>1.651</td>\n",
       "      <td>0.947</td>\n",
       "      <td>1.314</td>\n",
       "      <td>0.232</td>\n",
       "      <td>-0.487</td>\n",
       "      <td>0.365</td>\n",
       "    </tr>\n",
       "    <tr>\n",
       "      <th>99</th>\n",
       "      <td>990.0</td>\n",
       "      <td>0.4017</td>\n",
       "      <td>0.2733</td>\n",
       "      <td>0.1284</td>\n",
       "      <td>993.2</td>\n",
       "      <td>0.720</td>\n",
       "      <td>0.889</td>\n",
       "      <td>-0.099</td>\n",
       "      <td>-0.540</td>\n",
       "      <td>-0.122</td>\n",
       "      <td>-0.110</td>\n",
       "    </tr>\n",
       "    <tr>\n",
       "      <th>100</th>\n",
       "      <td>1000.0</td>\n",
       "      <td>0.3906</td>\n",
       "      <td>0.2610</td>\n",
       "      <td>0.1295</td>\n",
       "      <td>1002.2</td>\n",
       "      <td>0.886</td>\n",
       "      <td>1.061</td>\n",
       "      <td>0.699</td>\n",
       "      <td>-0.155</td>\n",
       "      <td>-0.012</td>\n",
       "      <td>-0.212</td>\n",
       "    </tr>\n",
       "  </tbody>\n",
       "</table>\n",
       "<p>101 rows × 11 columns</p>\n",
       "</div>"
      ],
      "text/plain": [
       "     Time[ps]  Etot/N[eV]  Epot/N[eV]  Ekin/N[eV]    T[K]  stressxx  stressyy  \\\n",
       "0         0.0      0.2200      0.0908      0.1293  1000.0     7.194     7.179   \n",
       "1        10.0      0.4228      0.2939      0.1289   997.1    -0.032     0.225   \n",
       "2        20.0      0.3749      0.2455      0.1294  1001.2     0.949     1.388   \n",
       "3        30.0      0.3930      0.2638      0.1292   999.5     0.347     1.332   \n",
       "4        40.0      0.4132      0.2838      0.1293  1000.5     0.657    -0.031   \n",
       "..        ...         ...         ...         ...     ...       ...       ...   \n",
       "96      960.0      0.4084      0.2792      0.1292   999.3     0.537     0.401   \n",
       "97      970.0      0.3893      0.2606      0.1287   995.8     1.312     1.070   \n",
       "98      980.0      0.3738      0.2449      0.1289   997.0     1.651     0.947   \n",
       "99      990.0      0.4017      0.2733      0.1284   993.2     0.720     0.889   \n",
       "100    1000.0      0.3906      0.2610      0.1295  1002.2     0.886     1.061   \n",
       "\n",
       "     stresszz  stressyz  stressxz  stressxy  \n",
       "0       7.141    -0.029     0.101    -0.042  \n",
       "1      -0.002     0.492     0.109    -0.681  \n",
       "2       1.489     0.070     0.313    -0.224  \n",
       "3       1.060    -0.073     0.114     0.362  \n",
       "4       0.554     0.694     0.271     0.509  \n",
       "..        ...       ...       ...       ...  \n",
       "96      0.261     0.221    -0.302    -0.541  \n",
       "97      0.456    -0.212     0.069     0.466  \n",
       "98      1.314     0.232    -0.487     0.365  \n",
       "99     -0.099    -0.540    -0.122    -0.110  \n",
       "100     0.699    -0.155    -0.012    -0.212  \n",
       "\n",
       "[101 rows x 11 columns]"
      ]
     },
     "execution_count": 4,
     "metadata": {},
     "output_type": "execute_result"
    }
   ],
   "source": [
    "import pandas as pd\n",
    "\n",
    "df = pd.read_csv(\n",
    "    log_filename,\n",
    "    delim_whitespace=True,\n",
    "    names=[\"Time[ps]\", \"Etot/N[eV]\", \"Epot/N[eV]\", \"Ekin/N[eV]\", \"T[K]\",\n",
    "           \"stressxx\", \"stressyy\", \"stresszz\", \"stressyz\", \"stressxz\", \"stressxy\"],\n",
    "    skiprows=1,\n",
    "    header=None,\n",
    ")\n",
    "df"
   ]
  },
  {
   "cell_type": "code",
   "execution_count": 5,
   "id": "b3899be4-fcb0-4b8d-8c28-7be256a3a82f",
   "metadata": {
    "tags": []
   },
   "outputs": [
    {
     "data": {
      "image/png": "[encoded data removed]",
      "text/plain": [
       "<Figure size 1000x500 with 4 Axes>"
      ]
     },
     "metadata": {},
     "output_type": "display_data"
    }
   ],
   "source": [
    "import numpy as np\n",
    "import matplotlib.pyplot as plt\n",
    "\n",
    "\n",
    "fig = plt.figure(figsize=(10, 5))\n",
    "\n",
    "ax1 = fig.add_subplot(4, 1, 1)\n",
    "ax1.set_xticklabels([])  # x axis label\n",
    "ax1.set_ylabel('Tot E (eV)')  # y axis label\n",
    "ax1.plot(df[\"Time[ps]\"], df[\"Etot/N[eV]\"], color=\"blue\",alpha=0.5)\n",
    "\n",
    "ax2 = fig.add_subplot(4, 1, 2)\n",
    "ax2.set_xticklabels([])  # x axis label\n",
    "ax2.set_ylabel('P.E. (eV)')  # y axis label\n",
    "ax2.plot(df[\"Time[ps]\"], df[\"Epot/N[eV]\"], color=\"green\",alpha=0.5)\n",
    "\n",
    "ax3 = fig.add_subplot(4, 1, 3)\n",
    "ax3.set_xticklabels([])  # x axis label\n",
    "ax3.set_ylabel('K.E. (eV)')  # y axis label\n",
    "ax3.set_ylim([0.0, 0.2])\n",
    "ax3.plot(df[\"Time[ps]\"], df[\"Ekin/N[eV]\"], color=\"orange\",alpha=0.5)\n",
    "\n",
    "ax4 = fig.add_subplot(4, 1, 4)\n",
    "ax4.set_xlabel('time (ps)')  # x axis label\n",
    "ax4.set_ylabel('Temp. (K)')  # y axis label\n",
    "ax4.plot(df[\"Time[ps]\"], df[\"T[K]\"], color=\"red\",alpha=0.5)\n",
    "ax4.set_ylim([500., 1700])\n",
    "\n",
    "fig.suptitle(\"Time evolution of total, potential, and kinetic energies, and temperature in NVT.\", y=0)\n",
    "\n",
    "#plt.savefig(\"Fig6-2_fcc-Al_NVT-Berendsen_1000K_E_vs_t.png\")  # <- Use if saving to an image file is desired\n",
    "plt.show()"
   ]
  },
  {
   "cell_type": "markdown",
   "id": "4478f2ca-b4ce-46f3-b7af-bf9af8c39502",
   "metadata": {},
   "source": [
    "Berendsen熱浴法を用いた計算に関する注意点について。\n",
    "\n",
    "1. 適切な時定数の設定。\n",
    "Berendsen熱浴法には温度制御パラメーターに時定数$\\tau$があります。この$\\tau$は目的温度に到達するための緩和時間を決めるパラメーターであり、$\\tau$が小さいと収束の速度が速まります。$\\tau$が余りに小さいと計算が不安定になり温度の値が不自然な挙動を示します。一般に$\\tau$はMDシミュレーションの**タイムステップの数倍から5倍程度が適切です**。上記のfcc-Alの系に対して時定数$\\tau$を変化した際の系全体の温度の挙動が以下のグラフで示しています。(Fig.6-2d参照）前記のとおり、$\\tau$が0.2 fsの場合非常に不安定な挙動を示しており、大きく温度が上下に遷移して平衡状態を保てなくなっています。$\\tau$が1もしくは2 fsではかなりタイトに温度が制御されており、5～10 fsで温度制御が緩くなり、比較的揺らぎは大きいですがより現実的な領域の揺らぎになっていると考えられます。"
   ]
  },
  {
   "cell_type": "markdown",
   "id": "812bccf0-d278-4840-a261-2fc42bb284e2",
   "metadata": {},
   "source": [
    "<figure style=\"text-align: center\">\n",
    "    <img src=\"../assets/ch6/Fig6-2_fcc-Al_NVT-Berendsen_1000K_taut.png\"/>\n",
    "    <figcaption align = \"center\">Fig.6-2d. Temperature evolution with various time constant $\\tau$.</figcaption>\n",
    "</figure>\n",
    "</br>"
   ]
  },
  {
   "cell_type": "markdown",
   "id": "fef3836a-32f9-4d99-94e2-607d6f2d16a3",
   "metadata": {},
   "source": [
    "2. 非現実的な状態に陥る可能性。Berendsen熱浴法はいわゆる速度スケーリング法と呼ばれる部類の手法で、計算対象の全原子の速度を一律に変更します。速度分布全体を移動することで系全体の温度を目標温度に合わせに行きますが、この操作自体が非常に人工的で、熱力学的に正しいカノニカル（NVT）アンサンブルとは異なります。この手法の大きな問題は複数の挙動が大きく異なる物質が共存している系に対して適用すると非現実的な状態を作ってしまうことです。例えば固体と液体の界面の計算をNVTで行いたい場合、安易にBerendsen熱浴法を適用すると片方は高温に、もう一方は低温になり、トータルでは目標温度になるという不自然なことが起こり得ます。(本節末尾で具体例を解説しています。)\n",
    "\n",
    "上記の点を気を付けて熱力学的な厳密性を求めるのでなければ、Berendsen熱浴法は平衡状態への収束が早く、原理的にもシンプルで分かりやすいので非常に便利な計算手法です。例えば単純に「熱による揺らぎを与えた状態を作りたい」などの場合には非常に有効な計算手法です。"
   ]
  },
  {
   "cell_type": "markdown",
   "id": "109ab121-0ce3-4a46-a245-5f4a6cb6df74",
   "metadata": {},
   "source": [
    "## 計算事例２： 固体中のイオン拡散\n",
    "\n",
    "さて、次のNVTアンサンブルの計算事例として固体電解質中におけるイオン拡散を考えてみます。\n",
    "\n",
    "Li$_{10}$GeP$_{2}$S$_{12}$（LGPS）は近年注目を浴びている全固体電池の固体電解質として注目を集めている物質のひとつで、液系電解質に匹敵する非常に高いイオン伝導度（12 mS/cm @ 298 K）が特徴です。結晶構造は以下のとおりです。（基準となる構造は[Materials Project](https://materialsproject.org/)の[Li10Ge(PS6)2_mp-696138_computed](https://materialsproject.org/materials/mp-696138/)を用いています。以下に示す構造は、その構造をベースにPFPで最適化したものを使用しています。）"
   ]
  },
  {
   "cell_type": "markdown",
   "id": "18563bb8-2a96-4346-987f-11c0a5e3c633",
   "metadata": {},
   "source": [
    "Input cif file is modified from  \n",
    "A. Jain*, S.P. Ong*, G. Hautier, W. Chen, W.D. Richards, S. Dacek, S. Cholia, D. Gunter, D. Skinner, G. Ceder, K.A. Persson (*=equal contributions)  \n",
    "The Materials Project: A materials genome approach to accelerating materials innovation\n",
    "APL Materials, 2013, 1(1), 011002.  \n",
    "[doi:10.1063/1.4812323](http://dx.doi.org/10.1063/1.4812323)  \n",
    "[[bibtex]](https://materialsproject.org/static/docs/jain_ong2013.349ca3156250.bib)  \n",
    "Licensed under [CC BY 4.0](https://creativecommons.org/licenses/by/4.0/)  "
   ]
  },
  {
   "cell_type": "code",
   "execution_count": 6,
   "id": "0ec43bc7-71a8-4069-b24a-19b1ec66db5d",
   "metadata": {},
   "outputs": [
    {
     "data": {
      "application/vnd.jupyter.widget-view+json": {
       "model_id": "b27124a81e68405cb0fc0e8308665eeb",
       "version_major": 2,
       "version_minor": 0
      },
      "text/plain": [
       "HBox(children=(NGLWidget(), VBox(children=(Dropdown(description='Show', options=('All', 'S', 'Li', 'P', 'Ge'),…"
      ]
     },
     "metadata": {},
     "output_type": "display_data"
    }
   ],
   "source": [
    "atoms = ase.io.read(\"../input/ch6/LGPS_2x2x1_pfp-opt.cif\")\n",
    "\n",
    "view_ngl(atoms, representations=[\"ball+stick\"])"
   ]
  },
  {
   "cell_type": "markdown",
   "id": "040025a9-3bc9-4a9a-bbb5-43bd886ee7f2",
   "metadata": {},
   "source": [
    "<figure style=\"text-align: center\">\n",
    "    <img src=\"../assets/ch6/Fig6-2_LGPS_2x2x1_pfp-opt.png\" width=\"360\">\n",
    "    <figcaption align = \"center\">Fig.6-2e. Crystal structure of Li$_{10}$GeP$_2$S$_{12}$.</figcaption>\n",
    "</figure>\n",
    "</br>"
   ]
  },
  {
   "cell_type": "markdown",
   "id": "36452937-08be-4237-9d85-fbc304bf0c25",
   "metadata": {},
   "source": [
    "計算の便宜上、Unit Cellを2x2x1に拡張しています。これはLiイオンの数を増やすことで統計的に誤差が小さくなることを期待しているからです。計算時間は若干増えるかもしれませんが、実用上、拡張した構造でも全原子含め200原子程度なので特に問題はありません。\n",
    "\n",
    "この材料内でのLiイオン拡散係数をMDシミュレーションを用いて求めてみたいと思います。この材料は組成も複雑で汎用の古典力場が存在しないので[Matlantis](https://matlantis.com/)に実装されているPFPを使います。（学術論文を詳しく調べれば存在する可能性はありますが、すぐに見つからなかった事、見つかったとしても実装の難易度が不明なのでこれらのプロセスに係る時間や労力、精度の問題を考慮しても汎用的な機械学習ポテンシャルであるPFPを使えることは大きな利点です。）\n",
    "\n",
    "今回のNVT-MDシミュレーションの実行スクリプトは以下のとおりです。\n",
    "以下はテスト計算のためMDステップを10ステップとしています。\n",
    "本計算では、1 fs/step で 10^6 steps計算を行い、1 nsのＭＤシミュレーションを行っています。"
   ]
  },
  {
   "cell_type": "code",
   "execution_count": 7,
   "id": "ec499a17-ef4f-4acd-84f2-4f670f28b9eb",
   "metadata": {
    "tags": []
   },
   "outputs": [
    {
     "name": "stdout",
     "output_type": "stream",
     "text": [
      "atoms =  Atoms(symbols='Ge8Li80P16S96', pbc=True, cell=[[17.2189, 0.0, 0.0], [-0.07190443131522067, 17.742454297891182, 0.0], [-0.13259731631828015, -0.4464045597143071, 13.005365377826626]], spacegroup_kinds=...)\n",
      "friction_coeff = 0.002\n",
      "output_filename =  ./output/ch6/Li10Ge(PS6)2_mp-696138_Langevin_773K\n",
      "log_filename =  ./output/ch6/Li10Ge(PS6)2_mp-696138_Langevin_773K.log\n",
      "traj_filename =  ./output/ch6/Li10Ge(PS6)2_mp-696138_Langevin_773K.traj\n",
      "    imd     Etot(eV)    T(K)    stress(mean,xx,yy,zz,yz,xz,xy)(GPa)  elapsed_time(sec)\n",
      "    0   -699.887    0.00    0.00  0.00  0.00  0.00  -0.00  -0.00  0.00    0.045\n",
      "    1   -699.879    0.32    0.00  0.00  0.00  0.00  -0.00  -0.00  0.00    0.105\n",
      "    2   -699.871    0.65    0.00  0.00  0.00  0.00  -0.00  -0.00  -0.00    0.164\n",
      "    3   -699.862    0.98    -0.00  -0.00  0.00  -0.00  -0.00  -0.00  -0.00    0.229\n",
      "    4   -699.854    1.31    -0.00  -0.00  -0.00  -0.00  -0.00  -0.00  -0.00    0.313\n",
      "    5   -699.842    1.76    -0.00  -0.00  -0.00  -0.01  -0.00  0.00  -0.00    0.368\n",
      "    6   -699.834    2.07    -0.00  -0.01  0.00  -0.01  -0.01  0.00  -0.00    0.439\n",
      "    7   -699.826    2.36    -0.01  -0.01  -0.00  -0.01  -0.01  0.00  -0.00    0.492\n",
      "    8   -699.819    2.62    -0.01  -0.01  -0.00  -0.01  -0.01  0.00  -0.00    0.567\n",
      "    9   -699.811    2.86    -0.01  -0.01  0.00  -0.01  -0.01  0.00  -0.00    0.619\n",
      "   10   -699.805    3.04    -0.01  -0.01  -0.00  -0.01  -0.01  0.01  -0.00    0.672\n"
     ]
    },
    {
     "data": {
      "text/plain": [
       "True"
      ]
     },
     "execution_count": 7,
     "metadata": {},
     "output_type": "execute_result"
    }
   ],
   "source": [
    "from pfp_api_client.pfp.estimator import Estimator, EstimatorCalcMode\n",
    "from pfp_api_client.pfp.calculators.ase_calculator import ASECalculator\n",
    "estimator = Estimator(model_version=\"v2.0.0\",calc_mode=EstimatorCalcMode.CRYSTAL_U0)\n",
    "calculator = ASECalculator(estimator)\n",
    "\n",
    "import ase\n",
    "from ase.md.velocitydistribution import MaxwellBoltzmannDistribution\n",
    "from ase.md.langevin import Langevin\n",
    "from ase.md import MDLogger\n",
    "from ase import units\n",
    "from time import perf_counter\n",
    "\n",
    "# Set up a crystal\n",
    "atoms = ase.io.read(\"../input/ch6/LGPS_2x2x1_pfp-opt.cif\")\n",
    "atoms.pbc=True\n",
    "print(\"atoms = \",atoms)\n",
    "atoms.calc = calculator\n",
    "\n",
    "# input parameters\n",
    "time_step    = 1.0    # fsec\n",
    "temperature  = 773    # Kelvin\n",
    "num_md_steps = 10     # Total MD step, for testing.\n",
    "# num_md_steps = 1e6    # Total MD step, for actual run.\n",
    "num_interval = 1      # Output printing interval\n",
    "friction_coeff = 0.002\n",
    "print(f\"friction_coeff = {friction_coeff:.3f}\")\n",
    "\n",
    "# Define output filenames\n",
    "output_filename = \"./output/ch6/Li10Ge(PS6)2_mp-696138_Langevin_773K\"\n",
    "print(\"output_filename = \",output_filename)\n",
    "log_filename = output_filename + \".log\"\n",
    "print(\"log_filename = \",log_filename)\n",
    "traj_filename = output_filename + \".traj\"\n",
    "print(\"traj_filename = \",traj_filename)\n",
    "\n",
    "# run MD\n",
    "dyn = Langevin(atoms, time_step*units.fs, friction=friction_coeff, temperature_K=temperature, loginterval=num_interval, trajectory=traj_filename)\n",
    "    \n",
    "# Print statements\n",
    "def print_dyn():\n",
    "    imd = dyn.get_number_of_steps()\n",
    "    etot  = atoms.get_total_energy()\n",
    "    temp_K = atoms.get_temperature()\n",
    "    stress = atoms.get_stress(include_ideal_gas=True)/units.GPa\n",
    "    stress_ave = (stress[0]+stress[1]+stress[2])/3.0 \n",
    "    elapsed_time = perf_counter() - start_time\n",
    "    print(f\"  {imd: >3}   {etot:.3f}    {temp_K:.2f}    {stress_ave:.2f}  {stress[0]:.2f}  {stress[1]:.2f}  {stress[2]:.2f}  {stress[3]:.2f}  {stress[4]:.2f}  {stress[5]:.2f}    {elapsed_time:.3f}\")\n",
    "\n",
    "\n",
    "dyn.attach(print_dyn, interval=num_interval)\n",
    "dyn.attach(MDLogger(dyn, atoms, log_filename, header=True, stress=True, peratom=True, mode=\"w\"), interval=num_interval)\n",
    "\n",
    "# Now run the dynamics\n",
    "start_time = perf_counter()\n",
    "print(f\"    imd     Etot(eV)    T(K)    stress(mean,xx,yy,zz,yz,xz,xy)(GPa)  elapsed_time(sec)\")\n",
    "dyn.run(num_md_steps)"
   ]
  },
  {
   "cell_type": "markdown",
   "id": "a18853a5-739b-4fcb-95ab-598f17fe94ce",
   "metadata": {},
   "source": [
    "本計算の時間でMDを実行した場合、Trajectoryを可視化すると以下の図が得られました。\n",
    "紫色のLi イオンが大きく動いている(拡散している) ことが見てとれます。\n",
    "なにもない場所に行っているように表示されていますが、周期境界条件のため、実際にはUnit cell外にもGe, P, Sが存在しています。"
   ]
  },
  {
   "cell_type": "markdown",
   "id": "79f1f463-1444-4a57-abce-4abd12324f54",
   "metadata": {},
   "source": [
    "<figure style=\"text-align: center\">\n",
    "    <img src=\"../assets/ch6/Fig6-2_LGPS_2x2x1_Langevin_773K.png\"/>\n",
    "    <figcaption align = \"center\">Li$_{10}$GeP$_{2}$S$_{12}$ crystal at 773 K.</figcaption>\n",
    "</figure>\n",
    "</br>"
   ]
  },
  {
   "cell_type": "markdown",
   "id": "c83b95dc-a453-4d49-907b-86052770cb36",
   "metadata": {
    "tags": []
   },
   "source": [
    "今回は**Langevin熱浴法**を用いてNVT-MDシミュレーションを行います。本手法では個々の原子に係る力をランダムフォースと呼ばれるある確率分布に従う力を作用させることで温度を制御する統計的なアプローチです。（参考文献[1,4]）\n",
    "\n",
    "具体的には、Langevin動力学の運動方程式は以下のような形で書けます。\n",
    "\n",
    "$$\n",
    "m_i\\ddot{\\mathbf{x}_i}(t)=\\mathbf{F}(\\mathbf{x}_i(t)) -\\gamma m_i\\dot{\\mathbf{x}_i}(t)+\\sqrt{2k_B T\\gamma m_i}\\mathbf{\\eta}_i(t)\n",
    "$$\n",
    "\n",
    "ここで$m_i$は対象原子の質量、$\\mathbf{x}_i(t)$は時間$t$における原子$i$の座標ベクトル、$\\mathbf{F}(\\mathbf{x}_i(t))$が原子$i$にかかる力、$\\gamma$は摩擦係数です。右辺最後の項がランダムフォースで、関数$\\mathbf{\\eta}_i(t)$が$<\\mathbf{\\eta}_i(0)\\mathbf{\\eta}_j(t)>=\\delta_{ij}\\delta(t)$の関係を満たす必要があります。これによりカノニカル分布を再現することが出来ます。\n",
    "\n",
    "計算事例１で出てきたBerendsen熱浴法の問題点のところで言及したように、高速に拡散するLiとそれ以外のアニオン構造の運動が極端に異なる場合、Berendsen熱浴法を用いるとこれらの挙動が乖離して非現実的な結果をもたらす危険があります。Langevin熱浴法では個々の原子にかかる力を制御するためこのような問題が起きません。\n",
    "\n",
    "Langevin熱浴法では摩擦係数$\\gamma$を設定する必要があり、計算対象にもよりますが、一般的に1e-4から1e-2が概ね適切な範囲とされています。（値が大きいほど収束条件がタイトになり、目標温度に到達する速度が早まります。）概ね上記の値の範囲で問題ないことが多いですが、新規の計算対象を検討する際には事前検討として、この摩擦係数の値に対するセンシティビティを確認することをオススメします。\n",
    "\n",
    "今回の計算事例は比較的高温状態の773 Kで、シミュレーション時間を1 nsに設定しています。高温でMDを行う理由は十分なLiイオンの拡散を保証するためで、あまり現実的ではない温度領域かもしれません。実際の物質がこの温度領域で安定な保証はありませんが、NVTアンサンブルでは密度が一定に保たれるため、構造は比較的安定に保たれるので拡散係数を計算することが可能です。このような高温状態での計算は一般的によく用いられる手法であり、比較的きれいなデータになりやすいこともあって本Tutorialの目的に適しています。\n",
    "\n",
    "それでは上記のMDのTrajectoryから拡散係数を求めます。まずは対象の原子の初期位置からの平均二乗距離（mean-squared dispacement, MSD）を計算します。（参考文献[5]）\n",
    "\n",
    "$$\n",
    "MSD = \\frac{\\Sigma_i(\\mathbf{x}_i(t)-\\mathbf{x}_i(0))^2}{N}\n",
    "$$\n",
    "\n",
    "ここで$\\mathbf{x}_i(t)$は時間$t$における原子$i$の座標,$N$は対象の原子数です。このMSDを横軸を時間にしてプロットしたものが以下のグラフになります。"
   ]
  },
  {
   "cell_type": "markdown",
   "id": "97e26fd9-5c28-4330-9975-921cf3cab92a",
   "metadata": {},
   "source": [
    "<figure style=\"text-align: center\">\n",
    "    <img src=\"../assets/ch6/Fig6-2_LGPS_NVT-Langevin_773K.png\"/>\n",
    "    <figcaption align = \"center\">Fig.6-2f. Mean-square displacement of Li-ion in Li$_{10}$GeP$_{2}$S$_{12}$ crystal at 773 K.</figcaption>\n",
    "</figure>\n",
    "</br>"
   ]
  },
  {
   "cell_type": "markdown",
   "id": "e6862fe6-c946-4cdd-81d7-1b67cba687fc",
   "metadata": {
    "tags": []
   },
   "source": [
    "ここで得られたMSDから拡散係数は以下の式で計算出来ます。\n",
    "\n",
    "$$\n",
    "D = \\frac{MSD}{6\\Delta t}\n",
    "$$\n",
    "\n",
    "注意点としては、この式は系が十分に平衡状態に達した状態を仮定していて、計算結果に平衡状態でないデータが含まれる場合はその範囲のデータを除去しておく必要があることです。また、温度が低く拡散が起こりにくい、または対象の原子数が少ないなどの場合にMSDのプロットにノイズが含まれる場合、線形回帰などで傾きを計算することでより安定した結果を得ることが出来ます。\n",
    "\n",
    "ここでの計算結果は拡散係数が2.7x10$^{-5}$ cm$^2$/sとなり、概ね既報の計算値とよく一致しています。(参考文献[6]) ただし今回は簡単のため計算条件を最適化していません。実際に精度良い計算を効率よく行いたい場合には、あらかじめ計算ステップ数、計算ステップサイズ、温度、計算対象のサイズなど事前検討でこれらのパラメーターに対する依存性を調べ、良く吟味しておく必要があります。\n",
    "\n",
    "このようにNVTアンサンブルを使うと特定温度での物質の拡散状態を評価できます。これを例えばNVEで検討しようとすると初期温度と定常状態に達した時の温度で差があるので正しく評価することが難しくなります。したがって特定温度での熱平衡状態を観察するのにNVTアンサンブルは有効な手法になります。\n",
    "\n",
    "本計算事例に関して詳しくは、以下もご覧ください。\n",
    "\n",
    " - [硫化物固体電解質中のLi拡散 | MATLANTIS](https://matlantis.com/ja/calculation/li-diffusion-in-li10gep2s12-sulfide-solid-electrolyte)\n",
    " - [matlantis-contrib/matlantis_contrib_examples/MD_Li_diffusion_in_LGPS](https://github.com/matlantis-pfcc/matlantis-contrib/tree/main/matlantis_contrib_examples/MD_Li_diffusion_in_LGPS)"
   ]
  },
  {
   "cell_type": "markdown",
   "id": "985f9bce-6fbc-420c-a377-d3db8ae343b8",
   "metadata": {},
   "source": [
    "## 計算事例３： 金属表面での酸化反応\n",
    "\n",
    "最後の事例として、金属表面における酸化反応の事例を検討します。キレイなfcc-Alの(111)表面があり、酸素雰囲気下に暴露されている状態を考えます。Alは室温で酸化するので、計算上そのような状態が再現出来るのか試行してみます。\n",
    "\n",
    "計算対象のモデルとしては、fcc-Alの(111)のスラブモデルに10Åの真空層を作り、そこにランダムに酸素分子を配置した状態を初期状態とします。"
   ]
  },
  {
   "cell_type": "code",
   "execution_count": 8,
   "id": "baf19272-3b7c-41ff-a1e2-66dd1d7ef059",
   "metadata": {},
   "outputs": [
    {
     "data": {
      "application/vnd.jupyter.widget-view+json": {
       "model_id": "488db8ce8ee24475a27bafde8b8e9820",
       "version_major": 2,
       "version_minor": 0
      },
      "text/plain": [
       "HBox(children=(NGLWidget(), VBox(children=(Dropdown(description='Show', options=('All', 'Al', 'O'), value='All…"
      ]
     },
     "metadata": {},
     "output_type": "display_data"
    }
   ],
   "source": [
    "atoms = ase.io.read(\"../input/ch6/fcc111_Al_3x4x6_vac10A_20O2_NVT-NoseHoover_300K_wrapped.cif\")\n",
    "\n",
    "view_ngl(atoms, representations=[\"ball+stick\"])"
   ]
  },
  {
   "cell_type": "markdown",
   "id": "1700ec67-98a2-49d7-9e94-7a026b0b6e76",
   "metadata": {},
   "source": [
    "<figure style=\"text-align: center\">\n",
    "    <img src=\"../assets/ch6/Fig6-2_fcc111_Al_3x4x6_vac10A_20O2.png\" width=\"420\"/>\n",
    "    <figcaption align = \"center\">Fig.6-2g. Starting structure of fcc-Al(111) slab with 20 O$_{2}$ molecules.</figcaption>\n",
    "    <!-- \n",
    "        <figcaption align = \"center\">(File: ../input/ch6/fcc111_Al_3x4x6_vac10A_20O2_NVT-NoseHoover_300K_wrapped.cif)</figcaption>\n",
    "    -->\n",
    "</figure>\n",
    "<br>"
   ]
  },
  {
   "cell_type": "markdown",
   "id": "030fa26f-2990-425a-bdb5-8c58b49527d9",
   "metadata": {},
   "source": [
    "この事例においては金属界面と気相分子の反応を扱う必要があるので[Matlantis](https://matlantis.com/)に実装されているPFPを使います。一般的には精度よく検討するにはDFTのような計算手法が必要になりますが、原子数も多くセルサイズも大きいため計算負荷が非常に高くなります。その点、PFPをもちいればDFTに匹敵する精度で反応プロセスも再現でき、原子数も十分確保できるのでより現実的な条件を非常に高速に試行検討することが可能です。\n",
    "\n",
    "それではこれを300 KでNVTアンサンブルのMDシミュレーションを行ってみます。計算スクリプトは以下のとおりです。<br/>\n",
    "(テスト計算のため``num_md_steps``を小さく設定しています。実際の計算時は大きくして実行してください。)"
   ]
  },
  {
   "cell_type": "code",
   "execution_count": 9,
   "id": "115afdc7-805b-4645-91c2-e56f95f912b6",
   "metadata": {
    "tags": []
   },
   "outputs": [
    {
     "name": "stdout",
     "output_type": "stream",
     "text": [
      "atoms =  Atoms(symbols='Al72O40', pbc=True, cell=[8.59135, 9.92043, 31.6913], spacegroup_kinds=..., calculator=ASECalculator(...))\n",
      "ttime = 20.000\n",
      "output_filename =  ./output/ch6/fcc111_Al_3x4x6_vac10A_20O2_NVT-NoseHoover_300K\n",
      "log_filename =  ./output/ch6/fcc111_Al_3x4x6_vac10A_20O2_NVT-NoseHoover_300K.log\n",
      "traj_filename =  ./output/ch6/fcc111_Al_3x4x6_vac10A_20O2_NVT-NoseHoover_300K.traj\n",
      "    imd     Etot(eV)    T(K)    stress(mean,xx,yy,zz,yz,xz,xy)(GPa)  elapsed_time(sec)\n",
      "  100   -390.145    269.61    0.82  1.16  0.86  0.43  0.12  -0.26  -0.09    6.812\n",
      "  200   -398.080    195.53    1.12  1.41  1.34  0.61  0.07  0.21  0.19    13.612\n"
     ]
    }
   ],
   "source": [
    "import os\n",
    "from pfp_api_client.pfp.estimator import Estimator, EstimatorCalcMode\n",
    "from pfp_api_client.pfp.calculators.ase_calculator import ASECalculator\n",
    "estimator = Estimator(model_version=\"v2.0.0\",calc_mode=EstimatorCalcMode.CRYSTAL_U0_PLUS_D3)\n",
    "calculator = ASECalculator(estimator)\n",
    "\n",
    "from ase.io import read,write\n",
    "from ase.build import bulk\n",
    "from ase.md.velocitydistribution import MaxwellBoltzmannDistribution,Stationary\n",
    "from ase.md.npt import NPT\n",
    "from ase.md import MDLogger\n",
    "from ase import units\n",
    "from time import perf_counter\n",
    "\n",
    "# Set up a crystal\n",
    "atoms = read(\"../input/ch6/fcc111_Al_3x4x6_vac10A_20O2_NVT-NoseHoover_300K_wrapped.cif\")\n",
    "atoms.pbc = True\n",
    "atoms.calc = calculator\n",
    "print(\"atoms = \",atoms)\n",
    "\n",
    "# input parameters\n",
    "time_step    = 1.0    # fsec\n",
    "temperature  = 300    # Kelvin\n",
    "num_md_steps = 200    # For test\n",
    "# num_md_steps = 10000  # For actual run \n",
    "num_interval = 100\n",
    "ttime        = 20.0   # tau_T thermostat time constant in fsec    \n",
    "print(f\"ttime = {ttime:.3f}\")\n",
    "\n",
    "output_filename = \"./output/ch6/fcc111_Al_3x4x6_vac10A_20O2_NVT-NoseHoover_300K\"\n",
    "print(\"output_filename = \",output_filename)\n",
    "\n",
    "log_filename = output_filename + \".log\"\n",
    "print(\"log_filename = \",log_filename)\n",
    "traj_filename = output_filename + \".traj\"\n",
    "print(\"traj_filename = \",traj_filename)\n",
    "\n",
    "\n",
    "# Set the momenta corresponding to the given \"temperature\"\n",
    "MaxwellBoltzmannDistribution(atoms, temperature_K=temperature,force_temp=True)\n",
    "Stationary(atoms)  # Set zero total momentum to avoid drifting\n",
    "\n",
    "# run MD\n",
    "dyn = NPT(atoms,\n",
    "          time_step*units.fs,\n",
    "          temperature_K = temperature,\n",
    "          externalstress = 0.1e-6 * units.GPa,  # Ignored in NVT\n",
    "          ttime = ttime*units.fs,\n",
    "          pfactor = None,   # None for NVT\n",
    "          loginterval=num_interval,\n",
    "          trajectory=traj_filename\n",
    "          )\n",
    "\n",
    "# Print statements\n",
    "def print_dyn():\n",
    "    imd = dyn.get_number_of_steps()\n",
    "    etot  = atoms.get_total_energy()\n",
    "    temp_K = atoms.get_temperature()\n",
    "    stress = atoms.get_stress(include_ideal_gas=True)/units.GPa\n",
    "    stress_ave = (stress[0]+stress[1]+stress[2])/3.0 \n",
    "    elapsed_time = perf_counter() - start_time\n",
    "    print(f\"  {imd: >3}   {etot:.3f}    {temp_K:.2f}    {stress_ave:.2f}  {stress[0]:.2f}  {stress[1]:.2f}  {stress[2]:.2f}  {stress[3]:.2f}  {stress[4]:.2f}  {stress[5]:.2f}    {elapsed_time:.3f}\")\n",
    "\n",
    "\n",
    "dyn.attach(print_dyn, interval=num_interval)\n",
    "dyn.attach(MDLogger(dyn, atoms, log_filename, header=True, stress=True, peratom=True, mode=\"w\"), interval=num_interval)\n",
    "\n",
    "# Now run the dynamics\n",
    "start_time = perf_counter()\n",
    "print(f\"    imd     Etot(eV)    T(K)    stress(mean,xx,yy,zz,yz,xz,xy)(GPa)  elapsed_time(sec)\")\n",
    "dyn.run(num_md_steps)"
   ]
  },
  {
   "cell_type": "markdown",
   "id": "90b71571-ed40-450b-8c36-0b94fb3588ca",
   "metadata": {},
   "source": [
    "今回、熱浴法としては**Nosé–Hoover熱浴**を使用しています。\n",
    "上記コードでは`NPT` moduleが指定されていますが、`pfactor=None` と指定することでNosé–Hoover熱浴を用いたNVTのシミュレーションを行う事ができます。\n",
    "\n",
    " - https://wiki.fysik.dtu.dk/ase/ase/md.html#nose-hoover-dynamics\n",
    "\n",
    "この方法では2つの新たな独立変数（$\\xi$と$s$）を運動方程式に導入することで、仮想の熱浴と接している状態を再現し温度を制御します。（参考文献[1,3-5]）解かなければいけない運動方程式は以下のような形になります。\n",
    "\n",
    "$$ \\dot{\\mathbf{x}_i} = \\mathbf{p}_i/m_i $$\n",
    "\n",
    "$$ \\dot{\\mathbf{p}_i} = \\mathbf{F_i}-\\zeta \\mathbf{p}_i $$\n",
    "\n",
    "$$ \\dot{\\zeta} = \\frac{1}{\\tau_T^2}\\left(\\frac{T(t)}{T_o}-1\\right) $$\n",
    "\n",
    "$$ \\dot{s} = 3N s\\zeta $$\n",
    "\n",
    "制御変数は新たな時定数（$\\tau_T$）でユーザーはこれを適切な値に設定する必要があります。[ASEのマニュアル](https://wiki.fysik.dtu.dk/ase/ase/md.html#module-ase.md.npt)に従うと、25 fs付近が適切な値とされています。あまり小さい値は計算を不安定にし、大きすぎる値は収束が極端に悪くなり目標温度に到達するまでの時間がかかりすぎることになります。\n",
    "\n",
    "それでは計算結果のtrajectoryを見てみましょう。(以下はAPNGファイルのみですが、キャプションにtrajファイル名が記載されているので、Matlantis上で実際にtrajectoryファイルを可視化して挙動を確認してみてください。"
   ]
  },
  {
   "cell_type": "code",
   "execution_count": 10,
   "id": "e476077e-84ab-4fdf-8212-a84df2bfeeac",
   "metadata": {},
   "outputs": [
    {
     "data": {
      "application/vnd.jupyter.widget-view+json": {
       "model_id": "c721054531954421a3a30fc474b28116",
       "version_major": 2,
       "version_minor": 0
      },
      "text/plain": [
       "HBox(children=(NGLWidget(max_frame=99), VBox(children=(Dropdown(description='Show', options=('All', 'Al', 'O')…"
      ]
     },
     "metadata": {},
     "output_type": "display_data"
    }
   ],
   "source": [
    "from pfcc_extras.visualize.view import view_ngl\n",
    "from ase.io import Trajectory\n",
    "traj = Trajectory(\"./output/ch6/fcc111_Al_3x4x6_vac10A_20O2_NVT-NoseHoover_300K_wrapped.traj\")\n",
    "\n",
    "v = view_ngl(traj, representations=[\"ball+stick\"], replace_structure=True)\n",
    "display(v)"
   ]
  },
  {
   "cell_type": "markdown",
   "id": "eb3da359-1394-4240-b73b-b166019998cb",
   "metadata": {},
   "source": [
    "<figure style=\"text-align: center\">\n",
    "    <img src=\"../assets/ch6/Fig6-2_fcc111_Al_3x4x6_vac10A_20O2_NVT-NoseHoover_300K.png\" width=\"160\"/>\n",
    "    <figcaption align = \"center\">Fig.6-2h. Starting structure of fcc-Al(111) slab with 20 O$_{2}$ molecules.</figcaption>\n",
    "    <!---\n",
    "        <figcaption align = \"center\">(File: ./ouput/ch6/fcc111_Al_3x4x6_vac10A_20O2_NVT-NoseHoover_300K_wrapped.traj)</figcaption>\n",
    "    --->\n",
    "</figure>\n",
    "<br>"
   ]
  },
  {
   "cell_type": "markdown",
   "id": "f8408ae5-4d00-4b20-bf57-f10638ffe8ba",
   "metadata": {},
   "source": [
    "ご覧のとおり、最初はランダムに空隙中に配置された酸素分子が短時間のうちにAl表面に吸着、乖離して酸化アルミニウムを形成していく様子が見てとれます。アルミニウムは室温でも低酸素分圧下（$pO_2$=10$^{-18}$ atm程度）で酸化物相を形成するので、今回のような僅か9x10x10Å$^3$程の空間に20もの酸素分子が詰め込まれている状態では、たった10 psの時間にも関わらず酸化アルミ被膜が形成されていきます。（アルミニウムの酸化平衡について知りたい方は[Ellignham diagram](https://en.wikipedia.org/wiki/Ellingham_diagram)というキーワードで調べてみてください。具体的な温度と酸素分圧領域のイメージが分かるかとおもいます。）\n",
    "\n",
    "上記のデータから確認できるとおり、**MDシミュレーションを行うことによって個々の反応プロセスをつぶさに観察することが可能です**。例えば以下のような状態がシミュレーションの初期段階で確認出来ます。Fig.6-2eでは左から緑の丸で囲まれた$O_2$分子が表面のAlのbridgeサイトに吸着し2つのAl原子に結合、その後$O_2$結合が開裂して表面構造に取り込まれます。その後３つのO原子に配位されたAlが次の$O_2$分子と吸着する様子が見て取れます。"
   ]
  },
  {
   "cell_type": "markdown",
   "id": "df24c961-e487-4bcf-8f76-5aaae01605a5",
   "metadata": {},
   "source": [
    "<figure style=\"text-align: center\">\n",
    "    <img src=\"../assets/ch6/Fig6-2_O2_adsorption_on_fcc111_Al.png\"/>\n",
    "    <figcaption align = \"center\">Fig.6-2i. Reaction process of an O$_2$ molecule on fcc(111) Al.</figcaption>\n",
    "</figure>\n",
    "</br>"
   ]
  },
  {
   "cell_type": "markdown",
   "id": "0e0df209-e5ea-4d9e-958e-520f5a84cd51",
   "metadata": {},
   "source": [
    "このようにNVT－MDシミュレーションを使うとガスと固体表面の吸着プロセスのダイナミクスを詳細に観察できます。これが例えばより複雑な分子や表面構造になっても、解析は難しくなるかもしれませんが基本的なプロセスと考え方は変わりません。\n",
    "\n",
    "最後にNosé–Hoover熱浴について補足します。Nosé–Hoover熱浴は統計力学的に正しいカノニカルアンサンブルを再現することが知られており、非常によく用いられる熱浴法のひとつです。この手法の欠点は特殊なケース（例えば調和振動子等）で、意図しない保存則を満たすような系に対して適用すると正しいカノニカルアンサンブルを再現出来なくなります。これが何を意味するかというと、物理的に起こり得る状態を正しくサンプリング出来ないということになります。ただし実用的には、計算対象の系の重心を固定するなどでこのような問題を回避することが出来きるので非常に汎用的な手法です。（一般には、Nosé–Hoover法以外にも、Nosé–Hoover chain法のようなより発展的な手法も存在するので興味のある方は参考文献をご確認ください。[4,5]）"
   ]
  },
  {
   "cell_type": "markdown",
   "id": "86766e70-5695-4efd-ae56-fa86f40ab98e",
   "metadata": {
    "tags": []
   },
   "source": [
    "## まとめ\n",
    "\n",
    "最後に本節のまとめとして、現時点で利用可能なASEのNVTアンサンブルでのシミュレーション手法を整理してみます。\n",
    "\n",
    " - https://wiki.fysik.dtu.dk/ase/ase/md.html#constant-nvt-simulations-the-canonical-ensemble\n",
    "\n",
    "| クラス名 | ensemble | パラメーター | 解説 | メリット | デメリット |\n",
    "|----------|----------|-------------|------|----------|------------|\n",
    "| NVTBerensen | NVT | 時定数($\\tau_T$) | 速度スケーリング法の一種。決定論的手法。| シンプルで汎用的 | 非カノニカル分布。系全体の温度のみ制御。 |\n",
    "| Langevin | NVT | 摩擦係数($\\gamma$) | 確率的手法。ランダムな力と仮想的な摩擦項によって温度制御。| カノニカル分布を再現。個別の原子の温度制御。|統計的手法|\n",
    "| NPT(pfactor=None) | NVT | 時定数($\\tau_T$) | Nosé–Hoover熱浴。決定論的手法。| 多くの系でカノニカル分布を再現。| 非カノニカル分布な系も存在。人工的な運動モードが入り得る。系全体の温度のみ制御。 |\n",
    "| Andersen | NVT | 頻度因子($\\nu$) | 確率的手法。ランダムに選択された原子群の速度を変更。 | シンプル。個別の原子の温度制御。 | 非カノニカル分布。統計的手法|\n",
    "\n",
    "実際にNVTアンサンブルの計算を行う際に、どの手法を適用するか迷ったらNosé–Hoover熱浴法を用いるのが無難な選択肢であると思います。原理的に正しく、欠点が少ないため多くの分子シミュレーションプログラムに実装されており、ユーザーがすぐに利用できるコトが多いかと思います。本手法は決定論的な手法であり、各原子の位相空間上の軌道（i.e.座標、速度の軌跡）を調べたいときにも再現性の観点で適しています。\n",
    "\n",
    "Langevin熱浴法は液系の計算やブラウン運動のような計算を行いたいときによく用いられます。原理的にもNVTアンサンブルを再現し、効率よく温度制御出来るため良く用いられる手法です。ただし確率論的手法であり、精密な原子の軌道の再現を期待できるものではありません。ASEのマニュアルには吸熱反応を伴う系に適用すると温度制御がうまくできないというような記述もありますが、少なくとも我々の調査の中ではそのような事実示すデータが確認できていません。\n",
    "\n",
    "Berendsen熱浴法（NVTBerendsen）はシンプルで汎用的手法であり、実装も簡単です。検討初期のテスト計算などを行いたいときに始めるには良いでしょう。ただし、厳密な意味でNVTアンサンブルを再現できるとは言えず、熱的な揺らぎも人工的なので精度を欠きます。熱的に揺らいだ構造を作成したい、非平衡状態を作り出したいなどのような条件の時に有用な手法と言えるでしょう。\n",
    "\n",
    "最後にASEに実装されている手法でAndersen熱浴法というのがありますが、特に他の手法と比較して特筆すべき利点もなく、上の3つの計算方法があれば事足りることが殆どで、活用される事例が少ないため今回は説明は割愛しています。"
   ]
  },
  {
   "cell_type": "markdown",
   "id": "15f13e7c-9c27-42dc-888d-49c284599aff",
   "metadata": {
    "tags": []
   },
   "source": [
    "## [Advanced] Nosé–Hoover熱浴法のパラメーター依存性\n",
    "\n",
    "</p>\n",
    "\n",
    "温度制御に用いられるNosé–Hoover熱浴の時定数$\\tau$に対する系全体の温度の依存性をみてみます。fcc-Al（3x3x3 unit cells）を$\\tau_t$を変えて計算した結果が以下の通りです。\n",
    "計算にはPFP(v2.0.0)を用いています。初期温度は特に設定していません。"
   ]
  },
  {
   "cell_type": "markdown",
   "id": "62ba51bb-8d5c-4e9d-8c82-d1df01955148",
   "metadata": {},
   "source": [
    "<figure style=\"text-align: center\">\n",
    "    <img src=\"../assets/ch6/Fig6-2_NoseHoover_T_vs_t.png\"/>\n",
    "    <figcaption align = \"center\">Fig.6-2j. Time evolution of temperature in Nose-Hoover thermostat</figcaption>\n",
    "</figure>"
   ]
  },
  {
   "cell_type": "markdown",
   "id": "5da304ad-f178-477f-9c8f-a6cdd470123a",
   "metadata": {},
   "source": [
    "$\\tau$の値で挙動が大きく異なるので３つの領域に分けて見てみましょう。\n",
    "\n",
    "- 小さいほど目的温度に近づく速度は早くなりますが、5 fsでは平均値が目的温度に到達しても温度振動の振幅が大きく上は750 Kから下は100 Kまで変動しています。これでは平均値は安定していても「定温」と仮定するのは難しいと思われます。\n",
    "- 10-40の範囲では比較的目標温度への収束も早く、温度の収束性も安定しています。(上図下部）ただし、40 fsの場合振動の周期に人工的な周期性があるように見えます。\n",
    "- $\\tau$が100 fs以上の場合、温度上昇も遅く非常に大きく波打つように振動しています。いずれは目標温度に収束するのかもしれませんが、大きく波打つ挙動の中で温度が数千Kに達しているところもみられ、検討している対象によっては大きな影響を受ける可能性があります。\n",
    "\n",
    "上記の例では$\\tau$が10か20 fs辺りが妥当な時定数なようです。ただし、計算の初期で瞬間的にですが1000 Kを超える温度になるところがあります。この問題を回避することが出来るのでしょうか？ためしに事前にコンディショニングとしてMB分布を利用した温度の初期化、もしくはBerendsen熱浴法等の方法による平衡状態を作って計算してみましょう。Berendsen熱浴は計算開始から1 psだけ実行したのちにNosé–Hoover熱浴に切り替えます。実際このようなプレコンディショニングはどの程度有効でしょうか？"
   ]
  },
  {
   "cell_type": "markdown",
   "id": "f074f6f5-cf23-497e-a44a-e4a3e458736c",
   "metadata": {
    "tags": []
   },
   "source": [
    "<figure style=\"text-align: center\">\n",
    "    <img src=\"../assets/ch6/Fig6-2_NoseHoover_T_vs_t_taut_20.0_pre-MB.png\"/>\n",
    "    <figcaption align = \"center\">Initialized by the Maxwell-Boltzmann Distribution</figcaption>\n",
    "    \n",
    "    <img src=\"../assets/ch6/Fig6-2_NoseHoover_T_vs_t_taut_20.0_pre-Berendsen_taut_1.0.png\"/>\n",
    "    <figcaption align = \"center\">Initialized by Berendsen thermostat (τ=1.0fs)</figcaption>\n",
    "    \n",
    "    <img src=\"../assets/ch6/Fig6-2_NoseHoover_T_vs_t_taut_20.0_pre-Berendsen_taut_10.0.png\"/>\n",
    "    <figcaption align = \"center\">Initialized by Berendsen thermostat (τ=10.0fs)</figcaption>\n",
    "    \n",
    "    <img src=\"../assets/ch6/Fig6-2_NoseHoover_T_vs_t_taut_20.0_pre-Berendsen_taut_30.0.png\"/>\n",
    "    <figcaption align = \"center\">Initialized by Berendsen thermostat (τ=30.0fs)</figcaption>\n",
    "    <br>\n",
    "    <figcaption align = \"center\">Fig.6-2k. Time evolution of temperature with various initialization methods:</figcaption>\n",
    "    <figcaption style=\"font-size:medium;\"> Log-Log scale (left), Linear scale (right) </figcaption>\n",
    "</figure>"
   ]
  },
  {
   "cell_type": "markdown",
   "id": "75d22b13-2953-4ae8-a3a1-4ddf05352eee",
   "metadata": {},
   "source": [
    "構造最適化された系（i.e. 0 K）に対して、単純にNosé–Hoover法を適用した時は、瞬間的にですが、約1000-2000Kまで温度が上昇していました。これに対してこれらいずれの方法を用いても計算初期の温度上昇が約500-600 Kまでに抑えられていることが確認できます。問題は完全に解消されませんでしたが、それなりに緩和されたと考えられそうです。\n",
    "</br>"
   ]
  },
  {
   "cell_type": "markdown",
   "id": "83cc0278-03b0-4fa2-b9b8-9316222e3599",
   "metadata": {},
   "source": [
    "## [Advanced] Berendsen熱浴法の問題 - ２相共存状態でのNVTアンサンブル\n",
    "\n",
    "Berendsen熱浴法の問題点を示すための典型的な事例として、水中に沈んだAl原子クラスターの例を見てみます。計算対象は水分子が165分子、Al原子クラスター（135原子）です。水分子はおおよそ1g/ccとなるように設計しています。\n",
    "細かい設定はあまり重要ではないのですが、比較的現実的な密度や温度の範囲の設定にしています。以下が計算対象の構造を可視化したものです。"
   ]
  },
  {
   "cell_type": "markdown",
   "id": "b8937b91-16db-4783-b197-c691181a2cec",
   "metadata": {},
   "source": [
    "<figure style=\"text-align: center\">\n",
    "    <img src=\"../assets/ch6/Fig6-2_165h2o_and_135Al_20x20x20_opt.png\" width=\"420\"/>\n",
    "    <figcaption align = \"center\">Fig.6-2l. Starting structure of fcc-Al(111) slab with 20 O$_{2}$ molecules.</figcaption>\n",
    "    <figcaption align = \"center\">(File: ../input/ch6/165h2o_and_135Al_20x20x20_opt.cif)</figcaption>\n",
    "</figure>\n",
    "<br>"
   ]
  },
  {
   "cell_type": "markdown",
   "id": "ff19b790-41f5-4933-a3a3-a78ad1aa015a",
   "metadata": {},
   "source": [
    "さて、この系をMDシミュレーションでBerendsen熱浴法とNosé–Hoover熱浴法を適用して100℃で熱平衡状態にしてみます。MDの時間ステップは1 fs, 計算時間は10 psとします。以下に水分子、Alクラスター、そして系全体の温度のプロットを示します。"
   ]
  },
  {
   "cell_type": "markdown",
   "id": "bfbf43fe-8028-4a19-87e7-39b1c058eb14",
   "metadata": {},
   "source": [
    "<figure style=\"text-align: center\">\n",
    "    <img src=\"../assets/ch6/Fig6-2_165h2o_and_135Al_NVTBerendsen_taut_1.0_373K.png\"/>\n",
    "    <img src=\"../assets/ch6/Fig6-2_165h2o_and_135Al_NoseHoover_ttime_20fs_373K.png\"/>\n",
    "    <figcaption align = \"center\">Fig.6-2m. Comparison of the temperature evolution in Berendsen and Nosé–Hoover thermostats. Each line represents the temperature of the entire system (blue), Al cluster (gray), and water (orange), respectively. </figcaption>\n",
    "</figure>"
   ]
  },
  {
   "cell_type": "markdown",
   "id": "8ded9556-cff5-4af8-993d-936464e779e8",
   "metadata": {},
   "source": [
    "それぞれのグラフで青色の線が系全体の温度、グレーとオレンジがそれぞれAlクラスターと水の温度です。Berendsen熱浴の場合、Alクラスターの温度が\n",
    "平均420Kぐらいなのに対し、H$_2$Oは360Kぐらいを推移しています。これはBerendsen熱浴法で全ての原子を一つの速度スケーリングパラメーターで制御しているためです。\n",
    "系全体の温度は非常に良く安定しているのですが、AlクラスターとH$_2$O分子とでは原子の挙動が大きく異なるので、それぞれの温度が分離（decouple）してしまっています。\n",
    "比較的ぬるいお湯の中に熱いAlの球が浮いているようなものです。現実的には起こり得ない現象で正しい熱平衡状態が再現されていない良い例です。\n",
    "\n",
    "これに対して、Nosé–Hoover熱浴法を用いた方は、系全体の温度と構成要素のそれぞれの温度が概ねよく一致していて問題ないことが確認出来ます。"
   ]
  },
  {
   "cell_type": "markdown",
   "id": "96916550-caa1-4bea-9e41-f38a8380f3f3",
   "metadata": {},
   "source": [
    "## 参考文献"
   ]
  },
  {
   "cell_type": "markdown",
   "id": "4c1e2484-6a8e-499a-8303-1cd2713cad9f",
   "metadata": {},
   "source": [
    "[1] M.P. Allen and D.J. Tildesley, \"Computer simulaiton of liquid\", 2nd Ed., Oxford University Press (2017) ISBN 978-0-19-880319-5. [DOI:10.1093/oso/9780198803195.001.0001](https://doi.org/10.1093/oso/9780198803195.001.0001)\n",
    "\n",
    "[2] H. J. C. Berendsen, J. P. M. Postma, W. F. van Gunsteren, A. DiNola, and J. R. Haak, \"Molecular dynamics with coupling to an external bath\", J. Chem. Phys. (1984) 81 3684, [DOI:10.1063/1.448118](https://doi.org/10.1063/1.448118)\n",
    "\n",
    "[3] \"GROMACS 2019-rc1 Reference Manual\", https://manual.gromacs.org/documentation/2019-rc1/reference-manual/index.html\n",
    "\n",
    "[4] M.E. Tuckerman, \"Statistical mechanics: Theory and molecular simulation\", Oxford University Press (2010) ISBN 978-0-19-852526-4. [https://global.oup.com/academic/product/statistical-mechanics-9780198525264?q=Statistical%20mechanics:%20Theory%20and%20molecular%20simulation&cc=gb&lang=en#](https://global.oup.com/academic/product/statistical-mechanics-9780198525264?q=Statistical%20mechanics%3A%20Theory%20and%20molecular%20simulation&cc=gb&lang=en#)\n",
    "\n",
    "[5] D. Frenkel and B. Smit \"Understanding molecular simulation - from algorithms to applications\", 2nd Ed., Academic Press (2002) ISBN 978-0-12-267351-1. [DOI:10.1016/B978-0-12-267351-1.X5000-7](https://doi.org/10.1016/B978-0-12-267351-1.X5000-7)\n",
    "\n",
    "[6] Mo et al. \"First Principles Study of the Li10GeP2S12 Lithium Super Ionic Conductor Material\", Chem.Mater. (2012) 24, 15-17\n",
    "https://pubs.acs.org/doi/10.1021/cm203303y"
   ]
  }
 ],
 "metadata": {
  "kernelspec": {
   "display_name": "Python 3.9",
   "language": "python",
   "name": "python39"
  },
  "language_info": {
   "codemirror_mode": {
    "name": "ipython",
    "version": 3
   },
   "file_extension": ".py",
   "mimetype": "text/x-python",
   "name": "python",
   "nbconvert_exporter": "python",
   "pygments_lexer": "ipython3",
   "version": "3.9.16"
  },
  "widgets": {
   "application/vnd.jupyter.widget-state+json": {
    "state": {
     "00ba2dea1b6e47cbba8135fc251458b0": {
      "model_module": "@jupyter-widgets/controls",
      "model_module_version": "1.5.0",
      "model_name": "FloatSliderModel",
      "state": {
       "description": "Force scale",
       "layout": "IPY_MODEL_b17b03764d03472195a6b8edd3f16453",
       "step": 0.1,
       "style": "IPY_MODEL_9a534a2be08d44d09ffaf56a9f7a83ca",
       "value": 0.5
      }
     },
     "033983cb06084f8fa0c54ecde6ca8d32": {
      "model_module": "@jupyter-widgets/base",
      "model_module_version": "1.2.0",
      "model_name": "LayoutModel",
      "state": {}
     },
     "0378594e6c884f6cbcb09813fc071695": {
      "model_module": "@jupyter-widgets/controls",
      "model_module_version": "1.5.0",
      "model_name": "DropdownModel",
      "state": {
       "_options_labels": [
        " ",
        "picking",
        "random",
        "uniform",
        "atomindex",
        "residueindex",
        "chainindex",
        "modelindex",
        "sstruc",
        "element",
        "resname",
        "bfactor",
        "hydrophobicity",
        "value",
        "volume",
        "occupancy"
       ],
       "description": "Color scheme",
       "index": 9,
       "layout": "IPY_MODEL_9ea40a0c8aaf45a2b6f86ed9dbcb0dc8",
       "style": "IPY_MODEL_6059f8c75a214513acc11b24223bc5ca"
      }
     },
     "04faab97f4d843f7bb71c83e317b9be6": {
      "model_module": "@jupyter-widgets/base",
      "model_module_version": "1.2.0",
      "model_name": "LayoutModel",
      "state": {
       "border": "0px solid black"
      }
     },
     "0506f626d2754ccf8e00e81d37a34fb1": {
      "model_module": "@jupyter-widgets/controls",
      "model_module_version": "1.5.0",
      "model_name": "LinkModel",
      "state": {
       "source": [
        "IPY_MODEL_450ded30818f4158b04d51d98c272735",
        "max"
       ],
       "target": [
        "IPY_MODEL_559291bc71e3459c840367eb05cac52f",
        "max_frame"
       ]
      }
     },
     "051171f0d6624ded8fa07b5b3f171f16": {
      "model_module": "@jupyter-widgets/controls",
      "model_module_version": "1.5.0",
      "model_name": "DropdownModel",
      "state": {
       "_options_labels": [
        "All",
        "Ge",
        "P",
        "S",
        "Li"
       ],
       "description": "Show",
       "index": 0,
       "layout": "IPY_MODEL_91c4e707c3f044959631086433f4fe32",
       "style": "IPY_MODEL_d45b114593d24249b464cda3861f96d4"
      }
     },
     "054e066fbd3946619353ba23e93c7731": {
      "model_module": "@jupyter-widgets/controls",
      "model_module_version": "1.5.0",
      "model_name": "ImageModel",
      "state": {
       "layout": "IPY_MODEL_e7ffb1a4774c46eebc31d4361cecd4b6",
       "width": "900.0"
      }
     },
     "056a1767c06d4d3ebfe6da332b734e68": {
      "model_module": "@jupyter-widgets/base",
      "model_module_version": "1.2.0",
      "model_name": "LayoutModel",
      "state": {}
     },
     "0616142582a343e189724ce7e067d9fc": {
      "model_module": "@jupyter-widgets/controls",
      "model_module_version": "1.5.0",
      "model_name": "FloatSliderModel",
      "state": {
       "description": "Charge scale",
       "layout": "IPY_MODEL_8bae303e0e33436a926b58d9b4eb614c",
       "step": 0.1,
       "style": "IPY_MODEL_d8cb94dced704cbaa2f2da3d0ec7f66c",
       "value": 1
      }
     },
     "0698112d267e4703b6dfb320a2566353": {
      "model_module": "@jupyter-widgets/controls",
      "model_module_version": "1.5.0",
      "model_name": "DropdownModel",
      "state": {
       "_options_labels": [
        "All",
        "O",
        "Al"
       ],
       "description": "Show",
       "index": 0,
       "layout": "IPY_MODEL_dfede95878ac499891b37a5821fc8533",
       "style": "IPY_MODEL_337f8cb1aea54391b802a7c64df2b3d2"
      }
     },
     "06b639a0ef5d45debb6e25e2212a4120": {
      "model_module": "@jupyter-widgets/controls",
      "model_module_version": "1.5.0",
      "model_name": "ButtonStyleModel",
      "state": {}
     },
     "06cd83ad1d104aa2916507a612cb0ca1": {
      "model_module": "@jupyter-widgets/controls",
      "model_module_version": "1.5.0",
      "model_name": "TextModel",
      "state": {
       "description": "Filename: ",
       "layout": "IPY_MODEL_a58d2ea29b7c4becaa1d8e412eed31e8",
       "style": "IPY_MODEL_41a1adcf24494b7f95e1996a515282d6",
       "value": "screenshot.png"
      }
     },
     "0703e8b5cd5e4fb99b22d1fc369132d4": {
      "model_module": "@jupyter-widgets/base",
      "model_module_version": "1.2.0",
      "model_name": "LayoutModel",
      "state": {}
     },
     "07d14ed06ef9468ea514abf2584fc4b5": {
      "model_module": "@jupyter-widgets/base",
      "model_module_version": "1.2.0",
      "model_name": "LayoutModel",
      "state": {}
     },
     "08ecd4ddf12b4fb29bbc28c00e122c57": {
      "model_module": "@jupyter-widgets/base",
      "model_module_version": "1.2.0",
      "model_name": "LayoutModel",
      "state": {}
     },
     "09068bf18e884422b239011a564a74b2": {
      "model_module": "@jupyter-widgets/controls",
      "model_module_version": "1.5.0",
      "model_name": "DescriptionStyleModel",
      "state": {
       "description_width": ""
      }
     },
     "0b8564b75cd24ab39d14a03c0ac1070a": {
      "model_module": "@jupyter-widgets/controls",
      "model_module_version": "1.5.0",
      "model_name": "DescriptionStyleModel",
      "state": {
       "description_width": ""
      }
     },
     "0bc2530916f74f899512424c0f288111": {
      "model_module": "@jupyter-widgets/controls",
      "model_module_version": "1.5.0",
      "model_name": "LinkModel",
      "state": {
       "source": [
        "IPY_MODEL_c576c87562014f2ba5ad0aa01f9a0bd2",
        "max"
       ],
       "target": [
        "IPY_MODEL_428ffe8202cc4a6fb64d24dd0117c6c6",
        "max_frame"
       ]
      }
     },
     "0c30d641814044559ee1675b8d3c820e": {
      "model_module": "@jupyter-widgets/base",
      "model_module_version": "1.2.0",
      "model_name": "LayoutModel",
      "state": {}
     },
     "0d7a9488487046579adf51fc98101013": {
      "model_module": "@jupyter-widgets/controls",
      "model_module_version": "1.5.0",
      "model_name": "IntSliderModel",
      "state": {
       "layout": "IPY_MODEL_dc3209c4ceba4f4fb23988d9601a0040",
       "max": 0,
       "style": "IPY_MODEL_885b05eb2d65451791b525da6c6eb0e6"
      }
     },
     "0e6b68ceddd3466b9adac6373a9da4e9": {
      "model_module": "@jupyter-widgets/base",
      "model_module_version": "1.2.0",
      "model_name": "LayoutModel",
      "state": {}
     },
     "0f172fbd786941688c5947ece44bcdb4": {
      "model_module": "@jupyter-widgets/controls",
      "model_module_version": "1.5.0",
      "model_name": "DropdownModel",
      "state": {
       "_options_labels": [
        " ",
        "picking",
        "random",
        "uniform",
        "atomindex",
        "residueindex",
        "chainindex",
        "modelindex",
        "sstruc",
        "element",
        "resname",
        "bfactor",
        "hydrophobicity",
        "value",
        "volume",
        "occupancy"
       ],
       "description": "Color scheme",
       "index": 9,
       "layout": "IPY_MODEL_1194542063384da1a1804698a4458e68",
       "style": "IPY_MODEL_09068bf18e884422b239011a564a74b2"
      }
     },
     "0f3bdb6423b44bebb124065a8940fdc6": {
      "model_module": "@jupyter-widgets/base",
      "model_module_version": "1.2.0",
      "model_name": "LayoutModel",
      "state": {}
     },
     "10c3bcc630a24b2594d98c35cc2bf936": {
      "model_module": "@jupyter-widgets/controls",
      "model_module_version": "1.5.0",
      "model_name": "ButtonStyleModel",
      "state": {}
     },
     "1142f440d2584ae49d04ae7560991b9a": {
      "model_module": "@jupyter-widgets/controls",
      "model_module_version": "1.5.0",
      "model_name": "HBoxModel",
      "state": {
       "children": [
        "IPY_MODEL_d05e4f6dc0154a32a6c2d5c542879f9e",
        "IPY_MODEL_7e5921806e3b4e5fadc71d3085574a27"
       ],
       "layout": "IPY_MODEL_a3ab02872aee47748ae5199f680ea9df"
      }
     },
     "1194542063384da1a1804698a4458e68": {
      "model_module": "@jupyter-widgets/base",
      "model_module_version": "1.2.0",
      "model_name": "LayoutModel",
      "state": {}
     },
     "1218d6b8467c42e097b58a8c5a896d8a": {
      "model_module": "@jupyter-widgets/base",
      "model_module_version": "1.2.0",
      "model_name": "LayoutModel",
      "state": {}
     },
     "12d2c743603946409f7e493dd6c77f5b": {
      "model_module": "@jupyter-widgets/base",
      "model_module_version": "1.2.0",
      "model_name": "LayoutModel",
      "state": {}
     },
     "13022ecd067a4710821ed7c84ed8bf9c": {
      "model_module": "@jupyter-widgets/controls",
      "model_module_version": "1.5.0",
      "model_name": "FloatSliderModel",
      "state": {
       "description": "Charge scale",
       "layout": "IPY_MODEL_65c52e3292484eb4ae819e1fdf1e076a",
       "step": 0.1,
       "style": "IPY_MODEL_9ba46f2601e349708d2e932fc1f6e1ea",
       "value": 1
      }
     },
     "13d46819edf448558469affc42579741": {
      "model_module": "@jupyter-widgets/controls",
      "model_module_version": "1.5.0",
      "model_name": "ButtonModel",
      "state": {
       "icon": "compress",
       "layout": "IPY_MODEL_68e440c92e8f4adbaa75ff267bc906a9",
       "style": "IPY_MODEL_d2c27dcef9564b2db94ce5d5d4678459"
      }
     },
     "150c5e3b92e944ca8c4358af8940771a": {
      "model_module": "@jupyter-widgets/controls",
      "model_module_version": "1.5.0",
      "model_name": "VBoxModel",
      "state": {
       "children": [
        "IPY_MODEL_550a1c110d4c4c1c96abbb1fb21e318f",
        "IPY_MODEL_ba06f43ca36b428985f7a063f7b36f14",
        "IPY_MODEL_b620c6af0a9c445fa440b8c45d164ccf",
        "IPY_MODEL_341a724966cc47a0af28ec36df3c226d",
        "IPY_MODEL_5d1f7a9dba7f4fd9afb44f9f2ce96f15",
        "IPY_MODEL_9c0f26b27906480d9130c3a57c72ea99",
        "IPY_MODEL_e9600cefd2114041a199e0a3553de5a3",
        "IPY_MODEL_ac0564073bdf491cabf4758e94461a91",
        "IPY_MODEL_0616142582a343e189724ce7e067d9fc",
        "IPY_MODEL_1b4d95f5634d4a34ae87e6169222dcd0"
       ],
       "layout": "IPY_MODEL_9ac4ade88d3442c7a1b6e3453f0657f1"
      }
     },
     "15430e00f18f49ddbc5280d89c1c4ea0": {
      "model_module": "@jupyter-widgets/base",
      "model_module_version": "1.2.0",
      "model_name": "LayoutModel",
      "state": {}
     },
     "158f5715108e4a4f909a50ccd077bb55": {
      "model_module": "@jupyter-widgets/base",
      "model_module_version": "1.2.0",
      "model_name": "LayoutModel",
      "state": {}
     },
     "16ab796ab8224e61b08422ccbf01588f": {
      "model_module": "@jupyter-widgets/controls",
      "model_module_version": "1.5.0",
      "model_name": "ButtonModel",
      "state": {
       "icon": "compress",
       "layout": "IPY_MODEL_c52cef9d40bc46e8b88611a2148bde3f",
       "style": "IPY_MODEL_d41cc0dfc9e442ce9893a8d3ccbd87d8"
      }
     },
     "16aec2b9f37042a5820ab6a949f71bfb": {
      "model_module": "@jupyter-widgets/controls",
      "model_module_version": "1.5.0",
      "model_name": "DescriptionStyleModel",
      "state": {
       "description_width": ""
      }
     },
     "1859dfc2402c452baf33aabf904c8a1a": {
      "model_module": "@jupyter-widgets/base",
      "model_module_version": "1.2.0",
      "model_name": "LayoutModel",
      "state": {}
     },
     "1b2e51e5cefe408cad39d737c335d205": {
      "model_module": "@jupyter-widgets/controls",
      "model_module_version": "1.5.0",
      "model_name": "FloatSliderModel",
      "state": {
       "description": "Charge scale",
       "layout": "IPY_MODEL_a1bafb26a9094c0ea627b3c6b0c23769",
       "step": 0.1,
       "style": "IPY_MODEL_7b9c804c5e83428aaa47dcbc422f93d3",
       "value": 1
      }
     },
     "1b4d95f5634d4a34ae87e6169222dcd0": {
      "model_module": "@jupyter-widgets/output",
      "model_module_version": "1.0.0",
      "model_name": "OutputModel",
      "state": {
       "layout": "IPY_MODEL_cf8aa0a389a64935bd6a585d5322cabb"
      }
     },
     "1db1e8b02f5c4cffbde3c9b7e226c018": {
      "model_module": "@jupyter-widgets/controls",
      "model_module_version": "1.5.0",
      "model_name": "PlayModel",
      "state": {
       "layout": "IPY_MODEL_1218d6b8467c42e097b58a8c5a896d8a",
       "max": 0,
       "style": "IPY_MODEL_f1ac9f75f11c44458b701e36874af9f4"
      }
     },
     "1dccaed42f5f4f0fb573b4863cfa6fa9": {
      "model_module": "@jupyter-widgets/base",
      "model_module_version": "1.2.0",
      "model_name": "LayoutModel",
      "state": {}
     },
     "1e59d02c9e7740608d5d73e50010a603": {
      "model_module": "@jupyter-widgets/base",
      "model_module_version": "1.2.0",
      "model_name": "LayoutModel",
      "state": {
       "width": "34px"
      }
     },
     "1f51dd4bd2ce421ea24ff70e5e011fe9": {
      "model_module": "@jupyter-widgets/controls",
      "model_module_version": "1.5.0",
      "model_name": "HBoxModel",
      "state": {
       "children": [
        "IPY_MODEL_5ab4bcbb44b84a07a364ea7ab8d012de",
        "IPY_MODEL_703946ff7b424c2ba6195168bfbd83c4"
       ],
       "layout": "IPY_MODEL_07d14ed06ef9468ea514abf2584fc4b5"
      }
     },
     "1f9d358aed784f5882506106bf5aa4bb": {
      "model_module": "@jupyter-widgets/base",
      "model_module_version": "1.2.0",
      "model_name": "LayoutModel",
      "state": {}
     },
     "210150c9d14a453bb2991f5ddfed66ab": {
      "model_module": "@jupyter-widgets/controls",
      "model_module_version": "1.5.0",
      "model_name": "SliderStyleModel",
      "state": {
       "description_width": ""
      }
     },
     "21082506d8814f5b9fb0bd7e69ca4fd7": {
      "model_module": "@jupyter-widgets/base",
      "model_module_version": "1.2.0",
      "model_name": "LayoutModel",
      "state": {}
     },
     "21124d9d849f407987c19d941a16182d": {
      "model_module": "@jupyter-widgets/controls",
      "model_module_version": "1.5.0",
      "model_name": "DescriptionStyleModel",
      "state": {
       "description_width": ""
      }
     },
     "26c88deb1d494e179e0a879e09b2820c": {
      "model_module": "@jupyter-widgets/base",
      "model_module_version": "1.2.0",
      "model_name": "LayoutModel",
      "state": {}
     },
     "275e4a20698a4fcbae0289d2691104d0": {
      "model_module": "@jupyter-widgets/base",
      "model_module_version": "1.2.0",
      "model_name": "LayoutModel",
      "state": {}
     },
     "27de3639c2364ef6b6353f1e117cbdd6": {
      "model_module": "@jupyter-widgets/base",
      "model_module_version": "1.2.0",
      "model_name": "LayoutModel",
      "state": {}
     },
     "284bc77a586442f4bea02f06487c482e": {
      "model_module": "@jupyter-widgets/controls",
      "model_module_version": "1.5.0",
      "model_name": "PlayModel",
      "state": {
       "layout": "IPY_MODEL_f99174bec2174b7bb1a8d278c15b1490",
       "max": 0,
       "style": "IPY_MODEL_8200db976a38451ca883e9e764b3f41a"
      }
     },
     "292d2826dd0a4a5ea2df71847bae3407": {
      "model_module": "@jupyter-widgets/base",
      "model_module_version": "1.2.0",
      "model_name": "LayoutModel",
      "state": {}
     },
     "2930f0a9f1d947fa87797c3d391010e0": {
      "model_module": "@jupyter-widgets/controls",
      "model_module_version": "1.5.0",
      "model_name": "ButtonStyleModel",
      "state": {}
     },
     "29ee78b6d62942b0a204658b5f80213b": {
      "model_module": "@jupyter-widgets/base",
      "model_module_version": "1.2.0",
      "model_name": "LayoutModel",
      "state": {}
     },
     "2ae5285e7db54707bcc27bdd19b7bc09": {
      "model_module": "@jupyter-widgets/controls",
      "model_module_version": "1.5.0",
      "model_name": "HBoxModel",
      "state": {
       "children": [
        "IPY_MODEL_9c90943972e14c4ebbec5bce474c005e",
        "IPY_MODEL_67b6361a2a2e4971b84b594a878f4826"
       ],
       "layout": "IPY_MODEL_98d104c6ced2419bb64cd69b0a19132d"
      }
     },
     "2b2a968e7a9c49d78090d143be4391f5": {
      "model_module": "@jupyter-widgets/base",
      "model_module_version": "1.2.0",
      "model_name": "LayoutModel",
      "state": {}
     },
     "2bf7c5a9fa404e16a64859eaca14f681": {
      "model_module": "@jupyter-widgets/controls",
      "model_module_version": "1.5.0",
      "model_name": "SliderStyleModel",
      "state": {
       "description_width": ""
      }
     },
     "2c128189cf384b99925471a622322b00": {
      "model_module": "@jupyter-widgets/controls",
      "model_module_version": "1.5.0",
      "model_name": "FloatSliderModel",
      "state": {
       "description": "Ball size",
       "layout": "IPY_MODEL_12d2c743603946409f7e493dd6c77f5b",
       "max": 1.5,
       "step": 0.01,
       "style": "IPY_MODEL_71147f1d555a490789ad50822bf2d18e",
       "value": 0.5
      }
     },
     "2c5ee5a64f1c4c25b3ec4a514a851031": {
      "model_module": "@jupyter-widgets/base",
      "model_module_version": "1.2.0",
      "model_name": "LayoutModel",
      "state": {}
     },
     "2e1ff3c48c044e05a382d563d5be0a13": {
      "model_module": "@jupyter-widgets/base",
      "model_module_version": "1.2.0",
      "model_name": "LayoutModel",
      "state": {}
     },
     "2e4f298d039645a1993ea1c36d236717": {
      "model_module": "@jupyter-widgets/controls",
      "model_module_version": "1.5.0",
      "model_name": "DescriptionStyleModel",
      "state": {
       "description_width": ""
      }
     },
     "2e97ae5184464350bf026ed8dea6f278": {
      "model_module": "@jupyter-widgets/base",
      "model_module_version": "1.2.0",
      "model_name": "LayoutModel",
      "state": {}
     },
     "31fd00d19b2a448a86c45f6d64e3ec08": {
      "model_module": "@jupyter-widgets/controls",
      "model_module_version": "1.5.0",
      "model_name": "ButtonModel",
      "state": {
       "description": "Save image",
       "layout": "IPY_MODEL_c3e320ce2d5d4b08ab69901fcd30a73f",
       "style": "IPY_MODEL_10c3bcc630a24b2594d98c35cc2bf936",
       "tooltip": "Save current frame to file.\nCurrently .png and .html are supported.\nIt takes a bit time, please be patient."
      }
     },
     "331dfe97413142dbace6f1dedb3a50f0": {
      "model_module": "@jupyter-widgets/controls",
      "model_module_version": "1.5.0",
      "model_name": "ButtonModel",
      "state": {
       "description": "Save image",
       "layout": "IPY_MODEL_3507712e217140c4b118b5a269ae6d2d",
       "style": "IPY_MODEL_871740eacfda4379bff5ea9890adad1f",
       "tooltip": "Save current frame to file.\nCurrently .png and .html are supported.\nIt takes a bit time, please be patient."
      }
     },
     "337f8cb1aea54391b802a7c64df2b3d2": {
      "model_module": "@jupyter-widgets/controls",
      "model_module_version": "1.5.0",
      "model_name": "DescriptionStyleModel",
      "state": {
       "description_width": ""
      }
     },
     "341a724966cc47a0af28ec36df3c226d": {
      "model_module": "@jupyter-widgets/controls",
      "model_module_version": "1.5.0",
      "model_name": "TextModel",
      "state": {
       "description": "Filename: ",
       "layout": "IPY_MODEL_158f5715108e4a4f909a50ccd077bb55",
       "style": "IPY_MODEL_c95eadd5c4f64a8095c94d3064b70157",
       "value": "screenshot.png"
      }
     },
     "3507712e217140c4b118b5a269ae6d2d": {
      "model_module": "@jupyter-widgets/base",
      "model_module_version": "1.2.0",
      "model_name": "LayoutModel",
      "state": {}
     },
     "3791d5e5f6a749fc88a9383393e4b04c": {
      "model_module": "@jupyter-widgets/controls",
      "model_module_version": "1.5.0",
      "model_name": "DescriptionStyleModel",
      "state": {
       "description_width": ""
      }
     },
     "38c8bd49817b44598009c6c719b98268": {
      "model_module": "@jupyter-widgets/base",
      "model_module_version": "1.2.0",
      "model_name": "LayoutModel",
      "state": {}
     },
     "39234db6c19b44699b56e703b08d735b": {
      "model_module": "@jupyter-widgets/controls",
      "model_module_version": "1.5.0",
      "model_name": "DescriptionStyleModel",
      "state": {
       "description_width": ""
      }
     },
     "3a1160078c234ed6b4673fe4b5aaec80": {
      "model_module": "@jupyter-widgets/base",
      "model_module_version": "1.2.0",
      "model_name": "LayoutModel",
      "state": {}
     },
     "3a855259981f4734b4d3f83fed596338": {
      "model_module": "@jupyter-widgets/base",
      "model_module_version": "1.2.0",
      "model_name": "LayoutModel",
      "state": {}
     },
     "3ae211d22f10458c813b74e6cbad676a": {
      "model_module": "@jupyter-widgets/base",
      "model_module_version": "1.2.0",
      "model_name": "LayoutModel",
      "state": {}
     },
     "3bb98cf042984ab9bea184d400b11b7e": {
      "model_module": "@jupyter-widgets/base",
      "model_module_version": "1.2.0",
      "model_name": "LayoutModel",
      "state": {}
     },
     "3bf681812bc44ec895845e9d34207cc7": {
      "model_module": "@jupyter-widgets/base",
      "model_module_version": "1.2.0",
      "model_name": "LayoutModel",
      "state": {}
     },
     "3c3969ff61fb464192efad62053cfc2f": {
      "model_module": "@jupyter-widgets/output",
      "model_module_version": "1.0.0",
      "model_name": "OutputModel",
      "state": {
       "layout": "IPY_MODEL_de119d594ac446e7a2f388d6bde5704f"
      }
     },
     "3c8533273ffc4072b967132d9783a29d": {
      "model_module": "@jupyter-widgets/controls",
      "model_module_version": "1.5.0",
      "model_name": "FloatSliderModel",
      "state": {
       "description": "Force scale",
       "layout": "IPY_MODEL_a201e8ac4b994f9b91b0552016963cef",
       "step": 0.1,
       "style": "IPY_MODEL_7bdbee3494b64cd5a7c9bee59a9d19e4",
       "value": 0.5
      }
     },
     "3d9eb89ffcb34922beac215bea47f07b": {
      "model_module": "@jupyter-widgets/base",
      "model_module_version": "1.2.0",
      "model_name": "LayoutModel",
      "state": {}
     },
     "40875c0298b7412e8e0520ef412f5308": {
      "model_module": "@jupyter-widgets/controls",
      "model_module_version": "1.5.0",
      "model_name": "SliderStyleModel",
      "state": {
       "description_width": ""
      }
     },
     "41a1adcf24494b7f95e1996a515282d6": {
      "model_module": "@jupyter-widgets/controls",
      "model_module_version": "1.5.0",
      "model_name": "DescriptionStyleModel",
      "state": {
       "description_width": ""
      }
     },
     "41a5bb67adbc482dbbdd1f229ed212ff": {
      "model_module": "@jupyter-widgets/controls",
      "model_module_version": "1.5.0",
      "model_name": "LinkModel",
      "state": {
       "source": [
        "IPY_MODEL_caecb3582f2a4572ae52bb3e3cae3dff",
        "value"
       ],
       "target": [
        "IPY_MODEL_76d56e99a697473a96eb39a3146f9157",
        "frame"
       ]
      }
     },
     "426928bbdc7a4c1d80f160d66e2356c5": {
      "model_module": "@jupyter-widgets/controls",
      "model_module_version": "1.5.0",
      "model_name": "DescriptionStyleModel",
      "state": {
       "description_width": ""
      }
     },
     "428ffe8202cc4a6fb64d24dd0117c6c6": {
      "model_module": "nglview-js-widgets",
      "model_module_version": "3.0.1",
      "model_name": "NGLModel",
      "state": {
       "_camera_orientation": [
        48.105553379604856,
        0,
        0,
        0,
        0,
        48.105553379604856,
        0,
        0,
        0,
        0,
        48.105553379604856,
        0,
        -4.084999797865748,
        -5.202999979257584,
        -16.296000361442566,
        1
       ],
       "_camera_str": "orthographic",
       "_gui_theme": null,
       "_ibtn_fullscreen": "IPY_MODEL_16ab796ab8224e61b08422ccbf01588f",
       "_igui": null,
       "_iplayer": "IPY_MODEL_453ff4be5e68476785d69888d09acdcd",
       "_ngl_color_dict": {},
       "_ngl_coordinate_resource": {},
       "_ngl_full_stage_parameters": {
        "ambientColor": 14540253,
        "ambientIntensity": 0.2,
        "backgroundColor": "white",
        "cameraEyeSep": 0.3,
        "cameraFov": 40,
        "cameraType": "orthographic",
        "clipDist": 0,
        "clipFar": 100,
        "clipNear": 0,
        "fogFar": 100,
        "fogNear": 50,
        "hoverTimeout": 0,
        "impostor": true,
        "lightColor": 14540253,
        "lightIntensity": 1,
        "mousePreset": "default",
        "panSpeed": 1,
        "quality": "medium",
        "rotateSpeed": 2,
        "sampleLevel": 0,
        "tooltip": true,
        "workerDefault": true,
        "zoomSpeed": 1.2
       },
       "_ngl_msg_archive": [
        {
         "args": [
          {
           "binary": false,
           "data": "CRYST1    8.591    9.920   31.691  90.00  90.00  90.00 P 1\nMODEL     1\nATOM      1   Al MOL     1       2.290   1.439  10.059  1.00  0.00          AL  \nATOM      2   Al MOL     1       5.132   1.652   9.953  1.00  0.00          AL  \nATOM      3   Al MOL     1       7.932   1.370  10.041  1.00  0.00          AL  \nATOM      4   Al MOL     1       0.845   3.918   9.989  1.00  0.00          AL  \nATOM      5   Al MOL     1       3.571   3.979   9.695  1.00  0.00          AL  \nATOM      6   Al MOL     1       6.632   4.006   9.972  1.00  0.00          AL  \nATOM      7   Al MOL     1       2.139   6.425   9.854  1.00  0.00          AL  \nATOM      8   Al MOL     1       5.018   6.431  10.083  1.00  0.00          AL  \nATOM      9   Al MOL     1       8.124   6.532   9.574  1.00  0.00          AL  \nATOM     10   Al MOL     1       0.669   8.904  10.052  1.00  0.00          AL  \nATOM     11   Al MOL     1       3.634   8.954   9.910  1.00  0.00          AL  \nATOM     12   Al MOL     1       6.393   8.864  10.159  1.00  0.00          AL  \nATOM     13   Al MOL     1       0.736   2.298  12.459  1.00  0.00          AL  \nATOM     14   Al MOL     1       3.589   2.309  12.341  1.00  0.00          AL  \nATOM     15   Al MOL     1       6.630   2.329  12.372  1.00  0.00          AL  \nATOM     16   Al MOL     1       2.273   4.955  12.294  1.00  0.00          AL  \nATOM     17   Al MOL     1       5.170   4.741  12.357  1.00  0.00          AL  \nATOM     18   Al MOL     1       8.053   4.841  12.326  1.00  0.00          AL  \nATOM     19   Al MOL     1       0.730   7.288  12.339  1.00  0.00          AL  \nATOM     20   Al MOL     1       3.656   7.293  12.368  1.00  0.00          AL  \nATOM     21   Al MOL     1       6.472   7.253  12.430  1.00  0.00          AL  \nATOM     22   Al MOL     1       2.061   9.788  12.521  1.00  0.00          AL  \nATOM     23   Al MOL     1       5.021   9.844  12.480  1.00  0.00          AL  \nATOM     24   Al MOL     1       7.843   9.602  12.375  1.00  0.00          AL  \nATOM     25   Al MOL     1       0.700   0.687  14.823  1.00  0.00          AL  \nATOM     26   Al MOL     1       3.466   0.752  14.789  1.00  0.00          AL  \nATOM     27   Al MOL     1       6.327   0.611  14.761  1.00  0.00          AL  \nATOM     28   Al MOL     1       2.242   3.212  14.743  1.00  0.00          AL  \nATOM     29   Al MOL     1       5.045   3.156  14.701  1.00  0.00          AL  \nATOM     30   Al MOL     1       7.976   3.168  14.623  1.00  0.00          AL  \nATOM     31   Al MOL     1       0.782   5.720  14.709  1.00  0.00          AL  \nATOM     32   Al MOL     1       3.640   5.635  14.690  1.00  0.00          AL  \nATOM     33   Al MOL     1       6.475   5.611  14.666  1.00  0.00          AL  \nATOM     34   Al MOL     1       2.011   8.127  14.731  1.00  0.00          AL  \nATOM     35   Al MOL     1       4.798   8.170  14.765  1.00  0.00          AL  \nATOM     36   Al MOL     1       7.792   8.168  14.773  1.00  0.00          AL  \nATOM     37   Al MOL     1       2.165   1.612  17.095  1.00  0.00          AL  \nATOM     38   Al MOL     1       4.908   1.631  17.005  1.00  0.00          AL  \nATOM     39   Al MOL     1       7.793   1.606  16.865  1.00  0.00          AL  \nATOM     40   Al MOL     1       0.697   4.092  16.957  1.00  0.00          AL  \nATOM     41   Al MOL     1       3.642   4.129  17.052  1.00  0.00          AL  \nATOM     42   Al MOL     1       6.483   4.038  16.906  1.00  0.00          AL  \nATOM     43   Al MOL     1       2.105   6.569  17.085  1.00  0.00          AL  \nATOM     44   Al MOL     1       4.998   6.586  16.995  1.00  0.00          AL  \nATOM     45   Al MOL     1       7.785   6.521  17.022  1.00  0.00          AL  \nATOM     46   Al MOL     1       0.573   9.020  17.055  1.00  0.00          AL  \nATOM     47   Al MOL     1       3.504   8.979  17.129  1.00  0.00          AL  \nATOM     48   Al MOL     1       6.255   9.116  17.059  1.00  0.00          AL  \nATOM     49   Al MOL     1       0.720   2.336  19.259  1.00  0.00          AL  \nATOM     50   Al MOL     1       3.544   2.436  19.400  1.00  0.00          AL  \nATOM     51   Al MOL     1       6.445   2.303  19.224  1.00  0.00          AL  \nATOM     52   Al MOL     1       2.185   4.855  19.285  1.00  0.00          AL  \nATOM     53   Al MOL     1       5.025   4.861  19.366  1.00  0.00          AL  \nATOM     54   Al MOL     1       7.784   4.842  19.297  1.00  0.00          AL  \nATOM     55   Al MOL     1       0.652   7.350  19.341  1.00  0.00          AL  \nATOM     56   Al MOL     1       3.570   7.296  19.421  1.00  0.00          AL  \nATOM     57   Al MOL     1       6.366   7.436  19.478  1.00  0.00          AL  \nATOM     58   Al MOL     1       2.016   9.805  19.263  1.00  0.00          AL  \nATOM     59   Al MOL     1       4.904   9.825  19.530  1.00  0.00          AL  \nATOM     60   Al MOL     1       7.832   9.805  19.259  1.00  0.00          AL  \nATOM     61   Al MOL     1       0.645   0.517  21.581  1.00  0.00          AL  \nATOM     62   Al MOL     1       3.515   0.692  21.784  1.00  0.00          AL  \nATOM     63   Al MOL     1       6.414   0.658  21.780  1.00  0.00          AL  \nATOM     64   Al MOL     1       2.084   3.125  21.708  1.00  0.00          AL  \nATOM     65   Al MOL     1       5.026   3.121  21.715  1.00  0.00          AL  \nATOM     66   Al MOL     1       7.878   2.994  21.646  1.00  0.00          AL  \nATOM     67   Al MOL     1       0.659   5.543  21.635  1.00  0.00          AL  \nATOM     68   Al MOL     1       3.604   5.501  21.701  1.00  0.00          AL  \nATOM     69   Al MOL     1       6.459   5.585  21.712  1.00  0.00          AL  \nATOM     70   Al MOL     1       2.189   7.912  21.733  1.00  0.00          AL  \nATOM     71   Al MOL     1       4.940   8.070  22.216  1.00  0.00          AL  \nATOM     72   Al MOL     1       8.031   7.968  21.824  1.00  0.00          AL  \nATOM     73    O MOL     1       5.827   3.130  27.731  1.00  0.00           O  \nATOM     74    O MOL     1       5.477   3.174  26.546  1.00  0.00           O  \nATOM     75    O MOL     1       2.396   8.563  28.273  1.00  0.00           O  \nATOM     76    O MOL     1       2.235   7.737  27.377  1.00  0.00           O  \nATOM     77    O MOL     1       4.217   9.515   2.564  1.00  0.00           O  \nATOM     78    O MOL     1       3.784   9.889   1.481  1.00  0.00           O  \nATOM     79    O MOL     1       4.666   5.834   2.393  1.00  0.00           O  \nATOM     80    O MOL     1       5.579   6.486   1.919  1.00  0.00           O  \nATOM     81    O MOL     1       7.456   3.787   3.981  1.00  0.00           O  \nATOM     82    O MOL     1       7.889   4.953   3.933  1.00  0.00           O  \nATOM     83    O MOL     1       7.434   9.695   4.129  1.00  0.00           O  \nATOM     84    O MOL     1       7.312   9.403   2.942  1.00  0.00           O  \nATOM     85    O MOL     1       3.167   5.739  31.075  1.00  0.00           O  \nATOM     86    O MOL     1       2.258   6.142  30.286  1.00  0.00           O  \nATOM     87    O MOL     1       3.250   5.601  25.422  1.00  0.00           O  \nATOM     88    O MOL     1       2.977   4.598  26.086  1.00  0.00           O  \nATOM     89    O MOL     1       0.299   3.519  30.487  1.00  0.00           O  \nATOM     90    O MOL     1       0.718   2.687  31.325  1.00  0.00           O  \nATOM     91    O MOL     1       7.155   6.415   7.884  1.00  0.00           O  \nATOM     92    O MOL     1       6.178   5.360   7.450  1.00  0.00           O  \nATOM     93    O MOL     1       1.907   4.896   6.822  1.00  0.00           O  \nATOM     94    O MOL     1       2.898   5.317   7.466  1.00  0.00           O  \nATOM     95    O MOL     1       7.894   5.340  25.511  1.00  0.00           O  \nATOM     96    O MOL     1       7.244   5.298  24.446  1.00  0.00           O  \nATOM     97    O MOL     1       4.438   2.331   6.268  1.00  0.00           O  \nATOM     98    O MOL     1       4.707   2.926   5.214  1.00  0.00           O  \nATOM     99    O MOL     1       2.351   9.387   6.790  1.00  0.00           O  \nATOM    100    O MOL     1       3.376   9.163   6.122  1.00  0.00           O  \nATOM    101    O MOL     1       5.902   8.853  28.172  1.00  0.00           O  \nATOM    102    O MOL     1       5.323   7.974  27.542  1.00  0.00           O  \nATOM    103    O MOL     1       1.422   7.527   1.267  1.00  0.00           O  \nATOM    104    O MOL     1       1.094   6.577   2.010  1.00  0.00           O  \nATOM    105    O MOL     1       6.672   5.703  28.938  1.00  0.00           O  \nATOM    106    O MOL     1       6.459   6.453  29.912  1.00  0.00           O  \nATOM    107    O MOL     1       6.446   9.635  23.688  1.00  0.00           O  \nATOM    108    O MOL     1       5.096   8.916  23.689  1.00  0.00           O  \nATOM    109    O MOL     1       3.524   1.491  29.685  1.00  0.00           O  \nATOM    110    O MOL     1       2.764   0.553  29.943  1.00  0.00           O  \nATOM    111    O MOL     1       0.046   2.037  28.204  1.00  0.00           O  \nATOM    112    O MOL     1       0.921   2.152  27.335  1.00  0.00           O  \nENDMDL\n",
           "type": "blob"
          }
         ],
         "kwargs": {
          "defaultRepresentation": false,
          "ext": "pdb"
         },
         "methodName": "loadFile",
         "reconstruc_color_scheme": false,
         "target": "Stage",
         "type": "call_method"
        },
        {
         "args": [
          "500px",
          "500px"
         ],
         "kwargs": {},
         "methodName": "setSize",
         "reconstruc_color_scheme": false,
         "target": "Widget",
         "type": "call_method"
        },
        {
         "args": [
          "unitcell"
         ],
         "component_index": 0,
         "kwargs": {
          "sele": "all"
         },
         "methodName": "addRepresentation",
         "reconstruc_color_scheme": false,
         "target": "compList",
         "type": "call_method"
        },
        {
         "args": [
          "spacefill"
         ],
         "component_index": 0,
         "kwargs": {
          "sele": "all"
         },
         "methodName": "addRepresentation",
         "reconstruc_color_scheme": false,
         "target": "compList",
         "type": "call_method"
        },
        {
         "args": [],
         "kwargs": {
          "cameraType": "orthographic"
         },
         "methodName": "setParameters",
         "reconstruc_color_scheme": false,
         "target": "Stage",
         "type": "call_method"
        },
        {
         "args": [
          {
           "clipDist": 0
          }
         ],
         "kwargs": {},
         "methodName": "setParameters",
         "reconstruc_color_scheme": false,
         "target": "Widget",
         "type": "call_method"
        },
        {
         "args": [
          "spacefill",
          0
         ],
         "kwargs": {
          "colorScale": "rainbow",
          "colorScheme": "element",
          "radiusScale": 0.5,
          "radiusType": "covalent"
         },
         "methodName": "updateRepresentationsByName",
         "reconstruc_color_scheme": false,
         "target": "Widget",
         "type": "call_method"
        },
        {
         "args": [
          "this._Q = [[1.0, 0.0, 0.0], [0.0, 1.0, 0.0], [0.0, 0.0, 1.0]]\n    var tooltip = document.createElement('div');\n    Object.assign(tooltip.style, {\n      display: 'none',\n      position: 'fixed',\n      zIndex: 10,\n      pointerEvents: 'none',\n      backgroundColor: 'rgba( 0, 0, 0, 0.6 )',\n      color: 'lightgrey',\n      padding: '8px',\n      fontFamily: 'sans-serif'\n    });\n    document.body.appendChild(tooltip);\n\n    var that = this;\n    this.stage.mouseControls.remove('hoverPick');\n    this.stage.signals.hovered.add(function (pickingProxy) {\n      if (pickingProxy && (pickingProxy.atom || pickingProxy.bond)) {\n        var atom = pickingProxy.atom || pickingProxy.closestBondAtom\n        var mp = pickingProxy.mouse.position\n        //tooltip.innerText = atom.element + ' i=' + atom.index + ' (' + atom.x.toFixed(2) +  ', ' + atom.y.toFixed(2) +  ', ' + atom.z.toFixed(2) + ')'\n        //var pos = that._atoms_pos[atom.index]\n        var Q = that._Q\n        var pos_x = Q[0][0] * atom.x + Q[0][1] * atom.y + Q[0][2] * atom.z \n        var pos_y = Q[1][0] * atom.x + Q[1][1] * atom.y + Q[1][2] * atom.z\n        var pos_z = Q[2][0] * atom.x + Q[2][1] * atom.y + Q[2][2] * atom.z\n        tooltip.innerText = 'i=' + atom.index + ' ' + atom.element + ' (' + pos_x.toFixed(2) +  ', ' + pos_y.toFixed(2) +  ', ' + pos_z.toFixed(2) + ')'\n        tooltip.style.bottom = window.innerHeight - mp.y + 3 + 'px'\n        tooltip.style.left = mp.x + 3 + 'px'\n        tooltip.style.display = 'block'\n      } else {\n        tooltip.style.display = 'none'\n      }\n    });\n    this.stage.tooltip = tooltip;\n    "
         ],
         "kwargs": {},
         "methodName": "executeCode",
         "reconstruc_color_scheme": false,
         "target": "Widget",
         "type": "call_method"
        },
        {
         "args": [
          "ball+stick"
         ],
         "component_index": 0,
         "kwargs": {
          "sele": "all"
         },
         "methodName": "addRepresentation",
         "reconstruc_color_scheme": false,
         "target": "compList",
         "type": "call_method"
        }
       ],
       "_ngl_original_stage_parameters": {
        "ambientColor": 14540253,
        "ambientIntensity": 0.2,
        "backgroundColor": "white",
        "cameraEyeSep": 0.3,
        "cameraFov": 40,
        "cameraType": "perspective",
        "clipDist": 10,
        "clipFar": 100,
        "clipNear": 0,
        "fogFar": 100,
        "fogNear": 50,
        "hoverTimeout": 0,
        "impostor": true,
        "lightColor": 14540253,
        "lightIntensity": 1,
        "mousePreset": "default",
        "panSpeed": 1,
        "quality": "medium",
        "rotateSpeed": 2,
        "sampleLevel": 0,
        "tooltip": true,
        "workerDefault": true,
        "zoomSpeed": 1.2
       },
       "_ngl_repr_dict": {
        "0": {
         "0": {
          "params": {
           "clipCenter": {
            "x": 0,
            "y": 0,
            "z": 0
           },
           "clipNear": 0,
           "clipRadius": 0,
           "colorMode": "hcl",
           "colorReverse": false,
           "colorScale": "",
           "colorScheme": "element",
           "colorValue": "orange",
           "defaultAssembly": "",
           "depthWrite": true,
           "diffuse": 16777215,
           "diffuseInterior": false,
           "disableImpostor": false,
           "disablePicking": false,
           "flatShaded": false,
           "interiorColor": 2236962,
           "interiorDarkening": 0,
           "lazy": false,
           "matrix": {
            "elements": [
             1,
             0,
             0,
             0,
             0,
             1,
             0,
             0,
             0,
             0,
             1,
             0,
             0,
             0,
             0,
             1
            ]
           },
           "metalness": 0,
           "opacity": 1,
           "quality": "medium",
           "radialSegments": 10,
           "radiusData": {},
           "radiusScale": 1,
           "radiusSize": 0.06963064692614526,
           "radiusType": "vdw",
           "roughness": 0.4,
           "sele": "all",
           "side": "double",
           "sphereDetail": 1,
           "useInteriorColor": true,
           "visible": true,
           "wireframe": false
          },
          "type": "unitcell"
         },
         "1": {
          "params": {
           "assembly": "default",
           "clipCenter": {
            "x": 0,
            "y": 0,
            "z": 0
           },
           "clipNear": 0,
           "clipRadius": 0,
           "colorMode": "hcl",
           "colorReverse": false,
           "colorScale": "rainbow",
           "colorScheme": "element",
           "colorValue": 9474192,
           "defaultAssembly": "",
           "depthWrite": true,
           "diffuse": 16777215,
           "diffuseInterior": false,
           "disableImpostor": false,
           "disablePicking": false,
           "flatShaded": false,
           "interiorColor": 2236962,
           "interiorDarkening": 0,
           "lazy": false,
           "matrix": {
            "elements": [
             1,
             0,
             0,
             0,
             0,
             1,
             0,
             0,
             0,
             0,
             1,
             0,
             0,
             0,
             0,
             1
            ]
           },
           "metalness": 0,
           "opacity": 1,
           "quality": "medium",
           "radiusData": {},
           "radiusScale": 0.5,
           "radiusSize": 1,
           "radiusType": "covalent",
           "roughness": 0.4,
           "sele": "all",
           "side": "double",
           "sphereDetail": 1,
           "useInteriorColor": true,
           "visible": true,
           "wireframe": false
          },
          "type": "spacefill"
         },
         "2": {
          "params": {
           "aspectRatio": 2,
           "assembly": "default",
           "bondScale": 0.4,
           "bondSpacing": 1,
           "clipCenter": {
            "x": 0,
            "y": 0,
            "z": 0
           },
           "clipNear": 0,
           "clipRadius": 0,
           "colorMode": "hcl",
           "colorReverse": false,
           "colorScale": "",
           "colorScheme": "element",
           "colorValue": 9474192,
           "cylinderOnly": false,
           "defaultAssembly": "",
           "depthWrite": true,
           "diffuse": 16777215,
           "diffuseInterior": false,
           "disableImpostor": false,
           "disablePicking": false,
           "flatShaded": false,
           "interiorColor": 2236962,
           "interiorDarkening": 0,
           "lazy": false,
           "lineOnly": false,
           "linewidth": 2,
           "matrix": {
            "elements": [
             1,
             0,
             0,
             0,
             0,
             1,
             0,
             0,
             0,
             0,
             1,
             0,
             0,
             0,
             0,
             1
            ]
           },
           "metalness": 0,
           "multipleBond": "off",
           "opacity": 1,
           "openEnded": true,
           "quality": "medium",
           "radialSegments": 10,
           "radiusData": {},
           "radiusScale": 1,
           "radiusSize": 0.15,
           "radiusType": "size",
           "roughness": 0.4,
           "sele": "all",
           "side": "double",
           "sphereDetail": 1,
           "useInteriorColor": true,
           "visible": true,
           "wireframe": false
          },
          "type": "ball+stick"
         }
        }
       },
       "_ngl_serialize": false,
       "_ngl_version": "2.0.0-dev.36",
       "_ngl_view_id": [
        "C6B361C7-4D55-43B0-B082-3FF5910CC9D5"
       ],
       "_player_dict": {},
       "_scene_position": {},
       "_scene_rotation": {},
       "_synced_model_ids": [],
       "_synced_repr_model_ids": [],
       "_view_height": "",
       "_view_width": "",
       "background": "white",
       "frame": 0,
       "gui_style": null,
       "layout": "IPY_MODEL_9a041d7099e042ea9ddc71ec966670d9",
       "max_frame": 0,
       "n_components": 1,
       "picked": {}
      }
     },
     "42a754e458a045038ece2e0ada8f516a": {
      "model_module": "@jupyter-widgets/base",
      "model_module_version": "1.2.0",
      "model_name": "LayoutModel",
      "state": {}
     },
     "4398062af1d6412e8e631908ce4fc02e": {
      "model_module": "@jupyter-widgets/controls",
      "model_module_version": "1.5.0",
      "model_name": "SliderStyleModel",
      "state": {
       "description_width": ""
      }
     },
     "43d0268db2ab4c7d83e2cd784ded4798": {
      "model_module": "@jupyter-widgets/controls",
      "model_module_version": "1.5.0",
      "model_name": "TextModel",
      "state": {
       "description": "Filename: ",
       "layout": "IPY_MODEL_dcaae65c18924ee19824edc705b67533",
       "style": "IPY_MODEL_4d7fd539a0e74b98bbd4fdb3a97cd92d",
       "value": "screenshot.png"
      }
     },
     "450ded30818f4158b04d51d98c272735": {
      "model_module": "@jupyter-widgets/controls",
      "model_module_version": "1.5.0",
      "model_name": "IntSliderModel",
      "state": {
       "layout": "IPY_MODEL_81c3d8c991df4745b8f7b771a3c9a517",
       "max": 0,
       "style": "IPY_MODEL_ebcbee24af41468cbd1d8f166e746995"
      }
     },
     "453ff4be5e68476785d69888d09acdcd": {
      "model_module": "@jupyter-widgets/controls",
      "model_module_version": "1.5.0",
      "model_name": "HBoxModel",
      "state": {
       "children": [
        "IPY_MODEL_c576c87562014f2ba5ad0aa01f9a0bd2",
        "IPY_MODEL_e4da3a5fb0e94fb0b7b2a6377b380807"
       ],
       "layout": "IPY_MODEL_c59f7e21156647d7b650cc3ad117cb55"
      }
     },
     "455fdffc33294dffb8a47f0085964280": {
      "model_module": "@jupyter-widgets/base",
      "model_module_version": "1.2.0",
      "model_name": "LayoutModel",
      "state": {}
     },
     "459403d344794b62a0b4160915ec1c17": {
      "model_module": "@jupyter-widgets/base",
      "model_module_version": "1.2.0",
      "model_name": "LayoutModel",
      "state": {}
     },
     "499481990b1b4deab2f2e7b7fd78e2ef": {
      "model_module": "@jupyter-widgets/controls",
      "model_module_version": "1.5.0",
      "model_name": "VBoxModel",
      "state": {
       "children": [
        "IPY_MODEL_051171f0d6624ded8fa07b5b3f171f16",
        "IPY_MODEL_0378594e6c884f6cbcb09813fc071695",
        "IPY_MODEL_a523cc90d11144bfafbf8604b4ac6068",
        "IPY_MODEL_06cd83ad1d104aa2916507a612cb0ca1",
        "IPY_MODEL_c8e2c9bc4e0d46adb6c487a39bdfdad2",
        "IPY_MODEL_6e713a49c1ca49beb306af5a4cbd17f5",
        "IPY_MODEL_00ba2dea1b6e47cbba8135fc251458b0",
        "IPY_MODEL_d7bed712a744459eaba788f34caa1611",
        "IPY_MODEL_ebca5cc1fb13494a8b4e07ff98655c20",
        "IPY_MODEL_e8dbcb9c5f3c40fb9344071dcbcc9032"
       ],
       "layout": "IPY_MODEL_0e6b68ceddd3466b9adac6373a9da4e9"
      }
     },
     "4cb05c20153a4fe29ce9ec00d6ad4bac": {
      "model_module": "@jupyter-widgets/base",
      "model_module_version": "1.2.0",
      "model_name": "LayoutModel",
      "state": {}
     },
     "4d7fd539a0e74b98bbd4fdb3a97cd92d": {
      "model_module": "@jupyter-widgets/controls",
      "model_module_version": "1.5.0",
      "model_name": "DescriptionStyleModel",
      "state": {
       "description_width": ""
      }
     },
     "4e00b728bf39467a88c685d5758f4ee6": {
      "model_module": "@jupyter-widgets/controls",
      "model_module_version": "1.5.0",
      "model_name": "FloatSliderModel",
      "state": {
       "description": "Force scale",
       "layout": "IPY_MODEL_f705a54faedb462ca518452fb1838df7",
       "step": 0.1,
       "style": "IPY_MODEL_ff1c7cbe7aa2476d8513e36e28d8a46c",
       "value": 0.5
      }
     },
     "50247aba5b8b4d66aa256383cfc54d8a": {
      "model_module": "@jupyter-widgets/controls",
      "model_module_version": "1.5.0",
      "model_name": "FloatSliderModel",
      "state": {
       "description": "Ball size",
       "layout": "IPY_MODEL_b8cb5b5a84544770bffcb90b33858d24",
       "max": 1.5,
       "step": 0.01,
       "style": "IPY_MODEL_54243679db1d4a0b829c58340c85c364",
       "value": 0.5
      }
     },
     "54243679db1d4a0b829c58340c85c364": {
      "model_module": "@jupyter-widgets/controls",
      "model_module_version": "1.5.0",
      "model_name": "SliderStyleModel",
      "state": {
       "description_width": ""
      }
     },
     "54819384648c4e0198c2bd50e08e6826": {
      "model_module": "@jupyter-widgets/controls",
      "model_module_version": "1.5.0",
      "model_name": "DescriptionStyleModel",
      "state": {
       "description_width": ""
      }
     },
     "550a1c110d4c4c1c96abbb1fb21e318f": {
      "model_module": "@jupyter-widgets/controls",
      "model_module_version": "1.5.0",
      "model_name": "DropdownModel",
      "state": {
       "_options_labels": [
        "All",
        "Ge",
        "P",
        "S",
        "Li"
       ],
       "description": "Show",
       "index": 0,
       "layout": "IPY_MODEL_6f37ec8f05d44ebda132636b0b69a0eb",
       "style": "IPY_MODEL_9fb8686bf6144c4c8be6411658dcee78"
      }
     },
     "5521f5359ada4ce88fbe4c3264d3bc1a": {
      "model_module": "@jupyter-widgets/base",
      "model_module_version": "1.2.0",
      "model_name": "LayoutModel",
      "state": {}
     },
     "552857ffb71744969012aa174ca9c2b5": {
      "model_module": "@jupyter-widgets/base",
      "model_module_version": "1.2.0",
      "model_name": "LayoutModel",
      "state": {
       "width": "34px"
      }
     },
     "559291bc71e3459c840367eb05cac52f": {
      "model_module": "nglview-js-widgets",
      "model_module_version": "3.0.1",
      "model_name": "NGLModel",
      "state": {
       "_camera_orientation": [
        31.18844763342568,
        0,
        0,
        0,
        0,
        31.18844763342568,
        0,
        0,
        0,
        0,
        31.18844763342568,
        0,
        -8.515000082552433,
        -8.813500137999654,
        -6.493999779224396,
        1
       ],
       "_camera_str": "orthographic",
       "_gui_theme": null,
       "_ibtn_fullscreen": "IPY_MODEL_13d46819edf448558469affc42579741",
       "_igui": null,
       "_iplayer": "IPY_MODEL_cfe2be01695a42fca3b5b5662f1018cf",
       "_ngl_color_dict": {},
       "_ngl_coordinate_resource": {},
       "_ngl_full_stage_parameters": {
        "ambientColor": 14540253,
        "ambientIntensity": 0.2,
        "backgroundColor": "white",
        "cameraEyeSep": 0.3,
        "cameraFov": 40,
        "cameraType": "orthographic",
        "clipDist": 0,
        "clipFar": 100,
        "clipNear": 0,
        "fogFar": 100,
        "fogNear": 50,
        "hoverTimeout": 0,
        "impostor": true,
        "lightColor": 14540253,
        "lightIntensity": 1,
        "mousePreset": "default",
        "panSpeed": 1,
        "quality": "medium",
        "rotateSpeed": 2,
        "sampleLevel": 0,
        "tooltip": true,
        "workerDefault": true,
        "zoomSpeed": 1.2
       },
       "_ngl_msg_archive": [
        {
         "args": [
          {
           "binary": false,
           "data": "CRYST1   17.219   17.743   13.014  91.96  90.58  90.23 P 1\nMODEL     1\nATOM      1   Li MOL     1       8.368   4.164  12.378  1.00  0.00          LI  \nATOM      2   Li MOL     1       8.226   4.396   5.543  1.00  0.00          LI  \nATOM      3   Li MOL     1       4.288   8.312   7.139  1.00  0.00          LI  \nATOM      4   Li MOL     1       4.229   8.816   0.661  1.00  0.00          LI  \nATOM      5   Li MOL     1       2.211   2.493   2.048  1.00  0.00          LI  \nATOM      6   Li MOL     1       6.339   6.502   3.671  1.00  0.00          LI  \nATOM      7   Li MOL     1       1.729   6.919   9.797  1.00  0.00          LI  \nATOM      8   Li MOL     1       1.914   6.603   3.275  1.00  0.00          LI  \nATOM      9   Li MOL     1       6.440   1.796   4.571  1.00  0.00          LI  \nATOM     10   Li MOL     1       3.860   4.245   9.762  1.00  0.00          LI  \nATOM     11   Li MOL     1       1.920   1.861   4.760  1.00  0.00          LI  \nATOM     12   Li MOL     1       6.197   1.890  11.151  1.00  0.00          LI  \nATOM     13   Li MOL     1       2.080   6.751   0.074  1.00  0.00          LI  \nATOM     14   Li MOL     1       6.353   2.273   1.709  1.00  0.00          LI  \nATOM     15   Li MOL     1       6.459   6.159   8.967  1.00  0.00          LI  \nATOM     16   Li MOL     1       1.771   1.883  11.960  1.00  0.00          LI  \nATOM     17   Li MOL     1       6.411   6.750   0.109  1.00  0.00          LI  \nATOM     18   Li MOL     1       2.015   6.165   6.310  1.00  0.00          LI  \nATOM     19   Li MOL     1       6.654   1.627   8.137  1.00  0.00          LI  \nATOM     20   Li MOL     1       1.981   1.593   8.451  1.00  0.00          LI  \nATOM     21   Ge MOL     1       8.540   4.248   2.384  1.00  0.00          GE  \nATOM     22   Ge MOL     1       4.238   8.423  10.607  1.00  0.00          GE  \nATOM     23    P MOL     1       8.451   8.340   6.524  1.00  0.00           P  \nATOM     24    P MOL     1       4.088   4.129  12.914  1.00  0.00           P  \nATOM     25    P MOL     1      -0.034   3.981   8.905  1.00  0.00           P  \nATOM     26    P MOL     1       4.158  -0.060   4.033  1.00  0.00           P  \nATOM     27    S MOL     1       8.448   1.370   5.769  1.00  0.00           S  \nATOM     28    S MOL     1      -0.039   6.867   5.076  1.00  0.00           S  \nATOM     29    S MOL     1       2.413   4.295  11.723  1.00  0.00           S  \nATOM     30    S MOL     1       5.749   4.295  11.706  1.00  0.00           S  \nATOM     31    S MOL     1       4.229   6.127   1.257  1.00  0.00           S  \nATOM     32    S MOL     1       4.177   2.722   0.775  1.00  0.00           S  \nATOM     33    S MOL     1       1.571   8.149   7.644  1.00  0.00           S  \nATOM     34    S MOL     1       6.789   8.135   7.673  1.00  0.00           S  \nATOM     35    S MOL     1       0.041   2.605   0.851  1.00  0.00           S  \nATOM     36    S MOL     1      -0.030   6.240   1.347  1.00  0.00           S  \nATOM     37    S MOL     1       1.729   4.044   7.819  1.00  0.00           S  \nATOM     38    S MOL     1       6.928   4.091   7.674  1.00  0.00           S  \nATOM     39    S MOL     1       4.095   6.935   4.881  1.00  0.00           S  \nATOM     40    S MOL     1       4.204   1.390   5.490  1.00  0.00           S  \nATOM     41    S MOL     1       2.305   8.368  11.772  1.00  0.00           S  \nATOM     42    S MOL     1       5.972   8.451  11.982  1.00  0.00           S  \nATOM     43    S MOL     1       8.421   5.541  10.233  1.00  0.00           S  \nATOM     44    S MOL     1      -0.083   2.157   9.893  1.00  0.00           S  \nATOM     45    S MOL     1       6.662   4.012   3.551  1.00  0.00           S  \nATOM     46    S MOL     1       1.669   4.113   3.786  1.00  0.00           S  \nATOM     47    S MOL     1       4.352   1.464   9.387  1.00  0.00           S  \nATOM     48    S MOL     1       4.122   6.713   9.153  1.00  0.00           S  \nATOM     49    S MOL     1       5.875   0.047   2.881  1.00  0.00           S  \nATOM     50    S MOL     1       2.487   0.177   2.852  1.00  0.00           S  \nATOM     51   Li MOL     1       8.332  13.035  12.378  1.00  0.00          LI  \nATOM     52   Li MOL     1       8.190  13.267   5.543  1.00  0.00          LI  \nATOM     53   Li MOL     1       4.252  17.183   7.139  1.00  0.00          LI  \nATOM     54   Li MOL     1       4.193  17.687   0.661  1.00  0.00          LI  \nATOM     55   Li MOL     1       2.175  11.364   2.048  1.00  0.00          LI  \nATOM     56   Li MOL     1       6.303  15.373   3.671  1.00  0.00          LI  \nATOM     57   Li MOL     1       1.693  15.790   9.797  1.00  0.00          LI  \nATOM     58   Li MOL     1       1.878  15.474   3.275  1.00  0.00          LI  \nATOM     59   Li MOL     1       6.404  10.667   4.571  1.00  0.00          LI  \nATOM     60   Li MOL     1       3.824  13.116   9.762  1.00  0.00          LI  \nATOM     61   Li MOL     1       1.884  10.732   4.760  1.00  0.00          LI  \nATOM     62   Li MOL     1       6.161  10.761  11.151  1.00  0.00          LI  \nATOM     63   Li MOL     1       2.044  15.623   0.074  1.00  0.00          LI  \nATOM     64   Li MOL     1       6.317  11.145   1.709  1.00  0.00          LI  \nATOM     65   Li MOL     1       6.423  15.030   8.967  1.00  0.00          LI  \nATOM     66   Li MOL     1       1.735  10.754  11.960  1.00  0.00          LI  \nATOM     67   Li MOL     1       6.375  15.621   0.109  1.00  0.00          LI  \nATOM     68   Li MOL     1       1.979  15.036   6.310  1.00  0.00          LI  \nATOM     69   Li MOL     1       6.618  10.498   8.137  1.00  0.00          LI  \nATOM     70   Li MOL     1       1.945  10.465   8.451  1.00  0.00          LI  \nATOM     71   Ge MOL     1       8.504  13.119   2.384  1.00  0.00          GE  \nATOM     72   Ge MOL     1       4.202  17.294  10.607  1.00  0.00          GE  \nATOM     73    P MOL     1       8.415  17.212   6.524  1.00  0.00           P  \nATOM     74    P MOL     1       4.052  13.000  12.914  1.00  0.00           P  \nATOM     75    P MOL     1      -0.070  12.852   8.905  1.00  0.00           P  \nATOM     76    P MOL     1       4.122   8.811   4.033  1.00  0.00           P  \nATOM     77    S MOL     1       8.412  10.241   5.769  1.00  0.00           S  \nATOM     78    S MOL     1      -0.075  15.738   5.076  1.00  0.00           S  \nATOM     79    S MOL     1       2.377  13.167  11.723  1.00  0.00           S  \nATOM     80    S MOL     1       5.713  13.166  11.706  1.00  0.00           S  \nATOM     81    S MOL     1       4.193  14.999   1.257  1.00  0.00           S  \nATOM     82    S MOL     1       4.141  11.593   0.775  1.00  0.00           S  \nATOM     83    S MOL     1       1.535  17.020   7.644  1.00  0.00           S  \nATOM     84    S MOL     1       6.753  17.006   7.673  1.00  0.00           S  \nATOM     85    S MOL     1       0.005  11.477   0.851  1.00  0.00           S  \nATOM     86    S MOL     1      -0.066  15.111   1.347  1.00  0.00           S  \nATOM     87    S MOL     1       1.693  12.916   7.819  1.00  0.00           S  \nATOM     88    S MOL     1       6.892  12.962   7.674  1.00  0.00           S  \nATOM     89    S MOL     1       4.059  15.807   4.881  1.00  0.00           S  \nATOM     90    S MOL     1       4.168  10.261   5.490  1.00  0.00           S  \nATOM     91    S MOL     1       2.269  17.240  11.772  1.00  0.00           S  \nATOM     92    S MOL     1       5.936  17.322  11.982  1.00  0.00           S  \nATOM     93    S MOL     1       8.385  14.412  10.233  1.00  0.00           S  \nATOM     94    S MOL     1      -0.119  11.029   9.893  1.00  0.00           S  \nATOM     95    S MOL     1       6.626  12.883   3.551  1.00  0.00           S  \nATOM     96    S MOL     1       1.633  12.984   3.786  1.00  0.00           S  \nATOM     97    S MOL     1       4.316  10.335   9.387  1.00  0.00           S  \nATOM     98    S MOL     1       4.086  15.584   9.153  1.00  0.00           S  \nATOM     99    S MOL     1       5.839   8.918   2.881  1.00  0.00           S  \nATOM    100    S MOL     1       2.451   9.048   2.852  1.00  0.00           S  \nATOM    101   Li MOL     1      16.978   4.164  12.378  1.00  0.00          LI  \nATOM    102   Li MOL     1      16.836   4.396   5.543  1.00  0.00          LI  \nATOM    103   Li MOL     1      12.898   8.312   7.139  1.00  0.00          LI  \nATOM    104   Li MOL     1      12.838   8.816   0.661  1.00  0.00          LI  \nATOM    105   Li MOL     1      10.820   2.493   2.048  1.00  0.00          LI  \nATOM    106   Li MOL     1      14.948   6.502   3.671  1.00  0.00          LI  \nATOM    107   Li MOL     1      10.338   6.919   9.797  1.00  0.00          LI  \nATOM    108   Li MOL     1      10.523   6.603   3.275  1.00  0.00          LI  \nATOM    109   Li MOL     1      15.049   1.796   4.571  1.00  0.00          LI  \nATOM    110   Li MOL     1      12.470   4.245   9.762  1.00  0.00          LI  \nATOM    111   Li MOL     1      10.529   1.861   4.760  1.00  0.00          LI  \nATOM    112   Li MOL     1      14.806   1.890  11.151  1.00  0.00          LI  \nATOM    113   Li MOL     1      10.690   6.751   0.074  1.00  0.00          LI  \nATOM    114   Li MOL     1      14.963   2.273   1.709  1.00  0.00          LI  \nATOM    115   Li MOL     1      15.069   6.159   8.967  1.00  0.00          LI  \nATOM    116   Li MOL     1      10.381   1.883  11.960  1.00  0.00          LI  \nATOM    117   Li MOL     1      15.020   6.750   0.109  1.00  0.00          LI  \nATOM    118   Li MOL     1      10.624   6.165   6.310  1.00  0.00          LI  \nATOM    119   Li MOL     1      15.264   1.627   8.137  1.00  0.00          LI  \nATOM    120   Li MOL     1      10.591   1.593   8.451  1.00  0.00          LI  \nATOM    121   Ge MOL     1      17.149   4.248   2.384  1.00  0.00          GE  \nATOM    122   Ge MOL     1      12.848   8.423  10.607  1.00  0.00          GE  \nATOM    123    P MOL     1      17.060   8.340   6.524  1.00  0.00           P  \nATOM    124    P MOL     1      12.698   4.129  12.914  1.00  0.00           P  \nATOM    125    P MOL     1       8.575   3.981   8.905  1.00  0.00           P  \nATOM    126    P MOL     1      12.767  -0.060   4.033  1.00  0.00           P  \nATOM    127    S MOL     1      17.057   1.370   5.769  1.00  0.00           S  \nATOM    128    S MOL     1       8.570   6.867   5.076  1.00  0.00           S  \nATOM    129    S MOL     1      11.022   4.295  11.723  1.00  0.00           S  \nATOM    130    S MOL     1      14.359   4.295  11.706  1.00  0.00           S  \nATOM    131    S MOL     1      12.838   6.127   1.257  1.00  0.00           S  \nATOM    132    S MOL     1      12.786   2.722   0.775  1.00  0.00           S  \nATOM    133    S MOL     1      10.180   8.149   7.644  1.00  0.00           S  \nATOM    134    S MOL     1      15.399   8.135   7.673  1.00  0.00           S  \nATOM    135    S MOL     1       8.650   2.605   0.851  1.00  0.00           S  \nATOM    136    S MOL     1       8.580   6.240   1.347  1.00  0.00           S  \nATOM    137    S MOL     1      10.338   4.044   7.819  1.00  0.00           S  \nATOM    138    S MOL     1      15.537   4.091   7.674  1.00  0.00           S  \nATOM    139    S MOL     1      12.704   6.935   4.881  1.00  0.00           S  \nATOM    140    S MOL     1      12.813   1.390   5.490  1.00  0.00           S  \nATOM    141    S MOL     1      10.914   8.368  11.772  1.00  0.00           S  \nATOM    142    S MOL     1      14.581   8.451  11.982  1.00  0.00           S  \nATOM    143    S MOL     1      17.030   5.541  10.233  1.00  0.00           S  \nATOM    144    S MOL     1       8.527   2.157   9.893  1.00  0.00           S  \nATOM    145    S MOL     1      15.272   4.012   3.551  1.00  0.00           S  \nATOM    146    S MOL     1      10.279   4.113   3.786  1.00  0.00           S  \nATOM    147    S MOL     1      12.962   1.464   9.387  1.00  0.00           S  \nATOM    148    S MOL     1      12.732   6.713   9.153  1.00  0.00           S  \nATOM    149    S MOL     1      14.484   0.047   2.881  1.00  0.00           S  \nATOM    150    S MOL     1      11.096   0.177   2.852  1.00  0.00           S  \nATOM    151   Li MOL     1      16.942  13.035  12.378  1.00  0.00          LI  \nATOM    152   Li MOL     1      16.800  13.267   5.543  1.00  0.00          LI  \nATOM    153   Li MOL     1      12.862  17.183   7.139  1.00  0.00          LI  \nATOM    154   Li MOL     1      12.802  17.687   0.661  1.00  0.00          LI  \nATOM    155   Li MOL     1      10.784  11.364   2.048  1.00  0.00          LI  \nATOM    156   Li MOL     1      14.912  15.373   3.671  1.00  0.00          LI  \nATOM    157   Li MOL     1      10.302  15.790   9.797  1.00  0.00          LI  \nATOM    158   Li MOL     1      10.487  15.474   3.275  1.00  0.00          LI  \nATOM    159   Li MOL     1      15.013  10.667   4.571  1.00  0.00          LI  \nATOM    160   Li MOL     1      12.434  13.116   9.762  1.00  0.00          LI  \nATOM    161   Li MOL     1      10.493  10.732   4.760  1.00  0.00          LI  \nATOM    162   Li MOL     1      14.770  10.761  11.151  1.00  0.00          LI  \nATOM    163   Li MOL     1      10.654  15.623   0.074  1.00  0.00          LI  \nATOM    164   Li MOL     1      14.927  11.145   1.709  1.00  0.00          LI  \nATOM    165   Li MOL     1      15.033  15.030   8.967  1.00  0.00          LI  \nATOM    166   Li MOL     1      10.345  10.754  11.960  1.00  0.00          LI  \nATOM    167   Li MOL     1      14.984  15.621   0.109  1.00  0.00          LI  \nATOM    168   Li MOL     1      10.588  15.036   6.310  1.00  0.00          LI  \nATOM    169   Li MOL     1      15.228  10.498   8.137  1.00  0.00          LI  \nATOM    170   Li MOL     1      10.555  10.465   8.451  1.00  0.00          LI  \nATOM    171   Ge MOL     1      17.113  13.119   2.384  1.00  0.00          GE  \nATOM    172   Ge MOL     1      12.812  17.294  10.607  1.00  0.00          GE  \nATOM    173    P MOL     1      17.024  17.212   6.524  1.00  0.00           P  \nATOM    174    P MOL     1      12.662  13.000  12.914  1.00  0.00           P  \nATOM    175    P MOL     1       8.539  12.852   8.905  1.00  0.00           P  \nATOM    176    P MOL     1      12.731   8.811   4.033  1.00  0.00           P  \nATOM    177    S MOL     1      17.021  10.241   5.769  1.00  0.00           S  \nATOM    178    S MOL     1       8.534  15.738   5.076  1.00  0.00           S  \nATOM    179    S MOL     1      10.986  13.167  11.723  1.00  0.00           S  \nATOM    180    S MOL     1      14.323  13.166  11.706  1.00  0.00           S  \nATOM    181    S MOL     1      12.802  14.999   1.257  1.00  0.00           S  \nATOM    182    S MOL     1      12.751  11.593   0.775  1.00  0.00           S  \nATOM    183    S MOL     1      10.144  17.020   7.644  1.00  0.00           S  \nATOM    184    S MOL     1      15.363  17.006   7.673  1.00  0.00           S  \nATOM    185    S MOL     1       8.614  11.477   0.851  1.00  0.00           S  \nATOM    186    S MOL     1       8.544  15.111   1.347  1.00  0.00           S  \nATOM    187    S MOL     1      10.302  12.916   7.819  1.00  0.00           S  \nATOM    188    S MOL     1      15.502  12.962   7.674  1.00  0.00           S  \nATOM    189    S MOL     1      12.668  15.807   4.881  1.00  0.00           S  \nATOM    190    S MOL     1      12.777  10.261   5.490  1.00  0.00           S  \nATOM    191    S MOL     1      10.878  17.240  11.772  1.00  0.00           S  \nATOM    192    S MOL     1      14.546  17.322  11.982  1.00  0.00           S  \nATOM    193    S MOL     1      16.994  14.412  10.233  1.00  0.00           S  \nATOM    194    S MOL     1       8.491  11.029   9.893  1.00  0.00           S  \nATOM    195    S MOL     1      15.236  12.883   3.551  1.00  0.00           S  \nATOM    196    S MOL     1      10.243  12.984   3.786  1.00  0.00           S  \nATOM    197    S MOL     1      12.926  10.335   9.387  1.00  0.00           S  \nATOM    198    S MOL     1      12.696  15.584   9.153  1.00  0.00           S  \nATOM    199    S MOL     1      14.448   8.918   2.881  1.00  0.00           S  \nATOM    200    S MOL     1      11.060   9.048   2.852  1.00  0.00           S  \nENDMDL\n",
           "type": "blob"
          }
         ],
         "kwargs": {
          "defaultRepresentation": false,
          "ext": "pdb"
         },
         "methodName": "loadFile",
         "reconstruc_color_scheme": false,
         "target": "Stage",
         "type": "call_method"
        },
        {
         "args": [
          "500px",
          "500px"
         ],
         "kwargs": {},
         "methodName": "setSize",
         "reconstruc_color_scheme": false,
         "target": "Widget",
         "type": "call_method"
        },
        {
         "args": [
          "unitcell"
         ],
         "component_index": 0,
         "kwargs": {
          "sele": "all"
         },
         "methodName": "addRepresentation",
         "reconstruc_color_scheme": false,
         "target": "compList",
         "type": "call_method"
        },
        {
         "args": [
          "spacefill"
         ],
         "component_index": 0,
         "kwargs": {
          "sele": "all"
         },
         "methodName": "addRepresentation",
         "reconstruc_color_scheme": false,
         "target": "compList",
         "type": "call_method"
        },
        {
         "args": [],
         "kwargs": {
          "cameraType": "orthographic"
         },
         "methodName": "setParameters",
         "reconstruc_color_scheme": false,
         "target": "Stage",
         "type": "call_method"
        },
        {
         "args": [
          {
           "clipDist": 0
          }
         ],
         "kwargs": {},
         "methodName": "setParameters",
         "reconstruc_color_scheme": false,
         "target": "Widget",
         "type": "call_method"
        },
        {
         "args": [
          "spacefill",
          0
         ],
         "kwargs": {
          "colorScale": "rainbow",
          "colorScheme": "element",
          "radiusScale": 0.5,
          "radiusType": "covalent"
         },
         "methodName": "updateRepresentationsByName",
         "reconstruc_color_scheme": false,
         "target": "Widget",
         "type": "call_method"
        },
        {
         "args": [
          "this._Q = [[1.0, 0.0, 0.0], [0.0, 1.0, 0.0], [0.0, 0.0, 1.0]]\n    var tooltip = document.createElement('div');\n    Object.assign(tooltip.style, {\n      display: 'none',\n      position: 'fixed',\n      zIndex: 10,\n      pointerEvents: 'none',\n      backgroundColor: 'rgba( 0, 0, 0, 0.6 )',\n      color: 'lightgrey',\n      padding: '8px',\n      fontFamily: 'sans-serif'\n    });\n    document.body.appendChild(tooltip);\n\n    var that = this;\n    this.stage.mouseControls.remove('hoverPick');\n    this.stage.signals.hovered.add(function (pickingProxy) {\n      if (pickingProxy && (pickingProxy.atom || pickingProxy.bond)) {\n        var atom = pickingProxy.atom || pickingProxy.closestBondAtom\n        var mp = pickingProxy.mouse.position\n        //tooltip.innerText = atom.element + ' i=' + atom.index + ' (' + atom.x.toFixed(2) +  ', ' + atom.y.toFixed(2) +  ', ' + atom.z.toFixed(2) + ')'\n        //var pos = that._atoms_pos[atom.index]\n        var Q = that._Q\n        var pos_x = Q[0][0] * atom.x + Q[0][1] * atom.y + Q[0][2] * atom.z \n        var pos_y = Q[1][0] * atom.x + Q[1][1] * atom.y + Q[1][2] * atom.z\n        var pos_z = Q[2][0] * atom.x + Q[2][1] * atom.y + Q[2][2] * atom.z\n        tooltip.innerText = 'i=' + atom.index + ' ' + atom.element + ' (' + pos_x.toFixed(2) +  ', ' + pos_y.toFixed(2) +  ', ' + pos_z.toFixed(2) + ')'\n        tooltip.style.bottom = window.innerHeight - mp.y + 3 + 'px'\n        tooltip.style.left = mp.x + 3 + 'px'\n        tooltip.style.display = 'block'\n      } else {\n        tooltip.style.display = 'none'\n      }\n    });\n    this.stage.tooltip = tooltip;\n    "
         ],
         "kwargs": {},
         "methodName": "executeCode",
         "reconstruc_color_scheme": false,
         "target": "Widget",
         "type": "call_method"
        },
        {
         "args": [
          "ball+stick"
         ],
         "component_index": 0,
         "kwargs": {
          "sele": "all"
         },
         "methodName": "addRepresentation",
         "reconstruc_color_scheme": false,
         "target": "compList",
         "type": "call_method"
        }
       ],
       "_ngl_original_stage_parameters": {
        "ambientColor": 14540253,
        "ambientIntensity": 0.2,
        "backgroundColor": "white",
        "cameraEyeSep": 0.3,
        "cameraFov": 40,
        "cameraType": "perspective",
        "clipDist": 10,
        "clipFar": 100,
        "clipNear": 0,
        "fogFar": 100,
        "fogNear": 50,
        "hoverTimeout": 0,
        "impostor": true,
        "lightColor": 14540253,
        "lightIntensity": 1,
        "mousePreset": "default",
        "panSpeed": 1,
        "quality": "medium",
        "rotateSpeed": 2,
        "sampleLevel": 0,
        "tooltip": true,
        "workerDefault": true,
        "zoomSpeed": 1.2
       },
       "_ngl_repr_dict": {
        "0": {
         "0": {
          "params": {
           "clipCenter": {
            "x": 0,
            "y": 0,
            "z": 0
           },
           "clipNear": 0,
           "clipRadius": 0,
           "colorMode": "hcl",
           "colorReverse": false,
           "colorScale": "",
           "colorScheme": "element",
           "colorValue": "orange",
           "defaultAssembly": "",
           "depthWrite": true,
           "diffuse": 16777215,
           "diffuseInterior": false,
           "disableImpostor": false,
           "disablePicking": false,
           "flatShaded": false,
           "interiorColor": 2236962,
           "interiorDarkening": 0,
           "lazy": false,
           "matrix": {
            "elements": [
             1,
             0,
             0,
             0,
             0,
             1,
             0,
             0,
             0,
             0,
             1,
             0,
             0,
             0,
             0,
             1
            ]
           },
           "metalness": 0,
           "opacity": 1,
           "quality": "medium",
           "radialSegments": 10,
           "radiusData": {},
           "radiusScale": 1,
           "radiusSize": 0.07919428873467649,
           "radiusType": "vdw",
           "roughness": 0.4,
           "sele": "all",
           "side": "double",
           "sphereDetail": 1,
           "useInteriorColor": true,
           "visible": true,
           "wireframe": false
          },
          "type": "unitcell"
         },
         "1": {
          "params": {
           "assembly": "default",
           "clipCenter": {
            "x": 0,
            "y": 0,
            "z": 0
           },
           "clipNear": 0,
           "clipRadius": 0,
           "colorMode": "hcl",
           "colorReverse": false,
           "colorScale": "rainbow",
           "colorScheme": "element",
           "colorValue": 9474192,
           "defaultAssembly": "",
           "depthWrite": true,
           "diffuse": 16777215,
           "diffuseInterior": false,
           "disableImpostor": false,
           "disablePicking": false,
           "flatShaded": false,
           "interiorColor": 2236962,
           "interiorDarkening": 0,
           "lazy": false,
           "matrix": {
            "elements": [
             1,
             0,
             0,
             0,
             0,
             1,
             0,
             0,
             0,
             0,
             1,
             0,
             0,
             0,
             0,
             1
            ]
           },
           "metalness": 0,
           "opacity": 1,
           "quality": "medium",
           "radiusData": {},
           "radiusScale": 0.5,
           "radiusSize": 1,
           "radiusType": "covalent",
           "roughness": 0.4,
           "sele": "all",
           "side": "double",
           "sphereDetail": 1,
           "useInteriorColor": true,
           "visible": true,
           "wireframe": false
          },
          "type": "spacefill"
         },
         "2": {
          "params": {
           "aspectRatio": 2,
           "assembly": "default",
           "bondScale": 0.4,
           "bondSpacing": 1,
           "clipCenter": {
            "x": 0,
            "y": 0,
            "z": 0
           },
           "clipNear": 0,
           "clipRadius": 0,
           "colorMode": "hcl",
           "colorReverse": false,
           "colorScale": "",
           "colorScheme": "element",
           "colorValue": 9474192,
           "cylinderOnly": false,
           "defaultAssembly": "",
           "depthWrite": true,
           "diffuse": 16777215,
           "diffuseInterior": false,
           "disableImpostor": false,
           "disablePicking": false,
           "flatShaded": false,
           "interiorColor": 2236962,
           "interiorDarkening": 0,
           "lazy": false,
           "lineOnly": false,
           "linewidth": 2,
           "matrix": {
            "elements": [
             1,
             0,
             0,
             0,
             0,
             1,
             0,
             0,
             0,
             0,
             1,
             0,
             0,
             0,
             0,
             1
            ]
           },
           "metalness": 0,
           "multipleBond": "off",
           "opacity": 1,
           "openEnded": true,
           "quality": "medium",
           "radialSegments": 10,
           "radiusData": {},
           "radiusScale": 1,
           "radiusSize": 0.15,
           "radiusType": "size",
           "roughness": 0.4,
           "sele": "all",
           "side": "double",
           "sphereDetail": 1,
           "useInteriorColor": true,
           "visible": true,
           "wireframe": false
          },
          "type": "ball+stick"
         }
        }
       },
       "_ngl_serialize": false,
       "_ngl_version": "2.0.0-dev.36",
       "_ngl_view_id": [
        "BF68FB26-2290-45F0-8974-54DF4AC59D16"
       ],
       "_player_dict": {},
       "_scene_position": {},
       "_scene_rotation": {},
       "_synced_model_ids": [],
       "_synced_repr_model_ids": [],
       "_view_height": "",
       "_view_width": "",
       "background": "white",
       "frame": 0,
       "gui_style": null,
       "layout": "IPY_MODEL_630bc49d0d7043a6bc8940d80a5f6a66",
       "max_frame": 0,
       "n_components": 1,
       "picked": {}
      }
     },
     "55c681e3dc644610bed559d8e75dcf72": {
      "model_module": "@jupyter-widgets/controls",
      "model_module_version": "1.5.0",
      "model_name": "SliderStyleModel",
      "state": {
       "description_width": ""
      }
     },
     "5602a6a914234a60bbf4e937316c387f": {
      "model_module": "@jupyter-widgets/controls",
      "model_module_version": "1.5.0",
      "model_name": "ButtonModel",
      "state": {
       "icon": "compress",
       "layout": "IPY_MODEL_8abfc715979f4a69810c041482b9419c",
       "style": "IPY_MODEL_7609d2b8379a4f34a5a54b5c451a7a4f"
      }
     },
     "56bdf57aae054f6fa3f090a3a2cc146e": {
      "model_module": "@jupyter-widgets/controls",
      "model_module_version": "1.5.0",
      "model_name": "DescriptionStyleModel",
      "state": {
       "description_width": ""
      }
     },
     "570a22d913e84477aae68ccf5b418319": {
      "model_module": "@jupyter-widgets/controls",
      "model_module_version": "1.5.0",
      "model_name": "FloatSliderModel",
      "state": {
       "description": "Force scale",
       "layout": "IPY_MODEL_c6370ab455d64b40a2df2d6e8eecac3f",
       "step": 0.1,
       "style": "IPY_MODEL_a8f20f5710ce4d26b374044316e8907c",
       "value": 0.5
      }
     },
     "571e01d1590c42c19f29803aee9a5118": {
      "model_module": "@jupyter-widgets/controls",
      "model_module_version": "1.5.0",
      "model_name": "SliderStyleModel",
      "state": {
       "description_width": ""
      }
     },
     "57a77f8a23424d9a837033358d646c4a": {
      "model_module": "@jupyter-widgets/base",
      "model_module_version": "1.2.0",
      "model_name": "LayoutModel",
      "state": {}
     },
     "58c723f775934be2b4840d31c5e1fdb6": {
      "model_module": "@jupyter-widgets/controls",
      "model_module_version": "1.5.0",
      "model_name": "IntSliderModel",
      "state": {
       "layout": "IPY_MODEL_21082506d8814f5b9fb0bd7e69ca4fd7",
       "max": 99,
       "style": "IPY_MODEL_4398062af1d6412e8e631908ce4fc02e"
      }
     },
     "59e3e3708bac4aaf847b452e81316377": {
      "model_module": "@jupyter-widgets/controls",
      "model_module_version": "1.5.0",
      "model_name": "LinkModel",
      "state": {
       "source": [
        "IPY_MODEL_284bc77a586442f4bea02f06487c482e",
        "value"
       ],
       "target": [
        "IPY_MODEL_450ded30818f4158b04d51d98c272735",
        "value"
       ]
      }
     },
     "5ab4bcbb44b84a07a364ea7ab8d012de": {
      "model_module": "nglview-js-widgets",
      "model_module_version": "3.0.1",
      "model_name": "NGLModel",
      "state": {
       "_camera_orientation": [
        48.02089032147752,
        2.7452278240914527,
        0.7759400005581719,
        0,
        1.326457597475855,
        -9.902478429860075,
        -47.05662224539989,
        0,
        -2.525642281228819,
        46.99520093688293,
        -9.96074725747418,
        0,
        -4.084999797865748,
        -4.662999927997589,
        -16.296000361442566,
        1
       ],
       "_camera_str": "orthographic",
       "_gui_theme": null,
       "_ibtn_fullscreen": "IPY_MODEL_dba29a8ddbeb4e12bb1160454fb02156",
       "_igui": null,
       "_iplayer": "IPY_MODEL_65f9cb2082fb4e7a9d0dfeb951374a62",
       "_ngl_color_dict": {},
       "_ngl_coordinate_resource": {},
       "_ngl_full_stage_parameters": {
        "ambientColor": 14540253,
        "ambientIntensity": 0.2,
        "backgroundColor": "white",
        "cameraEyeSep": 0.3,
        "cameraFov": 40,
        "cameraType": "orthographic",
        "clipDist": 0,
        "clipFar": 100,
        "clipNear": 0,
        "fogFar": 100,
        "fogNear": 50,
        "hoverTimeout": 0,
        "impostor": true,
        "lightColor": 14540253,
        "lightIntensity": 1,
        "mousePreset": "default",
        "panSpeed": 1,
        "quality": "medium",
        "rotateSpeed": 2,
        "sampleLevel": 0,
        "tooltip": true,
        "workerDefault": true,
        "zoomSpeed": 1.2
       },
       "_ngl_msg_archive": [
        {
         "args": [
          {
           "binary": false,
           "data": "CRYST1    8.591    9.920   31.691  90.00  90.00  90.00 P 1\nMODEL     1\nATOM      1   Al MOL     1       2.290   1.439  10.060  1.00  0.00          AL  \nATOM      2   Al MOL     1       5.132   1.652   9.953  1.00  0.00          AL  \nATOM      3   Al MOL     1       7.932   1.370  10.041  1.00  0.00          AL  \nATOM      4   Al MOL     1       0.845   3.918   9.989  1.00  0.00          AL  \nATOM      5   Al MOL     1       3.571   3.979   9.695  1.00  0.00          AL  \nATOM      6   Al MOL     1       6.632   4.006   9.972  1.00  0.00          AL  \nATOM      7   Al MOL     1       2.139   6.425   9.854  1.00  0.00          AL  \nATOM      8   Al MOL     1       5.018   6.431  10.083  1.00  0.00          AL  \nATOM      9   Al MOL     1       8.124   6.531   9.574  1.00  0.00          AL  \nATOM     10   Al MOL     1       0.669   8.904  10.052  1.00  0.00          AL  \nATOM     11   Al MOL     1       3.634   8.954   9.910  1.00  0.00          AL  \nATOM     12   Al MOL     1       6.393   8.864  10.159  1.00  0.00          AL  \nATOM     13   Al MOL     1       0.736   2.298  12.459  1.00  0.00          AL  \nATOM     14   Al MOL     1       3.589   2.309  12.341  1.00  0.00          AL  \nATOM     15   Al MOL     1       6.630   2.329  12.372  1.00  0.00          AL  \nATOM     16   Al MOL     1       2.273   4.955  12.294  1.00  0.00          AL  \nATOM     17   Al MOL     1       5.170   4.741  12.357  1.00  0.00          AL  \nATOM     18   Al MOL     1       8.053   4.841  12.326  1.00  0.00          AL  \nATOM     19   Al MOL     1       0.730   7.288  12.339  1.00  0.00          AL  \nATOM     20   Al MOL     1       3.656   7.293  12.368  1.00  0.00          AL  \nATOM     21   Al MOL     1       6.472   7.253  12.430  1.00  0.00          AL  \nATOM     22   Al MOL     1       2.062   9.788  12.520  1.00  0.00          AL  \nATOM     23   Al MOL     1       5.021   9.844  12.480  1.00  0.00          AL  \nATOM     24   Al MOL     1       7.843   9.602  12.375  1.00  0.00          AL  \nATOM     25   Al MOL     1       0.700   0.687  14.823  1.00  0.00          AL  \nATOM     26   Al MOL     1       3.466   0.752  14.790  1.00  0.00          AL  \nATOM     27   Al MOL     1       6.327   0.611  14.761  1.00  0.00          AL  \nATOM     28   Al MOL     1       2.242   3.212  14.743  1.00  0.00          AL  \nATOM     29   Al MOL     1       5.045   3.156  14.701  1.00  0.00          AL  \nATOM     30   Al MOL     1       7.976   3.168  14.623  1.00  0.00          AL  \nATOM     31   Al MOL     1       0.782   5.720  14.709  1.00  0.00          AL  \nATOM     32   Al MOL     1       3.640   5.635  14.690  1.00  0.00          AL  \nATOM     33   Al MOL     1       6.475   5.611  14.666  1.00  0.00          AL  \nATOM     34   Al MOL     1       2.011   8.127  14.731  1.00  0.00          AL  \nATOM     35   Al MOL     1       4.798   8.170  14.765  1.00  0.00          AL  \nATOM     36   Al MOL     1       7.792   8.168  14.773  1.00  0.00          AL  \nATOM     37   Al MOL     1       2.164   1.612  17.095  1.00  0.00          AL  \nATOM     38   Al MOL     1       4.908   1.631  17.005  1.00  0.00          AL  \nATOM     39   Al MOL     1       7.792   1.606  16.865  1.00  0.00          AL  \nATOM     40   Al MOL     1       0.697   4.092  16.957  1.00  0.00          AL  \nATOM     41   Al MOL     1       3.642   4.129  17.052  1.00  0.00          AL  \nATOM     42   Al MOL     1       6.483   4.038  16.906  1.00  0.00          AL  \nATOM     43   Al MOL     1       2.105   6.569  17.085  1.00  0.00          AL  \nATOM     44   Al MOL     1       4.998   6.586  16.996  1.00  0.00          AL  \nATOM     45   Al MOL     1       7.785   6.521  17.022  1.00  0.00          AL  \nATOM     46   Al MOL     1       0.573   9.020  17.055  1.00  0.00          AL  \nATOM     47   Al MOL     1       3.504   8.979  17.129  1.00  0.00          AL  \nATOM     48   Al MOL     1       6.255   9.116  17.059  1.00  0.00          AL  \nATOM     49   Al MOL     1       0.720   2.336  19.259  1.00  0.00          AL  \nATOM     50   Al MOL     1       3.544   2.436  19.400  1.00  0.00          AL  \nATOM     51   Al MOL     1       6.445   2.303  19.224  1.00  0.00          AL  \nATOM     52   Al MOL     1       2.185   4.855  19.285  1.00  0.00          AL  \nATOM     53   Al MOL     1       5.025   4.861  19.366  1.00  0.00          AL  \nATOM     54   Al MOL     1       7.783   4.842  19.298  1.00  0.00          AL  \nATOM     55   Al MOL     1       0.652   7.350  19.340  1.00  0.00          AL  \nATOM     56   Al MOL     1       3.570   7.296  19.421  1.00  0.00          AL  \nATOM     57   Al MOL     1       6.366   7.436  19.478  1.00  0.00          AL  \nATOM     58   Al MOL     1       2.016   9.805  19.263  1.00  0.00          AL  \nATOM     59   Al MOL     1       4.904   9.825  19.530  1.00  0.00          AL  \nATOM     60   Al MOL     1       7.832   9.805  19.259  1.00  0.00          AL  \nATOM     61   Al MOL     1       0.645   0.517  21.581  1.00  0.00          AL  \nATOM     62   Al MOL     1       3.515   0.692  21.784  1.00  0.00          AL  \nATOM     63   Al MOL     1       6.414   0.658  21.780  1.00  0.00          AL  \nATOM     64   Al MOL     1       2.084   3.125  21.708  1.00  0.00          AL  \nATOM     65   Al MOL     1       5.026   3.121  21.715  1.00  0.00          AL  \nATOM     66   Al MOL     1       7.878   2.994  21.646  1.00  0.00          AL  \nATOM     67   Al MOL     1       0.659   5.543  21.635  1.00  0.00          AL  \nATOM     68   Al MOL     1       3.604   5.501  21.701  1.00  0.00          AL  \nATOM     69   Al MOL     1       6.459   5.585  21.712  1.00  0.00          AL  \nATOM     70   Al MOL     1       2.189   7.912  21.733  1.00  0.00          AL  \nATOM     71   Al MOL     1       4.940   8.070  22.216  1.00  0.00          AL  \nATOM     72   Al MOL     1       8.031   7.968  21.824  1.00  0.00          AL  \nATOM     73    O MOL     1       5.827   3.130  27.731  1.00  0.00           O  \nATOM     74    O MOL     1       5.477   3.174  26.546  1.00  0.00           O  \nATOM     75    O MOL     1       2.396   8.563  28.273  1.00  0.00           O  \nATOM     76    O MOL     1       2.235   7.737  27.377  1.00  0.00           O  \nATOM     77    O MOL     1       4.217  -0.406   2.564  1.00  0.00           O  \nATOM     78    O MOL     1       3.784  -0.031   1.481  1.00  0.00           O  \nATOM     79    O MOL     1       4.666   5.834   2.393  1.00  0.00           O  \nATOM     80    O MOL     1       5.579   6.486   1.919  1.00  0.00           O  \nATOM     81    O MOL     1       7.456   3.787   3.981  1.00  0.00           O  \nATOM     82    O MOL     1       7.889   4.953   3.933  1.00  0.00           O  \nATOM     83    O MOL     1       7.434  -0.225   4.129  1.00  0.00           O  \nATOM     84    O MOL     1       7.312  -0.518   2.942  1.00  0.00           O  \nATOM     85    O MOL     1       3.167   5.739  31.075  1.00  0.00           O  \nATOM     86    O MOL     1       2.258   6.142  30.286  1.00  0.00           O  \nATOM     87    O MOL     1       3.250   5.601  25.423  1.00  0.00           O  \nATOM     88    O MOL     1       2.977   4.598  26.086  1.00  0.00           O  \nATOM     89    O MOL     1       0.299   3.519  30.487  1.00  0.00           O  \nATOM     90    O MOL     1       0.718   2.687  31.325  1.00  0.00           O  \nATOM     91    O MOL     1       7.155   6.415   7.884  1.00  0.00           O  \nATOM     92    O MOL     1       6.178   5.360   7.450  1.00  0.00           O  \nATOM     93    O MOL     1       1.907   4.896   6.822  1.00  0.00           O  \nATOM     94    O MOL     1       2.898   5.317   7.466  1.00  0.00           O  \nATOM     95    O MOL     1       7.894   5.340  25.511  1.00  0.00           O  \nATOM     96    O MOL     1       7.244   5.298  24.446  1.00  0.00           O  \nATOM     97    O MOL     1       4.438   2.331   6.268  1.00  0.00           O  \nATOM     98    O MOL     1       4.707   2.926   5.214  1.00  0.00           O  \nATOM     99    O MOL     1       2.351   9.387   6.790  1.00  0.00           O  \nATOM    100    O MOL     1       3.376   9.163   6.122  1.00  0.00           O  \nATOM    101    O MOL     1       5.902   8.853  28.172  1.00  0.00           O  \nATOM    102    O MOL     1       5.323   7.974  27.542  1.00  0.00           O  \nATOM    103    O MOL     1       1.422   7.527   1.267  1.00  0.00           O  \nATOM    104    O MOL     1       1.094   6.577   2.011  1.00  0.00           O  \nATOM    105    O MOL     1       6.672   5.703  28.938  1.00  0.00           O  \nATOM    106    O MOL     1       6.459   6.453  29.911  1.00  0.00           O  \nATOM    107    O MOL     1       6.446   9.635  23.688  1.00  0.00           O  \nATOM    108    O MOL     1       5.096   8.916  23.689  1.00  0.00           O  \nATOM    109    O MOL     1       3.524   1.491  29.685  1.00  0.00           O  \nATOM    110    O MOL     1       2.764   0.553  29.943  1.00  0.00           O  \nATOM    111    O MOL     1       0.046   2.037  28.204  1.00  0.00           O  \nATOM    112    O MOL     1       0.921   2.152  27.335  1.00  0.00           O  \nENDMDL\n",
           "type": "blob"
          }
         ],
         "kwargs": {
          "defaultRepresentation": false,
          "ext": "pdb"
         },
         "methodName": "loadFile",
         "reconstruc_color_scheme": false,
         "target": "Stage",
         "type": "call_method"
        },
        {
         "args": [
          "500px",
          "500px"
         ],
         "kwargs": {},
         "methodName": "setSize",
         "reconstruc_color_scheme": false,
         "target": "Widget",
         "type": "call_method"
        },
        {
         "args": [
          "unitcell"
         ],
         "component_index": 0,
         "kwargs": {
          "sele": "all"
         },
         "methodName": "addRepresentation",
         "reconstruc_color_scheme": false,
         "target": "compList",
         "type": "call_method"
        },
        {
         "args": [
          "spacefill"
         ],
         "component_index": 0,
         "kwargs": {
          "sele": "all"
         },
         "methodName": "addRepresentation",
         "reconstruc_color_scheme": false,
         "target": "compList",
         "type": "call_method"
        },
        {
         "args": [],
         "kwargs": {
          "cameraType": "orthographic"
         },
         "methodName": "setParameters",
         "reconstruc_color_scheme": false,
         "target": "Stage",
         "type": "call_method"
        },
        {
         "args": [
          {
           "clipDist": 0
          }
         ],
         "kwargs": {},
         "methodName": "setParameters",
         "reconstruc_color_scheme": false,
         "target": "Widget",
         "type": "call_method"
        },
        {
         "args": [
          "spacefill",
          0
         ],
         "kwargs": {
          "colorScale": "rainbow",
          "colorScheme": "element",
          "radiusScale": 0.5,
          "radiusType": "covalent"
         },
         "methodName": "updateRepresentationsByName",
         "reconstruc_color_scheme": false,
         "target": "Widget",
         "type": "call_method"
        },
        {
         "args": [
          "this._Q = [[1.0, 0.0, 0.0], [0.0, 1.0, 0.0], [0.0, 0.0, 1.0]]\n    var tooltip = document.createElement('div');\n    Object.assign(tooltip.style, {\n      display: 'none',\n      position: 'fixed',\n      zIndex: 10,\n      pointerEvents: 'none',\n      backgroundColor: 'rgba( 0, 0, 0, 0.6 )',\n      color: 'lightgrey',\n      padding: '8px',\n      fontFamily: 'sans-serif'\n    });\n    document.body.appendChild(tooltip);\n\n    var that = this;\n    this.stage.mouseControls.remove('hoverPick');\n    this.stage.signals.hovered.add(function (pickingProxy) {\n      if (pickingProxy && (pickingProxy.atom || pickingProxy.bond)) {\n        var atom = pickingProxy.atom || pickingProxy.closestBondAtom\n        var mp = pickingProxy.mouse.position\n        //tooltip.innerText = atom.element + ' i=' + atom.index + ' (' + atom.x.toFixed(2) +  ', ' + atom.y.toFixed(2) +  ', ' + atom.z.toFixed(2) + ')'\n        //var pos = that._atoms_pos[atom.index]\n        var Q = that._Q\n        var pos_x = Q[0][0] * atom.x + Q[0][1] * atom.y + Q[0][2] * atom.z \n        var pos_y = Q[1][0] * atom.x + Q[1][1] * atom.y + Q[1][2] * atom.z\n        var pos_z = Q[2][0] * atom.x + Q[2][1] * atom.y + Q[2][2] * atom.z\n        tooltip.innerText = 'i=' + atom.index + ' ' + atom.element + ' (' + pos_x.toFixed(2) +  ', ' + pos_y.toFixed(2) +  ', ' + pos_z.toFixed(2) + ')'\n        tooltip.style.bottom = window.innerHeight - mp.y + 3 + 'px'\n        tooltip.style.left = mp.x + 3 + 'px'\n        tooltip.style.display = 'block'\n      } else {\n        tooltip.style.display = 'none'\n      }\n    });\n    this.stage.tooltip = tooltip;\n    "
         ],
         "kwargs": {},
         "methodName": "executeCode",
         "reconstruc_color_scheme": false,
         "target": "Widget",
         "type": "call_method"
        },
        {
         "args": [
          "ball+stick"
         ],
         "component_index": 0,
         "kwargs": {
          "sele": "all"
         },
         "methodName": "addRepresentation",
         "reconstruc_color_scheme": false,
         "target": "compList",
         "type": "call_method"
        },
        {
         "args": [
          {
           "data": "CRYST1    8.591    9.920   31.691  90.00  90.00  90.00 P 1\nMODEL     1\nATOM      1   Al MOL     1       2.198   1.541  10.014  1.00  0.00          AL  \nATOM      2   Al MOL     1       4.989   1.391  10.073  1.00  0.00          AL  \nATOM      3   Al MOL     1       7.997   1.355  10.135  1.00  0.00          AL  \nATOM      4   Al MOL     1       0.697   4.020   9.844  1.00  0.00          AL  \nATOM      5   Al MOL     1       3.791   3.866   9.740  1.00  0.00          AL  \nATOM      6   Al MOL     1       6.593   3.544   9.938  1.00  0.00          AL  \nATOM      7   Al MOL     1       2.214   6.553   9.841  1.00  0.00          AL  \nATOM      8   Al MOL     1       5.005   6.800   9.975  1.00  0.00          AL  \nATOM      9   Al MOL     1       8.089   6.425   9.468  1.00  0.00          AL  \nATOM     10   Al MOL     1       0.799   8.886  10.038  1.00  0.00          AL  \nATOM     11   Al MOL     1       3.573   8.984  10.041  1.00  0.00          AL  \nATOM     12   Al MOL     1       6.659   8.891   9.822  1.00  0.00          AL  \nATOM     13   Al MOL     1       0.799   2.358  12.355  1.00  0.00          AL  \nATOM     14   Al MOL     1       3.649   2.338  12.338  1.00  0.00          AL  \nATOM     15   Al MOL     1       6.432   2.371  12.378  1.00  0.00          AL  \nATOM     16   Al MOL     1       2.196   4.802  12.172  1.00  0.00          AL  \nATOM     17   Al MOL     1       4.993   4.860  12.244  1.00  0.00          AL  \nATOM     18   Al MOL     1       7.836   4.806  12.249  1.00  0.00          AL  \nATOM     19   Al MOL     1       0.738   7.229  12.331  1.00  0.00          AL  \nATOM     20   Al MOL     1       3.570   7.219  12.381  1.00  0.00          AL  \nATOM     21   Al MOL     1       6.497   7.285  12.189  1.00  0.00          AL  \nATOM     22   Al MOL     1       2.196   9.778  12.360  1.00  0.00          AL  \nATOM     23   Al MOL     1       5.061   9.724  12.345  1.00  0.00          AL  \nATOM     24   Al MOL     1       7.906   9.827  12.400  1.00  0.00          AL  \nATOM     25   Al MOL     1       0.730   0.760  14.636  1.00  0.00          AL  \nATOM     26   Al MOL     1       3.630   0.714  14.610  1.00  0.00          AL  \nATOM     27   Al MOL     1       6.471   0.780  14.727  1.00  0.00          AL  \nATOM     28   Al MOL     1       2.125   3.203  14.632  1.00  0.00          AL  \nATOM     29   Al MOL     1       5.011   3.251  14.714  1.00  0.00          AL  \nATOM     30   Al MOL     1       7.841   3.259  14.709  1.00  0.00          AL  \nATOM     31   Al MOL     1       0.700   5.661  14.658  1.00  0.00          AL  \nATOM     32   Al MOL     1       3.590   5.711  14.652  1.00  0.00          AL  \nATOM     33   Al MOL     1       6.403   5.684  14.755  1.00  0.00          AL  \nATOM     34   Al MOL     1       2.176   8.161  14.691  1.00  0.00          AL  \nATOM     35   Al MOL     1       5.107   8.157  14.681  1.00  0.00          AL  \nATOM     36   Al MOL     1       7.906   8.132  14.674  1.00  0.00          AL  \nATOM     37   Al MOL     1       2.065   1.519  16.981  1.00  0.00          AL  \nATOM     38   Al MOL     1       5.026   1.476  17.033  1.00  0.00          AL  \nATOM     39   Al MOL     1       7.836   1.505  17.134  1.00  0.00          AL  \nATOM     40   Al MOL     1       0.701   4.015  17.028  1.00  0.00          AL  \nATOM     41   Al MOL     1       3.538   3.949  17.010  1.00  0.00          AL  \nATOM     42   Al MOL     1       6.410   4.035  17.082  1.00  0.00          AL  \nATOM     43   Al MOL     1       2.145   6.475  17.002  1.00  0.00          AL  \nATOM     44   Al MOL     1       4.958   6.485  17.080  1.00  0.00          AL  \nATOM     45   Al MOL     1       7.886   6.510  17.071  1.00  0.00          AL  \nATOM     46   Al MOL     1       0.696   9.003  17.083  1.00  0.00          AL  \nATOM     47   Al MOL     1       3.555   9.010  17.014  1.00  0.00          AL  \nATOM     48   Al MOL     1       6.419   8.917  17.046  1.00  0.00          AL  \nATOM     49   Al MOL     1       0.681   2.345  19.354  1.00  0.00          AL  \nATOM     50   Al MOL     1       3.523   2.301  19.272  1.00  0.00          AL  \nATOM     51   Al MOL     1       6.370   2.397  19.387  1.00  0.00          AL  \nATOM     52   Al MOL     1       2.166   4.820  19.337  1.00  0.00          AL  \nATOM     53   Al MOL     1       4.958   4.838  19.412  1.00  0.00          AL  \nATOM     54   Al MOL     1       7.873   4.892  19.344  1.00  0.00          AL  \nATOM     55   Al MOL     1       0.706   7.320  19.372  1.00  0.00          AL  \nATOM     56   Al MOL     1       3.548   7.318  19.418  1.00  0.00          AL  \nATOM     57   Al MOL     1       6.388   7.251  19.439  1.00  0.00          AL  \nATOM     58   Al MOL     1       2.122   9.787  19.371  1.00  0.00          AL  \nATOM     59   Al MOL     1       4.987   9.747  19.462  1.00  0.00          AL  \nATOM     60   Al MOL     1       7.828   9.776  19.485  1.00  0.00          AL  \nATOM     61   Al MOL     1       0.746   0.748  21.685  1.00  0.00          AL  \nATOM     62   Al MOL     1       3.677   0.599  21.839  1.00  0.00          AL  \nATOM     63   Al MOL     1       6.431   0.859  21.796  1.00  0.00          AL  \nATOM     64   Al MOL     1       2.161   3.068  21.595  1.00  0.00          AL  \nATOM     65   Al MOL     1       4.946   3.103  21.644  1.00  0.00          AL  \nATOM     66   Al MOL     1       7.868   3.252  21.654  1.00  0.00          AL  \nATOM     67   Al MOL     1       0.729   5.635  21.722  1.00  0.00          AL  \nATOM     68   Al MOL     1       3.504   5.564  21.701  1.00  0.00          AL  \nATOM     69   Al MOL     1       6.452   5.594  21.845  1.00  0.00          AL  \nATOM     70   Al MOL     1       1.990   8.114  21.723  1.00  0.00          AL  \nATOM     71   Al MOL     1       4.992   7.919  22.061  1.00  0.00          AL  \nATOM     72   Al MOL     1       7.933   7.901  21.633  1.00  0.00          AL  \nATOM     73    O MOL     1       5.781   3.327  27.728  1.00  0.00           O  \nATOM     74    O MOL     1       5.430   3.336  26.544  1.00  0.00           O  \nATOM     75    O MOL     1       2.239   8.289  28.072  1.00  0.00           O  \nATOM     76    O MOL     1       2.155   7.152  27.596  1.00  0.00           O  \nATOM     77    O MOL     1       4.475  -0.533   2.398  1.00  0.00           O  \nATOM     78    O MOL     1       3.553  -0.158   1.656  1.00  0.00           O  \nATOM     79    O MOL     1       4.832   6.061   2.288  1.00  0.00           O  \nATOM     80    O MOL     1       5.776   6.653   1.742  1.00  0.00           O  \nATOM     81    O MOL     1       7.688   3.696   4.155  1.00  0.00           O  \nATOM     82    O MOL     1       7.639   4.896   3.907  1.00  0.00           O  \nATOM     83    O MOL     1       7.274  -0.421   3.876  1.00  0.00           O  \nATOM     84    O MOL     1       7.300  -0.755   2.686  1.00  0.00           O  \nATOM     85    O MOL     1       3.029   5.990  31.184  1.00  0.00           O  \nATOM     86    O MOL     1       1.975   6.147  30.591  1.00  0.00           O  \nATOM     87    O MOL     1       3.648   5.754  25.188  1.00  0.00           O  \nATOM     88    O MOL     1       2.759   5.130  25.792  1.00  0.00           O  \nATOM     89    O MOL     1       0.175   3.756  30.587  1.00  0.00           O  \nATOM     90    O MOL     1       0.866   2.863  31.064  1.00  0.00           O  \nATOM     91    O MOL     1       7.681   7.942   8.536  1.00  0.00           O  \nATOM     92    O MOL     1       5.339   4.725   9.450  1.00  0.00           O  \nATOM     93    O MOL     1       1.822   4.618   7.994  1.00  0.00           O  \nATOM     94    O MOL     1       3.027   5.249   8.674  1.00  0.00           O  \nATOM     95    O MOL     1       7.799   5.529  24.980  1.00  0.00           O  \nATOM     96    O MOL     1       7.359   5.094  23.850  1.00  0.00           O  \nATOM     97    O MOL     1       4.321   2.571   6.447  1.00  0.00           O  \nATOM     98    O MOL     1       4.790   2.919   5.354  1.00  0.00           O  \nATOM     99    O MOL     1       2.617   9.290   6.961  1.00  0.00           O  \nATOM    100    O MOL     1       3.456   9.500   6.064  1.00  0.00           O  \nATOM    101    O MOL     1       5.706   8.725  28.259  1.00  0.00           O  \nATOM    102    O MOL     1       5.278   8.095  27.280  1.00  0.00           O  \nATOM    103    O MOL     1       1.544   7.407   1.785  1.00  0.00           O  \nATOM    104    O MOL     1       1.284   6.285   2.211  1.00  0.00           O  \nATOM    105    O MOL     1       6.994   5.678  29.040  1.00  0.00           O  \nATOM    106    O MOL     1       5.990   6.099  29.602  1.00  0.00           O  \nATOM    107    O MOL     1       6.888   9.189  22.674  1.00  0.00           O  \nATOM    108    O MOL     1       3.658   9.092  22.959  1.00  0.00           O  \nATOM    109    O MOL     1       3.645   1.618  29.856  1.00  0.00           O  \nATOM    110    O MOL     1       2.848   0.686  29.994  1.00  0.00           O  \nATOM    111    O MOL     1      -0.078   1.950  27.956  1.00  0.00           O  \nATOM    112    O MOL     1       0.979   2.287  27.418  1.00  0.00           O  \nENDMDL\n",
           "ext": "pdb"
          }
         ],
         "kwargs": {},
         "methodName": "replaceStructure",
         "reconstruc_color_scheme": false,
         "target": "Widget",
         "type": "call_method"
        },
        {
         "args": [
          "this._Q = [[1.0, 0.0, 0.0], [0.0, 1.0, 0.0], [0.0, 0.0, 1.0]]"
         ],
         "kwargs": {},
         "methodName": "executeCode",
         "reconstruc_color_scheme": false,
         "target": "Widget",
         "type": "call_method"
        },
        {
         "args": [
          {
           "data": "CRYST1    8.591    9.920   31.691  90.00  90.00  90.00 P 1\nMODEL     1\nATOM      1   Al MOL     1       2.442   1.652   9.345  1.00  0.00          AL  \nATOM      2   Al MOL     1       4.808   1.329  10.466  1.00  0.00          AL  \nATOM      3   Al MOL     1       7.601   1.600  10.205  1.00  0.00          AL  \nATOM      4   Al MOL     1       0.732   3.899  10.125  1.00  0.00          AL  \nATOM      5   Al MOL     1       3.554   4.321   8.262  1.00  0.00          AL  \nATOM      6   Al MOL     1       6.712   4.222  10.260  1.00  0.00          AL  \nATOM      7   Al MOL     1       2.170   6.480  10.328  1.00  0.00          AL  \nATOM      8   Al MOL     1       4.790   6.157   9.951  1.00  0.00          AL  \nATOM      9   Al MOL     1       8.113   6.470  10.247  1.00  0.00          AL  \nATOM     10   Al MOL     1       0.931   8.838   9.664  1.00  0.00          AL  \nATOM     11   Al MOL     1       3.758   8.735  10.476  1.00  0.00          AL  \nATOM     12   Al MOL     1       6.581   8.966  10.342  1.00  0.00          AL  \nATOM     13   Al MOL     1       0.601   2.354  12.323  1.00  0.00          AL  \nATOM     14   Al MOL     1       3.406   2.394  12.551  1.00  0.00          AL  \nATOM     15   Al MOL     1       6.327   2.392  12.572  1.00  0.00          AL  \nATOM     16   Al MOL     1       2.120   4.791  12.498  1.00  0.00          AL  \nATOM     17   Al MOL     1       4.950   4.808  12.586  1.00  0.00          AL  \nATOM     18   Al MOL     1       7.918   4.784  12.596  1.00  0.00          AL  \nATOM     19   Al MOL     1       0.681   7.371  12.517  1.00  0.00          AL  \nATOM     20   Al MOL     1       3.617   7.189  12.611  1.00  0.00          AL  \nATOM     21   Al MOL     1       6.454   7.243  12.536  1.00  0.00          AL  \nATOM     22   Al MOL     1       2.016   9.908  12.287  1.00  0.00          AL  \nATOM     23   Al MOL     1       5.050   9.758  12.685  1.00  0.00          AL  \nATOM     24   Al MOL     1       7.851   9.873  12.514  1.00  0.00          AL  \nATOM     25   Al MOL     1       0.708   0.756  14.740  1.00  0.00          AL  \nATOM     26   Al MOL     1       3.477   0.685  14.714  1.00  0.00          AL  \nATOM     27   Al MOL     1       6.428   0.661  14.808  1.00  0.00          AL  \nATOM     28   Al MOL     1       2.106   3.170  14.806  1.00  0.00          AL  \nATOM     29   Al MOL     1       4.950   3.145  14.867  1.00  0.00          AL  \nATOM     30   Al MOL     1       7.844   3.181  14.795  1.00  0.00          AL  \nATOM     31   Al MOL     1       0.750   5.672  14.741  1.00  0.00          AL  \nATOM     32   Al MOL     1       3.564   5.622  14.880  1.00  0.00          AL  \nATOM     33   Al MOL     1       6.477   5.611  14.802  1.00  0.00          AL  \nATOM     34   Al MOL     1       2.107   8.178  14.702  1.00  0.00          AL  \nATOM     35   Al MOL     1       5.007   8.068  14.821  1.00  0.00          AL  \nATOM     36   Al MOL     1       7.884   8.137  14.739  1.00  0.00          AL  \nATOM     37   Al MOL     1       2.162   1.506  16.960  1.00  0.00          AL  \nATOM     38   Al MOL     1       4.974   1.420  17.027  1.00  0.00          AL  \nATOM     39   Al MOL     1       7.831   1.520  16.983  1.00  0.00          AL  \nATOM     40   Al MOL     1       0.685   4.009  17.048  1.00  0.00          AL  \nATOM     41   Al MOL     1       3.577   3.935  17.105  1.00  0.00          AL  \nATOM     42   Al MOL     1       6.404   4.006  17.090  1.00  0.00          AL  \nATOM     43   Al MOL     1       2.101   6.409  17.064  1.00  0.00          AL  \nATOM     44   Al MOL     1       5.052   6.404  17.071  1.00  0.00          AL  \nATOM     45   Al MOL     1       7.868   6.437  17.005  1.00  0.00          AL  \nATOM     46   Al MOL     1       0.709   8.919  16.870  1.00  0.00          AL  \nATOM     47   Al MOL     1       3.617   8.876  16.965  1.00  0.00          AL  \nATOM     48   Al MOL     1       6.444   8.888  16.994  1.00  0.00          AL  \nATOM     49   Al MOL     1       0.749   2.359  19.193  1.00  0.00          AL  \nATOM     50   Al MOL     1       3.568   2.328  19.281  1.00  0.00          AL  \nATOM     51   Al MOL     1       6.419   2.295  19.202  1.00  0.00          AL  \nATOM     52   Al MOL     1       2.213   4.786  19.476  1.00  0.00          AL  \nATOM     53   Al MOL     1       4.973   4.757  19.421  1.00  0.00          AL  \nATOM     54   Al MOL     1       7.852   4.802  19.320  1.00  0.00          AL  \nATOM     55   Al MOL     1       0.709   7.245  19.299  1.00  0.00          AL  \nATOM     56   Al MOL     1       3.547   7.255  19.295  1.00  0.00          AL  \nATOM     57   Al MOL     1       6.436   7.286  19.325  1.00  0.00          AL  \nATOM     58   Al MOL     1       2.190   9.706  19.163  1.00  0.00          AL  \nATOM     59   Al MOL     1       5.079   9.738  19.278  1.00  0.00          AL  \nATOM     60   Al MOL     1       7.950   9.704  19.155  1.00  0.00          AL  \nATOM     61   Al MOL     1       0.762   0.752  21.336  1.00  0.00          AL  \nATOM     62   Al MOL     1       3.565   0.818  21.463  1.00  0.00          AL  \nATOM     63   Al MOL     1       6.498   0.751  21.520  1.00  0.00          AL  \nATOM     64   Al MOL     1       2.129   2.943  22.049  1.00  0.00          AL  \nATOM     65   Al MOL     1       5.414   2.878  21.525  1.00  0.00          AL  \nATOM     66   Al MOL     1       7.833   3.103  21.555  1.00  0.00          AL  \nATOM     67   Al MOL     1       0.899   5.714  21.843  1.00  0.00          AL  \nATOM     68   Al MOL     1       3.667   5.730  22.029  1.00  0.00          AL  \nATOM     69   Al MOL     1       6.407   5.722  21.646  1.00  0.00          AL  \nATOM     70   Al MOL     1       2.193   8.193  21.603  1.00  0.00          AL  \nATOM     71   Al MOL     1       5.038   8.094  21.566  1.00  0.00          AL  \nATOM     72   Al MOL     1       8.034   8.205  21.667  1.00  0.00          AL  \nATOM     73    O MOL     1       5.409   3.402  26.978  1.00  0.00           O  \nATOM     74    O MOL     1       6.157   3.352  25.997  1.00  0.00           O  \nATOM     75    O MOL     1       2.120   8.200  27.877  1.00  0.00           O  \nATOM     76    O MOL     1       2.166   7.041  27.459  1.00  0.00           O  \nATOM     77    O MOL     1       4.168  -0.401   2.535  1.00  0.00           O  \nATOM     78    O MOL     1       3.758  -0.209   1.388  1.00  0.00           O  \nATOM     79    O MOL     1       4.907   6.002   2.316  1.00  0.00           O  \nATOM     80    O MOL     1       5.547   6.871   1.719  1.00  0.00           O  \nATOM     81    O MOL     1       7.639   3.937   3.616  1.00  0.00           O  \nATOM     82    O MOL     1       7.376   4.871   4.376  1.00  0.00           O  \nATOM     83    O MOL     1       7.441  -1.248   3.584  1.00  0.00           O  \nATOM     84    O MOL     1       7.570  -0.413   2.687  1.00  0.00           O  \nATOM     85    O MOL     1       2.936   5.666  31.414  1.00  0.00           O  \nATOM     86    O MOL     1       2.209   6.289  30.633  1.00  0.00           O  \nATOM     87    O MOL     1       2.075   6.455  22.666  1.00  0.00           O  \nATOM     88    O MOL     1       3.761   3.824  22.441  1.00  0.00           O  \nATOM     89    O MOL     1      -0.199   3.834  30.701  1.00  0.00           O  \nATOM     90    O MOL     1       0.854   3.190  30.717  1.00  0.00           O  \nATOM     91    O MOL     1       7.963   8.070   9.354  1.00  0.00           O  \nATOM     92    O MOL     1       5.160   4.431   9.421  1.00  0.00           O  \nATOM     93    O MOL     1       2.171   3.352   9.134  1.00  0.00           O  \nATOM     94    O MOL     1       3.297   5.980   9.063  1.00  0.00           O  \nATOM     95    O MOL     1       7.836   6.548  22.334  1.00  0.00           O  \nATOM     96    O MOL     1       9.213   4.014  22.329  1.00  0.00           O  \nATOM     97    O MOL     1       3.424   3.379   6.794  1.00  0.00           O  \nATOM     98    O MOL     1       4.397   4.539   6.775  1.00  0.00           O  \nATOM     99    O MOL     1       1.551  10.218   8.885  1.00  0.00           O  \nATOM    100    O MOL     1       5.027   7.875   9.496  1.00  0.00           O  \nATOM    101    O MOL     1       5.330   9.031  28.155  1.00  0.00           O  \nATOM    102    O MOL     1       5.259   8.339  27.137  1.00  0.00           O  \nATOM    103    O MOL     1       1.627   7.401   2.246  1.00  0.00           O  \nATOM    104    O MOL     1       1.057   6.331   2.483  1.00  0.00           O  \nATOM    105    O MOL     1       7.077   5.942  28.756  1.00  0.00           O  \nATOM    106    O MOL     1       6.163   5.923  29.585  1.00  0.00           O  \nATOM    107    O MOL     1       6.506   9.010  22.354  1.00  0.00           O  \nATOM    108    O MOL     1       3.668   9.071  22.262  1.00  0.00           O  \nATOM    109    O MOL     1       3.667   1.561  30.071  1.00  0.00           O  \nATOM    110    O MOL     1       2.773   0.720  29.954  1.00  0.00           O  \nATOM    111    O MOL     1      -0.225   1.633  27.964  1.00  0.00           O  \nATOM    112    O MOL     1       0.616   2.482  27.656  1.00  0.00           O  \nENDMDL\n",
           "ext": "pdb"
          }
         ],
         "kwargs": {},
         "methodName": "replaceStructure",
         "reconstruc_color_scheme": false,
         "target": "Widget",
         "type": "call_method"
        },
        {
         "args": [
          "this._Q = [[1.0, 0.0, 0.0], [0.0, 1.0, 0.0], [0.0, 0.0, 1.0]]"
         ],
         "kwargs": {},
         "methodName": "executeCode",
         "reconstruc_color_scheme": false,
         "target": "Widget",
         "type": "call_method"
        },
        {
         "args": [
          {
           "data": "CRYST1    8.591    9.920   31.691  90.00  90.00  90.00 P 1\nMODEL     1\nATOM      1   Al MOL     1       2.193   1.855  10.034  1.00  0.00          AL  \nATOM      2   Al MOL     1       5.156   1.325  10.247  1.00  0.00          AL  \nATOM      3   Al MOL     1       7.838   1.245  10.289  1.00  0.00          AL  \nATOM      4   Al MOL     1       0.704   3.925  10.323  1.00  0.00          AL  \nATOM      5   Al MOL     1       3.299   3.768   8.527  1.00  0.00          AL  \nATOM      6   Al MOL     1       6.660   3.737  10.068  1.00  0.00          AL  \nATOM      7   Al MOL     1       2.374   6.335  10.380  1.00  0.00          AL  \nATOM      8   Al MOL     1       4.926   6.230   9.985  1.00  0.00          AL  \nATOM      9   Al MOL     1       7.977   6.390  10.180  1.00  0.00          AL  \nATOM     10   Al MOL     1       0.918   8.875  10.177  1.00  0.00          AL  \nATOM     11   Al MOL     1       3.692   8.848  10.240  1.00  0.00          AL  \nATOM     12   Al MOL     1       6.511   8.899  10.055  1.00  0.00          AL  \nATOM     13   Al MOL     1       0.823   2.418  12.525  1.00  0.00          AL  \nATOM     14   Al MOL     1       3.587   2.441  12.520  1.00  0.00          AL  \nATOM     15   Al MOL     1       6.382   2.315  12.586  1.00  0.00          AL  \nATOM     16   Al MOL     1       2.181   4.844  12.603  1.00  0.00          AL  \nATOM     17   Al MOL     1       5.036   4.792  12.491  1.00  0.00          AL  \nATOM     18   Al MOL     1       7.858   4.718  12.538  1.00  0.00          AL  \nATOM     19   Al MOL     1       0.592   7.368  12.710  1.00  0.00          AL  \nATOM     20   Al MOL     1       3.537   7.382  12.618  1.00  0.00          AL  \nATOM     21   Al MOL     1       6.407   7.254  12.385  1.00  0.00          AL  \nATOM     22   Al MOL     1       2.098   9.862  12.456  1.00  0.00          AL  \nATOM     23   Al MOL     1       4.984   9.775  12.516  1.00  0.00          AL  \nATOM     24   Al MOL     1       7.797   9.727  12.690  1.00  0.00          AL  \nATOM     25   Al MOL     1       0.727   0.842  14.762  1.00  0.00          AL  \nATOM     26   Al MOL     1       3.599   0.716  14.826  1.00  0.00          AL  \nATOM     27   Al MOL     1       6.426   0.715  14.884  1.00  0.00          AL  \nATOM     28   Al MOL     1       2.207   3.309  14.855  1.00  0.00          AL  \nATOM     29   Al MOL     1       5.068   3.277  14.800  1.00  0.00          AL  \nATOM     30   Al MOL     1       7.877   3.150  14.677  1.00  0.00          AL  \nATOM     31   Al MOL     1       0.736   5.621  14.774  1.00  0.00          AL  \nATOM     32   Al MOL     1       3.563   5.787  14.832  1.00  0.00          AL  \nATOM     33   Al MOL     1       6.399   5.764  14.681  1.00  0.00          AL  \nATOM     34   Al MOL     1       2.128   8.174  14.795  1.00  0.00          AL  \nATOM     35   Al MOL     1       4.966   8.161  14.821  1.00  0.00          AL  \nATOM     36   Al MOL     1       7.838   8.119  14.915  1.00  0.00          AL  \nATOM     37   Al MOL     1       2.143   1.563  17.053  1.00  0.00          AL  \nATOM     38   Al MOL     1       4.922   1.487  17.004  1.00  0.00          AL  \nATOM     39   Al MOL     1       7.858   1.609  17.033  1.00  0.00          AL  \nATOM     40   Al MOL     1       0.713   3.954  17.074  1.00  0.00          AL  \nATOM     41   Al MOL     1       3.586   4.015  17.072  1.00  0.00          AL  \nATOM     42   Al MOL     1       6.462   4.090  16.944  1.00  0.00          AL  \nATOM     43   Al MOL     1       2.133   6.383  17.105  1.00  0.00          AL  \nATOM     44   Al MOL     1       4.965   6.464  17.037  1.00  0.00          AL  \nATOM     45   Al MOL     1       7.958   6.412  17.057  1.00  0.00          AL  \nATOM     46   Al MOL     1       0.781   8.980  17.071  1.00  0.00          AL  \nATOM     47   Al MOL     1       3.634   8.945  17.026  1.00  0.00          AL  \nATOM     48   Al MOL     1       6.562   8.947  17.052  1.00  0.00          AL  \nATOM     49   Al MOL     1       0.659   2.388  19.330  1.00  0.00          AL  \nATOM     50   Al MOL     1       3.530   2.413  19.298  1.00  0.00          AL  \nATOM     51   Al MOL     1       6.410   2.343  19.210  1.00  0.00          AL  \nATOM     52   Al MOL     1       2.168   4.796  19.375  1.00  0.00          AL  \nATOM     53   Al MOL     1       4.994   4.854  19.217  1.00  0.00          AL  \nATOM     54   Al MOL     1       7.858   4.803  19.393  1.00  0.00          AL  \nATOM     55   Al MOL     1       0.787   7.205  19.408  1.00  0.00          AL  \nATOM     56   Al MOL     1       3.572   7.370  19.314  1.00  0.00          AL  \nATOM     57   Al MOL     1       6.402   7.305  19.194  1.00  0.00          AL  \nATOM     58   Al MOL     1       2.232   9.798  19.294  1.00  0.00          AL  \nATOM     59   Al MOL     1       4.998   9.831  19.291  1.00  0.00          AL  \nATOM     60   Al MOL     1       7.974   9.790  19.314  1.00  0.00          AL  \nATOM     61   Al MOL     1       0.662   0.667  21.475  1.00  0.00          AL  \nATOM     62   Al MOL     1       3.636   0.648  21.520  1.00  0.00          AL  \nATOM     63   Al MOL     1       6.512   0.721  21.526  1.00  0.00          AL  \nATOM     64   Al MOL     1       2.207   3.013  21.695  1.00  0.00          AL  \nATOM     65   Al MOL     1       5.166   3.223  21.535  1.00  0.00          AL  \nATOM     66   Al MOL     1       7.780   3.070  21.728  1.00  0.00          AL  \nATOM     67   Al MOL     1       0.695   5.633  21.695  1.00  0.00          AL  \nATOM     68   Al MOL     1       3.801   5.561  21.563  1.00  0.00          AL  \nATOM     69   Al MOL     1       6.497   5.576  21.577  1.00  0.00          AL  \nATOM     70   Al MOL     1       1.974   8.118  21.898  1.00  0.00          AL  \nATOM     71   Al MOL     1       4.974   8.168  21.636  1.00  0.00          AL  \nATOM     72   Al MOL     1       7.897   8.117  21.601  1.00  0.00          AL  \nATOM     73    O MOL     1       5.686   3.499  25.665  1.00  0.00           O  \nATOM     74    O MOL     1       6.835   3.409  25.210  1.00  0.00           O  \nATOM     75    O MOL     1       2.182   7.812  27.728  1.00  0.00           O  \nATOM     76    O MOL     1       2.287   6.678  27.257  1.00  0.00           O  \nATOM     77    O MOL     1       4.147  -0.330   2.475  1.00  0.00           O  \nATOM     78    O MOL     1       4.182  -0.090   1.265  1.00  0.00           O  \nATOM     79    O MOL     1       4.520   6.239   2.338  1.00  0.00           O  \nATOM     80    O MOL     1       5.376   6.798   1.646  1.00  0.00           O  \nATOM     81    O MOL     1       7.585   4.430   3.134  1.00  0.00           O  \nATOM     82    O MOL     1       7.444   5.217   4.070  1.00  0.00           O  \nATOM     83    O MOL     1       7.316  -1.512   3.512  1.00  0.00           O  \nATOM     84    O MOL     1       7.298  -0.608   2.671  1.00  0.00           O  \nATOM     85    O MOL     1       3.209   5.570  31.154  1.00  0.00           O  \nATOM     86    O MOL     1       2.504   6.366  30.529  1.00  0.00           O  \nATOM     87    O MOL     1       2.402   6.413  22.481  1.00  0.00           O  \nATOM     88    O MOL     1       3.673   3.803  22.399  1.00  0.00           O  \nATOM     89    O MOL     1      -0.110   4.124  30.533  1.00  0.00           O  \nATOM     90    O MOL     1       0.891   3.402  30.548  1.00  0.00           O  \nATOM     91    O MOL     1       7.905   8.105   9.376  1.00  0.00           O  \nATOM     92    O MOL     1       6.523   5.645   9.632  1.00  0.00           O  \nATOM     93    O MOL     1       1.565   3.259   8.919  1.00  0.00           O  \nATOM     94    O MOL     1       3.528   5.351   9.530  1.00  0.00           O  \nATOM     95    O MOL     1       7.673   6.544  22.411  1.00  0.00           O  \nATOM     96    O MOL     1       9.343   3.884  22.361  1.00  0.00           O  \nATOM     97    O MOL     1       3.959   2.263   9.428  1.00  0.00           O  \nATOM     98    O MOL     1       4.165   3.739   7.164  1.00  0.00           O  \nATOM     99    O MOL     1       0.767  10.560   9.461  1.00  0.00           O  \nATOM    100    O MOL     1       5.037   8.009   9.357  1.00  0.00           O  \nATOM    101    O MOL     1       5.038   9.198  28.066  1.00  0.00           O  \nATOM    102    O MOL     1       5.228   8.449  27.104  1.00  0.00           O  \nATOM    103    O MOL     1       1.638   7.580   1.964  1.00  0.00           O  \nATOM    104    O MOL     1       1.046   6.499   2.033  1.00  0.00           O  \nATOM    105    O MOL     1       6.953   5.509  28.046  1.00  0.00           O  \nATOM    106    O MOL     1       6.004   5.575  28.832  1.00  0.00           O  \nATOM    107    O MOL     1       6.416   8.949  22.281  1.00  0.00           O  \nATOM    108    O MOL     1       3.482   9.016  22.409  1.00  0.00           O  \nATOM    109    O MOL     1       3.397   1.609  29.852  1.00  0.00           O  \nATOM    110    O MOL     1       2.506   0.758  29.906  1.00  0.00           O  \nATOM    111    O MOL     1      -0.722   2.054  28.207  1.00  0.00           O  \nATOM    112    O MOL     1       0.348   2.222  27.614  1.00  0.00           O  \nENDMDL\n",
           "ext": "pdb"
          }
         ],
         "kwargs": {},
         "methodName": "replaceStructure",
         "reconstruc_color_scheme": false,
         "target": "Widget",
         "type": "call_method"
        },
        {
         "args": [
          "this._Q = [[1.0, 0.0, 0.0], [0.0, 1.0, 0.0], [0.0, 0.0, 1.0]]"
         ],
         "kwargs": {},
         "methodName": "executeCode",
         "reconstruc_color_scheme": false,
         "target": "Widget",
         "type": "call_method"
        },
        {
         "args": [
          {
           "data": "CRYST1    8.591    9.920   31.691  90.00  90.00  90.00 P 1\nMODEL     1\nATOM      1   Al MOL     1       2.348   1.527   9.863  1.00  0.00          AL  \nATOM      2   Al MOL     1       5.310   1.783  10.142  1.00  0.00          AL  \nATOM      3   Al MOL     1       7.894   1.661  10.055  1.00  0.00          AL  \nATOM      4   Al MOL     1       0.639   3.894  10.361  1.00  0.00          AL  \nATOM      5   Al MOL     1       3.631   3.652   8.886  1.00  0.00          AL  \nATOM      6   Al MOL     1       6.371   4.050   9.939  1.00  0.00          AL  \nATOM      7   Al MOL     1       2.252   6.379  10.205  1.00  0.00          AL  \nATOM      8   Al MOL     1       4.922   6.233   9.706  1.00  0.00          AL  \nATOM      9   Al MOL     1       8.005   6.157  10.191  1.00  0.00          AL  \nATOM     10   Al MOL     1       0.708   8.916  10.031  1.00  0.00          AL  \nATOM     11   Al MOL     1       3.482   8.921  10.305  1.00  0.00          AL  \nATOM     12   Al MOL     1       6.315   9.020  10.405  1.00  0.00          AL  \nATOM     13   Al MOL     1       0.656   2.219  12.561  1.00  0.00          AL  \nATOM     14   Al MOL     1       3.501   2.253  12.353  1.00  0.00          AL  \nATOM     15   Al MOL     1       6.460   2.431  12.599  1.00  0.00          AL  \nATOM     16   Al MOL     1       2.067   4.646  12.645  1.00  0.00          AL  \nATOM     17   Al MOL     1       4.963   4.779  12.231  1.00  0.00          AL  \nATOM     18   Al MOL     1       7.726   4.893  12.666  1.00  0.00          AL  \nATOM     19   Al MOL     1       0.767   7.253  12.557  1.00  0.00          AL  \nATOM     20   Al MOL     1       3.624   7.096  12.538  1.00  0.00          AL  \nATOM     21   Al MOL     1       6.398   7.247  12.563  1.00  0.00          AL  \nATOM     22   Al MOL     1       2.135   9.584  12.417  1.00  0.00          AL  \nATOM     23   Al MOL     1       4.976   9.818  12.483  1.00  0.00          AL  \nATOM     24   Al MOL     1       7.967   9.721  12.397  1.00  0.00          AL  \nATOM     25   Al MOL     1       0.658   0.523  14.872  1.00  0.00          AL  \nATOM     26   Al MOL     1       3.548   0.609  14.885  1.00  0.00          AL  \nATOM     27   Al MOL     1       6.518   0.657  14.690  1.00  0.00          AL  \nATOM     28   Al MOL     1       1.974   3.010  14.814  1.00  0.00          AL  \nATOM     29   Al MOL     1       4.974   3.092  14.738  1.00  0.00          AL  \nATOM     30   Al MOL     1       7.828   3.140  14.878  1.00  0.00          AL  \nATOM     31   Al MOL     1       0.651   5.733  14.797  1.00  0.00          AL  \nATOM     32   Al MOL     1       3.588   5.626  14.803  1.00  0.00          AL  \nATOM     33   Al MOL     1       6.378   5.516  14.928  1.00  0.00          AL  \nATOM     34   Al MOL     1       2.142   8.043  14.679  1.00  0.00          AL  \nATOM     35   Al MOL     1       5.011   8.071  14.813  1.00  0.00          AL  \nATOM     36   Al MOL     1       7.842   8.135  14.687  1.00  0.00          AL  \nATOM     37   Al MOL     1       2.216   1.530  17.095  1.00  0.00          AL  \nATOM     38   Al MOL     1       5.022   1.561  17.089  1.00  0.00          AL  \nATOM     39   Al MOL     1       7.895   1.468  17.150  1.00  0.00          AL  \nATOM     40   Al MOL     1       0.785   4.132  17.099  1.00  0.00          AL  \nATOM     41   Al MOL     1       3.551   4.056  17.072  1.00  0.00          AL  \nATOM     42   Al MOL     1       6.456   4.020  17.187  1.00  0.00          AL  \nATOM     43   Al MOL     1       2.175   6.656  17.003  1.00  0.00          AL  \nATOM     44   Al MOL     1       4.993   6.591  17.106  1.00  0.00          AL  \nATOM     45   Al MOL     1       7.803   6.643  17.025  1.00  0.00          AL  \nATOM     46   Al MOL     1       0.657   8.918  17.101  1.00  0.00          AL  \nATOM     47   Al MOL     1       3.510   9.066  17.099  1.00  0.00          AL  \nATOM     48   Al MOL     1       6.249   9.048  16.980  1.00  0.00          AL  \nATOM     49   Al MOL     1       0.828   2.328  19.278  1.00  0.00          AL  \nATOM     50   Al MOL     1       3.628   2.334  19.361  1.00  0.00          AL  \nATOM     51   Al MOL     1       6.516   2.395  19.360  1.00  0.00          AL  \nATOM     52   Al MOL     1       2.205   4.902  19.391  1.00  0.00          AL  \nATOM     53   Al MOL     1       5.024   4.834  19.292  1.00  0.00          AL  \nATOM     54   Al MOL     1       7.980   4.904  19.379  1.00  0.00          AL  \nATOM     55   Al MOL     1       0.656   7.413  19.467  1.00  0.00          AL  \nATOM     56   Al MOL     1       3.611   7.250  19.383  1.00  0.00          AL  \nATOM     57   Al MOL     1       6.526   7.361  19.388  1.00  0.00          AL  \nATOM     58   Al MOL     1       2.092   9.784  19.350  1.00  0.00          AL  \nATOM     59   Al MOL     1       4.906   9.773  19.432  1.00  0.00          AL  \nATOM     60   Al MOL     1       7.759   9.868  19.469  1.00  0.00          AL  \nATOM     61   Al MOL     1       0.719   0.642  21.570  1.00  0.00          AL  \nATOM     62   Al MOL     1       3.563   0.845  21.651  1.00  0.00          AL  \nATOM     63   Al MOL     1       6.386   0.719  21.772  1.00  0.00          AL  \nATOM     64   Al MOL     1       2.144   3.034  21.812  1.00  0.00          AL  \nATOM     65   Al MOL     1       5.096   3.148  21.681  1.00  0.00          AL  \nATOM     66   Al MOL     1       7.828   3.025  21.513  1.00  0.00          AL  \nATOM     67   Al MOL     1       0.824   5.676  21.838  1.00  0.00          AL  \nATOM     68   Al MOL     1       3.731   5.664  21.769  1.00  0.00          AL  \nATOM     69   Al MOL     1       6.468   5.516  21.510  1.00  0.00          AL  \nATOM     70   Al MOL     1       2.139   8.220  21.615  1.00  0.00          AL  \nATOM     71   Al MOL     1       5.001   8.046  21.737  1.00  0.00          AL  \nATOM     72   Al MOL     1       8.060   8.268  21.969  1.00  0.00          AL  \nATOM     73    O MOL     1       5.812   3.537  25.270  1.00  0.00           O  \nATOM     74    O MOL     1       6.976   3.429  24.855  1.00  0.00           O  \nATOM     75    O MOL     1       2.193   7.719  27.617  1.00  0.00           O  \nATOM     76    O MOL     1       2.303   6.566  27.194  1.00  0.00           O  \nATOM     77    O MOL     1       4.142  -0.127   2.428  1.00  0.00           O  \nATOM     78    O MOL     1       4.242  -0.025   1.202  1.00  0.00           O  \nATOM     79    O MOL     1       4.545   6.240   2.356  1.00  0.00           O  \nATOM     80    O MOL     1       5.242   6.886   1.566  1.00  0.00           O  \nATOM     81    O MOL     1       7.669   4.403   2.992  1.00  0.00           O  \nATOM     82    O MOL     1       7.554   5.241   3.888  1.00  0.00           O  \nATOM     83    O MOL     1       7.281  -1.467   3.481  1.00  0.00           O  \nATOM     84    O MOL     1       7.321  -0.574   2.630  1.00  0.00           O  \nATOM     85    O MOL     1       3.302   5.499  30.980  1.00  0.00           O  \nATOM     86    O MOL     1       2.659   6.397  30.433  1.00  0.00           O  \nATOM     87    O MOL     1       2.181   6.423  22.225  1.00  0.00           O  \nATOM     88    O MOL     1       3.520   3.861  22.559  1.00  0.00           O  \nATOM     89    O MOL     1      -0.054   4.312  30.488  1.00  0.00           O  \nATOM     90    O MOL     1       0.866   3.492  30.439  1.00  0.00           O  \nATOM     91    O MOL     1       7.843   8.158   9.462  1.00  0.00           O  \nATOM     92    O MOL     1       6.612   5.662   9.140  1.00  0.00           O  \nATOM     93    O MOL     1       2.003   3.444   9.169  1.00  0.00           O  \nATOM     94    O MOL     1       3.369   5.422   9.231  1.00  0.00           O  \nATOM     95    O MOL     1       7.972   6.536  22.557  1.00  0.00           O  \nATOM     96    O MOL     1       9.251   3.946  22.376  1.00  0.00           O  \nATOM     97    O MOL     1       3.989   1.485   8.911  1.00  0.00           O  \nATOM     98    O MOL     1       5.335   3.892   8.404  1.00  0.00           O  \nATOM     99    O MOL     1       0.834  10.828   9.229  1.00  0.00           O  \nATOM    100    O MOL     1       5.029   8.064   9.610  1.00  0.00           O  \nATOM    101    O MOL     1       4.991   9.213  27.992  1.00  0.00           O  \nATOM    102    O MOL     1       5.263   8.491  27.028  1.00  0.00           O  \nATOM    103    O MOL     1       1.579   7.661   1.882  1.00  0.00           O  \nATOM    104    O MOL     1       1.056   6.544   1.928  1.00  0.00           O  \nATOM    105    O MOL     1       6.944   5.370  27.772  1.00  0.00           O  \nATOM    106    O MOL     1       6.031   5.428  28.601  1.00  0.00           O  \nATOM    107    O MOL     1       6.412   8.952  22.666  1.00  0.00           O  \nATOM    108    O MOL     1       3.557   9.035  22.351  1.00  0.00           O  \nATOM    109    O MOL     1       3.307   1.452  29.822  1.00  0.00           O  \nATOM    110    O MOL     1       2.351   0.680  29.915  1.00  0.00           O  \nATOM    111    O MOL     1      -0.890   2.211  28.140  1.00  0.00           O  \nATOM    112    O MOL     1       0.218   2.207  27.595  1.00  0.00           O  \nENDMDL\n",
           "ext": "pdb"
          }
         ],
         "kwargs": {},
         "methodName": "replaceStructure",
         "reconstruc_color_scheme": false,
         "target": "Widget",
         "type": "call_method"
        },
        {
         "args": [
          "this._Q = [[1.0, 0.0, 0.0], [0.0, 1.0, 0.0], [0.0, 0.0, 1.0]]"
         ],
         "kwargs": {},
         "methodName": "executeCode",
         "reconstruc_color_scheme": false,
         "target": "Widget",
         "type": "call_method"
        },
        {
         "args": [
          {
           "data": "CRYST1    8.591    9.920   31.691  90.00  90.00  90.00 P 1\nMODEL     1\nATOM      1   Al MOL     1       2.128   1.529  10.281  1.00  0.00          AL  \nATOM      2   Al MOL     1       4.997   1.421  10.326  1.00  0.00          AL  \nATOM      3   Al MOL     1       7.856   1.462  10.444  1.00  0.00          AL  \nATOM      4   Al MOL     1       0.787   4.003  10.456  1.00  0.00          AL  \nATOM      5   Al MOL     1       3.688   4.008   9.799  1.00  0.00          AL  \nATOM      6   Al MOL     1       6.604   3.808  10.243  1.00  0.00          AL  \nATOM      7   Al MOL     1       2.221   6.491  10.364  1.00  0.00          AL  \nATOM      8   Al MOL     1       5.001   6.462  10.216  1.00  0.00          AL  \nATOM      9   Al MOL     1       8.157   6.349  10.178  1.00  0.00          AL  \nATOM     10   Al MOL     1       0.804   8.828  10.090  1.00  0.00          AL  \nATOM     11   Al MOL     1       3.410   8.899  10.241  1.00  0.00          AL  \nATOM     12   Al MOL     1       6.601   9.052  10.012  1.00  0.00          AL  \nATOM     13   Al MOL     1       0.783   2.348  12.584  1.00  0.00          AL  \nATOM     14   Al MOL     1       3.650   2.466  12.472  1.00  0.00          AL  \nATOM     15   Al MOL     1       6.401   2.350  12.682  1.00  0.00          AL  \nATOM     16   Al MOL     1       2.188   4.853  12.534  1.00  0.00          AL  \nATOM     17   Al MOL     1       4.863   4.788  12.523  1.00  0.00          AL  \nATOM     18   Al MOL     1       7.819   4.770  12.643  1.00  0.00          AL  \nATOM     19   Al MOL     1       0.611   7.289  12.509  1.00  0.00          AL  \nATOM     20   Al MOL     1       3.643   7.374  12.571  1.00  0.00          AL  \nATOM     21   Al MOL     1       6.407   7.293  12.562  1.00  0.00          AL  \nATOM     22   Al MOL     1       2.089   9.777  12.593  1.00  0.00          AL  \nATOM     23   Al MOL     1       5.009   9.899  12.567  1.00  0.00          AL  \nATOM     24   Al MOL     1       7.802   9.783  12.482  1.00  0.00          AL  \nATOM     25   Al MOL     1       0.738   0.681  14.805  1.00  0.00          AL  \nATOM     26   Al MOL     1       3.607   0.759  14.780  1.00  0.00          AL  \nATOM     27   Al MOL     1       6.461   0.640  14.846  1.00  0.00          AL  \nATOM     28   Al MOL     1       2.198   3.181  14.852  1.00  0.00          AL  \nATOM     29   Al MOL     1       4.956   3.154  14.987  1.00  0.00          AL  \nATOM     30   Al MOL     1       7.888   3.174  14.955  1.00  0.00          AL  \nATOM     31   Al MOL     1       0.745   5.688  14.800  1.00  0.00          AL  \nATOM     32   Al MOL     1       3.621   5.697  14.864  1.00  0.00          AL  \nATOM     33   Al MOL     1       6.438   5.596  14.840  1.00  0.00          AL  \nATOM     34   Al MOL     1       2.146   8.116  14.810  1.00  0.00          AL  \nATOM     35   Al MOL     1       5.048   8.137  14.841  1.00  0.00          AL  \nATOM     36   Al MOL     1       7.885   8.036  14.811  1.00  0.00          AL  \nATOM     37   Al MOL     1       2.147   1.599  17.138  1.00  0.00          AL  \nATOM     38   Al MOL     1       5.009   1.505  17.234  1.00  0.00          AL  \nATOM     39   Al MOL     1       7.943   1.545  17.119  1.00  0.00          AL  \nATOM     40   Al MOL     1       0.736   3.997  17.088  1.00  0.00          AL  \nATOM     41   Al MOL     1       3.535   3.998  17.174  1.00  0.00          AL  \nATOM     42   Al MOL     1       6.483   3.994  17.153  1.00  0.00          AL  \nATOM     43   Al MOL     1       2.107   6.471  17.188  1.00  0.00          AL  \nATOM     44   Al MOL     1       5.030   6.522  17.192  1.00  0.00          AL  \nATOM     45   Al MOL     1       7.869   6.538  17.100  1.00  0.00          AL  \nATOM     46   Al MOL     1       0.718   8.922  17.133  1.00  0.00          AL  \nATOM     47   Al MOL     1       3.565   8.856  17.103  1.00  0.00          AL  \nATOM     48   Al MOL     1       6.479   9.023  17.043  1.00  0.00          AL  \nATOM     49   Al MOL     1       0.668   2.442  19.554  1.00  0.00          AL  \nATOM     50   Al MOL     1       3.467   2.385  19.502  1.00  0.00          AL  \nATOM     51   Al MOL     1       6.448   2.368  19.443  1.00  0.00          AL  \nATOM     52   Al MOL     1       1.993   4.894  19.427  1.00  0.00          AL  \nATOM     53   Al MOL     1       4.873   4.838  19.223  1.00  0.00          AL  \nATOM     54   Al MOL     1       7.892   4.811  19.314  1.00  0.00          AL  \nATOM     55   Al MOL     1       0.738   7.340  19.465  1.00  0.00          AL  \nATOM     56   Al MOL     1       3.552   7.283  19.407  1.00  0.00          AL  \nATOM     57   Al MOL     1       6.505   7.484  19.288  1.00  0.00          AL  \nATOM     58   Al MOL     1       2.149   9.825  19.320  1.00  0.00          AL  \nATOM     59   Al MOL     1       4.998   9.889  19.426  1.00  0.00          AL  \nATOM     60   Al MOL     1       7.797  10.001  19.396  1.00  0.00          AL  \nATOM     61   Al MOL     1       0.591   0.629  21.739  1.00  0.00          AL  \nATOM     62   Al MOL     1       3.453   0.540  21.760  1.00  0.00          AL  \nATOM     63   Al MOL     1       6.294   0.980  21.795  1.00  0.00          AL  \nATOM     64   Al MOL     1       2.040   3.007  21.964  1.00  0.00          AL  \nATOM     65   Al MOL     1       4.830   3.073  21.569  1.00  0.00          AL  \nATOM     66   Al MOL     1       7.912   3.065  22.480  1.00  0.00          AL  \nATOM     67   Al MOL     1       0.628   5.815  21.815  1.00  0.00          AL  \nATOM     68   Al MOL     1       3.481   5.677  21.650  1.00  0.00          AL  \nATOM     69   Al MOL     1       6.265   5.474  21.408  1.00  0.00          AL  \nATOM     70   Al MOL     1       2.037   8.155  21.806  1.00  0.00          AL  \nATOM     71   Al MOL     1       5.081   8.060  21.512  1.00  0.00          AL  \nATOM     72   Al MOL     1       7.817   8.301  21.542  1.00  0.00          AL  \nATOM     73    O MOL     1       8.804   1.512  22.951  1.00  0.00           O  \nATOM     74    O MOL     1       6.289   3.904  22.838  1.00  0.00           O  \nATOM     75    O MOL     1       2.168   7.601  27.049  1.00  0.00           O  \nATOM     76    O MOL     1       2.540   6.425  27.069  1.00  0.00           O  \nATOM     77    O MOL     1       4.072  -0.087   2.198  1.00  0.00           O  \nATOM     78    O MOL     1       4.048   0.202   1.000  1.00  0.00           O  \nATOM     79    O MOL     1       4.620   6.264   2.417  1.00  0.00           O  \nATOM     80    O MOL     1       5.242   6.857   1.531  1.00  0.00           O  \nATOM     81    O MOL     1       7.501   4.516   2.539  1.00  0.00           O  \nATOM     82    O MOL     1       7.609   5.071   3.635  1.00  0.00           O  \nATOM     83    O MOL     1       7.390  -1.268   3.187  1.00  0.00           O  \nATOM     84    O MOL     1       7.378  -0.320   2.399  1.00  0.00           O  \nATOM     85    O MOL     1       3.565   5.363  30.744  1.00  0.00           O  \nATOM     86    O MOL     1       3.236   6.507  30.422  1.00  0.00           O  \nATOM     87    O MOL     1       2.226   6.602  22.505  1.00  0.00           O  \nATOM     88    O MOL     1       3.445   3.906  22.412  1.00  0.00           O  \nATOM     89    O MOL     1       0.053   4.739  30.201  1.00  0.00           O  \nATOM     90    O MOL     1       0.702   3.708  30.003  1.00  0.00           O  \nATOM     91    O MOL     1       7.910   7.984   9.341  1.00  0.00           O  \nATOM     92    O MOL     1       6.532   5.662   9.662  1.00  0.00           O  \nATOM     93    O MOL     1       2.233   3.164   9.364  1.00  0.00           O  \nATOM     94    O MOL     1       3.602   5.734   9.295  1.00  0.00           O  \nATOM     95    O MOL     1       7.677   6.422  22.306  1.00  0.00           O  \nATOM     96    O MOL     1       9.367   4.077  22.715  1.00  0.00           O  \nATOM     97    O MOL     1       3.519   0.661   9.518  1.00  0.00           O  \nATOM     98    O MOL     1       5.176   3.043   9.385  1.00  0.00           O  \nATOM     99    O MOL     1       0.573  10.521   9.501  1.00  0.00           O  \nATOM    100    O MOL     1       5.004   8.259   9.501  1.00  0.00           O  \nATOM    101    O MOL     1       4.879   9.124  27.699  1.00  0.00           O  \nATOM    102    O MOL     1       5.247   8.465  26.723  1.00  0.00           O  \nATOM    103    O MOL     1       1.711   7.779   1.598  1.00  0.00           O  \nATOM    104    O MOL     1       1.222   6.652   1.476  1.00  0.00           O  \nATOM    105    O MOL     1       6.972   5.425  27.284  1.00  0.00           O  \nATOM    106    O MOL     1       5.964   5.425  27.996  1.00  0.00           O  \nATOM    107    O MOL     1       6.395   9.203  22.364  1.00  0.00           O  \nATOM    108    O MOL     1       3.683   8.803  22.402  1.00  0.00           O  \nATOM    109    O MOL     1       3.011   1.161  29.588  1.00  0.00           O  \nATOM    110    O MOL     1       2.030   0.415  29.614  1.00  0.00           O  \nATOM    111    O MOL     1      -1.171   2.166  27.820  1.00  0.00           O  \nATOM    112    O MOL     1      -0.175   2.246  27.094  1.00  0.00           O  \nENDMDL\n",
           "ext": "pdb"
          }
         ],
         "kwargs": {},
         "methodName": "replaceStructure",
         "reconstruc_color_scheme": false,
         "target": "Widget",
         "type": "call_method"
        },
        {
         "args": [
          "this._Q = [[1.0, 0.0, 0.0], [0.0, 1.0, 0.0], [0.0, 0.0, 1.0]]"
         ],
         "kwargs": {},
         "methodName": "executeCode",
         "reconstruc_color_scheme": false,
         "target": "Widget",
         "type": "call_method"
        },
        {
         "args": [
          {
           "data": "CRYST1    8.591    9.920   31.691  90.00  90.00  90.00 P 1\nMODEL     1\nATOM      1   Al MOL     1       2.205   1.430  10.171  1.00  0.00          AL  \nATOM      2   Al MOL     1       5.246   1.483  10.196  1.00  0.00          AL  \nATOM      3   Al MOL     1       7.838   1.551  10.551  1.00  0.00          AL  \nATOM      4   Al MOL     1       0.760   4.015  10.517  1.00  0.00          AL  \nATOM      5   Al MOL     1       3.538   3.994  10.171  1.00  0.00          AL  \nATOM      6   Al MOL     1       6.654   3.992  10.162  1.00  0.00          AL  \nATOM      7   Al MOL     1       2.064   6.446  10.296  1.00  0.00          AL  \nATOM      8   Al MOL     1       4.970   6.484   9.992  1.00  0.00          AL  \nATOM      9   Al MOL     1       8.023   6.447  10.043  1.00  0.00          AL  \nATOM     10   Al MOL     1       0.884   8.900  10.152  1.00  0.00          AL  \nATOM     11   Al MOL     1       3.543   8.898  10.172  1.00  0.00          AL  \nATOM     12   Al MOL     1       6.454   9.035  10.411  1.00  0.00          AL  \nATOM     13   Al MOL     1       0.635   2.351  12.647  1.00  0.00          AL  \nATOM     14   Al MOL     1       3.565   2.442  12.502  1.00  0.00          AL  \nATOM     15   Al MOL     1       6.355   2.376  12.611  1.00  0.00          AL  \nATOM     16   Al MOL     1       2.197   4.873  12.525  1.00  0.00          AL  \nATOM     17   Al MOL     1       5.018   4.887  12.576  1.00  0.00          AL  \nATOM     18   Al MOL     1       7.952   5.034  12.629  1.00  0.00          AL  \nATOM     19   Al MOL     1       0.687   7.415  12.582  1.00  0.00          AL  \nATOM     20   Al MOL     1       3.550   7.325  12.469  1.00  0.00          AL  \nATOM     21   Al MOL     1       6.444   7.356  12.476  1.00  0.00          AL  \nATOM     22   Al MOL     1       2.108   9.862  12.491  1.00  0.00          AL  \nATOM     23   Al MOL     1       4.912   9.829  12.491  1.00  0.00          AL  \nATOM     24   Al MOL     1       7.887   9.863  12.642  1.00  0.00          AL  \nATOM     25   Al MOL     1       0.683   0.700  14.840  1.00  0.00          AL  \nATOM     26   Al MOL     1       3.509   0.693  14.819  1.00  0.00          AL  \nATOM     27   Al MOL     1       6.395   0.735  14.832  1.00  0.00          AL  \nATOM     28   Al MOL     1       2.101   3.153  14.925  1.00  0.00          AL  \nATOM     29   Al MOL     1       4.959   3.259  14.760  1.00  0.00          AL  \nATOM     30   Al MOL     1       7.903   3.296  14.912  1.00  0.00          AL  \nATOM     31   Al MOL     1       0.739   5.642  14.943  1.00  0.00          AL  \nATOM     32   Al MOL     1       3.592   5.704  14.767  1.00  0.00          AL  \nATOM     33   Al MOL     1       6.445   5.759  14.805  1.00  0.00          AL  \nATOM     34   Al MOL     1       2.196   8.127  14.832  1.00  0.00          AL  \nATOM     35   Al MOL     1       5.005   8.154  14.806  1.00  0.00          AL  \nATOM     36   Al MOL     1       7.871   8.181  14.914  1.00  0.00          AL  \nATOM     37   Al MOL     1       2.021   1.420  17.156  1.00  0.00          AL  \nATOM     38   Al MOL     1       4.943   1.583  17.065  1.00  0.00          AL  \nATOM     39   Al MOL     1       7.819   1.540  17.198  1.00  0.00          AL  \nATOM     40   Al MOL     1       0.648   3.966  17.265  1.00  0.00          AL  \nATOM     41   Al MOL     1       3.577   3.991  17.151  1.00  0.00          AL  \nATOM     42   Al MOL     1       6.337   3.985  17.059  1.00  0.00          AL  \nATOM     43   Al MOL     1       2.201   6.474  17.126  1.00  0.00          AL  \nATOM     44   Al MOL     1       4.961   6.478  17.173  1.00  0.00          AL  \nATOM     45   Al MOL     1       7.929   6.459  17.165  1.00  0.00          AL  \nATOM     46   Al MOL     1       0.725   8.841  17.107  1.00  0.00          AL  \nATOM     47   Al MOL     1       3.524   8.924  17.103  1.00  0.00          AL  \nATOM     48   Al MOL     1       6.478   8.878  17.121  1.00  0.00          AL  \nATOM     49   Al MOL     1       0.567   2.305  19.370  1.00  0.00          AL  \nATOM     50   Al MOL     1       3.474   2.366  19.413  1.00  0.00          AL  \nATOM     51   Al MOL     1       6.320   2.335  19.400  1.00  0.00          AL  \nATOM     52   Al MOL     1       2.188   4.770  19.348  1.00  0.00          AL  \nATOM     53   Al MOL     1       4.962   4.801  19.606  1.00  0.00          AL  \nATOM     54   Al MOL     1       7.776   4.847  19.429  1.00  0.00          AL  \nATOM     55   Al MOL     1       0.715   7.235  19.456  1.00  0.00          AL  \nATOM     56   Al MOL     1       3.564   7.274  19.433  1.00  0.00          AL  \nATOM     57   Al MOL     1       6.330   7.213  19.430  1.00  0.00          AL  \nATOM     58   Al MOL     1       2.087   9.690  19.410  1.00  0.00          AL  \nATOM     59   Al MOL     1       4.900   9.744  19.245  1.00  0.00          AL  \nATOM     60   Al MOL     1       7.838   9.560  19.337  1.00  0.00          AL  \nATOM     61   Al MOL     1       0.626   0.632  21.675  1.00  0.00          AL  \nATOM     62   Al MOL     1       3.740   0.703  21.482  1.00  0.00          AL  \nATOM     63   Al MOL     1       6.472   0.661  21.462  1.00  0.00          AL  \nATOM     64   Al MOL     1       2.098   2.878  22.343  1.00  0.00          AL  \nATOM     65   Al MOL     1       4.916   3.004  21.997  1.00  0.00          AL  \nATOM     66   Al MOL     1       8.002   2.911  22.070  1.00  0.00          AL  \nATOM     67   Al MOL     1       0.712   5.787  21.763  1.00  0.00          AL  \nATOM     68   Al MOL     1       3.658   5.663  21.820  1.00  0.00          AL  \nATOM     69   Al MOL     1       6.414   5.622  21.856  1.00  0.00          AL  \nATOM     70   Al MOL     1       2.078   8.271  21.850  1.00  0.00          AL  \nATOM     71   Al MOL     1       4.697   8.164  21.818  1.00  0.00          AL  \nATOM     72   Al MOL     1       7.984   8.219  21.917  1.00  0.00          AL  \nATOM     73    O MOL     1       9.270   1.977  23.038  1.00  0.00           O  \nATOM     74    O MOL     1       6.401   3.855  22.496  1.00  0.00           O  \nATOM     75    O MOL     1       2.167   7.527  26.922  1.00  0.00           O  \nATOM     76    O MOL     1       2.611   6.381  27.040  1.00  0.00           O  \nATOM     77    O MOL     1       3.987  -0.100   2.137  1.00  0.00           O  \nATOM     78    O MOL     1       4.045   0.054   0.915  1.00  0.00           O  \nATOM     79    O MOL     1       4.653   6.307   2.344  1.00  0.00           O  \nATOM     80    O MOL     1       5.228   6.902   1.426  1.00  0.00           O  \nATOM     81    O MOL     1       7.563   4.464   2.462  1.00  0.00           O  \nATOM     82    O MOL     1       7.558   5.185   3.462  1.00  0.00           O  \nATOM     83    O MOL     1       7.453  -1.237   3.099  1.00  0.00           O  \nATOM     84    O MOL     1       7.408  -0.329   2.265  1.00  0.00           O  \nATOM     85    O MOL     1       3.567   5.384  30.723  1.00  0.00           O  \nATOM     86    O MOL     1       3.212   6.497  30.329  1.00  0.00           O  \nATOM     87    O MOL     1       2.062   6.582  22.466  1.00  0.00           O  \nATOM     88    O MOL     1       3.578   3.996  22.835  1.00  0.00           O  \nATOM     89    O MOL     1       0.086   4.721  30.034  1.00  0.00           O  \nATOM     90    O MOL     1       0.759   3.730  29.735  1.00  0.00           O  \nATOM     91    O MOL     1       7.918   8.260   9.518  1.00  0.00           O  \nATOM     92    O MOL     1       6.465   5.711   9.508  1.00  0.00           O  \nATOM     93    O MOL     1       2.069   3.135   9.429  1.00  0.00           O  \nATOM     94    O MOL     1       3.552   5.673   9.408  1.00  0.00           O  \nATOM     95    O MOL     1       7.897   6.491  22.516  1.00  0.00           O  \nATOM     96    O MOL     1       9.408   4.091  22.092  1.00  0.00           O  \nATOM     97    O MOL     1       3.689   0.641   9.458  1.00  0.00           O  \nATOM     98    O MOL     1       5.023   3.180   9.521  1.00  0.00           O  \nATOM     99    O MOL     1       0.648  10.600   9.508  1.00  0.00           O  \nATOM    100    O MOL     1       5.051   8.195   9.365  1.00  0.00           O  \nATOM    101    O MOL     1       4.815   9.047  27.654  1.00  0.00           O  \nATOM    102    O MOL     1       5.234   8.520  26.620  1.00  0.00           O  \nATOM    103    O MOL     1       1.652   7.785   1.476  1.00  0.00           O  \nATOM    104    O MOL     1       1.196   6.638   1.490  1.00  0.00           O  \nATOM    105    O MOL     1       6.858   5.323  27.209  1.00  0.00           O  \nATOM    106    O MOL     1       5.990   5.623  28.033  1.00  0.00           O  \nATOM    107    O MOL     1       6.327   8.823  22.313  1.00  0.00           O  \nATOM    108    O MOL     1       3.482   9.148  22.719  1.00  0.00           O  \nATOM    109    O MOL     1       3.020   1.180  29.467  1.00  0.00           O  \nATOM    110    O MOL     1       2.020   0.460  29.512  1.00  0.00           O  \nATOM    111    O MOL     1      -1.153   2.175  27.752  1.00  0.00           O  \nATOM    112    O MOL     1      -0.177   2.274  27.002  1.00  0.00           O  \nENDMDL\n",
           "ext": "pdb"
          }
         ],
         "kwargs": {},
         "methodName": "replaceStructure",
         "reconstruc_color_scheme": false,
         "target": "Widget",
         "type": "call_method"
        },
        {
         "args": [
          "this._Q = [[1.0, 0.0, 0.0], [0.0, 1.0, 0.0], [0.0, 0.0, 1.0]]"
         ],
         "kwargs": {},
         "methodName": "executeCode",
         "reconstruc_color_scheme": false,
         "target": "Widget",
         "type": "call_method"
        },
        {
         "args": [
          {
           "data": "CRYST1    8.591    9.920   31.691  90.00  90.00  90.00 P 1\nMODEL     1\nATOM      1   Al MOL     1       2.170   1.390  10.469  1.00  0.00          AL  \nATOM      2   Al MOL     1       5.296   1.278  10.401  1.00  0.00          AL  \nATOM      3   Al MOL     1       8.048   1.409  10.642  1.00  0.00          AL  \nATOM      4   Al MOL     1       0.726   3.947  10.584  1.00  0.00          AL  \nATOM      5   Al MOL     1       3.675   3.951  10.268  1.00  0.00          AL  \nATOM      6   Al MOL     1       6.695   3.870  10.382  1.00  0.00          AL  \nATOM      7   Al MOL     1       2.327   6.479  10.527  1.00  0.00          AL  \nATOM      8   Al MOL     1       5.233   6.460  10.265  1.00  0.00          AL  \nATOM      9   Al MOL     1       8.147   6.316  10.455  1.00  0.00          AL  \nATOM     10   Al MOL     1       0.917   8.744  10.482  1.00  0.00          AL  \nATOM     11   Al MOL     1       3.631   8.901  10.246  1.00  0.00          AL  \nATOM     12   Al MOL     1       6.559   9.022  10.242  1.00  0.00          AL  \nATOM     13   Al MOL     1       0.690   2.329  12.709  1.00  0.00          AL  \nATOM     14   Al MOL     1       3.466   2.348  12.910  1.00  0.00          AL  \nATOM     15   Al MOL     1       6.301   2.221  12.838  1.00  0.00          AL  \nATOM     16   Al MOL     1       2.199   4.869  12.831  1.00  0.00          AL  \nATOM     17   Al MOL     1       4.919   4.742  12.775  1.00  0.00          AL  \nATOM     18   Al MOL     1       7.838   4.714  12.822  1.00  0.00          AL  \nATOM     19   Al MOL     1       0.801   7.357  12.881  1.00  0.00          AL  \nATOM     20   Al MOL     1       3.624   7.300  12.717  1.00  0.00          AL  \nATOM     21   Al MOL     1       6.530   7.332  12.628  1.00  0.00          AL  \nATOM     22   Al MOL     1       2.150   9.733  12.706  1.00  0.00          AL  \nATOM     23   Al MOL     1       4.998   9.749  12.702  1.00  0.00          AL  \nATOM     24   Al MOL     1       7.853   9.810  12.869  1.00  0.00          AL  \nATOM     25   Al MOL     1       0.734   0.597  15.081  1.00  0.00          AL  \nATOM     26   Al MOL     1       3.484   0.712  15.029  1.00  0.00          AL  \nATOM     27   Al MOL     1       6.325   0.607  15.106  1.00  0.00          AL  \nATOM     28   Al MOL     1       2.050   3.167  14.978  1.00  0.00          AL  \nATOM     29   Al MOL     1       4.799   3.136  14.986  1.00  0.00          AL  \nATOM     30   Al MOL     1       7.814   3.022  15.037  1.00  0.00          AL  \nATOM     31   Al MOL     1       0.748   5.615  15.063  1.00  0.00          AL  \nATOM     32   Al MOL     1       3.561   5.699  15.034  1.00  0.00          AL  \nATOM     33   Al MOL     1       6.347   5.737  14.936  1.00  0.00          AL  \nATOM     34   Al MOL     1       2.225   8.200  15.099  1.00  0.00          AL  \nATOM     35   Al MOL     1       4.959   8.182  15.031  1.00  0.00          AL  \nATOM     36   Al MOL     1       7.877   8.064  15.120  1.00  0.00          AL  \nATOM     37   Al MOL     1       2.123   1.610  17.344  1.00  0.00          AL  \nATOM     38   Al MOL     1       4.948   1.578  17.371  1.00  0.00          AL  \nATOM     39   Al MOL     1       7.748   1.422  17.348  1.00  0.00          AL  \nATOM     40   Al MOL     1       0.603   3.967  17.213  1.00  0.00          AL  \nATOM     41   Al MOL     1       3.649   4.002  17.293  1.00  0.00          AL  \nATOM     42   Al MOL     1       6.372   4.041  17.344  1.00  0.00          AL  \nATOM     43   Al MOL     1       2.172   6.507  17.298  1.00  0.00          AL  \nATOM     44   Al MOL     1       5.010   6.433  17.282  1.00  0.00          AL  \nATOM     45   Al MOL     1       7.709   6.511  17.324  1.00  0.00          AL  \nATOM     46   Al MOL     1       0.682   8.882  17.427  1.00  0.00          AL  \nATOM     47   Al MOL     1       3.556   8.904  17.317  1.00  0.00          AL  \nATOM     48   Al MOL     1       6.304   8.977  17.351  1.00  0.00          AL  \nATOM     49   Al MOL     1       0.547   2.317  19.630  1.00  0.00          AL  \nATOM     50   Al MOL     1       3.453   2.300  19.681  1.00  0.00          AL  \nATOM     51   Al MOL     1       6.340   2.344  19.687  1.00  0.00          AL  \nATOM     52   Al MOL     1       1.965   4.955  19.627  1.00  0.00          AL  \nATOM     53   Al MOL     1       4.907   4.826  19.590  1.00  0.00          AL  \nATOM     54   Al MOL     1       7.845   4.846  19.595  1.00  0.00          AL  \nATOM     55   Al MOL     1       0.566   7.357  19.703  1.00  0.00          AL  \nATOM     56   Al MOL     1       3.539   7.293  19.622  1.00  0.00          AL  \nATOM     57   Al MOL     1       6.357   7.248  19.612  1.00  0.00          AL  \nATOM     58   Al MOL     1       2.068   9.817  19.741  1.00  0.00          AL  \nATOM     59   Al MOL     1       4.897   9.781  19.803  1.00  0.00          AL  \nATOM     60   Al MOL     1       7.700   9.781  19.676  1.00  0.00          AL  \nATOM     61   Al MOL     1       0.597   0.836  21.887  1.00  0.00          AL  \nATOM     62   Al MOL     1       3.669   0.858  22.245  1.00  0.00          AL  \nATOM     63   Al MOL     1       6.443   0.810  22.003  1.00  0.00          AL  \nATOM     64   Al MOL     1       2.042   3.197  22.090  1.00  0.00          AL  \nATOM     65   Al MOL     1       4.919   3.105  21.897  1.00  0.00          AL  \nATOM     66   Al MOL     1       7.779   3.274  21.867  1.00  0.00          AL  \nATOM     67   Al MOL     1       0.596   5.642  22.141  1.00  0.00          AL  \nATOM     68   Al MOL     1       3.729   5.754  21.945  1.00  0.00          AL  \nATOM     69   Al MOL     1       6.276   5.910  21.901  1.00  0.00          AL  \nATOM     70   Al MOL     1       1.915   8.233  21.919  1.00  0.00          AL  \nATOM     71   Al MOL     1       4.805   8.105  21.940  1.00  0.00          AL  \nATOM     72   Al MOL     1       7.892   8.274  21.911  1.00  0.00          AL  \nATOM     73    O MOL     1      10.528   1.555  22.876  1.00  0.00           O  \nATOM     74    O MOL     1       6.297   4.074  22.443  1.00  0.00           O  \nATOM     75    O MOL     1       2.744   6.488  25.763  1.00  0.00           O  \nATOM     76    O MOL     1       3.549   5.672  25.301  1.00  0.00           O  \nATOM     77    O MOL     1       4.020  -0.003   1.273  1.00  0.00           O  \nATOM     78    O MOL     1       3.929   0.148   0.052  1.00  0.00           O  \nATOM     79    O MOL     1       4.589   6.369   1.348  1.00  0.00           O  \nATOM     80    O MOL     1       5.225   6.942   0.456  1.00  0.00           O  \nATOM     81    O MOL     1       7.434   4.424   1.806  1.00  0.00           O  \nATOM     82    O MOL     1       7.327   5.182   2.772  1.00  0.00           O  \nATOM     83    O MOL     1       7.350  -1.137   1.844  1.00  0.00           O  \nATOM     84    O MOL     1       7.431  -0.277   0.964  1.00  0.00           O  \nATOM     85    O MOL     1       3.426   5.074  30.073  1.00  0.00           O  \nATOM     86    O MOL     1       3.197   6.229  29.704  1.00  0.00           O  \nATOM     87    O MOL     1       1.998   6.537  22.676  1.00  0.00           O  \nATOM     88    O MOL     1       3.657   4.127  22.764  1.00  0.00           O  \nATOM     89    O MOL     1       0.460   4.138  28.315  1.00  0.00           O  \nATOM     90    O MOL     1       1.245   4.291  27.373  1.00  0.00           O  \nATOM     91    O MOL     1       7.974   8.091   9.714  1.00  0.00           O  \nATOM     92    O MOL     1       6.660   5.475   9.709  1.00  0.00           O  \nATOM     93    O MOL     1       2.068   3.098   9.757  1.00  0.00           O  \nATOM     94    O MOL     1       3.722   5.609   9.682  1.00  0.00           O  \nATOM     95    O MOL     1       7.836   6.554  22.533  1.00  0.00           O  \nATOM     96    O MOL     1       9.207   4.051  22.903  1.00  0.00           O  \nATOM     97    O MOL     1       3.724   0.745   9.800  1.00  0.00           O  \nATOM     98    O MOL     1       5.105   3.020   9.799  1.00  0.00           O  \nATOM     99    O MOL     1       0.777  10.487   9.627  1.00  0.00           O  \nATOM    100    O MOL     1       5.212   8.084   9.578  1.00  0.00           O  \nATOM    101    O MOL     1       4.153   9.180  26.058  1.00  0.00           O  \nATOM    102    O MOL     1       5.136   8.653  25.519  1.00  0.00           O  \nATOM    103    O MOL     1       1.621   7.802   0.657  1.00  0.00           O  \nATOM    104    O MOL     1       1.097   6.689   0.750  1.00  0.00           O  \nATOM    105    O MOL     1       6.649   5.788  26.508  1.00  0.00           O  \nATOM    106    O MOL     1       5.841   6.230  27.333  1.00  0.00           O  \nATOM    107    O MOL     1       6.316   8.973  22.741  1.00  0.00           O  \nATOM    108    O MOL     1       3.248   8.999  22.723  1.00  0.00           O  \nATOM    109    O MOL     1       3.375   1.381  28.853  1.00  0.00           O  \nATOM    110    O MOL     1       2.267   0.841  28.766  1.00  0.00           O  \nATOM    111    O MOL     1      -1.788   2.497  25.431  1.00  0.00           O  \nATOM    112    O MOL     1      -0.771   3.098  25.054  1.00  0.00           O  \nENDMDL\n",
           "ext": "pdb"
          }
         ],
         "kwargs": {},
         "methodName": "replaceStructure",
         "reconstruc_color_scheme": false,
         "target": "Widget",
         "type": "call_method"
        },
        {
         "args": [
          "this._Q = [[1.0, 0.0, 0.0], [0.0, 1.0, 0.0], [0.0, 0.0, 1.0]]"
         ],
         "kwargs": {},
         "methodName": "executeCode",
         "reconstruc_color_scheme": false,
         "target": "Widget",
         "type": "call_method"
        },
        {
         "args": [
          {
           "data": "CRYST1    8.591    9.920   31.691  90.00  90.00  90.00 P 1\nMODEL     1\nATOM      1   Al MOL     1       2.202   1.506  10.312  1.00  0.00          AL  \nATOM      2   Al MOL     1       5.177   1.378  10.497  1.00  0.00          AL  \nATOM      3   Al MOL     1       7.739   1.553  10.529  1.00  0.00          AL  \nATOM      4   Al MOL     1       0.804   3.889  10.437  1.00  0.00          AL  \nATOM      5   Al MOL     1       3.636   3.874  10.382  1.00  0.00          AL  \nATOM      6   Al MOL     1       6.632   3.897  10.541  1.00  0.00          AL  \nATOM      7   Al MOL     1       2.163   6.418  10.455  1.00  0.00          AL  \nATOM      8   Al MOL     1       5.047   6.434  10.466  1.00  0.00          AL  \nATOM      9   Al MOL     1       8.040   6.302  10.533  1.00  0.00          AL  \nATOM     10   Al MOL     1       0.783   8.736  10.539  1.00  0.00          AL  \nATOM     11   Al MOL     1       3.567   8.698  10.364  1.00  0.00          AL  \nATOM     12   Al MOL     1       6.514   8.902  10.626  1.00  0.00          AL  \nATOM     13   Al MOL     1       0.792   2.357  12.840  1.00  0.00          AL  \nATOM     14   Al MOL     1       3.630   2.277  12.704  1.00  0.00          AL  \nATOM     15   Al MOL     1       6.360   2.264  12.782  1.00  0.00          AL  \nATOM     16   Al MOL     1       2.069   4.832  12.821  1.00  0.00          AL  \nATOM     17   Al MOL     1       4.938   4.745  12.911  1.00  0.00          AL  \nATOM     18   Al MOL     1       7.799   4.770  12.827  1.00  0.00          AL  \nATOM     19   Al MOL     1       0.504   7.286  12.873  1.00  0.00          AL  \nATOM     20   Al MOL     1       3.552   7.239  12.797  1.00  0.00          AL  \nATOM     21   Al MOL     1       6.402   7.306  12.736  1.00  0.00          AL  \nATOM     22   Al MOL     1       2.110   9.703  12.840  1.00  0.00          AL  \nATOM     23   Al MOL     1       4.981   9.844  12.831  1.00  0.00          AL  \nATOM     24   Al MOL     1       7.809   9.736  12.859  1.00  0.00          AL  \nATOM     25   Al MOL     1       0.768   0.704  15.208  1.00  0.00          AL  \nATOM     26   Al MOL     1       3.501   0.775  15.196  1.00  0.00          AL  \nATOM     27   Al MOL     1       6.374   0.643  15.032  1.00  0.00          AL  \nATOM     28   Al MOL     1       2.129   3.277  15.069  1.00  0.00          AL  \nATOM     29   Al MOL     1       5.028   3.143  15.125  1.00  0.00          AL  \nATOM     30   Al MOL     1       7.822   3.095  15.064  1.00  0.00          AL  \nATOM     31   Al MOL     1       0.678   5.564  15.092  1.00  0.00          AL  \nATOM     32   Al MOL     1       3.506   5.734  15.020  1.00  0.00          AL  \nATOM     33   Al MOL     1       6.469   5.677  15.041  1.00  0.00          AL  \nATOM     34   Al MOL     1       2.091   8.136  15.161  1.00  0.00          AL  \nATOM     35   Al MOL     1       4.986   8.071  15.042  1.00  0.00          AL  \nATOM     36   Al MOL     1       7.866   8.093  15.283  1.00  0.00          AL  \nATOM     37   Al MOL     1       2.181   1.686  17.393  1.00  0.00          AL  \nATOM     38   Al MOL     1       4.869   1.744  17.377  1.00  0.00          AL  \nATOM     39   Al MOL     1       7.870   1.543  17.304  1.00  0.00          AL  \nATOM     40   Al MOL     1       0.697   4.041  17.267  1.00  0.00          AL  \nATOM     41   Al MOL     1       3.446   4.149  17.393  1.00  0.00          AL  \nATOM     42   Al MOL     1       6.596   4.056  17.328  1.00  0.00          AL  \nATOM     43   Al MOL     1       2.144   6.554  17.434  1.00  0.00          AL  \nATOM     44   Al MOL     1       4.980   6.620  17.322  1.00  0.00          AL  \nATOM     45   Al MOL     1       7.848   6.459  17.354  1.00  0.00          AL  \nATOM     46   Al MOL     1       0.750   9.059  17.474  1.00  0.00          AL  \nATOM     47   Al MOL     1       3.661   9.058  17.445  1.00  0.00          AL  \nATOM     48   Al MOL     1       6.361   9.044  17.344  1.00  0.00          AL  \nATOM     49   Al MOL     1       0.657   2.572  19.704  1.00  0.00          AL  \nATOM     50   Al MOL     1       3.394   2.527  19.805  1.00  0.00          AL  \nATOM     51   Al MOL     1       6.288   2.597  19.493  1.00  0.00          AL  \nATOM     52   Al MOL     1       1.983   4.986  19.974  1.00  0.00          AL  \nATOM     53   Al MOL     1       4.852   4.912  19.643  1.00  0.00          AL  \nATOM     54   Al MOL     1       7.814   4.883  19.710  1.00  0.00          AL  \nATOM     55   Al MOL     1       0.696   7.411  19.676  1.00  0.00          AL  \nATOM     56   Al MOL     1       3.486   7.310  19.761  1.00  0.00          AL  \nATOM     57   Al MOL     1       6.425   7.387  19.642  1.00  0.00          AL  \nATOM     58   Al MOL     1       2.226   9.982  19.709  1.00  0.00          AL  \nATOM     59   Al MOL     1       4.993   9.983  19.730  1.00  0.00          AL  \nATOM     60   Al MOL     1       7.931   9.929  19.577  1.00  0.00          AL  \nATOM     61   Al MOL     1       0.541   0.759  21.758  1.00  0.00          AL  \nATOM     62   Al MOL     1       3.572   0.725  22.122  1.00  0.00          AL  \nATOM     63   Al MOL     1       6.471   0.728  21.888  1.00  0.00          AL  \nATOM     64   Al MOL     1       1.994   3.121  22.121  1.00  0.00          AL  \nATOM     65   Al MOL     1       5.066   3.003  22.017  1.00  0.00          AL  \nATOM     66   Al MOL     1       7.823   2.996  22.055  1.00  0.00          AL  \nATOM     67   Al MOL     1       0.545   5.662  22.401  1.00  0.00          AL  \nATOM     68   Al MOL     1       3.485   5.716  22.149  1.00  0.00          AL  \nATOM     69   Al MOL     1       6.235   5.681  21.944  1.00  0.00          AL  \nATOM     70   Al MOL     1       2.026   8.201  22.053  1.00  0.00          AL  \nATOM     71   Al MOL     1       4.889   8.140  21.882  1.00  0.00          AL  \nATOM     72   Al MOL     1       7.838   8.108  21.918  1.00  0.00          AL  \nATOM     73    O MOL     1      10.655   1.413  22.803  1.00  0.00           O  \nATOM     74    O MOL     1       6.395   4.103  22.710  1.00  0.00           O  \nATOM     75    O MOL     1       3.390   6.512  26.014  1.00  0.00           O  \nATOM     76    O MOL     1       3.589   5.383  25.548  1.00  0.00           O  \nATOM     77    O MOL     1       4.239   0.071   0.926  1.00  0.00           O  \nATOM     78    O MOL     1       3.947   0.178  -0.268  1.00  0.00           O  \nATOM     79    O MOL     1       4.475   6.389   1.116  1.00  0.00           O  \nATOM     80    O MOL     1       5.058   6.865   0.137  1.00  0.00           O  \nATOM     81    O MOL     1       7.293   4.705   1.473  1.00  0.00           O  \nATOM     82    O MOL     1       7.403   5.374   2.503  1.00  0.00           O  \nATOM     83    O MOL     1       7.287  -1.067   1.560  1.00  0.00           O  \nATOM     84    O MOL     1       7.382  -0.391   0.533  1.00  0.00           O  \nATOM     85    O MOL     1       3.508   4.847  29.570  1.00  0.00           O  \nATOM     86    O MOL     1       2.905   5.854  29.187  1.00  0.00           O  \nATOM     87    O MOL     1       2.173   6.543  22.936  1.00  0.00           O  \nATOM     88    O MOL     1       3.508   3.866  22.841  1.00  0.00           O  \nATOM     89    O MOL     1       0.448   3.706  27.489  1.00  0.00           O  \nATOM     90    O MOL     1       1.345   3.679  26.637  1.00  0.00           O  \nATOM     91    O MOL     1       7.979   7.977   9.778  1.00  0.00           O  \nATOM     92    O MOL     1       6.526   5.566   9.808  1.00  0.00           O  \nATOM     93    O MOL     1       2.185   3.080   9.537  1.00  0.00           O  \nATOM     94    O MOL     1       3.630   5.497   9.731  1.00  0.00           O  \nATOM     95    O MOL     1       7.600   6.472  22.798  1.00  0.00           O  \nATOM     96    O MOL     1       9.196   3.938  22.875  1.00  0.00           O  \nATOM     97    O MOL     1       3.598   0.534   9.764  1.00  0.00           O  \nATOM     98    O MOL     1       5.058   2.993   9.629  1.00  0.00           O  \nATOM     99    O MOL     1       0.628  10.554   9.807  1.00  0.00           O  \nATOM    100    O MOL     1       5.057   8.073   9.772  1.00  0.00           O  \nATOM    101    O MOL     1       4.089   9.875  25.542  1.00  0.00           O  \nATOM    102    O MOL     1       5.055   9.211  25.937  1.00  0.00           O  \nATOM    103    O MOL     1       1.687   7.794   0.285  1.00  0.00           O  \nATOM    104    O MOL     1       1.220   6.653   0.348  1.00  0.00           O  \nATOM    105    O MOL     1       6.904   5.757  25.962  1.00  0.00           O  \nATOM    106    O MOL     1       6.694   5.975  27.162  1.00  0.00           O  \nATOM    107    O MOL     1       6.514   9.032  22.756  1.00  0.00           O  \nATOM    108    O MOL     1       3.646   9.022  22.814  1.00  0.00           O  \nATOM    109    O MOL     1       3.502   1.680  28.099  1.00  0.00           O  \nATOM    110    O MOL     1       2.436   1.142  28.417  1.00  0.00           O  \nATOM    111    O MOL     1      -2.478   1.680  25.391  1.00  0.00           O  \nATOM    112    O MOL     1      -1.327   2.134  25.429  1.00  0.00           O  \nENDMDL\n",
           "ext": "pdb"
          }
         ],
         "kwargs": {},
         "methodName": "replaceStructure",
         "reconstruc_color_scheme": false,
         "target": "Widget",
         "type": "call_method"
        },
        {
         "args": [
          "this._Q = [[1.0, 0.0, 0.0], [0.0, 1.0, 0.0], [0.0, 0.0, 1.0]]"
         ],
         "kwargs": {},
         "methodName": "executeCode",
         "reconstruc_color_scheme": false,
         "target": "Widget",
         "type": "call_method"
        },
        {
         "args": [
          {
           "data": "CRYST1    8.591    9.920   31.691  90.00  90.00  90.00 P 1\nMODEL     1\nATOM      1   Al MOL     1       2.064   1.533  10.390  1.00  0.00          AL  \nATOM      2   Al MOL     1       5.189   1.530  10.421  1.00  0.00          AL  \nATOM      3   Al MOL     1       7.852   1.457  10.739  1.00  0.00          AL  \nATOM      4   Al MOL     1       0.591   4.019  10.845  1.00  0.00          AL  \nATOM      5   Al MOL     1       3.516   4.038  10.281  1.00  0.00          AL  \nATOM      6   Al MOL     1       6.586   3.932  10.357  1.00  0.00          AL  \nATOM      7   Al MOL     1       2.100   6.555  10.512  1.00  0.00          AL  \nATOM      8   Al MOL     1       4.938   6.516  10.103  1.00  0.00          AL  \nATOM      9   Al MOL     1       7.951   6.452  10.410  1.00  0.00          AL  \nATOM     10   Al MOL     1       0.730   8.830  10.475  1.00  0.00          AL  \nATOM     11   Al MOL     1       3.451   8.946  10.323  1.00  0.00          AL  \nATOM     12   Al MOL     1       6.371   9.170  10.289  1.00  0.00          AL  \nATOM     13   Al MOL     1       0.603   2.270  13.000  1.00  0.00          AL  \nATOM     14   Al MOL     1       3.445   2.239  12.732  1.00  0.00          AL  \nATOM     15   Al MOL     1       6.155   2.169  12.954  1.00  0.00          AL  \nATOM     16   Al MOL     1       2.276   4.715  12.883  1.00  0.00          AL  \nATOM     17   Al MOL     1       4.946   4.772  12.515  1.00  0.00          AL  \nATOM     18   Al MOL     1       7.755   4.857  12.956  1.00  0.00          AL  \nATOM     19   Al MOL     1       0.809   7.278  12.914  1.00  0.00          AL  \nATOM     20   Al MOL     1       3.682   7.177  12.747  1.00  0.00          AL  \nATOM     21   Al MOL     1       6.374   7.191  12.781  1.00  0.00          AL  \nATOM     22   Al MOL     1       2.106   9.784  12.745  1.00  0.00          AL  \nATOM     23   Al MOL     1       4.946   9.676  12.651  1.00  0.00          AL  \nATOM     24   Al MOL     1       7.613   9.664  12.918  1.00  0.00          AL  \nATOM     25   Al MOL     1       0.595   0.676  15.211  1.00  0.00          AL  \nATOM     26   Al MOL     1       3.561   0.639  15.067  1.00  0.00          AL  \nATOM     27   Al MOL     1       6.464   0.776  15.234  1.00  0.00          AL  \nATOM     28   Al MOL     1       2.017   3.088  15.175  1.00  0.00          AL  \nATOM     29   Al MOL     1       4.934   3.242  15.022  1.00  0.00          AL  \nATOM     30   Al MOL     1       7.877   3.301  15.287  1.00  0.00          AL  \nATOM     31   Al MOL     1       0.727   5.663  15.302  1.00  0.00          AL  \nATOM     32   Al MOL     1       3.515   5.656  15.014  1.00  0.00          AL  \nATOM     33   Al MOL     1       6.475   5.696  15.217  1.00  0.00          AL  \nATOM     34   Al MOL     1       2.250   8.142  15.138  1.00  0.00          AL  \nATOM     35   Al MOL     1       4.999   8.135  15.137  1.00  0.00          AL  \nATOM     36   Al MOL     1       7.882   8.110  15.100  1.00  0.00          AL  \nATOM     37   Al MOL     1       2.083   1.512  17.407  1.00  0.00          AL  \nATOM     38   Al MOL     1       5.087   1.489  17.403  1.00  0.00          AL  \nATOM     39   Al MOL     1       7.801   1.644  17.504  1.00  0.00          AL  \nATOM     40   Al MOL     1       0.532   4.110  17.575  1.00  0.00          AL  \nATOM     41   Al MOL     1       3.593   3.970  17.383  1.00  0.00          AL  \nATOM     42   Al MOL     1       6.337   4.026  17.457  1.00  0.00          AL  \nATOM     43   Al MOL     1       2.135   6.491  17.516  1.00  0.00          AL  \nATOM     44   Al MOL     1       4.979   6.572  17.420  1.00  0.00          AL  \nATOM     45   Al MOL     1       7.805   6.665  17.422  1.00  0.00          AL  \nATOM     46   Al MOL     1       0.643   8.952  17.365  1.00  0.00          AL  \nATOM     47   Al MOL     1       3.578   9.033  17.332  1.00  0.00          AL  \nATOM     48   Al MOL     1       6.442   8.924  17.273  1.00  0.00          AL  \nATOM     49   Al MOL     1       0.809   2.262  19.896  1.00  0.00          AL  \nATOM     50   Al MOL     1       3.555   2.455  19.685  1.00  0.00          AL  \nATOM     51   Al MOL     1       6.501   2.445  19.729  1.00  0.00          AL  \nATOM     52   Al MOL     1       2.213   4.866  19.640  1.00  0.00          AL  \nATOM     53   Al MOL     1       4.999   4.861  19.899  1.00  0.00          AL  \nATOM     54   Al MOL     1       7.880   4.897  19.752  1.00  0.00          AL  \nATOM     55   Al MOL     1       0.708   7.337  19.788  1.00  0.00          AL  \nATOM     56   Al MOL     1       3.609   7.361  19.674  1.00  0.00          AL  \nATOM     57   Al MOL     1       6.305   7.312  19.678  1.00  0.00          AL  \nATOM     58   Al MOL     1       2.054   9.751  19.735  1.00  0.00          AL  \nATOM     59   Al MOL     1       4.869   9.746  19.633  1.00  0.00          AL  \nATOM     60   Al MOL     1       7.819   9.769  19.774  1.00  0.00          AL  \nATOM     61   Al MOL     1       0.773   0.715  22.148  1.00  0.00          AL  \nATOM     62   Al MOL     1       3.675   0.864  22.059  1.00  0.00          AL  \nATOM     63   Al MOL     1       6.511   0.807  22.031  1.00  0.00          AL  \nATOM     64   Al MOL     1       1.972   3.225  22.454  1.00  0.00          AL  \nATOM     65   Al MOL     1       4.861   3.125  22.117  1.00  0.00          AL  \nATOM     66   Al MOL     1       7.804   3.095  22.039  1.00  0.00          AL  \nATOM     67   Al MOL     1       0.739   5.608  22.044  1.00  0.00          AL  \nATOM     68   Al MOL     1       3.620   5.607  22.098  1.00  0.00          AL  \nATOM     69   Al MOL     1       6.469   5.976  21.986  1.00  0.00          AL  \nATOM     70   Al MOL     1       2.097   8.164  22.071  1.00  0.00          AL  \nATOM     71   Al MOL     1       5.035   8.113  22.057  1.00  0.00          AL  \nATOM     72   Al MOL     1       7.940   8.305  22.186  1.00  0.00          AL  \nATOM     73    O MOL     1      10.777   1.501  23.080  1.00  0.00           O  \nATOM     74    O MOL     1       6.381   4.122  22.660  1.00  0.00           O  \nATOM     75    O MOL     1       3.657   6.521  26.016  1.00  0.00           O  \nATOM     76    O MOL     1       3.511   5.351  25.642  1.00  0.00           O  \nATOM     77    O MOL     1       4.247   0.118   0.704  1.00  0.00           O  \nATOM     78    O MOL     1       4.063   0.225  -0.511  1.00  0.00           O  \nATOM     79    O MOL     1       4.487   6.304   0.902  1.00  0.00           O  \nATOM     80    O MOL     1       4.907   6.913  -0.087  1.00  0.00           O  \nATOM     81    O MOL     1       7.233   4.814   1.253  1.00  0.00           O  \nATOM     82    O MOL     1       7.483   5.452   2.278  1.00  0.00           O  \nATOM     83    O MOL     1       7.299  -1.113   1.307  1.00  0.00           O  \nATOM     84    O MOL     1       7.371  -0.370   0.326  1.00  0.00           O  \nATOM     85    O MOL     1       3.337   4.722  29.384  1.00  0.00           O  \nATOM     86    O MOL     1       2.805   5.740  28.927  1.00  0.00           O  \nATOM     87    O MOL     1       2.193   6.592  22.832  1.00  0.00           O  \nATOM     88    O MOL     1       3.571   3.978  23.002  1.00  0.00           O  \nATOM     89    O MOL     1       0.626   3.579  27.284  1.00  0.00           O  \nATOM     90    O MOL     1       1.076   3.278  26.172  1.00  0.00           O  \nATOM     91    O MOL     1       7.850   8.164   9.771  1.00  0.00           O  \nATOM     92    O MOL     1       6.418   5.617   9.662  1.00  0.00           O  \nATOM     93    O MOL     1       1.933   3.146   9.752  1.00  0.00           O  \nATOM     94    O MOL     1       3.430   5.642   9.529  1.00  0.00           O  \nATOM     95    O MOL     1       7.965   6.585  22.794  1.00  0.00           O  \nATOM     96    O MOL     1       9.143   4.008  23.032  1.00  0.00           O  \nATOM     97    O MOL     1       3.591   0.841   9.713  1.00  0.00           O  \nATOM     98    O MOL     1       5.145   3.213   9.678  1.00  0.00           O  \nATOM     99    O MOL     1       0.583  10.533   9.813  1.00  0.00           O  \nATOM    100    O MOL     1       5.037   8.191   9.641  1.00  0.00           O  \nATOM    101    O MOL     1       3.636   9.809  25.604  1.00  0.00           O  \nATOM    102    O MOL     1       4.424   9.115  26.258  1.00  0.00           O  \nATOM    103    O MOL     1       1.661   7.746  -0.004  1.00  0.00           O  \nATOM    104    O MOL     1       1.253   6.595   0.178  1.00  0.00           O  \nATOM    105    O MOL     1       7.305   5.649  25.830  1.00  0.00           O  \nATOM    106    O MOL     1       7.227   5.823  27.051  1.00  0.00           O  \nATOM    107    O MOL     1       6.391   8.965  22.905  1.00  0.00           O  \nATOM    108    O MOL     1       3.523   8.928  22.626  1.00  0.00           O  \nATOM    109    O MOL     1       3.646   1.842  27.852  1.00  0.00           O  \nATOM    110    O MOL     1       2.576   1.316  28.181  1.00  0.00           O  \nATOM    111    O MOL     1      -2.287   1.610  25.636  1.00  0.00           O  \nATOM    112    O MOL     1      -1.202   2.017  25.185  1.00  0.00           O  \nENDMDL\n",
           "ext": "pdb"
          }
         ],
         "kwargs": {},
         "methodName": "replaceStructure",
         "reconstruc_color_scheme": false,
         "target": "Widget",
         "type": "call_method"
        },
        {
         "args": [
          "this._Q = [[1.0, 0.0, 0.0], [0.0, 1.0, 0.0], [0.0, 0.0, 1.0]]"
         ],
         "kwargs": {},
         "methodName": "executeCode",
         "reconstruc_color_scheme": false,
         "target": "Widget",
         "type": "call_method"
        },
        {
         "args": [
          {
           "data": "CRYST1    8.591    9.920   31.691  90.00  90.00  90.00 P 1\nMODEL     1\nATOM      1   Al MOL     1       2.013   1.502  10.268  1.00  0.00          AL  \nATOM      2   Al MOL     1       5.054   1.587  10.587  1.00  0.00          AL  \nATOM      3   Al MOL     1       7.747   1.603  10.677  1.00  0.00          AL  \nATOM      4   Al MOL     1       0.649   4.081  10.612  1.00  0.00          AL  \nATOM      5   Al MOL     1       3.480   4.105  10.431  1.00  0.00          AL  \nATOM      6   Al MOL     1       6.462   4.007  10.487  1.00  0.00          AL  \nATOM      7   Al MOL     1       1.984   6.589  10.729  1.00  0.00          AL  \nATOM      8   Al MOL     1       4.895   6.586  10.612  1.00  0.00          AL  \nATOM      9   Al MOL     1       7.892   6.370  10.533  1.00  0.00          AL  \nATOM     10   Al MOL     1       0.649   8.958  10.593  1.00  0.00          AL  \nATOM     11   Al MOL     1       3.406   9.073  10.729  1.00  0.00          AL  \nATOM     12   Al MOL     1       6.259   9.022  10.648  1.00  0.00          AL  \nATOM     13   Al MOL     1       0.593   2.350  12.763  1.00  0.00          AL  \nATOM     14   Al MOL     1       3.412   2.461  12.891  1.00  0.00          AL  \nATOM     15   Al MOL     1       6.374   2.402  12.784  1.00  0.00          AL  \nATOM     16   Al MOL     1       1.928   4.916  12.830  1.00  0.00          AL  \nATOM     17   Al MOL     1       4.895   4.901  12.967  1.00  0.00          AL  \nATOM     18   Al MOL     1       7.710   5.007  12.872  1.00  0.00          AL  \nATOM     19   Al MOL     1       0.613   7.445  12.850  1.00  0.00          AL  \nATOM     20   Al MOL     1       3.400   7.400  12.944  1.00  0.00          AL  \nATOM     21   Al MOL     1       6.339   7.429  12.913  1.00  0.00          AL  \nATOM     22   Al MOL     1       1.985   9.966  12.797  1.00  0.00          AL  \nATOM     23   Al MOL     1       4.866   9.733  13.070  1.00  0.00          AL  \nATOM     24   Al MOL     1       7.749   9.836  12.925  1.00  0.00          AL  \nATOM     25   Al MOL     1       0.667   0.648  15.120  1.00  0.00          AL  \nATOM     26   Al MOL     1       3.555   0.729  15.218  1.00  0.00          AL  \nATOM     27   Al MOL     1       6.405   0.815  15.268  1.00  0.00          AL  \nATOM     28   Al MOL     1       2.099   3.135  15.185  1.00  0.00          AL  \nATOM     29   Al MOL     1       5.072   3.174  15.191  1.00  0.00          AL  \nATOM     30   Al MOL     1       7.819   3.253  15.022  1.00  0.00          AL  \nATOM     31   Al MOL     1       0.700   5.726  15.258  1.00  0.00          AL  \nATOM     32   Al MOL     1       3.422   5.708  15.193  1.00  0.00          AL  \nATOM     33   Al MOL     1       6.393   5.634  15.192  1.00  0.00          AL  \nATOM     34   Al MOL     1       2.132   8.209  15.252  1.00  0.00          AL  \nATOM     35   Al MOL     1       4.945   8.141  15.330  1.00  0.00          AL  \nATOM     36   Al MOL     1       7.819   8.105  15.272  1.00  0.00          AL  \nATOM     37   Al MOL     1       2.104   1.611  17.404  1.00  0.00          AL  \nATOM     38   Al MOL     1       4.960   1.518  17.522  1.00  0.00          AL  \nATOM     39   Al MOL     1       7.916   1.489  17.499  1.00  0.00          AL  \nATOM     40   Al MOL     1       0.621   4.002  17.412  1.00  0.00          AL  \nATOM     41   Al MOL     1       3.529   3.875  17.452  1.00  0.00          AL  \nATOM     42   Al MOL     1       6.382   4.003  17.470  1.00  0.00          AL  \nATOM     43   Al MOL     1       2.179   6.477  17.560  1.00  0.00          AL  \nATOM     44   Al MOL     1       4.911   6.388  17.544  1.00  0.00          AL  \nATOM     45   Al MOL     1       7.859   6.527  17.489  1.00  0.00          AL  \nATOM     46   Al MOL     1       0.729   8.911  17.553  1.00  0.00          AL  \nATOM     47   Al MOL     1       3.597   8.961  17.639  1.00  0.00          AL  \nATOM     48   Al MOL     1       6.364   8.842  17.471  1.00  0.00          AL  \nATOM     49   Al MOL     1       0.690   2.330  19.775  1.00  0.00          AL  \nATOM     50   Al MOL     1       3.525   2.348  19.678  1.00  0.00          AL  \nATOM     51   Al MOL     1       6.603   2.340  19.861  1.00  0.00          AL  \nATOM     52   Al MOL     1       2.129   4.784  19.782  1.00  0.00          AL  \nATOM     53   Al MOL     1       4.968   4.806  19.631  1.00  0.00          AL  \nATOM     54   Al MOL     1       7.969   4.790  19.683  1.00  0.00          AL  \nATOM     55   Al MOL     1       0.826   7.349  19.759  1.00  0.00          AL  \nATOM     56   Al MOL     1       3.640   7.288  19.814  1.00  0.00          AL  \nATOM     57   Al MOL     1       6.404   7.268  19.790  1.00  0.00          AL  \nATOM     58   Al MOL     1       2.006   9.819  19.717  1.00  0.00          AL  \nATOM     59   Al MOL     1       4.993   9.810  19.785  1.00  0.00          AL  \nATOM     60   Al MOL     1       7.796   9.836  19.813  1.00  0.00          AL  \nATOM     61   Al MOL     1       0.712   0.552  21.964  1.00  0.00          AL  \nATOM     62   Al MOL     1       3.785   0.673  22.053  1.00  0.00          AL  \nATOM     63   Al MOL     1       6.358   0.549  22.004  1.00  0.00          AL  \nATOM     64   Al MOL     1       2.200   3.092  22.076  1.00  0.00          AL  \nATOM     65   Al MOL     1       5.021   3.132  21.956  1.00  0.00          AL  \nATOM     66   Al MOL     1       7.821   3.276  23.034  1.00  0.00          AL  \nATOM     67   Al MOL     1       0.800   5.649  22.213  1.00  0.00          AL  \nATOM     68   Al MOL     1       3.693   5.692  22.190  1.00  0.00          AL  \nATOM     69   Al MOL     1       6.388   5.778  21.870  1.00  0.00          AL  \nATOM     70   Al MOL     1       2.253   8.181  22.055  1.00  0.00          AL  \nATOM     71   Al MOL     1       4.997   8.089  22.016  1.00  0.00          AL  \nATOM     72   Al MOL     1       8.022   8.048  22.042  1.00  0.00          AL  \nATOM     73    O MOL     1      10.757   1.299  22.718  1.00  0.00           O  \nATOM     74    O MOL     1       6.220   4.193  22.831  1.00  0.00           O  \nATOM     75    O MOL     1       4.428   5.918  25.730  1.00  0.00           O  \nATOM     76    O MOL     1       3.544   5.072  25.905  1.00  0.00           O  \nATOM     77    O MOL     1       4.099   0.147   0.231  1.00  0.00           O  \nATOM     78    O MOL     1       4.328   0.234  -0.978  1.00  0.00           O  \nATOM     79    O MOL     1       4.437   6.411   0.464  1.00  0.00           O  \nATOM     80    O MOL     1       4.820   6.938  -0.585  1.00  0.00           O  \nATOM     81    O MOL     1       7.425   4.860   0.831  1.00  0.00           O  \nATOM     82    O MOL     1       7.419   5.533   1.864  1.00  0.00           O  \nATOM     83    O MOL     1       7.301  -1.402   0.674  1.00  0.00           O  \nATOM     84    O MOL     1       7.372  -0.331   0.063  1.00  0.00           O  \nATOM     85    O MOL     1       2.952   4.747  29.468  1.00  0.00           O  \nATOM     86    O MOL     1       2.625   5.740  28.810  1.00  0.00           O  \nATOM     87    O MOL     1       2.201   6.464  22.813  1.00  0.00           O  \nATOM     88    O MOL     1       3.613   3.940  22.752  1.00  0.00           O  \nATOM     89    O MOL     1       0.830   3.287  26.828  1.00  0.00           O  \nATOM     90    O MOL     1       1.545   3.073  25.847  1.00  0.00           O  \nATOM     91    O MOL     1       7.735   8.149   9.896  1.00  0.00           O  \nATOM     92    O MOL     1       6.376   5.722   9.867  1.00  0.00           O  \nATOM     93    O MOL     1       2.067   3.210   9.678  1.00  0.00           O  \nATOM     94    O MOL     1       3.391   5.820   9.816  1.00  0.00           O  \nATOM     95    O MOL     1       7.933   6.418  22.749  1.00  0.00           O  \nATOM     96    O MOL     1       9.377   3.957  22.921  1.00  0.00           O  \nATOM     97    O MOL     1       3.610   0.860   9.817  1.00  0.00           O  \nATOM     98    O MOL     1       4.989   3.261   9.905  1.00  0.00           O  \nATOM     99    O MOL     1       0.434  10.607   9.768  1.00  0.00           O  \nATOM    100    O MOL     1       4.888   8.223   9.837  1.00  0.00           O  \nATOM    101    O MOL     1       2.533   9.219  26.044  1.00  0.00           O  \nATOM    102    O MOL     1       3.748   9.279  26.260  1.00  0.00           O  \nATOM    103    O MOL     1       1.643   7.705  -0.443  1.00  0.00           O  \nATOM    104    O MOL     1       1.163   6.586  -0.238  1.00  0.00           O  \nATOM    105    O MOL     1       7.547   5.407  25.821  1.00  0.00           O  \nATOM    106    O MOL     1       7.338   6.080  26.837  1.00  0.00           O  \nATOM    107    O MOL     1       6.488   8.680  22.858  1.00  0.00           O  \nATOM    108    O MOL     1       3.695   9.058  22.842  1.00  0.00           O  \nATOM    109    O MOL     1       3.947   2.272  27.900  1.00  0.00           O  \nATOM    110    O MOL     1       2.946   1.782  28.430  1.00  0.00           O  \nATOM    111    O MOL     1      -1.242   2.391  24.619  1.00  0.00           O  \nATOM    112    O MOL     1      -0.491   1.025  22.803  1.00  0.00           O  \nENDMDL\n",
           "ext": "pdb"
          }
         ],
         "kwargs": {},
         "methodName": "replaceStructure",
         "reconstruc_color_scheme": false,
         "target": "Widget",
         "type": "call_method"
        },
        {
         "args": [
          "this._Q = [[1.0, 0.0, 0.0], [0.0, 1.0, 0.0], [0.0, 0.0, 1.0]]"
         ],
         "kwargs": {},
         "methodName": "executeCode",
         "reconstruc_color_scheme": false,
         "target": "Widget",
         "type": "call_method"
        },
        {
         "args": [
          {
           "data": "CRYST1    8.591    9.920   31.691  90.00  90.00  90.00 P 1\nMODEL     1\nATOM      1   Al MOL     1       2.101   1.555  10.455  1.00  0.00          AL  \nATOM      2   Al MOL     1       5.139   1.510  10.488  1.00  0.00          AL  \nATOM      3   Al MOL     1       7.811   1.484  10.780  1.00  0.00          AL  \nATOM      4   Al MOL     1       0.651   4.032  10.737  1.00  0.00          AL  \nATOM      5   Al MOL     1       3.628   4.006  10.381  1.00  0.00          AL  \nATOM      6   Al MOL     1       6.564   3.896  10.394  1.00  0.00          AL  \nATOM      7   Al MOL     1       2.076   6.512  10.749  1.00  0.00          AL  \nATOM      8   Al MOL     1       4.996   6.492  10.394  1.00  0.00          AL  \nATOM      9   Al MOL     1       7.896   6.469  10.553  1.00  0.00          AL  \nATOM     10   Al MOL     1       0.791   8.914  10.676  1.00  0.00          AL  \nATOM     11   Al MOL     1       3.524   9.065  10.723  1.00  0.00          AL  \nATOM     12   Al MOL     1       6.413   9.002  10.723  1.00  0.00          AL  \nATOM     13   Al MOL     1       0.796   2.331  13.059  1.00  0.00          AL  \nATOM     14   Al MOL     1       3.625   2.527  12.711  1.00  0.00          AL  \nATOM     15   Al MOL     1       6.522   2.380  12.880  1.00  0.00          AL  \nATOM     16   Al MOL     1       2.227   4.842  12.934  1.00  0.00          AL  \nATOM     17   Al MOL     1       4.998   4.754  12.785  1.00  0.00          AL  \nATOM     18   Al MOL     1       7.775   4.897  12.958  1.00  0.00          AL  \nATOM     19   Al MOL     1       0.760   7.293  13.004  1.00  0.00          AL  \nATOM     20   Al MOL     1       3.544   7.229  12.976  1.00  0.00          AL  \nATOM     21   Al MOL     1       6.448   7.324  12.882  1.00  0.00          AL  \nATOM     22   Al MOL     1       2.156   9.760  12.853  1.00  0.00          AL  \nATOM     23   Al MOL     1       5.021   9.939  13.031  1.00  0.00          AL  \nATOM     24   Al MOL     1       8.052   9.870  13.004  1.00  0.00          AL  \nATOM     25   Al MOL     1       0.750   0.562  15.221  1.00  0.00          AL  \nATOM     26   Al MOL     1       3.486   0.605  15.172  1.00  0.00          AL  \nATOM     27   Al MOL     1       6.337   0.778  15.136  1.00  0.00          AL  \nATOM     28   Al MOL     1       2.197   3.059  15.302  1.00  0.00          AL  \nATOM     29   Al MOL     1       4.898   3.056  15.121  1.00  0.00          AL  \nATOM     30   Al MOL     1       7.796   3.128  15.188  1.00  0.00          AL  \nATOM     31   Al MOL     1       0.726   5.510  15.194  1.00  0.00          AL  \nATOM     32   Al MOL     1       3.480   5.623  15.248  1.00  0.00          AL  \nATOM     33   Al MOL     1       6.290   5.539  15.153  1.00  0.00          AL  \nATOM     34   Al MOL     1       2.131   7.954  15.120  1.00  0.00          AL  \nATOM     35   Al MOL     1       4.920   8.052  15.156  1.00  0.00          AL  \nATOM     36   Al MOL     1       7.890   7.994  15.171  1.00  0.00          AL  \nATOM     37   Al MOL     1       2.159   1.423  17.544  1.00  0.00          AL  \nATOM     38   Al MOL     1       4.903   1.462  17.478  1.00  0.00          AL  \nATOM     39   Al MOL     1       7.769   1.591  17.390  1.00  0.00          AL  \nATOM     40   Al MOL     1       0.677   3.948  17.485  1.00  0.00          AL  \nATOM     41   Al MOL     1       3.480   3.822  17.548  1.00  0.00          AL  \nATOM     42   Al MOL     1       6.264   4.008  17.506  1.00  0.00          AL  \nATOM     43   Al MOL     1       2.160   6.329  17.560  1.00  0.00          AL  \nATOM     44   Al MOL     1       5.053   6.431  17.371  1.00  0.00          AL  \nATOM     45   Al MOL     1       7.937   6.302  17.483  1.00  0.00          AL  \nATOM     46   Al MOL     1       0.633   8.844  17.455  1.00  0.00          AL  \nATOM     47   Al MOL     1       3.472   8.724  17.314  1.00  0.00          AL  \nATOM     48   Al MOL     1       6.426   8.934  17.391  1.00  0.00          AL  \nATOM     49   Al MOL     1       0.691   2.342  19.861  1.00  0.00          AL  \nATOM     50   Al MOL     1       3.531   2.284  19.968  1.00  0.00          AL  \nATOM     51   Al MOL     1       6.477   2.314  19.732  1.00  0.00          AL  \nATOM     52   Al MOL     1       2.098   4.754  19.917  1.00  0.00          AL  \nATOM     53   Al MOL     1       4.947   4.800  19.837  1.00  0.00          AL  \nATOM     54   Al MOL     1       7.849   4.803  19.824  1.00  0.00          AL  \nATOM     55   Al MOL     1       0.725   7.231  19.706  1.00  0.00          AL  \nATOM     56   Al MOL     1       3.472   7.223  19.814  1.00  0.00          AL  \nATOM     57   Al MOL     1       6.536   7.300  19.617  1.00  0.00          AL  \nATOM     58   Al MOL     1       2.139   9.723  19.789  1.00  0.00          AL  \nATOM     59   Al MOL     1       4.911   9.810  19.642  1.00  0.00          AL  \nATOM     60   Al MOL     1       8.037   9.860  19.699  1.00  0.00          AL  \nATOM     61   Al MOL     1       0.764   0.682  22.018  1.00  0.00          AL  \nATOM     62   Al MOL     1       3.564   0.744  22.087  1.00  0.00          AL  \nATOM     63   Al MOL     1       6.657   0.764  21.799  1.00  0.00          AL  \nATOM     64   Al MOL     1       2.255   3.041  22.431  1.00  0.00          AL  \nATOM     65   Al MOL     1       5.000   2.966  22.310  1.00  0.00          AL  \nATOM     66   Al MOL     1       7.824   3.119  23.822  1.00  0.00          AL  \nATOM     67   Al MOL     1       0.993   5.382  22.139  1.00  0.00          AL  \nATOM     68   Al MOL     1       3.593   5.694  23.678  1.00  0.00          AL  \nATOM     69   Al MOL     1       6.380   5.523  22.007  1.00  0.00          AL  \nATOM     70   Al MOL     1       1.970   8.004  22.116  1.00  0.00          AL  \nATOM     71   Al MOL     1       4.989   8.018  22.102  1.00  0.00          AL  \nATOM     72   Al MOL     1       8.028   7.874  21.950  1.00  0.00          AL  \nATOM     73    O MOL     1      10.749   1.490  23.051  1.00  0.00           O  \nATOM     74    O MOL     1       6.520   3.812  22.697  1.00  0.00           O  \nATOM     75    O MOL     1       5.071   6.379  22.739  1.00  0.00           O  \nATOM     76    O MOL     1       3.641   6.391  25.251  1.00  0.00           O  \nATOM     77    O MOL     1       4.046  -0.029  -0.415  1.00  0.00           O  \nATOM     78    O MOL     1       4.132  -0.429  -1.578  1.00  0.00           O  \nATOM     79    O MOL     1       4.609   6.071  -0.145  1.00  0.00           O  \nATOM     80    O MOL     1       5.437   5.892  -1.042  1.00  0.00           O  \nATOM     81    O MOL     1       8.078   4.085  -0.311  1.00  0.00           O  \nATOM     82    O MOL     1       7.697   4.393   0.820  1.00  0.00           O  \nATOM     83    O MOL     1       7.126  -1.139   0.165  1.00  0.00           O  \nATOM     84    O MOL     1       7.595  -0.005   0.276  1.00  0.00           O  \nATOM     85    O MOL     1       2.333   5.641  28.624  1.00  0.00           O  \nATOM     86    O MOL     1       1.688   6.010  27.643  1.00  0.00           O  \nATOM     87    O MOL     1       2.254   6.316  22.913  1.00  0.00           O  \nATOM     88    O MOL     1       3.786   3.984  23.223  1.00  0.00           O  \nATOM     89    O MOL     1       0.148   3.685  26.475  1.00  0.00           O  \nATOM     90    O MOL     1       0.112   3.210  27.644  1.00  0.00           O  \nATOM     91    O MOL     1       7.828   8.174   9.907  1.00  0.00           O  \nATOM     92    O MOL     1       6.442   5.706   9.704  1.00  0.00           O  \nATOM     93    O MOL     1       2.085   3.276   9.783  1.00  0.00           O  \nATOM     94    O MOL     1       3.466   5.739   9.799  1.00  0.00           O  \nATOM     95    O MOL     1       7.941   6.272  22.659  1.00  0.00           O  \nATOM     96    O MOL     1       9.463   3.851  23.062  1.00  0.00           O  \nATOM     97    O MOL     1       3.603   0.744   9.801  1.00  0.00           O  \nATOM     98    O MOL     1       5.012   3.165   9.603  1.00  0.00           O  \nATOM     99    O MOL     1       0.631  10.599   9.902  1.00  0.00           O  \nATOM    100    O MOL     1       4.933   8.229   9.862  1.00  0.00           O  \nATOM    101    O MOL     1       1.380   9.501  26.007  1.00  0.00           O  \nATOM    102    O MOL     1       2.453   8.888  26.080  1.00  0.00           O  \nATOM    103    O MOL     1       1.816   7.744  -0.138  1.00  0.00           O  \nATOM    104    O MOL     1       1.244   6.652  -0.187  1.00  0.00           O  \nATOM    105    O MOL     1       5.526   9.346  25.802  1.00  0.00           O  \nATOM    106    O MOL     1       5.664   8.132  25.607  1.00  0.00           O  \nATOM    107    O MOL     1       6.447   8.737  22.517  1.00  0.00           O  \nATOM    108    O MOL     1       3.452   8.962  22.507  1.00  0.00           O  \nATOM    109    O MOL     1       4.934   2.801  29.968  1.00  0.00           O  \nATOM    110    O MOL     1       3.786   3.002  30.370  1.00  0.00           O  \nATOM    111    O MOL     1      -0.935   3.032  25.514  1.00  0.00           O  \nATOM    112    O MOL     1      -0.619   1.404  22.846  1.00  0.00           O  \nENDMDL\n",
           "ext": "pdb"
          }
         ],
         "kwargs": {},
         "methodName": "replaceStructure",
         "reconstruc_color_scheme": false,
         "target": "Widget",
         "type": "call_method"
        },
        {
         "args": [
          "this._Q = [[1.0, 0.0, 0.0], [0.0, 1.0, 0.0], [0.0, 0.0, 1.0]]"
         ],
         "kwargs": {},
         "methodName": "executeCode",
         "reconstruc_color_scheme": false,
         "target": "Widget",
         "type": "call_method"
        },
        {
         "args": [
          {
           "data": "CRYST1    8.591    9.920   31.691  90.00  90.00  90.00 P 1\nMODEL     1\nATOM      1   Al MOL     1       2.054   1.471  10.444  1.00  0.00          AL  \nATOM      2   Al MOL     1       5.084   1.419  10.709  1.00  0.00          AL  \nATOM      3   Al MOL     1       7.795   1.282  10.636  1.00  0.00          AL  \nATOM      4   Al MOL     1       0.640   3.856  10.616  1.00  0.00          AL  \nATOM      5   Al MOL     1       3.599   3.897  10.507  1.00  0.00          AL  \nATOM      6   Al MOL     1       6.714   3.750  10.425  1.00  0.00          AL  \nATOM      7   Al MOL     1       2.126   6.366  10.550  1.00  0.00          AL  \nATOM      8   Al MOL     1       5.068   6.341  10.487  1.00  0.00          AL  \nATOM      9   Al MOL     1       8.083   6.268  10.677  1.00  0.00          AL  \nATOM     10   Al MOL     1       0.839   8.710  10.630  1.00  0.00          AL  \nATOM     11   Al MOL     1       3.574   8.775  10.653  1.00  0.00          AL  \nATOM     12   Al MOL     1       6.487   8.980  10.673  1.00  0.00          AL  \nATOM     13   Al MOL     1       0.592   2.145  12.759  1.00  0.00          AL  \nATOM     14   Al MOL     1       3.344   2.255  12.867  1.00  0.00          AL  \nATOM     15   Al MOL     1       6.448   2.337  12.856  1.00  0.00          AL  \nATOM     16   Al MOL     1       2.065   4.798  12.863  1.00  0.00          AL  \nATOM     17   Al MOL     1       4.893   4.765  12.865  1.00  0.00          AL  \nATOM     18   Al MOL     1       7.921   4.721  12.820  1.00  0.00          AL  \nATOM     19   Al MOL     1       0.733   7.219  13.138  1.00  0.00          AL  \nATOM     20   Al MOL     1       3.430   7.137  12.955  1.00  0.00          AL  \nATOM     21   Al MOL     1       6.497   7.187  12.966  1.00  0.00          AL  \nATOM     22   Al MOL     1       2.099   9.573  12.826  1.00  0.00          AL  \nATOM     23   Al MOL     1       4.959   9.688  12.951  1.00  0.00          AL  \nATOM     24   Al MOL     1       7.780   9.677  12.852  1.00  0.00          AL  \nATOM     25   Al MOL     1       0.799   0.501  15.152  1.00  0.00          AL  \nATOM     26   Al MOL     1       3.547   0.556  15.094  1.00  0.00          AL  \nATOM     27   Al MOL     1       6.473   0.516  15.087  1.00  0.00          AL  \nATOM     28   Al MOL     1       2.105   2.943  15.207  1.00  0.00          AL  \nATOM     29   Al MOL     1       4.993   3.100  15.209  1.00  0.00          AL  \nATOM     30   Al MOL     1       7.827   3.085  15.125  1.00  0.00          AL  \nATOM     31   Al MOL     1       0.687   5.558  15.319  1.00  0.00          AL  \nATOM     32   Al MOL     1       3.481   5.502  15.101  1.00  0.00          AL  \nATOM     33   Al MOL     1       6.492   5.532  15.217  1.00  0.00          AL  \nATOM     34   Al MOL     1       2.152   7.994  15.285  1.00  0.00          AL  \nATOM     35   Al MOL     1       4.834   7.989  15.108  1.00  0.00          AL  \nATOM     36   Al MOL     1       7.886   8.022  15.345  1.00  0.00          AL  \nATOM     37   Al MOL     1       2.128   1.287  17.375  1.00  0.00          AL  \nATOM     38   Al MOL     1       5.068   1.524  17.383  1.00  0.00          AL  \nATOM     39   Al MOL     1       7.863   1.416  17.392  1.00  0.00          AL  \nATOM     40   Al MOL     1       0.652   3.848  17.520  1.00  0.00          AL  \nATOM     41   Al MOL     1       3.617   3.937  17.403  1.00  0.00          AL  \nATOM     42   Al MOL     1       6.475   3.904  17.491  1.00  0.00          AL  \nATOM     43   Al MOL     1       2.118   6.364  17.619  1.00  0.00          AL  \nATOM     44   Al MOL     1       4.866   6.323  17.405  1.00  0.00          AL  \nATOM     45   Al MOL     1       7.790   6.353  17.654  1.00  0.00          AL  \nATOM     46   Al MOL     1       0.670   8.789  17.577  1.00  0.00          AL  \nATOM     47   Al MOL     1       3.469   8.826  17.657  1.00  0.00          AL  \nATOM     48   Al MOL     1       6.202   8.770  17.325  1.00  0.00          AL  \nATOM     49   Al MOL     1       0.893   2.254  19.763  1.00  0.00          AL  \nATOM     50   Al MOL     1       3.595   2.461  19.666  1.00  0.00          AL  \nATOM     51   Al MOL     1       6.341   2.254  19.789  1.00  0.00          AL  \nATOM     52   Al MOL     1       2.170   4.808  19.972  1.00  0.00          AL  \nATOM     53   Al MOL     1       4.952   4.784  19.780  1.00  0.00          AL  \nATOM     54   Al MOL     1       7.918   4.670  19.750  1.00  0.00          AL  \nATOM     55   Al MOL     1       0.791   7.181  19.817  1.00  0.00          AL  \nATOM     56   Al MOL     1       3.522   7.234  20.109  1.00  0.00          AL  \nATOM     57   Al MOL     1       6.474   7.292  19.870  1.00  0.00          AL  \nATOM     58   Al MOL     1       2.176   9.660  19.809  1.00  0.00          AL  \nATOM     59   Al MOL     1       4.938   9.655  19.741  1.00  0.00          AL  \nATOM     60   Al MOL     1       7.768   9.643  19.663  1.00  0.00          AL  \nATOM     61   Al MOL     1       0.641   0.599  22.164  1.00  0.00          AL  \nATOM     62   Al MOL     1       3.705   0.667  22.053  1.00  0.00          AL  \nATOM     63   Al MOL     1       6.375   0.857  21.909  1.00  0.00          AL  \nATOM     64   Al MOL     1       2.333   3.284  22.592  1.00  0.00          AL  \nATOM     65   Al MOL     1       5.202   3.229  22.218  1.00  0.00          AL  \nATOM     66   Al MOL     1       7.832   3.162  23.755  1.00  0.00          AL  \nATOM     67   Al MOL     1       0.971   5.546  22.517  1.00  0.00          AL  \nATOM     68   Al MOL     1       3.936   5.693  23.807  1.00  0.00          AL  \nATOM     69   Al MOL     1       6.561   5.683  22.139  1.00  0.00          AL  \nATOM     70   Al MOL     1       2.270   8.006  22.290  1.00  0.00          AL  \nATOM     71   Al MOL     1       5.029   8.093  22.300  1.00  0.00          AL  \nATOM     72   Al MOL     1       8.058   8.219  22.118  1.00  0.00          AL  \nATOM     73    O MOL     1      10.703   1.374  22.937  1.00  0.00           O  \nATOM     74    O MOL     1       6.594   4.017  22.837  1.00  0.00           O  \nATOM     75    O MOL     1       5.113   6.419  22.908  1.00  0.00           O  \nATOM     76    O MOL     1       4.259   5.805  25.500  1.00  0.00           O  \nATOM     77    O MOL     1       4.089  -0.666  -0.317  1.00  0.00           O  \nATOM     78    O MOL     1       4.151  -0.343  -1.506  1.00  0.00           O  \nATOM     79    O MOL     1       5.062   5.777  -0.130  1.00  0.00           O  \nATOM     80    O MOL     1       5.183   6.030  -1.331  1.00  0.00           O  \nATOM     81    O MOL     1       8.338   3.470  -1.200  1.00  0.00           O  \nATOM     82    O MOL     1       8.332   3.149  -0.011  1.00  0.00           O  \nATOM     83    O MOL     1       7.297  -1.034  -1.079  1.00  0.00           O  \nATOM     84    O MOL     1       7.833   0.045  -0.816  1.00  0.00           O  \nATOM     85    O MOL     1       1.701   8.775  28.283  1.00  0.00           O  \nATOM     86    O MOL     1       0.529   8.431  28.113  1.00  0.00           O  \nATOM     87    O MOL     1       2.340   6.597  23.437  1.00  0.00           O  \nATOM     88    O MOL     1       3.677   3.991  23.317  1.00  0.00           O  \nATOM     89    O MOL     1       2.918   4.753  25.928  1.00  0.00           O  \nATOM     90    O MOL     1       3.181   3.651  26.496  1.00  0.00           O  \nATOM     91    O MOL     1       7.890   7.985   9.989  1.00  0.00           O  \nATOM     92    O MOL     1       6.586   5.529   9.928  1.00  0.00           O  \nATOM     93    O MOL     1       2.141   3.154   9.709  1.00  0.00           O  \nATOM     94    O MOL     1       3.618   5.540   9.802  1.00  0.00           O  \nATOM     95    O MOL     1       7.961   6.413  22.908  1.00  0.00           O  \nATOM     96    O MOL     1       9.409   3.984  23.180  1.00  0.00           O  \nATOM     97    O MOL     1       3.605   0.620   9.979  1.00  0.00           O  \nATOM     98    O MOL     1       5.081   3.100   9.859  1.00  0.00           O  \nATOM     99    O MOL     1       0.706  10.365   9.791  1.00  0.00           O  \nATOM    100    O MOL     1       5.039   8.022   9.942  1.00  0.00           O  \nATOM    101    O MOL     1      -0.388   9.529  25.477  1.00  0.00           O  \nATOM    102    O MOL     1      -0.277  10.716  25.809  1.00  0.00           O  \nATOM    103    O MOL     1       1.759   7.234  -0.411  1.00  0.00           O  \nATOM    104    O MOL     1       1.303   6.262  -1.021  1.00  0.00           O  \nATOM    105    O MOL     1       4.305   9.898  26.324  1.00  0.00           O  \nATOM    106    O MOL     1       4.463   8.734  25.935  1.00  0.00           O  \nATOM    107    O MOL     1       6.540   9.025  22.844  1.00  0.00           O  \nATOM    108    O MOL     1       3.640   8.969  22.909  1.00  0.00           O  \nATOM    109    O MOL     1       4.153   2.870  31.375  1.00  0.00           O  \nATOM    110    O MOL     1       3.632   3.276  30.333  1.00  0.00           O  \nATOM    111    O MOL     1      -1.365   3.096  25.399  1.00  0.00           O  \nATOM    112    O MOL     1      -0.694   1.600  22.761  1.00  0.00           O  \nENDMDL\n",
           "ext": "pdb"
          }
         ],
         "kwargs": {},
         "methodName": "replaceStructure",
         "reconstruc_color_scheme": false,
         "target": "Widget",
         "type": "call_method"
        },
        {
         "args": [
          "this._Q = [[1.0, 0.0, 0.0], [0.0, 1.0, 0.0], [0.0, 0.0, 1.0]]"
         ],
         "kwargs": {},
         "methodName": "executeCode",
         "reconstruc_color_scheme": false,
         "target": "Widget",
         "type": "call_method"
        },
        {
         "args": [
          {
           "data": "CRYST1    8.591    9.920   31.691  90.00  90.00  90.00 P 1\nMODEL     1\nATOM      1   Al MOL     1       1.983   1.241  10.417  1.00  0.00          AL  \nATOM      2   Al MOL     1       4.922   1.309  10.832  1.00  0.00          AL  \nATOM      3   Al MOL     1       7.672   1.375  10.729  1.00  0.00          AL  \nATOM      4   Al MOL     1       0.569   3.788  10.692  1.00  0.00          AL  \nATOM      5   Al MOL     1       3.421   3.833  10.696  1.00  0.00          AL  \nATOM      6   Al MOL     1       6.513   3.762  10.683  1.00  0.00          AL  \nATOM      7   Al MOL     1       2.006   6.290  10.564  1.00  0.00          AL  \nATOM      8   Al MOL     1       4.918   6.371  10.607  1.00  0.00          AL  \nATOM      9   Al MOL     1       7.943   6.198  10.495  1.00  0.00          AL  \nATOM     10   Al MOL     1       0.622   8.728  10.407  1.00  0.00          AL  \nATOM     11   Al MOL     1       3.338   8.786  10.513  1.00  0.00          AL  \nATOM     12   Al MOL     1       6.272   8.886  10.676  1.00  0.00          AL  \nATOM     13   Al MOL     1       0.666   2.179  12.831  1.00  0.00          AL  \nATOM     14   Al MOL     1       3.518   2.196  13.026  1.00  0.00          AL  \nATOM     15   Al MOL     1       6.409   2.399  12.966  1.00  0.00          AL  \nATOM     16   Al MOL     1       1.932   4.600  12.907  1.00  0.00          AL  \nATOM     17   Al MOL     1       4.948   4.787  13.053  1.00  0.00          AL  \nATOM     18   Al MOL     1       7.782   4.819  12.981  1.00  0.00          AL  \nATOM     19   Al MOL     1       0.619   7.115  12.884  1.00  0.00          AL  \nATOM     20   Al MOL     1       3.483   7.087  12.856  1.00  0.00          AL  \nATOM     21   Al MOL     1       6.329   7.188  12.924  1.00  0.00          AL  \nATOM     22   Al MOL     1       2.014   9.627  12.892  1.00  0.00          AL  \nATOM     23   Al MOL     1       4.948   9.710  12.961  1.00  0.00          AL  \nATOM     24   Al MOL     1       7.785   9.680  12.954  1.00  0.00          AL  \nATOM     25   Al MOL     1       0.732   0.579  15.147  1.00  0.00          AL  \nATOM     26   Al MOL     1       3.682   0.604  15.199  1.00  0.00          AL  \nATOM     27   Al MOL     1       6.496   0.650  15.228  1.00  0.00          AL  \nATOM     28   Al MOL     1       2.099   3.051  15.297  1.00  0.00          AL  \nATOM     29   Al MOL     1       5.037   3.102  15.408  1.00  0.00          AL  \nATOM     30   Al MOL     1       7.862   3.044  15.181  1.00  0.00          AL  \nATOM     31   Al MOL     1       0.782   5.648  15.273  1.00  0.00          AL  \nATOM     32   Al MOL     1       3.575   5.478  15.145  1.00  0.00          AL  \nATOM     33   Al MOL     1       6.410   5.607  15.324  1.00  0.00          AL  \nATOM     34   Al MOL     1       2.226   8.024  15.165  1.00  0.00          AL  \nATOM     35   Al MOL     1       4.891   7.933  15.103  1.00  0.00          AL  \nATOM     36   Al MOL     1       7.824   8.072  15.192  1.00  0.00          AL  \nATOM     37   Al MOL     1       2.149   1.400  17.509  1.00  0.00          AL  \nATOM     38   Al MOL     1       5.077   1.407  17.526  1.00  0.00          AL  \nATOM     39   Al MOL     1       7.870   1.439  17.403  1.00  0.00          AL  \nATOM     40   Al MOL     1       0.719   3.998  17.587  1.00  0.00          AL  \nATOM     41   Al MOL     1       3.566   3.874  17.498  1.00  0.00          AL  \nATOM     42   Al MOL     1       6.503   4.054  17.684  1.00  0.00          AL  \nATOM     43   Al MOL     1       2.221   6.389  17.469  1.00  0.00          AL  \nATOM     44   Al MOL     1       5.041   6.296  17.442  1.00  0.00          AL  \nATOM     45   Al MOL     1       7.816   6.440  17.411  1.00  0.00          AL  \nATOM     46   Al MOL     1       0.802   8.937  17.387  1.00  0.00          AL  \nATOM     47   Al MOL     1       3.609   8.757  17.605  1.00  0.00          AL  \nATOM     48   Al MOL     1       6.255   8.873  17.413  1.00  0.00          AL  \nATOM     49   Al MOL     1       0.688   2.280  19.678  1.00  0.00          AL  \nATOM     50   Al MOL     1       3.854   2.328  19.792  1.00  0.00          AL  \nATOM     51   Al MOL     1       6.572   2.379  19.888  1.00  0.00          AL  \nATOM     52   Al MOL     1       2.178   4.779  19.707  1.00  0.00          AL  \nATOM     53   Al MOL     1       5.167   4.646  20.028  1.00  0.00          AL  \nATOM     54   Al MOL     1       8.044   4.565  20.052  1.00  0.00          AL  \nATOM     55   Al MOL     1       0.773   7.228  19.609  1.00  0.00          AL  \nATOM     56   Al MOL     1       3.855   7.129  19.845  1.00  0.00          AL  \nATOM     57   Al MOL     1       6.692   7.288  19.766  1.00  0.00          AL  \nATOM     58   Al MOL     1       2.186   9.647  19.864  1.00  0.00          AL  \nATOM     59   Al MOL     1       5.057   9.744  19.859  1.00  0.00          AL  \nATOM     60   Al MOL     1       7.905   9.771  19.634  1.00  0.00          AL  \nATOM     61   Al MOL     1       0.793   0.488  21.988  1.00  0.00          AL  \nATOM     62   Al MOL     1       3.759   0.677  22.334  1.00  0.00          AL  \nATOM     63   Al MOL     1       6.495   0.739  22.163  1.00  0.00          AL  \nATOM     64   Al MOL     1       2.307   3.115  22.151  1.00  0.00          AL  \nATOM     65   Al MOL     1       5.321   3.144  22.397  1.00  0.00          AL  \nATOM     66   Al MOL     1       8.179   2.955  23.761  1.00  0.00          AL  \nATOM     67   Al MOL     1       0.952   5.522  22.083  1.00  0.00          AL  \nATOM     68   Al MOL     1       3.586   5.371  23.582  1.00  0.00          AL  \nATOM     69   Al MOL     1       6.566   5.595  22.363  1.00  0.00          AL  \nATOM     70   Al MOL     1       2.243   8.188  21.973  1.00  0.00          AL  \nATOM     71   Al MOL     1       5.001   8.061  22.297  1.00  0.00          AL  \nATOM     72   Al MOL     1       7.985   8.230  22.030  1.00  0.00          AL  \nATOM     73    O MOL     1      10.791   1.370  22.809  1.00  0.00           O  \nATOM     74    O MOL     1       6.720   3.955  23.180  1.00  0.00           O  \nATOM     75    O MOL     1       5.094   6.368  23.101  1.00  0.00           O  \nATOM     76    O MOL     1       2.805   5.408  25.054  1.00  0.00           O  \nATOM     77    O MOL     1       4.517  -0.758  -0.180  1.00  0.00           O  \nATOM     78    O MOL     1       4.416  -0.448  -1.371  1.00  0.00           O  \nATOM     79    O MOL     1       5.706   6.079  -0.212  1.00  0.00           O  \nATOM     80    O MOL     1       4.997   6.135  -1.221  1.00  0.00           O  \nATOM     81    O MOL     1       8.085   3.149  -1.307  1.00  0.00           O  \nATOM     82    O MOL     1       8.714   3.301  -0.256  1.00  0.00           O  \nATOM     83    O MOL     1       7.515  -1.122  -0.846  1.00  0.00           O  \nATOM     84    O MOL     1       7.590   0.045  -1.248  1.00  0.00           O  \nATOM     85    O MOL     1       1.213   9.892  28.200  1.00  0.00           O  \nATOM     86    O MOL     1       1.171   8.661  28.182  1.00  0.00           O  \nATOM     87    O MOL     1       2.318   6.415  22.708  1.00  0.00           O  \nATOM     88    O MOL     1       3.760   3.796  22.709  1.00  0.00           O  \nATOM     89    O MOL     1       3.240   3.953  27.020  1.00  0.00           O  \nATOM     90    O MOL     1       3.393   4.560  28.089  1.00  0.00           O  \nATOM     91    O MOL     1       7.664   7.928   9.841  1.00  0.00           O  \nATOM     92    O MOL     1       6.321   5.441   9.988  1.00  0.00           O  \nATOM     93    O MOL     1       2.030   2.971   9.871  1.00  0.00           O  \nATOM     94    O MOL     1       3.521   5.451   9.935  1.00  0.00           O  \nATOM     95    O MOL     1       8.142   6.444  22.837  1.00  0.00           O  \nATOM     96    O MOL     1       9.455   3.782  22.788  1.00  0.00           O  \nATOM     97    O MOL     1       3.533   0.599   9.845  1.00  0.00           O  \nATOM     98    O MOL     1       4.917   3.021  10.184  1.00  0.00           O  \nATOM     99    O MOL     1       0.476  10.477   9.688  1.00  0.00           O  \nATOM    100    O MOL     1       4.874   7.977   9.865  1.00  0.00           O  \nATOM    101    O MOL     1      -0.579  10.267  25.203  1.00  0.00           O  \nATOM    102    O MOL     1      -0.657  11.301  25.973  1.00  0.00           O  \nATOM    103    O MOL     1       1.892   7.322  -1.037  1.00  0.00           O  \nATOM    104    O MOL     1       1.409   6.224  -1.325  1.00  0.00           O  \nATOM    105    O MOL     1       4.068  10.333  25.453  1.00  0.00           O  \nATOM    106    O MOL     1       4.504   9.605  26.354  1.00  0.00           O  \nATOM    107    O MOL     1       6.513   8.867  22.751  1.00  0.00           O  \nATOM    108    O MOL     1       3.518   8.875  22.928  1.00  0.00           O  \nATOM    109    O MOL     1       3.587   2.640  31.182  1.00  0.00           O  \nATOM    110    O MOL     1       2.980   2.769  30.115  1.00  0.00           O  \nATOM    111    O MOL     1      -0.154   2.838  25.562  1.00  0.00           O  \nATOM    112    O MOL     1      -0.562   1.472  22.738  1.00  0.00           O  \nENDMDL\n",
           "ext": "pdb"
          }
         ],
         "kwargs": {},
         "methodName": "replaceStructure",
         "reconstruc_color_scheme": false,
         "target": "Widget",
         "type": "call_method"
        },
        {
         "args": [
          "this._Q = [[1.0, 0.0, 0.0], [0.0, 1.0, 0.0], [0.0, 0.0, 1.0]]"
         ],
         "kwargs": {},
         "methodName": "executeCode",
         "reconstruc_color_scheme": false,
         "target": "Widget",
         "type": "call_method"
        },
        {
         "args": [
          {
           "data": "CRYST1    8.591    9.920   31.691  90.00  90.00  90.00 P 1\nMODEL     1\nATOM      1   Al MOL     1       1.949   1.478  10.532  1.00  0.00          AL  \nATOM      2   Al MOL     1       4.956   1.454  10.480  1.00  0.00          AL  \nATOM      3   Al MOL     1       7.681   1.373  10.620  1.00  0.00          AL  \nATOM      4   Al MOL     1       0.616   3.974  10.594  1.00  0.00          AL  \nATOM      5   Al MOL     1       3.428   4.005  10.454  1.00  0.00          AL  \nATOM      6   Al MOL     1       6.519   3.867  10.357  1.00  0.00          AL  \nATOM      7   Al MOL     1       1.955   6.520  10.641  1.00  0.00          AL  \nATOM      8   Al MOL     1       4.853   6.495  10.408  1.00  0.00          AL  \nATOM      9   Al MOL     1       7.889   6.292  10.559  1.00  0.00          AL  \nATOM     10   Al MOL     1       0.697   8.808  10.381  1.00  0.00          AL  \nATOM     11   Al MOL     1       3.370   8.903  10.501  1.00  0.00          AL  \nATOM     12   Al MOL     1       6.347   9.052  10.512  1.00  0.00          AL  \nATOM     13   Al MOL     1       0.613   1.996  12.856  1.00  0.00          AL  \nATOM     14   Al MOL     1       3.410   2.205  12.879  1.00  0.00          AL  \nATOM     15   Al MOL     1       6.229   2.322  12.828  1.00  0.00          AL  \nATOM     16   Al MOL     1       2.066   4.671  12.983  1.00  0.00          AL  \nATOM     17   Al MOL     1       4.930   4.637  12.865  1.00  0.00          AL  \nATOM     18   Al MOL     1       7.847   4.876  12.844  1.00  0.00          AL  \nATOM     19   Al MOL     1       0.716   7.117  13.005  1.00  0.00          AL  \nATOM     20   Al MOL     1       3.654   7.103  12.816  1.00  0.00          AL  \nATOM     21   Al MOL     1       6.426   7.159  13.030  1.00  0.00          AL  \nATOM     22   Al MOL     1       2.114   9.618  12.885  1.00  0.00          AL  \nATOM     23   Al MOL     1       4.884   9.630  12.867  1.00  0.00          AL  \nATOM     24   Al MOL     1       7.838   9.493  12.893  1.00  0.00          AL  \nATOM     25   Al MOL     1       0.708   0.426  15.186  1.00  0.00          AL  \nATOM     26   Al MOL     1       3.609   0.576  15.242  1.00  0.00          AL  \nATOM     27   Al MOL     1       6.252   0.581  15.198  1.00  0.00          AL  \nATOM     28   Al MOL     1       2.013   2.923  15.110  1.00  0.00          AL  \nATOM     29   Al MOL     1       4.891   3.033  15.060  1.00  0.00          AL  \nATOM     30   Al MOL     1       7.757   3.107  15.039  1.00  0.00          AL  \nATOM     31   Al MOL     1       0.584   5.327  15.132  1.00  0.00          AL  \nATOM     32   Al MOL     1       3.545   5.397  15.124  1.00  0.00          AL  \nATOM     33   Al MOL     1       6.359   5.575  15.159  1.00  0.00          AL  \nATOM     34   Al MOL     1       2.132   7.941  15.184  1.00  0.00          AL  \nATOM     35   Al MOL     1       4.911   8.028  15.194  1.00  0.00          AL  \nATOM     36   Al MOL     1       7.769   8.003  15.301  1.00  0.00          AL  \nATOM     37   Al MOL     1       2.014   1.364  17.417  1.00  0.00          AL  \nATOM     38   Al MOL     1       4.958   1.485  17.344  1.00  0.00          AL  \nATOM     39   Al MOL     1       7.802   1.268  17.412  1.00  0.00          AL  \nATOM     40   Al MOL     1       0.463   3.708  17.401  1.00  0.00          AL  \nATOM     41   Al MOL     1       3.428   3.803  17.367  1.00  0.00          AL  \nATOM     42   Al MOL     1       6.296   3.934  17.456  1.00  0.00          AL  \nATOM     43   Al MOL     1       2.036   6.160  17.445  1.00  0.00          AL  \nATOM     44   Al MOL     1       4.838   6.233  17.435  1.00  0.00          AL  \nATOM     45   Al MOL     1       7.857   6.301  17.587  1.00  0.00          AL  \nATOM     46   Al MOL     1       0.661   8.778  17.441  1.00  0.00          AL  \nATOM     47   Al MOL     1       3.473   8.825  17.377  1.00  0.00          AL  \nATOM     48   Al MOL     1       6.326   8.748  17.497  1.00  0.00          AL  \nATOM     49   Al MOL     1       0.728   2.144  19.850  1.00  0.00          AL  \nATOM     50   Al MOL     1       3.579   2.232  19.719  1.00  0.00          AL  \nATOM     51   Al MOL     1       6.479   2.080  19.805  1.00  0.00          AL  \nATOM     52   Al MOL     1       2.160   4.682  19.789  1.00  0.00          AL  \nATOM     53   Al MOL     1       4.992   4.672  19.733  1.00  0.00          AL  \nATOM     54   Al MOL     1       7.967   4.489  19.756  1.00  0.00          AL  \nATOM     55   Al MOL     1       0.727   7.108  19.645  1.00  0.00          AL  \nATOM     56   Al MOL     1       3.450   7.085  19.585  1.00  0.00          AL  \nATOM     57   Al MOL     1       6.263   7.002  19.659  1.00  0.00          AL  \nATOM     58   Al MOL     1       2.200   9.697  19.774  1.00  0.00          AL  \nATOM     59   Al MOL     1       4.857   9.740  19.581  1.00  0.00          AL  \nATOM     60   Al MOL     1       7.806   9.683  19.762  1.00  0.00          AL  \nATOM     61   Al MOL     1       0.898   0.439  22.465  1.00  0.00          AL  \nATOM     62   Al MOL     1       3.861   0.533  23.689  1.00  0.00          AL  \nATOM     63   Al MOL     1       6.712   0.570  22.226  1.00  0.00          AL  \nATOM     64   Al MOL     1       2.081   2.824  22.050  1.00  0.00          AL  \nATOM     65   Al MOL     1       5.030   2.913  22.055  1.00  0.00          AL  \nATOM     66   Al MOL     1       7.967   3.216  23.781  1.00  0.00          AL  \nATOM     67   Al MOL     1       0.661   5.422  22.142  1.00  0.00          AL  \nATOM     68   Al MOL     1       3.497   5.387  23.529  1.00  0.00          AL  \nATOM     69   Al MOL     1       6.397   5.405  21.944  1.00  0.00          AL  \nATOM     70   Al MOL     1       2.128   7.940  21.904  1.00  0.00          AL  \nATOM     71   Al MOL     1       5.030   7.932  22.061  1.00  0.00          AL  \nATOM     72   Al MOL     1       8.064   7.963  21.945  1.00  0.00          AL  \nATOM     73    O MOL     1      10.885   1.419  23.125  1.00  0.00           O  \nATOM     74    O MOL     1       6.422   3.695  22.654  1.00  0.00           O  \nATOM     75    O MOL     1       4.935   6.150  22.574  1.00  0.00           O  \nATOM     76    O MOL     1       3.319   5.458  25.262  1.00  0.00           O  \nATOM     77    O MOL     1       4.172  -0.940  -0.253  1.00  0.00           O  \nATOM     78    O MOL     1       5.095  -0.332  -0.797  1.00  0.00           O  \nATOM     79    O MOL     1       7.621   6.547   1.259  1.00  0.00           O  \nATOM     80    O MOL     1       6.959   6.628   0.224  1.00  0.00           O  \nATOM     81    O MOL     1       6.915   2.866  -1.342  1.00  0.00           O  \nATOM     82    O MOL     1       7.426   2.505  -0.282  1.00  0.00           O  \nATOM     83    O MOL     1       7.542  -1.393  -2.846  1.00  0.00           O  \nATOM     84    O MOL     1       8.243  -1.074  -1.886  1.00  0.00           O  \nATOM     85    O MOL     1       2.356  11.183  28.167  1.00  0.00           O  \nATOM     86    O MOL     1       3.272  10.643  28.784  1.00  0.00           O  \nATOM     87    O MOL     1       2.098   6.194  22.633  1.00  0.00           O  \nATOM     88    O MOL     1       3.681   3.823  22.643  1.00  0.00           O  \nATOM     89    O MOL     1       4.844   6.330  30.162  1.00  0.00           O  \nATOM     90    O MOL     1       5.290   5.177  30.101  1.00  0.00           O  \nATOM     91    O MOL     1       7.713   8.007   9.848  1.00  0.00           O  \nATOM     92    O MOL     1       6.277   5.606   9.794  1.00  0.00           O  \nATOM     93    O MOL     1       1.989   3.158   9.747  1.00  0.00           O  \nATOM     94    O MOL     1       3.362   5.655   9.733  1.00  0.00           O  \nATOM     95    O MOL     1       7.756   6.305  22.500  1.00  0.00           O  \nATOM     96    O MOL     1       9.345   3.857  22.787  1.00  0.00           O  \nATOM     97    O MOL     1       3.454   0.700   9.789  1.00  0.00           O  \nATOM     98    O MOL     1       4.883   3.163   9.766  1.00  0.00           O  \nATOM     99    O MOL     1       0.560  10.543   9.740  1.00  0.00           O  \nATOM    100    O MOL     1       4.932   8.151   9.768  1.00  0.00           O  \nATOM    101    O MOL     1      -0.977  12.166  27.561  1.00  0.00           O  \nATOM    102    O MOL     1      -0.271  12.180  26.566  1.00  0.00           O  \nATOM    103    O MOL     1       1.785   5.589  -0.495  1.00  0.00           O  \nATOM    104    O MOL     1       1.101   5.186  -1.441  1.00  0.00           O  \nATOM    105    O MOL     1       4.146   9.887  25.259  1.00  0.00           O  \nATOM    106    O MOL     1       5.218  11.324  22.853  1.00  0.00           O  \nATOM    107    O MOL     1       6.632   8.730  22.619  1.00  0.00           O  \nATOM    108    O MOL     1       3.532   8.835  22.593  1.00  0.00           O  \nATOM    109    O MOL     1       3.860   2.761  31.661  1.00  0.00           O  \nATOM    110    O MOL     1       2.756   2.235  31.815  1.00  0.00           O  \nATOM    111    O MOL     1      -1.064   3.293  25.457  1.00  0.00           O  \nATOM    112    O MOL     1      -0.462   1.485  23.178  1.00  0.00           O  \nENDMDL\n",
           "ext": "pdb"
          }
         ],
         "kwargs": {},
         "methodName": "replaceStructure",
         "reconstruc_color_scheme": false,
         "target": "Widget",
         "type": "call_method"
        },
        {
         "args": [
          "this._Q = [[1.0, 0.0, 0.0], [0.0, 1.0, 0.0], [0.0, 0.0, 1.0]]"
         ],
         "kwargs": {},
         "methodName": "executeCode",
         "reconstruc_color_scheme": false,
         "target": "Widget",
         "type": "call_method"
        },
        {
         "args": [
          {
           "data": "CRYST1    8.591    9.920   31.691  90.00  90.00  90.00 P 1\nMODEL     1\nATOM      1   Al MOL     1       2.187   1.312  10.283  1.00  0.00          AL  \nATOM      2   Al MOL     1       5.284   1.328  10.334  1.00  0.00          AL  \nATOM      3   Al MOL     1       7.827   1.178  10.614  1.00  0.00          AL  \nATOM      4   Al MOL     1       0.752   3.773  10.552  1.00  0.00          AL  \nATOM      5   Al MOL     1       3.673   3.794  10.129  1.00  0.00          AL  \nATOM      6   Al MOL     1       6.595   3.703  10.466  1.00  0.00          AL  \nATOM      7   Al MOL     1       2.289   6.458  10.670  1.00  0.00          AL  \nATOM      8   Al MOL     1       5.187   6.282  10.469  1.00  0.00          AL  \nATOM      9   Al MOL     1       8.096   6.160  10.535  1.00  0.00          AL  \nATOM     10   Al MOL     1       0.852   8.710  10.561  1.00  0.00          AL  \nATOM     11   Al MOL     1       3.672   8.848  10.551  1.00  0.00          AL  \nATOM     12   Al MOL     1       6.533   8.794  10.482  1.00  0.00          AL  \nATOM     13   Al MOL     1       0.652   2.077  12.908  1.00  0.00          AL  \nATOM     14   Al MOL     1       3.475   2.095  12.628  1.00  0.00          AL  \nATOM     15   Al MOL     1       6.527   2.209  12.846  1.00  0.00          AL  \nATOM     16   Al MOL     1       2.032   4.555  12.931  1.00  0.00          AL  \nATOM     17   Al MOL     1       4.942   4.385  12.700  1.00  0.00          AL  \nATOM     18   Al MOL     1       7.890   4.628  12.928  1.00  0.00          AL  \nATOM     19   Al MOL     1       0.770   6.996  12.833  1.00  0.00          AL  \nATOM     20   Al MOL     1       3.666   7.131  12.804  1.00  0.00          AL  \nATOM     21   Al MOL     1       6.372   7.139  12.845  1.00  0.00          AL  \nATOM     22   Al MOL     1       2.271   9.703  12.793  1.00  0.00          AL  \nATOM     23   Al MOL     1       5.011   9.559  12.804  1.00  0.00          AL  \nATOM     24   Al MOL     1       7.991   9.563  12.948  1.00  0.00          AL  \nATOM     25   Al MOL     1       0.804   0.495  15.170  1.00  0.00          AL  \nATOM     26   Al MOL     1       3.507   0.492  15.206  1.00  0.00          AL  \nATOM     27   Al MOL     1       6.362   0.413  15.064  1.00  0.00          AL  \nATOM     28   Al MOL     1       1.990   3.002  15.193  1.00  0.00          AL  \nATOM     29   Al MOL     1       4.939   2.958  15.059  1.00  0.00          AL  \nATOM     30   Al MOL     1       7.757   3.012  15.218  1.00  0.00          AL  \nATOM     31   Al MOL     1       0.739   5.536  15.192  1.00  0.00          AL  \nATOM     32   Al MOL     1       3.553   5.302  14.960  1.00  0.00          AL  \nATOM     33   Al MOL     1       6.307   5.441  15.268  1.00  0.00          AL  \nATOM     34   Al MOL     1       2.039   7.937  14.973  1.00  0.00          AL  \nATOM     35   Al MOL     1       4.883   7.841  15.144  1.00  0.00          AL  \nATOM     36   Al MOL     1       7.837   7.865  15.079  1.00  0.00          AL  \nATOM     37   Al MOL     1       2.053   1.270  17.488  1.00  0.00          AL  \nATOM     38   Al MOL     1       4.984   1.247  17.427  1.00  0.00          AL  \nATOM     39   Al MOL     1       7.732   1.250  17.334  1.00  0.00          AL  \nATOM     40   Al MOL     1       0.547   3.729  17.439  1.00  0.00          AL  \nATOM     41   Al MOL     1       3.443   3.699  17.479  1.00  0.00          AL  \nATOM     42   Al MOL     1       6.337   3.704  17.436  1.00  0.00          AL  \nATOM     43   Al MOL     1       1.953   6.195  17.410  1.00  0.00          AL  \nATOM     44   Al MOL     1       4.805   6.257  17.340  1.00  0.00          AL  \nATOM     45   Al MOL     1       7.937   6.223  17.411  1.00  0.00          AL  \nATOM     46   Al MOL     1       0.740   8.865  17.336  1.00  0.00          AL  \nATOM     47   Al MOL     1       3.653   8.620  17.320  1.00  0.00          AL  \nATOM     48   Al MOL     1       6.407   8.745  17.335  1.00  0.00          AL  \nATOM     49   Al MOL     1       0.450   2.316  19.817  1.00  0.00          AL  \nATOM     50   Al MOL     1       3.335   2.125  19.646  1.00  0.00          AL  \nATOM     51   Al MOL     1       6.088   2.099  19.935  1.00  0.00          AL  \nATOM     52   Al MOL     1       1.708   4.820  19.673  1.00  0.00          AL  \nATOM     53   Al MOL     1       4.768   4.656  19.544  1.00  0.00          AL  \nATOM     54   Al MOL     1       7.477   4.654  19.693  1.00  0.00          AL  \nATOM     55   Al MOL     1       0.390   7.416  19.624  1.00  0.00          AL  \nATOM     56   Al MOL     1       3.524   7.195  19.640  1.00  0.00          AL  \nATOM     57   Al MOL     1       6.208   7.181  19.622  1.00  0.00          AL  \nATOM     58   Al MOL     1       1.947   9.678  19.694  1.00  0.00          AL  \nATOM     59   Al MOL     1       4.881   9.473  19.635  1.00  0.00          AL  \nATOM     60   Al MOL     1       7.704   9.748  19.786  1.00  0.00          AL  \nATOM     61   Al MOL     1       0.418   0.646  22.090  1.00  0.00          AL  \nATOM     62   Al MOL     1       3.172   0.469  23.754  1.00  0.00          AL  \nATOM     63   Al MOL     1       6.151   0.693  22.354  1.00  0.00          AL  \nATOM     64   Al MOL     1       1.829   3.047  21.924  1.00  0.00          AL  \nATOM     65   Al MOL     1       4.696   3.140  22.146  1.00  0.00          AL  \nATOM     66   Al MOL     1       7.578   3.127  23.639  1.00  0.00          AL  \nATOM     67   Al MOL     1       0.473   5.567  21.987  1.00  0.00          AL  \nATOM     68   Al MOL     1       3.236   5.673  23.550  1.00  0.00          AL  \nATOM     69   Al MOL     1       6.169   5.622  22.107  1.00  0.00          AL  \nATOM     70   Al MOL     1       1.979   7.990  21.785  1.00  0.00          AL  \nATOM     71   Al MOL     1       4.863   8.069  22.173  1.00  0.00          AL  \nATOM     72   Al MOL     1       7.898   8.234  22.090  1.00  0.00          AL  \nATOM     73    O MOL     1      10.483   1.476  22.735  1.00  0.00           O  \nATOM     74    O MOL     1       6.116   3.923  22.973  1.00  0.00           O  \nATOM     75    O MOL     1       4.774   6.488  22.941  1.00  0.00           O  \nATOM     76    O MOL     1       3.044   5.313  25.136  1.00  0.00           O  \nATOM     77    O MOL     1       5.273  -0.668   0.332  1.00  0.00           O  \nATOM     78    O MOL     1       6.008  -0.558  -0.655  1.00  0.00           O  \nATOM     79    O MOL     1       8.536   7.686   1.410  1.00  0.00           O  \nATOM     80    O MOL     1       7.829   6.699   1.187  1.00  0.00           O  \nATOM     81    O MOL     1       7.627   2.630  -1.282  1.00  0.00           O  \nATOM     82    O MOL     1       7.170   2.684  -0.140  1.00  0.00           O  \nATOM     83    O MOL     1       8.338  -1.983  -2.437  1.00  0.00           O  \nATOM     84    O MOL     1       8.822  -1.570  -1.385  1.00  0.00           O  \nATOM     85    O MOL     1       3.140  10.727  29.750  1.00  0.00           O  \nATOM     86    O MOL     1       2.007  10.658  29.260  1.00  0.00           O  \nATOM     87    O MOL     1       1.860   6.441  22.726  1.00  0.00           O  \nATOM     88    O MOL     1       3.364   4.085  22.633  1.00  0.00           O  \nATOM     89    O MOL     1       3.726   7.202  29.779  1.00  0.00           O  \nATOM     90    O MOL     1       4.694   6.589  30.224  1.00  0.00           O  \nATOM     91    O MOL     1       7.987   7.855   9.780  1.00  0.00           O  \nATOM     92    O MOL     1       6.601   5.411   9.794  1.00  0.00           O  \nATOM     93    O MOL     1       2.198   3.013   9.552  1.00  0.00           O  \nATOM     94    O MOL     1       3.680   5.532   9.784  1.00  0.00           O  \nATOM     95    O MOL     1       7.668   6.479  22.683  1.00  0.00           O  \nATOM     96    O MOL     1       9.007   3.948  22.821  1.00  0.00           O  \nATOM     97    O MOL     1       3.697   0.541   9.671  1.00  0.00           O  \nATOM     98    O MOL     1       5.150   3.026   9.455  1.00  0.00           O  \nATOM     99    O MOL     1       0.709  10.398   9.723  1.00  0.00           O  \nATOM    100    O MOL     1       5.072   7.940   9.713  1.00  0.00           O  \nATOM    101    O MOL     1       1.538  12.702  26.804  1.00  0.00           O  \nATOM    102    O MOL     1       1.181  12.488  25.657  1.00  0.00           O  \nATOM    103    O MOL     1       1.745   4.968  -0.346  1.00  0.00           O  \nATOM    104    O MOL     1       0.770   5.237  -1.058  1.00  0.00           O  \nATOM    105    O MOL     1       2.667  10.486  25.388  1.00  0.00           O  \nATOM    106    O MOL     1       4.527  11.307  23.000  1.00  0.00           O  \nATOM    107    O MOL     1       6.281   8.851  22.562  1.00  0.00           O  \nATOM    108    O MOL     1       3.396   8.944  22.755  1.00  0.00           O  \nATOM    109    O MOL     1       3.675   2.669  31.790  1.00  0.00           O  \nATOM    110    O MOL     1       2.976   2.158  32.670  1.00  0.00           O  \nATOM    111    O MOL     1      -0.746   3.121  25.255  1.00  0.00           O  \nATOM    112    O MOL     1      -0.933   1.512  22.935  1.00  0.00           O  \nENDMDL\n",
           "ext": "pdb"
          }
         ],
         "kwargs": {},
         "methodName": "replaceStructure",
         "reconstruc_color_scheme": false,
         "target": "Widget",
         "type": "call_method"
        },
        {
         "args": [
          "this._Q = [[1.0, 0.0, 0.0], [0.0, 1.0, 0.0], [0.0, 0.0, 1.0]]"
         ],
         "kwargs": {},
         "methodName": "executeCode",
         "reconstruc_color_scheme": false,
         "target": "Widget",
         "type": "call_method"
        },
        {
         "args": [
          {
           "data": "CRYST1    8.591    9.920   31.691  90.00  90.00  90.00 P 1\nMODEL     1\nATOM      1   Al MOL     1       1.834   1.257  10.438  1.00  0.00          AL  \nATOM      2   Al MOL     1       4.819   1.304  10.432  1.00  0.00          AL  \nATOM      3   Al MOL     1       7.540   1.383  10.420  1.00  0.00          AL  \nATOM      4   Al MOL     1       0.305   3.881  10.433  1.00  0.00          AL  \nATOM      5   Al MOL     1       3.248   3.850  10.338  1.00  0.00          AL  \nATOM      6   Al MOL     1       6.267   3.802  10.313  1.00  0.00          AL  \nATOM      7   Al MOL     1       1.853   6.378  10.538  1.00  0.00          AL  \nATOM      8   Al MOL     1       4.656   6.379  10.185  1.00  0.00          AL  \nATOM      9   Al MOL     1       7.756   6.262  10.239  1.00  0.00          AL  \nATOM     10   Al MOL     1       0.456   8.718  10.487  1.00  0.00          AL  \nATOM     11   Al MOL     1       3.182   8.780  10.272  1.00  0.00          AL  \nATOM     12   Al MOL     1       6.169   8.897  10.356  1.00  0.00          AL  \nATOM     13   Al MOL     1       0.467   2.053  12.720  1.00  0.00          AL  \nATOM     14   Al MOL     1       3.433   2.093  12.733  1.00  0.00          AL  \nATOM     15   Al MOL     1       6.376   2.373  12.795  1.00  0.00          AL  \nATOM     16   Al MOL     1       2.056   4.415  12.779  1.00  0.00          AL  \nATOM     17   Al MOL     1       4.815   4.714  12.661  1.00  0.00          AL  \nATOM     18   Al MOL     1       7.777   4.571  12.757  1.00  0.00          AL  \nATOM     19   Al MOL     1       0.558   7.028  12.759  1.00  0.00          AL  \nATOM     20   Al MOL     1       3.553   7.071  12.802  1.00  0.00          AL  \nATOM     21   Al MOL     1       6.215   7.224  12.686  1.00  0.00          AL  \nATOM     22   Al MOL     1       1.734   9.428  12.791  1.00  0.00          AL  \nATOM     23   Al MOL     1       4.637   9.489  12.638  1.00  0.00          AL  \nATOM     24   Al MOL     1       7.493   9.614  12.768  1.00  0.00          AL  \nATOM     25   Al MOL     1       0.507   0.557  15.089  1.00  0.00          AL  \nATOM     26   Al MOL     1       3.503   0.418  14.986  1.00  0.00          AL  \nATOM     27   Al MOL     1       6.279   0.491  15.002  1.00  0.00          AL  \nATOM     28   Al MOL     1       2.066   3.038  15.189  1.00  0.00          AL  \nATOM     29   Al MOL     1       4.941   2.867  15.081  1.00  0.00          AL  \nATOM     30   Al MOL     1       7.783   3.097  15.034  1.00  0.00          AL  \nATOM     31   Al MOL     1       0.508   5.407  15.033  1.00  0.00          AL  \nATOM     32   Al MOL     1       3.359   5.432  15.246  1.00  0.00          AL  \nATOM     33   Al MOL     1       6.193   5.408  14.944  1.00  0.00          AL  \nATOM     34   Al MOL     1       1.856   7.820  15.052  1.00  0.00          AL  \nATOM     35   Al MOL     1       4.803   7.918  15.074  1.00  0.00          AL  \nATOM     36   Al MOL     1       7.584   7.920  14.946  1.00  0.00          AL  \nATOM     37   Al MOL     1       2.008   1.281  17.435  1.00  0.00          AL  \nATOM     38   Al MOL     1       4.940   1.298  17.457  1.00  0.00          AL  \nATOM     39   Al MOL     1       7.608   1.384  17.388  1.00  0.00          AL  \nATOM     40   Al MOL     1       0.541   3.738  17.358  1.00  0.00          AL  \nATOM     41   Al MOL     1       3.595   3.629  17.550  1.00  0.00          AL  \nATOM     42   Al MOL     1       6.387   3.849  17.452  1.00  0.00          AL  \nATOM     43   Al MOL     1       1.965   6.335  17.383  1.00  0.00          AL  \nATOM     44   Al MOL     1       4.917   6.298  17.272  1.00  0.00          AL  \nATOM     45   Al MOL     1       7.756   6.281  17.316  1.00  0.00          AL  \nATOM     46   Al MOL     1       0.534   8.871  17.343  1.00  0.00          AL  \nATOM     47   Al MOL     1       3.292   8.787  17.285  1.00  0.00          AL  \nATOM     48   Al MOL     1       6.140   8.797  17.421  1.00  0.00          AL  \nATOM     49   Al MOL     1       0.515   2.050  19.523  1.00  0.00          AL  \nATOM     50   Al MOL     1       3.542   1.999  19.744  1.00  0.00          AL  \nATOM     51   Al MOL     1       6.544   2.072  19.719  1.00  0.00          AL  \nATOM     52   Al MOL     1       2.113   4.603  19.661  1.00  0.00          AL  \nATOM     53   Al MOL     1       4.966   4.559  19.756  1.00  0.00          AL  \nATOM     54   Al MOL     1       8.071   4.625  19.688  1.00  0.00          AL  \nATOM     55   Al MOL     1       0.632   7.166  19.632  1.00  0.00          AL  \nATOM     56   Al MOL     1       3.593   7.130  19.370  1.00  0.00          AL  \nATOM     57   Al MOL     1       6.320   7.088  19.740  1.00  0.00          AL  \nATOM     58   Al MOL     1       1.945   9.628  19.617  1.00  0.00          AL  \nATOM     59   Al MOL     1       4.949   9.694  19.745  1.00  0.00          AL  \nATOM     60   Al MOL     1       7.834   9.553  19.652  1.00  0.00          AL  \nATOM     61   Al MOL     1       0.796   0.381  22.129  1.00  0.00          AL  \nATOM     62   Al MOL     1       3.469   0.500  23.451  1.00  0.00          AL  \nATOM     63   Al MOL     1       6.428   0.632  22.043  1.00  0.00          AL  \nATOM     64   Al MOL     1       2.109   2.975  21.918  1.00  0.00          AL  \nATOM     65   Al MOL     1       4.960   3.055  21.991  1.00  0.00          AL  \nATOM     66   Al MOL     1       7.881   3.004  23.582  1.00  0.00          AL  \nATOM     67   Al MOL     1       0.832   5.392  22.027  1.00  0.00          AL  \nATOM     68   Al MOL     1       3.433   5.475  23.576  1.00  0.00          AL  \nATOM     69   Al MOL     1       6.355   5.387  21.977  1.00  0.00          AL  \nATOM     70   Al MOL     1       2.243   7.890  21.630  1.00  0.00          AL  \nATOM     71   Al MOL     1       5.126   7.835  22.088  1.00  0.00          AL  \nATOM     72   Al MOL     1       8.028   8.058  21.917  1.00  0.00          AL  \nATOM     73    O MOL     1      10.664   1.426  22.939  1.00  0.00           O  \nATOM     74    O MOL     1       6.425   3.796  22.701  1.00  0.00           O  \nATOM     75    O MOL     1       4.992   6.233  22.670  1.00  0.00           O  \nATOM     76    O MOL     1       3.364   5.356  25.273  1.00  0.00           O  \nATOM     77    O MOL     1       6.330  -0.063   0.841  1.00  0.00           O  \nATOM     78    O MOL     1       5.552  -0.414  -0.051  1.00  0.00           O  \nATOM     79    O MOL     1       8.719   8.502   2.751  1.00  0.00           O  \nATOM     80    O MOL     1       7.819   7.720   2.437  1.00  0.00           O  \nATOM     81    O MOL     1       8.808   1.603  -0.583  1.00  0.00           O  \nATOM     82    O MOL     1       7.974   1.835  -1.462  1.00  0.00           O  \nATOM     83    O MOL     1       9.186  -1.465  -1.966  1.00  0.00           O  \nATOM     84    O MOL     1       8.769  -1.782  -0.847  1.00  0.00           O  \nATOM     85    O MOL     1       2.938  10.696  31.284  1.00  0.00           O  \nATOM     86    O MOL     1       3.382  11.109  30.214  1.00  0.00           O  \nATOM     87    O MOL     1       2.085   6.403  22.714  1.00  0.00           O  \nATOM     88    O MOL     1       3.466   3.912  22.641  1.00  0.00           O  \nATOM     89    O MOL     1       4.238   6.796  30.450  1.00  0.00           O  \nATOM     90    O MOL     1       3.762   6.316  31.486  1.00  0.00           O  \nATOM     91    O MOL     1       7.599   8.003   9.630  1.00  0.00           O  \nATOM     92    O MOL     1       6.180   5.532   9.566  1.00  0.00           O  \nATOM     93    O MOL     1       1.795   2.972   9.808  1.00  0.00           O  \nATOM     94    O MOL     1       3.169   5.485   9.609  1.00  0.00           O  \nATOM     95    O MOL     1       7.830   6.235  22.523  1.00  0.00           O  \nATOM     96    O MOL     1       9.276   3.832  22.660  1.00  0.00           O  \nATOM     97    O MOL     1       3.283   0.556   9.580  1.00  0.00           O  \nATOM     98    O MOL     1       4.748   3.025   9.644  1.00  0.00           O  \nATOM     99    O MOL     1       0.371  10.384   9.659  1.00  0.00           O  \nATOM    100    O MOL     1       4.713   8.033   9.577  1.00  0.00           O  \nATOM    101    O MOL     1       1.991  14.295  25.922  1.00  0.00           O  \nATOM    102    O MOL     1       1.448  13.334  25.362  1.00  0.00           O  \nATOM    103    O MOL     1       1.175   4.846  -0.239  1.00  0.00           O  \nATOM    104    O MOL     1       1.208   4.779  -1.473  1.00  0.00           O  \nATOM    105    O MOL     1       3.302   9.879  24.983  1.00  0.00           O  \nATOM    106    O MOL     1       5.065  11.341  22.834  1.00  0.00           O  \nATOM    107    O MOL     1       6.424   8.855  22.635  1.00  0.00           O  \nATOM    108    O MOL     1       3.626   8.845  22.310  1.00  0.00           O  \nATOM    109    O MOL     1       4.270   3.013  33.450  1.00  0.00           O  \nATOM    110    O MOL     1       3.423   2.903  34.340  1.00  0.00           O  \nATOM    111    O MOL     1      -0.611   3.579  25.116  1.00  0.00           O  \nATOM    112    O MOL     1      -0.605   1.201  22.937  1.00  0.00           O  \nENDMDL\n",
           "ext": "pdb"
          }
         ],
         "kwargs": {},
         "methodName": "replaceStructure",
         "reconstruc_color_scheme": false,
         "target": "Widget",
         "type": "call_method"
        },
        {
         "args": [
          "this._Q = [[1.0, 0.0, 0.0], [0.0, 1.0, 0.0], [0.0, 0.0, 1.0]]"
         ],
         "kwargs": {},
         "methodName": "executeCode",
         "reconstruc_color_scheme": false,
         "target": "Widget",
         "type": "call_method"
        },
        {
         "args": [
          {
           "data": "CRYST1    8.591    9.920   31.691  90.00  90.00  90.00 P 1\nMODEL     1\nATOM      1   Al MOL     1       1.775   1.285   9.906  1.00  0.00          AL  \nATOM      2   Al MOL     1       4.809   1.295   9.777  1.00  0.00          AL  \nATOM      3   Al MOL     1       7.417   1.300  10.176  1.00  0.00          AL  \nATOM      4   Al MOL     1       0.329   3.744  10.278  1.00  0.00          AL  \nATOM      5   Al MOL     1       3.149   3.789   9.906  1.00  0.00          AL  \nATOM      6   Al MOL     1       6.326   3.798  10.044  1.00  0.00          AL  \nATOM      7   Al MOL     1       1.615   6.184  10.295  1.00  0.00          AL  \nATOM      8   Al MOL     1       4.612   6.244   9.985  1.00  0.00          AL  \nATOM      9   Al MOL     1       7.438   6.290  10.367  1.00  0.00          AL  \nATOM     10   Al MOL     1       0.452   8.629   9.941  1.00  0.00          AL  \nATOM     11   Al MOL     1       3.090   8.847  10.133  1.00  0.00          AL  \nATOM     12   Al MOL     1       5.936   8.895  10.100  1.00  0.00          AL  \nATOM     13   Al MOL     1       0.349   2.137  12.378  1.00  0.00          AL  \nATOM     14   Al MOL     1       3.414   2.225  12.521  1.00  0.00          AL  \nATOM     15   Al MOL     1       6.189   1.972  12.654  1.00  0.00          AL  \nATOM     16   Al MOL     1       1.788   4.573  12.515  1.00  0.00          AL  \nATOM     17   Al MOL     1       4.505   4.716  12.441  1.00  0.00          AL  \nATOM     18   Al MOL     1       7.414   4.717  12.430  1.00  0.00          AL  \nATOM     19   Al MOL     1       0.377   7.122  12.551  1.00  0.00          AL  \nATOM     20   Al MOL     1       3.087   7.128  12.274  1.00  0.00          AL  \nATOM     21   Al MOL     1       6.009   7.172  12.550  1.00  0.00          AL  \nATOM     22   Al MOL     1       1.792   9.616  12.370  1.00  0.00          AL  \nATOM     23   Al MOL     1       4.647   9.593  12.550  1.00  0.00          AL  \nATOM     24   Al MOL     1       7.567   9.570  12.496  1.00  0.00          AL  \nATOM     25   Al MOL     1       0.325   0.449  14.659  1.00  0.00          AL  \nATOM     26   Al MOL     1       3.377   0.320  14.893  1.00  0.00          AL  \nATOM     27   Al MOL     1       6.102   0.288  14.766  1.00  0.00          AL  \nATOM     28   Al MOL     1       1.975   2.901  14.682  1.00  0.00          AL  \nATOM     29   Al MOL     1       4.824   2.873  14.909  1.00  0.00          AL  \nATOM     30   Al MOL     1       7.817   2.965  14.694  1.00  0.00          AL  \nATOM     31   Al MOL     1       0.378   5.245  14.897  1.00  0.00          AL  \nATOM     32   Al MOL     1       3.323   5.391  14.817  1.00  0.00          AL  \nATOM     33   Al MOL     1       6.185   5.297  14.743  1.00  0.00          AL  \nATOM     34   Al MOL     1       1.784   7.979  14.764  1.00  0.00          AL  \nATOM     35   Al MOL     1       4.750   7.692  14.792  1.00  0.00          AL  \nATOM     36   Al MOL     1       7.516   7.725  14.785  1.00  0.00          AL  \nATOM     37   Al MOL     1       1.914   1.303  17.081  1.00  0.00          AL  \nATOM     38   Al MOL     1       4.759   1.170  17.057  1.00  0.00          AL  \nATOM     39   Al MOL     1       7.599   1.454  16.884  1.00  0.00          AL  \nATOM     40   Al MOL     1       0.526   3.834  17.142  1.00  0.00          AL  \nATOM     41   Al MOL     1       3.490   3.719  17.184  1.00  0.00          AL  \nATOM     42   Al MOL     1       6.333   3.606  17.090  1.00  0.00          AL  \nATOM     43   Al MOL     1       1.866   6.395  17.147  1.00  0.00          AL  \nATOM     44   Al MOL     1       4.645   6.264  17.080  1.00  0.00          AL  \nATOM     45   Al MOL     1       7.576   6.159  17.074  1.00  0.00          AL  \nATOM     46   Al MOL     1       0.525   8.674  17.178  1.00  0.00          AL  \nATOM     47   Al MOL     1       3.411   8.709  17.236  1.00  0.00          AL  \nATOM     48   Al MOL     1       6.192   8.540  17.188  1.00  0.00          AL  \nATOM     49   Al MOL     1       0.596   2.166  19.376  1.00  0.00          AL  \nATOM     50   Al MOL     1       3.430   2.196  19.385  1.00  0.00          AL  \nATOM     51   Al MOL     1       6.439   2.178  19.345  1.00  0.00          AL  \nATOM     52   Al MOL     1       2.017   4.551  19.277  1.00  0.00          AL  \nATOM     53   Al MOL     1       4.805   4.754  19.314  1.00  0.00          AL  \nATOM     54   Al MOL     1       7.718   4.678  19.457  1.00  0.00          AL  \nATOM     55   Al MOL     1       0.643   7.109  19.343  1.00  0.00          AL  \nATOM     56   Al MOL     1       3.533   7.132  19.505  1.00  0.00          AL  \nATOM     57   Al MOL     1       6.276   7.123  19.496  1.00  0.00          AL  \nATOM     58   Al MOL     1       2.039   9.641  19.457  1.00  0.00          AL  \nATOM     59   Al MOL     1       4.920   9.565  19.567  1.00  0.00          AL  \nATOM     60   Al MOL     1       7.729   9.643  19.368  1.00  0.00          AL  \nATOM     61   Al MOL     1       0.699   0.576  21.906  1.00  0.00          AL  \nATOM     62   Al MOL     1       3.408   0.731  23.535  1.00  0.00          AL  \nATOM     63   Al MOL     1       6.360   0.601  22.006  1.00  0.00          AL  \nATOM     64   Al MOL     1       2.194   2.891  21.658  1.00  0.00          AL  \nATOM     65   Al MOL     1       4.980   2.921  21.634  1.00  0.00          AL  \nATOM     66   Al MOL     1       7.928   3.272  23.188  1.00  0.00          AL  \nATOM     67   Al MOL     1       0.708   5.547  21.719  1.00  0.00          AL  \nATOM     68   Al MOL     1       3.376   5.262  23.323  1.00  0.00          AL  \nATOM     69   Al MOL     1       6.221   5.541  21.883  1.00  0.00          AL  \nATOM     70   Al MOL     1       1.966   7.963  22.014  1.00  0.00          AL  \nATOM     71   Al MOL     1       4.726   7.963  21.935  1.00  0.00          AL  \nATOM     72   Al MOL     1       7.833   8.040  21.726  1.00  0.00          AL  \nATOM     73    O MOL     1      10.680   1.335  22.500  1.00  0.00           O  \nATOM     74    O MOL     1       6.267   3.790  22.409  1.00  0.00           O  \nATOM     75    O MOL     1       4.878   6.343  22.766  1.00  0.00           O  \nATOM     76    O MOL     1       2.974   4.854  24.916  1.00  0.00           O  \nATOM     77    O MOL     1       7.135   0.440   2.366  1.00  0.00           O  \nATOM     78    O MOL     1       7.209  -0.587   1.686  1.00  0.00           O  \nATOM     79    O MOL     1       7.424   7.730   5.291  1.00  0.00           O  \nATOM     80    O MOL     1       8.030   6.976   4.523  1.00  0.00           O  \nATOM     81    O MOL     1       9.419   1.973   0.198  1.00  0.00           O  \nATOM     82    O MOL     1      10.138   1.194  -0.433  1.00  0.00           O  \nATOM     83    O MOL     1      10.178  -1.358   2.470  1.00  0.00           O  \nATOM     84    O MOL     1      10.352  -2.042   1.461  1.00  0.00           O  \nATOM     85    O MOL     1       3.127  10.848  35.320  1.00  0.00           O  \nATOM     86    O MOL     1       3.210  11.385  34.213  1.00  0.00           O  \nATOM     87    O MOL     1       2.018   6.300  22.655  1.00  0.00           O  \nATOM     88    O MOL     1       3.570   3.823  22.319  1.00  0.00           O  \nATOM     89    O MOL     1       4.574   7.775  35.468  1.00  0.00           O  \nATOM     90    O MOL     1       4.565   6.784  36.197  1.00  0.00           O  \nATOM     91    O MOL     1       7.392   7.946   9.507  1.00  0.00           O  \nATOM     92    O MOL     1       6.123   5.529   9.315  1.00  0.00           O  \nATOM     93    O MOL     1       1.687   3.019   9.265  1.00  0.00           O  \nATOM     94    O MOL     1       3.137   5.476   9.263  1.00  0.00           O  \nATOM     95    O MOL     1       7.890   6.279  22.539  1.00  0.00           O  \nATOM     96    O MOL     1       9.316   3.755  22.146  1.00  0.00           O  \nATOM     97    O MOL     1       3.264   0.508   9.159  1.00  0.00           O  \nATOM     98    O MOL     1       4.726   3.087   9.343  1.00  0.00           O  \nATOM     99    O MOL     1       0.278  10.394   9.373  1.00  0.00           O  \nATOM    100    O MOL     1       4.549   7.925   9.407  1.00  0.00           O  \nATOM    101    O MOL     1       2.173  13.604  25.598  1.00  0.00           O  \nATOM    102    O MOL     1       1.490  12.832  24.857  1.00  0.00           O  \nATOM    103    O MOL     1       2.335   4.932  -0.194  1.00  0.00           O  \nATOM    104    O MOL     1       1.363   5.436  -0.764  1.00  0.00           O  \nATOM    105    O MOL     1       3.615  10.724  25.212  1.00  0.00           O  \nATOM    106    O MOL     1       4.809  11.265  22.484  1.00  0.00           O  \nATOM    107    O MOL     1       6.362   8.799  22.528  1.00  0.00           O  \nATOM    108    O MOL     1       3.395   8.703  22.561  1.00  0.00           O  \nATOM    109    O MOL     1       5.891   3.382  34.930  1.00  0.00           O  \nATOM    110    O MOL     1       5.817   4.145  33.964  1.00  0.00           O  \nATOM    111    O MOL     1      -0.368   3.467  24.878  1.00  0.00           O  \nATOM    112    O MOL     1      -0.824   1.478  22.676  1.00  0.00           O  \nENDMDL\n",
           "ext": "pdb"
          }
         ],
         "kwargs": {},
         "methodName": "replaceStructure",
         "reconstruc_color_scheme": false,
         "target": "Widget",
         "type": "call_method"
        },
        {
         "args": [
          "this._Q = [[1.0, 0.0, 0.0], [0.0, 1.0, 0.0], [0.0, 0.0, 1.0]]"
         ],
         "kwargs": {},
         "methodName": "executeCode",
         "reconstruc_color_scheme": false,
         "target": "Widget",
         "type": "call_method"
        },
        {
         "args": [
          {
           "data": "CRYST1    8.591    9.920   31.691  90.00  90.00  90.00 P 1\nMODEL     1\nATOM      1   Al MOL     1       1.778   1.192   9.700  1.00  0.00          AL  \nATOM      2   Al MOL     1       4.854   1.378   9.536  1.00  0.00          AL  \nATOM      3   Al MOL     1       7.398   1.536  10.159  1.00  0.00          AL  \nATOM      4   Al MOL     1       0.181   3.707   9.707  1.00  0.00          AL  \nATOM      5   Al MOL     1       3.213   3.665   9.774  1.00  0.00          AL  \nATOM      6   Al MOL     1       6.033   3.893   8.282  1.00  0.00          AL  \nATOM      7   Al MOL     1       1.761   6.213  10.058  1.00  0.00          AL  \nATOM      8   Al MOL     1       4.720   6.289   9.889  1.00  0.00          AL  \nATOM      9   Al MOL     1       7.344   6.345   8.107  1.00  0.00          AL  \nATOM     10   Al MOL     1       0.468   8.711   9.983  1.00  0.00          AL  \nATOM     11   Al MOL     1       3.116   8.824   9.963  1.00  0.00          AL  \nATOM     12   Al MOL     1       6.243   8.807  10.146  1.00  0.00          AL  \nATOM     13   Al MOL     1       0.431   2.144  12.249  1.00  0.00          AL  \nATOM     14   Al MOL     1       3.166   2.125  12.204  1.00  0.00          AL  \nATOM     15   Al MOL     1       5.999   2.043  12.372  1.00  0.00          AL  \nATOM     16   Al MOL     1       1.821   4.660  12.208  1.00  0.00          AL  \nATOM     17   Al MOL     1       4.620   4.646  12.153  1.00  0.00          AL  \nATOM     18   Al MOL     1       7.506   4.588  12.280  1.00  0.00          AL  \nATOM     19   Al MOL     1       0.312   7.056  12.292  1.00  0.00          AL  \nATOM     20   Al MOL     1       3.192   7.158  12.390  1.00  0.00          AL  \nATOM     21   Al MOL     1       5.998   7.020  12.334  1.00  0.00          AL  \nATOM     22   Al MOL     1       1.874   9.576  12.248  1.00  0.00          AL  \nATOM     23   Al MOL     1       4.608   9.644  12.267  1.00  0.00          AL  \nATOM     24   Al MOL     1       7.650   9.385  12.193  1.00  0.00          AL  \nATOM     25   Al MOL     1       0.387   0.402  14.561  1.00  0.00          AL  \nATOM     26   Al MOL     1       3.208   0.361  14.610  1.00  0.00          AL  \nATOM     27   Al MOL     1       6.154   0.490  14.519  1.00  0.00          AL  \nATOM     28   Al MOL     1       1.789   2.899  14.541  1.00  0.00          AL  \nATOM     29   Al MOL     1       4.556   3.076  14.446  1.00  0.00          AL  \nATOM     30   Al MOL     1       7.430   3.041  14.452  1.00  0.00          AL  \nATOM     31   Al MOL     1       0.492   5.392  14.670  1.00  0.00          AL  \nATOM     32   Al MOL     1       3.154   5.333  14.566  1.00  0.00          AL  \nATOM     33   Al MOL     1       6.051   5.444  14.517  1.00  0.00          AL  \nATOM     34   Al MOL     1       1.896   7.759  14.649  1.00  0.00          AL  \nATOM     35   Al MOL     1       4.731   7.834  14.570  1.00  0.00          AL  \nATOM     36   Al MOL     1       7.646   7.776  14.681  1.00  0.00          AL  \nATOM     37   Al MOL     1       1.815   1.386  16.713  1.00  0.00          AL  \nATOM     38   Al MOL     1       4.741   1.299  16.664  1.00  0.00          AL  \nATOM     39   Al MOL     1       7.585   1.335  16.804  1.00  0.00          AL  \nATOM     40   Al MOL     1       0.279   3.761  16.758  1.00  0.00          AL  \nATOM     41   Al MOL     1       3.265   3.835  16.782  1.00  0.00          AL  \nATOM     42   Al MOL     1       6.059   3.765  16.823  1.00  0.00          AL  \nATOM     43   Al MOL     1       1.808   6.293  17.008  1.00  0.00          AL  \nATOM     44   Al MOL     1       4.689   6.265  16.798  1.00  0.00          AL  \nATOM     45   Al MOL     1       7.554   6.133  16.845  1.00  0.00          AL  \nATOM     46   Al MOL     1       0.444   8.742  16.940  1.00  0.00          AL  \nATOM     47   Al MOL     1       3.279   8.687  16.841  1.00  0.00          AL  \nATOM     48   Al MOL     1       6.232   8.727  16.781  1.00  0.00          AL  \nATOM     49   Al MOL     1       0.414   2.048  18.999  1.00  0.00          AL  \nATOM     50   Al MOL     1       3.318   2.163  18.956  1.00  0.00          AL  \nATOM     51   Al MOL     1       6.154   2.155  19.045  1.00  0.00          AL  \nATOM     52   Al MOL     1       1.944   4.547  18.971  1.00  0.00          AL  \nATOM     53   Al MOL     1       4.837   4.674  19.117  1.00  0.00          AL  \nATOM     54   Al MOL     1       7.630   4.540  19.110  1.00  0.00          AL  \nATOM     55   Al MOL     1       0.525   7.044  19.081  1.00  0.00          AL  \nATOM     56   Al MOL     1       3.369   7.127  19.205  1.00  0.00          AL  \nATOM     57   Al MOL     1       6.117   7.044  19.105  1.00  0.00          AL  \nATOM     58   Al MOL     1       1.969   9.566  19.139  1.00  0.00          AL  \nATOM     59   Al MOL     1       4.736   9.679  18.938  1.00  0.00          AL  \nATOM     60   Al MOL     1       7.573   9.573  19.046  1.00  0.00          AL  \nATOM     61   Al MOL     1       0.354   0.427  21.216  1.00  0.00          AL  \nATOM     62   Al MOL     1       3.314   0.627  22.873  1.00  0.00          AL  \nATOM     63   Al MOL     1       6.181   0.468  21.463  1.00  0.00          AL  \nATOM     64   Al MOL     1       1.863   2.876  21.271  1.00  0.00          AL  \nATOM     65   Al MOL     1       4.831   3.027  21.411  1.00  0.00          AL  \nATOM     66   Al MOL     1       7.775   3.000  23.035  1.00  0.00          AL  \nATOM     67   Al MOL     1       0.599   5.440  21.434  1.00  0.00          AL  \nATOM     68   Al MOL     1       3.283   5.248  23.015  1.00  0.00          AL  \nATOM     69   Al MOL     1       6.158   5.484  21.583  1.00  0.00          AL  \nATOM     70   Al MOL     1       1.949   7.987  21.553  1.00  0.00          AL  \nATOM     71   Al MOL     1       4.745   7.823  21.610  1.00  0.00          AL  \nATOM     72   Al MOL     1       7.736   7.940  21.261  1.00  0.00          AL  \nATOM     73    O MOL     1      10.408   1.253  22.018  1.00  0.00           O  \nATOM     74    O MOL     1       6.182   3.845  22.226  1.00  0.00           O  \nATOM     75    O MOL     1       4.757   6.235  22.438  1.00  0.00           O  \nATOM     76    O MOL     1       3.249   4.928  24.692  1.00  0.00           O  \nATOM     77    O MOL     1       7.472   0.425   4.500  1.00  0.00           O  \nATOM     78    O MOL     1       7.395  -0.223   3.449  1.00  0.00           O  \nATOM     79    O MOL     1       8.873   5.375   9.190  1.00  0.00           O  \nATOM     80    O MOL     1       7.206   5.542   6.602  1.00  0.00           O  \nATOM     81    O MOL     1      10.233   2.681   4.649  1.00  0.00           O  \nATOM     82    O MOL     1      10.119   2.458   3.439  1.00  0.00           O  \nATOM     83    O MOL     1      10.647  -0.499   4.457  1.00  0.00           O  \nATOM     84    O MOL     1      11.132  -1.238   3.592  1.00  0.00           O  \nATOM     85    O MOL     1       4.558  11.452  37.627  1.00  0.00           O  \nATOM     86    O MOL     1       4.550  11.335  36.391  1.00  0.00           O  \nATOM     87    O MOL     1       1.994   6.264  22.281  1.00  0.00           O  \nATOM     88    O MOL     1       3.312   3.679  22.047  1.00  0.00           O  \nATOM     89    O MOL     1       4.631   8.176  37.521  1.00  0.00           O  \nATOM     90    O MOL     1       4.232   7.019  37.705  1.00  0.00           O  \nATOM     91    O MOL     1       7.457   8.020   8.980  1.00  0.00           O  \nATOM     92    O MOL     1       6.132   5.462   9.125  1.00  0.00           O  \nATOM     93    O MOL     1       1.619   2.892   9.150  1.00  0.00           O  \nATOM     94    O MOL     1       3.254   5.491   9.323  1.00  0.00           O  \nATOM     95    O MOL     1       7.668   6.228  22.048  1.00  0.00           O  \nATOM     96    O MOL     1       9.132   3.810  21.986  1.00  0.00           O  \nATOM     97    O MOL     1       3.287   0.492   9.008  1.00  0.00           O  \nATOM     98    O MOL     1       4.574   3.006   8.683  1.00  0.00           O  \nATOM     99    O MOL     1       0.058  10.529   9.260  1.00  0.00           O  \nATOM    100    O MOL     1       4.718   8.077   9.463  1.00  0.00           O  \nATOM    101    O MOL     1       2.655  13.326  25.396  1.00  0.00           O  \nATOM    102    O MOL     1       2.162  12.438  24.681  1.00  0.00           O  \nATOM    103    O MOL     1       2.651   5.603   2.826  1.00  0.00           O  \nATOM    104    O MOL     1       1.482   5.900   2.558  1.00  0.00           O  \nATOM    105    O MOL     1       3.228  10.899  24.551  1.00  0.00           O  \nATOM    106    O MOL     1       4.725  11.214  22.004  1.00  0.00           O  \nATOM    107    O MOL     1       6.287   8.720  22.076  1.00  0.00           O  \nATOM    108    O MOL     1       3.420   8.818  22.324  1.00  0.00           O  \nATOM    109    O MOL     1       7.678   3.075  40.318  1.00  0.00           O  \nATOM    110    O MOL     1       6.835   4.210  38.311  1.00  0.00           O  \nATOM    111    O MOL     1      -0.528   3.138  24.663  1.00  0.00           O  \nATOM    112    O MOL     1      -0.985   1.361  22.159  1.00  0.00           O  \nENDMDL\n",
           "ext": "pdb"
          }
         ],
         "kwargs": {},
         "methodName": "replaceStructure",
         "reconstruc_color_scheme": false,
         "target": "Widget",
         "type": "call_method"
        },
        {
         "args": [
          "this._Q = [[1.0, 0.0, 0.0], [0.0, 1.0, 0.0], [0.0, 0.0, 1.0]]"
         ],
         "kwargs": {},
         "methodName": "executeCode",
         "reconstruc_color_scheme": false,
         "target": "Widget",
         "type": "call_method"
        },
        {
         "args": [
          {
           "data": "CRYST1    8.591    9.920   31.691  90.00  90.00  90.00 P 1\nMODEL     1\nATOM      1   Al MOL     1       1.792   1.341   9.809  1.00  0.00          AL  \nATOM      2   Al MOL     1       4.974   1.282   9.624  1.00  0.00          AL  \nATOM      3   Al MOL     1       7.546   1.226   9.865  1.00  0.00          AL  \nATOM      4   Al MOL     1       0.273   3.762   9.558  1.00  0.00          AL  \nATOM      5   Al MOL     1       3.428   3.696   9.718  1.00  0.00          AL  \nATOM      6   Al MOL     1       6.357   4.021   8.061  1.00  0.00          AL  \nATOM      7   Al MOL     1       1.771   6.385  10.075  1.00  0.00          AL  \nATOM      8   Al MOL     1       4.790   6.251   9.868  1.00  0.00          AL  \nATOM      9   Al MOL     1       7.701   6.274   8.427  1.00  0.00          AL  \nATOM     10   Al MOL     1       0.383   8.599   9.950  1.00  0.00          AL  \nATOM     11   Al MOL     1       3.086   8.685   9.974  1.00  0.00          AL  \nATOM     12   Al MOL     1       6.258   8.653   9.939  1.00  0.00          AL  \nATOM     13   Al MOL     1       0.430   2.102  12.110  1.00  0.00          AL  \nATOM     14   Al MOL     1       3.317   2.064  12.109  1.00  0.00          AL  \nATOM     15   Al MOL     1       6.105   2.061  12.076  1.00  0.00          AL  \nATOM     16   Al MOL     1       1.827   4.539  12.229  1.00  0.00          AL  \nATOM     17   Al MOL     1       4.824   4.514  12.085  1.00  0.00          AL  \nATOM     18   Al MOL     1       7.559   4.548  12.087  1.00  0.00          AL  \nATOM     19   Al MOL     1       0.333   7.019  12.203  1.00  0.00          AL  \nATOM     20   Al MOL     1       3.306   6.927  12.207  1.00  0.00          AL  \nATOM     21   Al MOL     1       6.178   7.102  12.188  1.00  0.00          AL  \nATOM     22   Al MOL     1       1.800   9.481  12.226  1.00  0.00          AL  \nATOM     23   Al MOL     1       4.671   9.487  12.314  1.00  0.00          AL  \nATOM     24   Al MOL     1       7.510   9.570  12.206  1.00  0.00          AL  \nATOM     25   Al MOL     1       0.350   0.446  14.333  1.00  0.00          AL  \nATOM     26   Al MOL     1       3.293   0.491  14.526  1.00  0.00          AL  \nATOM     27   Al MOL     1       6.196   0.384  14.452  1.00  0.00          AL  \nATOM     28   Al MOL     1       1.888   2.947  14.450  1.00  0.00          AL  \nATOM     29   Al MOL     1       4.737   2.857  14.572  1.00  0.00          AL  \nATOM     30   Al MOL     1       7.568   2.903  14.390  1.00  0.00          AL  \nATOM     31   Al MOL     1       0.373   5.310  14.432  1.00  0.00          AL  \nATOM     32   Al MOL     1       3.364   5.365  14.361  1.00  0.00          AL  \nATOM     33   Al MOL     1       6.171   5.379  14.446  1.00  0.00          AL  \nATOM     34   Al MOL     1       1.923   7.894  14.547  1.00  0.00          AL  \nATOM     35   Al MOL     1       4.819   7.890  14.546  1.00  0.00          AL  \nATOM     36   Al MOL     1       7.549   7.951  14.430  1.00  0.00          AL  \nATOM     37   Al MOL     1       1.767   1.346  16.746  1.00  0.00          AL  \nATOM     38   Al MOL     1       4.820   1.259  16.786  1.00  0.00          AL  \nATOM     39   Al MOL     1       7.552   1.292  16.629  1.00  0.00          AL  \nATOM     40   Al MOL     1       0.458   3.900  16.717  1.00  0.00          AL  \nATOM     41   Al MOL     1       3.357   3.848  16.716  1.00  0.00          AL  \nATOM     42   Al MOL     1       6.219   3.917  16.773  1.00  0.00          AL  \nATOM     43   Al MOL     1       1.863   6.251  16.662  1.00  0.00          AL  \nATOM     44   Al MOL     1       4.725   6.265  16.768  1.00  0.00          AL  \nATOM     45   Al MOL     1       7.645   6.407  16.853  1.00  0.00          AL  \nATOM     46   Al MOL     1       0.474   8.788  16.732  1.00  0.00          AL  \nATOM     47   Al MOL     1       3.302   8.699  16.795  1.00  0.00          AL  \nATOM     48   Al MOL     1       6.354   8.729  16.883  1.00  0.00          AL  \nATOM     49   Al MOL     1       0.355   2.205  18.873  1.00  0.00          AL  \nATOM     50   Al MOL     1       3.347   2.158  18.980  1.00  0.00          AL  \nATOM     51   Al MOL     1       6.183   2.168  19.108  1.00  0.00          AL  \nATOM     52   Al MOL     1       1.872   4.644  19.021  1.00  0.00          AL  \nATOM     53   Al MOL     1       4.691   4.715  19.165  1.00  0.00          AL  \nATOM     54   Al MOL     1       7.589   4.599  19.078  1.00  0.00          AL  \nATOM     55   Al MOL     1       0.358   7.113  19.184  1.00  0.00          AL  \nATOM     56   Al MOL     1       3.223   7.170  19.036  1.00  0.00          AL  \nATOM     57   Al MOL     1       6.102   7.210  19.140  1.00  0.00          AL  \nATOM     58   Al MOL     1       1.928   9.640  19.086  1.00  0.00          AL  \nATOM     59   Al MOL     1       4.706   9.565  19.070  1.00  0.00          AL  \nATOM     60   Al MOL     1       7.554   9.594  19.102  1.00  0.00          AL  \nATOM     61   Al MOL     1       0.365   0.356  21.339  1.00  0.00          AL  \nATOM     62   Al MOL     1       3.156   0.599  22.919  1.00  0.00          AL  \nATOM     63   Al MOL     1       6.102   0.429  21.451  1.00  0.00          AL  \nATOM     64   Al MOL     1       1.841   2.928  21.247  1.00  0.00          AL  \nATOM     65   Al MOL     1       4.709   2.941  21.481  1.00  0.00          AL  \nATOM     66   Al MOL     1       7.654   2.826  22.857  1.00  0.00          AL  \nATOM     67   Al MOL     1       0.368   5.444  21.374  1.00  0.00          AL  \nATOM     68   Al MOL     1       3.034   5.280  22.974  1.00  0.00          AL  \nATOM     69   Al MOL     1       6.021   5.297  21.630  1.00  0.00          AL  \nATOM     70   Al MOL     1       1.841   7.962  21.302  1.00  0.00          AL  \nATOM     71   Al MOL     1       4.548   7.776  21.595  1.00  0.00          AL  \nATOM     72   Al MOL     1       7.600   7.914  21.467  1.00  0.00          AL  \nATOM     73    O MOL     1      10.415   1.327  21.939  1.00  0.00           O  \nATOM     74    O MOL     1       6.108   3.659  22.424  1.00  0.00           O  \nATOM     75    O MOL     1       4.594   6.139  22.379  1.00  0.00           O  \nATOM     76    O MOL     1       2.573   5.094  24.642  1.00  0.00           O  \nATOM     77    O MOL     1       7.622  -0.058   6.041  1.00  0.00           O  \nATOM     78    O MOL     1       7.372   0.032   4.833  1.00  0.00           O  \nATOM     79    O MOL     1       9.024   5.466   9.107  1.00  0.00           O  \nATOM     80    O MOL     1       7.426   5.633   6.889  1.00  0.00           O  \nATOM     81    O MOL     1      10.572   2.798   4.196  1.00  0.00           O  \nATOM     82    O MOL     1       9.465   3.207   3.828  1.00  0.00           O  \nATOM     83    O MOL     1      10.380  -0.594   3.946  1.00  0.00           O  \nATOM     84    O MOL     1      10.876  -0.186   2.888  1.00  0.00           O  \nATOM     85    O MOL     1       4.929  11.116  38.073  1.00  0.00           O  \nATOM     86    O MOL     1       4.544  10.877  36.911  1.00  0.00           O  \nATOM     87    O MOL     1       1.823   6.274  22.097  1.00  0.00           O  \nATOM     88    O MOL     1       3.207   3.677  22.145  1.00  0.00           O  \nATOM     89    O MOL     1       5.067   7.307  38.079  1.00  0.00           O  \nATOM     90    O MOL     1       3.850   7.507  37.963  1.00  0.00           O  \nATOM     91    O MOL     1       7.634   7.970   8.844  1.00  0.00           O  \nATOM     92    O MOL     1       6.397   5.391   9.401  1.00  0.00           O  \nATOM     93    O MOL     1       1.841   3.005   9.023  1.00  0.00           O  \nATOM     94    O MOL     1       3.237   5.428   9.288  1.00  0.00           O  \nATOM     95    O MOL     1       7.528   6.218  22.254  1.00  0.00           O  \nATOM     96    O MOL     1       8.948   3.750  21.901  1.00  0.00           O  \nATOM     97    O MOL     1       3.316   0.528   9.390  1.00  0.00           O  \nATOM     98    O MOL     1       4.822   2.952   8.759  1.00  0.00           O  \nATOM     99    O MOL     1       0.365  10.304   9.272  1.00  0.00           O  \nATOM    100    O MOL     1       4.687   8.012   9.314  1.00  0.00           O  \nATOM    101    O MOL     1       1.810  13.553  25.222  1.00  0.00           O  \nATOM    102    O MOL     1       1.299  12.668  24.488  1.00  0.00           O  \nATOM    103    O MOL     1       2.892   6.241   3.612  1.00  0.00           O  \nATOM    104    O MOL     1       1.775   6.301   4.135  1.00  0.00           O  \nATOM    105    O MOL     1       3.000  10.781  24.593  1.00  0.00           O  \nATOM    106    O MOL     1       4.697  11.247  22.289  1.00  0.00           O  \nATOM    107    O MOL     1       6.026   8.637  22.071  1.00  0.00           O  \nATOM    108    O MOL     1       3.226   8.804  22.130  1.00  0.00           O  \nATOM    109    O MOL     1       7.691   2.892  40.489  1.00  0.00           O  \nATOM    110    O MOL     1       6.824   4.250  38.069  1.00  0.00           O  \nATOM    111    O MOL     1      -0.468   2.877  24.513  1.00  0.00           O  \nATOM    112    O MOL     1      -0.997   1.184  22.243  1.00  0.00           O  \nENDMDL\n",
           "ext": "pdb"
          }
         ],
         "kwargs": {},
         "methodName": "replaceStructure",
         "reconstruc_color_scheme": false,
         "target": "Widget",
         "type": "call_method"
        },
        {
         "args": [
          "this._Q = [[1.0, 0.0, 0.0], [0.0, 1.0, 0.0], [0.0, 0.0, 1.0]]"
         ],
         "kwargs": {},
         "methodName": "executeCode",
         "reconstruc_color_scheme": false,
         "target": "Widget",
         "type": "call_method"
        },
        {
         "args": [
          {
           "data": "CRYST1    8.591    9.920   31.691  90.00  90.00  90.00 P 1\nMODEL     1\nATOM      1   Al MOL     1       2.003   1.256   9.817  1.00  0.00          AL  \nATOM      2   Al MOL     1       5.138   1.213   9.711  1.00  0.00          AL  \nATOM      3   Al MOL     1       7.579   1.233   9.737  1.00  0.00          AL  \nATOM      4   Al MOL     1       0.390   3.635   9.799  1.00  0.00          AL  \nATOM      5   Al MOL     1       3.443   3.668   9.720  1.00  0.00          AL  \nATOM      6   Al MOL     1       6.339   3.858   8.331  1.00  0.00          AL  \nATOM      7   Al MOL     1       1.918   6.186   9.769  1.00  0.00          AL  \nATOM      8   Al MOL     1       4.926   6.148   9.918  1.00  0.00          AL  \nATOM      9   Al MOL     1       7.642   6.225   8.164  1.00  0.00          AL  \nATOM     10   Al MOL     1       0.593   8.537   9.795  1.00  0.00          AL  \nATOM     11   Al MOL     1       3.350   8.713   9.861  1.00  0.00          AL  \nATOM     12   Al MOL     1       6.323   8.740   9.945  1.00  0.00          AL  \nATOM     13   Al MOL     1       0.330   2.225  12.023  1.00  0.00          AL  \nATOM     14   Al MOL     1       3.352   2.209  12.051  1.00  0.00          AL  \nATOM     15   Al MOL     1       6.183   2.263  12.065  1.00  0.00          AL  \nATOM     16   Al MOL     1       1.800   4.629  12.260  1.00  0.00          AL  \nATOM     17   Al MOL     1       4.834   4.605  12.167  1.00  0.00          AL  \nATOM     18   Al MOL     1       7.650   4.665  11.940  1.00  0.00          AL  \nATOM     19   Al MOL     1       0.452   7.154  12.242  1.00  0.00          AL  \nATOM     20   Al MOL     1       3.248   7.133  12.165  1.00  0.00          AL  \nATOM     21   Al MOL     1       6.166   7.044  12.177  1.00  0.00          AL  \nATOM     22   Al MOL     1       1.804   9.660  12.249  1.00  0.00          AL  \nATOM     23   Al MOL     1       4.642   9.603  12.325  1.00  0.00          AL  \nATOM     24   Al MOL     1       7.643   9.678  12.251  1.00  0.00          AL  \nATOM     25   Al MOL     1       0.499   0.491  14.512  1.00  0.00          AL  \nATOM     26   Al MOL     1       3.291   0.499  14.545  1.00  0.00          AL  \nATOM     27   Al MOL     1       6.068   0.528  14.421  1.00  0.00          AL  \nATOM     28   Al MOL     1       1.961   2.827  14.581  1.00  0.00          AL  \nATOM     29   Al MOL     1       4.737   2.934  14.453  1.00  0.00          AL  \nATOM     30   Al MOL     1       7.528   2.978  14.449  1.00  0.00          AL  \nATOM     31   Al MOL     1       0.608   5.546  14.467  1.00  0.00          AL  \nATOM     32   Al MOL     1       3.457   5.498  14.461  1.00  0.00          AL  \nATOM     33   Al MOL     1       6.211   5.404  14.472  1.00  0.00          AL  \nATOM     34   Al MOL     1       1.869   8.006  14.536  1.00  0.00          AL  \nATOM     35   Al MOL     1       4.667   8.004  14.626  1.00  0.00          AL  \nATOM     36   Al MOL     1       7.579   7.952  14.481  1.00  0.00          AL  \nATOM     37   Al MOL     1       1.853   1.267  16.945  1.00  0.00          AL  \nATOM     38   Al MOL     1       4.650   1.203  16.773  1.00  0.00          AL  \nATOM     39   Al MOL     1       7.641   1.268  16.754  1.00  0.00          AL  \nATOM     40   Al MOL     1       0.346   3.822  16.671  1.00  0.00          AL  \nATOM     41   Al MOL     1       3.238   3.779  16.837  1.00  0.00          AL  \nATOM     42   Al MOL     1       6.079   3.799  16.761  1.00  0.00          AL  \nATOM     43   Al MOL     1       1.767   6.258  16.740  1.00  0.00          AL  \nATOM     44   Al MOL     1       4.736   6.239  16.776  1.00  0.00          AL  \nATOM     45   Al MOL     1       7.566   6.335  16.698  1.00  0.00          AL  \nATOM     46   Al MOL     1       0.467   8.746  16.810  1.00  0.00          AL  \nATOM     47   Al MOL     1       3.187   8.676  16.794  1.00  0.00          AL  \nATOM     48   Al MOL     1       6.135   8.666  16.794  1.00  0.00          AL  \nATOM     49   Al MOL     1       0.332   2.009  19.138  1.00  0.00          AL  \nATOM     50   Al MOL     1       3.198   2.000  19.098  1.00  0.00          AL  \nATOM     51   Al MOL     1       6.155   2.050  18.986  1.00  0.00          AL  \nATOM     52   Al MOL     1       1.668   4.384  19.169  1.00  0.00          AL  \nATOM     53   Al MOL     1       4.637   4.411  19.201  1.00  0.00          AL  \nATOM     54   Al MOL     1       7.412   4.528  19.006  1.00  0.00          AL  \nATOM     55   Al MOL     1       0.242   7.033  19.020  1.00  0.00          AL  \nATOM     56   Al MOL     1       3.319   6.929  19.041  1.00  0.00          AL  \nATOM     57   Al MOL     1       6.009   6.857  19.138  1.00  0.00          AL  \nATOM     58   Al MOL     1       1.826   9.399  18.954  1.00  0.00          AL  \nATOM     59   Al MOL     1       4.630   9.567  18.991  1.00  0.00          AL  \nATOM     60   Al MOL     1       7.523   9.487  19.004  1.00  0.00          AL  \nATOM     61   Al MOL     1       0.307   0.507  21.299  1.00  0.00          AL  \nATOM     62   Al MOL     1       3.180   0.487  22.976  1.00  0.00          AL  \nATOM     63   Al MOL     1       6.069   0.551  21.470  1.00  0.00          AL  \nATOM     64   Al MOL     1       1.779   2.831  21.532  1.00  0.00          AL  \nATOM     65   Al MOL     1       4.736   3.029  21.444  1.00  0.00          AL  \nATOM     66   Al MOL     1       7.650   3.016  23.084  1.00  0.00          AL  \nATOM     67   Al MOL     1       0.274   5.389  21.286  1.00  0.00          AL  \nATOM     68   Al MOL     1       3.071   5.389  22.867  1.00  0.00          AL  \nATOM     69   Al MOL     1       6.012   5.381  21.574  1.00  0.00          AL  \nATOM     70   Al MOL     1       1.738   8.008  21.249  1.00  0.00          AL  \nATOM     71   Al MOL     1       4.494   7.832  21.499  1.00  0.00          AL  \nATOM     72   Al MOL     1       7.530   8.053  21.294  1.00  0.00          AL  \nATOM     73    O MOL     1      10.286   1.215  22.205  1.00  0.00           O  \nATOM     74    O MOL     1       6.162   3.822  22.361  1.00  0.00           O  \nATOM     75    O MOL     1       4.592   6.251  22.318  1.00  0.00           O  \nATOM     76    O MOL     1       2.760   5.444  24.544  1.00  0.00           O  \nATOM     77    O MOL     1       8.981  -1.030   5.597  1.00  0.00           O  \nATOM     78    O MOL     1       8.199  -0.106   5.877  1.00  0.00           O  \nATOM     79    O MOL     1       9.086   5.419   9.173  1.00  0.00           O  \nATOM     80    O MOL     1       7.287   5.934   6.400  1.00  0.00           O  \nATOM     81    O MOL     1      10.382   3.111   4.697  1.00  0.00           O  \nATOM     82    O MOL     1       9.492   3.191   3.845  1.00  0.00           O  \nATOM     83    O MOL     1       9.391  -0.274   2.551  1.00  0.00           O  \nATOM     84    O MOL     1      10.602  -0.024   2.497  1.00  0.00           O  \nATOM     85    O MOL     1       5.032  10.804  37.346  1.00  0.00           O  \nATOM     86    O MOL     1       5.016  10.107  36.325  1.00  0.00           O  \nATOM     87    O MOL     1       1.766   6.264  21.837  1.00  0.00           O  \nATOM     88    O MOL     1       3.167   3.735  22.172  1.00  0.00           O  \nATOM     89    O MOL     1       3.962   7.309  38.114  1.00  0.00           O  \nATOM     90    O MOL     1       3.085   8.185  38.186  1.00  0.00           O  \nATOM     91    O MOL     1       7.669   7.690   9.294  1.00  0.00           O  \nATOM     92    O MOL     1       6.376   5.446   9.135  1.00  0.00           O  \nATOM     93    O MOL     1       1.951   3.001   9.103  1.00  0.00           O  \nATOM     94    O MOL     1       3.492   5.408   9.076  1.00  0.00           O  \nATOM     95    O MOL     1       7.469   6.338  21.998  1.00  0.00           O  \nATOM     96    O MOL     1       8.972   3.833  22.130  1.00  0.00           O  \nATOM     97    O MOL     1       3.493   0.493   9.108  1.00  0.00           O  \nATOM     98    O MOL     1       4.877   2.996   8.774  1.00  0.00           O  \nATOM     99    O MOL     1       0.527  10.282   9.074  1.00  0.00           O  \nATOM    100    O MOL     1       4.873   7.863   9.310  1.00  0.00           O  \nATOM    101    O MOL     1       2.182  13.956  25.343  1.00  0.00           O  \nATOM    102    O MOL     1       1.567  13.037  24.700  1.00  0.00           O  \nATOM    103    O MOL     1       2.297   6.233   4.195  1.00  0.00           O  \nATOM    104    O MOL     1       1.329   6.193   4.966  1.00  0.00           O  \nATOM    105    O MOL     1       3.449  10.312  24.631  1.00  0.00           O  \nATOM    106    O MOL     1       4.596  11.251  22.049  1.00  0.00           O  \nATOM    107    O MOL     1       5.981   8.774  21.969  1.00  0.00           O  \nATOM    108    O MOL     1       3.138   8.783  22.155  1.00  0.00           O  \nATOM    109    O MOL     1       7.736   2.733  40.590  1.00  0.00           O  \nATOM    110    O MOL     1       7.383   4.512  38.709  1.00  0.00           O  \nATOM    111    O MOL     1      -0.382   3.308  24.699  1.00  0.00           O  \nATOM    112    O MOL     1      -1.068   1.325  22.248  1.00  0.00           O  \nENDMDL\n",
           "ext": "pdb"
          }
         ],
         "kwargs": {},
         "methodName": "replaceStructure",
         "reconstruc_color_scheme": false,
         "target": "Widget",
         "type": "call_method"
        },
        {
         "args": [
          "this._Q = [[1.0, 0.0, 0.0], [0.0, 1.0, 0.0], [0.0, 0.0, 1.0]]"
         ],
         "kwargs": {},
         "methodName": "executeCode",
         "reconstruc_color_scheme": false,
         "target": "Widget",
         "type": "call_method"
        },
        {
         "args": [
          {
           "data": "CRYST1    8.591    9.920   31.691  90.00  90.00  90.00 P 1\nMODEL     1\nATOM      1   Al MOL     1       1.879   1.241   9.709  1.00  0.00          AL  \nATOM      2   Al MOL     1       4.868   1.388   9.766  1.00  0.00          AL  \nATOM      3   Al MOL     1       7.368   1.275   9.911  1.00  0.00          AL  \nATOM      4   Al MOL     1       0.418   3.821   9.713  1.00  0.00          AL  \nATOM      5   Al MOL     1       3.485   3.700   9.567  1.00  0.00          AL  \nATOM      6   Al MOL     1       6.319   3.903   8.405  1.00  0.00          AL  \nATOM      7   Al MOL     1       1.672   6.370   9.912  1.00  0.00          AL  \nATOM      8   Al MOL     1       5.030   6.293   9.981  1.00  0.00          AL  \nATOM      9   Al MOL     1       7.595   6.348   8.274  1.00  0.00          AL  \nATOM     10   Al MOL     1       0.514   8.837   9.808  1.00  0.00          AL  \nATOM     11   Al MOL     1       3.530   8.716   9.880  1.00  0.00          AL  \nATOM     12   Al MOL     1       6.392   8.792   9.888  1.00  0.00          AL  \nATOM     13   Al MOL     1       0.459   1.987  12.099  1.00  0.00          AL  \nATOM     14   Al MOL     1       3.325   2.044  12.088  1.00  0.00          AL  \nATOM     15   Al MOL     1       6.249   2.073  12.253  1.00  0.00          AL  \nATOM     16   Al MOL     1       1.757   4.580  12.018  1.00  0.00          AL  \nATOM     17   Al MOL     1       4.716   4.513  12.150  1.00  0.00          AL  \nATOM     18   Al MOL     1       7.547   4.462  12.238  1.00  0.00          AL  \nATOM     19   Al MOL     1       0.351   6.982  12.176  1.00  0.00          AL  \nATOM     20   Al MOL     1       3.375   7.065  12.272  1.00  0.00          AL  \nATOM     21   Al MOL     1       6.169   7.022  12.163  1.00  0.00          AL  \nATOM     22   Al MOL     1       1.866   9.457  12.186  1.00  0.00          AL  \nATOM     23   Al MOL     1       4.830   9.543  12.261  1.00  0.00          AL  \nATOM     24   Al MOL     1       7.700   9.446  12.117  1.00  0.00          AL  \nATOM     25   Al MOL     1       0.441   0.366  14.378  1.00  0.00          AL  \nATOM     26   Al MOL     1       3.283   0.331  14.363  1.00  0.00          AL  \nATOM     27   Al MOL     1       6.136   0.433  14.426  1.00  0.00          AL  \nATOM     28   Al MOL     1       1.826   2.945  14.327  1.00  0.00          AL  \nATOM     29   Al MOL     1       4.764   2.881  14.368  1.00  0.00          AL  \nATOM     30   Al MOL     1       7.637   2.757  14.490  1.00  0.00          AL  \nATOM     31   Al MOL     1       0.339   5.385  14.495  1.00  0.00          AL  \nATOM     32   Al MOL     1       3.214   5.284  14.517  1.00  0.00          AL  \nATOM     33   Al MOL     1       5.952   5.377  14.561  1.00  0.00          AL  \nATOM     34   Al MOL     1       1.785   7.800  14.487  1.00  0.00          AL  \nATOM     35   Al MOL     1       4.703   7.860  14.573  1.00  0.00          AL  \nATOM     36   Al MOL     1       7.628   7.897  14.520  1.00  0.00          AL  \nATOM     37   Al MOL     1       1.809   1.216  16.512  1.00  0.00          AL  \nATOM     38   Al MOL     1       4.745   1.265  16.728  1.00  0.00          AL  \nATOM     39   Al MOL     1       7.545   1.337  16.808  1.00  0.00          AL  \nATOM     40   Al MOL     1       0.468   3.644  16.682  1.00  0.00          AL  \nATOM     41   Al MOL     1       3.374   3.647  16.656  1.00  0.00          AL  \nATOM     42   Al MOL     1       6.287   3.690  16.688  1.00  0.00          AL  \nATOM     43   Al MOL     1       1.808   6.244  16.652  1.00  0.00          AL  \nATOM     44   Al MOL     1       4.832   6.218  16.818  1.00  0.00          AL  \nATOM     45   Al MOL     1       7.581   6.148  16.813  1.00  0.00          AL  \nATOM     46   Al MOL     1       0.358   8.670  16.781  1.00  0.00          AL  \nATOM     47   Al MOL     1       3.301   8.777  16.692  1.00  0.00          AL  \nATOM     48   Al MOL     1       6.069   8.750  16.753  1.00  0.00          AL  \nATOM     49   Al MOL     1       0.368   2.177  18.957  1.00  0.00          AL  \nATOM     50   Al MOL     1       3.278   2.193  19.084  1.00  0.00          AL  \nATOM     51   Al MOL     1       6.107   2.244  19.152  1.00  0.00          AL  \nATOM     52   Al MOL     1       1.952   4.666  19.046  1.00  0.00          AL  \nATOM     53   Al MOL     1       4.855   4.767  19.153  1.00  0.00          AL  \nATOM     54   Al MOL     1       7.636   4.517  19.001  1.00  0.00          AL  \nATOM     55   Al MOL     1       0.389   7.173  19.067  1.00  0.00          AL  \nATOM     56   Al MOL     1       3.260   7.193  19.084  1.00  0.00          AL  \nATOM     57   Al MOL     1       6.085   7.238  19.127  1.00  0.00          AL  \nATOM     58   Al MOL     1       1.736   9.778  18.968  1.00  0.00          AL  \nATOM     59   Al MOL     1       4.545   9.562  19.120  1.00  0.00          AL  \nATOM     60   Al MOL     1       7.548   9.743  19.160  1.00  0.00          AL  \nATOM     61   Al MOL     1       0.430   0.383  21.499  1.00  0.00          AL  \nATOM     62   Al MOL     1       3.327   0.524  23.012  1.00  0.00          AL  \nATOM     63   Al MOL     1       6.191   0.534  21.649  1.00  0.00          AL  \nATOM     64   Al MOL     1       1.928   2.914  21.342  1.00  0.00          AL  \nATOM     65   Al MOL     1       4.728   2.910  21.504  1.00  0.00          AL  \nATOM     66   Al MOL     1       7.670   3.026  22.879  1.00  0.00          AL  \nATOM     67   Al MOL     1       0.425   5.473  21.347  1.00  0.00          AL  \nATOM     68   Al MOL     1       3.106   5.379  23.087  1.00  0.00          AL  \nATOM     69   Al MOL     1       5.946   5.325  21.526  1.00  0.00          AL  \nATOM     70   Al MOL     1       1.731   7.993  21.519  1.00  0.00          AL  \nATOM     71   Al MOL     1       4.654   7.868  21.584  1.00  0.00          AL  \nATOM     72   Al MOL     1       7.625   7.896  21.319  1.00  0.00          AL  \nATOM     73    O MOL     1      10.412   1.316  22.155  1.00  0.00           O  \nATOM     74    O MOL     1       6.056   3.775  22.420  1.00  0.00           O  \nATOM     75    O MOL     1       4.612   6.243  22.419  1.00  0.00           O  \nATOM     76    O MOL     1       2.577   5.333  24.681  1.00  0.00           O  \nATOM     77    O MOL     1       8.902  -0.715   5.139  1.00  0.00           O  \nATOM     78    O MOL     1       8.592  -0.402   6.296  1.00  0.00           O  \nATOM     79    O MOL     1       9.022   5.484   9.030  1.00  0.00           O  \nATOM     80    O MOL     1       7.041   5.862   6.665  1.00  0.00           O  \nATOM     81    O MOL     1      10.330   2.711   4.850  1.00  0.00           O  \nATOM     82    O MOL     1       9.620   3.079   3.907  1.00  0.00           O  \nATOM     83    O MOL     1       9.174  -0.357   1.889  1.00  0.00           O  \nATOM     84    O MOL     1      10.061   0.171   2.567  1.00  0.00           O  \nATOM     85    O MOL     1       5.122  10.805  37.424  1.00  0.00           O  \nATOM     86    O MOL     1       5.697  10.352  36.431  1.00  0.00           O  \nATOM     87    O MOL     1       1.749   6.317  22.187  1.00  0.00           O  \nATOM     88    O MOL     1       3.211   3.804  22.188  1.00  0.00           O  \nATOM     89    O MOL     1       3.580   7.432  38.090  1.00  0.00           O  \nATOM     90    O MOL     1       2.882   8.374  38.486  1.00  0.00           O  \nATOM     91    O MOL     1       7.785   8.122   8.738  1.00  0.00           O  \nATOM     92    O MOL     1       6.441   5.509   9.243  1.00  0.00           O  \nATOM     93    O MOL     1       1.942   2.898   9.064  1.00  0.00           O  \nATOM     94    O MOL     1       3.369   5.483   9.234  1.00  0.00           O  \nATOM     95    O MOL     1       7.478   6.158  22.014  1.00  0.00           O  \nATOM     96    O MOL     1       8.932   3.766  21.818  1.00  0.00           O  \nATOM     97    O MOL     1       3.542   0.433   9.111  1.00  0.00           O  \nATOM     98    O MOL     1       4.846   2.996   8.572  1.00  0.00           O  \nATOM     99    O MOL     1       0.370  10.458   9.087  1.00  0.00           O  \nATOM    100    O MOL     1       5.028   7.963   9.145  1.00  0.00           O  \nATOM    101    O MOL     1       1.763  13.712  25.348  1.00  0.00           O  \nATOM    102    O MOL     1       1.147  12.944  24.585  1.00  0.00           O  \nATOM    103    O MOL     1       1.913   6.090   4.170  1.00  0.00           O  \nATOM    104    O MOL     1       0.877   6.116   4.853  1.00  0.00           O  \nATOM    105    O MOL     1       3.418  10.171  24.632  1.00  0.00           O  \nATOM    106    O MOL     1       4.746  11.168  22.224  1.00  0.00           O  \nATOM    107    O MOL     1       6.191   8.734  22.172  1.00  0.00           O  \nATOM    108    O MOL     1       3.232   8.842  22.140  1.00  0.00           O  \nATOM    109    O MOL     1       7.729   2.822  40.855  1.00  0.00           O  \nATOM    110    O MOL     1       7.275   4.378  38.691  1.00  0.00           O  \nATOM    111    O MOL     1      -0.490   3.275  24.544  1.00  0.00           O  \nATOM    112    O MOL     1      -0.939   1.299  22.316  1.00  0.00           O  \nENDMDL\n",
           "ext": "pdb"
          }
         ],
         "kwargs": {},
         "methodName": "replaceStructure",
         "reconstruc_color_scheme": false,
         "target": "Widget",
         "type": "call_method"
        },
        {
         "args": [
          "this._Q = [[1.0, 0.0, 0.0], [0.0, 1.0, 0.0], [0.0, 0.0, 1.0]]"
         ],
         "kwargs": {},
         "methodName": "executeCode",
         "reconstruc_color_scheme": false,
         "target": "Widget",
         "type": "call_method"
        },
        {
         "args": [
          {
           "data": "CRYST1    8.591    9.920   31.691  90.00  90.00  90.00 P 1\nMODEL     1\nATOM      1   Al MOL     1       1.775   1.226   9.507  1.00  0.00          AL  \nATOM      2   Al MOL     1       4.789   1.286   9.574  1.00  0.00          AL  \nATOM      3   Al MOL     1       7.580   1.187   9.957  1.00  0.00          AL  \nATOM      4   Al MOL     1       0.417   3.780   9.872  1.00  0.00          AL  \nATOM      5   Al MOL     1       3.305   3.678   9.997  1.00  0.00          AL  \nATOM      6   Al MOL     1       6.313   3.675   8.352  1.00  0.00          AL  \nATOM      7   Al MOL     1       1.549   6.282   9.887  1.00  0.00          AL  \nATOM      8   Al MOL     1       4.791   6.019  10.083  1.00  0.00          AL  \nATOM      9   Al MOL     1       7.375   6.253   8.379  1.00  0.00          AL  \nATOM     10   Al MOL     1       0.435   8.566   9.961  1.00  0.00          AL  \nATOM     11   Al MOL     1       3.230   8.639   8.296  1.00  0.00          AL  \nATOM     12   Al MOL     1       6.073   8.648   9.723  1.00  0.00          AL  \nATOM     13   Al MOL     1       0.457   2.116  12.027  1.00  0.00          AL  \nATOM     14   Al MOL     1       3.488   2.091  12.052  1.00  0.00          AL  \nATOM     15   Al MOL     1       6.208   2.122  12.105  1.00  0.00          AL  \nATOM     16   Al MOL     1       1.729   4.583  12.199  1.00  0.00          AL  \nATOM     17   Al MOL     1       4.796   4.618  12.262  1.00  0.00          AL  \nATOM     18   Al MOL     1       7.523   4.850  12.181  1.00  0.00          AL  \nATOM     19   Al MOL     1       0.370   7.269  12.379  1.00  0.00          AL  \nATOM     20   Al MOL     1       3.198   7.113  12.268  1.00  0.00          AL  \nATOM     21   Al MOL     1       6.142   7.139  12.149  1.00  0.00          AL  \nATOM     22   Al MOL     1       2.014   9.689  12.009  1.00  0.00          AL  \nATOM     23   Al MOL     1       4.849   9.495  11.987  1.00  0.00          AL  \nATOM     24   Al MOL     1       7.513   9.543  12.236  1.00  0.00          AL  \nATOM     25   Al MOL     1       0.467   0.458  14.404  1.00  0.00          AL  \nATOM     26   Al MOL     1       3.379   0.410  14.487  1.00  0.00          AL  \nATOM     27   Al MOL     1       6.208   0.357  14.502  1.00  0.00          AL  \nATOM     28   Al MOL     1       1.882   2.968  14.414  1.00  0.00          AL  \nATOM     29   Al MOL     1       4.681   2.893  14.434  1.00  0.00          AL  \nATOM     30   Al MOL     1       7.595   2.968  14.366  1.00  0.00          AL  \nATOM     31   Al MOL     1       0.466   5.255  14.461  1.00  0.00          AL  \nATOM     32   Al MOL     1       3.264   5.386  14.527  1.00  0.00          AL  \nATOM     33   Al MOL     1       6.282   5.476  14.609  1.00  0.00          AL  \nATOM     34   Al MOL     1       1.834   8.001  14.518  1.00  0.00          AL  \nATOM     35   Al MOL     1       4.806   7.894  14.576  1.00  0.00          AL  \nATOM     36   Al MOL     1       7.599   7.880  14.684  1.00  0.00          AL  \nATOM     37   Al MOL     1       1.843   1.266  16.716  1.00  0.00          AL  \nATOM     38   Al MOL     1       4.659   1.360  16.631  1.00  0.00          AL  \nATOM     39   Al MOL     1       7.621   1.296  16.714  1.00  0.00          AL  \nATOM     40   Al MOL     1       0.415   3.675  16.774  1.00  0.00          AL  \nATOM     41   Al MOL     1       3.259   3.733  16.798  1.00  0.00          AL  \nATOM     42   Al MOL     1       6.120   3.611  16.758  1.00  0.00          AL  \nATOM     43   Al MOL     1       1.907   6.334  16.782  1.00  0.00          AL  \nATOM     44   Al MOL     1       4.683   6.325  16.910  1.00  0.00          AL  \nATOM     45   Al MOL     1       7.599   6.224  16.748  1.00  0.00          AL  \nATOM     46   Al MOL     1       0.381   8.708  16.841  1.00  0.00          AL  \nATOM     47   Al MOL     1       3.262   8.677  16.726  1.00  0.00          AL  \nATOM     48   Al MOL     1       6.081   8.703  16.814  1.00  0.00          AL  \nATOM     49   Al MOL     1       0.460   2.121  19.113  1.00  0.00          AL  \nATOM     50   Al MOL     1       3.364   2.188  19.018  1.00  0.00          AL  \nATOM     51   Al MOL     1       6.254   2.095  19.190  1.00  0.00          AL  \nATOM     52   Al MOL     1       2.056   4.649  19.016  1.00  0.00          AL  \nATOM     53   Al MOL     1       4.958   4.491  19.204  1.00  0.00          AL  \nATOM     54   Al MOL     1       7.790   4.669  19.005  1.00  0.00          AL  \nATOM     55   Al MOL     1       0.587   7.055  18.994  1.00  0.00          AL  \nATOM     56   Al MOL     1       3.363   7.044  19.134  1.00  0.00          AL  \nATOM     57   Al MOL     1       6.145   6.899  19.127  1.00  0.00          AL  \nATOM     58   Al MOL     1       1.841   9.635  19.161  1.00  0.00          AL  \nATOM     59   Al MOL     1       4.669   9.755  19.017  1.00  0.00          AL  \nATOM     60   Al MOL     1       7.432   9.415  18.988  1.00  0.00          AL  \nATOM     61   Al MOL     1       0.476   0.514  21.394  1.00  0.00          AL  \nATOM     62   Al MOL     1       3.358   0.573  23.036  1.00  0.00          AL  \nATOM     63   Al MOL     1       6.270   0.482  21.400  1.00  0.00          AL  \nATOM     64   Al MOL     1       2.031   2.987  21.320  1.00  0.00          AL  \nATOM     65   Al MOL     1       4.977   2.939  21.501  1.00  0.00          AL  \nATOM     66   Al MOL     1       7.857   3.020  22.924  1.00  0.00          AL  \nATOM     67   Al MOL     1       0.480   5.473  21.316  1.00  0.00          AL  \nATOM     68   Al MOL     1       3.180   5.322  22.953  1.00  0.00          AL  \nATOM     69   Al MOL     1       6.015   5.483  21.636  1.00  0.00          AL  \nATOM     70   Al MOL     1       1.835   7.938  21.343  1.00  0.00          AL  \nATOM     71   Al MOL     1       4.646   7.890  21.467  1.00  0.00          AL  \nATOM     72   Al MOL     1       7.727   7.984  21.221  1.00  0.00          AL  \nATOM     73    O MOL     1      10.550   1.332  22.060  1.00  0.00           O  \nATOM     74    O MOL     1       6.297   3.829  22.348  1.00  0.00           O  \nATOM     75    O MOL     1       4.614   6.318  22.466  1.00  0.00           O  \nATOM     76    O MOL     1       2.654   5.015  24.576  1.00  0.00           O  \nATOM     77    O MOL     1       9.134  -0.289   5.241  1.00  0.00           O  \nATOM     78    O MOL     1       8.535  -1.267   5.686  1.00  0.00           O  \nATOM     79    O MOL     1       8.796   5.432   9.217  1.00  0.00           O  \nATOM     80    O MOL     1       6.987   5.661   6.719  1.00  0.00           O  \nATOM     81    O MOL     1      10.403   2.676   5.254  1.00  0.00           O  \nATOM     82    O MOL     1       9.768   2.629   4.198  1.00  0.00           O  \nATOM     83    O MOL     1       8.615  -0.442   0.931  1.00  0.00           O  \nATOM     84    O MOL     1       9.482   0.093   1.626  1.00  0.00           O  \nATOM     85    O MOL     1       5.663  11.402  38.435  1.00  0.00           O  \nATOM     86    O MOL     1       5.763  11.040  37.247  1.00  0.00           O  \nATOM     87    O MOL     1       1.939   6.248  22.084  1.00  0.00           O  \nATOM     88    O MOL     1       3.446   3.770  22.094  1.00  0.00           O  \nATOM     89    O MOL     1       3.084   9.048  38.448  1.00  0.00           O  \nATOM     90    O MOL     1       1.555   7.747  40.640  1.00  0.00           O  \nATOM     91    O MOL     1       7.525   8.037   8.997  1.00  0.00           O  \nATOM     92    O MOL     1       6.146   5.242   9.116  1.00  0.00           O  \nATOM     93    O MOL     1       1.925   2.972   9.038  1.00  0.00           O  \nATOM     94    O MOL     1       3.206   5.470   9.450  1.00  0.00           O  \nATOM     95    O MOL     1       7.644   6.281  22.015  1.00  0.00           O  \nATOM     96    O MOL     1       9.113   3.834  21.930  1.00  0.00           O  \nATOM     97    O MOL     1       3.151   0.285   9.143  1.00  0.00           O  \nATOM     98    O MOL     1       4.757   2.928   8.856  1.00  0.00           O  \nATOM     99    O MOL     1       0.364  10.248   9.054  1.00  0.00           O  \nATOM    100    O MOL     1       4.647   7.869   8.885  1.00  0.00           O  \nATOM    101    O MOL     1       2.335  13.444  25.128  1.00  0.00           O  \nATOM    102    O MOL     1       1.643  12.813  24.286  1.00  0.00           O  \nATOM    103    O MOL     1       1.200   6.380   3.700  1.00  0.00           O  \nATOM    104    O MOL     1       1.032   5.813   4.780  1.00  0.00           O  \nATOM    105    O MOL     1       3.156  10.597  24.720  1.00  0.00           O  \nATOM    106    O MOL     1       4.822  11.194  22.158  1.00  0.00           O  \nATOM    107    O MOL     1       6.188   8.700  22.006  1.00  0.00           O  \nATOM    108    O MOL     1       3.253   8.821  22.171  1.00  0.00           O  \nATOM    109    O MOL     1       7.641   2.865  40.957  1.00  0.00           O  \nATOM    110    O MOL     1       7.183   4.207  38.634  1.00  0.00           O  \nATOM    111    O MOL     1      -0.022   3.163  24.513  1.00  0.00           O  \nATOM    112    O MOL     1      -0.911   1.360  22.260  1.00  0.00           O  \nENDMDL\n",
           "ext": "pdb"
          }
         ],
         "kwargs": {},
         "methodName": "replaceStructure",
         "reconstruc_color_scheme": false,
         "target": "Widget",
         "type": "call_method"
        },
        {
         "args": [
          "this._Q = [[1.0, 0.0, 0.0], [0.0, 1.0, 0.0], [0.0, 0.0, 1.0]]"
         ],
         "kwargs": {},
         "methodName": "executeCode",
         "reconstruc_color_scheme": false,
         "target": "Widget",
         "type": "call_method"
        },
        {
         "args": [
          {
           "data": "CRYST1    8.591    9.920   31.691  90.00  90.00  90.00 P 1\nMODEL     1\nATOM      1   Al MOL     1       2.024   1.194   9.831  1.00  0.00          AL  \nATOM      2   Al MOL     1       5.001   1.193   9.774  1.00  0.00          AL  \nATOM      3   Al MOL     1       7.596   1.373  10.027  1.00  0.00          AL  \nATOM      4   Al MOL     1       0.648   3.847   9.621  1.00  0.00          AL  \nATOM      5   Al MOL     1       3.525   3.638   9.881  1.00  0.00          AL  \nATOM      6   Al MOL     1       6.263   3.775   8.365  1.00  0.00          AL  \nATOM      7   Al MOL     1       1.979   6.363   9.973  1.00  0.00          AL  \nATOM      8   Al MOL     1       4.961   6.005  10.003  1.00  0.00          AL  \nATOM      9   Al MOL     1       7.610   5.976   8.180  1.00  0.00          AL  \nATOM     10   Al MOL     1       0.501   8.616   9.813  1.00  0.00          AL  \nATOM     11   Al MOL     1       3.258   8.645   9.806  1.00  0.00          AL  \nATOM     12   Al MOL     1       6.176   8.786   9.847  1.00  0.00          AL  \nATOM     13   Al MOL     1       0.609   2.188  12.114  1.00  0.00          AL  \nATOM     14   Al MOL     1       3.410   2.205  12.152  1.00  0.00          AL  \nATOM     15   Al MOL     1       6.158   2.188  12.228  1.00  0.00          AL  \nATOM     16   Al MOL     1       1.903   4.662  12.094  1.00  0.00          AL  \nATOM     17   Al MOL     1       4.805   4.693  12.326  1.00  0.00          AL  \nATOM     18   Al MOL     1       7.572   4.703  12.187  1.00  0.00          AL  \nATOM     19   Al MOL     1       0.493   7.107  12.112  1.00  0.00          AL  \nATOM     20   Al MOL     1       3.376   7.155  12.191  1.00  0.00          AL  \nATOM     21   Al MOL     1       6.299   7.171  12.064  1.00  0.00          AL  \nATOM     22   Al MOL     1       2.041   9.607  12.188  1.00  0.00          AL  \nATOM     23   Al MOL     1       4.831   9.615  12.182  1.00  0.00          AL  \nATOM     24   Al MOL     1       7.711   9.566  12.203  1.00  0.00          AL  \nATOM     25   Al MOL     1       0.413   0.512  14.390  1.00  0.00          AL  \nATOM     26   Al MOL     1       3.314   0.607  14.435  1.00  0.00          AL  \nATOM     27   Al MOL     1       6.119   0.497  14.459  1.00  0.00          AL  \nATOM     28   Al MOL     1       1.829   3.179  14.418  1.00  0.00          AL  \nATOM     29   Al MOL     1       4.674   3.068  14.481  1.00  0.00          AL  \nATOM     30   Al MOL     1       7.473   3.100  14.466  1.00  0.00          AL  \nATOM     31   Al MOL     1       0.273   5.524  14.527  1.00  0.00          AL  \nATOM     32   Al MOL     1       3.144   5.536  14.459  1.00  0.00          AL  \nATOM     33   Al MOL     1       6.128   5.498  14.553  1.00  0.00          AL  \nATOM     34   Al MOL     1       1.848   7.899  14.406  1.00  0.00          AL  \nATOM     35   Al MOL     1       4.779   7.970  14.455  1.00  0.00          AL  \nATOM     36   Al MOL     1       7.654   7.925  14.499  1.00  0.00          AL  \nATOM     37   Al MOL     1       1.823   1.298  16.652  1.00  0.00          AL  \nATOM     38   Al MOL     1       4.533   1.352  16.801  1.00  0.00          AL  \nATOM     39   Al MOL     1       7.473   1.268  16.791  1.00  0.00          AL  \nATOM     40   Al MOL     1       0.409   3.770  16.775  1.00  0.00          AL  \nATOM     41   Al MOL     1       3.276   3.699  16.707  1.00  0.00          AL  \nATOM     42   Al MOL     1       6.030   3.754  16.821  1.00  0.00          AL  \nATOM     43   Al MOL     1       1.876   6.325  16.580  1.00  0.00          AL  \nATOM     44   Al MOL     1       4.565   6.252  16.715  1.00  0.00          AL  \nATOM     45   Al MOL     1       7.504   6.156  16.836  1.00  0.00          AL  \nATOM     46   Al MOL     1       0.487   8.751  16.797  1.00  0.00          AL  \nATOM     47   Al MOL     1       3.221   8.760  16.725  1.00  0.00          AL  \nATOM     48   Al MOL     1       6.137   8.734  16.685  1.00  0.00          AL  \nATOM     49   Al MOL     1       0.382   2.012  18.956  1.00  0.00          AL  \nATOM     50   Al MOL     1       3.226   2.111  18.974  1.00  0.00          AL  \nATOM     51   Al MOL     1       5.924   2.038  19.206  1.00  0.00          AL  \nATOM     52   Al MOL     1       1.919   4.623  18.961  1.00  0.00          AL  \nATOM     53   Al MOL     1       4.698   4.630  19.134  1.00  0.00          AL  \nATOM     54   Al MOL     1       7.518   4.485  19.052  1.00  0.00          AL  \nATOM     55   Al MOL     1       0.445   7.025  19.041  1.00  0.00          AL  \nATOM     56   Al MOL     1       3.184   7.111  19.077  1.00  0.00          AL  \nATOM     57   Al MOL     1       6.185   7.019  18.977  1.00  0.00          AL  \nATOM     58   Al MOL     1       1.825   9.556  19.053  1.00  0.00          AL  \nATOM     59   Al MOL     1       4.660   9.440  19.018  1.00  0.00          AL  \nATOM     60   Al MOL     1       7.576   9.528  19.096  1.00  0.00          AL  \nATOM     61   Al MOL     1       0.377   0.338  21.511  1.00  0.00          AL  \nATOM     62   Al MOL     1       3.119   0.410  23.043  1.00  0.00          AL  \nATOM     63   Al MOL     1       6.123   0.363  21.498  1.00  0.00          AL  \nATOM     64   Al MOL     1       1.855   2.878  21.167  1.00  0.00          AL  \nATOM     65   Al MOL     1       4.581   2.835  21.624  1.00  0.00          AL  \nATOM     66   Al MOL     1       7.635   2.949  22.847  1.00  0.00          AL  \nATOM     67   Al MOL     1       0.388   5.442  21.392  1.00  0.00          AL  \nATOM     68   Al MOL     1       3.086   5.427  22.986  1.00  0.00          AL  \nATOM     69   Al MOL     1       5.946   5.333  21.482  1.00  0.00          AL  \nATOM     70   Al MOL     1       1.745   7.921  21.400  1.00  0.00          AL  \nATOM     71   Al MOL     1       4.528   7.809  21.332  1.00  0.00          AL  \nATOM     72   Al MOL     1       7.527   7.893  21.295  1.00  0.00          AL  \nATOM     73    O MOL     1      10.372   1.351  22.109  1.00  0.00           O  \nATOM     74    O MOL     1       6.058   3.699  22.230  1.00  0.00           O  \nATOM     75    O MOL     1       4.542   6.251  22.255  1.00  0.00           O  \nATOM     76    O MOL     1       2.837   5.433  24.704  1.00  0.00           O  \nATOM     77    O MOL     1       8.542  -0.753   6.298  1.00  0.00           O  \nATOM     78    O MOL     1       8.000  -0.085   5.410  1.00  0.00           O  \nATOM     79    O MOL     1       9.125   5.543   9.085  1.00  0.00           O  \nATOM     80    O MOL     1       7.097   5.789   6.492  1.00  0.00           O  \nATOM     81    O MOL     1      10.414   3.212   4.508  1.00  0.00           O  \nATOM     82    O MOL     1       9.395   3.150   3.812  1.00  0.00           O  \nATOM     83    O MOL     1       9.873  -0.106   3.276  1.00  0.00           O  \nATOM     84    O MOL     1      10.852  -0.250   2.535  1.00  0.00           O  \nATOM     85    O MOL     1       4.948  10.807  37.275  1.00  0.00           O  \nATOM     86    O MOL     1       4.447   9.988  36.488  1.00  0.00           O  \nATOM     87    O MOL     1       1.702   6.293  22.184  1.00  0.00           O  \nATOM     88    O MOL     1       3.132   3.800  22.096  1.00  0.00           O  \nATOM     89    O MOL     1       4.480   7.296  37.884  1.00  0.00           O  \nATOM     90    O MOL     1       3.548   7.890  38.439  1.00  0.00           O  \nATOM     91    O MOL     1       7.620   7.676   9.023  1.00  0.00           O  \nATOM     92    O MOL     1       6.324   5.115   9.292  1.00  0.00           O  \nATOM     93    O MOL     1       2.051   2.826   9.032  1.00  0.00           O  \nATOM     94    O MOL     1       3.402   5.350   9.184  1.00  0.00           O  \nATOM     95    O MOL     1       7.472   6.172  22.042  1.00  0.00           O  \nATOM     96    O MOL     1       8.969   3.741  21.827  1.00  0.00           O  \nATOM     97    O MOL     1       3.418   0.392   9.079  1.00  0.00           O  \nATOM     98    O MOL     1       4.898   2.763   8.932  1.00  0.00           O  \nATOM     99    O MOL     1       0.449  10.440   9.344  1.00  0.00           O  \nATOM    100    O MOL     1       4.709   7.689   9.140  1.00  0.00           O  \nATOM    101    O MOL     1       1.940  13.890  25.275  1.00  0.00           O  \nATOM    102    O MOL     1       1.348  13.115  24.518  1.00  0.00           O  \nATOM    103    O MOL     1       2.612   6.317   4.004  1.00  0.00           O  \nATOM    104    O MOL     1       1.805   6.287   4.940  1.00  0.00           O  \nATOM    105    O MOL     1       3.047  10.582  24.690  1.00  0.00           O  \nATOM    106    O MOL     1       4.621  11.070  22.206  1.00  0.00           O  \nATOM    107    O MOL     1       6.023   8.579  22.106  1.00  0.00           O  \nATOM    108    O MOL     1       3.183   8.666  22.241  1.00  0.00           O  \nATOM    109    O MOL     1       7.720   2.976  40.948  1.00  0.00           O  \nATOM    110    O MOL     1       6.887   4.261  38.467  1.00  0.00           O  \nATOM    111    O MOL     1      -0.519   3.427  24.436  1.00  0.00           O  \nATOM    112    O MOL     1      -1.038   1.223  22.239  1.00  0.00           O  \nENDMDL\n",
           "ext": "pdb"
          }
         ],
         "kwargs": {},
         "methodName": "replaceStructure",
         "reconstruc_color_scheme": false,
         "target": "Widget",
         "type": "call_method"
        },
        {
         "args": [
          "this._Q = [[1.0, 0.0, 0.0], [0.0, 1.0, 0.0], [0.0, 0.0, 1.0]]"
         ],
         "kwargs": {},
         "methodName": "executeCode",
         "reconstruc_color_scheme": false,
         "target": "Widget",
         "type": "call_method"
        },
        {
         "args": [
          {
           "data": "CRYST1    8.591    9.920   31.691  90.00  90.00  90.00 P 1\nMODEL     1\nATOM      1   Al MOL     1       2.202   1.264  10.133  1.00  0.00          AL  \nATOM      2   Al MOL     1       5.193   1.309  10.290  1.00  0.00          AL  \nATOM      3   Al MOL     1       7.873   1.140  10.514  1.00  0.00          AL  \nATOM      4   Al MOL     1       0.648   3.730  10.365  1.00  0.00          AL  \nATOM      5   Al MOL     1       3.523   3.781  10.165  1.00  0.00          AL  \nATOM      6   Al MOL     1       6.651   3.668  10.257  1.00  0.00          AL  \nATOM      7   Al MOL     1       2.122   6.222  10.323  1.00  0.00          AL  \nATOM      8   Al MOL     1       4.965   6.211   9.945  1.00  0.00          AL  \nATOM      9   Al MOL     1       7.993   6.185  10.095  1.00  0.00          AL  \nATOM     10   Al MOL     1       0.839   8.601  10.023  1.00  0.00          AL  \nATOM     11   Al MOL     1       3.511   8.746  10.158  1.00  0.00          AL  \nATOM     12   Al MOL     1       6.449   8.805  10.181  1.00  0.00          AL  \nATOM     13   Al MOL     1       0.420   2.114  12.594  1.00  0.00          AL  \nATOM     14   Al MOL     1       3.373   2.201  12.563  1.00  0.00          AL  \nATOM     15   Al MOL     1       6.295   2.107  12.728  1.00  0.00          AL  \nATOM     16   Al MOL     1       2.006   4.672  12.632  1.00  0.00          AL  \nATOM     17   Al MOL     1       4.845   4.573  12.516  1.00  0.00          AL  \nATOM     18   Al MOL     1       7.727   4.696  12.563  1.00  0.00          AL  \nATOM     19   Al MOL     1       0.679   7.206  12.643  1.00  0.00          AL  \nATOM     20   Al MOL     1       3.515   7.047  12.479  1.00  0.00          AL  \nATOM     21   Al MOL     1       6.279   7.113  12.587  1.00  0.00          AL  \nATOM     22   Al MOL     1       2.078   9.693  12.489  1.00  0.00          AL  \nATOM     23   Al MOL     1       4.793   9.593  12.559  1.00  0.00          AL  \nATOM     24   Al MOL     1       7.666   9.590  12.729  1.00  0.00          AL  \nATOM     25   Al MOL     1       0.587   0.334  14.945  1.00  0.00          AL  \nATOM     26   Al MOL     1       3.540   0.612  14.904  1.00  0.00          AL  \nATOM     27   Al MOL     1       6.278   0.400  14.942  1.00  0.00          AL  \nATOM     28   Al MOL     1       1.986   2.885  14.851  1.00  0.00          AL  \nATOM     29   Al MOL     1       4.901   3.074  14.844  1.00  0.00          AL  \nATOM     30   Al MOL     1       7.728   2.911  14.910  1.00  0.00          AL  \nATOM     31   Al MOL     1       0.563   5.345  14.814  1.00  0.00          AL  \nATOM     32   Al MOL     1       3.562   5.377  14.882  1.00  0.00          AL  \nATOM     33   Al MOL     1       6.387   5.347  14.958  1.00  0.00          AL  \nATOM     34   Al MOL     1       2.198   7.778  14.839  1.00  0.00          AL  \nATOM     35   Al MOL     1       4.819   7.746  15.003  1.00  0.00          AL  \nATOM     36   Al MOL     1       7.673   7.921  14.781  1.00  0.00          AL  \nATOM     37   Al MOL     1       1.847   1.424  17.246  1.00  0.00          AL  \nATOM     38   Al MOL     1       4.927   1.289  17.241  1.00  0.00          AL  \nATOM     39   Al MOL     1       7.675   1.068  17.110  1.00  0.00          AL  \nATOM     40   Al MOL     1       0.397   3.787  17.113  1.00  0.00          AL  \nATOM     41   Al MOL     1       3.363   3.726  17.279  1.00  0.00          AL  \nATOM     42   Al MOL     1       6.124   3.739  17.261  1.00  0.00          AL  \nATOM     43   Al MOL     1       2.080   6.353  17.108  1.00  0.00          AL  \nATOM     44   Al MOL     1       4.848   6.330  17.309  1.00  0.00          AL  \nATOM     45   Al MOL     1       7.679   6.245  17.321  1.00  0.00          AL  \nATOM     46   Al MOL     1       0.473   8.661  17.214  1.00  0.00          AL  \nATOM     47   Al MOL     1       3.298   8.839  17.315  1.00  0.00          AL  \nATOM     48   Al MOL     1       6.269   8.695  17.208  1.00  0.00          AL  \nATOM     49   Al MOL     1       0.445   2.306  19.560  1.00  0.00          AL  \nATOM     50   Al MOL     1       3.273   2.148  19.528  1.00  0.00          AL  \nATOM     51   Al MOL     1       6.099   1.908  19.653  1.00  0.00          AL  \nATOM     52   Al MOL     1       1.788   4.808  19.334  1.00  0.00          AL  \nATOM     53   Al MOL     1       4.680   4.591  19.681  1.00  0.00          AL  \nATOM     54   Al MOL     1       7.555   4.435  19.478  1.00  0.00          AL  \nATOM     55   Al MOL     1       0.435   7.168  19.464  1.00  0.00          AL  \nATOM     56   Al MOL     1       3.157   7.009  19.624  1.00  0.00          AL  \nATOM     57   Al MOL     1       6.201   6.908  19.603  1.00  0.00          AL  \nATOM     58   Al MOL     1       1.828   9.680  19.567  1.00  0.00          AL  \nATOM     59   Al MOL     1       4.716   9.481  19.480  1.00  0.00          AL  \nATOM     60   Al MOL     1       7.530   9.551  19.555  1.00  0.00          AL  \nATOM     61   Al MOL     1       0.366   0.636  21.831  1.00  0.00          AL  \nATOM     62   Al MOL     1       3.206   0.525  23.508  1.00  0.00          AL  \nATOM     63   Al MOL     1       6.198   0.518  22.146  1.00  0.00          AL  \nATOM     64   Al MOL     1       1.866   3.038  21.786  1.00  0.00          AL  \nATOM     65   Al MOL     1       4.662   2.969  21.955  1.00  0.00          AL  \nATOM     66   Al MOL     1       7.622   3.091  23.501  1.00  0.00          AL  \nATOM     67   Al MOL     1       0.424   5.405  21.644  1.00  0.00          AL  \nATOM     68   Al MOL     1       3.077   5.425  23.418  1.00  0.00          AL  \nATOM     69   Al MOL     1       5.974   5.476  21.968  1.00  0.00          AL  \nATOM     70   Al MOL     1       1.769   8.119  21.782  1.00  0.00          AL  \nATOM     71   Al MOL     1       4.578   8.001  22.203  1.00  0.00          AL  \nATOM     72   Al MOL     1       7.614   7.947  21.744  1.00  0.00          AL  \nATOM     73    O MOL     1      10.434   1.393  22.539  1.00  0.00           O  \nATOM     74    O MOL     1       5.933   3.774  22.890  1.00  0.00           O  \nATOM     75    O MOL     1       4.562   6.339  22.723  1.00  0.00           O  \nATOM     76    O MOL     1       2.803   5.614  25.072  1.00  0.00           O  \nATOM     77    O MOL     1       6.270   0.050   1.479  1.00  0.00           O  \nATOM     78    O MOL     1       7.060  -0.689   0.885  1.00  0.00           O  \nATOM     79    O MOL     1       8.112   8.653   4.091  1.00  0.00           O  \nATOM     80    O MOL     1       7.360   7.701   3.867  1.00  0.00           O  \nATOM     81    O MOL     1       8.857   1.560  -0.840  1.00  0.00           O  \nATOM     82    O MOL     1       9.864   1.189  -1.443  1.00  0.00           O  \nATOM     83    O MOL     1      10.172  -1.606   0.590  1.00  0.00           O  \nATOM     84    O MOL     1       9.518  -2.390   1.279  1.00  0.00           O  \nATOM     85    O MOL     1       2.186  11.526  33.934  1.00  0.00           O  \nATOM     86    O MOL     1       2.913  11.438  32.943  1.00  0.00           O  \nATOM     87    O MOL     1       1.870   6.325  22.464  1.00  0.00           O  \nATOM     88    O MOL     1       3.186   3.775  22.645  1.00  0.00           O  \nATOM     89    O MOL     1       4.660   6.528  33.156  1.00  0.00           O  \nATOM     90    O MOL     1       4.948   7.388  34.001  1.00  0.00           O  \nATOM     91    O MOL     1       7.817   7.905   9.389  1.00  0.00           O  \nATOM     92    O MOL     1       6.486   5.380   9.385  1.00  0.00           O  \nATOM     93    O MOL     1       2.016   2.939   9.461  1.00  0.00           O  \nATOM     94    O MOL     1       3.480   5.389   9.302  1.00  0.00           O  \nATOM     95    O MOL     1       7.620   6.234  22.507  1.00  0.00           O  \nATOM     96    O MOL     1       8.930   3.777  22.380  1.00  0.00           O  \nATOM     97    O MOL     1       3.718   0.529   9.456  1.00  0.00           O  \nATOM     98    O MOL     1       5.049   3.018   9.539  1.00  0.00           O  \nATOM     99    O MOL     1       0.686  10.338   9.549  1.00  0.00           O  \nATOM    100    O MOL     1       5.020   7.942   9.491  1.00  0.00           O  \nATOM    101    O MOL     1       1.946  14.455  25.930  1.00  0.00           O  \nATOM    102    O MOL     1       1.129  13.560  25.332  1.00  0.00           O  \nATOM    103    O MOL     1       1.640   5.229  -1.987  1.00  0.00           O  \nATOM    104    O MOL     1       1.043   4.642  -1.081  1.00  0.00           O  \nATOM    105    O MOL     1       3.155  10.520  25.094  1.00  0.00           O  \nATOM    106    O MOL     1       4.725  11.267  22.669  1.00  0.00           O  \nATOM    107    O MOL     1       6.086   8.770  22.531  1.00  0.00           O  \nATOM    108    O MOL     1       3.116   8.757  22.724  1.00  0.00           O  \nATOM    109    O MOL     1       5.239   3.693  34.937  1.00  0.00           O  \nATOM    110    O MOL     1       5.331   3.203  33.807  1.00  0.00           O  \nATOM    111    O MOL     1      -0.665   3.569  25.154  1.00  0.00           O  \nATOM    112    O MOL     1      -0.994   1.469  22.800  1.00  0.00           O  \nENDMDL\n",
           "ext": "pdb"
          }
         ],
         "kwargs": {},
         "methodName": "replaceStructure",
         "reconstruc_color_scheme": false,
         "target": "Widget",
         "type": "call_method"
        },
        {
         "args": [
          "this._Q = [[1.0, 0.0, 0.0], [0.0, 1.0, 0.0], [0.0, 0.0, 1.0]]"
         ],
         "kwargs": {},
         "methodName": "executeCode",
         "reconstruc_color_scheme": false,
         "target": "Widget",
         "type": "call_method"
        },
        {
         "args": [
          {
           "data": "CRYST1    8.591    9.920   31.691  90.00  90.00  90.00 P 1\nMODEL     1\nATOM      1   Al MOL     1       2.186   1.604  10.041  1.00  0.00          AL  \nATOM      2   Al MOL     1       5.150   1.201  10.306  1.00  0.00          AL  \nATOM      3   Al MOL     1       7.990   1.533  10.248  1.00  0.00          AL  \nATOM      4   Al MOL     1       0.575   4.025  10.233  1.00  0.00          AL  \nATOM      5   Al MOL     1       3.703   4.021   8.470  1.00  0.00          AL  \nATOM      6   Al MOL     1       6.356   3.888  10.121  1.00  0.00          AL  \nATOM      7   Al MOL     1       2.110   6.553  10.099  1.00  0.00          AL  \nATOM      8   Al MOL     1       4.844   6.583  10.098  1.00  0.00          AL  \nATOM      9   Al MOL     1       7.934   6.443  10.285  1.00  0.00          AL  \nATOM     10   Al MOL     1       0.771   9.084  10.133  1.00  0.00          AL  \nATOM     11   Al MOL     1       3.474   8.957   9.949  1.00  0.00          AL  \nATOM     12   Al MOL     1       6.307   8.838  10.192  1.00  0.00          AL  \nATOM     13   Al MOL     1       0.792   2.369  12.437  1.00  0.00          AL  \nATOM     14   Al MOL     1       3.599   2.347  12.416  1.00  0.00          AL  \nATOM     15   Al MOL     1       6.460   2.350  12.536  1.00  0.00          AL  \nATOM     16   Al MOL     1       2.182   4.869  12.404  1.00  0.00          AL  \nATOM     17   Al MOL     1       5.090   4.799  12.516  1.00  0.00          AL  \nATOM     18   Al MOL     1       7.836   4.820  12.620  1.00  0.00          AL  \nATOM     19   Al MOL     1       0.769   7.288  12.461  1.00  0.00          AL  \nATOM     20   Al MOL     1       3.615   7.291  12.426  1.00  0.00          AL  \nATOM     21   Al MOL     1       6.479   7.266  12.477  1.00  0.00          AL  \nATOM     22   Al MOL     1       2.141   9.734  12.449  1.00  0.00          AL  \nATOM     23   Al MOL     1       5.010   9.680  12.576  1.00  0.00          AL  \nATOM     24   Al MOL     1       7.897   9.782  12.490  1.00  0.00          AL  \nATOM     25   Al MOL     1       0.738   0.704  14.694  1.00  0.00          AL  \nATOM     26   Al MOL     1       3.589   0.717  14.702  1.00  0.00          AL  \nATOM     27   Al MOL     1       6.459   0.710  14.777  1.00  0.00          AL  \nATOM     28   Al MOL     1       2.169   3.176  14.722  1.00  0.00          AL  \nATOM     29   Al MOL     1       5.013   3.185  14.765  1.00  0.00          AL  \nATOM     30   Al MOL     1       7.940   3.137  14.777  1.00  0.00          AL  \nATOM     31   Al MOL     1       0.774   5.661  14.755  1.00  0.00          AL  \nATOM     32   Al MOL     1       3.616   5.669  14.743  1.00  0.00          AL  \nATOM     33   Al MOL     1       6.485   5.656  14.794  1.00  0.00          AL  \nATOM     34   Al MOL     1       2.191   8.133  14.739  1.00  0.00          AL  \nATOM     35   Al MOL     1       5.038   8.087  14.763  1.00  0.00          AL  \nATOM     36   Al MOL     1       7.904   8.097  14.811  1.00  0.00          AL  \nATOM     37   Al MOL     1       2.140   1.497  16.961  1.00  0.00          AL  \nATOM     38   Al MOL     1       5.038   1.499  16.971  1.00  0.00          AL  \nATOM     39   Al MOL     1       7.897   1.476  17.016  1.00  0.00          AL  \nATOM     40   Al MOL     1       0.734   3.994  17.008  1.00  0.00          AL  \nATOM     41   Al MOL     1       3.618   4.029  17.009  1.00  0.00          AL  \nATOM     42   Al MOL     1       6.473   3.998  17.027  1.00  0.00          AL  \nATOM     43   Al MOL     1       2.202   6.479  17.027  1.00  0.00          AL  \nATOM     44   Al MOL     1       5.039   6.469  17.084  1.00  0.00          AL  \nATOM     45   Al MOL     1       7.866   6.473  17.052  1.00  0.00          AL  \nATOM     46   Al MOL     1       0.738   8.961  17.021  1.00  0.00          AL  \nATOM     47   Al MOL     1       3.600   8.974  16.998  1.00  0.00          AL  \nATOM     48   Al MOL     1       6.433   8.897  17.069  1.00  0.00          AL  \nATOM     49   Al MOL     1       0.741   2.365  19.202  1.00  0.00          AL  \nATOM     50   Al MOL     1       3.604   2.321  19.143  1.00  0.00          AL  \nATOM     51   Al MOL     1       6.414   2.376  19.192  1.00  0.00          AL  \nATOM     52   Al MOL     1       2.123   4.831  19.259  1.00  0.00          AL  \nATOM     53   Al MOL     1       5.012   4.814  19.317  1.00  0.00          AL  \nATOM     54   Al MOL     1       7.869   4.880  19.312  1.00  0.00          AL  \nATOM     55   Al MOL     1       0.729   7.332  19.260  1.00  0.00          AL  \nATOM     56   Al MOL     1       3.600   7.327  19.320  1.00  0.00          AL  \nATOM     57   Al MOL     1       6.437   7.286  19.413  1.00  0.00          AL  \nATOM     58   Al MOL     1       2.176   9.767  19.209  1.00  0.00          AL  \nATOM     59   Al MOL     1       4.995   9.741  19.232  1.00  0.00          AL  \nATOM     60   Al MOL     1       7.861   9.746  19.246  1.00  0.00          AL  \nATOM     61   Al MOL     1       0.755   0.560  21.413  1.00  0.00          AL  \nATOM     62   Al MOL     1       3.590   0.729  21.459  1.00  0.00          AL  \nATOM     63   Al MOL     1       6.389   1.000  21.245  1.00  0.00          AL  \nATOM     64   Al MOL     1       2.174   3.108  21.505  1.00  0.00          AL  \nATOM     65   Al MOL     1       4.938   3.182  21.559  1.00  0.00          AL  \nATOM     66   Al MOL     1       7.872   3.193  21.483  1.00  0.00          AL  \nATOM     67   Al MOL     1       0.789   5.622  21.622  1.00  0.00          AL  \nATOM     68   Al MOL     1       3.490   5.607  21.503  1.00  0.00          AL  \nATOM     69   Al MOL     1       6.199   5.297  21.840  1.00  0.00          AL  \nATOM     70   Al MOL     1       2.107   8.177  21.552  1.00  0.00          AL  \nATOM     71   Al MOL     1       4.974   8.064  21.951  1.00  0.00          AL  \nATOM     72   Al MOL     1       7.719   7.960  21.986  1.00  0.00          AL  \nATOM     73    O MOL     1       5.568   3.311  27.611  1.00  0.00           O  \nATOM     74    O MOL     1       5.590   3.320  26.375  1.00  0.00           O  \nATOM     75    O MOL     1       2.071   8.262  28.127  1.00  0.00           O  \nATOM     76    O MOL     1       2.173   7.192  27.522  1.00  0.00           O  \nATOM     77    O MOL     1       4.183  -0.373   2.591  1.00  0.00           O  \nATOM     78    O MOL     1       3.521  -0.215   1.563  1.00  0.00           O  \nATOM     79    O MOL     1       4.862   6.115   2.295  1.00  0.00           O  \nATOM     80    O MOL     1       5.738   6.588   1.573  1.00  0.00           O  \nATOM     81    O MOL     1       7.935   3.763   3.998  1.00  0.00           O  \nATOM     82    O MOL     1       7.269   4.795   4.117  1.00  0.00           O  \nATOM     83    O MOL     1       7.282  -0.604   3.821  1.00  0.00           O  \nATOM     84    O MOL     1       7.642  -0.631   2.643  1.00  0.00           O  \nATOM     85    O MOL     1       3.020   5.878  31.249  1.00  0.00           O  \nATOM     86    O MOL     1       2.034   6.277  30.612  1.00  0.00           O  \nATOM     87    O MOL     1       3.544   5.757  24.681  1.00  0.00           O  \nATOM     88    O MOL     1       2.794   5.006  25.335  1.00  0.00           O  \nATOM     89    O MOL     1      -0.096   3.695  30.674  1.00  0.00           O  \nATOM     90    O MOL     1       0.967   3.106  30.907  1.00  0.00           O  \nATOM     91    O MOL     1       7.881   8.104   9.274  1.00  0.00           O  \nATOM     92    O MOL     1       5.328   4.864   9.175  1.00  0.00           O  \nATOM     93    O MOL     1       2.298   3.269   9.228  1.00  0.00           O  \nATOM     94    O MOL     1       3.162   5.784   8.954  1.00  0.00           O  \nATOM     95    O MOL     1       6.521   6.665  22.757  1.00  0.00           O  \nATOM     96    O MOL     1       9.502   3.893  22.279  1.00  0.00           O  \nATOM     97    O MOL     1       4.036   3.052   6.997  1.00  0.00           O  \nATOM     98    O MOL     1       4.871   2.999   5.936  1.00  0.00           O  \nATOM     99    O MOL     1       2.962   9.481   7.840  1.00  0.00           O  \nATOM    100    O MOL     1       3.428   9.364   6.646  1.00  0.00           O  \nATOM    101    O MOL     1       5.543   9.030  28.104  1.00  0.00           O  \nATOM    102    O MOL     1       5.299   8.224  27.205  1.00  0.00           O  \nATOM    103    O MOL     1       1.750   7.302   2.241  1.00  0.00           O  \nATOM    104    O MOL     1       1.164   6.213   2.288  1.00  0.00           O  \nATOM    105    O MOL     1       7.008   5.983  28.994  1.00  0.00           O  \nATOM    106    O MOL     1       6.059   5.619  29.696  1.00  0.00           O  \nATOM    107    O MOL     1       6.419   9.334  22.329  1.00  0.00           O  \nATOM    108    O MOL     1       3.580   9.017  22.424  1.00  0.00           O  \nATOM    109    O MOL     1       3.724   1.570  29.861  1.00  0.00           O  \nATOM    110    O MOL     1       2.828   0.748  30.075  1.00  0.00           O  \nATOM    111    O MOL     1      -0.054   1.730  27.915  1.00  0.00           O  \nATOM    112    O MOL     1       0.916   2.389  27.527  1.00  0.00           O  \nENDMDL\n",
           "ext": "pdb"
          }
         ],
         "kwargs": {},
         "methodName": "replaceStructure",
         "reconstruc_color_scheme": false,
         "target": "Widget",
         "type": "call_method"
        },
        {
         "args": [
          "this._Q = [[1.0, 0.0, 0.0], [0.0, 1.0, 0.0], [0.0, 0.0, 1.0]]"
         ],
         "kwargs": {},
         "methodName": "executeCode",
         "reconstruc_color_scheme": false,
         "target": "Widget",
         "type": "call_method"
        },
        {
         "args": [
          {
           "data": "CRYST1    8.591    9.920   31.691  90.00  90.00  90.00 P 1\nMODEL     1\nATOM      1   Al MOL     1       2.290   1.439  10.060  1.00  0.00          AL  \nATOM      2   Al MOL     1       5.132   1.652   9.953  1.00  0.00          AL  \nATOM      3   Al MOL     1       7.932   1.370  10.041  1.00  0.00          AL  \nATOM      4   Al MOL     1       0.845   3.918   9.989  1.00  0.00          AL  \nATOM      5   Al MOL     1       3.571   3.979   9.695  1.00  0.00          AL  \nATOM      6   Al MOL     1       6.632   4.006   9.972  1.00  0.00          AL  \nATOM      7   Al MOL     1       2.139   6.425   9.854  1.00  0.00          AL  \nATOM      8   Al MOL     1       5.018   6.431  10.083  1.00  0.00          AL  \nATOM      9   Al MOL     1       8.124   6.531   9.574  1.00  0.00          AL  \nATOM     10   Al MOL     1       0.669   8.904  10.052  1.00  0.00          AL  \nATOM     11   Al MOL     1       3.634   8.954   9.910  1.00  0.00          AL  \nATOM     12   Al MOL     1       6.393   8.864  10.159  1.00  0.00          AL  \nATOM     13   Al MOL     1       0.736   2.298  12.459  1.00  0.00          AL  \nATOM     14   Al MOL     1       3.589   2.309  12.341  1.00  0.00          AL  \nATOM     15   Al MOL     1       6.630   2.329  12.372  1.00  0.00          AL  \nATOM     16   Al MOL     1       2.273   4.955  12.294  1.00  0.00          AL  \nATOM     17   Al MOL     1       5.170   4.741  12.357  1.00  0.00          AL  \nATOM     18   Al MOL     1       8.053   4.841  12.326  1.00  0.00          AL  \nATOM     19   Al MOL     1       0.730   7.288  12.339  1.00  0.00          AL  \nATOM     20   Al MOL     1       3.656   7.293  12.368  1.00  0.00          AL  \nATOM     21   Al MOL     1       6.472   7.253  12.430  1.00  0.00          AL  \nATOM     22   Al MOL     1       2.062   9.788  12.520  1.00  0.00          AL  \nATOM     23   Al MOL     1       5.021   9.844  12.480  1.00  0.00          AL  \nATOM     24   Al MOL     1       7.843   9.602  12.375  1.00  0.00          AL  \nATOM     25   Al MOL     1       0.700   0.687  14.823  1.00  0.00          AL  \nATOM     26   Al MOL     1       3.466   0.752  14.790  1.00  0.00          AL  \nATOM     27   Al MOL     1       6.327   0.611  14.761  1.00  0.00          AL  \nATOM     28   Al MOL     1       2.242   3.212  14.743  1.00  0.00          AL  \nATOM     29   Al MOL     1       5.045   3.156  14.701  1.00  0.00          AL  \nATOM     30   Al MOL     1       7.976   3.168  14.623  1.00  0.00          AL  \nATOM     31   Al MOL     1       0.782   5.720  14.709  1.00  0.00          AL  \nATOM     32   Al MOL     1       3.640   5.635  14.690  1.00  0.00          AL  \nATOM     33   Al MOL     1       6.475   5.611  14.666  1.00  0.00          AL  \nATOM     34   Al MOL     1       2.011   8.127  14.731  1.00  0.00          AL  \nATOM     35   Al MOL     1       4.798   8.170  14.765  1.00  0.00          AL  \nATOM     36   Al MOL     1       7.792   8.168  14.773  1.00  0.00          AL  \nATOM     37   Al MOL     1       2.164   1.612  17.095  1.00  0.00          AL  \nATOM     38   Al MOL     1       4.908   1.631  17.005  1.00  0.00          AL  \nATOM     39   Al MOL     1       7.792   1.606  16.865  1.00  0.00          AL  \nATOM     40   Al MOL     1       0.697   4.092  16.957  1.00  0.00          AL  \nATOM     41   Al MOL     1       3.642   4.129  17.052  1.00  0.00          AL  \nATOM     42   Al MOL     1       6.483   4.038  16.906  1.00  0.00          AL  \nATOM     43   Al MOL     1       2.105   6.569  17.085  1.00  0.00          AL  \nATOM     44   Al MOL     1       4.998   6.586  16.996  1.00  0.00          AL  \nATOM     45   Al MOL     1       7.785   6.521  17.022  1.00  0.00          AL  \nATOM     46   Al MOL     1       0.573   9.020  17.055  1.00  0.00          AL  \nATOM     47   Al MOL     1       3.504   8.979  17.129  1.00  0.00          AL  \nATOM     48   Al MOL     1       6.255   9.116  17.059  1.00  0.00          AL  \nATOM     49   Al MOL     1       0.720   2.336  19.259  1.00  0.00          AL  \nATOM     50   Al MOL     1       3.544   2.436  19.400  1.00  0.00          AL  \nATOM     51   Al MOL     1       6.445   2.303  19.224  1.00  0.00          AL  \nATOM     52   Al MOL     1       2.185   4.855  19.285  1.00  0.00          AL  \nATOM     53   Al MOL     1       5.025   4.861  19.366  1.00  0.00          AL  \nATOM     54   Al MOL     1       7.783   4.842  19.298  1.00  0.00          AL  \nATOM     55   Al MOL     1       0.652   7.350  19.340  1.00  0.00          AL  \nATOM     56   Al MOL     1       3.570   7.296  19.421  1.00  0.00          AL  \nATOM     57   Al MOL     1       6.366   7.436  19.478  1.00  0.00          AL  \nATOM     58   Al MOL     1       2.016   9.805  19.263  1.00  0.00          AL  \nATOM     59   Al MOL     1       4.904   9.825  19.530  1.00  0.00          AL  \nATOM     60   Al MOL     1       7.832   9.805  19.259  1.00  0.00          AL  \nATOM     61   Al MOL     1       0.645   0.517  21.581  1.00  0.00          AL  \nATOM     62   Al MOL     1       3.515   0.692  21.784  1.00  0.00          AL  \nATOM     63   Al MOL     1       6.414   0.658  21.780  1.00  0.00          AL  \nATOM     64   Al MOL     1       2.084   3.125  21.708  1.00  0.00          AL  \nATOM     65   Al MOL     1       5.026   3.121  21.715  1.00  0.00          AL  \nATOM     66   Al MOL     1       7.878   2.994  21.646  1.00  0.00          AL  \nATOM     67   Al MOL     1       0.659   5.543  21.635  1.00  0.00          AL  \nATOM     68   Al MOL     1       3.604   5.501  21.701  1.00  0.00          AL  \nATOM     69   Al MOL     1       6.459   5.585  21.712  1.00  0.00          AL  \nATOM     70   Al MOL     1       2.189   7.912  21.733  1.00  0.00          AL  \nATOM     71   Al MOL     1       4.940   8.070  22.216  1.00  0.00          AL  \nATOM     72   Al MOL     1       8.031   7.968  21.824  1.00  0.00          AL  \nATOM     73    O MOL     1       5.827   3.130  27.731  1.00  0.00           O  \nATOM     74    O MOL     1       5.477   3.174  26.546  1.00  0.00           O  \nATOM     75    O MOL     1       2.396   8.563  28.273  1.00  0.00           O  \nATOM     76    O MOL     1       2.235   7.737  27.377  1.00  0.00           O  \nATOM     77    O MOL     1       4.217  -0.406   2.564  1.00  0.00           O  \nATOM     78    O MOL     1       3.784  -0.031   1.481  1.00  0.00           O  \nATOM     79    O MOL     1       4.666   5.834   2.393  1.00  0.00           O  \nATOM     80    O MOL     1       5.579   6.486   1.919  1.00  0.00           O  \nATOM     81    O MOL     1       7.456   3.787   3.981  1.00  0.00           O  \nATOM     82    O MOL     1       7.889   4.953   3.933  1.00  0.00           O  \nATOM     83    O MOL     1       7.434  -0.225   4.129  1.00  0.00           O  \nATOM     84    O MOL     1       7.312  -0.518   2.942  1.00  0.00           O  \nATOM     85    O MOL     1       3.167   5.739  31.075  1.00  0.00           O  \nATOM     86    O MOL     1       2.258   6.142  30.286  1.00  0.00           O  \nATOM     87    O MOL     1       3.250   5.601  25.423  1.00  0.00           O  \nATOM     88    O MOL     1       2.977   4.598  26.086  1.00  0.00           O  \nATOM     89    O MOL     1       0.299   3.519  30.487  1.00  0.00           O  \nATOM     90    O MOL     1       0.718   2.687  31.325  1.00  0.00           O  \nATOM     91    O MOL     1       7.155   6.415   7.884  1.00  0.00           O  \nATOM     92    O MOL     1       6.178   5.360   7.450  1.00  0.00           O  \nATOM     93    O MOL     1       1.907   4.896   6.822  1.00  0.00           O  \nATOM     94    O MOL     1       2.898   5.317   7.466  1.00  0.00           O  \nATOM     95    O MOL     1       7.894   5.340  25.511  1.00  0.00           O  \nATOM     96    O MOL     1       7.244   5.298  24.446  1.00  0.00           O  \nATOM     97    O MOL     1       4.438   2.331   6.268  1.00  0.00           O  \nATOM     98    O MOL     1       4.707   2.926   5.214  1.00  0.00           O  \nATOM     99    O MOL     1       2.351   9.387   6.790  1.00  0.00           O  \nATOM    100    O MOL     1       3.376   9.163   6.122  1.00  0.00           O  \nATOM    101    O MOL     1       5.902   8.853  28.172  1.00  0.00           O  \nATOM    102    O MOL     1       5.323   7.974  27.542  1.00  0.00           O  \nATOM    103    O MOL     1       1.422   7.527   1.267  1.00  0.00           O  \nATOM    104    O MOL     1       1.094   6.577   2.011  1.00  0.00           O  \nATOM    105    O MOL     1       6.672   5.703  28.938  1.00  0.00           O  \nATOM    106    O MOL     1       6.459   6.453  29.911  1.00  0.00           O  \nATOM    107    O MOL     1       6.446   9.635  23.688  1.00  0.00           O  \nATOM    108    O MOL     1       5.096   8.916  23.689  1.00  0.00           O  \nATOM    109    O MOL     1       3.524   1.491  29.685  1.00  0.00           O  \nATOM    110    O MOL     1       2.764   0.553  29.943  1.00  0.00           O  \nATOM    111    O MOL     1       0.046   2.037  28.204  1.00  0.00           O  \nATOM    112    O MOL     1       0.921   2.152  27.335  1.00  0.00           O  \nENDMDL\n",
           "ext": "pdb"
          }
         ],
         "kwargs": {},
         "methodName": "replaceStructure",
         "reconstruc_color_scheme": false,
         "target": "Widget",
         "type": "call_method"
        },
        {
         "args": [
          "this._Q = [[1.0, 0.0, 0.0], [0.0, 1.0, 0.0], [0.0, 0.0, 1.0]]"
         ],
         "kwargs": {},
         "methodName": "executeCode",
         "reconstruc_color_scheme": false,
         "target": "Widget",
         "type": "call_method"
        }
       ],
       "_ngl_original_stage_parameters": {
        "ambientColor": 14540253,
        "ambientIntensity": 0.2,
        "backgroundColor": "white",
        "cameraEyeSep": 0.3,
        "cameraFov": 40,
        "cameraType": "perspective",
        "clipDist": 10,
        "clipFar": 100,
        "clipNear": 0,
        "fogFar": 100,
        "fogNear": 50,
        "hoverTimeout": 0,
        "impostor": true,
        "lightColor": 14540253,
        "lightIntensity": 1,
        "mousePreset": "default",
        "panSpeed": 1,
        "quality": "medium",
        "rotateSpeed": 2,
        "sampleLevel": 0,
        "tooltip": true,
        "workerDefault": true,
        "zoomSpeed": 1.2
       },
       "_ngl_repr_dict": {
        "0": {
         "0": {
          "params": {
           "clipCenter": {
            "x": 0,
            "y": 0,
            "z": 0
           },
           "clipNear": 0,
           "clipRadius": 0,
           "colorMode": "hcl",
           "colorReverse": false,
           "colorScale": "",
           "colorScheme": "element",
           "colorValue": "orange",
           "defaultAssembly": "",
           "depthWrite": true,
           "diffuse": 16777215,
           "diffuseInterior": false,
           "disableImpostor": false,
           "disablePicking": false,
           "flatShaded": false,
           "interiorColor": 2236962,
           "interiorDarkening": 0,
           "lazy": false,
           "matrix": {
            "elements": [
             1,
             0,
             0,
             0,
             0,
             1,
             0,
             0,
             0,
             0,
             1,
             0,
             0,
             0,
             0,
             1
            ]
           },
           "metalness": 0,
           "opacity": 1,
           "quality": "medium",
           "radialSegments": 10,
           "radiusData": {},
           "radiusScale": 1,
           "radiusSize": 0.06963064692614526,
           "radiusType": "vdw",
           "roughness": 0.4,
           "sele": "all",
           "side": "double",
           "sphereDetail": 1,
           "useInteriorColor": true,
           "visible": true,
           "wireframe": false
          },
          "type": "unitcell"
         },
         "1": {
          "params": {
           "assembly": "default",
           "clipCenter": {
            "x": 0,
            "y": 0,
            "z": 0
           },
           "clipNear": 0,
           "clipRadius": 0,
           "colorMode": "hcl",
           "colorReverse": false,
           "colorScale": "rainbow",
           "colorScheme": "element",
           "colorValue": 9474192,
           "defaultAssembly": "",
           "depthWrite": true,
           "diffuse": 16777215,
           "diffuseInterior": false,
           "disableImpostor": false,
           "disablePicking": false,
           "flatShaded": false,
           "interiorColor": 2236962,
           "interiorDarkening": 0,
           "lazy": false,
           "matrix": {
            "elements": [
             1,
             0,
             0,
             0,
             0,
             1,
             0,
             0,
             0,
             0,
             1,
             0,
             0,
             0,
             0,
             1
            ]
           },
           "metalness": 0,
           "opacity": 1,
           "quality": "medium",
           "radiusData": {},
           "radiusScale": 0.5,
           "radiusSize": 1,
           "radiusType": "covalent",
           "roughness": 0.4,
           "sele": "all",
           "side": "double",
           "sphereDetail": 1,
           "useInteriorColor": true,
           "visible": true,
           "wireframe": false
          },
          "type": "spacefill"
         },
         "2": {
          "params": {
           "aspectRatio": 2,
           "assembly": "default",
           "bondScale": 0.4,
           "bondSpacing": 1,
           "clipCenter": {
            "x": 0,
            "y": 0,
            "z": 0
           },
           "clipNear": 0,
           "clipRadius": 0,
           "colorMode": "hcl",
           "colorReverse": false,
           "colorScale": "",
           "colorScheme": "element",
           "colorValue": 9474192,
           "cylinderOnly": false,
           "defaultAssembly": "",
           "depthWrite": true,
           "diffuse": 16777215,
           "diffuseInterior": false,
           "disableImpostor": false,
           "disablePicking": false,
           "flatShaded": false,
           "interiorColor": 2236962,
           "interiorDarkening": 0,
           "lazy": false,
           "lineOnly": false,
           "linewidth": 2,
           "matrix": {
            "elements": [
             1,
             0,
             0,
             0,
             0,
             1,
             0,
             0,
             0,
             0,
             1,
             0,
             0,
             0,
             0,
             1
            ]
           },
           "metalness": 0,
           "multipleBond": "off",
           "opacity": 1,
           "openEnded": true,
           "quality": "medium",
           "radialSegments": 10,
           "radiusData": {},
           "radiusScale": 1,
           "radiusSize": 0.15,
           "radiusType": "size",
           "roughness": 0.4,
           "sele": "all",
           "side": "double",
           "sphereDetail": 1,
           "useInteriorColor": true,
           "visible": true,
           "wireframe": false
          },
          "type": "ball+stick"
         }
        }
       },
       "_ngl_serialize": false,
       "_ngl_version": "2.0.0-dev.36",
       "_ngl_view_id": [
        "6BFC5D4E-D310-4272-AC89-0C5F13E9963A"
       ],
       "_player_dict": {},
       "_scene_position": {},
       "_scene_rotation": {},
       "_synced_model_ids": [],
       "_synced_repr_model_ids": [],
       "_view_height": "",
       "_view_width": "",
       "background": "white",
       "frame": 0,
       "gui_style": null,
       "layout": "IPY_MODEL_daf427cdfbea46a99d47606c3bc3ac27",
       "max_frame": 99,
       "n_components": 1,
       "picked": {}
      }
     },
     "5b2c80ba74954016ab4b9df69b9a7219": {
      "model_module": "@jupyter-widgets/controls",
      "model_module_version": "1.5.0",
      "model_name": "DescriptionStyleModel",
      "state": {
       "description_width": ""
      }
     },
     "5bc7added05b4f65bb81d86d1854458d": {
      "model_module": "@jupyter-widgets/controls",
      "model_module_version": "1.5.0",
      "model_name": "ButtonStyleModel",
      "state": {}
     },
     "5c2b65b253ed42cda77311cd74082627": {
      "model_module": "@jupyter-widgets/base",
      "model_module_version": "1.2.0",
      "model_name": "LayoutModel",
      "state": {}
     },
     "5d066c27903942fa827fd97fada45714": {
      "model_module": "@jupyter-widgets/base",
      "model_module_version": "1.2.0",
      "model_name": "LayoutModel",
      "state": {}
     },
     "5d1f7a9dba7f4fd9afb44f9f2ce96f15": {
      "model_module": "@jupyter-widgets/controls",
      "model_module_version": "1.5.0",
      "model_name": "HBoxModel",
      "state": {
       "children": [
        "IPY_MODEL_79e875211dd74f939914b47e8228739d",
        "IPY_MODEL_331dfe97413142dbace6f1dedb3a50f0"
       ],
       "layout": "IPY_MODEL_e028adfce743438dad76961e4e0ce154"
      }
     },
     "5dd7c60a4791492cb9c8c4e26cdb8c69": {
      "model_module": "@jupyter-widgets/controls",
      "model_module_version": "1.5.0",
      "model_name": "FloatSliderModel",
      "state": {
       "description": "Force scale",
       "layout": "IPY_MODEL_5d066c27903942fa827fd97fada45714",
       "step": 0.1,
       "style": "IPY_MODEL_40875c0298b7412e8e0520ef412f5308",
       "value": 0.5
      }
     },
     "6059f8c75a214513acc11b24223bc5ca": {
      "model_module": "@jupyter-widgets/controls",
      "model_module_version": "1.5.0",
      "model_name": "DescriptionStyleModel",
      "state": {
       "description_width": ""
      }
     },
     "6227a427329447939bd8a85cc140a0e3": {
      "model_module": "@jupyter-widgets/controls",
      "model_module_version": "1.5.0",
      "model_name": "CheckboxModel",
      "state": {
       "description": "Show force",
       "disabled": false,
       "layout": "IPY_MODEL_dc0afc77ef544f689bd24f02b1f1a96f",
       "style": "IPY_MODEL_16aec2b9f37042a5820ab6a949f71bfb",
       "value": false
      }
     },
     "625013f8d96d4e76ba609f159d5fec9b": {
      "model_module": "@jupyter-widgets/controls",
      "model_module_version": "1.5.0",
      "model_name": "ButtonModel",
      "state": {
       "icon": "compress",
       "layout": "IPY_MODEL_1e59d02c9e7740608d5d73e50010a603",
       "style": "IPY_MODEL_d6f35b78681d41b5bc7db323fb48a130"
      }
     },
     "630bc49d0d7043a6bc8940d80a5f6a66": {
      "model_module": "@jupyter-widgets/base",
      "model_module_version": "1.2.0",
      "model_name": "LayoutModel",
      "state": {}
     },
     "64d47827526945a1879c4f3312e12047": {
      "model_module": "@jupyter-widgets/controls",
      "model_module_version": "1.5.0",
      "model_name": "LinkModel",
      "state": {
       "source": [
        "IPY_MODEL_675e20e48fb04de5b8736f3c7e26c039",
        "max"
       ],
       "target": [
        "IPY_MODEL_5ab4bcbb44b84a07a364ea7ab8d012de",
        "max_frame"
       ]
      }
     },
     "64d7dd7815344bed992f90f3a9c0fec3": {
      "model_module": "@jupyter-widgets/controls",
      "model_module_version": "1.5.0",
      "model_name": "LinkModel",
      "state": {
       "source": [
        "IPY_MODEL_9c90943972e14c4ebbec5bce474c005e",
        "value"
       ],
       "target": [
        "IPY_MODEL_ade5f14d43194b268a3effeeb4d06417",
        "frame"
       ]
      }
     },
     "64fe48a33448423d84d09a5d8c99e57b": {
      "model_module": "@jupyter-widgets/controls",
      "model_module_version": "1.5.0",
      "model_name": "DropdownModel",
      "state": {
       "_options_labels": [
        "All",
        "O",
        "Al"
       ],
       "description": "Show",
       "index": 0,
       "layout": "IPY_MODEL_459403d344794b62a0b4160915ec1c17",
       "style": "IPY_MODEL_9a7a5ed6702541849cae89739dab31e0"
      }
     },
     "651d39e5c67e46b4810a082e283582c0": {
      "model_module": "@jupyter-widgets/controls",
      "model_module_version": "1.5.0",
      "model_name": "ImageModel",
      "state": {
       "layout": "IPY_MODEL_dcdb3383b1a445b9872891e81bd02765",
       "width": "900.0"
      }
     },
     "65c52e3292484eb4ae819e1fdf1e076a": {
      "model_module": "@jupyter-widgets/base",
      "model_module_version": "1.2.0",
      "model_name": "LayoutModel",
      "state": {}
     },
     "65f9cb2082fb4e7a9d0dfeb951374a62": {
      "model_module": "@jupyter-widgets/controls",
      "model_module_version": "1.5.0",
      "model_name": "HBoxModel",
      "state": {
       "children": [
        "IPY_MODEL_675e20e48fb04de5b8736f3c7e26c039",
        "IPY_MODEL_8a743c4103d74eb7b90e7b72e74794b7"
       ],
       "layout": "IPY_MODEL_cfc9a9b55a8f4241bc158cfeae466eeb"
      }
     },
     "675e20e48fb04de5b8736f3c7e26c039": {
      "model_module": "@jupyter-widgets/controls",
      "model_module_version": "1.5.0",
      "model_name": "PlayModel",
      "state": {
       "layout": "IPY_MODEL_d14a4085775f4d88a256cd5c75ee61cc",
       "max": 99,
       "style": "IPY_MODEL_426928bbdc7a4c1d80f160d66e2356c5"
      }
     },
     "67b6361a2a2e4971b84b594a878f4826": {
      "model_module": "@jupyter-widgets/controls",
      "model_module_version": "1.5.0",
      "model_name": "IntSliderModel",
      "state": {
       "layout": "IPY_MODEL_b0dd87ae3bc1496f8f9d9c01df4bf7db",
       "max": 99,
       "style": "IPY_MODEL_55c681e3dc644610bed559d8e75dcf72"
      }
     },
     "6827aee40a574736a7273495268617da": {
      "model_module": "@jupyter-widgets/controls",
      "model_module_version": "1.5.0",
      "model_name": "LinkModel",
      "state": {
       "source": [
        "IPY_MODEL_9c90943972e14c4ebbec5bce474c005e",
        "value"
       ],
       "target": [
        "IPY_MODEL_67b6361a2a2e4971b84b594a878f4826",
        "value"
       ]
      }
     },
     "683bb070b2344b6397697025ff64d65b": {
      "model_module": "@jupyter-widgets/controls",
      "model_module_version": "1.5.0",
      "model_name": "ButtonStyleModel",
      "state": {}
     },
     "68e440c92e8f4adbaa75ff267bc906a9": {
      "model_module": "@jupyter-widgets/base",
      "model_module_version": "1.2.0",
      "model_name": "LayoutModel",
      "state": {
       "width": "34px"
      }
     },
     "69598972f634444b9658ae35587e3590": {
      "model_module": "@jupyter-widgets/base",
      "model_module_version": "1.2.0",
      "model_name": "LayoutModel",
      "state": {
       "border": "0px solid black"
      }
     },
     "6bc41b7900b046979345acbbba3d3c76": {
      "model_module": "@jupyter-widgets/controls",
      "model_module_version": "1.5.0",
      "model_name": "SliderStyleModel",
      "state": {
       "description_width": ""
      }
     },
     "6d72a0700ea647969e2ae550d5babcf4": {
      "model_module": "@jupyter-widgets/controls",
      "model_module_version": "1.5.0",
      "model_name": "DescriptionStyleModel",
      "state": {
       "description_width": ""
      }
     },
     "6da62ab588b14c349ca6bfcac3f1a51b": {
      "model_module": "@jupyter-widgets/controls",
      "model_module_version": "1.5.0",
      "model_name": "ButtonStyleModel",
      "state": {}
     },
     "6dade4559ca14b0fbe79c8f7003caecd": {
      "model_module": "@jupyter-widgets/controls",
      "model_module_version": "1.5.0",
      "model_name": "ButtonStyleModel",
      "state": {}
     },
     "6e4807c7e6244f378d5a7f2bf551ad50": {
      "model_module": "@jupyter-widgets/controls",
      "model_module_version": "1.5.0",
      "model_name": "DescriptionStyleModel",
      "state": {
       "description_width": ""
      }
     },
     "6e713a49c1ca49beb306af5a4cbd17f5": {
      "model_module": "@jupyter-widgets/controls",
      "model_module_version": "1.5.0",
      "model_name": "CheckboxModel",
      "state": {
       "description": "Show force",
       "disabled": false,
       "layout": "IPY_MODEL_d06c10ae06b34dbabf70b13f59ca4f0c",
       "style": "IPY_MODEL_3791d5e5f6a749fc88a9383393e4b04c",
       "value": false
      }
     },
     "6e7f92c7dcc74296a27679193867e7a3": {
      "model_module": "@jupyter-widgets/controls",
      "model_module_version": "1.5.0",
      "model_name": "HBoxModel",
      "state": {
       "children": [
        "IPY_MODEL_afe91ac1290641d7bb20a33d6773e5e1",
        "IPY_MODEL_31fd00d19b2a448a86c45f6d64e3ec08"
       ],
       "layout": "IPY_MODEL_2c5ee5a64f1c4c25b3ec4a514a851031"
      }
     },
     "6f37ec8f05d44ebda132636b0b69a0eb": {
      "model_module": "@jupyter-widgets/base",
      "model_module_version": "1.2.0",
      "model_name": "LayoutModel",
      "state": {}
     },
     "6f5aee7af1cc4ade94dd80ab2a736a09": {
      "model_module": "@jupyter-widgets/controls",
      "model_module_version": "1.5.0",
      "model_name": "DescriptionStyleModel",
      "state": {
       "description_width": ""
      }
     },
     "703946ff7b424c2ba6195168bfbd83c4": {
      "model_module": "@jupyter-widgets/controls",
      "model_module_version": "1.5.0",
      "model_name": "VBoxModel",
      "state": {
       "children": [
        "IPY_MODEL_0698112d267e4703b6dfb320a2566353",
        "IPY_MODEL_a79fa199c2db46748b684ecd650b02cd",
        "IPY_MODEL_50247aba5b8b4d66aa256383cfc54d8a",
        "IPY_MODEL_ee8acd0434f34ccd93038f7fe85888d0",
        "IPY_MODEL_b9e490e614f741d193c5739c5da72bdc",
        "IPY_MODEL_f83c146936774bfc8b5677564c62d14b",
        "IPY_MODEL_6227a427329447939bd8a85cc140a0e3",
        "IPY_MODEL_5dd7c60a4791492cb9c8c4e26cdb8c69",
        "IPY_MODEL_d174a741b22e42ec828bd859e753c852",
        "IPY_MODEL_c3e1579f6a79448a8b0d0884e0eb6228",
        "IPY_MODEL_3c3969ff61fb464192efad62053cfc2f"
       ],
       "layout": "IPY_MODEL_2e97ae5184464350bf026ed8dea6f278"
      }
     },
     "71147f1d555a490789ad50822bf2d18e": {
      "model_module": "@jupyter-widgets/controls",
      "model_module_version": "1.5.0",
      "model_name": "SliderStyleModel",
      "state": {
       "description_width": ""
      }
     },
     "71224982f0d7420592b83952fe3aa871": {
      "model_module": "@jupyter-widgets/controls",
      "model_module_version": "1.5.0",
      "model_name": "LinkModel",
      "state": {
       "source": [
        "IPY_MODEL_8a743c4103d74eb7b90e7b72e74794b7",
        "max"
       ],
       "target": [
        "IPY_MODEL_5ab4bcbb44b84a07a364ea7ab8d012de",
        "max_frame"
       ]
      }
     },
     "730b75467f1e478dbb95b2b971cc8563": {
      "model_module": "@jupyter-widgets/controls",
      "model_module_version": "1.5.0",
      "model_name": "VBoxModel",
      "state": {
       "children": [
        "IPY_MODEL_64fe48a33448423d84d09a5d8c99e57b",
        "IPY_MODEL_ad70d22285a643e0a821075e6245052d",
        "IPY_MODEL_e066492467e24a9aa9a7b81fc5ab8626",
        "IPY_MODEL_58c723f775934be2b4840d31c5e1fdb6",
        "IPY_MODEL_7459ee0cfe2041bbb8ee5538510e393c",
        "IPY_MODEL_1142f440d2584ae49d04ae7560991b9a",
        "IPY_MODEL_a12738f2757745349c4d8adf75415e83",
        "IPY_MODEL_570a22d913e84477aae68ccf5b418319",
        "IPY_MODEL_9a28d8eae59f4452ab8bcdc55098dbc3",
        "IPY_MODEL_13022ecd067a4710821ed7c84ed8bf9c",
        "IPY_MODEL_9d6d07fcbe264c2a90cfbd9815f1a300"
       ],
       "layout": "IPY_MODEL_5521f5359ada4ce88fbe4c3264d3bc1a"
      }
     },
     "7357a7fb8f4a4d6eaafcac5c32a05ed9": {
      "model_module": "@jupyter-widgets/controls",
      "model_module_version": "1.5.0",
      "model_name": "ButtonStyleModel",
      "state": {}
     },
     "741a2a2606f44896bfc88935c7292ac3": {
      "model_module": "@jupyter-widgets/controls",
      "model_module_version": "1.5.0",
      "model_name": "VBoxModel",
      "state": {
       "children": [
        "IPY_MODEL_bae265f9c69e41c5af78ef498d68d90e",
        "IPY_MODEL_ed0aa9246b7846b3b435dd325f2f57d4",
        "IPY_MODEL_2c128189cf384b99925471a622322b00",
        "IPY_MODEL_7d8079536a8c442c8297f494faee7332",
        "IPY_MODEL_6e7f92c7dcc74296a27679193867e7a3",
        "IPY_MODEL_a69e0599343643ac80bc5c7e6917874a",
        "IPY_MODEL_4e00b728bf39467a88c685d5758f4ee6",
        "IPY_MODEL_c5132f60627348eba9ee94d6b0385a2e",
        "IPY_MODEL_ada07d4d40b54af49d3c1b19756e71fa",
        "IPY_MODEL_d43c58b04dd447e4b618e9fb200b9eba"
       ],
       "layout": "IPY_MODEL_ac03533b0def4f77b7272d13c4180c6d"
      }
     },
     "7459ee0cfe2041bbb8ee5538510e393c": {
      "model_module": "@jupyter-widgets/controls",
      "model_module_version": "1.5.0",
      "model_name": "TextModel",
      "state": {
       "description": "Filename: ",
       "layout": "IPY_MODEL_5c2b65b253ed42cda77311cd74082627",
       "style": "IPY_MODEL_ec0cbed1364d4e4f8dda5dfa14379e15",
       "value": "screenshot.png"
      }
     },
     "749a74ca5a7a4912a35fa95052b28fa5": {
      "model_module": "@jupyter-widgets/controls",
      "model_module_version": "1.5.0",
      "model_name": "ButtonModel",
      "state": {
       "description": "Download image",
       "layout": "IPY_MODEL_b2942a98d72347e089878504c0a994bb",
       "style": "IPY_MODEL_5bc7added05b4f65bb81d86d1854458d",
       "tooltip": "Download current frame to your local PC"
      }
     },
     "74b8be97ff934fa29158a9b5c72a6ebe": {
      "model_module": "@jupyter-widgets/controls",
      "model_module_version": "1.5.0",
      "model_name": "LinkModel",
      "state": {
       "source": [
        "IPY_MODEL_1db1e8b02f5c4cffbde3c9b7e226c018",
        "value"
       ],
       "target": [
        "IPY_MODEL_0d7a9488487046579adf51fc98101013",
        "value"
       ]
      }
     },
     "759754ce55b54e98b8a0010f8465c9d4": {
      "model_module": "@jupyter-widgets/controls",
      "model_module_version": "1.5.0",
      "model_name": "FloatSliderModel",
      "state": {
       "description": "Ball size",
       "layout": "IPY_MODEL_8abbb9565e564efd84f8e29784ef1b6b",
       "max": 1.5,
       "step": 0.01,
       "style": "IPY_MODEL_d3cacf854446418f9b45efb1913e3155",
       "value": 0.5
      }
     },
     "7609d2b8379a4f34a5a54b5c451a7a4f": {
      "model_module": "@jupyter-widgets/controls",
      "model_module_version": "1.5.0",
      "model_name": "ButtonStyleModel",
      "state": {}
     },
     "760ce39178eb47b49c654f3f3a03e370": {
      "model_module": "@jupyter-widgets/base",
      "model_module_version": "1.2.0",
      "model_name": "LayoutModel",
      "state": {}
     },
     "769a03f1125f455a8e4430f131772055": {
      "model_module": "@jupyter-widgets/base",
      "model_module_version": "1.2.0",
      "model_name": "LayoutModel",
      "state": {}
     },
     "76d56e99a697473a96eb39a3146f9157": {
      "model_module": "nglview-js-widgets",
      "model_module_version": "3.0.1",
      "model_name": "NGLModel",
      "state": {
       "_camera_orientation": [
        48.10418091174275,
        -0.35539933860352746,
        0.07573690286645655,
        0,
        0.03657875325028404,
        -5.239455819139458,
        -47.81935832559974,
        0,
        0.36153390317684314,
        47.81805161220417,
        -5.239036095261034,
        0,
        -4.084999797865748,
        -5.202999979257584,
        -16.296000361442566,
        1
       ],
       "_camera_str": "orthographic",
       "_gui_theme": null,
       "_ibtn_fullscreen": "IPY_MODEL_5602a6a914234a60bbf4e937316c387f",
       "_igui": null,
       "_iplayer": "IPY_MODEL_e13ab194c9894134a98bac68f4742ddb",
       "_ngl_color_dict": {},
       "_ngl_coordinate_resource": {},
       "_ngl_full_stage_parameters": {
        "ambientColor": 14540253,
        "ambientIntensity": 0.2,
        "backgroundColor": "white",
        "cameraEyeSep": 0.3,
        "cameraFov": 40,
        "cameraType": "orthographic",
        "clipDist": 0,
        "clipFar": 100,
        "clipNear": 0,
        "fogFar": 100,
        "fogNear": 50,
        "hoverTimeout": 0,
        "impostor": true,
        "lightColor": 14540253,
        "lightIntensity": 1,
        "mousePreset": "default",
        "panSpeed": 1,
        "quality": "medium",
        "rotateSpeed": 2,
        "sampleLevel": 0,
        "tooltip": true,
        "workerDefault": true,
        "zoomSpeed": 1.2
       },
       "_ngl_msg_archive": [
        {
         "args": [
          {
           "binary": false,
           "data": "CRYST1    8.591    9.920   31.691  90.00  90.00  90.00 P 1\nMODEL     1\nATOM      1   Al MOL     1       2.290   1.439  10.059  1.00  0.00          AL  \nATOM      2   Al MOL     1       5.132   1.652   9.953  1.00  0.00          AL  \nATOM      3   Al MOL     1       7.932   1.370  10.041  1.00  0.00          AL  \nATOM      4   Al MOL     1       0.845   3.918   9.989  1.00  0.00          AL  \nATOM      5   Al MOL     1       3.571   3.979   9.695  1.00  0.00          AL  \nATOM      6   Al MOL     1       6.632   4.006   9.972  1.00  0.00          AL  \nATOM      7   Al MOL     1       2.139   6.425   9.854  1.00  0.00          AL  \nATOM      8   Al MOL     1       5.018   6.431  10.083  1.00  0.00          AL  \nATOM      9   Al MOL     1       8.124   6.532   9.574  1.00  0.00          AL  \nATOM     10   Al MOL     1       0.669   8.904  10.052  1.00  0.00          AL  \nATOM     11   Al MOL     1       3.634   8.954   9.910  1.00  0.00          AL  \nATOM     12   Al MOL     1       6.393   8.864  10.159  1.00  0.00          AL  \nATOM     13   Al MOL     1       0.736   2.298  12.459  1.00  0.00          AL  \nATOM     14   Al MOL     1       3.589   2.309  12.341  1.00  0.00          AL  \nATOM     15   Al MOL     1       6.630   2.329  12.372  1.00  0.00          AL  \nATOM     16   Al MOL     1       2.273   4.955  12.294  1.00  0.00          AL  \nATOM     17   Al MOL     1       5.170   4.741  12.357  1.00  0.00          AL  \nATOM     18   Al MOL     1       8.053   4.841  12.326  1.00  0.00          AL  \nATOM     19   Al MOL     1       0.730   7.288  12.339  1.00  0.00          AL  \nATOM     20   Al MOL     1       3.656   7.293  12.368  1.00  0.00          AL  \nATOM     21   Al MOL     1       6.472   7.253  12.430  1.00  0.00          AL  \nATOM     22   Al MOL     1       2.061   9.788  12.521  1.00  0.00          AL  \nATOM     23   Al MOL     1       5.021   9.844  12.480  1.00  0.00          AL  \nATOM     24   Al MOL     1       7.843   9.602  12.375  1.00  0.00          AL  \nATOM     25   Al MOL     1       0.700   0.687  14.823  1.00  0.00          AL  \nATOM     26   Al MOL     1       3.466   0.752  14.789  1.00  0.00          AL  \nATOM     27   Al MOL     1       6.327   0.611  14.761  1.00  0.00          AL  \nATOM     28   Al MOL     1       2.242   3.212  14.743  1.00  0.00          AL  \nATOM     29   Al MOL     1       5.045   3.156  14.701  1.00  0.00          AL  \nATOM     30   Al MOL     1       7.976   3.168  14.623  1.00  0.00          AL  \nATOM     31   Al MOL     1       0.782   5.720  14.709  1.00  0.00          AL  \nATOM     32   Al MOL     1       3.640   5.635  14.690  1.00  0.00          AL  \nATOM     33   Al MOL     1       6.475   5.611  14.666  1.00  0.00          AL  \nATOM     34   Al MOL     1       2.011   8.127  14.731  1.00  0.00          AL  \nATOM     35   Al MOL     1       4.798   8.170  14.765  1.00  0.00          AL  \nATOM     36   Al MOL     1       7.792   8.168  14.773  1.00  0.00          AL  \nATOM     37   Al MOL     1       2.165   1.612  17.095  1.00  0.00          AL  \nATOM     38   Al MOL     1       4.908   1.631  17.005  1.00  0.00          AL  \nATOM     39   Al MOL     1       7.793   1.606  16.865  1.00  0.00          AL  \nATOM     40   Al MOL     1       0.697   4.092  16.957  1.00  0.00          AL  \nATOM     41   Al MOL     1       3.642   4.129  17.052  1.00  0.00          AL  \nATOM     42   Al MOL     1       6.483   4.038  16.906  1.00  0.00          AL  \nATOM     43   Al MOL     1       2.105   6.569  17.085  1.00  0.00          AL  \nATOM     44   Al MOL     1       4.998   6.586  16.995  1.00  0.00          AL  \nATOM     45   Al MOL     1       7.785   6.521  17.022  1.00  0.00          AL  \nATOM     46   Al MOL     1       0.573   9.020  17.055  1.00  0.00          AL  \nATOM     47   Al MOL     1       3.504   8.979  17.129  1.00  0.00          AL  \nATOM     48   Al MOL     1       6.255   9.116  17.059  1.00  0.00          AL  \nATOM     49   Al MOL     1       0.720   2.336  19.259  1.00  0.00          AL  \nATOM     50   Al MOL     1       3.544   2.436  19.400  1.00  0.00          AL  \nATOM     51   Al MOL     1       6.445   2.303  19.224  1.00  0.00          AL  \nATOM     52   Al MOL     1       2.185   4.855  19.285  1.00  0.00          AL  \nATOM     53   Al MOL     1       5.025   4.861  19.366  1.00  0.00          AL  \nATOM     54   Al MOL     1       7.784   4.842  19.297  1.00  0.00          AL  \nATOM     55   Al MOL     1       0.652   7.350  19.341  1.00  0.00          AL  \nATOM     56   Al MOL     1       3.570   7.296  19.421  1.00  0.00          AL  \nATOM     57   Al MOL     1       6.366   7.436  19.478  1.00  0.00          AL  \nATOM     58   Al MOL     1       2.016   9.805  19.263  1.00  0.00          AL  \nATOM     59   Al MOL     1       4.904   9.825  19.530  1.00  0.00          AL  \nATOM     60   Al MOL     1       7.832   9.805  19.259  1.00  0.00          AL  \nATOM     61   Al MOL     1       0.645   0.517  21.581  1.00  0.00          AL  \nATOM     62   Al MOL     1       3.515   0.692  21.784  1.00  0.00          AL  \nATOM     63   Al MOL     1       6.414   0.658  21.780  1.00  0.00          AL  \nATOM     64   Al MOL     1       2.084   3.125  21.708  1.00  0.00          AL  \nATOM     65   Al MOL     1       5.026   3.121  21.715  1.00  0.00          AL  \nATOM     66   Al MOL     1       7.878   2.994  21.646  1.00  0.00          AL  \nATOM     67   Al MOL     1       0.659   5.543  21.635  1.00  0.00          AL  \nATOM     68   Al MOL     1       3.604   5.501  21.701  1.00  0.00          AL  \nATOM     69   Al MOL     1       6.459   5.585  21.712  1.00  0.00          AL  \nATOM     70   Al MOL     1       2.189   7.912  21.733  1.00  0.00          AL  \nATOM     71   Al MOL     1       4.940   8.070  22.216  1.00  0.00          AL  \nATOM     72   Al MOL     1       8.031   7.968  21.824  1.00  0.00          AL  \nATOM     73    O MOL     1       5.827   3.130  27.731  1.00  0.00           O  \nATOM     74    O MOL     1       5.477   3.174  26.546  1.00  0.00           O  \nATOM     75    O MOL     1       2.396   8.563  28.273  1.00  0.00           O  \nATOM     76    O MOL     1       2.235   7.737  27.377  1.00  0.00           O  \nATOM     77    O MOL     1       4.217   9.515   2.564  1.00  0.00           O  \nATOM     78    O MOL     1       3.784   9.889   1.481  1.00  0.00           O  \nATOM     79    O MOL     1       4.666   5.834   2.393  1.00  0.00           O  \nATOM     80    O MOL     1       5.579   6.486   1.919  1.00  0.00           O  \nATOM     81    O MOL     1       7.456   3.787   3.981  1.00  0.00           O  \nATOM     82    O MOL     1       7.889   4.953   3.933  1.00  0.00           O  \nATOM     83    O MOL     1       7.434   9.695   4.129  1.00  0.00           O  \nATOM     84    O MOL     1       7.312   9.403   2.942  1.00  0.00           O  \nATOM     85    O MOL     1       3.167   5.739  31.075  1.00  0.00           O  \nATOM     86    O MOL     1       2.258   6.142  30.286  1.00  0.00           O  \nATOM     87    O MOL     1       3.250   5.601  25.422  1.00  0.00           O  \nATOM     88    O MOL     1       2.977   4.598  26.086  1.00  0.00           O  \nATOM     89    O MOL     1       0.299   3.519  30.487  1.00  0.00           O  \nATOM     90    O MOL     1       0.718   2.687  31.325  1.00  0.00           O  \nATOM     91    O MOL     1       7.155   6.415   7.884  1.00  0.00           O  \nATOM     92    O MOL     1       6.178   5.360   7.450  1.00  0.00           O  \nATOM     93    O MOL     1       1.907   4.896   6.822  1.00  0.00           O  \nATOM     94    O MOL     1       2.898   5.317   7.466  1.00  0.00           O  \nATOM     95    O MOL     1       7.894   5.340  25.511  1.00  0.00           O  \nATOM     96    O MOL     1       7.244   5.298  24.446  1.00  0.00           O  \nATOM     97    O MOL     1       4.438   2.331   6.268  1.00  0.00           O  \nATOM     98    O MOL     1       4.707   2.926   5.214  1.00  0.00           O  \nATOM     99    O MOL     1       2.351   9.387   6.790  1.00  0.00           O  \nATOM    100    O MOL     1       3.376   9.163   6.122  1.00  0.00           O  \nATOM    101    O MOL     1       5.902   8.853  28.172  1.00  0.00           O  \nATOM    102    O MOL     1       5.323   7.974  27.542  1.00  0.00           O  \nATOM    103    O MOL     1       1.422   7.527   1.267  1.00  0.00           O  \nATOM    104    O MOL     1       1.094   6.577   2.010  1.00  0.00           O  \nATOM    105    O MOL     1       6.672   5.703  28.938  1.00  0.00           O  \nATOM    106    O MOL     1       6.459   6.453  29.912  1.00  0.00           O  \nATOM    107    O MOL     1       6.446   9.635  23.688  1.00  0.00           O  \nATOM    108    O MOL     1       5.096   8.916  23.689  1.00  0.00           O  \nATOM    109    O MOL     1       3.524   1.491  29.685  1.00  0.00           O  \nATOM    110    O MOL     1       2.764   0.553  29.943  1.00  0.00           O  \nATOM    111    O MOL     1       0.046   2.037  28.204  1.00  0.00           O  \nATOM    112    O MOL     1       0.921   2.152  27.335  1.00  0.00           O  \nENDMDL\n",
           "type": "blob"
          }
         ],
         "kwargs": {
          "defaultRepresentation": false,
          "ext": "pdb"
         },
         "methodName": "loadFile",
         "reconstruc_color_scheme": false,
         "target": "Stage",
         "type": "call_method"
        },
        {
         "args": [
          "500px",
          "500px"
         ],
         "kwargs": {},
         "methodName": "setSize",
         "reconstruc_color_scheme": false,
         "target": "Widget",
         "type": "call_method"
        },
        {
         "args": [
          "unitcell"
         ],
         "component_index": 0,
         "kwargs": {
          "sele": "all"
         },
         "methodName": "addRepresentation",
         "reconstruc_color_scheme": false,
         "target": "compList",
         "type": "call_method"
        },
        {
         "args": [
          "spacefill"
         ],
         "component_index": 0,
         "kwargs": {
          "sele": "all"
         },
         "methodName": "addRepresentation",
         "reconstruc_color_scheme": false,
         "target": "compList",
         "type": "call_method"
        },
        {
         "args": [],
         "kwargs": {
          "cameraType": "orthographic"
         },
         "methodName": "setParameters",
         "reconstruc_color_scheme": false,
         "target": "Stage",
         "type": "call_method"
        },
        {
         "args": [
          {
           "clipDist": 0
          }
         ],
         "kwargs": {},
         "methodName": "setParameters",
         "reconstruc_color_scheme": false,
         "target": "Widget",
         "type": "call_method"
        },
        {
         "args": [
          "spacefill",
          0
         ],
         "kwargs": {
          "colorScale": "rainbow",
          "colorScheme": "element",
          "radiusScale": 0.5,
          "radiusType": "covalent"
         },
         "methodName": "updateRepresentationsByName",
         "reconstruc_color_scheme": false,
         "target": "Widget",
         "type": "call_method"
        },
        {
         "args": [
          "this._Q = [[1.0, 0.0, 0.0], [0.0, 1.0, 0.0], [0.0, 0.0, 1.0]]\n    var tooltip = document.createElement('div');\n    Object.assign(tooltip.style, {\n      display: 'none',\n      position: 'fixed',\n      zIndex: 10,\n      pointerEvents: 'none',\n      backgroundColor: 'rgba( 0, 0, 0, 0.6 )',\n      color: 'lightgrey',\n      padding: '8px',\n      fontFamily: 'sans-serif'\n    });\n    document.body.appendChild(tooltip);\n\n    var that = this;\n    this.stage.mouseControls.remove('hoverPick');\n    this.stage.signals.hovered.add(function (pickingProxy) {\n      if (pickingProxy && (pickingProxy.atom || pickingProxy.bond)) {\n        var atom = pickingProxy.atom || pickingProxy.closestBondAtom\n        var mp = pickingProxy.mouse.position\n        //tooltip.innerText = atom.element + ' i=' + atom.index + ' (' + atom.x.toFixed(2) +  ', ' + atom.y.toFixed(2) +  ', ' + atom.z.toFixed(2) + ')'\n        //var pos = that._atoms_pos[atom.index]\n        var Q = that._Q\n        var pos_x = Q[0][0] * atom.x + Q[0][1] * atom.y + Q[0][2] * atom.z \n        var pos_y = Q[1][0] * atom.x + Q[1][1] * atom.y + Q[1][2] * atom.z\n        var pos_z = Q[2][0] * atom.x + Q[2][1] * atom.y + Q[2][2] * atom.z\n        tooltip.innerText = 'i=' + atom.index + ' ' + atom.element + ' (' + pos_x.toFixed(2) +  ', ' + pos_y.toFixed(2) +  ', ' + pos_z.toFixed(2) + ')'\n        tooltip.style.bottom = window.innerHeight - mp.y + 3 + 'px'\n        tooltip.style.left = mp.x + 3 + 'px'\n        tooltip.style.display = 'block'\n      } else {\n        tooltip.style.display = 'none'\n      }\n    });\n    this.stage.tooltip = tooltip;\n    "
         ],
         "kwargs": {},
         "methodName": "executeCode",
         "reconstruc_color_scheme": false,
         "target": "Widget",
         "type": "call_method"
        },
        {
         "args": [
          "ball+stick"
         ],
         "component_index": 0,
         "kwargs": {
          "sele": "all"
         },
         "methodName": "addRepresentation",
         "reconstruc_color_scheme": false,
         "target": "compList",
         "type": "call_method"
        }
       ],
       "_ngl_original_stage_parameters": {
        "ambientColor": 14540253,
        "ambientIntensity": 0.2,
        "backgroundColor": "white",
        "cameraEyeSep": 0.3,
        "cameraFov": 40,
        "cameraType": "perspective",
        "clipDist": 10,
        "clipFar": 100,
        "clipNear": 0,
        "fogFar": 100,
        "fogNear": 50,
        "hoverTimeout": 0,
        "impostor": true,
        "lightColor": 14540253,
        "lightIntensity": 1,
        "mousePreset": "default",
        "panSpeed": 1,
        "quality": "medium",
        "rotateSpeed": 2,
        "sampleLevel": 0,
        "tooltip": true,
        "workerDefault": true,
        "zoomSpeed": 1.2
       },
       "_ngl_repr_dict": {
        "0": {
         "0": {
          "params": {
           "clipCenter": {
            "x": 0,
            "y": 0,
            "z": 0
           },
           "clipNear": 0,
           "clipRadius": 0,
           "colorMode": "hcl",
           "colorReverse": false,
           "colorScale": "",
           "colorScheme": "element",
           "colorValue": "orange",
           "defaultAssembly": "",
           "depthWrite": true,
           "diffuse": 16777215,
           "diffuseInterior": false,
           "disableImpostor": false,
           "disablePicking": false,
           "flatShaded": false,
           "interiorColor": 2236962,
           "interiorDarkening": 0,
           "lazy": false,
           "matrix": {
            "elements": [
             1,
             0,
             0,
             0,
             0,
             1,
             0,
             0,
             0,
             0,
             1,
             0,
             0,
             0,
             0,
             1
            ]
           },
           "metalness": 0,
           "opacity": 1,
           "quality": "medium",
           "radialSegments": 10,
           "radiusData": {},
           "radiusScale": 1,
           "radiusSize": 0.06963064692614526,
           "radiusType": "vdw",
           "roughness": 0.4,
           "sele": "all",
           "side": "double",
           "sphereDetail": 1,
           "useInteriorColor": true,
           "visible": true,
           "wireframe": false
          },
          "type": "unitcell"
         },
         "1": {
          "params": {
           "assembly": "default",
           "clipCenter": {
            "x": 0,
            "y": 0,
            "z": 0
           },
           "clipNear": 0,
           "clipRadius": 0,
           "colorMode": "hcl",
           "colorReverse": false,
           "colorScale": "rainbow",
           "colorScheme": "element",
           "colorValue": 9474192,
           "defaultAssembly": "",
           "depthWrite": true,
           "diffuse": 16777215,
           "diffuseInterior": false,
           "disableImpostor": false,
           "disablePicking": false,
           "flatShaded": false,
           "interiorColor": 2236962,
           "interiorDarkening": 0,
           "lazy": false,
           "matrix": {
            "elements": [
             1,
             0,
             0,
             0,
             0,
             1,
             0,
             0,
             0,
             0,
             1,
             0,
             0,
             0,
             0,
             1
            ]
           },
           "metalness": 0,
           "opacity": 1,
           "quality": "medium",
           "radiusData": {},
           "radiusScale": 0.5,
           "radiusSize": 1,
           "radiusType": "covalent",
           "roughness": 0.4,
           "sele": "all",
           "side": "double",
           "sphereDetail": 1,
           "useInteriorColor": true,
           "visible": true,
           "wireframe": false
          },
          "type": "spacefill"
         },
         "2": {
          "params": {
           "aspectRatio": 2,
           "assembly": "default",
           "bondScale": 0.4,
           "bondSpacing": 1,
           "clipCenter": {
            "x": 0,
            "y": 0,
            "z": 0
           },
           "clipNear": 0,
           "clipRadius": 0,
           "colorMode": "hcl",
           "colorReverse": false,
           "colorScale": "",
           "colorScheme": "element",
           "colorValue": 9474192,
           "cylinderOnly": false,
           "defaultAssembly": "",
           "depthWrite": true,
           "diffuse": 16777215,
           "diffuseInterior": false,
           "disableImpostor": false,
           "disablePicking": false,
           "flatShaded": false,
           "interiorColor": 2236962,
           "interiorDarkening": 0,
           "lazy": false,
           "lineOnly": false,
           "linewidth": 2,
           "matrix": {
            "elements": [
             1,
             0,
             0,
             0,
             0,
             1,
             0,
             0,
             0,
             0,
             1,
             0,
             0,
             0,
             0,
             1
            ]
           },
           "metalness": 0,
           "multipleBond": "off",
           "opacity": 1,
           "openEnded": true,
           "quality": "medium",
           "radialSegments": 10,
           "radiusData": {},
           "radiusScale": 1,
           "radiusSize": 0.15,
           "radiusType": "size",
           "roughness": 0.4,
           "sele": "all",
           "side": "double",
           "sphereDetail": 1,
           "useInteriorColor": true,
           "visible": true,
           "wireframe": false
          },
          "type": "ball+stick"
         }
        }
       },
       "_ngl_serialize": false,
       "_ngl_version": "2.0.0-dev.36",
       "_ngl_view_id": [
        "D5A30279-6BD0-48F4-A175-F4CEC301885F"
       ],
       "_player_dict": {},
       "_scene_position": {},
       "_scene_rotation": {},
       "_synced_model_ids": [],
       "_synced_repr_model_ids": [],
       "_view_height": "",
       "_view_width": "",
       "background": "white",
       "frame": 0,
       "gui_style": null,
       "layout": "IPY_MODEL_e17ee337d0e547babe8e1e0fbc7ad2e1",
       "max_frame": 0,
       "n_components": 1,
       "picked": {}
      }
     },
     "76e7037545e446e1ba8968ef503751b5": {
      "model_module": "@jupyter-widgets/controls",
      "model_module_version": "1.5.0",
      "model_name": "LinkModel",
      "state": {
       "source": [
        "IPY_MODEL_0d7a9488487046579adf51fc98101013",
        "max"
       ],
       "target": [
        "IPY_MODEL_af19352dc8bd418b8c954017d5e411ee",
        "max_frame"
       ]
      }
     },
     "77f7450b823b4fe99663ff104997010f": {
      "model_module": "@jupyter-widgets/base",
      "model_module_version": "1.2.0",
      "model_name": "LayoutModel",
      "state": {}
     },
     "79e875211dd74f939914b47e8228739d": {
      "model_module": "@jupyter-widgets/controls",
      "model_module_version": "1.5.0",
      "model_name": "ButtonModel",
      "state": {
       "description": "Download image",
       "layout": "IPY_MODEL_77f7450b823b4fe99663ff104997010f",
       "style": "IPY_MODEL_683bb070b2344b6397697025ff64d65b",
       "tooltip": "Download current frame to your local PC"
      }
     },
     "7b1b1b7016f24dd480e2b67d6c686160": {
      "model_module": "@jupyter-widgets/controls",
      "model_module_version": "1.5.0",
      "model_name": "LinkModel",
      "state": {
       "source": [
        "IPY_MODEL_67b6361a2a2e4971b84b594a878f4826",
        "max"
       ],
       "target": [
        "IPY_MODEL_ade5f14d43194b268a3effeeb4d06417",
        "max_frame"
       ]
      }
     },
     "7b9c804c5e83428aaa47dcbc422f93d3": {
      "model_module": "@jupyter-widgets/controls",
      "model_module_version": "1.5.0",
      "model_name": "SliderStyleModel",
      "state": {
       "description_width": ""
      }
     },
     "7bdbee3494b64cd5a7c9bee59a9d19e4": {
      "model_module": "@jupyter-widgets/controls",
      "model_module_version": "1.5.0",
      "model_name": "SliderStyleModel",
      "state": {
       "description_width": ""
      }
     },
     "7c2d8367f84144eda249e4e4e8b714b2": {
      "model_module": "@jupyter-widgets/controls",
      "model_module_version": "1.5.0",
      "model_name": "LinkModel",
      "state": {
       "source": [
        "IPY_MODEL_e4da3a5fb0e94fb0b7b2a6377b380807",
        "max"
       ],
       "target": [
        "IPY_MODEL_428ffe8202cc4a6fb64d24dd0117c6c6",
        "max_frame"
       ]
      }
     },
     "7d8079536a8c442c8297f494faee7332": {
      "model_module": "@jupyter-widgets/controls",
      "model_module_version": "1.5.0",
      "model_name": "TextModel",
      "state": {
       "description": "Filename: ",
       "layout": "IPY_MODEL_e1b36c7c2124449f83930ffaeb20ca44",
       "style": "IPY_MODEL_56bdf57aae054f6fa3f090a3a2cc146e",
       "value": "screenshot.png"
      }
     },
     "7e5921806e3b4e5fadc71d3085574a27": {
      "model_module": "@jupyter-widgets/controls",
      "model_module_version": "1.5.0",
      "model_name": "ButtonModel",
      "state": {
       "description": "Save image",
       "layout": "IPY_MODEL_26c88deb1d494e179e0a879e09b2820c",
       "style": "IPY_MODEL_b0e5c294cebc4fbe8d3928b6f23b614b",
       "tooltip": "Save current frame to file.\nCurrently .png and .html are supported.\nIt takes a bit time, please be patient."
      }
     },
     "80a988da22144276a72085de9e302f14": {
      "model_module": "@jupyter-widgets/controls",
      "model_module_version": "1.5.0",
      "model_name": "SliderStyleModel",
      "state": {
       "description_width": ""
      }
     },
     "81c3d8c991df4745b8f7b771a3c9a517": {
      "model_module": "@jupyter-widgets/base",
      "model_module_version": "1.2.0",
      "model_name": "LayoutModel",
      "state": {}
     },
     "8200db976a38451ca883e9e764b3f41a": {
      "model_module": "@jupyter-widgets/controls",
      "model_module_version": "1.5.0",
      "model_name": "DescriptionStyleModel",
      "state": {
       "description_width": ""
      }
     },
     "8217215fe2574beba3cbd46f795d67cd": {
      "model_module": "@jupyter-widgets/controls",
      "model_module_version": "1.5.0",
      "model_name": "ButtonStyleModel",
      "state": {}
     },
     "8326090932ae45b9a0aaa6ba2b643261": {
      "model_module": "@jupyter-widgets/base",
      "model_module_version": "1.2.0",
      "model_name": "LayoutModel",
      "state": {}
     },
     "83f03c55bbaa4a9581caa084a9ae637c": {
      "model_module": "@jupyter-widgets/base",
      "model_module_version": "1.2.0",
      "model_name": "LayoutModel",
      "state": {}
     },
     "84426321bbdb4cc8ac7e74af21c3e615": {
      "model_module": "@jupyter-widgets/base",
      "model_module_version": "1.2.0",
      "model_name": "LayoutModel",
      "state": {}
     },
     "8489cdf034064ae88aeb9064a0de5306": {
      "model_module": "nglview-js-widgets",
      "model_module_version": "3.0.1",
      "model_name": "ColormakerRegistryModel",
      "state": {
       "_msg_ar": [],
       "_msg_q": [],
       "_ready": true,
       "layout": "IPY_MODEL_84426321bbdb4cc8ac7e74af21c3e615"
      }
     },
     "86416a53c2204c6782dd7b8b19532ed9": {
      "model_module": "@jupyter-widgets/controls",
      "model_module_version": "1.5.0",
      "model_name": "DescriptionStyleModel",
      "state": {
       "description_width": ""
      }
     },
     "86b8e087eb6e4efdb3a7716a64d853b8": {
      "model_module": "@jupyter-widgets/controls",
      "model_module_version": "1.5.0",
      "model_name": "SliderStyleModel",
      "state": {
       "description_width": ""
      }
     },
     "871740eacfda4379bff5ea9890adad1f": {
      "model_module": "@jupyter-widgets/controls",
      "model_module_version": "1.5.0",
      "model_name": "ButtonStyleModel",
      "state": {}
     },
     "8851b06047ab4f66b63b4277cc25fee9": {
      "model_module": "@jupyter-widgets/controls",
      "model_module_version": "1.5.0",
      "model_name": "HBoxModel",
      "state": {
       "children": [
        "IPY_MODEL_428ffe8202cc4a6fb64d24dd0117c6c6",
        "IPY_MODEL_741a2a2606f44896bfc88935c7292ac3"
       ],
       "layout": "IPY_MODEL_056a1767c06d4d3ebfe6da332b734e68"
      }
     },
     "885b05eb2d65451791b525da6c6eb0e6": {
      "model_module": "@jupyter-widgets/controls",
      "model_module_version": "1.5.0",
      "model_name": "SliderStyleModel",
      "state": {
       "description_width": ""
      }
     },
     "88dc4cb695ca42e98713cd5a4f598195": {
      "model_module": "@jupyter-widgets/base",
      "model_module_version": "1.2.0",
      "model_name": "LayoutModel",
      "state": {}
     },
     "8a743c4103d74eb7b90e7b72e74794b7": {
      "model_module": "@jupyter-widgets/controls",
      "model_module_version": "1.5.0",
      "model_name": "IntSliderModel",
      "state": {
       "layout": "IPY_MODEL_769a03f1125f455a8e4430f131772055",
       "max": 99,
       "style": "IPY_MODEL_210150c9d14a453bb2991f5ddfed66ab"
      }
     },
     "8abbb9565e564efd84f8e29784ef1b6b": {
      "model_module": "@jupyter-widgets/base",
      "model_module_version": "1.2.0",
      "model_name": "LayoutModel",
      "state": {}
     },
     "8abfc715979f4a69810c041482b9419c": {
      "model_module": "@jupyter-widgets/base",
      "model_module_version": "1.2.0",
      "model_name": "LayoutModel",
      "state": {
       "width": "34px"
      }
     },
     "8b814deb2752497aad169deda78415f3": {
      "model_module": "@jupyter-widgets/controls",
      "model_module_version": "1.5.0",
      "model_name": "IntSliderModel",
      "state": {
       "layout": "IPY_MODEL_3a855259981f4734b4d3f83fed596338",
       "max": 0,
       "style": "IPY_MODEL_ac152ab7a5a74625b6a8de2f4b098229"
      }
     },
     "8bae303e0e33436a926b58d9b4eb614c": {
      "model_module": "@jupyter-widgets/base",
      "model_module_version": "1.2.0",
      "model_name": "LayoutModel",
      "state": {}
     },
     "8c9b1e5a1ef34bc4b76af9f42d9d9027": {
      "model_module": "@jupyter-widgets/controls",
      "model_module_version": "1.5.0",
      "model_name": "LinkModel",
      "state": {
       "source": [
        "IPY_MODEL_c576c87562014f2ba5ad0aa01f9a0bd2",
        "value"
       ],
       "target": [
        "IPY_MODEL_428ffe8202cc4a6fb64d24dd0117c6c6",
        "frame"
       ]
      }
     },
     "8ed1526114ac4ababd85779edbe97926": {
      "model_module": "@jupyter-widgets/controls",
      "model_module_version": "1.5.0",
      "model_name": "ButtonModel",
      "state": {
       "icon": "compress",
       "layout": "IPY_MODEL_e6eb4131fac3494e84b5823deb10bb34",
       "style": "IPY_MODEL_b5a1370075ec412b9c56c1bb09a7df40"
      }
     },
     "91c4e707c3f044959631086433f4fe32": {
      "model_module": "@jupyter-widgets/base",
      "model_module_version": "1.2.0",
      "model_name": "LayoutModel",
      "state": {}
     },
     "91de64a7118a4de4b9a61a5b6cc7e2c3": {
      "model_module": "@jupyter-widgets/base",
      "model_module_version": "1.2.0",
      "model_name": "LayoutModel",
      "state": {}
     },
     "9273fd89774d45da90b8219dc104f57a": {
      "model_module": "@jupyter-widgets/base",
      "model_module_version": "1.2.0",
      "model_name": "LayoutModel",
      "state": {}
     },
     "98d104c6ced2419bb64cd69b0a19132d": {
      "model_module": "@jupyter-widgets/base",
      "model_module_version": "1.2.0",
      "model_name": "LayoutModel",
      "state": {}
     },
     "9a041d7099e042ea9ddc71ec966670d9": {
      "model_module": "@jupyter-widgets/base",
      "model_module_version": "1.2.0",
      "model_name": "LayoutModel",
      "state": {}
     },
     "9a28d8eae59f4452ab8bcdc55098dbc3": {
      "model_module": "@jupyter-widgets/controls",
      "model_module_version": "1.5.0",
      "model_name": "CheckboxModel",
      "state": {
       "description": "Show charge",
       "disabled": false,
       "layout": "IPY_MODEL_0c30d641814044559ee1675b8d3c820e",
       "style": "IPY_MODEL_54819384648c4e0198c2bd50e08e6826",
       "value": false
      }
     },
     "9a534a2be08d44d09ffaf56a9f7a83ca": {
      "model_module": "@jupyter-widgets/controls",
      "model_module_version": "1.5.0",
      "model_name": "SliderStyleModel",
      "state": {
       "description_width": ""
      }
     },
     "9a63baceb7744eed8d189305ee38d8d1": {
      "model_module": "@jupyter-widgets/base",
      "model_module_version": "1.2.0",
      "model_name": "LayoutModel",
      "state": {}
     },
     "9a7a5ed6702541849cae89739dab31e0": {
      "model_module": "@jupyter-widgets/controls",
      "model_module_version": "1.5.0",
      "model_name": "DescriptionStyleModel",
      "state": {
       "description_width": ""
      }
     },
     "9ac4ade88d3442c7a1b6e3453f0657f1": {
      "model_module": "@jupyter-widgets/base",
      "model_module_version": "1.2.0",
      "model_name": "LayoutModel",
      "state": {}
     },
     "9ba46f2601e349708d2e932fc1f6e1ea": {
      "model_module": "@jupyter-widgets/controls",
      "model_module_version": "1.5.0",
      "model_name": "SliderStyleModel",
      "state": {
       "description_width": ""
      }
     },
     "9c0f26b27906480d9130c3a57c72ea99": {
      "model_module": "@jupyter-widgets/controls",
      "model_module_version": "1.5.0",
      "model_name": "CheckboxModel",
      "state": {
       "description": "Show force",
       "disabled": false,
       "layout": "IPY_MODEL_b0807e4fe3be4403baaa81b7f04f56fb",
       "style": "IPY_MODEL_e00d663a5c734a5aa1b88b9360caba8c",
       "value": false
      }
     },
     "9c6fa529d61549758899dee200123ae6": {
      "model_module": "@jupyter-widgets/controls",
      "model_module_version": "1.5.0",
      "model_name": "SliderStyleModel",
      "state": {
       "description_width": ""
      }
     },
     "9c90943972e14c4ebbec5bce474c005e": {
      "model_module": "@jupyter-widgets/controls",
      "model_module_version": "1.5.0",
      "model_name": "PlayModel",
      "state": {
       "layout": "IPY_MODEL_d9cfda9d07074a5aa8a3b7bd533a42f1",
       "max": 99,
       "style": "IPY_MODEL_2e4f298d039645a1993ea1c36d236717"
      }
     },
     "9d6d07fcbe264c2a90cfbd9815f1a300": {
      "model_module": "@jupyter-widgets/output",
      "model_module_version": "1.0.0",
      "model_name": "OutputModel",
      "state": {
       "layout": "IPY_MODEL_ed31e536d302421886cd581f08c0a0e9"
      }
     },
     "9dffa618fdc643bcac78e00960e4703f": {
      "model_module": "@jupyter-widgets/base",
      "model_module_version": "1.2.0",
      "model_name": "LayoutModel",
      "state": {}
     },
     "9ea40a0c8aaf45a2b6f86ed9dbcb0dc8": {
      "model_module": "@jupyter-widgets/base",
      "model_module_version": "1.2.0",
      "model_name": "LayoutModel",
      "state": {}
     },
     "9eb3b2d239624535af444b0b27feba0a": {
      "model_module": "@jupyter-widgets/controls",
      "model_module_version": "1.5.0",
      "model_name": "LinkModel",
      "state": {
       "source": [
        "IPY_MODEL_8b814deb2752497aad169deda78415f3",
        "max"
       ],
       "target": [
        "IPY_MODEL_76d56e99a697473a96eb39a3146f9157",
        "max_frame"
       ]
      }
     },
     "9eea14f4e8564893b276ce7935d79f6d": {
      "model_module": "@jupyter-widgets/controls",
      "model_module_version": "1.5.0",
      "model_name": "HBoxModel",
      "state": {
       "children": [
        "IPY_MODEL_76d56e99a697473a96eb39a3146f9157",
        "IPY_MODEL_d55cc6f71586480995c367e16be0a4ee"
       ],
       "layout": "IPY_MODEL_ccb40ce05cd34743bf7918819165be31"
      }
     },
     "9fb8686bf6144c4c8be6411658dcee78": {
      "model_module": "@jupyter-widgets/controls",
      "model_module_version": "1.5.0",
      "model_name": "DescriptionStyleModel",
      "state": {
       "description_width": ""
      }
     },
     "a12738f2757745349c4d8adf75415e83": {
      "model_module": "@jupyter-widgets/controls",
      "model_module_version": "1.5.0",
      "model_name": "CheckboxModel",
      "state": {
       "description": "Show force",
       "disabled": false,
       "layout": "IPY_MODEL_57a77f8a23424d9a837033358d646c4a",
       "style": "IPY_MODEL_6d72a0700ea647969e2ae550d5babcf4",
       "value": false
      }
     },
     "a1bafb26a9094c0ea627b3c6b0c23769": {
      "model_module": "@jupyter-widgets/base",
      "model_module_version": "1.2.0",
      "model_name": "LayoutModel",
      "state": {}
     },
     "a201e8ac4b994f9b91b0552016963cef": {
      "model_module": "@jupyter-widgets/base",
      "model_module_version": "1.2.0",
      "model_name": "LayoutModel",
      "state": {}
     },
     "a21e54f413d344f29454037e3aefcb41": {
      "model_module": "@jupyter-widgets/controls",
      "model_module_version": "1.5.0",
      "model_name": "LinkModel",
      "state": {
       "source": [
        "IPY_MODEL_284bc77a586442f4bea02f06487c482e",
        "max"
       ],
       "target": [
        "IPY_MODEL_559291bc71e3459c840367eb05cac52f",
        "max_frame"
       ]
      }
     },
     "a3ab02872aee47748ae5199f680ea9df": {
      "model_module": "@jupyter-widgets/base",
      "model_module_version": "1.2.0",
      "model_name": "LayoutModel",
      "state": {}
     },
     "a523cc90d11144bfafbf8604b4ac6068": {
      "model_module": "@jupyter-widgets/controls",
      "model_module_version": "1.5.0",
      "model_name": "FloatSliderModel",
      "state": {
       "description": "Ball size",
       "layout": "IPY_MODEL_455fdffc33294dffb8a47f0085964280",
       "max": 1.5,
       "step": 0.01,
       "style": "IPY_MODEL_b4202c0f4a7744e6bde23d9707fe73f3",
       "value": 0.5
      }
     },
     "a58d2ea29b7c4becaa1d8e412eed31e8": {
      "model_module": "@jupyter-widgets/base",
      "model_module_version": "1.2.0",
      "model_name": "LayoutModel",
      "state": {}
     },
     "a69e0599343643ac80bc5c7e6917874a": {
      "model_module": "@jupyter-widgets/controls",
      "model_module_version": "1.5.0",
      "model_name": "CheckboxModel",
      "state": {
       "description": "Show force",
       "disabled": false,
       "layout": "IPY_MODEL_b1d0053d1a0a4225a1bcf6e436714688",
       "style": "IPY_MODEL_21124d9d849f407987c19d941a16182d",
       "value": false
      }
     },
     "a712e835369a4fa790de8f2d617076ed": {
      "model_module": "@jupyter-widgets/base",
      "model_module_version": "1.2.0",
      "model_name": "LayoutModel",
      "state": {}
     },
     "a79fa199c2db46748b684ecd650b02cd": {
      "model_module": "@jupyter-widgets/controls",
      "model_module_version": "1.5.0",
      "model_name": "DropdownModel",
      "state": {
       "_options_labels": [
        " ",
        "picking",
        "random",
        "uniform",
        "atomindex",
        "residueindex",
        "chainindex",
        "modelindex",
        "sstruc",
        "element",
        "resname",
        "bfactor",
        "hydrophobicity",
        "value",
        "volume",
        "occupancy"
       ],
       "description": "Color scheme",
       "index": 9,
       "layout": "IPY_MODEL_3ae211d22f10458c813b74e6cbad676a",
       "style": "IPY_MODEL_bf9e76c1c7654911bb8046575e8583c2"
      }
     },
     "a7c77446743243c580e1e537968b87e1": {
      "model_module": "@jupyter-widgets/controls",
      "model_module_version": "1.5.0",
      "model_name": "CheckboxModel",
      "state": {
       "description": "Show charge",
       "disabled": false,
       "layout": "IPY_MODEL_d2c4e540d66640bd88a7eb1a38b338d4",
       "style": "IPY_MODEL_5b2c80ba74954016ab4b9df69b9a7219",
       "value": false
      }
     },
     "a89d196e7f6844b4a6581e58049fea1c": {
      "model_module": "@jupyter-widgets/base",
      "model_module_version": "1.2.0",
      "model_name": "LayoutModel",
      "state": {}
     },
     "a8f20f5710ce4d26b374044316e8907c": {
      "model_module": "@jupyter-widgets/controls",
      "model_module_version": "1.5.0",
      "model_name": "SliderStyleModel",
      "state": {
       "description_width": ""
      }
     },
     "aa41f54e111247a48741f7f03042c7ee": {
      "model_module": "@jupyter-widgets/controls",
      "model_module_version": "1.5.0",
      "model_name": "LinkModel",
      "state": {
       "source": [
        "IPY_MODEL_c576c87562014f2ba5ad0aa01f9a0bd2",
        "value"
       ],
       "target": [
        "IPY_MODEL_e4da3a5fb0e94fb0b7b2a6377b380807",
        "value"
       ]
      }
     },
     "ac03533b0def4f77b7272d13c4180c6d": {
      "model_module": "@jupyter-widgets/base",
      "model_module_version": "1.2.0",
      "model_name": "LayoutModel",
      "state": {}
     },
     "ac0564073bdf491cabf4758e94461a91": {
      "model_module": "@jupyter-widgets/controls",
      "model_module_version": "1.5.0",
      "model_name": "CheckboxModel",
      "state": {
       "description": "Show charge",
       "disabled": false,
       "layout": "IPY_MODEL_275e4a20698a4fcbae0289d2691104d0",
       "style": "IPY_MODEL_df8a88602b0442ed92e48bb69833c8bb",
       "value": false
      }
     },
     "ac152ab7a5a74625b6a8de2f4b098229": {
      "model_module": "@jupyter-widgets/controls",
      "model_module_version": "1.5.0",
      "model_name": "SliderStyleModel",
      "state": {
       "description_width": ""
      }
     },
     "ad14a315abec41c4befab1c0860e7606": {
      "model_module": "@jupyter-widgets/base",
      "model_module_version": "1.2.0",
      "model_name": "LayoutModel",
      "state": {}
     },
     "ad70d22285a643e0a821075e6245052d": {
      "model_module": "@jupyter-widgets/controls",
      "model_module_version": "1.5.0",
      "model_name": "DropdownModel",
      "state": {
       "_options_labels": [
        " ",
        "picking",
        "random",
        "uniform",
        "atomindex",
        "residueindex",
        "chainindex",
        "modelindex",
        "sstruc",
        "element",
        "resname",
        "bfactor",
        "hydrophobicity",
        "value",
        "volume",
        "occupancy"
       ],
       "description": "Color scheme",
       "index": 9,
       "layout": "IPY_MODEL_b0b1b88486b44b92836eae3579e1af9a",
       "style": "IPY_MODEL_86416a53c2204c6782dd7b8b19532ed9"
      }
     },
     "ada07d4d40b54af49d3c1b19756e71fa": {
      "model_module": "@jupyter-widgets/controls",
      "model_module_version": "1.5.0",
      "model_name": "FloatSliderModel",
      "state": {
       "description": "Charge scale",
       "layout": "IPY_MODEL_2b2a968e7a9c49d78090d143be4391f5",
       "step": 0.1,
       "style": "IPY_MODEL_2bf7c5a9fa404e16a64859eaca14f681",
       "value": 1
      }
     },
     "ade5f14d43194b268a3effeeb4d06417": {
      "model_module": "nglview-js-widgets",
      "model_module_version": "3.0.1",
      "model_name": "NGLModel",
      "state": {
       "_camera_orientation": [
        48.105553379604856,
        0,
        0,
        0,
        0,
        48.105553379604856,
        0,
        0,
        0,
        0,
        48.105553379604856,
        0,
        -4.084999797865748,
        -4.662999927997589,
        -16.296000361442566,
        1
       ],
       "_camera_str": "orthographic",
       "_gui_theme": null,
       "_ibtn_fullscreen": "IPY_MODEL_625013f8d96d4e76ba609f159d5fec9b",
       "_igui": null,
       "_iplayer": "IPY_MODEL_2ae5285e7db54707bcc27bdd19b7bc09",
       "_ngl_color_dict": {},
       "_ngl_coordinate_resource": {},
       "_ngl_full_stage_parameters": {
        "ambientColor": 14540253,
        "ambientIntensity": 0.2,
        "backgroundColor": "white",
        "cameraEyeSep": 0.3,
        "cameraFov": 40,
        "cameraType": "orthographic",
        "clipDist": 0,
        "clipFar": 100,
        "clipNear": 0,
        "fogFar": 100,
        "fogNear": 50,
        "hoverTimeout": 0,
        "impostor": true,
        "lightColor": 14540253,
        "lightIntensity": 1,
        "mousePreset": "default",
        "panSpeed": 1,
        "quality": "medium",
        "rotateSpeed": 2,
        "sampleLevel": 0,
        "tooltip": true,
        "workerDefault": true,
        "zoomSpeed": 1.2
       },
       "_ngl_msg_archive": [
        {
         "args": [
          {
           "binary": false,
           "data": "CRYST1    8.591    9.920   31.691  90.00  90.00  90.00 P 1\nMODEL     1\nATOM      1   Al MOL     1       2.290   1.439  10.060  1.00  0.00          AL  \nATOM      2   Al MOL     1       5.132   1.652   9.953  1.00  0.00          AL  \nATOM      3   Al MOL     1       7.932   1.370  10.041  1.00  0.00          AL  \nATOM      4   Al MOL     1       0.845   3.918   9.989  1.00  0.00          AL  \nATOM      5   Al MOL     1       3.571   3.979   9.695  1.00  0.00          AL  \nATOM      6   Al MOL     1       6.632   4.006   9.972  1.00  0.00          AL  \nATOM      7   Al MOL     1       2.139   6.425   9.854  1.00  0.00          AL  \nATOM      8   Al MOL     1       5.018   6.431  10.083  1.00  0.00          AL  \nATOM      9   Al MOL     1       8.124   6.531   9.574  1.00  0.00          AL  \nATOM     10   Al MOL     1       0.669   8.904  10.052  1.00  0.00          AL  \nATOM     11   Al MOL     1       3.634   8.954   9.910  1.00  0.00          AL  \nATOM     12   Al MOL     1       6.393   8.864  10.159  1.00  0.00          AL  \nATOM     13   Al MOL     1       0.736   2.298  12.459  1.00  0.00          AL  \nATOM     14   Al MOL     1       3.589   2.309  12.341  1.00  0.00          AL  \nATOM     15   Al MOL     1       6.630   2.329  12.372  1.00  0.00          AL  \nATOM     16   Al MOL     1       2.273   4.955  12.294  1.00  0.00          AL  \nATOM     17   Al MOL     1       5.170   4.741  12.357  1.00  0.00          AL  \nATOM     18   Al MOL     1       8.053   4.841  12.326  1.00  0.00          AL  \nATOM     19   Al MOL     1       0.730   7.288  12.339  1.00  0.00          AL  \nATOM     20   Al MOL     1       3.656   7.293  12.368  1.00  0.00          AL  \nATOM     21   Al MOL     1       6.472   7.253  12.430  1.00  0.00          AL  \nATOM     22   Al MOL     1       2.062   9.788  12.520  1.00  0.00          AL  \nATOM     23   Al MOL     1       5.021   9.844  12.480  1.00  0.00          AL  \nATOM     24   Al MOL     1       7.843   9.602  12.375  1.00  0.00          AL  \nATOM     25   Al MOL     1       0.700   0.687  14.823  1.00  0.00          AL  \nATOM     26   Al MOL     1       3.466   0.752  14.790  1.00  0.00          AL  \nATOM     27   Al MOL     1       6.327   0.611  14.761  1.00  0.00          AL  \nATOM     28   Al MOL     1       2.242   3.212  14.743  1.00  0.00          AL  \nATOM     29   Al MOL     1       5.045   3.156  14.701  1.00  0.00          AL  \nATOM     30   Al MOL     1       7.976   3.168  14.623  1.00  0.00          AL  \nATOM     31   Al MOL     1       0.782   5.720  14.709  1.00  0.00          AL  \nATOM     32   Al MOL     1       3.640   5.635  14.690  1.00  0.00          AL  \nATOM     33   Al MOL     1       6.475   5.611  14.666  1.00  0.00          AL  \nATOM     34   Al MOL     1       2.011   8.127  14.731  1.00  0.00          AL  \nATOM     35   Al MOL     1       4.798   8.170  14.765  1.00  0.00          AL  \nATOM     36   Al MOL     1       7.792   8.168  14.773  1.00  0.00          AL  \nATOM     37   Al MOL     1       2.164   1.612  17.095  1.00  0.00          AL  \nATOM     38   Al MOL     1       4.908   1.631  17.005  1.00  0.00          AL  \nATOM     39   Al MOL     1       7.792   1.606  16.865  1.00  0.00          AL  \nATOM     40   Al MOL     1       0.697   4.092  16.957  1.00  0.00          AL  \nATOM     41   Al MOL     1       3.642   4.129  17.052  1.00  0.00          AL  \nATOM     42   Al MOL     1       6.483   4.038  16.906  1.00  0.00          AL  \nATOM     43   Al MOL     1       2.105   6.569  17.085  1.00  0.00          AL  \nATOM     44   Al MOL     1       4.998   6.586  16.996  1.00  0.00          AL  \nATOM     45   Al MOL     1       7.785   6.521  17.022  1.00  0.00          AL  \nATOM     46   Al MOL     1       0.573   9.020  17.055  1.00  0.00          AL  \nATOM     47   Al MOL     1       3.504   8.979  17.129  1.00  0.00          AL  \nATOM     48   Al MOL     1       6.255   9.116  17.059  1.00  0.00          AL  \nATOM     49   Al MOL     1       0.720   2.336  19.259  1.00  0.00          AL  \nATOM     50   Al MOL     1       3.544   2.436  19.400  1.00  0.00          AL  \nATOM     51   Al MOL     1       6.445   2.303  19.224  1.00  0.00          AL  \nATOM     52   Al MOL     1       2.185   4.855  19.285  1.00  0.00          AL  \nATOM     53   Al MOL     1       5.025   4.861  19.366  1.00  0.00          AL  \nATOM     54   Al MOL     1       7.783   4.842  19.298  1.00  0.00          AL  \nATOM     55   Al MOL     1       0.652   7.350  19.340  1.00  0.00          AL  \nATOM     56   Al MOL     1       3.570   7.296  19.421  1.00  0.00          AL  \nATOM     57   Al MOL     1       6.366   7.436  19.478  1.00  0.00          AL  \nATOM     58   Al MOL     1       2.016   9.805  19.263  1.00  0.00          AL  \nATOM     59   Al MOL     1       4.904   9.825  19.530  1.00  0.00          AL  \nATOM     60   Al MOL     1       7.832   9.805  19.259  1.00  0.00          AL  \nATOM     61   Al MOL     1       0.645   0.517  21.581  1.00  0.00          AL  \nATOM     62   Al MOL     1       3.515   0.692  21.784  1.00  0.00          AL  \nATOM     63   Al MOL     1       6.414   0.658  21.780  1.00  0.00          AL  \nATOM     64   Al MOL     1       2.084   3.125  21.708  1.00  0.00          AL  \nATOM     65   Al MOL     1       5.026   3.121  21.715  1.00  0.00          AL  \nATOM     66   Al MOL     1       7.878   2.994  21.646  1.00  0.00          AL  \nATOM     67   Al MOL     1       0.659   5.543  21.635  1.00  0.00          AL  \nATOM     68   Al MOL     1       3.604   5.501  21.701  1.00  0.00          AL  \nATOM     69   Al MOL     1       6.459   5.585  21.712  1.00  0.00          AL  \nATOM     70   Al MOL     1       2.189   7.912  21.733  1.00  0.00          AL  \nATOM     71   Al MOL     1       4.940   8.070  22.216  1.00  0.00          AL  \nATOM     72   Al MOL     1       8.031   7.968  21.824  1.00  0.00          AL  \nATOM     73    O MOL     1       5.827   3.130  27.731  1.00  0.00           O  \nATOM     74    O MOL     1       5.477   3.174  26.546  1.00  0.00           O  \nATOM     75    O MOL     1       2.396   8.563  28.273  1.00  0.00           O  \nATOM     76    O MOL     1       2.235   7.737  27.377  1.00  0.00           O  \nATOM     77    O MOL     1       4.217  -0.406   2.564  1.00  0.00           O  \nATOM     78    O MOL     1       3.784  -0.031   1.481  1.00  0.00           O  \nATOM     79    O MOL     1       4.666   5.834   2.393  1.00  0.00           O  \nATOM     80    O MOL     1       5.579   6.486   1.919  1.00  0.00           O  \nATOM     81    O MOL     1       7.456   3.787   3.981  1.00  0.00           O  \nATOM     82    O MOL     1       7.889   4.953   3.933  1.00  0.00           O  \nATOM     83    O MOL     1       7.434  -0.225   4.129  1.00  0.00           O  \nATOM     84    O MOL     1       7.312  -0.518   2.942  1.00  0.00           O  \nATOM     85    O MOL     1       3.167   5.739  31.075  1.00  0.00           O  \nATOM     86    O MOL     1       2.258   6.142  30.286  1.00  0.00           O  \nATOM     87    O MOL     1       3.250   5.601  25.423  1.00  0.00           O  \nATOM     88    O MOL     1       2.977   4.598  26.086  1.00  0.00           O  \nATOM     89    O MOL     1       0.299   3.519  30.487  1.00  0.00           O  \nATOM     90    O MOL     1       0.718   2.687  31.325  1.00  0.00           O  \nATOM     91    O MOL     1       7.155   6.415   7.884  1.00  0.00           O  \nATOM     92    O MOL     1       6.178   5.360   7.450  1.00  0.00           O  \nATOM     93    O MOL     1       1.907   4.896   6.822  1.00  0.00           O  \nATOM     94    O MOL     1       2.898   5.317   7.466  1.00  0.00           O  \nATOM     95    O MOL     1       7.894   5.340  25.511  1.00  0.00           O  \nATOM     96    O MOL     1       7.244   5.298  24.446  1.00  0.00           O  \nATOM     97    O MOL     1       4.438   2.331   6.268  1.00  0.00           O  \nATOM     98    O MOL     1       4.707   2.926   5.214  1.00  0.00           O  \nATOM     99    O MOL     1       2.351   9.387   6.790  1.00  0.00           O  \nATOM    100    O MOL     1       3.376   9.163   6.122  1.00  0.00           O  \nATOM    101    O MOL     1       5.902   8.853  28.172  1.00  0.00           O  \nATOM    102    O MOL     1       5.323   7.974  27.542  1.00  0.00           O  \nATOM    103    O MOL     1       1.422   7.527   1.267  1.00  0.00           O  \nATOM    104    O MOL     1       1.094   6.577   2.011  1.00  0.00           O  \nATOM    105    O MOL     1       6.672   5.703  28.938  1.00  0.00           O  \nATOM    106    O MOL     1       6.459   6.453  29.911  1.00  0.00           O  \nATOM    107    O MOL     1       6.446   9.635  23.688  1.00  0.00           O  \nATOM    108    O MOL     1       5.096   8.916  23.689  1.00  0.00           O  \nATOM    109    O MOL     1       3.524   1.491  29.685  1.00  0.00           O  \nATOM    110    O MOL     1       2.764   0.553  29.943  1.00  0.00           O  \nATOM    111    O MOL     1       0.046   2.037  28.204  1.00  0.00           O  \nATOM    112    O MOL     1       0.921   2.152  27.335  1.00  0.00           O  \nENDMDL\n",
           "type": "blob"
          }
         ],
         "kwargs": {
          "defaultRepresentation": false,
          "ext": "pdb"
         },
         "methodName": "loadFile",
         "reconstruc_color_scheme": false,
         "target": "Stage",
         "type": "call_method"
        },
        {
         "args": [
          "500px",
          "500px"
         ],
         "kwargs": {},
         "methodName": "setSize",
         "reconstruc_color_scheme": false,
         "target": "Widget",
         "type": "call_method"
        },
        {
         "args": [
          "unitcell"
         ],
         "component_index": 0,
         "kwargs": {
          "sele": "all"
         },
         "methodName": "addRepresentation",
         "reconstruc_color_scheme": false,
         "target": "compList",
         "type": "call_method"
        },
        {
         "args": [
          "spacefill"
         ],
         "component_index": 0,
         "kwargs": {
          "sele": "all"
         },
         "methodName": "addRepresentation",
         "reconstruc_color_scheme": false,
         "target": "compList",
         "type": "call_method"
        },
        {
         "args": [],
         "kwargs": {
          "cameraType": "orthographic"
         },
         "methodName": "setParameters",
         "reconstruc_color_scheme": false,
         "target": "Stage",
         "type": "call_method"
        },
        {
         "args": [
          {
           "clipDist": 0
          }
         ],
         "kwargs": {},
         "methodName": "setParameters",
         "reconstruc_color_scheme": false,
         "target": "Widget",
         "type": "call_method"
        },
        {
         "args": [
          "spacefill",
          0
         ],
         "kwargs": {
          "colorScale": "rainbow",
          "colorScheme": "element",
          "radiusScale": 0.5,
          "radiusType": "covalent"
         },
         "methodName": "updateRepresentationsByName",
         "reconstruc_color_scheme": false,
         "target": "Widget",
         "type": "call_method"
        },
        {
         "args": [
          "this._Q = [[1.0, 0.0, 0.0], [0.0, 1.0, 0.0], [0.0, 0.0, 1.0]]\n    var tooltip = document.createElement('div');\n    Object.assign(tooltip.style, {\n      display: 'none',\n      position: 'fixed',\n      zIndex: 10,\n      pointerEvents: 'none',\n      backgroundColor: 'rgba( 0, 0, 0, 0.6 )',\n      color: 'lightgrey',\n      padding: '8px',\n      fontFamily: 'sans-serif'\n    });\n    document.body.appendChild(tooltip);\n\n    var that = this;\n    this.stage.mouseControls.remove('hoverPick');\n    this.stage.signals.hovered.add(function (pickingProxy) {\n      if (pickingProxy && (pickingProxy.atom || pickingProxy.bond)) {\n        var atom = pickingProxy.atom || pickingProxy.closestBondAtom\n        var mp = pickingProxy.mouse.position\n        //tooltip.innerText = atom.element + ' i=' + atom.index + ' (' + atom.x.toFixed(2) +  ', ' + atom.y.toFixed(2) +  ', ' + atom.z.toFixed(2) + ')'\n        //var pos = that._atoms_pos[atom.index]\n        var Q = that._Q\n        var pos_x = Q[0][0] * atom.x + Q[0][1] * atom.y + Q[0][2] * atom.z \n        var pos_y = Q[1][0] * atom.x + Q[1][1] * atom.y + Q[1][2] * atom.z\n        var pos_z = Q[2][0] * atom.x + Q[2][1] * atom.y + Q[2][2] * atom.z\n        tooltip.innerText = 'i=' + atom.index + ' ' + atom.element + ' (' + pos_x.toFixed(2) +  ', ' + pos_y.toFixed(2) +  ', ' + pos_z.toFixed(2) + ')'\n        tooltip.style.bottom = window.innerHeight - mp.y + 3 + 'px'\n        tooltip.style.left = mp.x + 3 + 'px'\n        tooltip.style.display = 'block'\n      } else {\n        tooltip.style.display = 'none'\n      }\n    });\n    this.stage.tooltip = tooltip;\n    "
         ],
         "kwargs": {},
         "methodName": "executeCode",
         "reconstruc_color_scheme": false,
         "target": "Widget",
         "type": "call_method"
        },
        {
         "args": [
          "ball+stick"
         ],
         "component_index": 0,
         "kwargs": {
          "sele": "all"
         },
         "methodName": "addRepresentation",
         "reconstruc_color_scheme": false,
         "target": "compList",
         "type": "call_method"
        }
       ],
       "_ngl_original_stage_parameters": {
        "ambientColor": 14540253,
        "ambientIntensity": 0.2,
        "backgroundColor": "white",
        "cameraEyeSep": 0.3,
        "cameraFov": 40,
        "cameraType": "perspective",
        "clipDist": 10,
        "clipFar": 100,
        "clipNear": 0,
        "fogFar": 100,
        "fogNear": 50,
        "hoverTimeout": 0,
        "impostor": true,
        "lightColor": 14540253,
        "lightIntensity": 1,
        "mousePreset": "default",
        "panSpeed": 1,
        "quality": "medium",
        "rotateSpeed": 2,
        "sampleLevel": 0,
        "tooltip": true,
        "workerDefault": true,
        "zoomSpeed": 1.2
       },
       "_ngl_repr_dict": {
        "0": {
         "0": {
          "params": {
           "clipCenter": {
            "x": 0,
            "y": 0,
            "z": 0
           },
           "clipNear": 0,
           "clipRadius": 0,
           "colorMode": "hcl",
           "colorReverse": false,
           "colorScale": "",
           "colorScheme": "element",
           "colorValue": "orange",
           "defaultAssembly": "",
           "depthWrite": true,
           "diffuse": 16777215,
           "diffuseInterior": false,
           "disableImpostor": false,
           "disablePicking": false,
           "flatShaded": false,
           "interiorColor": 2236962,
           "interiorDarkening": 0,
           "lazy": false,
           "matrix": {
            "elements": [
             1,
             0,
             0,
             0,
             0,
             1,
             0,
             0,
             0,
             0,
             1,
             0,
             0,
             0,
             0,
             1
            ]
           },
           "metalness": 0,
           "opacity": 1,
           "quality": "medium",
           "radialSegments": 10,
           "radiusData": {},
           "radiusScale": 1,
           "radiusSize": 0.06963064692614526,
           "radiusType": "vdw",
           "roughness": 0.4,
           "sele": "all",
           "side": "double",
           "sphereDetail": 1,
           "useInteriorColor": true,
           "visible": true,
           "wireframe": false
          },
          "type": "unitcell"
         },
         "1": {
          "params": {
           "assembly": "default",
           "clipCenter": {
            "x": 0,
            "y": 0,
            "z": 0
           },
           "clipNear": 0,
           "clipRadius": 0,
           "colorMode": "hcl",
           "colorReverse": false,
           "colorScale": "rainbow",
           "colorScheme": "element",
           "colorValue": 9474192,
           "defaultAssembly": "",
           "depthWrite": true,
           "diffuse": 16777215,
           "diffuseInterior": false,
           "disableImpostor": false,
           "disablePicking": false,
           "flatShaded": false,
           "interiorColor": 2236962,
           "interiorDarkening": 0,
           "lazy": false,
           "matrix": {
            "elements": [
             1,
             0,
             0,
             0,
             0,
             1,
             0,
             0,
             0,
             0,
             1,
             0,
             0,
             0,
             0,
             1
            ]
           },
           "metalness": 0,
           "opacity": 1,
           "quality": "medium",
           "radiusData": {},
           "radiusScale": 0.5,
           "radiusSize": 1,
           "radiusType": "covalent",
           "roughness": 0.4,
           "sele": "all",
           "side": "double",
           "sphereDetail": 1,
           "useInteriorColor": true,
           "visible": true,
           "wireframe": false
          },
          "type": "spacefill"
         },
         "2": {
          "params": {
           "aspectRatio": 2,
           "assembly": "default",
           "bondScale": 0.4,
           "bondSpacing": 1,
           "clipCenter": {
            "x": 0,
            "y": 0,
            "z": 0
           },
           "clipNear": 0,
           "clipRadius": 0,
           "colorMode": "hcl",
           "colorReverse": false,
           "colorScale": "",
           "colorScheme": "element",
           "colorValue": 9474192,
           "cylinderOnly": false,
           "defaultAssembly": "",
           "depthWrite": true,
           "diffuse": 16777215,
           "diffuseInterior": false,
           "disableImpostor": false,
           "disablePicking": false,
           "flatShaded": false,
           "interiorColor": 2236962,
           "interiorDarkening": 0,
           "lazy": false,
           "lineOnly": false,
           "linewidth": 2,
           "matrix": {
            "elements": [
             1,
             0,
             0,
             0,
             0,
             1,
             0,
             0,
             0,
             0,
             1,
             0,
             0,
             0,
             0,
             1
            ]
           },
           "metalness": 0,
           "multipleBond": "off",
           "opacity": 1,
           "openEnded": true,
           "quality": "medium",
           "radialSegments": 10,
           "radiusData": {},
           "radiusScale": 1,
           "radiusSize": 0.15,
           "radiusType": "size",
           "roughness": 0.4,
           "sele": "all",
           "side": "double",
           "sphereDetail": 1,
           "useInteriorColor": true,
           "visible": true,
           "wireframe": false
          },
          "type": "ball+stick"
         }
        }
       },
       "_ngl_serialize": false,
       "_ngl_version": "2.0.0-dev.36",
       "_ngl_view_id": [
        "CB13D0DE-57CC-4679-B3CA-8B8A729D4785"
       ],
       "_player_dict": {},
       "_scene_position": {},
       "_scene_rotation": {},
       "_synced_model_ids": [],
       "_synced_repr_model_ids": [],
       "_view_height": "",
       "_view_width": "",
       "background": "white",
       "frame": 0,
       "gui_style": null,
       "layout": "IPY_MODEL_ad14a315abec41c4befab1c0860e7606",
       "max_frame": 99,
       "n_components": 1,
       "picked": {}
      }
     },
     "af19352dc8bd418b8c954017d5e411ee": {
      "model_module": "nglview-js-widgets",
      "model_module_version": "3.0.1",
      "model_name": "NGLModel",
      "state": {
       "_camera_orientation": [
        31.18844763342568,
        0,
        0,
        0,
        0,
        31.18844763342568,
        0,
        0,
        0,
        0,
        31.18844763342568,
        0,
        -8.515000082552433,
        -8.813500137999654,
        -6.493999779224396,
        1
       ],
       "_camera_str": "orthographic",
       "_gui_theme": null,
       "_ibtn_fullscreen": "IPY_MODEL_8ed1526114ac4ababd85779edbe97926",
       "_igui": null,
       "_iplayer": "IPY_MODEL_dbb208ace9544f459007a02d3adc73f9",
       "_ngl_color_dict": {},
       "_ngl_coordinate_resource": {},
       "_ngl_full_stage_parameters": {
        "ambientColor": 14540253,
        "ambientIntensity": 0.2,
        "backgroundColor": "white",
        "cameraEyeSep": 0.3,
        "cameraFov": 40,
        "cameraType": "orthographic",
        "clipDist": 0,
        "clipFar": 100,
        "clipNear": 0,
        "fogFar": 100,
        "fogNear": 50,
        "hoverTimeout": 0,
        "impostor": true,
        "lightColor": 14540253,
        "lightIntensity": 1,
        "mousePreset": "default",
        "panSpeed": 1,
        "quality": "medium",
        "rotateSpeed": 2,
        "sampleLevel": 0,
        "tooltip": true,
        "workerDefault": true,
        "zoomSpeed": 1.2
       },
       "_ngl_msg_archive": [
        {
         "args": [
          {
           "binary": false,
           "data": "CRYST1   17.219   17.743   13.014  91.96  90.58  90.23 P 1\nMODEL     1\nATOM      1   Li MOL     1       8.368   4.164  12.378  1.00  0.00          LI  \nATOM      2   Li MOL     1       8.226   4.396   5.543  1.00  0.00          LI  \nATOM      3   Li MOL     1       4.288   8.312   7.139  1.00  0.00          LI  \nATOM      4   Li MOL     1       4.229   8.816   0.661  1.00  0.00          LI  \nATOM      5   Li MOL     1       2.211   2.493   2.048  1.00  0.00          LI  \nATOM      6   Li MOL     1       6.339   6.502   3.671  1.00  0.00          LI  \nATOM      7   Li MOL     1       1.729   6.919   9.797  1.00  0.00          LI  \nATOM      8   Li MOL     1       1.914   6.603   3.275  1.00  0.00          LI  \nATOM      9   Li MOL     1       6.440   1.796   4.571  1.00  0.00          LI  \nATOM     10   Li MOL     1       3.860   4.245   9.762  1.00  0.00          LI  \nATOM     11   Li MOL     1       1.920   1.861   4.760  1.00  0.00          LI  \nATOM     12   Li MOL     1       6.197   1.890  11.151  1.00  0.00          LI  \nATOM     13   Li MOL     1       2.080   6.751   0.074  1.00  0.00          LI  \nATOM     14   Li MOL     1       6.353   2.273   1.709  1.00  0.00          LI  \nATOM     15   Li MOL     1       6.459   6.159   8.967  1.00  0.00          LI  \nATOM     16   Li MOL     1       1.771   1.883  11.960  1.00  0.00          LI  \nATOM     17   Li MOL     1       6.411   6.750   0.109  1.00  0.00          LI  \nATOM     18   Li MOL     1       2.015   6.165   6.310  1.00  0.00          LI  \nATOM     19   Li MOL     1       6.654   1.627   8.137  1.00  0.00          LI  \nATOM     20   Li MOL     1       1.981   1.593   8.451  1.00  0.00          LI  \nATOM     21   Ge MOL     1       8.540   4.248   2.384  1.00  0.00          GE  \nATOM     22   Ge MOL     1       4.238   8.423  10.607  1.00  0.00          GE  \nATOM     23    P MOL     1       8.451   8.340   6.524  1.00  0.00           P  \nATOM     24    P MOL     1       4.088   4.129  12.914  1.00  0.00           P  \nATOM     25    P MOL     1      -0.034   3.981   8.905  1.00  0.00           P  \nATOM     26    P MOL     1       4.158  -0.060   4.033  1.00  0.00           P  \nATOM     27    S MOL     1       8.448   1.370   5.769  1.00  0.00           S  \nATOM     28    S MOL     1      -0.039   6.867   5.076  1.00  0.00           S  \nATOM     29    S MOL     1       2.413   4.295  11.723  1.00  0.00           S  \nATOM     30    S MOL     1       5.749   4.295  11.706  1.00  0.00           S  \nATOM     31    S MOL     1       4.229   6.127   1.257  1.00  0.00           S  \nATOM     32    S MOL     1       4.177   2.722   0.775  1.00  0.00           S  \nATOM     33    S MOL     1       1.571   8.149   7.644  1.00  0.00           S  \nATOM     34    S MOL     1       6.789   8.135   7.673  1.00  0.00           S  \nATOM     35    S MOL     1       0.041   2.605   0.851  1.00  0.00           S  \nATOM     36    S MOL     1      -0.030   6.240   1.347  1.00  0.00           S  \nATOM     37    S MOL     1       1.729   4.044   7.819  1.00  0.00           S  \nATOM     38    S MOL     1       6.928   4.091   7.674  1.00  0.00           S  \nATOM     39    S MOL     1       4.095   6.935   4.881  1.00  0.00           S  \nATOM     40    S MOL     1       4.204   1.390   5.490  1.00  0.00           S  \nATOM     41    S MOL     1       2.305   8.368  11.772  1.00  0.00           S  \nATOM     42    S MOL     1       5.972   8.451  11.982  1.00  0.00           S  \nATOM     43    S MOL     1       8.421   5.541  10.233  1.00  0.00           S  \nATOM     44    S MOL     1      -0.083   2.157   9.893  1.00  0.00           S  \nATOM     45    S MOL     1       6.662   4.012   3.551  1.00  0.00           S  \nATOM     46    S MOL     1       1.669   4.113   3.786  1.00  0.00           S  \nATOM     47    S MOL     1       4.352   1.464   9.387  1.00  0.00           S  \nATOM     48    S MOL     1       4.122   6.713   9.153  1.00  0.00           S  \nATOM     49    S MOL     1       5.875   0.047   2.881  1.00  0.00           S  \nATOM     50    S MOL     1       2.487   0.177   2.852  1.00  0.00           S  \nATOM     51   Li MOL     1       8.332  13.035  12.378  1.00  0.00          LI  \nATOM     52   Li MOL     1       8.190  13.267   5.543  1.00  0.00          LI  \nATOM     53   Li MOL     1       4.252  17.183   7.139  1.00  0.00          LI  \nATOM     54   Li MOL     1       4.193  17.687   0.661  1.00  0.00          LI  \nATOM     55   Li MOL     1       2.175  11.364   2.048  1.00  0.00          LI  \nATOM     56   Li MOL     1       6.303  15.373   3.671  1.00  0.00          LI  \nATOM     57   Li MOL     1       1.693  15.790   9.797  1.00  0.00          LI  \nATOM     58   Li MOL     1       1.878  15.474   3.275  1.00  0.00          LI  \nATOM     59   Li MOL     1       6.404  10.667   4.571  1.00  0.00          LI  \nATOM     60   Li MOL     1       3.824  13.116   9.762  1.00  0.00          LI  \nATOM     61   Li MOL     1       1.884  10.732   4.760  1.00  0.00          LI  \nATOM     62   Li MOL     1       6.161  10.761  11.151  1.00  0.00          LI  \nATOM     63   Li MOL     1       2.044  15.623   0.074  1.00  0.00          LI  \nATOM     64   Li MOL     1       6.317  11.145   1.709  1.00  0.00          LI  \nATOM     65   Li MOL     1       6.423  15.030   8.967  1.00  0.00          LI  \nATOM     66   Li MOL     1       1.735  10.754  11.960  1.00  0.00          LI  \nATOM     67   Li MOL     1       6.375  15.621   0.109  1.00  0.00          LI  \nATOM     68   Li MOL     1       1.979  15.036   6.310  1.00  0.00          LI  \nATOM     69   Li MOL     1       6.618  10.498   8.137  1.00  0.00          LI  \nATOM     70   Li MOL     1       1.945  10.465   8.451  1.00  0.00          LI  \nATOM     71   Ge MOL     1       8.504  13.119   2.384  1.00  0.00          GE  \nATOM     72   Ge MOL     1       4.202  17.294  10.607  1.00  0.00          GE  \nATOM     73    P MOL     1       8.415  17.212   6.524  1.00  0.00           P  \nATOM     74    P MOL     1       4.052  13.000  12.914  1.00  0.00           P  \nATOM     75    P MOL     1      -0.070  12.852   8.905  1.00  0.00           P  \nATOM     76    P MOL     1       4.122   8.811   4.033  1.00  0.00           P  \nATOM     77    S MOL     1       8.412  10.241   5.769  1.00  0.00           S  \nATOM     78    S MOL     1      -0.075  15.738   5.076  1.00  0.00           S  \nATOM     79    S MOL     1       2.377  13.167  11.723  1.00  0.00           S  \nATOM     80    S MOL     1       5.713  13.166  11.706  1.00  0.00           S  \nATOM     81    S MOL     1       4.193  14.999   1.257  1.00  0.00           S  \nATOM     82    S MOL     1       4.141  11.593   0.775  1.00  0.00           S  \nATOM     83    S MOL     1       1.535  17.020   7.644  1.00  0.00           S  \nATOM     84    S MOL     1       6.753  17.006   7.673  1.00  0.00           S  \nATOM     85    S MOL     1       0.005  11.477   0.851  1.00  0.00           S  \nATOM     86    S MOL     1      -0.066  15.111   1.347  1.00  0.00           S  \nATOM     87    S MOL     1       1.693  12.916   7.819  1.00  0.00           S  \nATOM     88    S MOL     1       6.892  12.962   7.674  1.00  0.00           S  \nATOM     89    S MOL     1       4.059  15.807   4.881  1.00  0.00           S  \nATOM     90    S MOL     1       4.168  10.261   5.490  1.00  0.00           S  \nATOM     91    S MOL     1       2.269  17.240  11.772  1.00  0.00           S  \nATOM     92    S MOL     1       5.936  17.322  11.982  1.00  0.00           S  \nATOM     93    S MOL     1       8.385  14.412  10.233  1.00  0.00           S  \nATOM     94    S MOL     1      -0.119  11.029   9.893  1.00  0.00           S  \nATOM     95    S MOL     1       6.626  12.883   3.551  1.00  0.00           S  \nATOM     96    S MOL     1       1.633  12.984   3.786  1.00  0.00           S  \nATOM     97    S MOL     1       4.316  10.335   9.387  1.00  0.00           S  \nATOM     98    S MOL     1       4.086  15.584   9.153  1.00  0.00           S  \nATOM     99    S MOL     1       5.839   8.918   2.881  1.00  0.00           S  \nATOM    100    S MOL     1       2.451   9.048   2.852  1.00  0.00           S  \nATOM    101   Li MOL     1      16.978   4.164  12.378  1.00  0.00          LI  \nATOM    102   Li MOL     1      16.836   4.396   5.543  1.00  0.00          LI  \nATOM    103   Li MOL     1      12.898   8.312   7.139  1.00  0.00          LI  \nATOM    104   Li MOL     1      12.838   8.816   0.661  1.00  0.00          LI  \nATOM    105   Li MOL     1      10.820   2.493   2.048  1.00  0.00          LI  \nATOM    106   Li MOL     1      14.948   6.502   3.671  1.00  0.00          LI  \nATOM    107   Li MOL     1      10.338   6.919   9.797  1.00  0.00          LI  \nATOM    108   Li MOL     1      10.523   6.603   3.275  1.00  0.00          LI  \nATOM    109   Li MOL     1      15.049   1.796   4.571  1.00  0.00          LI  \nATOM    110   Li MOL     1      12.470   4.245   9.762  1.00  0.00          LI  \nATOM    111   Li MOL     1      10.529   1.861   4.760  1.00  0.00          LI  \nATOM    112   Li MOL     1      14.806   1.890  11.151  1.00  0.00          LI  \nATOM    113   Li MOL     1      10.690   6.751   0.074  1.00  0.00          LI  \nATOM    114   Li MOL     1      14.963   2.273   1.709  1.00  0.00          LI  \nATOM    115   Li MOL     1      15.069   6.159   8.967  1.00  0.00          LI  \nATOM    116   Li MOL     1      10.381   1.883  11.960  1.00  0.00          LI  \nATOM    117   Li MOL     1      15.020   6.750   0.109  1.00  0.00          LI  \nATOM    118   Li MOL     1      10.624   6.165   6.310  1.00  0.00          LI  \nATOM    119   Li MOL     1      15.264   1.627   8.137  1.00  0.00          LI  \nATOM    120   Li MOL     1      10.591   1.593   8.451  1.00  0.00          LI  \nATOM    121   Ge MOL     1      17.149   4.248   2.384  1.00  0.00          GE  \nATOM    122   Ge MOL     1      12.848   8.423  10.607  1.00  0.00          GE  \nATOM    123    P MOL     1      17.060   8.340   6.524  1.00  0.00           P  \nATOM    124    P MOL     1      12.698   4.129  12.914  1.00  0.00           P  \nATOM    125    P MOL     1       8.575   3.981   8.905  1.00  0.00           P  \nATOM    126    P MOL     1      12.767  -0.060   4.033  1.00  0.00           P  \nATOM    127    S MOL     1      17.057   1.370   5.769  1.00  0.00           S  \nATOM    128    S MOL     1       8.570   6.867   5.076  1.00  0.00           S  \nATOM    129    S MOL     1      11.022   4.295  11.723  1.00  0.00           S  \nATOM    130    S MOL     1      14.359   4.295  11.706  1.00  0.00           S  \nATOM    131    S MOL     1      12.838   6.127   1.257  1.00  0.00           S  \nATOM    132    S MOL     1      12.786   2.722   0.775  1.00  0.00           S  \nATOM    133    S MOL     1      10.180   8.149   7.644  1.00  0.00           S  \nATOM    134    S MOL     1      15.399   8.135   7.673  1.00  0.00           S  \nATOM    135    S MOL     1       8.650   2.605   0.851  1.00  0.00           S  \nATOM    136    S MOL     1       8.580   6.240   1.347  1.00  0.00           S  \nATOM    137    S MOL     1      10.338   4.044   7.819  1.00  0.00           S  \nATOM    138    S MOL     1      15.537   4.091   7.674  1.00  0.00           S  \nATOM    139    S MOL     1      12.704   6.935   4.881  1.00  0.00           S  \nATOM    140    S MOL     1      12.813   1.390   5.490  1.00  0.00           S  \nATOM    141    S MOL     1      10.914   8.368  11.772  1.00  0.00           S  \nATOM    142    S MOL     1      14.581   8.451  11.982  1.00  0.00           S  \nATOM    143    S MOL     1      17.030   5.541  10.233  1.00  0.00           S  \nATOM    144    S MOL     1       8.527   2.157   9.893  1.00  0.00           S  \nATOM    145    S MOL     1      15.272   4.012   3.551  1.00  0.00           S  \nATOM    146    S MOL     1      10.279   4.113   3.786  1.00  0.00           S  \nATOM    147    S MOL     1      12.962   1.464   9.387  1.00  0.00           S  \nATOM    148    S MOL     1      12.732   6.713   9.153  1.00  0.00           S  \nATOM    149    S MOL     1      14.484   0.047   2.881  1.00  0.00           S  \nATOM    150    S MOL     1      11.096   0.177   2.852  1.00  0.00           S  \nATOM    151   Li MOL     1      16.942  13.035  12.378  1.00  0.00          LI  \nATOM    152   Li MOL     1      16.800  13.267   5.543  1.00  0.00          LI  \nATOM    153   Li MOL     1      12.862  17.183   7.139  1.00  0.00          LI  \nATOM    154   Li MOL     1      12.802  17.687   0.661  1.00  0.00          LI  \nATOM    155   Li MOL     1      10.784  11.364   2.048  1.00  0.00          LI  \nATOM    156   Li MOL     1      14.912  15.373   3.671  1.00  0.00          LI  \nATOM    157   Li MOL     1      10.302  15.790   9.797  1.00  0.00          LI  \nATOM    158   Li MOL     1      10.487  15.474   3.275  1.00  0.00          LI  \nATOM    159   Li MOL     1      15.013  10.667   4.571  1.00  0.00          LI  \nATOM    160   Li MOL     1      12.434  13.116   9.762  1.00  0.00          LI  \nATOM    161   Li MOL     1      10.493  10.732   4.760  1.00  0.00          LI  \nATOM    162   Li MOL     1      14.770  10.761  11.151  1.00  0.00          LI  \nATOM    163   Li MOL     1      10.654  15.623   0.074  1.00  0.00          LI  \nATOM    164   Li MOL     1      14.927  11.145   1.709  1.00  0.00          LI  \nATOM    165   Li MOL     1      15.033  15.030   8.967  1.00  0.00          LI  \nATOM    166   Li MOL     1      10.345  10.754  11.960  1.00  0.00          LI  \nATOM    167   Li MOL     1      14.984  15.621   0.109  1.00  0.00          LI  \nATOM    168   Li MOL     1      10.588  15.036   6.310  1.00  0.00          LI  \nATOM    169   Li MOL     1      15.228  10.498   8.137  1.00  0.00          LI  \nATOM    170   Li MOL     1      10.555  10.465   8.451  1.00  0.00          LI  \nATOM    171   Ge MOL     1      17.113  13.119   2.384  1.00  0.00          GE  \nATOM    172   Ge MOL     1      12.812  17.294  10.607  1.00  0.00          GE  \nATOM    173    P MOL     1      17.024  17.212   6.524  1.00  0.00           P  \nATOM    174    P MOL     1      12.662  13.000  12.914  1.00  0.00           P  \nATOM    175    P MOL     1       8.539  12.852   8.905  1.00  0.00           P  \nATOM    176    P MOL     1      12.731   8.811   4.033  1.00  0.00           P  \nATOM    177    S MOL     1      17.021  10.241   5.769  1.00  0.00           S  \nATOM    178    S MOL     1       8.534  15.738   5.076  1.00  0.00           S  \nATOM    179    S MOL     1      10.986  13.167  11.723  1.00  0.00           S  \nATOM    180    S MOL     1      14.323  13.166  11.706  1.00  0.00           S  \nATOM    181    S MOL     1      12.802  14.999   1.257  1.00  0.00           S  \nATOM    182    S MOL     1      12.751  11.593   0.775  1.00  0.00           S  \nATOM    183    S MOL     1      10.144  17.020   7.644  1.00  0.00           S  \nATOM    184    S MOL     1      15.363  17.006   7.673  1.00  0.00           S  \nATOM    185    S MOL     1       8.614  11.477   0.851  1.00  0.00           S  \nATOM    186    S MOL     1       8.544  15.111   1.347  1.00  0.00           S  \nATOM    187    S MOL     1      10.302  12.916   7.819  1.00  0.00           S  \nATOM    188    S MOL     1      15.502  12.962   7.674  1.00  0.00           S  \nATOM    189    S MOL     1      12.668  15.807   4.881  1.00  0.00           S  \nATOM    190    S MOL     1      12.777  10.261   5.490  1.00  0.00           S  \nATOM    191    S MOL     1      10.878  17.240  11.772  1.00  0.00           S  \nATOM    192    S MOL     1      14.546  17.322  11.982  1.00  0.00           S  \nATOM    193    S MOL     1      16.994  14.412  10.233  1.00  0.00           S  \nATOM    194    S MOL     1       8.491  11.029   9.893  1.00  0.00           S  \nATOM    195    S MOL     1      15.236  12.883   3.551  1.00  0.00           S  \nATOM    196    S MOL     1      10.243  12.984   3.786  1.00  0.00           S  \nATOM    197    S MOL     1      12.926  10.335   9.387  1.00  0.00           S  \nATOM    198    S MOL     1      12.696  15.584   9.153  1.00  0.00           S  \nATOM    199    S MOL     1      14.448   8.918   2.881  1.00  0.00           S  \nATOM    200    S MOL     1      11.060   9.048   2.852  1.00  0.00           S  \nENDMDL\n",
           "type": "blob"
          }
         ],
         "kwargs": {
          "defaultRepresentation": false,
          "ext": "pdb"
         },
         "methodName": "loadFile",
         "reconstruc_color_scheme": false,
         "target": "Stage",
         "type": "call_method"
        },
        {
         "args": [
          "500px",
          "500px"
         ],
         "kwargs": {},
         "methodName": "setSize",
         "reconstruc_color_scheme": false,
         "target": "Widget",
         "type": "call_method"
        },
        {
         "args": [
          "unitcell"
         ],
         "component_index": 0,
         "kwargs": {
          "sele": "all"
         },
         "methodName": "addRepresentation",
         "reconstruc_color_scheme": false,
         "target": "compList",
         "type": "call_method"
        },
        {
         "args": [
          "spacefill"
         ],
         "component_index": 0,
         "kwargs": {
          "sele": "all"
         },
         "methodName": "addRepresentation",
         "reconstruc_color_scheme": false,
         "target": "compList",
         "type": "call_method"
        },
        {
         "args": [],
         "kwargs": {
          "cameraType": "orthographic"
         },
         "methodName": "setParameters",
         "reconstruc_color_scheme": false,
         "target": "Stage",
         "type": "call_method"
        },
        {
         "args": [
          {
           "clipDist": 0
          }
         ],
         "kwargs": {},
         "methodName": "setParameters",
         "reconstruc_color_scheme": false,
         "target": "Widget",
         "type": "call_method"
        },
        {
         "args": [
          "spacefill",
          0
         ],
         "kwargs": {
          "colorScale": "rainbow",
          "colorScheme": "element",
          "radiusScale": 0.5,
          "radiusType": "covalent"
         },
         "methodName": "updateRepresentationsByName",
         "reconstruc_color_scheme": false,
         "target": "Widget",
         "type": "call_method"
        },
        {
         "args": [
          "this._Q = [[1.0, 0.0, 0.0], [0.0, 1.0, 0.0], [0.0, 0.0, 1.0]]\n    var tooltip = document.createElement('div');\n    Object.assign(tooltip.style, {\n      display: 'none',\n      position: 'fixed',\n      zIndex: 10,\n      pointerEvents: 'none',\n      backgroundColor: 'rgba( 0, 0, 0, 0.6 )',\n      color: 'lightgrey',\n      padding: '8px',\n      fontFamily: 'sans-serif'\n    });\n    document.body.appendChild(tooltip);\n\n    var that = this;\n    this.stage.mouseControls.remove('hoverPick');\n    this.stage.signals.hovered.add(function (pickingProxy) {\n      if (pickingProxy && (pickingProxy.atom || pickingProxy.bond)) {\n        var atom = pickingProxy.atom || pickingProxy.closestBondAtom\n        var mp = pickingProxy.mouse.position\n        //tooltip.innerText = atom.element + ' i=' + atom.index + ' (' + atom.x.toFixed(2) +  ', ' + atom.y.toFixed(2) +  ', ' + atom.z.toFixed(2) + ')'\n        //var pos = that._atoms_pos[atom.index]\n        var Q = that._Q\n        var pos_x = Q[0][0] * atom.x + Q[0][1] * atom.y + Q[0][2] * atom.z \n        var pos_y = Q[1][0] * atom.x + Q[1][1] * atom.y + Q[1][2] * atom.z\n        var pos_z = Q[2][0] * atom.x + Q[2][1] * atom.y + Q[2][2] * atom.z\n        tooltip.innerText = 'i=' + atom.index + ' ' + atom.element + ' (' + pos_x.toFixed(2) +  ', ' + pos_y.toFixed(2) +  ', ' + pos_z.toFixed(2) + ')'\n        tooltip.style.bottom = window.innerHeight - mp.y + 3 + 'px'\n        tooltip.style.left = mp.x + 3 + 'px'\n        tooltip.style.display = 'block'\n      } else {\n        tooltip.style.display = 'none'\n      }\n    });\n    this.stage.tooltip = tooltip;\n    "
         ],
         "kwargs": {},
         "methodName": "executeCode",
         "reconstruc_color_scheme": false,
         "target": "Widget",
         "type": "call_method"
        },
        {
         "args": [
          "ball+stick"
         ],
         "component_index": 0,
         "kwargs": {
          "sele": "all"
         },
         "methodName": "addRepresentation",
         "reconstruc_color_scheme": false,
         "target": "compList",
         "type": "call_method"
        }
       ],
       "_ngl_original_stage_parameters": {
        "ambientColor": 14540253,
        "ambientIntensity": 0.2,
        "backgroundColor": "white",
        "cameraEyeSep": 0.3,
        "cameraFov": 40,
        "cameraType": "perspective",
        "clipDist": 10,
        "clipFar": 100,
        "clipNear": 0,
        "fogFar": 100,
        "fogNear": 50,
        "hoverTimeout": 0,
        "impostor": true,
        "lightColor": 14540253,
        "lightIntensity": 1,
        "mousePreset": "default",
        "panSpeed": 1,
        "quality": "medium",
        "rotateSpeed": 2,
        "sampleLevel": 0,
        "tooltip": true,
        "workerDefault": true,
        "zoomSpeed": 1.2
       },
       "_ngl_repr_dict": {
        "0": {
         "0": {
          "params": {
           "clipCenter": {
            "x": 0,
            "y": 0,
            "z": 0
           },
           "clipNear": 0,
           "clipRadius": 0,
           "colorMode": "hcl",
           "colorReverse": false,
           "colorScale": "",
           "colorScheme": "element",
           "colorValue": "orange",
           "defaultAssembly": "",
           "depthWrite": true,
           "diffuse": 16777215,
           "diffuseInterior": false,
           "disableImpostor": false,
           "disablePicking": false,
           "flatShaded": false,
           "interiorColor": 2236962,
           "interiorDarkening": 0,
           "lazy": false,
           "matrix": {
            "elements": [
             1,
             0,
             0,
             0,
             0,
             1,
             0,
             0,
             0,
             0,
             1,
             0,
             0,
             0,
             0,
             1
            ]
           },
           "metalness": 0,
           "opacity": 1,
           "quality": "medium",
           "radialSegments": 10,
           "radiusData": {},
           "radiusScale": 1,
           "radiusSize": 0.07919428873467649,
           "radiusType": "vdw",
           "roughness": 0.4,
           "sele": "all",
           "side": "double",
           "sphereDetail": 1,
           "useInteriorColor": true,
           "visible": true,
           "wireframe": false
          },
          "type": "unitcell"
         },
         "1": {
          "params": {
           "assembly": "default",
           "clipCenter": {
            "x": 0,
            "y": 0,
            "z": 0
           },
           "clipNear": 0,
           "clipRadius": 0,
           "colorMode": "hcl",
           "colorReverse": false,
           "colorScale": "rainbow",
           "colorScheme": "element",
           "colorValue": 9474192,
           "defaultAssembly": "",
           "depthWrite": true,
           "diffuse": 16777215,
           "diffuseInterior": false,
           "disableImpostor": false,
           "disablePicking": false,
           "flatShaded": false,
           "interiorColor": 2236962,
           "interiorDarkening": 0,
           "lazy": false,
           "matrix": {
            "elements": [
             1,
             0,
             0,
             0,
             0,
             1,
             0,
             0,
             0,
             0,
             1,
             0,
             0,
             0,
             0,
             1
            ]
           },
           "metalness": 0,
           "opacity": 1,
           "quality": "medium",
           "radiusData": {},
           "radiusScale": 0.5,
           "radiusSize": 1,
           "radiusType": "covalent",
           "roughness": 0.4,
           "sele": "all",
           "side": "double",
           "sphereDetail": 1,
           "useInteriorColor": true,
           "visible": true,
           "wireframe": false
          },
          "type": "spacefill"
         },
         "2": {
          "params": {
           "aspectRatio": 2,
           "assembly": "default",
           "bondScale": 0.4,
           "bondSpacing": 1,
           "clipCenter": {
            "x": 0,
            "y": 0,
            "z": 0
           },
           "clipNear": 0,
           "clipRadius": 0,
           "colorMode": "hcl",
           "colorReverse": false,
           "colorScale": "",
           "colorScheme": "element",
           "colorValue": 9474192,
           "cylinderOnly": false,
           "defaultAssembly": "",
           "depthWrite": true,
           "diffuse": 16777215,
           "diffuseInterior": false,
           "disableImpostor": false,
           "disablePicking": false,
           "flatShaded": false,
           "interiorColor": 2236962,
           "interiorDarkening": 0,
           "lazy": false,
           "lineOnly": false,
           "linewidth": 2,
           "matrix": {
            "elements": [
             1,
             0,
             0,
             0,
             0,
             1,
             0,
             0,
             0,
             0,
             1,
             0,
             0,
             0,
             0,
             1
            ]
           },
           "metalness": 0,
           "multipleBond": "off",
           "opacity": 1,
           "openEnded": true,
           "quality": "medium",
           "radialSegments": 10,
           "radiusData": {},
           "radiusScale": 1,
           "radiusSize": 0.15,
           "radiusType": "size",
           "roughness": 0.4,
           "sele": "all",
           "side": "double",
           "sphereDetail": 1,
           "useInteriorColor": true,
           "visible": true,
           "wireframe": false
          },
          "type": "ball+stick"
         }
        }
       },
       "_ngl_serialize": false,
       "_ngl_version": "2.0.0-dev.36",
       "_ngl_view_id": [
        "9CA7E9D2-C79B-4907-B881-94C184B38064"
       ],
       "_player_dict": {},
       "_scene_position": {},
       "_scene_rotation": {},
       "_synced_model_ids": [],
       "_synced_repr_model_ids": [],
       "_view_height": "",
       "_view_width": "",
       "background": "white",
       "frame": 0,
       "gui_style": null,
       "layout": "IPY_MODEL_91de64a7118a4de4b9a61a5b6cc7e2c3",
       "max_frame": 0,
       "n_components": 1,
       "picked": {}
      }
     },
     "afe91ac1290641d7bb20a33d6773e5e1": {
      "model_module": "@jupyter-widgets/controls",
      "model_module_version": "1.5.0",
      "model_name": "ButtonModel",
      "state": {
       "description": "Download image",
       "layout": "IPY_MODEL_3bf681812bc44ec895845e9d34207cc7",
       "style": "IPY_MODEL_6dade4559ca14b0fbe79c8f7003caecd",
       "tooltip": "Download current frame to your local PC"
      }
     },
     "b0807e4fe3be4403baaa81b7f04f56fb": {
      "model_module": "@jupyter-widgets/base",
      "model_module_version": "1.2.0",
      "model_name": "LayoutModel",
      "state": {}
     },
     "b0b1b88486b44b92836eae3579e1af9a": {
      "model_module": "@jupyter-widgets/base",
      "model_module_version": "1.2.0",
      "model_name": "LayoutModel",
      "state": {}
     },
     "b0dd87ae3bc1496f8f9d9c01df4bf7db": {
      "model_module": "@jupyter-widgets/base",
      "model_module_version": "1.2.0",
      "model_name": "LayoutModel",
      "state": {}
     },
     "b0e5c294cebc4fbe8d3928b6f23b614b": {
      "model_module": "@jupyter-widgets/controls",
      "model_module_version": "1.5.0",
      "model_name": "ButtonStyleModel",
      "state": {}
     },
     "b17b03764d03472195a6b8edd3f16453": {
      "model_module": "@jupyter-widgets/base",
      "model_module_version": "1.2.0",
      "model_name": "LayoutModel",
      "state": {}
     },
     "b1d0053d1a0a4225a1bcf6e436714688": {
      "model_module": "@jupyter-widgets/base",
      "model_module_version": "1.2.0",
      "model_name": "LayoutModel",
      "state": {}
     },
     "b2942a98d72347e089878504c0a994bb": {
      "model_module": "@jupyter-widgets/base",
      "model_module_version": "1.2.0",
      "model_name": "LayoutModel",
      "state": {}
     },
     "b4202c0f4a7744e6bde23d9707fe73f3": {
      "model_module": "@jupyter-widgets/controls",
      "model_module_version": "1.5.0",
      "model_name": "SliderStyleModel",
      "state": {
       "description_width": ""
      }
     },
     "b51c824c17ca4f1caf8ca14d0fee3f41": {
      "model_module": "@jupyter-widgets/controls",
      "model_module_version": "1.5.0",
      "model_name": "ImageModel",
      "state": {
       "layout": "IPY_MODEL_27de3639c2364ef6b6353f1e117cbdd6",
       "width": "900.0"
      }
     },
     "b5a1370075ec412b9c56c1bb09a7df40": {
      "model_module": "@jupyter-widgets/controls",
      "model_module_version": "1.5.0",
      "model_name": "ButtonStyleModel",
      "state": {}
     },
     "b620c6af0a9c445fa440b8c45d164ccf": {
      "model_module": "@jupyter-widgets/controls",
      "model_module_version": "1.5.0",
      "model_name": "FloatSliderModel",
      "state": {
       "description": "Ball size",
       "layout": "IPY_MODEL_c75239ee484349c8a91b8f4ddbf15c20",
       "max": 1.5,
       "step": 0.01,
       "style": "IPY_MODEL_d9e23bf3fbf04dcfb041dad9ad5cdb73",
       "value": 0.5
      }
     },
     "b6c49fe17ba54c75816d3c912ffd1e0d": {
      "model_module": "@jupyter-widgets/controls",
      "model_module_version": "1.5.0",
      "model_name": "DescriptionStyleModel",
      "state": {
       "description_width": ""
      }
     },
     "b6f054b361684c798785d024990630ef": {
      "model_module": "@jupyter-widgets/base",
      "model_module_version": "1.2.0",
      "model_name": "LayoutModel",
      "state": {}
     },
     "b8cb5b5a84544770bffcb90b33858d24": {
      "model_module": "@jupyter-widgets/base",
      "model_module_version": "1.2.0",
      "model_name": "LayoutModel",
      "state": {}
     },
     "b9db973215eb479f9fb8dc6a4d8818b9": {
      "model_module": "@jupyter-widgets/controls",
      "model_module_version": "1.5.0",
      "model_name": "LinkModel",
      "state": {
       "source": [
        "IPY_MODEL_caecb3582f2a4572ae52bb3e3cae3dff",
        "max"
       ],
       "target": [
        "IPY_MODEL_76d56e99a697473a96eb39a3146f9157",
        "max_frame"
       ]
      }
     },
     "b9e490e614f741d193c5739c5da72bdc": {
      "model_module": "@jupyter-widgets/controls",
      "model_module_version": "1.5.0",
      "model_name": "TextModel",
      "state": {
       "description": "Filename: ",
       "layout": "IPY_MODEL_15430e00f18f49ddbc5280d89c1c4ea0",
       "style": "IPY_MODEL_6f5aee7af1cc4ade94dd80ab2a736a09",
       "value": "screenshot.png"
      }
     },
     "ba06f43ca36b428985f7a063f7b36f14": {
      "model_module": "@jupyter-widgets/controls",
      "model_module_version": "1.5.0",
      "model_name": "DropdownModel",
      "state": {
       "_options_labels": [
        " ",
        "picking",
        "random",
        "uniform",
        "atomindex",
        "residueindex",
        "chainindex",
        "modelindex",
        "sstruc",
        "element",
        "resname",
        "bfactor",
        "hydrophobicity",
        "value",
        "volume",
        "occupancy"
       ],
       "description": "Color scheme",
       "index": 9,
       "layout": "IPY_MODEL_d8b262544dad4be18d25a96b8e1974d7",
       "style": "IPY_MODEL_6e4807c7e6244f378d5a7f2bf551ad50"
      }
     },
     "ba8eb3a120754e8693684e564fd2c2fa": {
      "model_module": "@jupyter-widgets/controls",
      "model_module_version": "1.5.0",
      "model_name": "LinkModel",
      "state": {
       "source": [
        "IPY_MODEL_675e20e48fb04de5b8736f3c7e26c039",
        "value"
       ],
       "target": [
        "IPY_MODEL_5ab4bcbb44b84a07a364ea7ab8d012de",
        "frame"
       ]
      }
     },
     "bae265f9c69e41c5af78ef498d68d90e": {
      "model_module": "@jupyter-widgets/controls",
      "model_module_version": "1.5.0",
      "model_name": "DropdownModel",
      "state": {
       "_options_labels": [
        "All",
        "O",
        "Al"
       ],
       "description": "Show",
       "index": 0,
       "layout": "IPY_MODEL_3bb98cf042984ab9bea184d400b11b7e",
       "style": "IPY_MODEL_f52ca110574e41fcb2bfd07e9c0abdae"
      }
     },
     "bb77a3c9b99743818e819975043526d6": {
      "model_module": "@jupyter-widgets/controls",
      "model_module_version": "1.5.0",
      "model_name": "SliderStyleModel",
      "state": {
       "description_width": ""
      }
     },
     "bc464ab6547f45c39400eed048c5497b": {
      "model_module": "@jupyter-widgets/controls",
      "model_module_version": "1.5.0",
      "model_name": "ImageModel",
      "state": {
       "layout": "IPY_MODEL_2e1ff3c48c044e05a382d563d5be0a13",
       "width": "900.0"
      }
     },
     "bc851bc59b39401ebb5588c9dc3bc63e": {
      "model_module": "@jupyter-widgets/base",
      "model_module_version": "1.2.0",
      "model_name": "LayoutModel",
      "state": {}
     },
     "bd4f17c004cc434fa0af7e8e93b0aac2": {
      "model_module": "@jupyter-widgets/base",
      "model_module_version": "1.2.0",
      "model_name": "LayoutModel",
      "state": {}
     },
     "beb85ea3366a44ec8c1d69b63cbd2637": {
      "model_module": "@jupyter-widgets/controls",
      "model_module_version": "1.5.0",
      "model_name": "DescriptionStyleModel",
      "state": {
       "description_width": ""
      }
     },
     "bf9e76c1c7654911bb8046575e8583c2": {
      "model_module": "@jupyter-widgets/controls",
      "model_module_version": "1.5.0",
      "model_name": "DescriptionStyleModel",
      "state": {
       "description_width": ""
      }
     },
     "c13133ab950a41689aa5f760836c7b5d": {
      "model_module": "@jupyter-widgets/base",
      "model_module_version": "1.2.0",
      "model_name": "LayoutModel",
      "state": {
       "border": "0px solid black"
      }
     },
     "c148aee627ea4eebb7f006fad33740f4": {
      "model_module": "@jupyter-widgets/controls",
      "model_module_version": "1.5.0",
      "model_name": "DescriptionStyleModel",
      "state": {
       "description_width": ""
      }
     },
     "c243b6bcc0bf44b4ab9b03ee509676e6": {
      "model_module": "@jupyter-widgets/controls",
      "model_module_version": "1.5.0",
      "model_name": "LinkModel",
      "state": {
       "source": [
        "IPY_MODEL_9c90943972e14c4ebbec5bce474c005e",
        "max"
       ],
       "target": [
        "IPY_MODEL_ade5f14d43194b268a3effeeb4d06417",
        "max_frame"
       ]
      }
     },
     "c3e1579f6a79448a8b0d0884e0eb6228": {
      "model_module": "@jupyter-widgets/controls",
      "model_module_version": "1.5.0",
      "model_name": "FloatSliderModel",
      "state": {
       "description": "Charge scale",
       "layout": "IPY_MODEL_9273fd89774d45da90b8219dc104f57a",
       "step": 0.1,
       "style": "IPY_MODEL_86b8e087eb6e4efdb3a7716a64d853b8",
       "value": 1
      }
     },
     "c3e320ce2d5d4b08ab69901fcd30a73f": {
      "model_module": "@jupyter-widgets/base",
      "model_module_version": "1.2.0",
      "model_name": "LayoutModel",
      "state": {}
     },
     "c423a2bf5e7a433aba33a3e1a3f49f35": {
      "model_module": "@jupyter-widgets/controls",
      "model_module_version": "1.5.0",
      "model_name": "DropdownModel",
      "state": {
       "_options_labels": [
        "All",
        "O",
        "Al"
       ],
       "description": "Show",
       "index": 0,
       "layout": "IPY_MODEL_4cb05c20153a4fe29ce9ec00d6ad4bac",
       "style": "IPY_MODEL_0b8564b75cd24ab39d14a03c0ac1070a"
      }
     },
     "c5132f60627348eba9ee94d6b0385a2e": {
      "model_module": "@jupyter-widgets/controls",
      "model_module_version": "1.5.0",
      "model_name": "CheckboxModel",
      "state": {
       "description": "Show charge",
       "disabled": false,
       "layout": "IPY_MODEL_8326090932ae45b9a0aaa6ba2b643261",
       "style": "IPY_MODEL_b6c49fe17ba54c75816d3c912ffd1e0d",
       "value": false
      }
     },
     "c52cef9d40bc46e8b88611a2148bde3f": {
      "model_module": "@jupyter-widgets/base",
      "model_module_version": "1.2.0",
      "model_name": "LayoutModel",
      "state": {
       "width": "34px"
      }
     },
     "c576c87562014f2ba5ad0aa01f9a0bd2": {
      "model_module": "@jupyter-widgets/controls",
      "model_module_version": "1.5.0",
      "model_name": "PlayModel",
      "state": {
       "layout": "IPY_MODEL_b6f054b361684c798785d024990630ef",
       "max": 0,
       "style": "IPY_MODEL_beb85ea3366a44ec8c1d69b63cbd2637"
      }
     },
     "c59f7e21156647d7b650cc3ad117cb55": {
      "model_module": "@jupyter-widgets/base",
      "model_module_version": "1.2.0",
      "model_name": "LayoutModel",
      "state": {}
     },
     "c6370ab455d64b40a2df2d6e8eecac3f": {
      "model_module": "@jupyter-widgets/base",
      "model_module_version": "1.2.0",
      "model_name": "LayoutModel",
      "state": {}
     },
     "c75239ee484349c8a91b8f4ddbf15c20": {
      "model_module": "@jupyter-widgets/base",
      "model_module_version": "1.2.0",
      "model_name": "LayoutModel",
      "state": {}
     },
     "c85f909a8aaa4eb3909381ee324a41f8": {
      "model_module": "@jupyter-widgets/base",
      "model_module_version": "1.2.0",
      "model_name": "LayoutModel",
      "state": {}
     },
     "c894ff6f565a4e339a0348009ec28fde": {
      "model_module": "@jupyter-widgets/output",
      "model_module_version": "1.0.0",
      "model_name": "OutputModel",
      "state": {
       "layout": "IPY_MODEL_c13133ab950a41689aa5f760836c7b5d"
      }
     },
     "c8e2c9bc4e0d46adb6c487a39bdfdad2": {
      "model_module": "@jupyter-widgets/controls",
      "model_module_version": "1.5.0",
      "model_name": "HBoxModel",
      "state": {
       "children": [
        "IPY_MODEL_cd1ad9668ddb4ad787a439bd107dd904",
        "IPY_MODEL_f0675251185c4cac831c4deb0f2eb0c9"
       ],
       "layout": "IPY_MODEL_ee119229aebf453a9a443feaf894475b"
      }
     },
     "c95eadd5c4f64a8095c94d3064b70157": {
      "model_module": "@jupyter-widgets/controls",
      "model_module_version": "1.5.0",
      "model_name": "DescriptionStyleModel",
      "state": {
       "description_width": ""
      }
     },
     "ca43f2eb2ae4409ab4a37bf9f886bd6c": {
      "model_module": "@jupyter-widgets/base",
      "model_module_version": "1.2.0",
      "model_name": "LayoutModel",
      "state": {}
     },
     "caecb3582f2a4572ae52bb3e3cae3dff": {
      "model_module": "@jupyter-widgets/controls",
      "model_module_version": "1.5.0",
      "model_name": "PlayModel",
      "state": {
       "layout": "IPY_MODEL_bc851bc59b39401ebb5588c9dc3bc63e",
       "max": 0,
       "style": "IPY_MODEL_39234db6c19b44699b56e703b08d735b"
      }
     },
     "cb5c0dac9e064ea586ee4d72c398e66e": {
      "model_module": "@jupyter-widgets/controls",
      "model_module_version": "1.5.0",
      "model_name": "HBoxModel",
      "state": {
       "children": [
        "IPY_MODEL_d38885f82fe244b7a09c1de490c15d82",
        "IPY_MODEL_f545ca718d0140ec8365971f07e1ce6c"
       ],
       "layout": "IPY_MODEL_29ee78b6d62942b0a204658b5f80213b"
      }
     },
     "ccb40ce05cd34743bf7918819165be31": {
      "model_module": "@jupyter-widgets/base",
      "model_module_version": "1.2.0",
      "model_name": "LayoutModel",
      "state": {}
     },
     "cd169eea3ff34e60a90737b60cb0ca0e": {
      "model_module": "@jupyter-widgets/controls",
      "model_module_version": "1.5.0",
      "model_name": "CheckboxModel",
      "state": {
       "description": "Show force",
       "disabled": false,
       "layout": "IPY_MODEL_ca43f2eb2ae4409ab4a37bf9f886bd6c",
       "style": "IPY_MODEL_f5203da07d2a44c5b2e4d398d14086d8",
       "value": false
      }
     },
     "cd1ad9668ddb4ad787a439bd107dd904": {
      "model_module": "@jupyter-widgets/controls",
      "model_module_version": "1.5.0",
      "model_name": "ButtonModel",
      "state": {
       "description": "Download image",
       "layout": "IPY_MODEL_bd4f17c004cc434fa0af7e8e93b0aac2",
       "style": "IPY_MODEL_e30c13cc2798431ea667a9687bbe9ec4",
       "tooltip": "Download current frame to your local PC"
      }
     },
     "cedcfeddd3ff4df886d14dbb961f6c79": {
      "model_module": "@jupyter-widgets/controls",
      "model_module_version": "1.5.0",
      "model_name": "LinkModel",
      "state": {
       "source": [
        "IPY_MODEL_caecb3582f2a4572ae52bb3e3cae3dff",
        "value"
       ],
       "target": [
        "IPY_MODEL_8b814deb2752497aad169deda78415f3",
        "value"
       ]
      }
     },
     "cf8aa0a389a64935bd6a585d5322cabb": {
      "model_module": "@jupyter-widgets/base",
      "model_module_version": "1.2.0",
      "model_name": "LayoutModel",
      "state": {
       "border": "0px solid black"
      }
     },
     "cfc9a9b55a8f4241bc158cfeae466eeb": {
      "model_module": "@jupyter-widgets/base",
      "model_module_version": "1.2.0",
      "model_name": "LayoutModel",
      "state": {}
     },
     "cfe2be01695a42fca3b5b5662f1018cf": {
      "model_module": "@jupyter-widgets/controls",
      "model_module_version": "1.5.0",
      "model_name": "HBoxModel",
      "state": {
       "children": [
        "IPY_MODEL_284bc77a586442f4bea02f06487c482e",
        "IPY_MODEL_450ded30818f4158b04d51d98c272735"
       ],
       "layout": "IPY_MODEL_1dccaed42f5f4f0fb573b4863cfa6fa9"
      }
     },
     "d05e4f6dc0154a32a6c2d5c542879f9e": {
      "model_module": "@jupyter-widgets/controls",
      "model_module_version": "1.5.0",
      "model_name": "ButtonModel",
      "state": {
       "description": "Download image",
       "layout": "IPY_MODEL_292d2826dd0a4a5ea2df71847bae3407",
       "style": "IPY_MODEL_2930f0a9f1d947fa87797c3d391010e0",
       "tooltip": "Download current frame to your local PC"
      }
     },
     "d06c10ae06b34dbabf70b13f59ca4f0c": {
      "model_module": "@jupyter-widgets/base",
      "model_module_version": "1.2.0",
      "model_name": "LayoutModel",
      "state": {}
     },
     "d14a4085775f4d88a256cd5c75ee61cc": {
      "model_module": "@jupyter-widgets/base",
      "model_module_version": "1.2.0",
      "model_name": "LayoutModel",
      "state": {}
     },
     "d174a741b22e42ec828bd859e753c852": {
      "model_module": "@jupyter-widgets/controls",
      "model_module_version": "1.5.0",
      "model_name": "CheckboxModel",
      "state": {
       "description": "Show charge",
       "disabled": false,
       "layout": "IPY_MODEL_83f03c55bbaa4a9581caa084a9ae637c",
       "style": "IPY_MODEL_efc0c48bb8024789b130dabefcddd5e5",
       "value": false
      }
     },
     "d2134ef2d9bd4f2dbdd3522be250b607": {
      "model_module": "@jupyter-widgets/controls",
      "model_module_version": "1.5.0",
      "model_name": "LinkModel",
      "state": {
       "source": [
        "IPY_MODEL_1db1e8b02f5c4cffbde3c9b7e226c018",
        "value"
       ],
       "target": [
        "IPY_MODEL_af19352dc8bd418b8c954017d5e411ee",
        "frame"
       ]
      }
     },
     "d2153d7361c2467cb599f18d9acda449": {
      "model_module": "@jupyter-widgets/controls",
      "model_module_version": "1.5.0",
      "model_name": "ButtonModel",
      "state": {
       "description": "Save image",
       "layout": "IPY_MODEL_e8c5380309b7480e941ef80d90fc549b",
       "style": "IPY_MODEL_6da62ab588b14c349ca6bfcac3f1a51b",
       "tooltip": "Save current frame to file.\nCurrently .png and .html are supported.\nIt takes a bit time, please be patient."
      }
     },
     "d2c27dcef9564b2db94ce5d5d4678459": {
      "model_module": "@jupyter-widgets/controls",
      "model_module_version": "1.5.0",
      "model_name": "ButtonStyleModel",
      "state": {}
     },
     "d2c4e540d66640bd88a7eb1a38b338d4": {
      "model_module": "@jupyter-widgets/base",
      "model_module_version": "1.2.0",
      "model_name": "LayoutModel",
      "state": {}
     },
     "d38885f82fe244b7a09c1de490c15d82": {
      "model_module": "@jupyter-widgets/controls",
      "model_module_version": "1.5.0",
      "model_name": "ButtonModel",
      "state": {
       "description": "Download image",
       "layout": "IPY_MODEL_c85f909a8aaa4eb3909381ee324a41f8",
       "style": "IPY_MODEL_7357a7fb8f4a4d6eaafcac5c32a05ed9",
       "tooltip": "Download current frame to your local PC"
      }
     },
     "d3cacf854446418f9b45efb1913e3155": {
      "model_module": "@jupyter-widgets/controls",
      "model_module_version": "1.5.0",
      "model_name": "SliderStyleModel",
      "state": {
       "description_width": ""
      }
     },
     "d41cc0dfc9e442ce9893a8d3ccbd87d8": {
      "model_module": "@jupyter-widgets/controls",
      "model_module_version": "1.5.0",
      "model_name": "ButtonStyleModel",
      "state": {}
     },
     "d43c58b04dd447e4b618e9fb200b9eba": {
      "model_module": "@jupyter-widgets/output",
      "model_module_version": "1.0.0",
      "model_name": "OutputModel",
      "state": {
       "layout": "IPY_MODEL_04faab97f4d843f7bb71c83e317b9be6"
      }
     },
     "d45b114593d24249b464cda3861f96d4": {
      "model_module": "@jupyter-widgets/controls",
      "model_module_version": "1.5.0",
      "model_name": "DescriptionStyleModel",
      "state": {
       "description_width": ""
      }
     },
     "d551c782bc37465f8ab441aa8b71b7f6": {
      "model_module": "@jupyter-widgets/controls",
      "model_module_version": "1.5.0",
      "model_name": "LinkModel",
      "state": {
       "source": [
        "IPY_MODEL_1db1e8b02f5c4cffbde3c9b7e226c018",
        "max"
       ],
       "target": [
        "IPY_MODEL_af19352dc8bd418b8c954017d5e411ee",
        "max_frame"
       ]
      }
     },
     "d55cc6f71586480995c367e16be0a4ee": {
      "model_module": "@jupyter-widgets/controls",
      "model_module_version": "1.5.0",
      "model_name": "VBoxModel",
      "state": {
       "children": [
        "IPY_MODEL_c423a2bf5e7a433aba33a3e1a3f49f35",
        "IPY_MODEL_0f172fbd786941688c5947ece44bcdb4",
        "IPY_MODEL_759754ce55b54e98b8a0010f8465c9d4",
        "IPY_MODEL_43d0268db2ab4c7d83e2cd784ded4798",
        "IPY_MODEL_cb5c0dac9e064ea586ee4d72c398e66e",
        "IPY_MODEL_cd169eea3ff34e60a90737b60cb0ca0e",
        "IPY_MODEL_3c8533273ffc4072b967132d9783a29d",
        "IPY_MODEL_a7c77446743243c580e1e537968b87e1",
        "IPY_MODEL_1b2e51e5cefe408cad39d737c335d205",
        "IPY_MODEL_c894ff6f565a4e339a0348009ec28fde"
       ],
       "layout": "IPY_MODEL_760ce39178eb47b49c654f3f3a03e370"
      }
     },
     "d6f35b78681d41b5bc7db323fb48a130": {
      "model_module": "@jupyter-widgets/controls",
      "model_module_version": "1.5.0",
      "model_name": "ButtonStyleModel",
      "state": {}
     },
     "d7bed712a744459eaba788f34caa1611": {
      "model_module": "@jupyter-widgets/controls",
      "model_module_version": "1.5.0",
      "model_name": "CheckboxModel",
      "state": {
       "description": "Show charge",
       "disabled": false,
       "layout": "IPY_MODEL_033983cb06084f8fa0c54ecde6ca8d32",
       "style": "IPY_MODEL_c148aee627ea4eebb7f006fad33740f4",
       "value": false
      }
     },
     "d8b262544dad4be18d25a96b8e1974d7": {
      "model_module": "@jupyter-widgets/base",
      "model_module_version": "1.2.0",
      "model_name": "LayoutModel",
      "state": {}
     },
     "d8cb94dced704cbaa2f2da3d0ec7f66c": {
      "model_module": "@jupyter-widgets/controls",
      "model_module_version": "1.5.0",
      "model_name": "SliderStyleModel",
      "state": {
       "description_width": ""
      }
     },
     "d93b52ae7fd94119961a90c9fe7378c0": {
      "model_module": "@jupyter-widgets/controls",
      "model_module_version": "1.5.0",
      "model_name": "DescriptionStyleModel",
      "state": {
       "description_width": ""
      }
     },
     "d9cfda9d07074a5aa8a3b7bd533a42f1": {
      "model_module": "@jupyter-widgets/base",
      "model_module_version": "1.2.0",
      "model_name": "LayoutModel",
      "state": {}
     },
     "d9e23bf3fbf04dcfb041dad9ad5cdb73": {
      "model_module": "@jupyter-widgets/controls",
      "model_module_version": "1.5.0",
      "model_name": "SliderStyleModel",
      "state": {
       "description_width": ""
      }
     },
     "daf427cdfbea46a99d47606c3bc3ac27": {
      "model_module": "@jupyter-widgets/base",
      "model_module_version": "1.2.0",
      "model_name": "LayoutModel",
      "state": {}
     },
     "dba29a8ddbeb4e12bb1160454fb02156": {
      "model_module": "@jupyter-widgets/controls",
      "model_module_version": "1.5.0",
      "model_name": "ButtonModel",
      "state": {
       "icon": "compress",
       "layout": "IPY_MODEL_552857ffb71744969012aa174ca9c2b5",
       "style": "IPY_MODEL_dc21052265084fbda6ecdc1bbe628b46"
      }
     },
     "dbb208ace9544f459007a02d3adc73f9": {
      "model_module": "@jupyter-widgets/controls",
      "model_module_version": "1.5.0",
      "model_name": "HBoxModel",
      "state": {
       "children": [
        "IPY_MODEL_1db1e8b02f5c4cffbde3c9b7e226c018",
        "IPY_MODEL_0d7a9488487046579adf51fc98101013"
       ],
       "layout": "IPY_MODEL_88dc4cb695ca42e98713cd5a4f598195"
      }
     },
     "dc0afc77ef544f689bd24f02b1f1a96f": {
      "model_module": "@jupyter-widgets/base",
      "model_module_version": "1.2.0",
      "model_name": "LayoutModel",
      "state": {}
     },
     "dc21052265084fbda6ecdc1bbe628b46": {
      "model_module": "@jupyter-widgets/controls",
      "model_module_version": "1.5.0",
      "model_name": "ButtonStyleModel",
      "state": {}
     },
     "dc3209c4ceba4f4fb23988d9601a0040": {
      "model_module": "@jupyter-widgets/base",
      "model_module_version": "1.2.0",
      "model_name": "LayoutModel",
      "state": {}
     },
     "dcaae65c18924ee19824edc705b67533": {
      "model_module": "@jupyter-widgets/base",
      "model_module_version": "1.2.0",
      "model_name": "LayoutModel",
      "state": {}
     },
     "dcdb3383b1a445b9872891e81bd02765": {
      "model_module": "@jupyter-widgets/base",
      "model_module_version": "1.2.0",
      "model_name": "LayoutModel",
      "state": {}
     },
     "dcfa9e29ed2244c7be293544334bf284": {
      "model_module": "@jupyter-widgets/controls",
      "model_module_version": "1.5.0",
      "model_name": "HBoxModel",
      "state": {
       "children": [
        "IPY_MODEL_af19352dc8bd418b8c954017d5e411ee",
        "IPY_MODEL_499481990b1b4deab2f2e7b7fd78e2ef"
       ],
       "layout": "IPY_MODEL_de71579646c04bd8a7096f7d44b2f24d"
      }
     },
     "de119d594ac446e7a2f388d6bde5704f": {
      "model_module": "@jupyter-widgets/base",
      "model_module_version": "1.2.0",
      "model_name": "LayoutModel",
      "state": {
       "border": "0px solid black"
      }
     },
     "de71579646c04bd8a7096f7d44b2f24d": {
      "model_module": "@jupyter-widgets/base",
      "model_module_version": "1.2.0",
      "model_name": "LayoutModel",
      "state": {}
     },
     "df8a88602b0442ed92e48bb69833c8bb": {
      "model_module": "@jupyter-widgets/controls",
      "model_module_version": "1.5.0",
      "model_name": "DescriptionStyleModel",
      "state": {
       "description_width": ""
      }
     },
     "dfede95878ac499891b37a5821fc8533": {
      "model_module": "@jupyter-widgets/base",
      "model_module_version": "1.2.0",
      "model_name": "LayoutModel",
      "state": {}
     },
     "e00d663a5c734a5aa1b88b9360caba8c": {
      "model_module": "@jupyter-widgets/controls",
      "model_module_version": "1.5.0",
      "model_name": "DescriptionStyleModel",
      "state": {
       "description_width": ""
      }
     },
     "e028adfce743438dad76961e4e0ce154": {
      "model_module": "@jupyter-widgets/base",
      "model_module_version": "1.2.0",
      "model_name": "LayoutModel",
      "state": {}
     },
     "e066492467e24a9aa9a7b81fc5ab8626": {
      "model_module": "@jupyter-widgets/controls",
      "model_module_version": "1.5.0",
      "model_name": "FloatSliderModel",
      "state": {
       "description": "Ball size",
       "layout": "IPY_MODEL_9a63baceb7744eed8d189305ee38d8d1",
       "max": 1.5,
       "step": 0.01,
       "style": "IPY_MODEL_9c6fa529d61549758899dee200123ae6",
       "value": 0.5
      }
     },
     "e13ab194c9894134a98bac68f4742ddb": {
      "model_module": "@jupyter-widgets/controls",
      "model_module_version": "1.5.0",
      "model_name": "HBoxModel",
      "state": {
       "children": [
        "IPY_MODEL_caecb3582f2a4572ae52bb3e3cae3dff",
        "IPY_MODEL_8b814deb2752497aad169deda78415f3"
       ],
       "layout": "IPY_MODEL_fbc1b4a0a66b42c6829e510f4bb2d02a"
      }
     },
     "e17ee337d0e547babe8e1e0fbc7ad2e1": {
      "model_module": "@jupyter-widgets/base",
      "model_module_version": "1.2.0",
      "model_name": "LayoutModel",
      "state": {}
     },
     "e1b36c7c2124449f83930ffaeb20ca44": {
      "model_module": "@jupyter-widgets/base",
      "model_module_version": "1.2.0",
      "model_name": "LayoutModel",
      "state": {}
     },
     "e30c13cc2798431ea667a9687bbe9ec4": {
      "model_module": "@jupyter-widgets/controls",
      "model_module_version": "1.5.0",
      "model_name": "ButtonStyleModel",
      "state": {}
     },
     "e4d95386c07b44e38b7a942aa5755ecc": {
      "model_module": "@jupyter-widgets/controls",
      "model_module_version": "1.5.0",
      "model_name": "HBoxModel",
      "state": {
       "children": [
        "IPY_MODEL_559291bc71e3459c840367eb05cac52f",
        "IPY_MODEL_150c5e3b92e944ca8c4358af8940771a"
       ],
       "layout": "IPY_MODEL_0703e8b5cd5e4fb99b22d1fc369132d4"
      }
     },
     "e4da3a5fb0e94fb0b7b2a6377b380807": {
      "model_module": "@jupyter-widgets/controls",
      "model_module_version": "1.5.0",
      "model_name": "IntSliderModel",
      "state": {
       "layout": "IPY_MODEL_a712e835369a4fa790de8f2d617076ed",
       "max": 0,
       "style": "IPY_MODEL_80a988da22144276a72085de9e302f14"
      }
     },
     "e63ecfa3ca714d7bb4584577f570f16c": {
      "model_module": "@jupyter-widgets/controls",
      "model_module_version": "1.5.0",
      "model_name": "ImageModel",
      "state": {
       "layout": "IPY_MODEL_3d9eb89ffcb34922beac215bea47f07b",
       "width": "900.0"
      }
     },
     "e6eb4131fac3494e84b5823deb10bb34": {
      "model_module": "@jupyter-widgets/base",
      "model_module_version": "1.2.0",
      "model_name": "LayoutModel",
      "state": {
       "width": "34px"
      }
     },
     "e7ffb1a4774c46eebc31d4361cecd4b6": {
      "model_module": "@jupyter-widgets/base",
      "model_module_version": "1.2.0",
      "model_name": "LayoutModel",
      "state": {}
     },
     "e8c5380309b7480e941ef80d90fc549b": {
      "model_module": "@jupyter-widgets/base",
      "model_module_version": "1.2.0",
      "model_name": "LayoutModel",
      "state": {}
     },
     "e8dbcb9c5f3c40fb9344071dcbcc9032": {
      "model_module": "@jupyter-widgets/output",
      "model_module_version": "1.0.0",
      "model_name": "OutputModel",
      "state": {
       "layout": "IPY_MODEL_69598972f634444b9658ae35587e3590"
      }
     },
     "e9600cefd2114041a199e0a3553de5a3": {
      "model_module": "@jupyter-widgets/controls",
      "model_module_version": "1.5.0",
      "model_name": "FloatSliderModel",
      "state": {
       "description": "Force scale",
       "layout": "IPY_MODEL_a89d196e7f6844b4a6581e58049fea1c",
       "step": 0.1,
       "style": "IPY_MODEL_6bc41b7900b046979345acbbba3d3c76",
       "value": 0.5
      }
     },
     "eb047426f39a4e999f0dc5a2a347a2e6": {
      "model_module": "@jupyter-widgets/controls",
      "model_module_version": "1.5.0",
      "model_name": "ImageModel",
      "state": {
       "layout": "IPY_MODEL_08ecd4ddf12b4fb29bbc28c00e122c57",
       "width": "900.0"
      }
     },
     "ebca5cc1fb13494a8b4e07ff98655c20": {
      "model_module": "@jupyter-widgets/controls",
      "model_module_version": "1.5.0",
      "model_name": "FloatSliderModel",
      "state": {
       "description": "Charge scale",
       "layout": "IPY_MODEL_1859dfc2402c452baf33aabf904c8a1a",
       "step": 0.1,
       "style": "IPY_MODEL_bb77a3c9b99743818e819975043526d6",
       "value": 1
      }
     },
     "ebcbee24af41468cbd1d8f166e746995": {
      "model_module": "@jupyter-widgets/controls",
      "model_module_version": "1.5.0",
      "model_name": "SliderStyleModel",
      "state": {
       "description_width": ""
      }
     },
     "ec0cbed1364d4e4f8dda5dfa14379e15": {
      "model_module": "@jupyter-widgets/controls",
      "model_module_version": "1.5.0",
      "model_name": "DescriptionStyleModel",
      "state": {
       "description_width": ""
      }
     },
     "ed0aa9246b7846b3b435dd325f2f57d4": {
      "model_module": "@jupyter-widgets/controls",
      "model_module_version": "1.5.0",
      "model_name": "DropdownModel",
      "state": {
       "_options_labels": [
        " ",
        "picking",
        "random",
        "uniform",
        "atomindex",
        "residueindex",
        "chainindex",
        "modelindex",
        "sstruc",
        "element",
        "resname",
        "bfactor",
        "hydrophobicity",
        "value",
        "volume",
        "occupancy"
       ],
       "description": "Color scheme",
       "index": 9,
       "layout": "IPY_MODEL_42a754e458a045038ece2e0ada8f516a",
       "style": "IPY_MODEL_d93b52ae7fd94119961a90c9fe7378c0"
      }
     },
     "ed31e536d302421886cd581f08c0a0e9": {
      "model_module": "@jupyter-widgets/base",
      "model_module_version": "1.2.0",
      "model_name": "LayoutModel",
      "state": {
       "border": "0px solid black"
      }
     },
     "ee119229aebf453a9a443feaf894475b": {
      "model_module": "@jupyter-widgets/base",
      "model_module_version": "1.2.0",
      "model_name": "LayoutModel",
      "state": {}
     },
     "ee12c6af6e1d445fa3aac81e2614b714": {
      "model_module": "@jupyter-widgets/controls",
      "model_module_version": "1.5.0",
      "model_name": "LinkModel",
      "state": {
       "source": [
        "IPY_MODEL_675e20e48fb04de5b8736f3c7e26c039",
        "value"
       ],
       "target": [
        "IPY_MODEL_8a743c4103d74eb7b90e7b72e74794b7",
        "value"
       ]
      }
     },
     "ee8acd0434f34ccd93038f7fe85888d0": {
      "model_module": "@jupyter-widgets/controls",
      "model_module_version": "1.5.0",
      "model_name": "IntSliderModel",
      "state": {
       "layout": "IPY_MODEL_9dffa618fdc643bcac78e00960e4703f",
       "max": 99,
       "style": "IPY_MODEL_571e01d1590c42c19f29803aee9a5118"
      }
     },
     "efc0c48bb8024789b130dabefcddd5e5": {
      "model_module": "@jupyter-widgets/controls",
      "model_module_version": "1.5.0",
      "model_name": "DescriptionStyleModel",
      "state": {
       "description_width": ""
      }
     },
     "f0675251185c4cac831c4deb0f2eb0c9": {
      "model_module": "@jupyter-widgets/controls",
      "model_module_version": "1.5.0",
      "model_name": "ButtonModel",
      "state": {
       "description": "Save image",
       "layout": "IPY_MODEL_3a1160078c234ed6b4673fe4b5aaec80",
       "style": "IPY_MODEL_8217215fe2574beba3cbd46f795d67cd",
       "tooltip": "Save current frame to file.\nCurrently .png and .html are supported.\nIt takes a bit time, please be patient."
      }
     },
     "f1ac9f75f11c44458b701e36874af9f4": {
      "model_module": "@jupyter-widgets/controls",
      "model_module_version": "1.5.0",
      "model_name": "DescriptionStyleModel",
      "state": {
       "description_width": ""
      }
     },
     "f5203da07d2a44c5b2e4d398d14086d8": {
      "model_module": "@jupyter-widgets/controls",
      "model_module_version": "1.5.0",
      "model_name": "DescriptionStyleModel",
      "state": {
       "description_width": ""
      }
     },
     "f52ca110574e41fcb2bfd07e9c0abdae": {
      "model_module": "@jupyter-widgets/controls",
      "model_module_version": "1.5.0",
      "model_name": "DescriptionStyleModel",
      "state": {
       "description_width": ""
      }
     },
     "f545ca718d0140ec8365971f07e1ce6c": {
      "model_module": "@jupyter-widgets/controls",
      "model_module_version": "1.5.0",
      "model_name": "ButtonModel",
      "state": {
       "description": "Save image",
       "layout": "IPY_MODEL_0f3bdb6423b44bebb124065a8940fdc6",
       "style": "IPY_MODEL_06b639a0ef5d45debb6e25e2212a4120",
       "tooltip": "Save current frame to file.\nCurrently .png and .html are supported.\nIt takes a bit time, please be patient."
      }
     },
     "f5e8f9f887a5481e8f6dc293973a2168": {
      "model_module": "@jupyter-widgets/controls",
      "model_module_version": "1.5.0",
      "model_name": "LinkModel",
      "state": {
       "source": [
        "IPY_MODEL_284bc77a586442f4bea02f06487c482e",
        "value"
       ],
       "target": [
        "IPY_MODEL_559291bc71e3459c840367eb05cac52f",
        "frame"
       ]
      }
     },
     "f705a54faedb462ca518452fb1838df7": {
      "model_module": "@jupyter-widgets/base",
      "model_module_version": "1.2.0",
      "model_name": "LayoutModel",
      "state": {}
     },
     "f83c146936774bfc8b5677564c62d14b": {
      "model_module": "@jupyter-widgets/controls",
      "model_module_version": "1.5.0",
      "model_name": "HBoxModel",
      "state": {
       "children": [
        "IPY_MODEL_749a74ca5a7a4912a35fa95052b28fa5",
        "IPY_MODEL_d2153d7361c2467cb599f18d9acda449"
       ],
       "layout": "IPY_MODEL_1f9d358aed784f5882506106bf5aa4bb"
      }
     },
     "f99174bec2174b7bb1a8d278c15b1490": {
      "model_module": "@jupyter-widgets/base",
      "model_module_version": "1.2.0",
      "model_name": "LayoutModel",
      "state": {}
     },
     "fb4932a87e2a4cfbaec11c069d4f700b": {
      "model_module": "@jupyter-widgets/controls",
      "model_module_version": "1.5.0",
      "model_name": "HBoxModel",
      "state": {
       "children": [
        "IPY_MODEL_ade5f14d43194b268a3effeeb4d06417",
        "IPY_MODEL_730b75467f1e478dbb95b2b971cc8563"
       ],
       "layout": "IPY_MODEL_38c8bd49817b44598009c6c719b98268"
      }
     },
     "fbc1b4a0a66b42c6829e510f4bb2d02a": {
      "model_module": "@jupyter-widgets/base",
      "model_module_version": "1.2.0",
      "model_name": "LayoutModel",
      "state": {}
     },
     "ff1c7cbe7aa2476d8513e36e28d8a46c": {
      "model_module": "@jupyter-widgets/controls",
      "model_module_version": "1.5.0",
      "model_name": "SliderStyleModel",
      "state": {
       "description_width": ""
      }
     }
    },
    "version_major": 2,
    "version_minor": 0
   }
  }
 },
 "nbformat": 4,
 "nbformat_minor": 5
}
